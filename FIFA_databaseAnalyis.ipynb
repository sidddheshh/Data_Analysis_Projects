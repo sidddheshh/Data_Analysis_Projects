{
  "cells": [
    {
      "cell_type": "markdown",
      "metadata": {
        "id": "view-in-github",
        "colab_type": "text"
      },
      "source": [
        "<a href=\"https://colab.research.google.com/github/sidddheshh/IMDB_datasetAnalysis/blob/main/FIFA_databaseAnalyis.ipynb\" target=\"_parent\"><img src=\"https://colab.research.google.com/assets/colab-badge.svg\" alt=\"Open In Colab\"/></a>"
      ]
    },
    {
      "cell_type": "markdown",
      "metadata": {
        "id": "__aTd7zaM2p6"
      },
      "source": [
        "# INTRODUCTION\n",
        "**Performing Data Analysis on FIFA Players Live Data.**\n",
        "\n",
        "Link: https://sofifa.com/players?r=230011&set=true&offset="
      ]
    },
    {
      "cell_type": "markdown",
      "metadata": {
        "id": "23bRVioPppqs"
      },
      "source": [
        "**FLOW**:\n",
        "1. Scrap the data.\n",
        "2. Data Cleaning.\n",
        "3. convert data into DataFrame\n",
        "4. perform the Data Analysis(EDA)-DC,DE,DM,DV\n"
      ]
    },
    {
      "cell_type": "code",
      "execution_count": null,
      "metadata": {
        "colab": {
          "base_uri": "https://localhost:8080/"
        },
        "id": "xDVo93hfppBB",
        "outputId": "7481d492-86c5-45ba-8e94-98b0a2c411ef"
      },
      "outputs": [
        {
          "output_type": "stream",
          "name": "stdout",
          "text": [
            "https://sofifa.com/players?offset=0\n",
            "https://sofifa.com/players?offset=60\n",
            "https://sofifa.com/players?offset=120\n",
            "https://sofifa.com/players?offset=180\n",
            "https://sofifa.com/players?offset=240\n",
            "https://sofifa.com/players?offset=300\n",
            "https://sofifa.com/players?offset=360\n",
            "https://sofifa.com/players?offset=420\n",
            "https://sofifa.com/players?offset=480\n",
            "https://sofifa.com/players?offset=540\n"
          ]
        }
      ],
      "source": [
        "# Q1. Give the logic to print the URL for all the 10 pages fo the given website\n",
        "for i in range(10):\n",
        "  print(f\"https://sofifa.com/players?offset={i*60}\")\n"
      ]
    },
    {
      "cell_type": "markdown",
      "metadata": {
        "id": "F3FpG7SlPRJJ"
      },
      "source": [
        "# Importing Libraries"
      ]
    },
    {
      "cell_type": "code",
      "execution_count": null,
      "metadata": {
        "id": "jHWdZjJ0sSZu"
      },
      "outputs": [],
      "source": [
        "import pandas as pd\n",
        "import numpy as np\n",
        "import seaborn as sns\n",
        "import re\n",
        "import matplotlib.pyplot as plt\n",
        "from bs4 import BeautifulSoup\n",
        "import requests"
      ]
    },
    {
      "cell_type": "markdown",
      "metadata": {
        "id": "OJri97eDVeRq"
      },
      "source": [
        "# Scraping Data from Website"
      ]
    },
    {
      "cell_type": "code",
      "execution_count": null,
      "metadata": {
        "id": "1Ju18NE3vKaT"
      },
      "outputs": [],
      "source": [
        "# defining URL variable and headers as user agent to gain access \n",
        "\n",
        "url='https://sofifa.com/players?r=230011&set=true&offset=' \n",
        "headers = {'User-Agent': 'Mozilla/5.0 (Windows NT 10.0; Win64; x64) AppleWebKit/537.36 (KHTML, like Gecko) Chrome/109.0.0.0 Safari/537.36'}"
      ]
    },
    {
      "cell_type": "code",
      "execution_count": null,
      "metadata": {
        "id": "o3qgHLOMvKcg"
      },
      "outputs": [],
      "source": [
        "# creating a request variable and extracting data using GET request \n",
        "\n",
        "req = requests.get(url, headers=headers)"
      ]
    },
    {
      "cell_type": "code",
      "execution_count": null,
      "metadata": {
        "colab": {
          "base_uri": "https://localhost:8080/"
        },
        "id": "9BJVVn7S1tTF",
        "outputId": "5e2756f3-5e1e-4e00-a4c8-09d08423412a"
      },
      "outputs": [
        {
          "output_type": "execute_result",
          "data": {
            "text/plain": [
              "200"
            ]
          },
          "metadata": {},
          "execution_count": 7
        }
      ],
      "source": [
        "# status = 200 means \"OK\"\n",
        "req.status_code"
      ]
    },
    {
      "cell_type": "code",
      "execution_count": null,
      "metadata": {
        "id": "23L5F-bEQZ_Y"
      },
      "outputs": [],
      "source": [
        "# scraping data\n",
        "\n",
        "soup=BeautifulSoup(req.content)"
      ]
    },
    {
      "cell_type": "code",
      "execution_count": null,
      "metadata": {
        "colab": {
          "base_uri": "https://localhost:8080/"
        },
        "id": "iuBeTtRzVU9g",
        "outputId": "b722d0ad-a90e-4a27-f51a-aa7c18fb2531"
      },
      "outputs": [
        {
          "output_type": "execute_result",
          "data": {
            "text/plain": [
              "'<!DOCTYPE html>\\n<html lang=\"en-US\">\\n <head id=\"head\">\\n  <title>\\n   Players FIFA 23 Jan 25, 2023 SoFIFA\\n  </title>\\n  <meta charset=\"utf-8\"/>\\n  <meta content=\"width=device-width, initial-scale=1\" name=\"viewport\"/>\\n  <meta content=\"VGaFvm9Qm-qhCd2LCDi8QKWXNPSrVE2SJ2iT8c3vI1g\" name=\"google-site-verification\"/>\\n  <meta content=\"FIFA 23 player ratings on Jan 25, 2023\" name=\"description\"/>\\n  <meta content=\"2009 - 2023 SoFIFA.com\" name=\"copyright\"/>\\n  <meta content=\"light\" name=\"twitter:widgets:theme\"/>\\n  <meta content=\"#e6e6e6\" name=\"twitter:widgets:border-color\"/>\\n  <link href=\"https://static.sofifa.net/launcher-icon.png\" rel=\"shortcut icon\"/>\\n  <link href=\"https://static.sofifa.net/launcher-icon.png\" rel=\"apple-touch-icon\"/>\\n  <script>\\n   window.ramp = window.ramp || {};window.ramp.que = window.ramp.que || [];\\n  </script>\\n  <link href=\"https://sofifa.com/players?hl=en-US\" hreflang=\"en\" rel=\"alternate\"/>\\n  <link href=\"https://sofifa.com/players?hl=fr-FR\" hreflang=\"fr\" rel=\"alternate\"/>\\n  <link href=\"https://sofifa.com/players?hl=de-DE\" hreflang=\"de\" rel=\"alternate\"/>\\n  <link href=\"https://sofifa.com/players?hl=es-ES\" hreflang=\"es\" rel=\"alternate\"/>\\n  <link href=\"https://sofifa.com/players?hl=it-IT\" hreflang=\"it\" rel=\"alternate\"/>\\n  <link href=\"https://sofifa.com/players?hl=pt-BR\" hreflang=\"pt-BR\" rel=\"alternate\"/>\\n  <link href=\"https://sofifa.com/players?hl=nl-NL\" hreflang=\"nl\" rel=\"alternate\"/>\\n  <link href=\"https://sofifa.com/players?hl=ko-KR\" hreflang=\"ko\" rel=\"alternate\"/>\\n  <link href=\"https://sofifa.com/players?hl=pl-PL\" hreflang=\"pl\" rel=\"alternate\"/>\\n  <link href=\"https://sofifa.com/players?hl=zh-CN\" hreflang=\"zh-CN\" rel=\"alternate\"/>\\n  <link href=\"https://sofifa.com/players?hl=ru-RU\" hreflang=\"ru\" rel=\"alternate\"/>\\n  <link href=\"https://sofifa.com/players?hl=ja-JP\" hreflang=\"ja\" rel=\"alternate\"/>\\n  <link href=\"https://sofifa.com/players?hl=sv-SE\" hreflang=\"sv\" rel=\"alternate\"/>\\n  <link href=\"https://sofifa.com/players?hl=da-DK\" hreflang=\"da\" rel=\"alternate\"/>\\n  <link href=\"https://sofifa.com/players?hl=pt-PT\" hreflang=\"pt-PT\" rel=\"alternate\"/>\\n  <link href=\"https://sofifa.com/players?hl=nn-NO\" hreflang=\"nn\" rel=\"alternate\"/>\\n  <link href=\"https://sofifa.com/players?hl=hu-HU\" hreflang=\"hu\" rel=\"alternate\"/>\\n  <link href=\"https://sofifa.com/players?hl=cs-CZ\" hreflang=\"cs\" rel=\"alternate\"/>\\n  <link href=\"https://sofifa.com/players?hl=fi-FI\" hreflang=\"fi\" rel=\"alternate\"/>\\n  <link href=\"https://sofifa.com/players?hl=uk-UA\" hreflang=\"uk\" rel=\"alternate\"/>\\n  <link href=\"https://sofifa.com/players?hl=tr-TR\" hreflang=\"tr\" rel=\"alternate\"/>\\n  <link href=\"https://sofifa.com/players?hl=zh-HK\" hreflang=\"zh-HK\" rel=\"alternate\"/>\\n  <link href=\"https://sofifa.com/players?hl=ar-AA\" hreflang=\"ar\" rel=\"alternate\"/>\\n  <link href=\"https://sofifa.com/players\" rel=\"canonical\"/>\\n  <link href=\"https://static.sofifa.net/css/desktop.min.css\" rel=\"stylesheet\"/>\\n  <script>\\n   let CDN=\\'https://cdn.sofifa.net\\',CDN_VERSION=\\'20210431\\',HL=\\'en-US\\',THEME=\\'light\\',GENDER=0,IS_MOBILE=false,USER_ID=0,USER_AVATAR=\\'https://cdn.sofifa.net/avatar?name=Guest\\',BLOCK=\\'Block\\',UNBLOCK=\\'Unblock\\',FOLLOW=\\'Follow\\',UNFOLLOW=\\'Unfollow\\',CHOOSE_FILE=\\'Choose file...\\',UPLOADING=\\'Uploading...\\',CHANGE=\\'Change\\',UPDATED=\\'Updated\\',DELETE_CONFIRM=\\'Do you want to remove this item?\\',CANCEL=\\'Cancel\\',OK=\\'OK\\',CLOSE=\\'Close\\',BLOCK_CONFIRM=\\'Do you want to block this user?<br>You could change the settings under the \\\\\"My Relations\\\\\" section later.\\',HISTORY_VERSION=\\'History Version\\',VERSION=\\'23\\', ROSTER=\\'230011\\',FONT=14,LOAD_MORE_COMMENTS=\\'Load more comments\\',ADD_A_COMMENT=\\'Add a comment\\',SORT_BY_NEWEST=\\'Sort by Newest\\',SORT_BY_BEST=\\'Sort by Best\\',MY_COMMENTS=\\'My comments\\',POST=\\'Post\\',JUST_NOW=\\'just now\\',COLLAPSE_REPLIES=\\'Collapse replies\\',COPY_URL=\\'Copy URL\\',REPORT=\\'Report\\',UPVOTE=\\'Upvote\\',DOWNVOTE=\\'Downvote\\',EDIT=\\'Edit\\',REPLY=\\'Reply\\',APPROVE=\\'Approve\\',REMOVE=\\'Remove\\',SHOW_FULL_COMMENT=\\'Show full comment\\',LOAD_IMAGE=\\'Load image\\',CANCEL_REPLY=\\'Cancel reply\\',REPLY_TO_THIS_COMMENT=\\'Reply to this comment\\',CANCEL_EDIT=\\'Cancel edit\\',EDIT_THIS_COMMENT=\\'Edit this comment\\',EXPAND_REPLIES=\\'Expand replies\\',PLEASE_CHOOSE_A_REASON=\\'Please choose a reason\\',RACISM=\\'Racism\\',INSULT=\\'Insult\\',SPAMMING=\\'Spamming\\',PORN=\\'Porn\\',PRIVATE_INFO=\\'Private info\\',OTHER=\\'Other\\',DESCRIPTION_OPTIONAL=\\'Description (optional)\\',SAVING=\\'Saving ...\\',OPERATION_SUCCEED=\\'Operation Succeeded\\',TYPE_TO_SEARCH=\\'Type to search\\',AI_MODERATION=1;\\n  </script>\\n </head>\\n <body class=\"is-preload \" data-class=\"is-preload \" id=\"body\" lang=\"en-US\">\\n  <header>\\n   <nav class=\"bp3-navbar\">\\n    <div class=\"center\">\\n     <div class=\"bp3-navbar-group bp3-align-left reset\">\\n      <div class=\"bp3-navbar-heading\">\\n       <a href=\"/\" rel=\"nofollow\">\\n        <img alt=\"SoFIFA\" height=\"30\" src=\"https://cdn.sofifa.net/images/launcher-icon.png\" width=\"30\"/>\\n       </a>\\n      </div>\\n      <a class=\"bp3-button bp3-minimal\" href=\"/players\">\\n       Players\\n      </a>\\n      <a class=\"bp3-button bp3-minimal\" href=\"/teams\">\\n       Teams\\n      </a>\\n      <a class=\"bp3-button bp3-minimal\" href=\"/squads\">\\n       Squads\\n      </a>\\n      <a class=\"bp3-button bp3-minimal\" href=\"/shortlists\">\\n       Shortlists\\n      </a>\\n      <a class=\"bp3-button bp3-minimal\" href=\"/discussion/1\" rel=\"nofollow\">\\n       Discussions\\n      </a>\\n     </div>\\n     <div class=\"bp3-navbar-group bp3-align-right\">\\n      <a class=\"bp3-button bp3-minimal need-sign-in\" href=\"/signIn\" rel=\"nofollow\" role=\"button\" tabindex=\"101\">\\n       Sign in\\n      </a>\\n      <div class=\"dropdown dropdown-right\">\\n       <a class=\"bp3-button bp3-minimal block dropdown-toggle\" href=\"javascript:void(0);\" rel=\"nofollow\" role=\"button\" tabindex=\"102\" title=\"Settings\">\\n        <span class=\"bp3-icon\">\\n         <svg height=\"18\" viewbox=\"0 0 24 24\" width=\"18\">\\n          <circle cx=\"12\" cy=\"12\" r=\"3\">\\n          </circle>\\n          <path d=\"M19.4 15a1.65 1.65 0 0 0 .33 1.82l.06.06a2 2 0 0 1 0 2.83 2 2 0 0 1-2.83 0l-.06-.06a1.65 1.65 0 0 0-1.82-.33 1.65 1.65 0 0 0-1 1.51V21a2 2 0 0 1-2 2 2 2 0 0 1-2-2v-.09A1.65 1.65 0 0 0 9 19.4a1.65 1.65 0 0 0-1.82.33l-.06.06a2 2 0 0 1-2.83 0 2 2 0 0 1 0-2.83l.06-.06a1.65 1.65 0 0 0 .33-1.82 1.65 1.65 0 0 0-1.51-1H3a2 2 0 0 1-2-2 2 2 0 0 1 2-2h.09A1.65 1.65 0 0 0 4.6 9a1.65 1.65 0 0 0-.33-1.82l-.06-.06a2 2 0 0 1 0-2.83 2 2 0 0 1 2.83 0l.06.06a1.65 1.65 0 0 0 1.82.33H9a1.65 1.65 0 0 0 1-1.51V3a2 2 0 0 1 2-2 2 2 0 0 1 2 2v.09a1.65 1.65 0 0 0 1 1.51 1.65 1.65 0 0 0 1.82-.33l.06-.06a2 2 0 0 1 2.83 0 2 2 0 0 1 0 2.83l-.06.06a1.65 1.65 0 0 0-.33 1.82V9a1.65 1.65 0 0 0 1.51 1H21a2 2 0 0 1 2 2 2 2 0 0 1-2 2h-.09a1.65 1.65 0 0 0-1.51 1z\">\\n          </path>\\n         </svg>\\n        </span>\\n       </a>\\n       <div class=\"bp3-menu\">\\n        <div class=\"bp3-menu-header\">\\n         Gender\\n        </div>\\n        <a class=\"bp3-menu-item bp3-active\" href=\"/players?r=230011&amp;set=true&amp;gender=0\" rel=\"nofollow\" role=\"button\">\\n         Men\\n        </a>\\n        <a class=\"bp3-menu-item\" href=\"/players?r=230011&amp;set=true&amp;gender=1\" rel=\"nofollow\" role=\"button\">\\n         Women\\n        </a>\\n        <div class=\"bp3-menu-header\">\\n         Units\\n        </div>\\n        <a class=\"bp3-menu-item\" href=\"/players?r=230011&amp;set=true&amp;units=imperial\" rel=\"nofollow\" role=\"button\">\\n         feet inches / lbs\\n        </a>\\n        <a class=\"bp3-menu-item bp3-active\" href=\"/players?r=230011&amp;set=true&amp;units=mks\" rel=\"nofollow\" role=\"button\">\\n         cm / kg\\n        </a>\\n        <div class=\"bp3-menu-header\">\\n         Currency\\n        </div>\\n        <a class=\"bp3-menu-item bp3-active\" href=\"/players?r=230011&amp;set=true&amp;currency=EUR\" rel=\"nofollow\" role=\"button\">\\n         € EUR\\n        </a>\\n        <a class=\"bp3-menu-item\" href=\"/players?r=230011&amp;set=true&amp;currency=USD\" rel=\"nofollow\" role=\"button\">\\n         $ USD\\n        </a>\\n        <a class=\"bp3-menu-item\" href=\"/players?r=230011&amp;set=true&amp;currency=GBP\" rel=\"nofollow\" role=\"button\">\\n         £ GBP\\n        </a>\\n        <div class=\"bp3-menu-header\">\\n         Color schema\\n        </div>\\n        <a class=\"bp3-menu-item bp3-active\" href=\"/players?r=230011&amp;set=true&amp;engine=frostbite\" rel=\"nofollow\" role=\"button\">\\n         Frostbite\\n        </a>\\n        <a class=\"bp3-menu-item\" href=\"/players?r=230011&amp;set=true&amp;engine=ignite\" rel=\"nofollow\" role=\"button\">\\n         Ignite\\n        </a>\\n        <a class=\"bp3-menu-item\" href=\"/players?r=230011&amp;set=true&amp;engine=impact\" rel=\"nofollow\" role=\"button\">\\n         Impact\\n        </a>\\n        <div class=\"bp3-menu-header\">\\n         Potential\\n        </div>\\n        <a class=\"bp3-menu-item bp3-active\" href=\"/players?r=230011&amp;set=true&amp;potential=show\" rel=\"nofollow\" role=\"button\">\\n         Show\\n        </a>\\n        <a class=\"bp3-menu-item\" href=\"/players?r=230011&amp;set=true&amp;potential=hide\" rel=\"nofollow\" role=\"button\">\\n         Hide\\n        </a>\\n       </div>\\n      </div>\\n      <label class=\"bp3-button bp3-minimal block\" for=\"theme\">\\n       <input checked=\"\" class=\"hide\" id=\"theme\" name=\"theme\" type=\"checkbox\" value=\"light\"/>\\n       <span class=\"bp3-icon\">\\n        <svg height=\"18\" viewbox=\"0 0 24 24\" width=\"18\">\\n         <path d=\"M12 18q2.484 0 4.242-1.758t1.758-4.242-1.758-4.242-4.242-1.758q-1.219 0-2.484 0.563 1.547 0.703 2.508 2.18t0.961 3.258-0.961 3.258-2.508 2.18q1.266 0.563 2.484 0.563zM20.016 8.672l3.281 3.328-3.281 3.328v4.688h-4.688l-3.328 3.281-3.328-3.281h-4.688v-4.688l-3.281-3.328 3.281-3.328v-4.688h4.688l3.328-3.281 3.328 3.281h4.688v4.688z\">\\n         </path>\\n        </svg>\\n       </span>\\n      </label>\\n      <a class=\"bp3-button bp3-minimal lang-toggle\" href=\"javascript:void(0);\" rel=\"nofollow\" role=\"button\" tabindex=\"104\">\\n       <img alt=\"\" class=\"flag\" data-src=\"https://cdn.sofifa.net/flags/us.png\" data-srcset=\"https://cdn.sofifa.net/flags/us@2x.png 2x, https://cdn.sofifa.net/flags/us@3x.png 3x\" height=\"16\" src=\"https://cdn.sofifa.net/pixel.gif\" title=\"United States\" width=\"21\"/>\\n       <span class=\"bp3-icon\">\\n        <svg height=\"16\" viewbox=\"0 0 24 24\" width=\"16\">\\n         <polyline points=\"6 9 12 15 18 9\">\\n         </polyline>\\n        </svg>\\n       </span>\\n      </a>\\n     </div>\\n    </div>\\n   </nav>\\n   <div class=\"header hide\" id=\"lang\">\\n    <div class=\"center\">\\n     <a class=\"bp3-button bp3-minimal lang\" href=\"/players?r=230011&amp;set=true&amp;hl=en-US\" rel=\"nofollow\" role=\"button\">\\n      <img alt=\"\" class=\"flag\" data-src=\"https://cdn.sofifa.net/flags/us.png\" data-srcset=\"https://cdn.sofifa.net/flags/us@2x.png 2x, https://cdn.sofifa.net/flags/us@3x.png 3x\" height=\"16\" src=\"https://cdn.sofifa.net/pixel.gif\" title=\"United States\" width=\"21\"/>\\n      English\\n     </a>\\n     <a class=\"bp3-button bp3-minimal lang\" href=\"/players?r=230011&amp;set=true&amp;hl=de-DE\" rel=\"nofollow\" role=\"button\">\\n      <img alt=\"\" class=\"flag\" data-src=\"https://cdn.sofifa.net/flags/de.png\" data-srcset=\"https://cdn.sofifa.net/flags/de@2x.png 2x, https://cdn.sofifa.net/flags/de@3x.png 3x\" height=\"16\" src=\"https://cdn.sofifa.net/pixel.gif\" title=\"Germany\" width=\"21\"/>\\n      Deutsch\\n     </a>\\n     <a class=\"bp3-button bp3-minimal lang\" href=\"/players?r=230011&amp;set=true&amp;hl=pt-BR\" rel=\"nofollow\" role=\"button\">\\n      <img alt=\"\" class=\"flag\" data-src=\"https://cdn.sofifa.net/flags/br.png\" data-srcset=\"https://cdn.sofifa.net/flags/br@2x.png 2x, https://cdn.sofifa.net/flags/br@3x.png 3x\" height=\"16\" src=\"https://cdn.sofifa.net/pixel.gif\" title=\"Brazil\" width=\"21\"/>\\n      Português Brasileiro\\n     </a>\\n     <a class=\"bp3-button bp3-minimal lang\" href=\"/players?r=230011&amp;set=true&amp;hl=fr-FR\" rel=\"nofollow\" role=\"button\">\\n      <img alt=\"\" class=\"flag\" data-src=\"https://cdn.sofifa.net/flags/fr.png\" data-srcset=\"https://cdn.sofifa.net/flags/fr@2x.png 2x, https://cdn.sofifa.net/flags/fr@3x.png 3x\" height=\"16\" src=\"https://cdn.sofifa.net/pixel.gif\" title=\"France\" width=\"21\"/>\\n      Français\\n     </a>\\n     <a class=\"bp3-button bp3-minimal lang\" href=\"/players?r=230011&amp;set=true&amp;hl=es-ES\" rel=\"nofollow\" role=\"button\">\\n      <img alt=\"\" class=\"flag\" data-src=\"https://cdn.sofifa.net/flags/es.png\" data-srcset=\"https://cdn.sofifa.net/flags/es@2x.png 2x, https://cdn.sofifa.net/flags/es@3x.png 3x\" height=\"16\" src=\"https://cdn.sofifa.net/pixel.gif\" title=\"Spain\" width=\"21\"/>\\n      Español\\n     </a>\\n     <a class=\"bp3-button bp3-minimal lang\" href=\"/players?r=230011&amp;set=true&amp;hl=it-IT\" rel=\"nofollow\" role=\"button\">\\n      <img alt=\"\" class=\"flag\" data-src=\"https://cdn.sofifa.net/flags/it.png\" data-srcset=\"https://cdn.sofifa.net/flags/it@2x.png 2x, https://cdn.sofifa.net/flags/it@3x.png 3x\" height=\"16\" src=\"https://cdn.sofifa.net/pixel.gif\" title=\"Italy\" width=\"21\"/>\\n      Italiano\\n     </a>\\n     <a class=\"bp3-button bp3-minimal lang\" href=\"/players?r=230011&amp;set=true&amp;hl=nl-NL\" rel=\"nofollow\" role=\"button\">\\n      <img alt=\"\" class=\"flag\" data-src=\"https://cdn.sofifa.net/flags/nl.png\" data-srcset=\"https://cdn.sofifa.net/flags/nl@2x.png 2x, https://cdn.sofifa.net/flags/nl@3x.png 3x\" height=\"16\" src=\"https://cdn.sofifa.net/pixel.gif\" title=\"Netherlands\" width=\"21\"/>\\n      Dutch\\n     </a>\\n     <a class=\"bp3-button bp3-minimal lang\" href=\"/players?r=230011&amp;set=true&amp;hl=ja-JP\" rel=\"nofollow\" role=\"button\">\\n      <img alt=\"\" class=\"flag\" data-src=\"https://cdn.sofifa.net/flags/jp.png\" data-srcset=\"https://cdn.sofifa.net/flags/jp@2x.png 2x, https://cdn.sofifa.net/flags/jp@3x.png 3x\" height=\"16\" src=\"https://cdn.sofifa.net/pixel.gif\" title=\"Japan\" width=\"21\"/>\\n      日本語\\n     </a>\\n     <a class=\"bp3-button bp3-minimal lang\" href=\"/players?r=230011&amp;set=true&amp;hl=pl-PL\" rel=\"nofollow\" role=\"button\">\\n      <img alt=\"\" class=\"flag\" data-src=\"https://cdn.sofifa.net/flags/pl.png\" data-srcset=\"https://cdn.sofifa.net/flags/pl@2x.png 2x, https://cdn.sofifa.net/flags/pl@3x.png 3x\" height=\"16\" src=\"https://cdn.sofifa.net/pixel.gif\" title=\"Poland\" width=\"21\"/>\\n      Polski\\n     </a>\\n     <a class=\"bp3-button bp3-minimal lang\" href=\"/players?r=230011&amp;set=true&amp;hl=tr-TR\" rel=\"nofollow\" role=\"button\">\\n      <img alt=\"\" class=\"flag\" data-src=\"https://cdn.sofifa.net/flags/tr.png\" data-srcset=\"https://cdn.sofifa.net/flags/tr@2x.png 2x, https://cdn.sofifa.net/flags/tr@3x.png 3x\" height=\"16\" src=\"https://cdn.sofifa.net/pixel.gif\" title=\"Turkey\" width=\"21\"/>\\n      Türkçe\\n     </a>\\n     <a class=\"bp3-button bp3-minimal lang\" href=\"/players?r=230011&amp;set=true&amp;hl=zh-CN\" rel=\"nofollow\" role=\"button\">\\n      <img alt=\"\" class=\"flag\" data-src=\"https://cdn.sofifa.net/flags/cn.png\" data-srcset=\"https://cdn.sofifa.net/flags/cn@2x.png 2x, https://cdn.sofifa.net/flags/cn@3x.png 3x\" height=\"16\" src=\"https://cdn.sofifa.net/pixel.gif\" title=\"China PR\" width=\"21\"/>\\n      中文(简体)\\n     </a>\\n     <a class=\"bp3-button bp3-minimal lang\" href=\"/players?r=230011&amp;set=true&amp;hl=sv-SE\" rel=\"nofollow\" role=\"button\">\\n      <img alt=\"\" class=\"flag\" data-src=\"https://cdn.sofifa.net/flags/se.png\" data-srcset=\"https://cdn.sofifa.net/flags/se@2x.png 2x, https://cdn.sofifa.net/flags/se@3x.png 3x\" height=\"16\" src=\"https://cdn.sofifa.net/pixel.gif\" title=\"Sweden\" width=\"21\"/>\\n      Svenska\\n     </a>\\n     <a class=\"bp3-button bp3-minimal lang\" href=\"/players?r=230011&amp;set=true&amp;hl=ru-RU\" rel=\"nofollow\" role=\"button\">\\n      <img alt=\"\" class=\"flag\" data-src=\"https://cdn.sofifa.net/flags/ru.png\" data-srcset=\"https://cdn.sofifa.net/flags/ru@2x.png 2x, https://cdn.sofifa.net/flags/ru@3x.png 3x\" height=\"16\" src=\"https://cdn.sofifa.net/pixel.gif\" title=\"Russia\" width=\"21\"/>\\n      Русский\\n     </a>\\n     <a class=\"bp3-button bp3-minimal lang\" href=\"/players?r=230011&amp;set=true&amp;hl=pt-PT\" rel=\"nofollow\" role=\"button\">\\n      <img alt=\"\" class=\"flag\" data-src=\"https://cdn.sofifa.net/flags/pt.png\" data-srcset=\"https://cdn.sofifa.net/flags/pt@2x.png 2x, https://cdn.sofifa.net/flags/pt@3x.png 3x\" height=\"16\" src=\"https://cdn.sofifa.net/pixel.gif\" title=\"Portugal\" width=\"21\"/>\\n      Português\\n     </a>\\n     <a class=\"bp3-button bp3-minimal lang\" href=\"/players?r=230011&amp;set=true&amp;hl=ko-KR\" rel=\"nofollow\" role=\"button\">\\n      <img alt=\"\" class=\"flag\" data-src=\"https://cdn.sofifa.net/flags/kr.png\" data-srcset=\"https://cdn.sofifa.net/flags/kr@2x.png 2x, https://cdn.sofifa.net/flags/kr@3x.png 3x\" height=\"16\" src=\"https://cdn.sofifa.net/pixel.gif\" title=\"Korea Republic\" width=\"21\"/>\\n      한국어\\n     </a>\\n     <a class=\"bp3-button bp3-minimal lang\" href=\"/players?r=230011&amp;set=true&amp;hl=da-DK\" rel=\"nofollow\" role=\"button\">\\n      <img alt=\"\" class=\"flag\" data-src=\"https://cdn.sofifa.net/flags/dk.png\" data-srcset=\"https://cdn.sofifa.net/flags/dk@2x.png 2x, https://cdn.sofifa.net/flags/dk@3x.png 3x\" height=\"16\" src=\"https://cdn.sofifa.net/pixel.gif\" title=\"Denmark\" width=\"21\"/>\\n      Dansk\\n     </a>\\n     <a class=\"bp3-button bp3-minimal lang\" href=\"/players?r=230011&amp;set=true&amp;hl=nn-NO\" rel=\"nofollow\" role=\"button\">\\n      <img alt=\"\" class=\"flag\" data-src=\"https://cdn.sofifa.net/flags/no.png\" data-srcset=\"https://cdn.sofifa.net/flags/no@2x.png 2x, https://cdn.sofifa.net/flags/no@3x.png 3x\" height=\"16\" src=\"https://cdn.sofifa.net/pixel.gif\" title=\"Norway\" width=\"21\"/>\\n      Norsk\\n     </a>\\n     <a class=\"bp3-button bp3-minimal lang\" href=\"/players?r=230011&amp;set=true&amp;hl=hu-HU\" rel=\"nofollow\" role=\"button\">\\n      <img alt=\"\" class=\"flag\" data-src=\"https://cdn.sofifa.net/flags/hu.png\" data-srcset=\"https://cdn.sofifa.net/flags/hu@2x.png 2x, https://cdn.sofifa.net/flags/hu@3x.png 3x\" height=\"16\" src=\"https://cdn.sofifa.net/pixel.gif\" title=\"Hungary\" width=\"21\"/>\\n      Magyar\\n     </a>\\n     <a class=\"bp3-button bp3-minimal lang\" href=\"/players?r=230011&amp;set=true&amp;hl=fi-FI\" rel=\"nofollow\" role=\"button\">\\n      <img alt=\"\" class=\"flag\" data-src=\"https://cdn.sofifa.net/flags/fi.png\" data-srcset=\"https://cdn.sofifa.net/flags/fi@2x.png 2x, https://cdn.sofifa.net/flags/fi@3x.png 3x\" height=\"16\" src=\"https://cdn.sofifa.net/pixel.gif\" title=\"Finland\" width=\"21\"/>\\n      Suomi\\n     </a>\\n     <a class=\"bp3-button bp3-minimal lang\" href=\"/players?r=230011&amp;set=true&amp;hl=zh-HK\" rel=\"nofollow\" role=\"button\">\\n      <img alt=\"\" class=\"flag\" data-src=\"https://cdn.sofifa.net/flags/hk.png\" data-srcset=\"https://cdn.sofifa.net/flags/hk@2x.png 2x, https://cdn.sofifa.net/flags/hk@3x.png 3x\" height=\"16\" src=\"https://cdn.sofifa.net/pixel.gif\" title=\"Hong Kong\" width=\"21\"/>\\n      中文(繁體)\\n     </a>\\n     <a class=\"bp3-button bp3-minimal lang\" href=\"/players?r=230011&amp;set=true&amp;hl=uk-UA\" rel=\"nofollow\" role=\"button\">\\n      <img alt=\"\" class=\"flag\" data-src=\"https://cdn.sofifa.net/flags/ua.png\" data-srcset=\"https://cdn.sofifa.net/flags/ua@2x.png 2x, https://cdn.sofifa.net/flags/ua@3x.png 3x\" height=\"16\" src=\"https://cdn.sofifa.net/pixel.gif\" title=\"Ukraine\" width=\"21\"/>\\n      Українська\\n     </a>\\n     <a class=\"bp3-button bp3-minimal lang\" href=\"/players?r=230011&amp;set=true&amp;hl=cs-CZ\" rel=\"nofollow\" role=\"button\">\\n      <img alt=\"\" class=\"flag\" data-src=\"https://cdn.sofifa.net/flags/cz.png\" data-srcset=\"https://cdn.sofifa.net/flags/cz@2x.png 2x, https://cdn.sofifa.net/flags/cz@3x.png 3x\" height=\"16\" src=\"https://cdn.sofifa.net/pixel.gif\" title=\"Czech Republic\" width=\"21\"/>\\n      Čeština\\n     </a>\\n     <a class=\"bp3-button bp3-minimal lang\" href=\"/players?r=230011&amp;set=true&amp;hl=ar-AA\" rel=\"nofollow\" role=\"button\">\\n      <img alt=\"\" class=\"flag\" data-src=\"https://cdn.sofifa.net/flags/sa.png\" data-srcset=\"https://cdn.sofifa.net/flags/sa@2x.png 2x, https://cdn.sofifa.net/flags/sa@3x.png 3x\" height=\"16\" src=\"https://cdn.sofifa.net/pixel.gif\" title=\"Saudi Arabia\" width=\"21\"/>\\n      العربية\\n     </a>\\n    </div>\\n   </div>\\n   <div class=\"header\">\\n    <div class=\"center\">\\n     <div class=\"top-banner\" role=\"banner\">\\n      <div data-pw-desk=\"leaderboard_atf\" id=\"pwDeskLbAtf\" style=\"width:728px;height:90px\">\\n      </div>\\n      <script>\\n       window.ramp.que.push(function () {\\n    window.ramp.addTag(\"pwDeskLbAtf\");\\n  })\\n      </script>\\n     </div>\\n     <h1 class=\"ellipsis\">\\n      Players\\n     </h1>\\n     <h2>\\n      <div class=\"dropdown\">\\n       <a class=\"bp3-button bp3-minimal text dropdown-toggle\" href=\"javascript:void(0);\" rel=\"nofollow\" role=\"button\" tabindex=\"200\">\\n        <span class=\"bp3-button-text\">\\n         FIFA 23\\n        </span>\\n        <span class=\"bp3-icon bp3-icon-caret-down\">\\n         <svg height=\"16\" viewbox=\"0 0 24 24\" width=\"16\">\\n          <polyline points=\"6 9 12 15 18 9\">\\n          </polyline>\\n         </svg>\\n        </span>\\n       </a>\\n       <div class=\"bp3-menu\">\\n        <a class=\"bp3-menu-item\" href=\"/players?r=230012&amp;set=true\">\\n         FIFA 23\\n        </a>\\n        <a class=\"bp3-menu-item\" href=\"/players?r=220069&amp;set=true\">\\n         FIFA 22\\n        </a>\\n        <a class=\"bp3-menu-item\" href=\"/players?r=210064&amp;set=true\">\\n         FIFA 21\\n        </a>\\n        <a class=\"bp3-menu-item\" href=\"/players?r=200061&amp;set=true\">\\n         FIFA 20\\n        </a>\\n        <a class=\"bp3-menu-item\" href=\"/players?r=190075&amp;set=true\">\\n         FIFA 19\\n        </a>\\n        <a class=\"bp3-menu-item\" href=\"/players?r=180084&amp;set=true\">\\n         FIFA 18\\n        </a>\\n        <a class=\"bp3-menu-item\" href=\"/players?r=170099&amp;set=true\">\\n         FIFA 17\\n        </a>\\n        <a class=\"bp3-menu-item\" href=\"/players?r=160058&amp;set=true\">\\n         FIFA 16\\n        </a>\\n        <a class=\"bp3-menu-item\" href=\"/players?r=150059&amp;set=true\">\\n         FIFA 15\\n        </a>\\n        <a class=\"bp3-menu-item\" href=\"/players?r=140052&amp;set=true\">\\n         FIFA 14\\n        </a>\\n        <a class=\"bp3-menu-item\" href=\"/players?r=130034&amp;set=true\">\\n         FIFA 13\\n        </a>\\n        <a class=\"bp3-menu-item\" href=\"/players?r=120002&amp;set=true\">\\n         FIFA 12\\n        </a>\\n        <a class=\"bp3-menu-item\" href=\"/players?r=110002&amp;set=true\">\\n         FIFA 11\\n        </a>\\n        <a class=\"bp3-menu-item\" href=\"/players?r=100002&amp;set=true\">\\n         FIFA 10\\n        </a>\\n        <a class=\"bp3-menu-item\" href=\"/players?r=090002&amp;set=true\">\\n         FIFA 09\\n        </a>\\n        <a class=\"bp3-menu-item\" href=\"/players?r=080002&amp;set=true\">\\n         FIFA 08\\n        </a>\\n        <a class=\"bp3-menu-item\" href=\"/players?r=070002&amp;set=true\">\\n         FIFA 07\\n        </a>\\n       </div>\\n      </div>\\n      <div class=\"dropdown\">\\n       <a class=\"bp3-button bp3-minimal text dropdown-toggle\" href=\"javascript:void(0);\" rel=\"nofollow\" role=\"button\" tabindex=\"200\">\\n        <span class=\"bp3-button-text\">\\n         Jan 25, 2023\\n        </span>\\n        <span class=\"bp3-icon bp3-icon-caret-down\">\\n         <svg height=\"16\" viewbox=\"0 0 24 24\" width=\"16\">\\n          <polyline points=\"6 9 12 15 18 9\">\\n          </polyline>\\n         </svg>\\n        </span>\\n       </a>\\n       <div class=\"bp3-menu\">\\n        <a class=\"bp3-menu-item\" href=\"/players?r=230012&amp;set=true\">\\n         Jan 30, 2023\\n        </a>\\n        <a class=\"bp3-menu-item\" href=\"/players?r=230011&amp;set=true\">\\n         Jan 25, 2023\\n        </a>\\n        <a class=\"bp3-menu-item\" href=\"/players?r=230010&amp;set=true\">\\n         Jan 18, 2023\\n        </a>\\n        <a class=\"bp3-menu-item\" href=\"/players?r=230009&amp;set=true\">\\n         Jan 13, 2023\\n        </a>\\n        <a class=\"bp3-menu-item\" href=\"/players?r=230008&amp;set=true\">\\n         Dec 17, 2022\\n        </a>\\n        <a class=\"bp3-menu-item\" href=\"/players?r=230007&amp;set=true\">\\n         Dec 6, 2022\\n        </a>\\n        <a class=\"bp3-menu-item\" href=\"/players?r=230006&amp;set=true\">\\n         Nov 16, 2022\\n        </a>\\n        <a class=\"bp3-menu-item\" href=\"/players?r=230005&amp;set=true\">\\n         Oct 28, 2022\\n        </a>\\n        <a class=\"bp3-menu-item\" href=\"/players?r=230004&amp;set=true\">\\n         Oct 7, 2022\\n        </a>\\n        <a class=\"bp3-menu-item\" href=\"/players?r=230003&amp;set=true\">\\n         Sep 28, 2022\\n        </a>\\n        <a class=\"bp3-menu-item\" href=\"/players?r=230002&amp;set=true\">\\n         Sep 26, 2022\\n        </a>\\n        <a class=\"bp3-menu-item\" href=\"/players?r=230001&amp;set=true\">\\n         Sep 1, 2022\\n        </a>\\n        <a class=\"bp3-menu-item\" href=\"/players?r=202200&amp;set=true\">\\n         World Cup 2022\\n        </a>\\n       </div>\\n      </div>\\n     </h2>\\n    </div>\\n   </div>\\n   <div class=\"sub-nav\">\\n    <div class=\"center\">\\n     <form action=\"/players\" class=\"top-search bp3-input-group\" method=\"get\">\\n      <span class=\"bp3-icon bp3-icon-search\">\\n       <svg height=\"16\" viewbox=\"0 0 24 24\" width=\"16\">\\n        <circle cx=\"11\" cy=\"11\" r=\"8\">\\n        </circle>\\n        <line x1=\"21\" x2=\"16.65\" y1=\"21\" y2=\"16.65\">\\n        </line>\\n       </svg>\\n      </span>\\n      <input class=\"bp3-input player-suggest suggest\" data-roster=\"230011\" name=\"keyword\" placeholder=\"Search Player ...\" type=\"text\"/>\\n     </form>\\n     <div class=\"bp3-tabs\">\\n      <div class=\"bp3-tab-list\" role=\"tablist\">\\n       <a aria-selected=\"true\" class=\"bp3-tab\" href=\"/players\" role=\"tab\">\\n        Trending\\n       </a>\\n       <a class=\"bp3-tab\" href=\"/players?type=added\" role=\"tab\">\\n        Added\\n       </a>\\n       <a class=\"bp3-tab\" href=\"/players?type=updated\" role=\"tab\">\\n        Updated\\n       </a>\\n       <a class=\"bp3-tab\" href=\"/players?type=free\" role=\"tab\">\\n        Free\\n       </a>\\n       <a class=\"bp3-tab\" href=\"/players?type=onLoan\" role=\"tab\">\\n        On Loan\\n       </a>\\n       <a class=\"bp3-tab\" href=\"/players?type=removed\" role=\"tab\">\\n        Removed\\n       </a>\\n       <a class=\"bp3-tab\" href=\"/players?type=customized\" role=\"tab\">\\n        Customized\\n       </a>\\n       <a class=\"bp3-tab need-sign-in\" data-action=\"forward\" href=\"/customize\" role=\"tab\">\\n        Create Player\\n       </a>\\n       <a class=\"bp3-tab\" href=\"/calculator\" role=\"tab\">\\n        Calculator\\n       </a>\\n      </div>\\n     </div>\\n    </div>\\n   </div>\\n  </header>\\n  <div class=\"center\">\\n   <div class=\"grid\">\\n    <div class=\"col col-4\" style=\"width:298px\">\\n     <details class=\"card\">\\n      <summary>\\n       Columns Selected\\n      </summary>\\n      <form action=\"/players?r=230011&amp;set=true\" class=\"detail-toggle\" method=\"get\">\\n       <div class=\"choices-column half-spacing\">\\n        <select class=\"choices-multiple\" data-always=\"true\" data-placeholder=\"Add Column\" multiple=\"\" name=\"showCol[]\">\\n         <optgroup label=\"Basic\">\\n          <option value=\"pi\">\\n           ID\\n          </option>\\n          <option selected=\"\" value=\"ae\">\\n           Age\\n          </option>\\n          <option value=\"hi\">\\n           Height\\n          </option>\\n          <option value=\"wi\">\\n           Weight\\n          </option>\\n          <option value=\"pf\">\\n           Preferred Foot\\n          </option>\\n          <option selected=\"\" value=\"oa\">\\n           Overall Rating\\n          </option>\\n          <option selected=\"\" value=\"pt\">\\n           Potential\\n          </option>\\n          <option value=\"bo\">\\n           Best Overall\\n          </option>\\n          <option value=\"bp\">\\n           Best Position\\n          </option>\\n          <option value=\"gu\">\\n           Growth\\n          </option>\\n          <option value=\"jt\">\\n           Joined\\n          </option>\\n          <option value=\"le\">\\n           Loan Date End\\n          </option>\\n          <option selected=\"\" value=\"vl\">\\n           Value\\n          </option>\\n          <option selected=\"\" value=\"wg\">\\n           Wage\\n          </option>\\n          <option value=\"rc\">\\n           Release Clause\\n          </option>\\n         </optgroup>\\n         <optgroup label=\"Attacking\">\\n          <option value=\"ta\">\\n           Total Attacking\\n          </option>\\n          <option value=\"cr\">\\n           Crossing\\n          </option>\\n          <option value=\"fi\">\\n           Finishing\\n          </option>\\n          <option value=\"he\">\\n           Heading Accuracy\\n          </option>\\n          <option value=\"sh\">\\n           Short Passing\\n          </option>\\n          <option value=\"vo\">\\n           Volleys\\n          </option>\\n         </optgroup>\\n         <optgroup label=\"Skill\">\\n          <option value=\"ts\">\\n           Total Skill\\n          </option>\\n          <option value=\"dr\">\\n           Dribbling\\n          </option>\\n          <option value=\"cu\">\\n           Curve\\n          </option>\\n          <option value=\"fr\">\\n           FK Accuracy\\n          </option>\\n          <option value=\"lo\">\\n           Long Passing\\n          </option>\\n          <option value=\"bl\">\\n           Ball Control\\n          </option>\\n         </optgroup>\\n         <optgroup label=\"Movement\">\\n          <option value=\"to\">\\n           Total Movement\\n          </option>\\n          <option value=\"ac\">\\n           Acceleration\\n          </option>\\n          <option value=\"sp\">\\n           Sprint Speed\\n          </option>\\n          <option value=\"ag\">\\n           Agility\\n          </option>\\n          <option value=\"re\">\\n           Reactions\\n          </option>\\n          <option value=\"ba\">\\n           Balance\\n          </option>\\n         </optgroup>\\n         <optgroup label=\"Power\">\\n          <option value=\"tp\">\\n           Total Power\\n          </option>\\n          <option value=\"so\">\\n           Shot Power\\n          </option>\\n          <option value=\"ju\">\\n           Jumping\\n          </option>\\n          <option value=\"st\">\\n           Stamina\\n          </option>\\n          <option value=\"sr\">\\n           Strength\\n          </option>\\n          <option value=\"ln\">\\n           Long Shots\\n          </option>\\n         </optgroup>\\n         <optgroup label=\"Mentality\">\\n          <option value=\"te\">\\n           Total Mentality\\n          </option>\\n          <option value=\"ar\">\\n           Aggression\\n          </option>\\n          <option value=\"in\">\\n           Interceptions\\n          </option>\\n          <option value=\"po\">\\n           Positioning\\n          </option>\\n          <option value=\"vi\">\\n           Vision\\n          </option>\\n          <option value=\"pe\">\\n           Penalties\\n          </option>\\n          <option value=\"cm\">\\n           Composure\\n          </option>\\n         </optgroup>\\n         <optgroup label=\"Defending\">\\n          <option value=\"td\">\\n           Total Defending\\n          </option>\\n          <option value=\"ma\">\\n           Marking\\n          </option>\\n          <option value=\"sa\">\\n           Standing Tackle\\n          </option>\\n          <option value=\"sl\">\\n           Sliding Tackle\\n          </option>\\n         </optgroup>\\n         <optgroup label=\"Goalkeeping\">\\n          <option value=\"tg\">\\n           Total Goalkeeping\\n          </option>\\n          <option value=\"gd\">\\n           GK Diving\\n          </option>\\n          <option value=\"gh\">\\n           GK Handling\\n          </option>\\n          <option value=\"gc\">\\n           GK Kicking\\n          </option>\\n          <option value=\"gp\">\\n           GK Positioning\\n          </option>\\n          <option value=\"gr\">\\n           GK Reflexes\\n          </option>\\n         </optgroup>\\n         <optgroup label=\"Special\">\\n          <option selected=\"\" value=\"tt\">\\n           Total Stats\\n          </option>\\n          <option value=\"bs\">\\n           Base Stats\\n          </option>\\n          <option value=\"wk\">\\n           Weak Foot\\n          </option>\\n          <option value=\"sk\">\\n           Skill Moves\\n          </option>\\n          <option value=\"aw\">\\n           Attacking Work Rate\\n          </option>\\n          <option value=\"dw\">\\n           Defensive Work Rate\\n          </option>\\n          <option value=\"ir\">\\n           International Reputation\\n          </option>\\n          <option value=\"bt\">\\n           Body Type\\n          </option>\\n          <option value=\"pac\">\\n           Pace / Diving\\n          </option>\\n          <option value=\"sho\">\\n           Shooting / Handling\\n          </option>\\n          <option value=\"pas\">\\n           Passing / Kicking\\n          </option>\\n          <option value=\"dri\">\\n           Dribbling / Reflexes\\n          </option>\\n          <option value=\"def\">\\n           Defending / Pace\\n          </option>\\n          <option value=\"phy\">\\n           Physical / Positioning\\n          </option>\\n         </optgroup>\\n        </select>\\n       </div>\\n       <div class=\"bp3-control-group bp3-fill\">\\n        <button class=\"bp3-button bp3-intent-primary\" type=\"submit\">\\n         Apply\\n        </button>\\n        <a class=\"bp3-button pjax\" href=\"/players?r=230011&amp;set=true&amp;showCol=reset\">\\n         Reset\\n        </a>\\n       </div>\\n      </form>\\n     </details>\\n     <details class=\"card\">\\n      <summary>\\n       Basket\\n      </summary>\\n      <div class=\"detail-toggle\">\\n       <div id=\"basket\">\\n       </div>\\n       <div class=\"bp3-control-group bp3-fill half-spacing\">\\n        <a class=\"bp3-button bp3-intent-primary\" href=\"/players/compare\" rel=\"nofollow\">\\n         Compare\\n        </a>\\n        <button class=\"bp3-button basket-clear\">\\n         Clear\\n        </button>\\n       </div>\\n       <div class=\"bp3-control-group bp3-fill\">\\n        <a class=\"bp3-button need-sign-in\" data-action=\"forward\" href=\"/shortlist/create\" rel=\"nofollow\">\\n         + Shortlist\\n        </a>\\n        <a class=\"bp3-button need-sign-in\" data-action=\"forward\" href=\"/squad/create\" rel=\"nofollow\">\\n         + Squad\\n        </a>\\n       </div>\\n      </div>\\n     </details>\\n     <form action=\"/players\" class=\"relative pjax-form\" data-pjax=\"content-target\">\\n      <div class=\"card\">\\n       <h5>\\n        Search\\n       </h5>\\n       <div class=\"half-spacing grid\">\\n        <div class=\"col col-6\">\\n         <label class=\"ellipsis\">\\n          Name\\n         </label>\\n        </div>\\n        <div class=\"col col-12\">\\n         <input class=\"bp3-input bp3-fill\" name=\"keyword\" type=\"text\" value=\"\"/>\\n        </div>\\n       </div>\\n       <div class=\"half-spacing\">\\n        <select data-placeholder=\"Type\" id=\"choices-type\" name=\"type\">\\n         <option selected=\"\" value=\"all\">\\n          All Players\\n         </option>\\n         <option value=\"added\">\\n          Added Players\\n         </option>\\n         <option value=\"updated\">\\n          Updated Players\\n         </option>\\n         <option value=\"free\">\\n          Free Players\\n         </option>\\n         <option value=\"onLoan\">\\n          On Loan Players\\n         </option>\\n         <option value=\"removed\">\\n          Removed Players\\n         </option>\\n         <option value=\"customized\">\\n          Customized Players\\n         </option>\\n        </select>\\n       </div>\\n       <div class=\"half-spacing\">\\n        <select data-placeholder=\"Continents\" id=\"choices-ct\" multiple=\"\" name=\"ct[]\">\\n         <option value=\"2\">\\n          Europe\\n         </option>\\n         <option value=\"6\">\\n          Asia\\n         </option>\\n         <option value=\"0\">\\n          South America\\n         </option>\\n         <option value=\"1\">\\n          North America\\n         </option>\\n         <option value=\"8\">\\n          Africa\\n         </option>\\n         <option value=\"7\">\\n          Oceania\\n         </option>\\n        </select>\\n       </div>\\n       <div class=\"half-spacing\">\\n        <select data-placeholder=\"Nationality / Region\" data-value=\"\" id=\"choices-na\" multiple=\"\" name=\"na[]\">\\n        </select>\\n       </div>\\n       <div class=\"half-spacing\">\\n        <select data-placeholder=\"Leagues\" id=\"choices-lg\" multiple=\"\" name=\"lg[]\">\\n         <optgroup label=\"Top 5\">\\n          <option value=\"13\">\\n           [England] Premier League\\n          </option>\\n          <option value=\"16\">\\n           [France] Ligue 1\\n          </option>\\n          <option value=\"19\">\\n           [Germany] Bundesliga\\n          </option>\\n          <option value=\"31\">\\n           [Italy] Serie A\\n          </option>\\n          <option value=\"53\">\\n           [Spain] La Liga\\n          </option>\\n         </optgroup>\\n         <optgroup label=\"A-Z\">\\n          <option value=\"353\">\\n           [Argentina] Liga Profesional\\n          </option>\\n          <option value=\"351\">\\n           [Australia] A-League\\n          </option>\\n          <option value=\"80\">\\n           [Austria] Bundesliga\\n          </option>\\n          <option value=\"4\">\\n           [Belgium] Jupiler Pro League\\n          </option>\\n          <option value=\"2017\">\\n           [Bolivia] Liga De Futbol Prof\\n          </option>\\n          <option value=\"7\">\\n           [Brazil] Serie A\\n          </option>\\n          <option value=\"335\">\\n           [Chile] Primera Division\\n          </option>\\n          <option value=\"2012\">\\n           [China PR] Super League\\n          </option>\\n          <option value=\"336\">\\n           [Colombia] Liga BetPlay\\n          </option>\\n          <option value=\"317\">\\n           [Croatia] 1. HNL\\n          </option>\\n          <option value=\"318\">\\n           [Cyprus] 1. Division\\n          </option>\\n          <option value=\"319\">\\n           [Czech Republic] Fortuna Liga\\n          </option>\\n          <option value=\"1\">\\n           [Denmark] Superliga\\n          </option>\\n          <option value=\"2018\">\\n           [Ecuador] Liga Pro\\n          </option>\\n          <option value=\"14\">\\n           [England] Championship\\n          </option>\\n          <option value=\"60\">\\n           [England] League One\\n          </option>\\n          <option value=\"61\">\\n           [England] League Two\\n          </option>\\n          <option value=\"62\">\\n           [England] National League\\n          </option>\\n          <option value=\"322\">\\n           [Finland] Veikkausliiga\\n          </option>\\n          <option value=\"17\">\\n           [France] Ligue 2\\n          </option>\\n          <option value=\"20\">\\n           [Germany] 2. Bundesliga\\n          </option>\\n          <option value=\"2076\">\\n           [Germany] 3. Liga\\n          </option>\\n          <option value=\"63\">\\n           [Greece] Super League\\n          </option>\\n          <option value=\"64\">\\n           [Hungary] NB I.\\n          </option>\\n          <option value=\"2149\">\\n           [India] Indian Super League\\n          </option>\\n          <option value=\"32\">\\n           [Italy] Serie B\\n          </option>\\n          <option value=\"83\">\\n           [Korea Republic] K League 1\\n          </option>\\n          <option value=\"10\">\\n           [Netherlands] Eredivisie\\n          </option>\\n          <option value=\"41\">\\n           [Norway] Eliteserien\\n          </option>\\n          <option value=\"337\">\\n           [Paraguay] Primera División\\n          </option>\\n          <option value=\"2020\">\\n           [Peru] Primera Division\\n          </option>\\n          <option value=\"66\">\\n           [Poland] Ekstraklasa\\n          </option>\\n          <option value=\"308\">\\n           [Portugal] Liga Portugal\\n          </option>\\n          <option value=\"65\">\\n           [Republic of Ireland] Premier Division\\n          </option>\\n          <option value=\"330\">\\n           [Romania] Liga 1\\n          </option>\\n          <option value=\"350\">\\n           [Saudi Arabia] Pro League\\n          </option>\\n          <option value=\"50\">\\n           [Scotland] Premiership\\n          </option>\\n          <option value=\"347\">\\n           [South Africa] Premier League\\n          </option>\\n          <option value=\"54\">\\n           [Spain] La Liga 2\\n          </option>\\n          <option value=\"56\">\\n           [Sweden] Allsvenskan\\n          </option>\\n          <option value=\"189\">\\n           [Switzerland] Super League\\n          </option>\\n          <option value=\"68\">\\n           [Turkey] Super Lig\\n          </option>\\n          <option value=\"332\">\\n           [Ukraine] Premier League\\n          </option>\\n          <option value=\"2013\">\\n           [United Arab Emirates] Pro League\\n          </option>\\n          <option value=\"39\">\\n           [United States] Major League Soccer\\n          </option>\\n          <option value=\"338\">\\n           [Uruguay] Primera Division\\n          </option>\\n          <option value=\"2019\">\\n           [Venezuela] Primera Division\\n          </option>\\n         </optgroup>\\n        </select>\\n       </div>\\n       <div class=\"half-spacing\">\\n        <select data-placeholder=\"Teams\" data-value=\"\" id=\"choices-tm\" multiple=\"\" name=\"tm[]\">\\n        </select>\\n       </div>\\n       <div class=\"half-spacing grid\">\\n        <div class=\"col col-9\">\\n         <label class=\"ellipsis\">\\n          Age\\n         </label>\\n        </div>\\n        <div class=\"col col-3\">\\n         <input class=\"bp3-input min\" id=\"ael\" max=\"45\" min=\"15\" name=\"ael\" placeholder=\"15\" size=\"2\" type=\"number\" value=\"\"/>\\n        </div>\\n        <div class=\"col col-1\">\\n        </div>\\n        <div class=\"col col-3\">\\n         <input class=\"bp3-input max\" id=\"aeh\" max=\"45\" min=\"15\" name=\"aeh\" placeholder=\"45\" size=\"2\" type=\"number\" value=\"\"/>\\n        </div>\\n       </div>\\n       <div class=\"half-spacing grid\">\\n        <div class=\"col col-9\">\\n         <label class=\"ellipsis\">\\n          Overall Rating\\n         </label>\\n        </div>\\n        <div class=\"col col-3\">\\n         <input class=\"bp3-input min\" id=\"oal\" max=\"99\" min=\"0\" name=\"oal\" placeholder=\"0\" size=\"2\" type=\"number\" value=\"\"/>\\n        </div>\\n        <div class=\"col col-1\">\\n        </div>\\n        <div class=\"col col-3\">\\n         <input class=\"bp3-input max\" id=\"oah\" max=\"99\" min=\"0\" name=\"oah\" placeholder=\"99\" size=\"2\" type=\"number\" value=\"\"/>\\n        </div>\\n       </div>\\n       <div class=\"half-spacing grid\">\\n        <div class=\"col col-9\">\\n         <label class=\"ellipsis\">\\n          Potential\\n         </label>\\n        </div>\\n        <div class=\"col col-3\">\\n         <input class=\"bp3-input min\" id=\"ptl\" max=\"99\" min=\"0\" name=\"ptl\" placeholder=\"0\" size=\"2\" type=\"number\" value=\"\"/>\\n        </div>\\n        <div class=\"col col-1\">\\n        </div>\\n        <div class=\"col col-3\">\\n         <input class=\"bp3-input max\" id=\"pth\" max=\"99\" min=\"0\" name=\"pth\" placeholder=\"99\" size=\"2\" type=\"number\" value=\"\"/>\\n        </div>\\n       </div>\\n       <div class=\"half-spacing\">\\n        <select class=\"choices-multiple\" data-placeholder=\"Position\" multiple=\"\" name=\"pn[]\">\\n         <option value=\"27\">\\n          LW\\n         </option>\\n         <option value=\"25\">\\n          ST\\n         </option>\\n         <option value=\"23\">\\n          RW\\n         </option>\\n         <option value=\"22\">\\n          LF\\n         </option>\\n         <option value=\"21\">\\n          CF\\n         </option>\\n         <option value=\"20\">\\n          RF\\n         </option>\\n         <option value=\"18\">\\n          CAM\\n         </option>\\n         <option value=\"16\">\\n          LM\\n         </option>\\n         <option value=\"14\">\\n          CM\\n         </option>\\n         <option value=\"12\">\\n          RM\\n         </option>\\n         <option value=\"10\">\\n          CDM\\n         </option>\\n         <option value=\"8\">\\n          LWB\\n         </option>\\n         <option value=\"7\">\\n          LB\\n         </option>\\n         <option value=\"5\">\\n          CB\\n         </option>\\n         <option value=\"3\">\\n          RB\\n         </option>\\n         <option value=\"2\">\\n          RWB\\n         </option>\\n         <option value=\"0\">\\n          GK\\n         </option>\\n        </select>\\n       </div>\\n       <div class=\"half-spacing\">\\n        <select class=\"choices-multiple\" data-placeholder=\"Preferred Foot\" multiple=\"\" name=\"pf[]\">\\n         <option value=\"1\">\\n          Right\\n         </option>\\n         <option value=\"2\">\\n          Left\\n         </option>\\n        </select>\\n       </div>\\n       <div class=\"half-spacing\">\\n        <select class=\"choices-multiple\" data-placeholder=\"Weak Foot\" multiple=\"\" name=\"wk[]\">\\n         <option value=\"1\">\\n          1 ★\\n         </option>\\n         <option value=\"2\">\\n          2 ★\\n         </option>\\n         <option value=\"3\">\\n          3 ★\\n         </option>\\n         <option value=\"4\">\\n          4 ★\\n         </option>\\n         <option value=\"5\">\\n          5 ★\\n         </option>\\n        </select>\\n       </div>\\n       <div class=\"half-spacing\">\\n        <select class=\"choices-multiple\" data-placeholder=\"Skill Moves\" multiple=\"\" name=\"sk[]\">\\n         <option value=\"0\">\\n          1 ★\\n         </option>\\n         <option value=\"1\">\\n          2 ★\\n         </option>\\n         <option value=\"2\">\\n          3 ★\\n         </option>\\n         <option value=\"3\">\\n          4 ★\\n         </option>\\n         <option value=\"4\">\\n          5 ★\\n         </option>\\n        </select>\\n       </div>\\n       <div class=\"half-spacing grid\">\\n        <div class=\"col col-7\">\\n         <label class=\"ellipsis\">\\n          Height\\n         </label>\\n        </div>\\n        <div class=\"col col-4\">\\n         <input class=\"bp3-input min\" id=\"hil\" max=\"220\" min=\"150\" name=\"hil\" placeholder=\"150 cm\" size=\"2\" type=\"number\" value=\"\"/>\\n        </div>\\n        <div class=\"col col-1\">\\n        </div>\\n        <div class=\"col col-4\">\\n         <input class=\"bp3-input max\" id=\"hih\" max=\"220\" min=\"150\" name=\"hih\" placeholder=\"220 cm\" size=\"2\" type=\"number\" value=\"\"/>\\n        </div>\\n       </div>\\n       <div class=\"half-spacing grid\">\\n        <div class=\"col col-7\">\\n         <label class=\"ellipsis\">\\n          Weight\\n         </label>\\n        </div>\\n        <div class=\"col col-4\">\\n         <input class=\"bp3-input min\" id=\"wil\" max=\"130\" min=\"50\" name=\"wil\" placeholder=\"50 kg\" size=\"2\" type=\"number\" value=\"\"/>\\n        </div>\\n        <div class=\"col col-1\">\\n        </div>\\n        <div class=\"col col-4\">\\n         <input class=\"bp3-input max\" id=\"wih\" max=\"130\" min=\"50\" name=\"wih\" placeholder=\"130 kg\" size=\"2\" type=\"number\" value=\"\"/>\\n        </div>\\n       </div>\\n       <div class=\"half-spacing grid\">\\n        <div class=\"col col-7\">\\n         <label class=\"ellipsis\">\\n          Value\\n         </label>\\n        </div>\\n        <div class=\"col col-12\">\\n         <div class=\"bp3-input-group bp3-fill\">\\n          <div class=\"bp3-input-action\">\\n           €\\n          </div>\\n          <input class=\"bp3-input\" id=\"vlh\" name=\"vlh\" placeholder=\"150000000\" step=\"10000\" type=\"number\" value=\"\"/>\\n         </div>\\n        </div>\\n       </div>\\n       <div class=\"half-spacing grid\">\\n        <div class=\"col col-7\">\\n         <label class=\"ellipsis\">\\n          Wage\\n         </label>\\n        </div>\\n        <div class=\"col col-12\">\\n         <div class=\"bp3-input-group bp3-fill\">\\n          <div class=\"bp3-input-action\">\\n           €\\n          </div>\\n          <input class=\"bp3-input\" id=\"wgh\" name=\"wgh\" placeholder=\"600000\" step=\"10000\" type=\"number\" value=\"\"/>\\n         </div>\\n        </div>\\n       </div>\\n       <div class=\"half-spacing grid\">\\n        <div class=\"col col-7\">\\n         <label class=\"ellipsis\">\\n          Release Clause\\n         </label>\\n        </div>\\n        <div class=\"col col-12\">\\n         <div class=\"bp3-input-group bp3-fill\">\\n          <div class=\"bp3-input-action\">\\n           €\\n          </div>\\n          <input class=\"bp3-input\" id=\"rch\" name=\"rch\" placeholder=\"600000000\" step=\"10000\" type=\"number\" value=\"\"/>\\n         </div>\\n        </div>\\n       </div>\\n       <div class=\"text-right\">\\n        <button class=\"bp3-button bp3-intent-primary bp3-fill\" type=\"submit\">\\n         Submit\\n        </button>\\n       </div>\\n      </div>\\n      <div class=\"card\">\\n       <h5>\\n        Attacking\\n       </h5>\\n       <div class=\"half-spacing grid\">\\n        <div class=\"col col-9\">\\n         <label class=\"ellipsis\">\\n          Crossing\\n         </label>\\n        </div>\\n        <div class=\"col col-3\">\\n         <input class=\"bp3-input min\" id=\"crl\" max=\"99\" min=\"0\" name=\"crl\" placeholder=\"0\" size=\"2\" type=\"number\" value=\"\"/>\\n        </div>\\n        <div class=\"col col-1\">\\n        </div>\\n        <div class=\"col col-3\">\\n         <input class=\"bp3-input max\" id=\"crh\" max=\"99\" min=\"0\" name=\"crh\" placeholder=\"99\" size=\"2\" type=\"number\" value=\"\"/>\\n        </div>\\n       </div>\\n       <div class=\"half-spacing grid\">\\n        <div class=\"col col-9\">\\n         <label class=\"ellipsis\">\\n          Finishing\\n         </label>\\n        </div>\\n        <div class=\"col col-3\">\\n         <input class=\"bp3-input min\" id=\"fil\" max=\"99\" min=\"0\" name=\"fil\" placeholder=\"0\" size=\"2\" type=\"number\" value=\"\"/>\\n        </div>\\n        <div class=\"col col-1\">\\n        </div>\\n        <div class=\"col col-3\">\\n         <input class=\"bp3-input max\" id=\"fih\" max=\"99\" min=\"0\" name=\"fih\" placeholder=\"99\" size=\"2\" type=\"number\" value=\"\"/>\\n        </div>\\n       </div>\\n       <div class=\"half-spacing grid\">\\n        <div class=\"col col-9\">\\n         <label class=\"ellipsis\">\\n          Heading Accuracy\\n         </label>\\n        </div>\\n        <div class=\"col col-3\">\\n         <input class=\"bp3-input min\" id=\"hel\" max=\"99\" min=\"0\" name=\"hel\" placeholder=\"0\" size=\"2\" type=\"number\" value=\"\"/>\\n        </div>\\n        <div class=\"col col-1\">\\n        </div>\\n        <div class=\"col col-3\">\\n         <input class=\"bp3-input max\" id=\"heh\" max=\"99\" min=\"0\" name=\"heh\" placeholder=\"99\" size=\"2\" type=\"number\" value=\"\"/>\\n        </div>\\n       </div>\\n       <div class=\"half-spacing grid\">\\n        <div class=\"col col-9\">\\n         <label class=\"ellipsis\">\\n          Short Passing\\n         </label>\\n        </div>\\n        <div class=\"col col-3\">\\n         <input class=\"bp3-input min\" id=\"shl\" max=\"99\" min=\"0\" name=\"shl\" placeholder=\"0\" size=\"2\" type=\"number\" value=\"\"/>\\n        </div>\\n        <div class=\"col col-1\">\\n        </div>\\n        <div class=\"col col-3\">\\n         <input class=\"bp3-input max\" id=\"shh\" max=\"99\" min=\"0\" name=\"shh\" placeholder=\"99\" size=\"2\" type=\"number\" value=\"\"/>\\n        </div>\\n       </div>\\n       <div class=\"spacing grid\">\\n        <div class=\"col col-9\">\\n         <label class=\"ellipsis\">\\n          Volleys\\n         </label>\\n        </div>\\n        <div class=\"col col-3\">\\n         <input class=\"bp3-input min\" id=\"vol\" max=\"99\" min=\"0\" name=\"vol\" placeholder=\"0\" size=\"2\" type=\"number\" value=\"\"/>\\n        </div>\\n        <div class=\"col col-1\">\\n        </div>\\n        <div class=\"col col-3\">\\n         <input class=\"bp3-input max\" id=\"voh\" max=\"99\" min=\"0\" name=\"voh\" placeholder=\"99\" size=\"2\" type=\"number\" value=\"\"/>\\n        </div>\\n       </div>\\n       <h5>\\n        Skill\\n       </h5>\\n       <div class=\"half-spacing grid\">\\n        <div class=\"col col-9\">\\n         <label class=\"ellipsis\">\\n          Dribbling\\n         </label>\\n        </div>\\n        <div class=\"col col-3\">\\n         <input class=\"bp3-input min\" id=\"drl\" max=\"99\" min=\"0\" name=\"drl\" placeholder=\"0\" size=\"2\" type=\"number\" value=\"\"/>\\n        </div>\\n        <div class=\"col col-1\">\\n        </div>\\n        <div class=\"col col-3\">\\n         <input class=\"bp3-input max\" id=\"drh\" max=\"99\" min=\"0\" name=\"drh\" placeholder=\"99\" size=\"2\" type=\"number\" value=\"\"/>\\n        </div>\\n       </div>\\n       <div class=\"half-spacing grid\">\\n        <div class=\"col col-9\">\\n         <label class=\"ellipsis\">\\n          Curve\\n         </label>\\n        </div>\\n        <div class=\"col col-3\">\\n         <input class=\"bp3-input min\" id=\"cul\" max=\"99\" min=\"0\" name=\"cul\" placeholder=\"0\" size=\"2\" type=\"number\" value=\"\"/>\\n        </div>\\n        <div class=\"col col-1\">\\n        </div>\\n        <div class=\"col col-3\">\\n         <input class=\"bp3-input max\" id=\"cuh\" max=\"99\" min=\"0\" name=\"cuh\" placeholder=\"99\" size=\"2\" type=\"number\" value=\"\"/>\\n        </div>\\n       </div>\\n       <div class=\"half-spacing grid\">\\n        <div class=\"col col-9\">\\n         <label class=\"ellipsis\">\\n          FK Accuracy\\n         </label>\\n        </div>\\n        <div class=\"col col-3\">\\n         <input class=\"bp3-input min\" id=\"frl\" max=\"99\" min=\"0\" name=\"frl\" placeholder=\"0\" size=\"2\" type=\"number\" value=\"\"/>\\n        </div>\\n        <div class=\"col col-1\">\\n        </div>\\n        <div class=\"col col-3\">\\n         <input class=\"bp3-input max\" id=\"frh\" max=\"99\" min=\"0\" name=\"frh\" placeholder=\"99\" size=\"2\" type=\"number\" value=\"\"/>\\n        </div>\\n       </div>\\n       <div class=\"half-spacing grid\">\\n        <div class=\"col col-9\">\\n         <label class=\"ellipsis\">\\n          Long Passing\\n         </label>\\n        </div>\\n        <div class=\"col col-3\">\\n         <input class=\"bp3-input min\" id=\"lol\" max=\"99\" min=\"0\" name=\"lol\" placeholder=\"0\" size=\"2\" type=\"number\" value=\"\"/>\\n        </div>\\n        <div class=\"col col-1\">\\n        </div>\\n        <div class=\"col col-3\">\\n         <input class=\"bp3-input max\" id=\"loh\" max=\"99\" min=\"0\" name=\"loh\" placeholder=\"99\" size=\"2\" type=\"number\" value=\"\"/>\\n        </div>\\n       </div>\\n       <div class=\"spacing grid\">\\n        <div class=\"col col-9\">\\n         <label class=\"ellipsis\">\\n          Ball Control\\n         </label>\\n        </div>\\n        <div class=\"col col-3\">\\n         <input class=\"bp3-input min\" id=\"bll\" max=\"99\" min=\"0\" name=\"bll\" placeholder=\"0\" size=\"2\" type=\"number\" value=\"\"/>\\n        </div>\\n        <div class=\"col col-1\">\\n        </div>\\n        <div class=\"col col-3\">\\n         <input class=\"bp3-input max\" id=\"blh\" max=\"99\" min=\"0\" name=\"blh\" placeholder=\"99\" size=\"2\" type=\"number\" value=\"\"/>\\n        </div>\\n       </div>\\n       <h5>\\n        Movement\\n       </h5>\\n       <div class=\"half-spacing grid\">\\n        <div class=\"col col-9\">\\n         <label class=\"ellipsis\">\\n          Acceleration\\n         </label>\\n        </div>\\n        <div class=\"col col-3\">\\n         <input class=\"bp3-input min\" id=\"acl\" max=\"99\" min=\"0\" name=\"acl\" placeholder=\"0\" size=\"2\" type=\"number\" value=\"\"/>\\n        </div>\\n        <div class=\"col col-1\">\\n        </div>\\n        <div class=\"col col-3\">\\n         <input class=\"bp3-input max\" id=\"ach\" max=\"99\" min=\"0\" name=\"ach\" placeholder=\"99\" size=\"2\" type=\"number\" value=\"\"/>\\n        </div>\\n       </div>\\n       <div class=\"half-spacing grid\">\\n        <div class=\"col col-9\">\\n         <label class=\"ellipsis\">\\n          Sprint Speed\\n         </label>\\n        </div>\\n        <div class=\"col col-3\">\\n         <input class=\"bp3-input min\" id=\"spl\" max=\"99\" min=\"0\" name=\"spl\" placeholder=\"0\" size=\"2\" type=\"number\" value=\"\"/>\\n        </div>\\n        <div class=\"col col-1\">\\n        </div>\\n        <div class=\"col col-3\">\\n         <input class=\"bp3-input max\" id=\"sph\" max=\"99\" min=\"0\" name=\"sph\" placeholder=\"99\" size=\"2\" type=\"number\" value=\"\"/>\\n        </div>\\n       </div>\\n       <div class=\"half-spacing grid\">\\n        <div class=\"col col-9\">\\n         <label class=\"ellipsis\">\\n          Agility\\n         </label>\\n        </div>\\n        <div class=\"col col-3\">\\n         <input class=\"bp3-input min\" id=\"agl\" max=\"99\" min=\"0\" name=\"agl\" placeholder=\"0\" size=\"2\" type=\"number\" value=\"\"/>\\n        </div>\\n        <div class=\"col col-1\">\\n        </div>\\n        <div class=\"col col-3\">\\n         <input class=\"bp3-input max\" id=\"agh\" max=\"99\" min=\"0\" name=\"agh\" placeholder=\"99\" size=\"2\" type=\"number\" value=\"\"/>\\n        </div>\\n       </div>\\n       <div class=\"half-spacing grid\">\\n        <div class=\"col col-9\">\\n         <label class=\"ellipsis\">\\n          Reactions\\n         </label>\\n        </div>\\n        <div class=\"col col-3\">\\n         <input class=\"bp3-input min\" id=\"rel\" max=\"99\" min=\"0\" name=\"rel\" placeholder=\"0\" size=\"2\" type=\"number\" value=\"\"/>\\n        </div>\\n        <div class=\"col col-1\">\\n        </div>\\n        <div class=\"col col-3\">\\n         <input class=\"bp3-input max\" id=\"reh\" max=\"99\" min=\"0\" name=\"reh\" placeholder=\"99\" size=\"2\" type=\"number\" value=\"\"/>\\n        </div>\\n       </div>\\n       <div class=\"spacing grid\">\\n        <div class=\"col col-9\">\\n         <label class=\"ellipsis\">\\n          Balance\\n         </label>\\n        </div>\\n        <div class=\"col col-3\">\\n         <input class=\"bp3-input min\" id=\"bal\" max=\"99\" min=\"0\" name=\"bal\" placeholder=\"0\" size=\"2\" type=\"number\" value=\"\"/>\\n        </div>\\n        <div class=\"col col-1\">\\n        </div>\\n        <div class=\"col col-3\">\\n         <input class=\"bp3-input max\" id=\"bah\" max=\"99\" min=\"0\" name=\"bah\" placeholder=\"99\" size=\"2\" type=\"number\" value=\"\"/>\\n        </div>\\n       </div>\\n       <h5>\\n        Power\\n       </h5>\\n       <div class=\"half-spacing grid\">\\n        <div class=\"col col-9\">\\n         <label class=\"ellipsis\">\\n          Shot Power\\n         </label>\\n        </div>\\n        <div class=\"col col-3\">\\n         <input class=\"bp3-input min\" id=\"sol\" max=\"99\" min=\"0\" name=\"sol\" placeholder=\"0\" size=\"2\" type=\"number\" value=\"\"/>\\n        </div>\\n        <div class=\"col col-1\">\\n        </div>\\n        <div class=\"col col-3\">\\n         <input class=\"bp3-input max\" id=\"soh\" max=\"99\" min=\"0\" name=\"soh\" placeholder=\"99\" size=\"2\" type=\"number\" value=\"\"/>\\n        </div>\\n       </div>\\n       <div class=\"half-spacing grid\">\\n        <div class=\"col col-9\">\\n         <label class=\"ellipsis\">\\n          Jumping\\n         </label>\\n        </div>\\n        <div class=\"col col-3\">\\n         <input class=\"bp3-input min\" id=\"jul\" max=\"99\" min=\"0\" name=\"jul\" placeholder=\"0\" size=\"2\" type=\"number\" value=\"\"/>\\n        </div>\\n        <div class=\"col col-1\">\\n        </div>\\n        <div class=\"col col-3\">\\n         <input class=\"bp3-input max\" id=\"juh\" max=\"99\" min=\"0\" name=\"juh\" placeholder=\"99\" size=\"2\" type=\"number\" value=\"\"/>\\n        </div>\\n       </div>\\n       <div class=\"half-spacing grid\">\\n        <div class=\"col col-9\">\\n         <label class=\"ellipsis\">\\n          Stamina\\n         </label>\\n        </div>\\n        <div class=\"col col-3\">\\n         <input class=\"bp3-input min\" id=\"stl\" max=\"99\" min=\"0\" name=\"stl\" placeholder=\"0\" size=\"2\" type=\"number\" value=\"\"/>\\n        </div>\\n        <div class=\"col col-1\">\\n        </div>\\n        <div class=\"col col-3\">\\n         <input class=\"bp3-input max\" id=\"sth\" max=\"99\" min=\"0\" name=\"sth\" placeholder=\"99\" size=\"2\" type=\"number\" value=\"\"/>\\n        </div>\\n       </div>\\n       <div class=\"half-spacing grid\">\\n        <div class=\"col col-9\">\\n         <label class=\"ellipsis\">\\n          Strength\\n         </label>\\n        </div>\\n        <div class=\"col col-3\">\\n         <input class=\"bp3-input min\" id=\"srl\" max=\"99\" min=\"0\" name=\"srl\" placeholder=\"0\" size=\"2\" type=\"number\" value=\"\"/>\\n        </div>\\n        <div class=\"col col-1\">\\n        </div>\\n        <div class=\"col col-3\">\\n         <input class=\"bp3-input max\" id=\"srh\" max=\"99\" min=\"0\" name=\"srh\" placeholder=\"99\" size=\"2\" type=\"number\" value=\"\"/>\\n        </div>\\n       </div>\\n       <div class=\"spacing grid\">\\n        <div class=\"col col-9\">\\n         <label class=\"ellipsis\">\\n          Long Shots\\n         </label>\\n        </div>\\n        <div class=\"col col-3\">\\n         <input class=\"bp3-input min\" id=\"lnl\" max=\"99\" min=\"0\" name=\"lnl\" placeholder=\"0\" size=\"2\" type=\"number\" value=\"\"/>\\n        </div>\\n        <div class=\"col col-1\">\\n        </div>\\n        <div class=\"col col-3\">\\n         <input class=\"bp3-input max\" id=\"lnh\" max=\"99\" min=\"0\" name=\"lnh\" placeholder=\"99\" size=\"2\" type=\"number\" value=\"\"/>\\n        </div>\\n       </div>\\n       <h5>\\n        Mentality\\n       </h5>\\n       <div class=\"half-spacing grid\">\\n        <div class=\"col col-9\">\\n         <label class=\"ellipsis\">\\n          Aggression\\n         </label>\\n        </div>\\n        <div class=\"col col-3\">\\n         <input class=\"bp3-input min\" id=\"arl\" max=\"99\" min=\"0\" name=\"arl\" placeholder=\"0\" size=\"2\" type=\"number\" value=\"\"/>\\n        </div>\\n        <div class=\"col col-1\">\\n        </div>\\n        <div class=\"col col-3\">\\n         <input class=\"bp3-input max\" id=\"arh\" max=\"99\" min=\"0\" name=\"arh\" placeholder=\"99\" size=\"2\" type=\"number\" value=\"\"/>\\n        </div>\\n       </div>\\n       <div class=\"half-spacing grid\">\\n        <div class=\"col col-9\">\\n         <label class=\"ellipsis\">\\n          Interceptions\\n         </label>\\n        </div>\\n        <div class=\"col col-3\">\\n         <input class=\"bp3-input min\" id=\"inl\" max=\"99\" min=\"0\" name=\"inl\" placeholder=\"0\" size=\"2\" type=\"number\" value=\"\"/>\\n        </div>\\n        <div class=\"col col-1\">\\n        </div>\\n        <div class=\"col col-3\">\\n         <input class=\"bp3-input max\" id=\"inh\" max=\"99\" min=\"0\" name=\"inh\" placeholder=\"99\" size=\"2\" type=\"number\" value=\"\"/>\\n        </div>\\n       </div>\\n       <div class=\"half-spacing grid\">\\n        <div class=\"col col-9\">\\n         <label class=\"ellipsis\">\\n          Positioning\\n         </label>\\n        </div>\\n        <div class=\"col col-3\">\\n         <input class=\"bp3-input min\" id=\"pol\" max=\"99\" min=\"0\" name=\"pol\" placeholder=\"0\" size=\"2\" type=\"number\" value=\"\"/>\\n        </div>\\n        <div class=\"col col-1\">\\n        </div>\\n        <div class=\"col col-3\">\\n         <input class=\"bp3-input max\" id=\"poh\" max=\"99\" min=\"0\" name=\"poh\" placeholder=\"99\" size=\"2\" type=\"number\" value=\"\"/>\\n        </div>\\n       </div>\\n       <div class=\"half-spacing grid\">\\n        <div class=\"col col-9\">\\n         <label class=\"ellipsis\">\\n          Vision\\n         </label>\\n        </div>\\n        <div class=\"col col-3\">\\n         <input class=\"bp3-input min\" id=\"vil\" max=\"99\" min=\"0\" name=\"vil\" placeholder=\"0\" size=\"2\" type=\"number\" value=\"\"/>\\n        </div>\\n        <div class=\"col col-1\">\\n        </div>\\n        <div class=\"col col-3\">\\n         <input class=\"bp3-input max\" id=\"vih\" max=\"99\" min=\"0\" name=\"vih\" placeholder=\"99\" size=\"2\" type=\"number\" value=\"\"/>\\n        </div>\\n       </div>\\n       <div class=\"half-spacing grid\">\\n        <div class=\"col col-9\">\\n         <label class=\"ellipsis\">\\n          Penalties\\n         </label>\\n        </div>\\n        <div class=\"col col-3\">\\n         <input class=\"bp3-input min\" id=\"pel\" max=\"99\" min=\"0\" name=\"pel\" placeholder=\"0\" size=\"2\" type=\"number\" value=\"\"/>\\n        </div>\\n        <div class=\"col col-1\">\\n        </div>\\n        <div class=\"col col-3\">\\n         <input class=\"bp3-input max\" id=\"peh\" max=\"99\" min=\"0\" name=\"peh\" placeholder=\"99\" size=\"2\" type=\"number\" value=\"\"/>\\n        </div>\\n       </div>\\n       <div class=\"spacing grid\">\\n        <div class=\"col col-9\">\\n         <label class=\"ellipsis\">\\n          Composure\\n         </label>\\n        </div>\\n        <div class=\"col col-3\">\\n         <input class=\"bp3-input min\" id=\"cml\" max=\"99\" min=\"0\" name=\"cml\" placeholder=\"0\" size=\"2\" type=\"number\" value=\"\"/>\\n        </div>\\n        <div class=\"col col-1\">\\n        </div>\\n        <div class=\"col col-3\">\\n         <input class=\"bp3-input max\" id=\"cmh\" max=\"99\" min=\"0\" name=\"cmh\" placeholder=\"99\" size=\"2\" type=\"number\" value=\"\"/>\\n        </div>\\n       </div>\\n       <h5>\\n        Defending\\n       </h5>\\n       <div class=\"half-spacing grid\">\\n        <div class=\"col col-9\">\\n         <label class=\"ellipsis\">\\n          Defensive Awareness\\n         </label>\\n        </div>\\n        <div class=\"col col-3\">\\n         <input class=\"bp3-input min\" id=\"mal\" max=\"99\" min=\"0\" name=\"mal\" placeholder=\"0\" size=\"2\" type=\"number\" value=\"\"/>\\n        </div>\\n        <div class=\"col col-1\">\\n        </div>\\n        <div class=\"col col-3\">\\n         <input class=\"bp3-input max\" id=\"mah\" max=\"99\" min=\"0\" name=\"mah\" placeholder=\"99\" size=\"2\" type=\"number\" value=\"\"/>\\n        </div>\\n       </div>\\n       <div class=\"half-spacing grid\">\\n        <div class=\"col col-9\">\\n         <label class=\"ellipsis\">\\n          Standing Tackle\\n         </label>\\n        </div>\\n        <div class=\"col col-3\">\\n         <input class=\"bp3-input min\" id=\"sal\" max=\"99\" min=\"0\" name=\"sal\" placeholder=\"0\" size=\"2\" type=\"number\" value=\"\"/>\\n        </div>\\n        <div class=\"col col-1\">\\n        </div>\\n        <div class=\"col col-3\">\\n         <input class=\"bp3-input max\" id=\"sah\" max=\"99\" min=\"0\" name=\"sah\" placeholder=\"99\" size=\"2\" type=\"number\" value=\"\"/>\\n        </div>\\n       </div>\\n       <div class=\"half-spacing grid\">\\n        <div class=\"col col-9\">\\n         <label class=\"ellipsis\">\\n          Sliding Tackle\\n         </label>\\n        </div>\\n        <div class=\"col col-3\">\\n         <input class=\"bp3-input min\" id=\"sll\" max=\"99\" min=\"0\" name=\"sll\" placeholder=\"0\" size=\"2\" type=\"number\" value=\"\"/>\\n        </div>\\n        <div class=\"col col-1\">\\n        </div>\\n        <div class=\"col col-3\">\\n         <input class=\"bp3-input max\" id=\"slh\" max=\"99\" min=\"0\" name=\"slh\" placeholder=\"99\" size=\"2\" type=\"number\" value=\"\"/>\\n        </div>\\n       </div>\\n       <div class=\"text-right\">\\n        <button class=\"bp3-button bp3-intent-primary bp3-fill\" type=\"submit\">\\n         Submit\\n        </button>\\n       </div>\\n      </div>\\n      <div class=\"card\">\\n       <div id=\"filter-gk\">\\n        <h5>\\n         Goalkeeping\\n        </h5>\\n        <div class=\"half-spacing grid\">\\n         <div class=\"col col-9\">\\n          <label class=\"ellipsis\">\\n           GK Diving\\n          </label>\\n         </div>\\n         <div class=\"col col-3\">\\n          <input class=\"bp3-input min\" id=\"gdl\" max=\"99\" min=\"0\" name=\"gdl\" placeholder=\"0\" size=\"2\" type=\"number\" value=\"\"/>\\n         </div>\\n         <div class=\"col col-1\">\\n         </div>\\n         <div class=\"col col-3\">\\n          <input class=\"bp3-input max\" id=\"gdh\" max=\"99\" min=\"0\" name=\"gdh\" placeholder=\"99\" size=\"2\" type=\"number\" value=\"\"/>\\n         </div>\\n        </div>\\n       </div>\\n       <div class=\"half-spacing grid\">\\n        <div class=\"col col-9\">\\n         <label class=\"ellipsis\">\\n          GK Handling\\n         </label>\\n        </div>\\n        <div class=\"col col-3\">\\n         <input class=\"bp3-input min\" id=\"ghl\" max=\"99\" min=\"0\" name=\"ghl\" placeholder=\"0\" size=\"2\" type=\"number\" value=\"\"/>\\n        </div>\\n        <div class=\"col col-1\">\\n        </div>\\n        <div class=\"col col-3\">\\n         <input class=\"bp3-input max\" id=\"ghh\" max=\"99\" min=\"0\" name=\"ghh\" placeholder=\"99\" size=\"2\" type=\"number\" value=\"\"/>\\n        </div>\\n       </div>\\n       <div class=\"half-spacing grid\">\\n        <div class=\"col col-9\">\\n         <label class=\"ellipsis\">\\n          GK Kicking\\n         </label>\\n        </div>\\n        <div class=\"col col-3\">\\n         <input class=\"bp3-input min\" id=\"gkl\" max=\"99\" min=\"0\" name=\"gkl\" placeholder=\"0\" size=\"2\" type=\"number\" value=\"\"/>\\n        </div>\\n        <div class=\"col col-1\">\\n        </div>\\n        <div class=\"col col-3\">\\n         <input class=\"bp3-input max\" id=\"gkh\" max=\"99\" min=\"0\" name=\"gkh\" placeholder=\"99\" size=\"2\" type=\"number\" value=\"\"/>\\n        </div>\\n       </div>\\n       <div class=\"half-spacing grid\">\\n        <div class=\"col col-9\">\\n         <label class=\"ellipsis\">\\n          GK Positioning\\n         </label>\\n        </div>\\n        <div class=\"col col-3\">\\n         <input class=\"bp3-input min\" id=\"gpl\" max=\"99\" min=\"0\" name=\"gpl\" placeholder=\"0\" size=\"2\" type=\"number\" value=\"\"/>\\n        </div>\\n        <div class=\"col col-1\">\\n        </div>\\n        <div class=\"col col-3\">\\n         <input class=\"bp3-input max\" id=\"gph\" max=\"99\" min=\"0\" name=\"gph\" placeholder=\"99\" size=\"2\" type=\"number\" value=\"\"/>\\n        </div>\\n       </div>\\n       <div class=\"spacing grid\">\\n        <div class=\"col col-9\">\\n         <label class=\"ellipsis\">\\n          GK Reflexes\\n         </label>\\n        </div>\\n        <div class=\"col col-3\">\\n         <input class=\"bp3-input min\" id=\"grl\" max=\"99\" min=\"0\" name=\"grl\" placeholder=\"0\" size=\"2\" type=\"number\" value=\"\"/>\\n        </div>\\n        <div class=\"col col-1\">\\n        </div>\\n        <div class=\"col col-3\">\\n         <input class=\"bp3-input max\" id=\"grh\" max=\"99\" min=\"0\" name=\"grh\" placeholder=\"99\" size=\"2\" type=\"number\" value=\"\"/>\\n        </div>\\n       </div>\\n       <h5>\\n        Special\\n       </h5>\\n       <div class=\"half-spacing\">\\n        <select class=\"choices-multiple\" data-placeholder=\"Preferred Position 1\" multiple=\"\" name=\"pn1[]\">\\n         <option value=\"27\">\\n          LW\\n         </option>\\n         <option value=\"25\">\\n          ST\\n         </option>\\n         <option value=\"23\">\\n          RW\\n         </option>\\n         <option value=\"22\">\\n          LF\\n         </option>\\n         <option value=\"21\">\\n          CF\\n         </option>\\n         <option value=\"20\">\\n          RF\\n         </option>\\n         <option value=\"18\">\\n          CAM\\n         </option>\\n         <option value=\"16\">\\n          LM\\n         </option>\\n         <option value=\"14\">\\n          CM\\n         </option>\\n         <option value=\"12\">\\n          RM\\n         </option>\\n         <option value=\"10\">\\n          CDM\\n         </option>\\n         <option value=\"8\">\\n          LWB\\n         </option>\\n         <option value=\"7\">\\n          LB\\n         </option>\\n         <option value=\"5\">\\n          CB\\n         </option>\\n         <option value=\"3\">\\n          RB\\n         </option>\\n         <option value=\"2\">\\n          RWB\\n         </option>\\n         <option value=\"0\">\\n          GK\\n         </option>\\n        </select>\\n       </div>\\n       <div class=\"half-spacing\">\\n        <select class=\"choices-multiple\" data-placeholder=\"Preferred Position 2\" multiple=\"\" name=\"pn2[]\">\\n         <option value=\"27\">\\n          LW\\n         </option>\\n         <option value=\"25\">\\n          ST\\n         </option>\\n         <option value=\"23\">\\n          RW\\n         </option>\\n         <option value=\"22\">\\n          LF\\n         </option>\\n         <option value=\"21\">\\n          CF\\n         </option>\\n         <option value=\"20\">\\n          RF\\n         </option>\\n         <option value=\"18\">\\n          CAM\\n         </option>\\n         <option value=\"16\">\\n          LM\\n         </option>\\n         <option value=\"14\">\\n          CM\\n         </option>\\n         <option value=\"12\">\\n          RM\\n         </option>\\n         <option value=\"10\">\\n          CDM\\n         </option>\\n         <option value=\"8\">\\n          LWB\\n         </option>\\n         <option value=\"7\">\\n          LB\\n         </option>\\n         <option value=\"5\">\\n          CB\\n         </option>\\n         <option value=\"3\">\\n          RB\\n         </option>\\n         <option value=\"2\">\\n          RWB\\n         </option>\\n         <option value=\"0\">\\n          GK\\n         </option>\\n        </select>\\n       </div>\\n       <div class=\"half-spacing\">\\n        <select class=\"choices-multiple\" data-placeholder=\"Preferred Position 3\" multiple=\"\" name=\"pn3[]\">\\n         <option value=\"27\">\\n          LW\\n         </option>\\n         <option value=\"25\">\\n          ST\\n         </option>\\n         <option value=\"23\">\\n          RW\\n         </option>\\n         <option value=\"22\">\\n          LF\\n         </option>\\n         <option value=\"21\">\\n          CF\\n         </option>\\n         <option value=\"20\">\\n          RF\\n         </option>\\n         <option value=\"18\">\\n          CAM\\n         </option>\\n         <option value=\"16\">\\n          LM\\n         </option>\\n         <option value=\"14\">\\n          CM\\n         </option>\\n         <option value=\"12\">\\n          RM\\n         </option>\\n         <option value=\"10\">\\n          CDM\\n         </option>\\n         <option value=\"8\">\\n          LWB\\n         </option>\\n         <option value=\"7\">\\n          LB\\n         </option>\\n         <option value=\"5\">\\n          CB\\n         </option>\\n         <option value=\"3\">\\n          RB\\n         </option>\\n         <option value=\"2\">\\n          RWB\\n         </option>\\n         <option value=\"0\">\\n          GK\\n         </option>\\n        </select>\\n       </div>\\n       <div class=\"half-spacing\">\\n        <select class=\"choices-multiple\" data-placeholder=\"Preferred Position 4\" multiple=\"\" name=\"pn4[]\">\\n         <option value=\"27\">\\n          LW\\n         </option>\\n         <option value=\"25\">\\n          ST\\n         </option>\\n         <option value=\"23\">\\n          RW\\n         </option>\\n         <option value=\"22\">\\n          LF\\n         </option>\\n         <option value=\"21\">\\n          CF\\n         </option>\\n         <option value=\"20\">\\n          RF\\n         </option>\\n         <option value=\"18\">\\n          CAM\\n         </option>\\n         <option value=\"16\">\\n          LM\\n         </option>\\n         <option value=\"14\">\\n          CM\\n         </option>\\n         <option value=\"12\">\\n          RM\\n         </option>\\n         <option value=\"10\">\\n          CDM\\n         </option>\\n         <option value=\"8\">\\n          LWB\\n         </option>\\n         <option value=\"7\">\\n          LB\\n         </option>\\n         <option value=\"5\">\\n          CB\\n         </option>\\n         <option value=\"3\">\\n          RB\\n         </option>\\n         <option value=\"2\">\\n          RWB\\n         </option>\\n         <option value=\"0\">\\n          GK\\n         </option>\\n        </select>\\n       </div>\\n       <div class=\"half-spacing grid\">\\n        <div class=\"col col-9\">\\n         <label class=\"ellipsis\">\\n          Growth\\n         </label>\\n        </div>\\n        <div class=\"col col-3\">\\n         <input class=\"bp3-input min\" id=\"gul\" max=\"99\" min=\"0\" name=\"gul\" placeholder=\"0\" size=\"2\" type=\"number\" value=\"\"/>\\n        </div>\\n        <div class=\"col col-1\">\\n        </div>\\n        <div class=\"col col-3\">\\n         <input class=\"bp3-input max\" id=\"guh\" max=\"99\" min=\"0\" name=\"guh\" placeholder=\"99\" size=\"2\" type=\"number\" value=\"\"/>\\n        </div>\\n       </div>\\n       <div class=\"half-spacing grid\">\\n        <div class=\"col col-9\">\\n         <label class=\"ellipsis\">\\n          Contract Valid Until\\n         </label>\\n        </div>\\n        <div class=\"col col-3\">\\n         <input class=\"bp3-input min\" id=\"cvl\" max=\"2050\" min=\"2000\" name=\"cvl\" placeholder=\"2000\" size=\"2\" type=\"number\" value=\"\"/>\\n        </div>\\n        <div class=\"col col-1\">\\n        </div>\\n        <div class=\"col col-3\">\\n         <input class=\"bp3-input max\" id=\"cvh\" max=\"2050\" min=\"2000\" name=\"cvh\" placeholder=\"2050\" size=\"2\" type=\"number\" value=\"\"/>\\n        </div>\\n       </div>\\n       <div class=\"half-spacing grid\">\\n        <div class=\"col col-12\">\\n         <select class=\"choices-single\" name=\"jd\">\\n          <option value=\"\">\\n           Joined Day\\n          </option>\\n          <option value=\"31\">\\n           31\\n          </option>\\n          <option value=\"30\">\\n           30\\n          </option>\\n          <option value=\"29\">\\n           29\\n          </option>\\n          <option value=\"28\">\\n           28\\n          </option>\\n          <option value=\"27\">\\n           27\\n          </option>\\n          <option value=\"26\">\\n           26\\n          </option>\\n          <option value=\"25\">\\n           25\\n          </option>\\n          <option value=\"24\">\\n           24\\n          </option>\\n          <option value=\"23\">\\n           23\\n          </option>\\n          <option value=\"22\">\\n           22\\n          </option>\\n          <option value=\"21\">\\n           21\\n          </option>\\n          <option value=\"20\">\\n           20\\n          </option>\\n          <option value=\"19\">\\n           19\\n          </option>\\n          <option value=\"18\">\\n           18\\n          </option>\\n          <option value=\"17\">\\n           17\\n          </option>\\n          <option value=\"16\">\\n           16\\n          </option>\\n          <option value=\"15\">\\n           15\\n          </option>\\n          <option value=\"14\">\\n           14\\n          </option>\\n          <option value=\"13\">\\n           13\\n          </option>\\n          <option value=\"12\">\\n           12\\n          </option>\\n          <option value=\"11\">\\n           11\\n          </option>\\n          <option value=\"10\">\\n           10\\n          </option>\\n          <option value=\"9\">\\n           9\\n          </option>\\n          <option value=\"8\">\\n           8\\n          </option>\\n          <option value=\"7\">\\n           7\\n          </option>\\n          <option value=\"6\">\\n           6\\n          </option>\\n          <option value=\"5\">\\n           5\\n          </option>\\n          <option value=\"4\">\\n           4\\n          </option>\\n          <option value=\"3\">\\n           3\\n          </option>\\n          <option value=\"2\">\\n           2\\n          </option>\\n          <option value=\"1\">\\n           1\\n          </option>\\n         </select>\\n        </div>\\n        <div class=\"col col-1\">\\n        </div>\\n        <div class=\"col col-12\">\\n         <select class=\"choices-single\" name=\"jm\">\\n          <option value=\"\">\\n           Joined Month\\n          </option>\\n          <option value=\"12\">\\n           December\\n          </option>\\n          <option value=\"11\">\\n           November\\n          </option>\\n          <option value=\"10\">\\n           October\\n          </option>\\n          <option value=\"9\">\\n           September\\n          </option>\\n          <option value=\"8\">\\n           August\\n          </option>\\n          <option value=\"7\">\\n           July\\n          </option>\\n          <option value=\"6\">\\n           June\\n          </option>\\n          <option value=\"5\">\\n           May\\n          </option>\\n          <option value=\"4\">\\n           April\\n          </option>\\n          <option value=\"3\">\\n           March\\n          </option>\\n          <option value=\"2\">\\n           February\\n          </option>\\n          <option value=\"1\">\\n           January\\n          </option>\\n         </select>\\n        </div>\\n        <div class=\"col col-1\">\\n        </div>\\n        <div class=\"col col-12\">\\n         <select class=\"choices-single\" name=\"jy\">\\n          <option value=\"\">\\n           Joined Year\\n          </option>\\n          <option value=\"2023\">\\n           2023\\n          </option>\\n          <option value=\"2022\">\\n           2022\\n          </option>\\n          <option value=\"2021\">\\n           2021\\n          </option>\\n          <option value=\"2020\">\\n           2020\\n          </option>\\n          <option value=\"2019\">\\n           2019\\n          </option>\\n          <option value=\"2018\">\\n           2018\\n          </option>\\n          <option value=\"2017\">\\n           2017\\n          </option>\\n          <option value=\"2016\">\\n           2016\\n          </option>\\n          <option value=\"2015\">\\n           2015\\n          </option>\\n          <option value=\"2014\">\\n           2014\\n          </option>\\n          <option value=\"2013\">\\n           2013\\n          </option>\\n          <option value=\"2012\">\\n           2012\\n          </option>\\n          <option value=\"2011\">\\n           2011\\n          </option>\\n          <option value=\"2010\">\\n           2010\\n          </option>\\n          <option value=\"2009\">\\n           2009\\n          </option>\\n          <option value=\"2008\">\\n           2008\\n          </option>\\n          <option value=\"2007\">\\n           2007\\n          </option>\\n          <option value=\"2006\">\\n           2006\\n          </option>\\n          <option value=\"2005\">\\n           2005\\n          </option>\\n          <option value=\"2004\">\\n           2004\\n          </option>\\n          <option value=\"2003\">\\n           2003\\n          </option>\\n          <option value=\"2002\">\\n           2002\\n          </option>\\n          <option value=\"2001\">\\n           2001\\n          </option>\\n          <option value=\"2000\">\\n           2000\\n          </option>\\n          <option value=\"1999\">\\n           1999\\n          </option>\\n          <option value=\"1998\">\\n           1998\\n          </option>\\n          <option value=\"1997\">\\n           1997\\n          </option>\\n          <option value=\"1996\">\\n           1996\\n          </option>\\n          <option value=\"1995\">\\n           1995\\n          </option>\\n          <option value=\"1994\">\\n           1994\\n          </option>\\n          <option value=\"1993\">\\n           1993\\n          </option>\\n          <option value=\"1992\">\\n           1992\\n          </option>\\n          <option value=\"1991\">\\n           1991\\n          </option>\\n          <option value=\"1990\">\\n           1990\\n          </option>\\n          <option value=\"1989\">\\n           1989\\n          </option>\\n          <option value=\"1988\">\\n           1988\\n          </option>\\n          <option value=\"1987\">\\n           1987\\n          </option>\\n          <option value=\"1986\">\\n           1986\\n          </option>\\n          <option value=\"1985\">\\n           1985\\n          </option>\\n          <option value=\"1984\">\\n           1984\\n          </option>\\n          <option value=\"1983\">\\n           1983\\n          </option>\\n          <option value=\"1982\">\\n           1982\\n          </option>\\n          <option value=\"1981\">\\n           1981\\n          </option>\\n         </select>\\n        </div>\\n       </div>\\n       <div class=\"half-spacing\">\\n        <select class=\"choices-multiple\" data-placeholder=\"Attacking Work Rate\" multiple=\"\" name=\"aw[]\">\\n         <option value=\"1\">\\n          Low\\n         </option>\\n         <option value=\"0\">\\n          Medium\\n         </option>\\n         <option value=\"2\">\\n          High\\n         </option>\\n        </select>\\n       </div>\\n       <div class=\"half-spacing\">\\n        <select class=\"choices-multiple\" data-placeholder=\"Defensive Work Rate\" multiple=\"\" name=\"dw[]\">\\n         <option value=\"1\">\\n          Low\\n         </option>\\n         <option value=\"0\">\\n          Medium\\n         </option>\\n         <option value=\"2\">\\n          High\\n         </option>\\n        </select>\\n       </div>\\n       <div class=\"half-spacing\">\\n        <select class=\"choices-multiple\" data-placeholder=\"International Reputation\" multiple=\"\" name=\"ir[]\">\\n         <option value=\"1\">\\n          1 ★\\n         </option>\\n         <option value=\"2\">\\n          2 ★\\n         </option>\\n         <option value=\"3\">\\n          3 ★\\n         </option>\\n         <option value=\"4\">\\n          4 ★\\n         </option>\\n         <option value=\"5\">\\n          5 ★\\n         </option>\\n        </select>\\n       </div>\\n       <div class=\"half-spacing\">\\n        <select class=\"choices-multiple\" data-placeholder=\"Real Face\" multiple=\"\" name=\"hc[]\">\\n         <option value=\"0\">\\n          Yes\\n         </option>\\n         <option value=\"1\">\\n          No\\n         </option>\\n        </select>\\n       </div>\\n       <div class=\"half-spacing grid\">\\n        <div class=\"col col-12\">\\n         <select class=\"choices-single\" name=\"bd\">\\n          <option value=\"\">\\n           Birth Day\\n          </option>\\n          <option value=\"31\">\\n           31\\n          </option>\\n          <option value=\"30\">\\n           30\\n          </option>\\n          <option value=\"29\">\\n           29\\n          </option>\\n          <option value=\"28\">\\n           28\\n          </option>\\n          <option value=\"27\">\\n           27\\n          </option>\\n          <option value=\"26\">\\n           26\\n          </option>\\n          <option value=\"25\">\\n           25\\n          </option>\\n          <option value=\"24\">\\n           24\\n          </option>\\n          <option value=\"23\">\\n           23\\n          </option>\\n          <option value=\"22\">\\n           22\\n          </option>\\n          <option value=\"21\">\\n           21\\n          </option>\\n          <option value=\"20\">\\n           20\\n          </option>\\n          <option value=\"19\">\\n           19\\n          </option>\\n          <option value=\"18\">\\n           18\\n          </option>\\n          <option value=\"17\">\\n           17\\n          </option>\\n          <option value=\"16\">\\n           16\\n          </option>\\n          <option value=\"15\">\\n           15\\n          </option>\\n          <option value=\"14\">\\n           14\\n          </option>\\n          <option value=\"13\">\\n           13\\n          </option>\\n          <option value=\"12\">\\n           12\\n          </option>\\n          <option value=\"11\">\\n           11\\n          </option>\\n          <option value=\"10\">\\n           10\\n          </option>\\n          <option value=\"9\">\\n           9\\n          </option>\\n          <option value=\"8\">\\n           8\\n          </option>\\n          <option value=\"7\">\\n           7\\n          </option>\\n          <option value=\"6\">\\n           6\\n          </option>\\n          <option value=\"5\">\\n           5\\n          </option>\\n          <option value=\"4\">\\n           4\\n          </option>\\n          <option value=\"3\">\\n           3\\n          </option>\\n          <option value=\"2\">\\n           2\\n          </option>\\n          <option value=\"1\">\\n           1\\n          </option>\\n         </select>\\n        </div>\\n        <div class=\"col col-1\">\\n        </div>\\n        <div class=\"col col-12\">\\n         <select class=\"choices-single\" name=\"bm\">\\n          <option value=\"\">\\n           Birth Month\\n          </option>\\n          <option value=\"12\">\\n           December\\n          </option>\\n          <option value=\"11\">\\n           November\\n          </option>\\n          <option value=\"10\">\\n           October\\n          </option>\\n          <option value=\"9\">\\n           September\\n          </option>\\n          <option value=\"8\">\\n           August\\n          </option>\\n          <option value=\"7\">\\n           July\\n          </option>\\n          <option value=\"6\">\\n           June\\n          </option>\\n          <option value=\"5\">\\n           May\\n          </option>\\n          <option value=\"4\">\\n           April\\n          </option>\\n          <option value=\"3\">\\n           March\\n          </option>\\n          <option value=\"2\">\\n           February\\n          </option>\\n          <option value=\"1\">\\n           January\\n          </option>\\n         </select>\\n        </div>\\n        <div class=\"col col-1\">\\n        </div>\\n        <div class=\"col col-12\">\\n         <select class=\"choices-single\" name=\"by\">\\n          <option value=\"\">\\n           Birth Year\\n          </option>\\n          <option value=\"2013\">\\n           2013\\n          </option>\\n          <option value=\"2012\">\\n           2012\\n          </option>\\n          <option value=\"2011\">\\n           2011\\n          </option>\\n          <option value=\"2010\">\\n           2010\\n          </option>\\n          <option value=\"2009\">\\n           2009\\n          </option>\\n          <option value=\"2008\">\\n           2008\\n          </option>\\n          <option value=\"2007\">\\n           2007\\n          </option>\\n          <option value=\"2006\">\\n           2006\\n          </option>\\n          <option value=\"2005\">\\n           2005\\n          </option>\\n          <option value=\"2004\">\\n           2004\\n          </option>\\n          <option value=\"2003\">\\n           2003\\n          </option>\\n          <option value=\"2002\">\\n           2002\\n          </option>\\n          <option value=\"2001\">\\n           2001\\n          </option>\\n          <option value=\"2000\">\\n           2000\\n          </option>\\n          <option value=\"1999\">\\n           1999\\n          </option>\\n          <option value=\"1998\">\\n           1998\\n          </option>\\n          <option value=\"1997\">\\n           1997\\n          </option>\\n          <option value=\"1996\">\\n           1996\\n          </option>\\n          <option value=\"1995\">\\n           1995\\n          </option>\\n          <option value=\"1994\">\\n           1994\\n          </option>\\n          <option value=\"1993\">\\n           1993\\n          </option>\\n          <option value=\"1992\">\\n           1992\\n          </option>\\n          <option value=\"1991\">\\n           1991\\n          </option>\\n          <option value=\"1990\">\\n           1990\\n          </option>\\n          <option value=\"1989\">\\n           1989\\n          </option>\\n          <option value=\"1988\">\\n           1988\\n          </option>\\n          <option value=\"1987\">\\n           1987\\n          </option>\\n          <option value=\"1986\">\\n           1986\\n          </option>\\n          <option value=\"1985\">\\n           1985\\n          </option>\\n          <option value=\"1984\">\\n           1984\\n          </option>\\n          <option value=\"1983\">\\n           1983\\n          </option>\\n          <option value=\"1982\">\\n           1982\\n          </option>\\n          <option value=\"1981\">\\n           1981\\n          </option>\\n          <option value=\"1980\">\\n           1980\\n          </option>\\n          <option value=\"1979\">\\n           1979\\n          </option>\\n          <option value=\"1978\">\\n           1978\\n          </option>\\n          <option value=\"1977\">\\n           1977\\n          </option>\\n          <option value=\"1976\">\\n           1976\\n          </option>\\n          <option value=\"1975\">\\n           1975\\n          </option>\\n          <option value=\"1974\">\\n           1974\\n          </option>\\n          <option value=\"1973\">\\n           1973\\n          </option>\\n          <option value=\"1972\">\\n           1972\\n          </option>\\n          <option value=\"1971\">\\n           1971\\n          </option>\\n          <option value=\"1970\">\\n           1970\\n          </option>\\n          <option value=\"1969\">\\n           1969\\n          </option>\\n          <option value=\"1968\">\\n           1968\\n          </option>\\n          <option value=\"1967\">\\n           1967\\n          </option>\\n          <option value=\"1966\">\\n           1966\\n          </option>\\n          <option value=\"1965\">\\n           1965\\n          </option>\\n          <option value=\"1964\">\\n           1964\\n          </option>\\n          <option value=\"1963\">\\n           1963\\n          </option>\\n          <option value=\"1962\">\\n           1962\\n          </option>\\n          <option value=\"1961\">\\n           1961\\n          </option>\\n         </select>\\n        </div>\\n       </div>\\n       <div class=\"half-spacing\">\\n        <select class=\"choices-multiple\" data-placeholder=\"Body Type\" multiple=\"\" name=\"bt[]\">\\n         <option value=\"1\">\\n          Lean (170-185)\\n         </option>\\n         <option value=\"2\">\\n          Normal (170-185)\\n         </option>\\n         <option value=\"3\">\\n          Stocky (170-185)\\n         </option>\\n         <option value=\"4\">\\n          Lean (185+)\\n         </option>\\n         <option value=\"5\">\\n          Normal (185+)\\n         </option>\\n         <option value=\"6\">\\n          Stocky (185+)\\n         </option>\\n         <option value=\"7\">\\n          Lean (170-)\\n         </option>\\n         <option value=\"8\">\\n          Normal (170-)\\n         </option>\\n         <option value=\"9\">\\n          Stocky (170-)\\n         </option>\\n         <option value=\"0\">\\n          Unique\\n         </option>\\n        </select>\\n       </div>\\n       <div class=\"half-spacing\">\\n        <select class=\"choices-multiple\" data-placeholder=\"Traits\" multiple=\"\" name=\"t1[]\">\\n         <option value=\"1\">\\n          Long Throw-in\\n         </option>\\n         <option value=\"2\">\\n          Power Free-Kick\\n         </option>\\n         <option value=\"4\">\\n          Injury Prone\\n         </option>\\n         <option value=\"8\">\\n          Solid Player\\n         </option>\\n         <option value=\"16\">\\n          Dives Into Tackles (AI)\\n         </option>\\n         <option value=\"64\">\\n          Leadership\\n         </option>\\n         <option value=\"128\">\\n          Early Crosser\\n         </option>\\n         <option value=\"256\">\\n          Finesse Shot\\n         </option>\\n         <option value=\"512\">\\n          Flair\\n         </option>\\n         <option value=\"1024\">\\n          Long Passer (AI)\\n         </option>\\n         <option value=\"2048\">\\n          Long Shot Taker (AI)\\n         </option>\\n         <option value=\"4096\">\\n          Speed Dribbler (AI)\\n         </option>\\n         <option value=\"8192\">\\n          Playmaker (AI)\\n         </option>\\n         <option value=\"16384\">\\n          GK Long Throw\\n         </option>\\n         <option value=\"32768\">\\n          Power Header\\n         </option>\\n         <option value=\"65536\">\\n          Giant Throw-in\\n         </option>\\n         <option value=\"131072\">\\n          Outside Foot Shot\\n         </option>\\n         <option value=\"8388608\">\\n          One Club Player\\n         </option>\\n         <option value=\"16777216\">\\n          Team Player\\n         </option>\\n         <option value=\"33554432\">\\n          Chip Shot (AI)\\n         </option>\\n         <option value=\"67108864\">\\n          Technical Dribbler (AI)\\n         </option>\\n         <option value=\"134217728\">\\n          Rushes Out Of Goal\\n         </option>\\n         <option value=\"268435456\">\\n          Cautious With Crosses\\n         </option>\\n         <option value=\"536870912\">\\n          Comes For Crosses\\n         </option>\\n        </select>\\n       </div>\\n       <div class=\"half-spacing\">\\n        <select class=\"choices-multiple\" data-placeholder=\"Traits\" multiple=\"\" name=\"t2[]\">\\n         <option value=\"2\">\\n          Saves with Feet\\n         </option>\\n        </select>\\n       </div>\\n       <div class=\"half-spacing\">\\n        <select class=\"choices-multiple\" data-placeholder=\"Player Specialities\" multiple=\"\" name=\"sc[]\">\\n         <option value=\"1\">\\n          Poacher\\n         </option>\\n         <option value=\"2\">\\n          Speedster\\n         </option>\\n         <option value=\"4\">\\n          Aerial Threat\\n         </option>\\n         <option value=\"8\">\\n          Dribbler\\n         </option>\\n         <option value=\"16\">\\n          Playmaker\\n         </option>\\n         <option value=\"32\">\\n          Engine\\n         </option>\\n         <option value=\"64\">\\n          Distance Shooter\\n         </option>\\n         <option value=\"128\">\\n          Crosser\\n         </option>\\n         <option value=\"256\">\\n          FK Specialist\\n         </option>\\n         <option value=\"512\">\\n          Tackling\\n         </option>\\n         <option value=\"1024\">\\n          Tactician\\n         </option>\\n         <option value=\"2048\">\\n          Acrobat\\n         </option>\\n         <option value=\"4096\">\\n          Strength\\n         </option>\\n         <option value=\"8192\">\\n          Clinical Finisher\\n         </option>\\n         <option value=\"16384\">\\n          Complete Defender\\n         </option>\\n         <option value=\"32768\">\\n          Complete Midfielder\\n         </option>\\n         <option value=\"65536\">\\n          Complete Forward\\n         </option>\\n        </select>\\n       </div>\\n       <div class=\"half-spacing grid\">\\n        <div class=\"col col-9\">\\n         <label class=\"ellipsis\">\\n          LS ST RS\\n         </label>\\n        </div>\\n        <div class=\"col col-3\">\\n         <input class=\"bp3-input min\" id=\"rsl\" max=\"99\" min=\"0\" name=\"rsl\" placeholder=\"0\" size=\"2\" type=\"number\" value=\"\"/>\\n        </div>\\n        <div class=\"col col-1\">\\n        </div>\\n        <div class=\"col col-3\">\\n         <input class=\"bp3-input max\" id=\"rsh\" max=\"99\" min=\"0\" name=\"rsh\" placeholder=\"99\" size=\"2\" type=\"number\" value=\"\"/>\\n        </div>\\n       </div>\\n       <div class=\"half-spacing grid\">\\n        <div class=\"col col-9\">\\n         <label class=\"ellipsis\">\\n          LW RW\\n         </label>\\n        </div>\\n        <div class=\"col col-3\">\\n         <input class=\"bp3-input min\" id=\"rwl\" max=\"99\" min=\"0\" name=\"rwl\" placeholder=\"0\" size=\"2\" type=\"number\" value=\"\"/>\\n        </div>\\n        <div class=\"col col-1\">\\n        </div>\\n        <div class=\"col col-3\">\\n         <input class=\"bp3-input max\" id=\"rwh\" max=\"99\" min=\"0\" name=\"rwh\" placeholder=\"99\" size=\"2\" type=\"number\" value=\"\"/>\\n        </div>\\n       </div>\\n       <div class=\"half-spacing grid\">\\n        <div class=\"col col-9\">\\n         <label class=\"ellipsis\">\\n          LF CF RF\\n         </label>\\n        </div>\\n        <div class=\"col col-3\">\\n         <input class=\"bp3-input min\" id=\"rfl\" max=\"99\" min=\"0\" name=\"rfl\" placeholder=\"0\" size=\"2\" type=\"number\" value=\"\"/>\\n        </div>\\n        <div class=\"col col-1\">\\n        </div>\\n        <div class=\"col col-3\">\\n         <input class=\"bp3-input max\" id=\"rfh\" max=\"99\" min=\"0\" name=\"rfh\" placeholder=\"99\" size=\"2\" type=\"number\" value=\"\"/>\\n        </div>\\n       </div>\\n       <div class=\"half-spacing grid\">\\n        <div class=\"col col-9\">\\n         <label class=\"ellipsis\">\\n          LAM CAM RAM\\n         </label>\\n        </div>\\n        <div class=\"col col-3\">\\n         <input class=\"bp3-input min\" id=\"raml\" max=\"99\" min=\"0\" name=\"raml\" placeholder=\"0\" size=\"2\" type=\"number\" value=\"\"/>\\n        </div>\\n        <div class=\"col col-1\">\\n        </div>\\n        <div class=\"col col-3\">\\n         <input class=\"bp3-input max\" id=\"ramh\" max=\"99\" min=\"0\" name=\"ramh\" placeholder=\"99\" size=\"2\" type=\"number\" value=\"\"/>\\n        </div>\\n       </div>\\n       <div class=\"half-spacing grid\">\\n        <div class=\"col col-9\">\\n         <label class=\"ellipsis\">\\n          LCM CM RCM\\n         </label>\\n        </div>\\n        <div class=\"col col-3\">\\n         <input class=\"bp3-input min\" id=\"rcml\" max=\"99\" min=\"0\" name=\"rcml\" placeholder=\"0\" size=\"2\" type=\"number\" value=\"\"/>\\n        </div>\\n        <div class=\"col col-1\">\\n        </div>\\n        <div class=\"col col-3\">\\n         <input class=\"bp3-input max\" id=\"rcmh\" max=\"99\" min=\"0\" name=\"rcmh\" placeholder=\"99\" size=\"2\" type=\"number\" value=\"\"/>\\n        </div>\\n       </div>\\n       <div class=\"half-spacing grid\">\\n        <div class=\"col col-9\">\\n         <label class=\"ellipsis\">\\n          LM RM\\n         </label>\\n        </div>\\n        <div class=\"col col-3\">\\n         <input class=\"bp3-input min\" id=\"rml\" max=\"99\" min=\"0\" name=\"rml\" placeholder=\"0\" size=\"2\" type=\"number\" value=\"\"/>\\n        </div>\\n        <div class=\"col col-1\">\\n        </div>\\n        <div class=\"col col-3\">\\n         <input class=\"bp3-input max\" id=\"rmh\" max=\"99\" min=\"0\" name=\"rmh\" placeholder=\"99\" size=\"2\" type=\"number\" value=\"\"/>\\n        </div>\\n       </div>\\n       <div class=\"half-spacing grid\">\\n        <div class=\"col col-9\">\\n         <label class=\"ellipsis\">\\n          LDM CDM RDM\\n         </label>\\n        </div>\\n        <div class=\"col col-3\">\\n         <input class=\"bp3-input min\" id=\"rdml\" max=\"99\" min=\"0\" name=\"rdml\" placeholder=\"0\" size=\"2\" type=\"number\" value=\"\"/>\\n        </div>\\n        <div class=\"col col-1\">\\n        </div>\\n        <div class=\"col col-3\">\\n         <input class=\"bp3-input max\" id=\"rdmh\" max=\"99\" min=\"0\" name=\"rdmh\" placeholder=\"99\" size=\"2\" type=\"number\" value=\"\"/>\\n        </div>\\n       </div>\\n       <div class=\"half-spacing grid\">\\n        <div class=\"col col-9\">\\n         <label class=\"ellipsis\">\\n          LCB CB RCB\\n         </label>\\n        </div>\\n        <div class=\"col col-3\">\\n         <input class=\"bp3-input min\" id=\"rcbl\" max=\"99\" min=\"0\" name=\"rcbl\" placeholder=\"0\" size=\"2\" type=\"number\" value=\"\"/>\\n        </div>\\n        <div class=\"col col-1\">\\n        </div>\\n        <div class=\"col col-3\">\\n         <input class=\"bp3-input max\" id=\"rcbh\" max=\"99\" min=\"0\" name=\"rcbh\" placeholder=\"99\" size=\"2\" type=\"number\" value=\"\"/>\\n        </div>\\n       </div>\\n       <div class=\"half-spacing grid\">\\n        <div class=\"col col-9\">\\n         <label class=\"ellipsis\">\\n          LB RB\\n         </label>\\n        </div>\\n        <div class=\"col col-3\">\\n         <input class=\"bp3-input min\" id=\"rbl\" max=\"99\" min=\"0\" name=\"rbl\" placeholder=\"0\" size=\"2\" type=\"number\" value=\"\"/>\\n        </div>\\n        <div class=\"col col-1\">\\n        </div>\\n        <div class=\"col col-3\">\\n         <input class=\"bp3-input max\" id=\"rbh\" max=\"99\" min=\"0\" name=\"rbh\" placeholder=\"99\" size=\"2\" type=\"number\" value=\"\"/>\\n        </div>\\n       </div>\\n       <div class=\"half-spacing grid\">\\n        <div class=\"col col-9\">\\n         <label class=\"ellipsis\">\\n          LWB RWB\\n         </label>\\n        </div>\\n        <div class=\"col col-3\">\\n         <input class=\"bp3-input min\" id=\"rwbl\" max=\"99\" min=\"0\" name=\"rwbl\" placeholder=\"0\" size=\"2\" type=\"number\" value=\"\"/>\\n        </div>\\n        <div class=\"col col-1\">\\n        </div>\\n        <div class=\"col col-3\">\\n         <input class=\"bp3-input max\" id=\"rwbh\" max=\"99\" min=\"0\" name=\"rwbh\" placeholder=\"99\" size=\"2\" type=\"number\" value=\"\"/>\\n        </div>\\n       </div>\\n       <div class=\"half-spacing grid\">\\n        <div class=\"col col-9\">\\n         <label class=\"ellipsis\">\\n          PAC / DIV\\n         </label>\\n        </div>\\n        <div class=\"col col-3\">\\n         <input class=\"bp3-input min\" id=\"pacl\" max=\"99\" min=\"0\" name=\"pacl\" placeholder=\"0\" size=\"2\" type=\"number\" value=\"\"/>\\n        </div>\\n        <div class=\"col col-1\">\\n        </div>\\n        <div class=\"col col-3\">\\n         <input class=\"bp3-input max\" id=\"pach\" max=\"99\" min=\"0\" name=\"pach\" placeholder=\"99\" size=\"2\" type=\"number\" value=\"\"/>\\n        </div>\\n       </div>\\n       <div class=\"half-spacing grid\">\\n        <div class=\"col col-9\">\\n         <label class=\"ellipsis\">\\n          SHO / HAN\\n         </label>\\n        </div>\\n        <div class=\"col col-3\">\\n         <input class=\"bp3-input min\" id=\"shol\" max=\"99\" min=\"0\" name=\"shol\" placeholder=\"0\" size=\"2\" type=\"number\" value=\"\"/>\\n        </div>\\n        <div class=\"col col-1\">\\n        </div>\\n        <div class=\"col col-3\">\\n         <input class=\"bp3-input max\" id=\"shoh\" max=\"99\" min=\"0\" name=\"shoh\" placeholder=\"99\" size=\"2\" type=\"number\" value=\"\"/>\\n        </div>\\n       </div>\\n       <div class=\"half-spacing grid\">\\n        <div class=\"col col-9\">\\n         <label class=\"ellipsis\">\\n          PAS / KIC\\n         </label>\\n        </div>\\n        <div class=\"col col-3\">\\n         <input class=\"bp3-input min\" id=\"pasl\" max=\"99\" min=\"0\" name=\"pasl\" placeholder=\"0\" size=\"2\" type=\"number\" value=\"\"/>\\n        </div>\\n        <div class=\"col col-1\">\\n        </div>\\n        <div class=\"col col-3\">\\n         <input class=\"bp3-input max\" id=\"pash\" max=\"99\" min=\"0\" name=\"pash\" placeholder=\"99\" size=\"2\" type=\"number\" value=\"\"/>\\n        </div>\\n       </div>\\n       <div class=\"half-spacing grid\">\\n        <div class=\"col col-9\">\\n         <label class=\"ellipsis\">\\n          DRI / REF\\n         </label>\\n        </div>\\n        <div class=\"col col-3\">\\n         <input class=\"bp3-input min\" id=\"dril\" max=\"99\" min=\"0\" name=\"dril\" placeholder=\"0\" size=\"2\" type=\"number\" value=\"\"/>\\n        </div>\\n        <div class=\"col col-1\">\\n        </div>\\n        <div class=\"col col-3\">\\n         <input class=\"bp3-input max\" id=\"drih\" max=\"99\" min=\"0\" name=\"drih\" placeholder=\"99\" size=\"2\" type=\"number\" value=\"\"/>\\n        </div>\\n       </div>\\n       <div class=\"half-spacing grid\">\\n        <div class=\"col col-9\">\\n         <label class=\"ellipsis\">\\n          DEF / SPD\\n         </label>\\n        </div>\\n        <div class=\"col col-3\">\\n         <input class=\"bp3-input min\" id=\"defl\" max=\"99\" min=\"0\" name=\"defl\" placeholder=\"0\" size=\"2\" type=\"number\" value=\"\"/>\\n        </div>\\n        <div class=\"col col-1\">\\n        </div>\\n        <div class=\"col col-3\">\\n         <input class=\"bp3-input max\" id=\"defh\" max=\"99\" min=\"0\" name=\"defh\" placeholder=\"99\" size=\"2\" type=\"number\" value=\"\"/>\\n        </div>\\n       </div>\\n       <div class=\"half-spacing grid\">\\n        <div class=\"col col-9\">\\n         <label class=\"ellipsis\">\\n          PHY / POS\\n         </label>\\n        </div>\\n        <div class=\"col col-3\">\\n         <input class=\"bp3-input min\" id=\"phyl\" max=\"99\" min=\"0\" name=\"phyl\" placeholder=\"0\" size=\"2\" type=\"number\" value=\"\"/>\\n        </div>\\n        <div class=\"col col-1\">\\n        </div>\\n        <div class=\"col col-3\">\\n         <input class=\"bp3-input max\" id=\"phyh\" max=\"99\" min=\"0\" name=\"phyh\" placeholder=\"99\" size=\"2\" type=\"number\" value=\"\"/>\\n        </div>\\n       </div>\\n       <div class=\"text-right\">\\n        <button class=\"bp3-button bp3-intent-primary bp3-fill\" type=\"submit\">\\n         Submit\\n        </button>\\n       </div>\\n      </div>\\n     </form>\\n     <div class=\"double-spacing\">\\n      <h5>\\n       PARTNERS\\n      </h5>\\n      <div class=\"spacing grid\">\\n       <div class=\"col text-center\">\\n        <a aria-label=\"fifaleague.it\" data-tip-pos=\"top\" href=\"https://www.fifaleague.it/\" role=\"tooltip\" target=\"_blank\">\\n         <img alt=\"fifaleague.it\" height=\"75\" src=\"https://cdn.sofifa.net/partners/fifaleague.it.png\" srcset=\"https://cdn.sofifa.net/partners/fifaleague.it@2x.png 2x, https://cdn.sofifa.net/partners/fifaleague.it@3x.png 3x\" width=\"75\"/>\\n        </a>\\n       </div>\\n       <div class=\"col text-center\">\\n        <a aria-label=\"FIFER Mods\" data-tip-pos=\"top\" href=\"https://twitter.com/FIFER_Mods\" role=\"tooltip\" target=\"_blank\">\\n         <img alt=\"FIFER Mods\" height=\"75\" src=\"https://cdn.sofifa.net/partners/fifer.png\" srcset=\"https://cdn.sofifa.net/partners/fifer@2x.png 2x, https://cdn.sofifa.net/partners/fifer@3x.png 3x\" width=\"75\"/>\\n        </a>\\n       </div>\\n       <div class=\"col text-center\">\\n        <a aria-label=\"fifa-town.de\" data-tip-pos=\"top\" href=\"https://fifa-town.de/\" role=\"tooltip\" target=\"_blank\">\\n         <img alt=\"FIFA-Town\" height=\"75\" src=\"https://cdn.sofifa.net/partners/fifa-town.de.png\" srcset=\"https://cdn.sofifa.net/partners/fifa-town.de@2x.png 2x, https://cdn.sofifa.net/partners/fifa-town.de@3x.png 3x\" width=\"75\"/>\\n        </a>\\n       </div>\\n      </div>\\n     </div>\\n    </div>\\n    <div class=\"col col-12\">\\n     <div class=\"card\" style=\"width: 894px;\">\\n      <table class=\"table table-hover persist-area\">\\n       <thead>\\n        <tr class=\"persist-header\">\\n         <th class=\"col-avatar\">\\n         </th>\\n         <th class=\"col-name text-left\">\\n          Name\\n         </th>\\n         <th aria-label=\"Age\" class=\"col col-ae\" data-tip-pos=\"top\" role=\"tooltip\">\\n          <a class=\"pjax ellipsis\" href=\"/players?r=230011&amp;set=true&amp;col=ae&amp;sort=asc\" rel=\"nofollow\">\\n           <span class=\"bp3-icon sorter\">\\n           </span>\\n           Age\\n          </a>\\n         </th>\\n         <th aria-label=\"Overall Rating\" class=\"col col-oa col-sort\" data-tip-pos=\"top\" role=\"tooltip\">\\n          <a class=\"pjax ellipsis\" href=\"/players?r=230011&amp;set=true&amp;col=oa&amp;sort=asc\" rel=\"nofollow\">\\n           <span class=\"bp3-icon sorter\">\\n            <svg height=\"18\" viewbox=\"0 0 24 24\" width=\"18\">\\n             <polyline points=\"6 9 12 15 18 9\">\\n             </polyline>\\n            </svg>\\n           </span>\\n           OVA\\n          </a>\\n         </th>\\n         <th aria-label=\"Potential\" class=\"col col-pt\" data-tip-pos=\"top\" role=\"tooltip\">\\n          <a class=\"pjax ellipsis\" href=\"/players?r=230011&amp;set=true&amp;col=pt&amp;sort=desc\" rel=\"nofollow\">\\n           <span class=\"bp3-icon sorter\">\\n           </span>\\n           POT\\n          </a>\\n         </th>\\n         <th aria-label=\"Team &amp; Contract\" class=\"col-name text-left\" data-tip-pos=\"top\" role=\"tooltip\">\\n          <a class=\"pjax ellipsis\" href=\"/players?r=230011&amp;set=true&amp;col=tm&amp;sort=asc\" rel=\"nofollow\">\\n           <span class=\"bp3-icon sorter\">\\n           </span>\\n           Team &amp; Contract\\n          </a>\\n         </th>\\n         <th aria-label=\"Value\" class=\"col col-vl\" data-tip-pos=\"top\" role=\"tooltip\">\\n          <a class=\"pjax ellipsis\" href=\"/players?r=230011&amp;set=true&amp;col=vl&amp;sort=asc\" rel=\"nofollow\">\\n           <span class=\"bp3-icon sorter\">\\n           </span>\\n           Value\\n          </a>\\n         </th>\\n         <th aria-label=\"Wage\" class=\"col col-wg\" data-tip-pos=\"top\" role=\"tooltip\">\\n          <a class=\"pjax ellipsis\" href=\"/players?r=230011&amp;set=true&amp;col=wg&amp;sort=asc\" rel=\"nofollow\">\\n           <span class=\"bp3-icon sorter\">\\n           </span>\\n           Wage\\n          </a>\\n         </th>\\n         <th aria-label=\"Total Stats\" class=\"col col-tt\" data-tip-pos=\"top\" role=\"tooltip\">\\n          <a class=\"pjax ellipsis\" href=\"/players?r=230011&amp;set=true&amp;col=tt&amp;sort=desc\" rel=\"nofollow\">\\n           <span class=\"bp3-icon sorter\">\\n           </span>\\n           Total\\n          </a>\\n         </th>\\n        </tr>\\n       </thead>\\n       <tbody class=\"list\">\\n        <tr>\\n         <td class=\"col-avatar\" data-balloon=\"Click here!\" data-balloon-pos=\"up\" data-balloon-visible=\"\">\\n          <figure class=\"avatar updated \" data-tip-pos=\"right\" role=\"tooltip\">\\n           <img alt=\"\" class=\"player-check\" data-root=\"https://cdn.sofifa.net/players/\" data-src=\"https://cdn.sofifa.net/players/231/747/23_60.png\" data-srcset=\"https://cdn.sofifa.net/players/231/747/23_120.png 2x, https://cdn.sofifa.net/players/231/747/23_180.png 3x\" data-type=\"player\" id=\"231747\" src=\"https://cdn.sofifa.net/players/notfound_0_60.png\"/>\\n           <div class=\"tip\">\\n            <div class=\"block-quarter half-spacing pure-u-1-1\">\\n             FIFA 23 Jan 25, 2023\\n            </div>\\n            <div class=\"block-quarter pure-g\">\\n             <span class=\"pure-u-17-24\">\\n              <span class=\"bp3-tag p p-80\">\\n               80\\n              </span>\\n              <svg class=\"go-up\" height=\"18\" viewbox=\"0 0 24 24\" width=\"18\">\\n               <line x1=\"7\" x2=\"17\" y1=\"17\" y2=\"7\">\\n               </line>\\n               <polyline points=\"7 7 17 7 17 17\">\\n               </polyline>\\n              </svg>\\n              <span class=\"bp3-tag p p-84\">\\n               84\\n              </span>\\n             </span>\\n             <abbr class=\"pure-u-7-24\">\\n              Penalties\\n             </abbr>\\n            </div>\\n           </div>\\n          </figure>\\n         </td>\\n         <td class=\"col-name\">\\n          <a aria-label=\"Kylian Mbappé\" data-tip-pos=\"top\" href=\"/player/231747/kylian-mbappe/230011/\" role=\"tooltip\">\\n           <div class=\"ellipsis\">\\n            K. Mbappé\\n           </div>\\n          </a>\\n          <img alt=\"\" class=\"flag\" data-src=\"https://cdn.sofifa.net/flags/fr.png\" data-srcset=\"https://cdn.sofifa.net/flags/fr@2x.png 2x, https://cdn.sofifa.net/flags/fr@3x.png 3x\" height=\"16\" src=\"https://cdn.sofifa.net/pixel.gif\" title=\"France\" width=\"21\"/>\\n          <a href=\"/players?pn=25\" rel=\"nofollow\">\\n           <span class=\"pos pos25\">\\n            ST\\n           </span>\\n          </a>\\n          <a href=\"/players?pn=27\" rel=\"nofollow\">\\n           <span class=\"pos pos27\">\\n            LW\\n           </span>\\n          </a>\\n         </td>\\n         <td class=\"col col-ae\" data-col=\"ae\">\\n          23\\n         </td>\\n         <td class=\"col col-oa col-sort\" data-col=\"oa\">\\n          <span class=\"bp3-tag p p-91\">\\n           91\\n          </span>\\n         </td>\\n         <td class=\"col col-pt\" data-col=\"pt\">\\n          <span class=\"bp3-tag p p-95\">\\n           95\\n          </span>\\n         </td>\\n         <td class=\"col-name\">\\n          <div class=\"ellipsis\">\\n           <figure class=\"avatar avatar-sm transparent\">\\n            <img alt=\"\" class=\"team\" data-root=\"https://cdn.sofifa.net/teams/\" data-src=\"https://cdn.sofifa.net/teams/73/30.png\" data-srcset=\"https://cdn.sofifa.net/teams/73/60.png 2x, https://cdn.sofifa.net/teams/73/90.png 3x\" data-type=\"team\" src=\"https://cdn.sofifa.net/teams/notfound_30.png\"/>\\n           </figure>\\n           <a href=\"/team/73/paris-saint-germain/\">\\n            Paris Saint Germain\\n           </a>\\n           <div class=\"sub\">\\n            2018 ~ 2024\\n           </div>\\n          </div>\\n         </td>\\n         <td class=\"col col-vl\" data-col=\"vl\">\\n          €190.5M\\n         </td>\\n         <td class=\"col col-wg\" data-col=\"wg\">\\n          €230K\\n         </td>\\n         <td class=\"col col-tt\" data-col=\"tt\">\\n          <span class=\"bp3-tag p\">\\n           2181\\n          </span>\\n         </td>\\n        </tr>\\n        <tr>\\n         <td class=\"col-avatar\">\\n          <figure class=\"avatar\">\\n           <img alt=\"\" class=\"player-check\" data-root=\"https://cdn.sofifa.net/players/\" data-src=\"https://cdn.sofifa.net/players/192/985/23_60.png\" data-srcset=\"https://cdn.sofifa.net/players/192/985/23_120.png 2x, https://cdn.sofifa.net/players/192/985/23_180.png 3x\" data-type=\"player\" id=\"192985\" src=\"https://cdn.sofifa.net/players/notfound_0_60.png\"/>\\n          </figure>\\n         </td>\\n         <td class=\"col-name\">\\n          <a aria-label=\"Kevin De Bruyne\" data-tip-pos=\"top\" href=\"/player/192985/kevin-de-bruyne/230011/\" role=\"tooltip\">\\n           <div class=\"ellipsis\">\\n            K. De Bruyne\\n           </div>\\n          </a>\\n          <img alt=\"\" class=\"flag\" data-src=\"https://cdn.sofifa.net/flags/be.png\" data-srcset=\"https://cdn.sofifa.net/flags/be@2x.png 2x, https://cdn.sofifa.net/flags/be@3x.png 3x\" height=\"16\" src=\"https://cdn.sofifa.net/pixel.gif\" title=\"Belgium\" width=\"21\"/>\\n          <a href=\"/players?pn=14\" rel=\"nofollow\">\\n           <span class=\"pos pos14\">\\n            CM\\n           </span>\\n          </a>\\n          <a href=\"/players?pn=18\" rel=\"nofollow\">\\n           <span class=\"pos pos18\">\\n            CAM\\n           </span>\\n          </a>\\n         </td>\\n         <td class=\"col col-ae\" data-col=\"ae\">\\n          31\\n         </td>\\n         <td class=\"col col-oa col-sort\" data-col=\"oa\">\\n          <span class=\"bp3-tag p p-91\">\\n           91\\n          </span>\\n         </td>\\n         <td class=\"col col-pt\" data-col=\"pt\">\\n          <span class=\"bp3-tag p p-91\">\\n           91\\n          </span>\\n         </td>\\n         <td class=\"col-name\">\\n          <div class=\"ellipsis\">\\n           <figure class=\"avatar avatar-sm transparent\">\\n            <img alt=\"\" class=\"team\" data-root=\"https://cdn.sofifa.net/teams/\" data-src=\"https://cdn.sofifa.net/teams/10/30.png\" data-srcset=\"https://cdn.sofifa.net/teams/10/60.png 2x, https://cdn.sofifa.net/teams/10/90.png 3x\" data-type=\"team\" src=\"https://cdn.sofifa.net/teams/notfound_30.png\"/>\\n           </figure>\\n           <a href=\"/team/10/manchester-city/\">\\n            Manchester City\\n           </a>\\n           <div class=\"sub\">\\n            2015 ~ 2025\\n           </div>\\n          </div>\\n         </td>\\n         <td class=\"col col-vl\" data-col=\"vl\">\\n          €107.5M\\n         </td>\\n         <td class=\"col col-wg\" data-col=\"wg\">\\n          €350K\\n         </td>\\n         <td class=\"col col-tt\" data-col=\"tt\">\\n          <span class=\"bp3-tag p\">\\n           2298\\n          </span>\\n         </td>\\n        </tr>\\n        <tr>\\n         <td class=\"col-avatar\">\\n          <figure class=\"avatar\">\\n           <img alt=\"\" class=\"player-check\" data-root=\"https://cdn.sofifa.net/players/\" data-src=\"https://cdn.sofifa.net/players/188/545/23_60.png\" data-srcset=\"https://cdn.sofifa.net/players/188/545/23_120.png 2x, https://cdn.sofifa.net/players/188/545/23_180.png 3x\" data-type=\"player\" id=\"188545\" src=\"https://cdn.sofifa.net/players/notfound_0_60.png\"/>\\n          </figure>\\n         </td>\\n         <td class=\"col-name\">\\n          <a aria-label=\"Robert Lewandowski\" data-tip-pos=\"top\" href=\"/player/188545/robert-lewandowski/230011/\" role=\"tooltip\">\\n           <div class=\"ellipsis\">\\n            R. Lewandowski\\n           </div>\\n          </a>\\n          <img alt=\"\" class=\"flag\" data-src=\"https://cdn.sofifa.net/flags/pl.png\" data-srcset=\"https://cdn.sofifa.net/flags/pl@2x.png 2x, https://cdn.sofifa.net/flags/pl@3x.png 3x\" height=\"16\" src=\"https://cdn.sofifa.net/pixel.gif\" title=\"Poland\" width=\"21\"/>\\n          <a href=\"/players?pn=25\" rel=\"nofollow\">\\n           <span class=\"pos pos25\">\\n            ST\\n           </span>\\n          </a>\\n         </td>\\n         <td class=\"col col-ae\" data-col=\"ae\">\\n          33\\n         </td>\\n         <td class=\"col col-oa col-sort\" data-col=\"oa\">\\n          <span class=\"bp3-tag p p-91\">\\n           91\\n          </span>\\n         </td>\\n         <td class=\"col col-pt\" data-col=\"pt\">\\n          <span class=\"bp3-tag p p-91\">\\n           91\\n          </span>\\n         </td>\\n         <td class=\"col-name\">\\n          <div class=\"ellipsis\">\\n           <figure class=\"avatar avatar-sm transparent\">\\n            <img alt=\"\" class=\"team\" data-root=\"https://cdn.sofifa.net/teams/\" data-src=\"https://cdn.sofifa.net/teams/241/30.png\" data-srcset=\"https://cdn.sofifa.net/teams/241/60.png 2x, https://cdn.sofifa.net/teams/241/90.png 3x\" data-type=\"team\" src=\"https://cdn.sofifa.net/teams/notfound_30.png\"/>\\n           </figure>\\n           <a href=\"/team/241/fc-barcelona/\">\\n            FC Barcelona\\n           </a>\\n           <div class=\"sub\">\\n            2022 ~ 2025\\n           </div>\\n          </div>\\n         </td>\\n         <td class=\"col col-vl\" data-col=\"vl\">\\n          €84M\\n         </td>\\n         <td class=\"col col-wg\" data-col=\"wg\">\\n          €420K\\n         </td>\\n         <td class=\"col col-tt\" data-col=\"tt\">\\n          <span class=\"bp3-tag p\">\\n           2205\\n          </span>\\n         </td>\\n        </tr>\\n        <tr>\\n         <td class=\"col-avatar\">\\n          <figure class=\"avatar\">\\n           <img alt=\"\" class=\"player-check\" data-root=\"https://cdn.sofifa.net/players/\" data-src=\"https://cdn.sofifa.net/players/165/153/23_60.png\" data-srcset=\"https://cdn.sofifa.net/players/165/153/23_120.png 2x, https://cdn.sofifa.net/players/165/153/23_180.png 3x\" data-type=\"player\" id=\"165153\" src=\"https://cdn.sofifa.net/players/notfound_0_60.png\"/>\\n          </figure>\\n         </td>\\n         <td class=\"col-name\">\\n          <a aria-label=\"Karim Benzema\" data-tip-pos=\"top\" href=\"/player/165153/karim-benzema/230011/\" role=\"tooltip\">\\n           <div class=\"ellipsis\">\\n            K. Benzema\\n           </div>\\n          </a>\\n          <img alt=\"\" class=\"flag\" data-src=\"https://cdn.sofifa.net/flags/fr.png\" data-srcset=\"https://cdn.sofifa.net/flags/fr@2x.png 2x, https://cdn.sofifa.net/flags/fr@3x.png 3x\" height=\"16\" src=\"https://cdn.sofifa.net/pixel.gif\" title=\"France\" width=\"21\"/>\\n          <a href=\"/players?pn=21\" rel=\"nofollow\">\\n           <span class=\"pos pos21\">\\n            CF\\n           </span>\\n          </a>\\n          <a href=\"/players?pn=25\" rel=\"nofollow\">\\n           <span class=\"pos pos25\">\\n            ST\\n           </span>\\n          </a>\\n         </td>\\n         <td class=\"col col-ae\" data-col=\"ae\">\\n          34\\n         </td>\\n         <td class=\"col col-oa col-sort\" data-col=\"oa\">\\n          <span class=\"bp3-tag p p-91\">\\n           91\\n          </span>\\n         </td>\\n         <td class=\"col col-pt\" data-col=\"pt\">\\n          <span class=\"bp3-tag p p-91\">\\n           91\\n          </span>\\n         </td>\\n         <td class=\"col-name\">\\n          <div class=\"ellipsis\">\\n           <figure class=\"avatar avatar-sm transparent\">\\n            <img alt=\"\" class=\"team\" data-root=\"https://cdn.sofifa.net/teams/\" data-src=\"https://cdn.sofifa.net/teams/243/30.png\" data-srcset=\"https://cdn.sofifa.net/teams/243/60.png 2x, https://cdn.sofifa.net/teams/243/90.png 3x\" data-type=\"team\" src=\"https://cdn.sofifa.net/teams/notfound_30.png\"/>\\n           </figure>\\n           <a href=\"/team/243/real-madrid/\">\\n            Real Madrid\\n           </a>\\n           <div class=\"sub\">\\n            2009 ~ 2023\\n           </div>\\n          </div>\\n         </td>\\n         <td class=\"col col-vl\" data-col=\"vl\">\\n          €64M\\n         </td>\\n         <td class=\"col col-wg\" data-col=\"wg\">\\n          €450K\\n         </td>\\n         <td class=\"col col-tt\" data-col=\"tt\">\\n          <span class=\"bp3-tag p\">\\n           2147\\n          </span>\\n         </td>\\n        </tr>\\n        <tr>\\n         <td class=\"col-avatar\">\\n          <figure class=\"avatar\">\\n           <img alt=\"\" class=\"player-check\" data-root=\"https://cdn.sofifa.net/players/\" data-src=\"https://cdn.sofifa.net/players/158/023/23_60.png\" data-srcset=\"https://cdn.sofifa.net/players/158/023/23_120.png 2x, https://cdn.sofifa.net/players/158/023/23_180.png 3x\" data-type=\"player\" id=\"158023\" src=\"https://cdn.sofifa.net/players/notfound_0_60.png\"/>\\n          </figure>\\n         </td>\\n         <td class=\"col-name\">\\n          <a aria-label=\"Lionel Messi\" data-tip-pos=\"top\" href=\"/player/158023/lionel-messi/230011/\" role=\"tooltip\">\\n           <div class=\"ellipsis\">\\n            L. Messi\\n           </div>\\n          </a>\\n          <img alt=\"\" class=\"flag\" data-src=\"https://cdn.sofifa.net/flags/ar.png\" data-srcset=\"https://cdn.sofifa.net/flags/ar@2x.png 2x, https://cdn.sofifa.net/flags/ar@3x.png 3x\" height=\"16\" src=\"https://cdn.sofifa.net/pixel.gif\" title=\"Argentina\" width=\"21\"/>\\n          <a href=\"/players?pn=23\" rel=\"nofollow\">\\n           <span class=\"pos pos23\">\\n            RW\\n           </span>\\n          </a>\\n         </td>\\n         <td class=\"col col-ae\" data-col=\"ae\">\\n          35\\n         </td>\\n         <td class=\"col col-oa col-sort\" data-col=\"oa\">\\n          <span class=\"bp3-tag p p-91\">\\n           91\\n          </span>\\n         </td>\\n         <td class=\"col col-pt\" data-col=\"pt\">\\n          <span class=\"bp3-tag p p-91\">\\n           91\\n          </span>\\n         </td>\\n         <td class=\"col-name\">\\n          <div class=\"ellipsis\">\\n           <figure class=\"avatar avatar-sm transparent\">\\n            <img alt=\"\" class=\"team\" data-root=\"https://cdn.sofifa.net/teams/\" data-src=\"https://cdn.sofifa.net/teams/73/30.png\" data-srcset=\"https://cdn.sofifa.net/teams/73/60.png 2x, https://cdn.sofifa.net/teams/73/90.png 3x\" data-type=\"team\" src=\"https://cdn.sofifa.net/teams/notfound_30.png\"/>\\n           </figure>\\n           <a href=\"/team/73/paris-saint-germain/\">\\n            Paris Saint Germain\\n           </a>\\n           <div class=\"sub\">\\n            2021 ~ 2023\\n           </div>\\n          </div>\\n         </td>\\n         <td class=\"col col-vl\" data-col=\"vl\">\\n          €54M\\n         </td>\\n         <td class=\"col col-wg\" data-col=\"wg\">\\n          €195K\\n         </td>\\n         <td class=\"col col-tt\" data-col=\"tt\">\\n          <span class=\"bp3-tag p\">\\n           2190\\n          </span>\\n         </td>\\n        </tr>\\n        <tr>\\n         <td class=\"col-avatar\">\\n          <figure class=\"avatar updated \" data-tip-pos=\"right\" role=\"tooltip\">\\n           <img alt=\"\" class=\"player-check\" data-root=\"https://cdn.sofifa.net/players/\" data-src=\"https://cdn.sofifa.net/players/209/331/23_60.png\" data-srcset=\"https://cdn.sofifa.net/players/209/331/23_120.png 2x, https://cdn.sofifa.net/players/209/331/23_180.png 3x\" data-type=\"player\" id=\"209331\" src=\"https://cdn.sofifa.net/players/notfound_0_60.png\"/>\\n           <div class=\"tip\">\\n            <div class=\"block-quarter half-spacing pure-u-1-1\">\\n             FIFA 23 Jan 25, 2023\\n            </div>\\n            <div class=\"block-quarter pure-g\">\\n             <span class=\"pure-u-17-24\">\\n              <span class=\"bp3-tag p p-90\">\\n               90\\n              </span>\\n              <svg class=\"go-down\" height=\"18\" viewbox=\"0 0 24 24\" width=\"18\">\\n               <line x1=\"7\" x2=\"17\" y1=\"7\" y2=\"17\">\\n               </line>\\n               <polyline points=\"17 7 17 17 7 17\">\\n               </polyline>\\n              </svg>\\n              <span class=\"bp3-tag p p-89\">\\n               89\\n              </span>\\n             </span>\\n             <abbr class=\"pure-u-7-24\">\\n              Dribbling\\n             </abbr>\\n            </div>\\n            <div class=\"block-half pure-g\">\\n             <abbr class=\"pure-u-7-24\">\\n              Contract Valid Until\\n             </abbr>\\n             <span class=\"pure-u-17-24\">\\n              2023\\n              <svg class=\"go\" height=\"16\" viewbox=\"0 0 24 24\" width=\"16\">\\n               <line x1=\"5\" x2=\"19\" y1=\"12\" y2=\"12\">\\n               </line>\\n               <polyline points=\"12 5 19 12 12 19\">\\n               </polyline>\\n              </svg>\\n              2025\\n             </span>\\n            </div>\\n           </div>\\n          </figure>\\n         </td>\\n         <td class=\"col-name\">\\n          <a aria-label=\"Mohamed Salah\" data-tip-pos=\"top\" href=\"/player/209331/mohamed-salah/230011/\" role=\"tooltip\">\\n           <div class=\"ellipsis\">\\n            M. Salah\\n           </div>\\n          </a>\\n          <img alt=\"\" class=\"flag\" data-src=\"https://cdn.sofifa.net/flags/eg.png\" data-srcset=\"https://cdn.sofifa.net/flags/eg@2x.png 2x, https://cdn.sofifa.net/flags/eg@3x.png 3x\" height=\"16\" src=\"https://cdn.sofifa.net/pixel.gif\" title=\"Egypt\" width=\"21\"/>\\n          <a href=\"/players?pn=23\" rel=\"nofollow\">\\n           <span class=\"pos pos23\">\\n            RW\\n           </span>\\n          </a>\\n         </td>\\n         <td class=\"col col-ae\" data-col=\"ae\">\\n          30\\n         </td>\\n         <td class=\"col col-oa col-sort\" data-col=\"oa\">\\n          <span class=\"bp3-tag p p-90\">\\n           90\\n          </span>\\n         </td>\\n         <td class=\"col col-pt\" data-col=\"pt\">\\n          <span class=\"bp3-tag p p-90\">\\n           90\\n          </span>\\n         </td>\\n         <td class=\"col-name\">\\n          <div class=\"ellipsis\">\\n           <figure class=\"avatar avatar-sm transparent\">\\n            <img alt=\"\" class=\"team\" data-root=\"https://cdn.sofifa.net/teams/\" data-src=\"https://cdn.sofifa.net/teams/9/30.png\" data-srcset=\"https://cdn.sofifa.net/teams/9/60.png 2x, https://cdn.sofifa.net/teams/9/90.png 3x\" data-type=\"team\" src=\"https://cdn.sofifa.net/teams/notfound_30.png\"/>\\n           </figure>\\n           <a href=\"/team/9/liverpool/\">\\n            Liverpool\\n           </a>\\n           <div class=\"sub\">\\n            2017 ~ 2025\\n           </div>\\n          </div>\\n         </td>\\n         <td class=\"col col-vl\" data-col=\"vl\">\\n          €115.5M\\n         </td>\\n         <td class=\"col col-wg\" data-col=\"wg\">\\n          €270K\\n         </td>\\n         <td class=\"col col-tt\" data-col=\"tt\">\\n          <span class=\"bp3-tag p\">\\n           2224\\n          </span>\\n         </td>\\n        </tr>\\n        <tr>\\n         <td class=\"col-avatar\">\\n          <figure class=\"avatar\">\\n           <img alt=\"\" class=\"player-check\" data-root=\"https://cdn.sofifa.net/players/\" data-src=\"https://cdn.sofifa.net/players/192/119/23_60.png\" data-srcset=\"https://cdn.sofifa.net/players/192/119/23_120.png 2x, https://cdn.sofifa.net/players/192/119/23_180.png 3x\" data-type=\"player\" id=\"192119\" src=\"https://cdn.sofifa.net/players/notfound_0_60.png\"/>\\n          </figure>\\n         </td>\\n         <td class=\"col-name\">\\n          <a aria-label=\"Thibaut Courtois\" data-tip-pos=\"top\" href=\"/player/192119/thibaut-courtois/230011/\" role=\"tooltip\">\\n           <div class=\"ellipsis\">\\n            T. Courtois\\n           </div>\\n          </a>\\n          <img alt=\"\" class=\"flag\" data-src=\"https://cdn.sofifa.net/flags/be.png\" data-srcset=\"https://cdn.sofifa.net/flags/be@2x.png 2x, https://cdn.sofifa.net/flags/be@3x.png 3x\" height=\"16\" src=\"https://cdn.sofifa.net/pixel.gif\" title=\"Belgium\" width=\"21\"/>\\n          <a href=\"/players?pn=0\" rel=\"nofollow\">\\n           <span class=\"pos pos0\">\\n            GK\\n           </span>\\n          </a>\\n         </td>\\n         <td class=\"col col-ae\" data-col=\"ae\">\\n          30\\n         </td>\\n         <td class=\"col col-oa col-sort\" data-col=\"oa\">\\n          <span class=\"bp3-tag p p-90\">\\n           90\\n          </span>\\n         </td>\\n         <td class=\"col col-pt\" data-col=\"pt\">\\n          <span class=\"bp3-tag p p-91\">\\n           91\\n          </span>\\n         </td>\\n         <td class=\"col-name\">\\n          <div class=\"ellipsis\">\\n           <figure class=\"avatar avatar-sm transparent\">\\n            <img alt=\"\" class=\"team\" data-root=\"https://cdn.sofifa.net/teams/\" data-src=\"https://cdn.sofifa.net/teams/243/30.png\" data-srcset=\"https://cdn.sofifa.net/teams/243/60.png 2x, https://cdn.sofifa.net/teams/243/90.png 3x\" data-type=\"team\" src=\"https://cdn.sofifa.net/teams/notfound_30.png\"/>\\n           </figure>\\n           <a href=\"/team/243/real-madrid/\">\\n            Real Madrid\\n           </a>\\n           <div class=\"sub\">\\n            2018 ~ 2026\\n           </div>\\n          </div>\\n         </td>\\n         <td class=\"col col-vl\" data-col=\"vl\">\\n          €90M\\n         </td>\\n         <td class=\"col col-wg\" data-col=\"wg\">\\n          €250K\\n         </td>\\n         <td class=\"col col-tt\" data-col=\"tt\">\\n          <span class=\"bp3-tag p\">\\n           1334\\n          </span>\\n         </td>\\n        </tr>\\n        <tr>\\n         <td class=\"col-avatar\">\\n          <figure class=\"avatar updated \" data-tip-pos=\"right\" role=\"tooltip\">\\n           <img alt=\"\" class=\"player-check\" data-root=\"https://cdn.sofifa.net/players/\" data-src=\"https://cdn.sofifa.net/players/239/085/23_60.png\" data-srcset=\"https://cdn.sofifa.net/players/239/085/23_120.png 2x, https://cdn.sofifa.net/players/239/085/23_180.png 3x\" data-type=\"player\" id=\"239085\" src=\"https://cdn.sofifa.net/players/notfound_0_60.png\"/>\\n           <div class=\"tip\">\\n            <div class=\"block-quarter half-spacing pure-u-1-1\">\\n             FIFA 23 Jan 25, 2023\\n            </div>\\n            <div class=\"block-quarter pure-g\">\\n             <span class=\"pure-u-17-24\">\\n              <span class=\"bp3-tag p p-91\">\\n               91\\n              </span>\\n              <svg class=\"go-up\" height=\"18\" viewbox=\"0 0 24 24\" width=\"18\">\\n               <line x1=\"7\" x2=\"17\" y1=\"17\" y2=\"7\">\\n               </line>\\n               <polyline points=\"7 7 17 7 17 17\">\\n               </polyline>\\n              </svg>\\n              <span class=\"bp3-tag p p-92\">\\n               92\\n              </span>\\n             </span>\\n             <abbr class=\"pure-u-7-24\">\\n              Positioning\\n             </abbr>\\n            </div>\\n            <div class=\"block-quarter pure-g\">\\n             <span class=\"pure-u-17-24\">\\n              <span class=\"bp3-tag p p-85\">\\n               85\\n              </span>\\n              <svg class=\"go-up\" height=\"18\" viewbox=\"0 0 24 24\" width=\"18\">\\n               <line x1=\"7\" x2=\"17\" y1=\"17\" y2=\"7\">\\n               </line>\\n               <polyline points=\"7 7 17 7 17 17\">\\n               </polyline>\\n              </svg>\\n              <span class=\"bp3-tag p p-86\">\\n               86\\n              </span>\\n             </span>\\n             <abbr class=\"pure-u-7-24\">\\n              Composure\\n             </abbr>\\n            </div>\\n           </div>\\n          </figure>\\n         </td>\\n         <td class=\"col-name\">\\n          <a aria-label=\"Erling Haaland\" data-tip-pos=\"top\" href=\"/player/239085/erling-haaland/230011/\" role=\"tooltip\">\\n           <div class=\"ellipsis\">\\n            E. Haaland\\n           </div>\\n          </a>\\n          <img alt=\"\" class=\"flag\" data-src=\"https://cdn.sofifa.net/flags/no.png\" data-srcset=\"https://cdn.sofifa.net/flags/no@2x.png 2x, https://cdn.sofifa.net/flags/no@3x.png 3x\" height=\"16\" src=\"https://cdn.sofifa.net/pixel.gif\" title=\"Norway\" width=\"21\"/>\\n          <a href=\"/players?pn=25\" rel=\"nofollow\">\\n           <span class=\"pos pos25\">\\n            ST\\n           </span>\\n          </a>\\n         </td>\\n         <td class=\"col col-ae\" data-col=\"ae\">\\n          21\\n         </td>\\n         <td class=\"col col-oa col-sort\" data-col=\"oa\">\\n          <span class=\"bp3-tag p p-89\">\\n           89\\n          </span>\\n         </td>\\n         <td class=\"col col-pt\" data-col=\"pt\">\\n          <span class=\"bp3-tag p p-94\">\\n           94\\n          </span>\\n         </td>\\n         <td class=\"col-name\">\\n          <div class=\"ellipsis\">\\n           <figure class=\"avatar avatar-sm transparent\">\\n            <img alt=\"\" class=\"team\" data-root=\"https://cdn.sofifa.net/teams/\" data-src=\"https://cdn.sofifa.net/teams/10/30.png\" data-srcset=\"https://cdn.sofifa.net/teams/10/60.png 2x, https://cdn.sofifa.net/teams/10/90.png 3x\" data-type=\"team\" src=\"https://cdn.sofifa.net/teams/notfound_30.png\"/>\\n           </figure>\\n           <a href=\"/team/10/manchester-city/\">\\n            Manchester City\\n           </a>\\n           <div class=\"sub\">\\n            2022 ~ 2027\\n           </div>\\n          </div>\\n         </td>\\n         <td class=\"col col-vl\" data-col=\"vl\">\\n          €160M\\n         </td>\\n         <td class=\"col col-wg\" data-col=\"wg\">\\n          €230K\\n         </td>\\n         <td class=\"col col-tt\" data-col=\"tt\">\\n          <span class=\"bp3-tag p\">\\n           2128\\n          </span>\\n         </td>\\n        </tr>\\n        <tr>\\n         <td class=\"col-avatar\">\\n          <figure class=\"avatar\">\\n           <img alt=\"\" class=\"player-check\" data-root=\"https://cdn.sofifa.net/players/\" data-src=\"https://cdn.sofifa.net/players/212/831/23_60.png\" data-srcset=\"https://cdn.sofifa.net/players/212/831/23_120.png 2x, https://cdn.sofifa.net/players/212/831/23_180.png 3x\" data-type=\"player\" id=\"212831\" src=\"https://cdn.sofifa.net/players/notfound_0_60.png\"/>\\n          </figure>\\n         </td>\\n         <td class=\"col-name\">\\n          <a aria-label=\"Alisson Ramses Becker\" data-tip-pos=\"top\" href=\"/player/212831/alisson-ramses-becker/230011/\" role=\"tooltip\">\\n           <div class=\"ellipsis\">\\n            Alisson\\n           </div>\\n          </a>\\n          <img alt=\"\" class=\"flag\" data-src=\"https://cdn.sofifa.net/flags/br.png\" data-srcset=\"https://cdn.sofifa.net/flags/br@2x.png 2x, https://cdn.sofifa.net/flags/br@3x.png 3x\" height=\"16\" src=\"https://cdn.sofifa.net/pixel.gif\" title=\"Brazil\" width=\"21\"/>\\n          <a href=\"/players?pn=0\" rel=\"nofollow\">\\n           <span class=\"pos pos0\">\\n            GK\\n           </span>\\n          </a>\\n         </td>\\n         <td class=\"col col-ae\" data-col=\"ae\">\\n          29\\n         </td>\\n         <td class=\"col col-oa col-sort\" data-col=\"oa\">\\n          <span class=\"bp3-tag p p-89\">\\n           89\\n          </span>\\n         </td>\\n         <td class=\"col col-pt\" data-col=\"pt\">\\n          <span class=\"bp3-tag p p-90\">\\n           90\\n          </span>\\n         </td>\\n         <td class=\"col-name\">\\n          <div class=\"ellipsis\">\\n           <figure class=\"avatar avatar-sm transparent\">\\n            <img alt=\"\" class=\"team\" data-root=\"https://cdn.sofifa.net/teams/\" data-src=\"https://cdn.sofifa.net/teams/9/30.png\" data-srcset=\"https://cdn.sofifa.net/teams/9/60.png 2x, https://cdn.sofifa.net/teams/9/90.png 3x\" data-type=\"team\" src=\"https://cdn.sofifa.net/teams/notfound_30.png\"/>\\n           </figure>\\n           <a href=\"/team/9/liverpool/\">\\n            Liverpool\\n           </a>\\n           <div class=\"sub\">\\n            2018 ~ 2027\\n           </div>\\n          </div>\\n         </td>\\n         <td class=\"col col-vl\" data-col=\"vl\">\\n          €79M\\n         </td>\\n         <td class=\"col col-wg\" data-col=\"wg\">\\n          €190K\\n         </td>\\n         <td class=\"col col-tt\" data-col=\"tt\">\\n          <span class=\"bp3-tag p\">\\n           1437\\n          </span>\\n         </td>\\n        </tr>\\n        <tr>\\n         <td class=\"col-avatar\">\\n          <figure class=\"avatar\">\\n           <img alt=\"\" class=\"player-check\" data-root=\"https://cdn.sofifa.net/players/\" data-src=\"https://cdn.sofifa.net/players/212/622/23_60.png\" data-srcset=\"https://cdn.sofifa.net/players/212/622/23_120.png 2x, https://cdn.sofifa.net/players/212/622/23_180.png 3x\" data-type=\"player\" id=\"212622\" src=\"https://cdn.sofifa.net/players/notfound_0_60.png\"/>\\n          </figure>\\n         </td>\\n         <td class=\"col-name\">\\n          <a aria-label=\"Joshua Kimmich\" data-tip-pos=\"top\" href=\"/player/212622/joshua-kimmich/230011/\" role=\"tooltip\">\\n           <div class=\"ellipsis\">\\n            J. Kimmich\\n           </div>\\n          </a>\\n          <img alt=\"\" class=\"flag\" data-src=\"https://cdn.sofifa.net/flags/de.png\" data-srcset=\"https://cdn.sofifa.net/flags/de@2x.png 2x, https://cdn.sofifa.net/flags/de@3x.png 3x\" height=\"16\" src=\"https://cdn.sofifa.net/pixel.gif\" title=\"Germany\" width=\"21\"/>\\n          <a href=\"/players?pn=10\" rel=\"nofollow\">\\n           <span class=\"pos pos10\">\\n            CDM\\n           </span>\\n          </a>\\n          <a href=\"/players?pn=3\" rel=\"nofollow\">\\n           <span class=\"pos pos3\">\\n            RB\\n           </span>\\n          </a>\\n          <a href=\"/players?pn=14\" rel=\"nofollow\">\\n           <span class=\"pos pos14\">\\n            CM\\n           </span>\\n          </a>\\n         </td>\\n         <td class=\"col col-ae\" data-col=\"ae\">\\n          27\\n         </td>\\n         <td class=\"col col-oa col-sort\" data-col=\"oa\">\\n          <span class=\"bp3-tag p p-89\">\\n           89\\n          </span>\\n         </td>\\n         <td class=\"col col-pt\" data-col=\"pt\">\\n          <span class=\"bp3-tag p p-90\">\\n           90\\n          </span>\\n         </td>\\n         <td class=\"col-name\">\\n          <div class=\"ellipsis\">\\n           <figure class=\"avatar avatar-sm transparent\">\\n            <img alt=\"\" class=\"team\" data-root=\"https://cdn.sofifa.net/teams/\" data-src=\"https://cdn.sofifa.net/teams/21/30.png\" data-srcset=\"https://cdn.sofifa.net/teams/21/60.png 2x, https://cdn.sofifa.net/teams/21/90.png 3x\" data-type=\"team\" src=\"https://cdn.sofifa.net/teams/notfound_30.png\"/>\\n           </figure>\\n           <a href=\"/team/21/fc-bayern-munchen/\">\\n            FC Bayern München\\n           </a>\\n           <div class=\"sub\">\\n            2015 ~ 2025\\n           </div>\\n          </div>\\n         </td>\\n         <td class=\"col col-vl\" data-col=\"vl\">\\n          €105.5M\\n         </td>\\n         <td class=\"col col-wg\" data-col=\"wg\">\\n          €130K\\n         </td>\\n         <td class=\"col col-tt\" data-col=\"tt\">\\n          <span class=\"bp3-tag p\">\\n           2283\\n          </span>\\n         </td>\\n        </tr>\\n        <tr>\\n         <td class=\"col-avatar\">\\n          <figure class=\"avatar\">\\n           <img alt=\"\" class=\"player-check\" data-root=\"https://cdn.sofifa.net/players/\" data-src=\"https://cdn.sofifa.net/players/210/257/23_60.png\" data-srcset=\"https://cdn.sofifa.net/players/210/257/23_120.png 2x, https://cdn.sofifa.net/players/210/257/23_180.png 3x\" data-type=\"player\" id=\"210257\" src=\"https://cdn.sofifa.net/players/notfound_0_60.png\"/>\\n          </figure>\\n         </td>\\n         <td class=\"col-name\">\\n          <a aria-label=\"Ederson Santana de Moraes\" data-tip-pos=\"top\" href=\"/player/210257/ederson-santana-de-moraes/230011/\" role=\"tooltip\">\\n           <div class=\"ellipsis\">\\n            Ederson\\n           </div>\\n          </a>\\n          <img alt=\"\" class=\"flag\" data-src=\"https://cdn.sofifa.net/flags/br.png\" data-srcset=\"https://cdn.sofifa.net/flags/br@2x.png 2x, https://cdn.sofifa.net/flags/br@3x.png 3x\" height=\"16\" src=\"https://cdn.sofifa.net/pixel.gif\" title=\"Brazil\" width=\"21\"/>\\n          <a href=\"/players?pn=0\" rel=\"nofollow\">\\n           <span class=\"pos pos0\">\\n            GK\\n           </span>\\n          </a>\\n         </td>\\n         <td class=\"col col-ae\" data-col=\"ae\">\\n          28\\n         </td>\\n         <td class=\"col col-oa col-sort\" data-col=\"oa\">\\n          <span class=\"bp3-tag p p-89\">\\n           89\\n          </span>\\n         </td>\\n         <td class=\"col col-pt\" data-col=\"pt\">\\n          <span class=\"bp3-tag p p-91\">\\n           91\\n          </span>\\n         </td>\\n         <td class=\"col-name\">\\n          <div class=\"ellipsis\">\\n           <figure class=\"avatar avatar-sm transparent\">\\n            <img alt=\"\" class=\"team\" data-root=\"https://cdn.sofifa.net/teams/\" data-src=\"https://cdn.sofifa.net/teams/10/30.png\" data-srcset=\"https://cdn.sofifa.net/teams/10/60.png 2x, https://cdn.sofifa.net/teams/10/90.png 3x\" data-type=\"team\" src=\"https://cdn.sofifa.net/teams/notfound_30.png\"/>\\n           </figure>\\n           <a href=\"/team/10/manchester-city/\">\\n            Manchester City\\n           </a>\\n           <div class=\"sub\">\\n            2017 ~ 2026\\n           </div>\\n          </div>\\n         </td>\\n         <td class=\"col col-vl\" data-col=\"vl\">\\n          €88M\\n         </td>\\n         <td class=\"col col-wg\" data-col=\"wg\">\\n          €210K\\n         </td>\\n         <td class=\"col col-tt\" data-col=\"tt\">\\n          <span class=\"bp3-tag p\">\\n           1582\\n          </span>\\n         </td>\\n        </tr>\\n        <tr>\\n         <td class=\"col-avatar\">\\n          <figure class=\"avatar\">\\n           <img alt=\"\" class=\"player-check\" data-root=\"https://cdn.sofifa.net/players/\" data-src=\"https://cdn.sofifa.net/players/208/722/23_60.png\" data-srcset=\"https://cdn.sofifa.net/players/208/722/23_120.png 2x, https://cdn.sofifa.net/players/208/722/23_180.png 3x\" data-type=\"player\" id=\"208722\" src=\"https://cdn.sofifa.net/players/notfound_0_60.png\"/>\\n          </figure>\\n         </td>\\n         <td class=\"col-name\">\\n          <a aria-label=\"Sadio Mané\" data-tip-pos=\"top\" href=\"/player/208722/sadio-mane/230011/\" role=\"tooltip\">\\n           <div class=\"ellipsis\">\\n            S. Mané\\n           </div>\\n          </a>\\n          <img alt=\"\" class=\"flag\" data-src=\"https://cdn.sofifa.net/flags/sn.png\" data-srcset=\"https://cdn.sofifa.net/flags/sn@2x.png 2x, https://cdn.sofifa.net/flags/sn@3x.png 3x\" height=\"16\" src=\"https://cdn.sofifa.net/pixel.gif\" title=\"Senegal\" width=\"21\"/>\\n          <a href=\"/players?pn=21\" rel=\"nofollow\">\\n           <span class=\"pos pos21\">\\n            CF\\n           </span>\\n          </a>\\n          <a href=\"/players?pn=16\" rel=\"nofollow\">\\n           <span class=\"pos pos16\">\\n            LM\\n           </span>\\n          </a>\\n         </td>\\n         <td class=\"col col-ae\" data-col=\"ae\">\\n          30\\n         </td>\\n         <td class=\"col col-oa col-sort\" data-col=\"oa\">\\n          <span class=\"bp3-tag p p-89\">\\n           89\\n          </span>\\n         </td>\\n         <td class=\"col col-pt\" data-col=\"pt\">\\n          <span class=\"bp3-tag p p-89\">\\n           89\\n          </span>\\n         </td>\\n         <td class=\"col-name\">\\n          <div class=\"ellipsis\">\\n           <figure class=\"avatar avatar-sm transparent\">\\n            <img alt=\"\" class=\"team\" data-root=\"https://cdn.sofifa.net/teams/\" data-src=\"https://cdn.sofifa.net/teams/21/30.png\" data-srcset=\"https://cdn.sofifa.net/teams/21/60.png 2x, https://cdn.sofifa.net/teams/21/90.png 3x\" data-type=\"team\" src=\"https://cdn.sofifa.net/teams/notfound_30.png\"/>\\n           </figure>\\n           <a href=\"/team/21/fc-bayern-munchen/\">\\n            FC Bayern München\\n           </a>\\n           <div class=\"sub\">\\n            2022 ~ 2025\\n           </div>\\n          </div>\\n         </td>\\n         <td class=\"col col-vl\" data-col=\"vl\">\\n          €101M\\n         </td>\\n         <td class=\"col col-wg\" data-col=\"wg\">\\n          €155K\\n         </td>\\n         <td class=\"col col-tt\" data-col=\"tt\">\\n          <span class=\"bp3-tag p\">\\n           2183\\n          </span>\\n         </td>\\n        </tr>\\n        <tr>\\n         <td class=\"col-avatar\">\\n          <figure class=\"avatar\">\\n           <img alt=\"\" class=\"player-check\" data-root=\"https://cdn.sofifa.net/players/\" data-src=\"https://cdn.sofifa.net/players/203/376/23_60.png\" data-srcset=\"https://cdn.sofifa.net/players/203/376/23_120.png 2x, https://cdn.sofifa.net/players/203/376/23_180.png 3x\" data-type=\"player\" id=\"203376\" src=\"https://cdn.sofifa.net/players/notfound_0_60.png\"/>\\n          </figure>\\n         </td>\\n         <td class=\"col-name\">\\n          <a aria-label=\"Virgil van Dijk\" data-tip-pos=\"top\" href=\"/player/203376/virgil-van-dijk/230011/\" role=\"tooltip\">\\n           <div class=\"ellipsis\">\\n            V. van Dijk\\n           </div>\\n          </a>\\n          <img alt=\"\" class=\"flag\" data-src=\"https://cdn.sofifa.net/flags/nl.png\" data-srcset=\"https://cdn.sofifa.net/flags/nl@2x.png 2x, https://cdn.sofifa.net/flags/nl@3x.png 3x\" height=\"16\" src=\"https://cdn.sofifa.net/pixel.gif\" title=\"Netherlands\" width=\"21\"/>\\n          <a href=\"/players?pn=5\" rel=\"nofollow\">\\n           <span class=\"pos pos5\">\\n            CB\\n           </span>\\n          </a>\\n         </td>\\n         <td class=\"col col-ae\" data-col=\"ae\">\\n          30\\n         </td>\\n         <td class=\"col col-oa col-sort\" data-col=\"oa\">\\n          <span class=\"bp3-tag p p-89\">\\n           89\\n          </span>\\n         </td>\\n         <td class=\"col col-pt\" data-col=\"pt\">\\n          <span class=\"bp3-tag p p-89\">\\n           89\\n          </span>\\n         </td>\\n         <td class=\"col-name\">\\n          <div class=\"ellipsis\">\\n           <figure class=\"avatar avatar-sm transparent\">\\n            <img alt=\"\" class=\"team\" data-root=\"https://cdn.sofifa.net/teams/\" data-src=\"https://cdn.sofifa.net/teams/9/30.png\" data-srcset=\"https://cdn.sofifa.net/teams/9/60.png 2x, https://cdn.sofifa.net/teams/9/90.png 3x\" data-type=\"team\" src=\"https://cdn.sofifa.net/teams/notfound_30.png\"/>\\n           </figure>\\n           <a href=\"/team/9/liverpool/\">\\n            Liverpool\\n           </a>\\n           <div class=\"sub\">\\n            2018 ~ 2025\\n           </div>\\n          </div>\\n         </td>\\n         <td class=\"col col-vl\" data-col=\"vl\">\\n          €84.5M\\n         </td>\\n         <td class=\"col col-wg\" data-col=\"wg\">\\n          €220K\\n         </td>\\n         <td class=\"col col-tt\" data-col=\"tt\">\\n          <span class=\"bp3-tag p\">\\n           2113\\n          </span>\\n         </td>\\n        </tr>\\n        <tr>\\n         <td class=\"col-avatar\">\\n          <figure class=\"avatar\">\\n           <img alt=\"\" class=\"player-check\" data-root=\"https://cdn.sofifa.net/players/\" data-src=\"https://cdn.sofifa.net/players/202/126/23_60.png\" data-srcset=\"https://cdn.sofifa.net/players/202/126/23_120.png 2x, https://cdn.sofifa.net/players/202/126/23_180.png 3x\" data-type=\"player\" id=\"202126\" src=\"https://cdn.sofifa.net/players/notfound_0_60.png\"/>\\n          </figure>\\n         </td>\\n         <td class=\"col-name\">\\n          <a aria-label=\"Harry Kane\" data-tip-pos=\"top\" href=\"/player/202126/harry-kane/230011/\" role=\"tooltip\">\\n           <div class=\"ellipsis\">\\n            H. Kane\\n           </div>\\n          </a>\\n          <img alt=\"\" class=\"flag\" data-src=\"https://cdn.sofifa.net/flags/gb-eng.png\" data-srcset=\"https://cdn.sofifa.net/flags/gb-eng@2x.png 2x, https://cdn.sofifa.net/flags/gb-eng@3x.png 3x\" height=\"16\" src=\"https://cdn.sofifa.net/pixel.gif\" title=\"England\" width=\"21\"/>\\n          <a href=\"/players?pn=25\" rel=\"nofollow\">\\n           <span class=\"pos pos25\">\\n            ST\\n           </span>\\n          </a>\\n         </td>\\n         <td class=\"col col-ae\" data-col=\"ae\">\\n          28\\n         </td>\\n         <td class=\"col col-oa col-sort\" data-col=\"oa\">\\n          <span class=\"bp3-tag p p-89\">\\n           89\\n          </span>\\n         </td>\\n         <td class=\"col col-pt\" data-col=\"pt\">\\n          <span class=\"bp3-tag p p-89\">\\n           89\\n          </span>\\n         </td>\\n         <td class=\"col-name\">\\n          <div class=\"ellipsis\">\\n           <figure class=\"avatar avatar-sm transparent\">\\n            <img alt=\"\" class=\"team\" data-root=\"https://cdn.sofifa.net/teams/\" data-src=\"https://cdn.sofifa.net/teams/18/30.png\" data-srcset=\"https://cdn.sofifa.net/teams/18/60.png 2x, https://cdn.sofifa.net/teams/18/90.png 3x\" data-type=\"team\" src=\"https://cdn.sofifa.net/teams/notfound_30.png\"/>\\n           </figure>\\n           <a href=\"/team/18/tottenham-hotspur/\">\\n            Tottenham Hotspur\\n           </a>\\n           <div class=\"sub\">\\n            2010 ~ 2024\\n           </div>\\n          </div>\\n         </td>\\n         <td class=\"col col-vl\" data-col=\"vl\">\\n          €105.5M\\n         </td>\\n         <td class=\"col col-wg\" data-col=\"wg\">\\n          €240K\\n         </td>\\n         <td class=\"col col-tt\" data-col=\"tt\">\\n          <span class=\"bp3-tag p\">\\n           2199\\n          </span>\\n         </td>\\n        </tr>\\n        <tr>\\n         <td class=\"col-avatar\">\\n          <figure class=\"avatar\">\\n           <img alt=\"\" class=\"player-check\" data-root=\"https://cdn.sofifa.net/players/\" data-src=\"https://cdn.sofifa.net/players/200/389/23_60.png\" data-srcset=\"https://cdn.sofifa.net/players/200/389/23_120.png 2x, https://cdn.sofifa.net/players/200/389/23_180.png 3x\" data-type=\"player\" id=\"200389\" src=\"https://cdn.sofifa.net/players/notfound_0_60.png\"/>\\n          </figure>\\n         </td>\\n         <td class=\"col-name\">\\n          <a aria-label=\"Jan Oblak\" data-tip-pos=\"top\" href=\"/player/200389/jan-oblak/230011/\" role=\"tooltip\">\\n           <div class=\"ellipsis\">\\n            J. Oblak\\n           </div>\\n          </a>\\n          <img alt=\"\" class=\"flag\" data-src=\"https://cdn.sofifa.net/flags/si.png\" data-srcset=\"https://cdn.sofifa.net/flags/si@2x.png 2x, https://cdn.sofifa.net/flags/si@3x.png 3x\" height=\"16\" src=\"https://cdn.sofifa.net/pixel.gif\" title=\"Slovenia\" width=\"21\"/>\\n          <a href=\"/players?pn=0\" rel=\"nofollow\">\\n           <span class=\"pos pos0\">\\n            GK\\n           </span>\\n          </a>\\n         </td>\\n         <td class=\"col col-ae\" data-col=\"ae\">\\n          29\\n         </td>\\n         <td class=\"col col-oa col-sort\" data-col=\"oa\">\\n          <span class=\"bp3-tag p p-89\">\\n           89\\n          </span>\\n         </td>\\n         <td class=\"col col-pt\" data-col=\"pt\">\\n          <span class=\"bp3-tag p p-90\">\\n           90\\n          </span>\\n         </td>\\n         <td class=\"col-name\">\\n          <div class=\"ellipsis\">\\n           <figure class=\"avatar avatar-sm transparent\">\\n            <img alt=\"\" class=\"team\" data-root=\"https://cdn.sofifa.net/teams/\" data-src=\"https://cdn.sofifa.net/teams/240/30.png\" data-srcset=\"https://cdn.sofifa.net/teams/240/60.png 2x, https://cdn.sofifa.net/teams/240/90.png 3x\" data-type=\"team\" src=\"https://cdn.sofifa.net/teams/notfound_30.png\"/>\\n           </figure>\\n           <a href=\"/team/240/atletico-madrid/\">\\n            Atlético Madrid\\n           </a>\\n           <div class=\"sub\">\\n            2014 ~ 2023\\n           </div>\\n          </div>\\n         </td>\\n         <td class=\"col col-vl\" data-col=\"vl\">\\n          €79M\\n         </td>\\n         <td class=\"col col-wg\" data-col=\"wg\">\\n          €100K\\n         </td>\\n         <td class=\"col col-tt\" data-col=\"tt\">\\n          <span class=\"bp3-tag p\">\\n           1404\\n          </span>\\n         </td>\\n        </tr>\\n        <tr>\\n         <td class=\"col-avatar\">\\n          <figure class=\"avatar\">\\n           <img alt=\"\" class=\"player-check\" data-root=\"https://cdn.sofifa.net/players/\" data-src=\"https://cdn.sofifa.net/players/200/145/23_60.png\" data-srcset=\"https://cdn.sofifa.net/players/200/145/23_120.png 2x, https://cdn.sofifa.net/players/200/145/23_180.png 3x\" data-type=\"player\" id=\"200145\" src=\"https://cdn.sofifa.net/players/notfound_0_60.png\"/>\\n          </figure>\\n         </td>\\n         <td class=\"col-name\">\\n          <a aria-label=\"Carlos Henrique Venancio Casimiro\" data-tip-pos=\"top\" href=\"/player/200145/carlos-henrique-venancio-casimiro/230011/\" role=\"tooltip\">\\n           <div class=\"ellipsis\">\\n            Casemiro\\n           </div>\\n          </a>\\n          <img alt=\"\" class=\"flag\" data-src=\"https://cdn.sofifa.net/flags/br.png\" data-srcset=\"https://cdn.sofifa.net/flags/br@2x.png 2x, https://cdn.sofifa.net/flags/br@3x.png 3x\" height=\"16\" src=\"https://cdn.sofifa.net/pixel.gif\" title=\"Brazil\" width=\"21\"/>\\n          <a href=\"/players?pn=10\" rel=\"nofollow\">\\n           <span class=\"pos pos10\">\\n            CDM\\n           </span>\\n          </a>\\n         </td>\\n         <td class=\"col col-ae\" data-col=\"ae\">\\n          30\\n         </td>\\n         <td class=\"col col-oa col-sort\" data-col=\"oa\">\\n          <span class=\"bp3-tag p p-89\">\\n           89\\n          </span>\\n         </td>\\n         <td class=\"col col-pt\" data-col=\"pt\">\\n          <span class=\"bp3-tag p p-89\">\\n           89\\n          </span>\\n         </td>\\n         <td class=\"col-name\">\\n          <div class=\"ellipsis\">\\n           <figure class=\"avatar avatar-sm transparent\">\\n            <img alt=\"\" class=\"team\" data-root=\"https://cdn.sofifa.net/teams/\" data-src=\"https://cdn.sofifa.net/teams/11/30.png\" data-srcset=\"https://cdn.sofifa.net/teams/11/60.png 2x, https://cdn.sofifa.net/teams/11/90.png 3x\" data-type=\"team\" src=\"https://cdn.sofifa.net/teams/notfound_30.png\"/>\\n           </figure>\\n           <a href=\"/team/11/manchester-united/\">\\n            Manchester United\\n           </a>\\n           <div class=\"sub\">\\n            2022 ~ 2026\\n           </div>\\n          </div>\\n         </td>\\n         <td class=\"col col-vl\" data-col=\"vl\">\\n          €86M\\n         </td>\\n         <td class=\"col col-wg\" data-col=\"wg\">\\n          €240K\\n         </td>\\n         <td class=\"col col-tt\" data-col=\"tt\">\\n          <span class=\"bp3-tag p\">\\n           2239\\n          </span>\\n         </td>\\n        </tr>\\n        <tr>\\n         <td class=\"col-avatar\">\\n          <figure class=\"avatar\">\\n           <img alt=\"\" class=\"player-check\" data-root=\"https://cdn.sofifa.net/players/\" data-src=\"https://cdn.sofifa.net/players/190/871/23_60.png\" data-srcset=\"https://cdn.sofifa.net/players/190/871/23_120.png 2x, https://cdn.sofifa.net/players/190/871/23_180.png 3x\" data-type=\"player\" id=\"190871\" src=\"https://cdn.sofifa.net/players/notfound_0_60.png\"/>\\n          </figure>\\n         </td>\\n         <td class=\"col-name\">\\n          <a aria-label=\"Neymar da Silva Santos Jr.\" data-tip-pos=\"top\" href=\"/player/190871/neymar-da-silva-santos-jr/230011/\" role=\"tooltip\">\\n           <div class=\"ellipsis\">\\n            Neymar Jr\\n           </div>\\n          </a>\\n          <img alt=\"\" class=\"flag\" data-src=\"https://cdn.sofifa.net/flags/br.png\" data-srcset=\"https://cdn.sofifa.net/flags/br@2x.png 2x, https://cdn.sofifa.net/flags/br@3x.png 3x\" height=\"16\" src=\"https://cdn.sofifa.net/pixel.gif\" title=\"Brazil\" width=\"21\"/>\\n          <a href=\"/players?pn=27\" rel=\"nofollow\">\\n           <span class=\"pos pos27\">\\n            LW\\n           </span>\\n          </a>\\n         </td>\\n         <td class=\"col col-ae\" data-col=\"ae\">\\n          30\\n         </td>\\n         <td class=\"col col-oa col-sort\" data-col=\"oa\">\\n          <span class=\"bp3-tag p p-89\">\\n           89\\n          </span>\\n         </td>\\n         <td class=\"col col-pt\" data-col=\"pt\">\\n          <span class=\"bp3-tag p p-89\">\\n           89\\n          </span>\\n         </td>\\n         <td class=\"col-name\">\\n          <div class=\"ellipsis\">\\n           <figure class=\"avatar avatar-sm transparent\">\\n            <img alt=\"\" class=\"team\" data-root=\"https://cdn.sofifa.net/teams/\" data-src=\"https://cdn.sofifa.net/teams/73/30.png\" data-srcset=\"https://cdn.sofifa.net/teams/73/60.png 2x, https://cdn.sofifa.net/teams/73/90.png 3x\" data-type=\"team\" src=\"https://cdn.sofifa.net/teams/notfound_30.png\"/>\\n           </figure>\\n           <a href=\"/team/73/paris-saint-germain/\">\\n            Paris Saint Germain\\n           </a>\\n           <div class=\"sub\">\\n            2017 ~ 2025\\n           </div>\\n          </div>\\n         </td>\\n         <td class=\"col col-vl\" data-col=\"vl\">\\n          €99.5M\\n         </td>\\n         <td class=\"col col-wg\" data-col=\"wg\">\\n          €200K\\n         </td>\\n         <td class=\"col col-tt\" data-col=\"tt\">\\n          <span class=\"bp3-tag p\">\\n           2157\\n          </span>\\n         </td>\\n        </tr>\\n        <tr>\\n         <td class=\"col-avatar\">\\n          <figure class=\"avatar\">\\n           <img alt=\"\" class=\"player-check\" data-root=\"https://cdn.sofifa.net/players/\" data-src=\"https://cdn.sofifa.net/players/167/495/23_60.png\" data-srcset=\"https://cdn.sofifa.net/players/167/495/23_120.png 2x, https://cdn.sofifa.net/players/167/495/23_180.png 3x\" data-type=\"player\" id=\"167495\" src=\"https://cdn.sofifa.net/players/notfound_0_60.png\"/>\\n          </figure>\\n         </td>\\n         <td class=\"col-name\">\\n          <a aria-label=\"Manuel Neuer\" data-tip-pos=\"top\" href=\"/player/167495/manuel-neuer/230011/\" role=\"tooltip\">\\n           <div class=\"ellipsis\">\\n            M. Neuer\\n           </div>\\n          </a>\\n          <img alt=\"\" class=\"flag\" data-src=\"https://cdn.sofifa.net/flags/de.png\" data-srcset=\"https://cdn.sofifa.net/flags/de@2x.png 2x, https://cdn.sofifa.net/flags/de@3x.png 3x\" height=\"16\" src=\"https://cdn.sofifa.net/pixel.gif\" title=\"Germany\" width=\"21\"/>\\n          <a href=\"/players?pn=0\" rel=\"nofollow\">\\n           <span class=\"pos pos0\">\\n            GK\\n           </span>\\n          </a>\\n         </td>\\n         <td class=\"col col-ae\" data-col=\"ae\">\\n          36\\n         </td>\\n         <td class=\"col col-oa col-sort\" data-col=\"oa\">\\n          <span class=\"bp3-tag p p-89\">\\n           89\\n          </span>\\n         </td>\\n         <td class=\"col col-pt\" data-col=\"pt\">\\n          <span class=\"bp3-tag p p-89\">\\n           89\\n          </span>\\n         </td>\\n         <td class=\"col-name\">\\n          <div class=\"ellipsis\">\\n           <figure class=\"avatar avatar-sm transparent\">\\n            <img alt=\"\" class=\"team\" data-root=\"https://cdn.sofifa.net/teams/\" data-src=\"https://cdn.sofifa.net/teams/21/30.png\" data-srcset=\"https://cdn.sofifa.net/teams/21/60.png 2x, https://cdn.sofifa.net/teams/21/90.png 3x\" data-type=\"team\" src=\"https://cdn.sofifa.net/teams/notfound_30.png\"/>\\n           </figure>\\n           <a href=\"/team/21/fc-bayern-munchen/\">\\n            FC Bayern München\\n           </a>\\n           <div class=\"sub\">\\n            2011 ~ 2024\\n           </div>\\n          </div>\\n         </td>\\n         <td class=\"col col-vl\" data-col=\"vl\">\\n          €11.5M\\n         </td>\\n         <td class=\"col col-wg\" data-col=\"wg\">\\n          €69K\\n         </td>\\n         <td class=\"col col-tt\" data-col=\"tt\">\\n          <span class=\"bp3-tag p\">\\n           1512\\n          </span>\\n         </td>\\n        </tr>\\n        <tr>\\n         <td class=\"col-avatar\">\\n          <figure class=\"avatar\">\\n           <img alt=\"\" class=\"player-check\" data-root=\"https://cdn.sofifa.net/players/\" data-src=\"https://cdn.sofifa.net/players/239/818/23_60.png\" data-srcset=\"https://cdn.sofifa.net/players/239/818/23_120.png 2x, https://cdn.sofifa.net/players/239/818/23_180.png 3x\" data-type=\"player\" id=\"239818\" src=\"https://cdn.sofifa.net/players/notfound_0_60.png\"/>\\n          </figure>\\n         </td>\\n         <td class=\"col-name\">\\n          <a aria-label=\"Rúben Santos Gato Alves Dias\" data-tip-pos=\"top\" href=\"/player/239818/ruben-santos-gato-alves-dias/230011/\" role=\"tooltip\">\\n           <div class=\"ellipsis\">\\n            Rúben Dias\\n           </div>\\n          </a>\\n          <img alt=\"\" class=\"flag\" data-src=\"https://cdn.sofifa.net/flags/pt.png\" data-srcset=\"https://cdn.sofifa.net/flags/pt@2x.png 2x, https://cdn.sofifa.net/flags/pt@3x.png 3x\" height=\"16\" src=\"https://cdn.sofifa.net/pixel.gif\" title=\"Portugal\" width=\"21\"/>\\n          <a href=\"/players?pn=5\" rel=\"nofollow\">\\n           <span class=\"pos pos5\">\\n            CB\\n           </span>\\n          </a>\\n         </td>\\n         <td class=\"col col-ae\" data-col=\"ae\">\\n          25\\n         </td>\\n         <td class=\"col col-oa col-sort\" data-col=\"oa\">\\n          <span class=\"bp3-tag p p-88\">\\n           88\\n          </span>\\n         </td>\\n         <td class=\"col col-pt\" data-col=\"pt\">\\n          <span class=\"bp3-tag p p-91\">\\n           91\\n          </span>\\n         </td>\\n         <td class=\"col-name\">\\n          <div class=\"ellipsis\">\\n           <figure class=\"avatar avatar-sm transparent\">\\n            <img alt=\"\" class=\"team\" data-root=\"https://cdn.sofifa.net/teams/\" data-src=\"https://cdn.sofifa.net/teams/10/30.png\" data-srcset=\"https://cdn.sofifa.net/teams/10/60.png 2x, https://cdn.sofifa.net/teams/10/90.png 3x\" data-type=\"team\" src=\"https://cdn.sofifa.net/teams/notfound_30.png\"/>\\n           </figure>\\n           <a href=\"/team/10/manchester-city/\">\\n            Manchester City\\n           </a>\\n           <div class=\"sub\">\\n            2020 ~ 2027\\n           </div>\\n          </div>\\n         </td>\\n         <td class=\"col col-vl\" data-col=\"vl\">\\n          €107.5M\\n         </td>\\n         <td class=\"col col-wg\" data-col=\"wg\">\\n          €230K\\n         </td>\\n         <td class=\"col col-tt\" data-col=\"tt\">\\n          <span class=\"bp3-tag p\">\\n           1894\\n          </span>\\n         </td>\\n        </tr>\\n        <tr>\\n         <td class=\"col-avatar\">\\n          <figure class=\"avatar\">\\n           <img alt=\"\" class=\"player-check\" data-root=\"https://cdn.sofifa.net/players/\" data-src=\"https://cdn.sofifa.net/players/230/621/23_60.png\" data-srcset=\"https://cdn.sofifa.net/players/230/621/23_120.png 2x, https://cdn.sofifa.net/players/230/621/23_180.png 3x\" data-type=\"player\" id=\"230621\" src=\"https://cdn.sofifa.net/players/notfound_0_60.png\"/>\\n          </figure>\\n         </td>\\n         <td class=\"col-name\">\\n          <a aria-label=\"Gianluigi Donnarumma\" data-tip-pos=\"top\" href=\"/player/230621/gianluigi-donnarumma/230011/\" role=\"tooltip\">\\n           <div class=\"ellipsis\">\\n            G. Donnarumma\\n           </div>\\n          </a>\\n          <img alt=\"\" class=\"flag\" data-src=\"https://cdn.sofifa.net/flags/it.png\" data-srcset=\"https://cdn.sofifa.net/flags/it@2x.png 2x, https://cdn.sofifa.net/flags/it@3x.png 3x\" height=\"16\" src=\"https://cdn.sofifa.net/pixel.gif\" title=\"Italy\" width=\"21\"/>\\n          <a href=\"/players?pn=0\" rel=\"nofollow\">\\n           <span class=\"pos pos0\">\\n            GK\\n           </span>\\n          </a>\\n         </td>\\n         <td class=\"col col-ae\" data-col=\"ae\">\\n          23\\n         </td>\\n         <td class=\"col col-oa col-sort\" data-col=\"oa\">\\n          <span class=\"bp3-tag p p-88\">\\n           88\\n          </span>\\n         </td>\\n         <td class=\"col col-pt\" data-col=\"pt\">\\n          <span class=\"bp3-tag p p-92\">\\n           92\\n          </span>\\n         </td>\\n         <td class=\"col-name\">\\n          <div class=\"ellipsis\">\\n           <figure class=\"avatar avatar-sm transparent\">\\n            <img alt=\"\" class=\"team\" data-root=\"https://cdn.sofifa.net/teams/\" data-src=\"https://cdn.sofifa.net/teams/73/30.png\" data-srcset=\"https://cdn.sofifa.net/teams/73/60.png 2x, https://cdn.sofifa.net/teams/73/90.png 3x\" data-type=\"team\" src=\"https://cdn.sofifa.net/teams/notfound_30.png\"/>\\n           </figure>\\n           <a href=\"/team/73/paris-saint-germain/\">\\n            Paris Saint Germain\\n           </a>\\n           <div class=\"sub\">\\n            2021 ~ 2026\\n           </div>\\n          </div>\\n         </td>\\n         <td class=\"col col-vl\" data-col=\"vl\">\\n          €103.5M\\n         </td>\\n         <td class=\"col col-wg\" data-col=\"wg\">\\n          €110K\\n         </td>\\n         <td class=\"col col-tt\" data-col=\"tt\">\\n          <span class=\"bp3-tag p\">\\n           1375\\n          </span>\\n         </td>\\n        </tr>\\n        <tr>\\n         <td class=\"col-avatar\">\\n          <figure class=\"avatar\">\\n           <img alt=\"\" class=\"player-check\" data-root=\"https://cdn.sofifa.net/players/\" data-src=\"https://cdn.sofifa.net/players/218/667/23_60.png\" data-srcset=\"https://cdn.sofifa.net/players/218/667/23_120.png 2x, https://cdn.sofifa.net/players/218/667/23_180.png 3x\" data-type=\"player\" id=\"218667\" src=\"https://cdn.sofifa.net/players/notfound_0_60.png\"/>\\n          </figure>\\n         </td>\\n         <td class=\"col-name\">\\n          <a aria-label=\"Bernardo Mota Carvalho e Silva\" data-tip-pos=\"top\" href=\"/player/218667/bernardo-mota-carvalho-e-silva/230011/\" role=\"tooltip\">\\n           <div class=\"ellipsis\">\\n            Bernardo Silva\\n           </div>\\n          </a>\\n          <img alt=\"\" class=\"flag\" data-src=\"https://cdn.sofifa.net/flags/pt.png\" data-srcset=\"https://cdn.sofifa.net/flags/pt@2x.png 2x, https://cdn.sofifa.net/flags/pt@3x.png 3x\" height=\"16\" src=\"https://cdn.sofifa.net/pixel.gif\" title=\"Portugal\" width=\"21\"/>\\n          <a href=\"/players?pn=18\" rel=\"nofollow\">\\n           <span class=\"pos pos18\">\\n            CAM\\n           </span>\\n          </a>\\n          <a href=\"/players?pn=14\" rel=\"nofollow\">\\n           <span class=\"pos pos14\">\\n            CM\\n           </span>\\n          </a>\\n         </td>\\n         <td class=\"col col-ae\" data-col=\"ae\">\\n          27\\n         </td>\\n         <td class=\"col col-oa col-sort\" data-col=\"oa\">\\n          <span class=\"bp3-tag p p-88\">\\n           88\\n          </span>\\n         </td>\\n         <td class=\"col col-pt\" data-col=\"pt\">\\n          <span class=\"bp3-tag p p-88\">\\n           88\\n          </span>\\n         </td>\\n         <td class=\"col-name\">\\n          <div class=\"ellipsis\">\\n           <figure class=\"avatar avatar-sm transparent\">\\n            <img alt=\"\" class=\"team\" data-root=\"https://cdn.sofifa.net/teams/\" data-src=\"https://cdn.sofifa.net/teams/10/30.png\" data-srcset=\"https://cdn.sofifa.net/teams/10/60.png 2x, https://cdn.sofifa.net/teams/10/90.png 3x\" data-type=\"team\" src=\"https://cdn.sofifa.net/teams/notfound_30.png\"/>\\n           </figure>\\n           <a href=\"/team/10/manchester-city/\">\\n            Manchester City\\n           </a>\\n           <div class=\"sub\">\\n            2017 ~ 2025\\n           </div>\\n          </div>\\n         </td>\\n         <td class=\"col col-vl\" data-col=\"vl\">\\n          €97.5M\\n         </td>\\n         <td class=\"col col-wg\" data-col=\"wg\">\\n          €260K\\n         </td>\\n         <td class=\"col col-tt\" data-col=\"tt\">\\n          <span class=\"bp3-tag p\">\\n           2200\\n          </span>\\n         </td>\\n        </tr>\\n        <tr>\\n         <td class=\"col-avatar\">\\n          <figure class=\"avatar\">\\n           <img alt=\"\" class=\"player-check\" data-root=\"https://cdn.sofifa.net/players/\" data-src=\"https://cdn.sofifa.net/players/215/914/23_60.png\" data-srcset=\"https://cdn.sofifa.net/players/215/914/23_120.png 2x, https://cdn.sofifa.net/players/215/914/23_180.png 3x\" data-type=\"player\" id=\"215914\" src=\"https://cdn.sofifa.net/players/notfound_0_60.png\"/>\\n          </figure>\\n         </td>\\n         <td class=\"col-name\">\\n          <a aria-label=\"N\\'Golo Kanté\" data-tip-pos=\"top\" href=\"/player/215914/ngolo-kante/230011/\" role=\"tooltip\">\\n           <div class=\"ellipsis\">\\n            N. Kanté\\n           </div>\\n          </a>\\n          <img alt=\"\" class=\"flag\" data-src=\"https://cdn.sofifa.net/flags/fr.png\" data-srcset=\"https://cdn.sofifa.net/flags/fr@2x.png 2x, https://cdn.sofifa.net/flags/fr@3x.png 3x\" height=\"16\" src=\"https://cdn.sofifa.net/pixel.gif\" title=\"France\" width=\"21\"/>\\n          <a href=\"/players?pn=10\" rel=\"nofollow\">\\n           <span class=\"pos pos10\">\\n            CDM\\n           </span>\\n          </a>\\n          <a href=\"/players?pn=14\" rel=\"nofollow\">\\n           <span class=\"pos pos14\">\\n            CM\\n           </span>\\n          </a>\\n         </td>\\n         <td class=\"col col-ae\" data-col=\"ae\">\\n          31\\n         </td>\\n         <td class=\"col col-oa col-sort\" data-col=\"oa\">\\n          <span class=\"bp3-tag p p-88\">\\n           88\\n          </span>\\n         </td>\\n         <td class=\"col col-pt\" data-col=\"pt\">\\n          <span class=\"bp3-tag p p-88\">\\n           88\\n          </span>\\n         </td>\\n         <td class=\"col-name\">\\n          <div class=\"ellipsis\">\\n           <figure class=\"avatar avatar-sm transparent\">\\n            <img alt=\"\" class=\"team\" data-root=\"https://cdn.sofifa.net/teams/\" data-src=\"https://cdn.sofifa.net/teams/5/30.png\" data-srcset=\"https://cdn.sofifa.net/teams/5/60.png 2x, https://cdn.sofifa.net/teams/5/90.png 3x\" data-type=\"team\" src=\"https://cdn.sofifa.net/teams/notfound_30.png\"/>\\n           </figure>\\n           <a href=\"/team/5/chelsea/\">\\n            Chelsea\\n           </a>\\n           <div class=\"sub\">\\n            2016 ~ 2023\\n           </div>\\n          </div>\\n         </td>\\n         <td class=\"col col-vl\" data-col=\"vl\">\\n          €64M\\n         </td>\\n         <td class=\"col col-wg\" data-col=\"wg\">\\n          €210K\\n         </td>\\n         <td class=\"col col-tt\" data-col=\"tt\">\\n          <span class=\"bp3-tag p\">\\n           2144\\n          </span>\\n         </td>\\n        </tr>\\n        <tr>\\n         <td class=\"col-avatar\">\\n          <figure class=\"avatar\">\\n           <img alt=\"\" class=\"player-check\" data-root=\"https://cdn.sofifa.net/players/\" data-src=\"https://cdn.sofifa.net/players/210/514/23_60.png\" data-srcset=\"https://cdn.sofifa.net/players/210/514/23_120.png 2x, https://cdn.sofifa.net/players/210/514/23_180.png 3x\" data-type=\"player\" id=\"210514\" src=\"https://cdn.sofifa.net/players/notfound_0_60.png\"/>\\n          </figure>\\n         </td>\\n         <td class=\"col-name\">\\n          <a aria-label=\"João Pedro Cavaco Cancelo\" data-tip-pos=\"top\" href=\"/player/210514/joao-pedro-cavaco-cancelo/230011/\" role=\"tooltip\">\\n           <div class=\"ellipsis\">\\n            João Cancelo\\n           </div>\\n          </a>\\n          <img alt=\"\" class=\"flag\" data-src=\"https://cdn.sofifa.net/flags/pt.png\" data-srcset=\"https://cdn.sofifa.net/flags/pt@2x.png 2x, https://cdn.sofifa.net/flags/pt@3x.png 3x\" height=\"16\" src=\"https://cdn.sofifa.net/pixel.gif\" title=\"Portugal\" width=\"21\"/>\\n          <a href=\"/players?pn=7\" rel=\"nofollow\">\\n           <span class=\"pos pos7\">\\n            LB\\n           </span>\\n          </a>\\n          <a href=\"/players?pn=3\" rel=\"nofollow\">\\n           <span class=\"pos pos3\">\\n            RB\\n           </span>\\n          </a>\\n         </td>\\n         <td class=\"col col-ae\" data-col=\"ae\">\\n          28\\n         </td>\\n         <td class=\"col col-oa col-sort\" data-col=\"oa\">\\n          <span class=\"bp3-tag p p-88\">\\n           88\\n          </span>\\n         </td>\\n         <td class=\"col col-pt\" data-col=\"pt\">\\n          <span class=\"bp3-tag p p-88\">\\n           88\\n          </span>\\n         </td>\\n         <td class=\"col-name\">\\n          <div class=\"ellipsis\">\\n           <figure class=\"avatar avatar-sm transparent\">\\n            <img alt=\"\" class=\"team\" data-root=\"https://cdn.sofifa.net/teams/\" data-src=\"https://cdn.sofifa.net/teams/10/30.png\" data-srcset=\"https://cdn.sofifa.net/teams/10/60.png 2x, https://cdn.sofifa.net/teams/10/90.png 3x\" data-type=\"team\" src=\"https://cdn.sofifa.net/teams/notfound_30.png\"/>\\n           </figure>\\n           <a href=\"/team/10/manchester-city/\">\\n            Manchester City\\n           </a>\\n           <div class=\"sub\">\\n            2019 ~ 2027\\n           </div>\\n          </div>\\n         </td>\\n         <td class=\"col col-vl\" data-col=\"vl\">\\n          €82.5M\\n         </td>\\n         <td class=\"col col-wg\" data-col=\"wg\">\\n          €250K\\n         </td>\\n         <td class=\"col col-tt\" data-col=\"tt\">\\n          <span class=\"bp3-tag p\">\\n           2260\\n          </span>\\n         </td>\\n        </tr>\\n        <tr>\\n         <td class=\"col-avatar\">\\n          <figure class=\"avatar\">\\n           <img alt=\"\" class=\"player-check\" data-root=\"https://cdn.sofifa.net/players/\" data-src=\"https://cdn.sofifa.net/players/207/865/23_60.png\" data-srcset=\"https://cdn.sofifa.net/players/207/865/23_120.png 2x, https://cdn.sofifa.net/players/207/865/23_180.png 3x\" data-type=\"player\" id=\"207865\" src=\"https://cdn.sofifa.net/players/notfound_0_60.png\"/>\\n          </figure>\\n         </td>\\n         <td class=\"col-name\">\\n          <a aria-label=\"Marcos Aoás Corrêa\" data-tip-pos=\"top\" href=\"/player/207865/marcos-aoas-correa/230011/\" role=\"tooltip\">\\n           <div class=\"ellipsis\">\\n            Marquinhos\\n           </div>\\n          </a>\\n          <img alt=\"\" class=\"flag\" data-src=\"https://cdn.sofifa.net/flags/br.png\" data-srcset=\"https://cdn.sofifa.net/flags/br@2x.png 2x, https://cdn.sofifa.net/flags/br@3x.png 3x\" height=\"16\" src=\"https://cdn.sofifa.net/pixel.gif\" title=\"Brazil\" width=\"21\"/>\\n          <a href=\"/players?pn=5\" rel=\"nofollow\">\\n           <span class=\"pos pos5\">\\n            CB\\n           </span>\\n          </a>\\n         </td>\\n         <td class=\"col col-ae\" data-col=\"ae\">\\n          28\\n         </td>\\n         <td class=\"col col-oa col-sort\" data-col=\"oa\">\\n          <span class=\"bp3-tag p p-88\">\\n           88\\n          </span>\\n         </td>\\n         <td class=\"col col-pt\" data-col=\"pt\">\\n          <span class=\"bp3-tag p p-90\">\\n           90\\n          </span>\\n         </td>\\n         <td class=\"col-name\">\\n          <div class=\"ellipsis\">\\n           <figure class=\"avatar avatar-sm transparent\">\\n            <img alt=\"\" class=\"team\" data-root=\"https://cdn.sofifa.net/teams/\" data-src=\"https://cdn.sofifa.net/teams/73/30.png\" data-srcset=\"https://cdn.sofifa.net/teams/73/60.png 2x, https://cdn.sofifa.net/teams/73/90.png 3x\" data-type=\"team\" src=\"https://cdn.sofifa.net/teams/notfound_30.png\"/>\\n           </figure>\\n           <a href=\"/team/73/paris-saint-germain/\">\\n            Paris Saint Germain\\n           </a>\\n           <div class=\"sub\">\\n            2013 ~ 2024\\n           </div>\\n          </div>\\n         </td>\\n         <td class=\"col col-vl\" data-col=\"vl\">\\n          €92M\\n         </td>\\n         <td class=\"col col-wg\" data-col=\"wg\">\\n          €170K\\n         </td>\\n         <td class=\"col col-tt\" data-col=\"tt\">\\n          <span class=\"bp3-tag p\">\\n           2082\\n          </span>\\n         </td>\\n        </tr>\\n        <tr>\\n         <td class=\"col-avatar\">\\n          <figure class=\"avatar\">\\n           <img alt=\"\" class=\"player-check\" data-root=\"https://cdn.sofifa.net/players/\" data-src=\"https://cdn.sofifa.net/players/200/104/23_60.png\" data-srcset=\"https://cdn.sofifa.net/players/200/104/23_120.png 2x, https://cdn.sofifa.net/players/200/104/23_180.png 3x\" data-type=\"player\" id=\"200104\" src=\"https://cdn.sofifa.net/players/notfound_0_60.png\"/>\\n          </figure>\\n         </td>\\n         <td class=\"col-name\">\\n          <a aria-label=\"Heung Min Son\" data-tip-pos=\"top\" href=\"/player/200104/heung-min-son/230011/\" role=\"tooltip\">\\n           <div class=\"ellipsis\">\\n            H. Son\\n           </div>\\n          </a>\\n          <img alt=\"\" class=\"flag\" data-src=\"https://cdn.sofifa.net/flags/kr.png\" data-srcset=\"https://cdn.sofifa.net/flags/kr@2x.png 2x, https://cdn.sofifa.net/flags/kr@3x.png 3x\" height=\"16\" src=\"https://cdn.sofifa.net/pixel.gif\" title=\"Korea Republic\" width=\"21\"/>\\n          <a href=\"/players?pn=27\" rel=\"nofollow\">\\n           <span class=\"pos pos27\">\\n            LW\\n           </span>\\n          </a>\\n          <a href=\"/players?pn=16\" rel=\"nofollow\">\\n           <span class=\"pos pos16\">\\n            LM\\n           </span>\\n          </a>\\n          <a href=\"/players?pn=25\" rel=\"nofollow\">\\n           <span class=\"pos pos25\">\\n            ST\\n           </span>\\n          </a>\\n         </td>\\n         <td class=\"col col-ae\" data-col=\"ae\">\\n          29\\n         </td>\\n         <td class=\"col col-oa col-sort\" data-col=\"oa\">\\n          <span class=\"bp3-tag p p-88\">\\n           88\\n          </span>\\n         </td>\\n         <td class=\"col col-pt\" data-col=\"pt\">\\n          <span class=\"bp3-tag p p-88\">\\n           88\\n          </span>\\n         </td>\\n         <td class=\"col-name\">\\n          <div class=\"ellipsis\">\\n           <figure class=\"avatar avatar-sm transparent\">\\n            <img alt=\"\" class=\"team\" data-root=\"https://cdn.sofifa.net/teams/\" data-src=\"https://cdn.sofifa.net/teams/18/30.png\" data-srcset=\"https://cdn.sofifa.net/teams/18/60.png 2x, https://cdn.sofifa.net/teams/18/90.png 3x\" data-type=\"team\" src=\"https://cdn.sofifa.net/teams/notfound_30.png\"/>\\n           </figure>\\n           <a href=\"/team/18/tottenham-hotspur/\">\\n            Tottenham Hotspur\\n           </a>\\n           <div class=\"sub\">\\n            2015 ~ 2025\\n           </div>\\n          </div>\\n         </td>\\n         <td class=\"col col-vl\" data-col=\"vl\">\\n          €89.5M\\n         </td>\\n         <td class=\"col col-wg\" data-col=\"wg\">\\n          €230K\\n         </td>\\n         <td class=\"col col-tt\" data-col=\"tt\">\\n          <span class=\"bp3-tag p\">\\n           2134\\n          </span>\\n         </td>\\n        </tr>\\n        <tr>\\n         <td class=\"col-avatar\">\\n          <figure class=\"avatar\">\\n           <img alt=\"\" class=\"player-check\" data-root=\"https://cdn.sofifa.net/players/\" data-src=\"https://cdn.sofifa.net/players/192/448/23_60.png\" data-srcset=\"https://cdn.sofifa.net/players/192/448/23_120.png 2x, https://cdn.sofifa.net/players/192/448/23_180.png 3x\" data-type=\"player\" id=\"192448\" src=\"https://cdn.sofifa.net/players/notfound_0_60.png\"/>\\n          </figure>\\n         </td>\\n         <td class=\"col-name\">\\n          <a aria-label=\"Marc-André ter Stegen\" data-tip-pos=\"top\" href=\"/player/192448/marc-andre-ter-stegen/230011/\" role=\"tooltip\">\\n           <div class=\"ellipsis\">\\n            M. ter Stegen\\n           </div>\\n          </a>\\n          <img alt=\"\" class=\"flag\" data-src=\"https://cdn.sofifa.net/flags/de.png\" data-srcset=\"https://cdn.sofifa.net/flags/de@2x.png 2x, https://cdn.sofifa.net/flags/de@3x.png 3x\" height=\"16\" src=\"https://cdn.sofifa.net/pixel.gif\" title=\"Germany\" width=\"21\"/>\\n          <a href=\"/players?pn=0\" rel=\"nofollow\">\\n           <span class=\"pos pos0\">\\n            GK\\n           </span>\\n          </a>\\n         </td>\\n         <td class=\"col col-ae\" data-col=\"ae\">\\n          30\\n         </td>\\n         <td class=\"col col-oa col-sort\" data-col=\"oa\">\\n          <span class=\"bp3-tag p p-88\">\\n           88\\n          </span>\\n         </td>\\n         <td class=\"col col-pt\" data-col=\"pt\">\\n          <span class=\"bp3-tag p p-89\">\\n           89\\n          </span>\\n         </td>\\n         <td class=\"col-name\">\\n          <div class=\"ellipsis\">\\n           <figure class=\"avatar avatar-sm transparent\">\\n            <img alt=\"\" class=\"team\" data-root=\"https://cdn.sofifa.net/teams/\" data-src=\"https://cdn.sofifa.net/teams/241/30.png\" data-srcset=\"https://cdn.sofifa.net/teams/241/60.png 2x, https://cdn.sofifa.net/teams/241/90.png 3x\" data-type=\"team\" src=\"https://cdn.sofifa.net/teams/notfound_30.png\"/>\\n           </figure>\\n           <a href=\"/team/241/fc-barcelona/\">\\n            FC Barcelona\\n           </a>\\n           <div class=\"sub\">\\n            2014 ~ 2025\\n           </div>\\n          </div>\\n         </td>\\n         <td class=\"col col-vl\" data-col=\"vl\">\\n          €68.5M\\n         </td>\\n         <td class=\"col col-wg\" data-col=\"wg\">\\n          €210K\\n         </td>\\n         <td class=\"col col-tt\" data-col=\"tt\">\\n          <span class=\"bp3-tag p\">\\n           1443\\n          </span>\\n         </td>\\n        </tr>\\n        <tr>\\n         <td class=\"col-avatar\">\\n          <figure class=\"avatar\">\\n           <img alt=\"\" class=\"player-check\" data-root=\"https://cdn.sofifa.net/players/\" data-src=\"https://cdn.sofifa.net/players/182/521/23_60.png\" data-srcset=\"https://cdn.sofifa.net/players/182/521/23_120.png 2x, https://cdn.sofifa.net/players/182/521/23_180.png 3x\" data-type=\"player\" id=\"182521\" src=\"https://cdn.sofifa.net/players/notfound_0_60.png\"/>\\n          </figure>\\n         </td>\\n         <td class=\"col-name\">\\n          <a aria-label=\"Toni Kroos\" data-tip-pos=\"top\" href=\"/player/182521/toni-kroos/230011/\" role=\"tooltip\">\\n           <div class=\"ellipsis\">\\n            T. Kroos\\n           </div>\\n          </a>\\n          <img alt=\"\" class=\"flag\" data-src=\"https://cdn.sofifa.net/flags/de.png\" data-srcset=\"https://cdn.sofifa.net/flags/de@2x.png 2x, https://cdn.sofifa.net/flags/de@3x.png 3x\" height=\"16\" src=\"https://cdn.sofifa.net/pixel.gif\" title=\"Germany\" width=\"21\"/>\\n          <a href=\"/players?pn=14\" rel=\"nofollow\">\\n           <span class=\"pos pos14\">\\n            CM\\n           </span>\\n          </a>\\n         </td>\\n         <td class=\"col col-ae\" data-col=\"ae\">\\n          32\\n         </td>\\n         <td class=\"col col-oa col-sort\" data-col=\"oa\">\\n          <span class=\"bp3-tag p p-88\">\\n           88\\n          </span>\\n         </td>\\n         <td class=\"col col-pt\" data-col=\"pt\">\\n          <span class=\"bp3-tag p p-88\">\\n           88\\n          </span>\\n         </td>\\n         <td class=\"col-name\">\\n          <div class=\"ellipsis\">\\n           <figure class=\"avatar avatar-sm transparent\">\\n            <img alt=\"\" class=\"team\" data-root=\"https://cdn.sofifa.net/teams/\" data-src=\"https://cdn.sofifa.net/teams/243/30.png\" data-srcset=\"https://cdn.sofifa.net/teams/243/60.png 2x, https://cdn.sofifa.net/teams/243/90.png 3x\" data-type=\"team\" src=\"https://cdn.sofifa.net/teams/notfound_30.png\"/>\\n           </figure>\\n           <a href=\"/team/243/real-madrid/\">\\n            Real Madrid\\n           </a>\\n           <div class=\"sub\">\\n            2014 ~ 2023\\n           </div>\\n          </div>\\n         </td>\\n         <td class=\"col col-vl\" data-col=\"vl\">\\n          €72M\\n         </td>\\n         <td class=\"col col-wg\" data-col=\"wg\">\\n          €310K\\n         </td>\\n         <td class=\"col col-tt\" data-col=\"tt\">\\n          <span class=\"bp3-tag p\">\\n           2147\\n          </span>\\n         </td>\\n        </tr>\\n        <tr>\\n         <td class=\"col-avatar\">\\n          <figure class=\"avatar\">\\n           <img alt=\"\" class=\"player-check\" data-root=\"https://cdn.sofifa.net/players/\" data-src=\"https://cdn.sofifa.net/players/177/003/23_60.png\" data-srcset=\"https://cdn.sofifa.net/players/177/003/23_120.png 2x, https://cdn.sofifa.net/players/177/003/23_180.png 3x\" data-type=\"player\" id=\"177003\" src=\"https://cdn.sofifa.net/players/notfound_0_60.png\"/>\\n          </figure>\\n         </td>\\n         <td class=\"col-name\">\\n          <a aria-label=\"Luka Modrić\" data-tip-pos=\"top\" href=\"/player/177003/luka-modric/230011/\" role=\"tooltip\">\\n           <div class=\"ellipsis\">\\n            L. Modrić\\n           </div>\\n          </a>\\n          <img alt=\"\" class=\"flag\" data-src=\"https://cdn.sofifa.net/flags/hr.png\" data-srcset=\"https://cdn.sofifa.net/flags/hr@2x.png 2x, https://cdn.sofifa.net/flags/hr@3x.png 3x\" height=\"16\" src=\"https://cdn.sofifa.net/pixel.gif\" title=\"Croatia\" width=\"21\"/>\\n          <a href=\"/players?pn=14\" rel=\"nofollow\">\\n           <span class=\"pos pos14\">\\n            CM\\n           </span>\\n          </a>\\n         </td>\\n         <td class=\"col col-ae\" data-col=\"ae\">\\n          36\\n         </td>\\n         <td class=\"col col-oa col-sort\" data-col=\"oa\">\\n          <span class=\"bp3-tag p p-88\">\\n           88\\n          </span>\\n         </td>\\n         <td class=\"col col-pt\" data-col=\"pt\">\\n          <span class=\"bp3-tag p p-88\">\\n           88\\n          </span>\\n         </td>\\n         <td class=\"col-name\">\\n          <div class=\"ellipsis\">\\n           <figure class=\"avatar avatar-sm transparent\">\\n            <img alt=\"\" class=\"team\" data-root=\"https://cdn.sofifa.net/teams/\" data-src=\"https://cdn.sofifa.net/teams/243/30.png\" data-srcset=\"https://cdn.sofifa.net/teams/243/60.png 2x, https://cdn.sofifa.net/teams/243/90.png 3x\" data-type=\"team\" src=\"https://cdn.sofifa.net/teams/notfound_30.png\"/>\\n           </figure>\\n           <a href=\"/team/243/real-madrid/\">\\n            Real Madrid\\n           </a>\\n           <div class=\"sub\">\\n            2012 ~ 2023\\n           </div>\\n          </div>\\n         </td>\\n         <td class=\"col col-vl\" data-col=\"vl\">\\n          €29M\\n         </td>\\n         <td class=\"col col-wg\" data-col=\"wg\">\\n          €230K\\n         </td>\\n         <td class=\"col col-tt\" data-col=\"tt\">\\n          <span class=\"bp3-tag p\">\\n           2258\\n          </span>\\n         </td>\\n        </tr>\\n        <tr>\\n         <td class=\"col-avatar\">\\n          <figure class=\"avatar\">\\n           <img alt=\"\" class=\"player-check\" data-root=\"https://cdn.sofifa.net/players/\" data-src=\"https://cdn.sofifa.net/players/020/801/23_60.png\" data-srcset=\"https://cdn.sofifa.net/players/020/801/23_120.png 2x, https://cdn.sofifa.net/players/020/801/23_180.png 3x\" data-type=\"player\" id=\"20801\" src=\"https://cdn.sofifa.net/players/notfound_0_60.png\"/>\\n          </figure>\\n         </td>\\n         <td class=\"col-name\">\\n          <a aria-label=\"C. Ronaldo dos Santos Aveiro\" data-tip-pos=\"top\" href=\"/player/20801/c-ronaldo-dos-santos-aveiro/230011/\" role=\"tooltip\">\\n           <div class=\"ellipsis\">\\n            Cristiano Ronaldo\\n           </div>\\n          </a>\\n          <img alt=\"\" class=\"flag\" data-src=\"https://cdn.sofifa.net/flags/pt.png\" data-srcset=\"https://cdn.sofifa.net/flags/pt@2x.png 2x, https://cdn.sofifa.net/flags/pt@3x.png 3x\" height=\"16\" src=\"https://cdn.sofifa.net/pixel.gif\" title=\"Portugal\" width=\"21\"/>\\n          <a href=\"/players?pn=25\" rel=\"nofollow\">\\n           <span class=\"pos pos25\">\\n            ST\\n           </span>\\n          </a>\\n         </td>\\n         <td class=\"col col-ae\" data-col=\"ae\">\\n          37\\n         </td>\\n         <td class=\"col col-oa col-sort\" data-col=\"oa\">\\n          <span class=\"bp3-tag p p-88\">\\n           88\\n          </span>\\n         </td>\\n         <td class=\"col col-pt\" data-col=\"pt\">\\n          <span class=\"bp3-tag p p-88\">\\n           88\\n          </span>\\n         </td>\\n         <td class=\"col-name\">\\n          <div class=\"ellipsis\">\\n           <figure class=\"avatar avatar-sm transparent\">\\n            <img alt=\"\" class=\"team\" data-root=\"https://cdn.sofifa.net/teams/\" data-src=\"https://cdn.sofifa.net/teams/112139/30.png\" data-srcset=\"https://cdn.sofifa.net/teams/112139/60.png 2x, https://cdn.sofifa.net/teams/112139/90.png 3x\" data-type=\"team\" src=\"https://cdn.sofifa.net/teams/notfound_30.png\"/>\\n           </figure>\\n           <a href=\"/team/112139/al-nassr/\">\\n            Al Nassr\\n           </a>\\n           <div class=\"sub\">\\n            2023 ~ 2025\\n           </div>\\n          </div>\\n         </td>\\n         <td class=\"col col-vl\" data-col=\"vl\">\\n          €31M\\n         </td>\\n         <td class=\"col col-wg\" data-col=\"wg\">\\n          €86K\\n         </td>\\n         <td class=\"col col-tt\" data-col=\"tt\">\\n          <span class=\"bp3-tag p\">\\n           2114\\n          </span>\\n         </td>\\n        </tr>\\n        <tr>\\n         <td class=\"col-avatar\">\\n          <figure class=\"avatar\">\\n           <img alt=\"\" class=\"player-check\" data-root=\"https://cdn.sofifa.net/players/\" data-src=\"https://cdn.sofifa.net/players/231/866/23_60.png\" data-srcset=\"https://cdn.sofifa.net/players/231/866/23_120.png 2x, https://cdn.sofifa.net/players/231/866/23_180.png 3x\" data-type=\"player\" id=\"231866\" src=\"https://cdn.sofifa.net/players/notfound_0_60.png\"/>\\n          </figure>\\n         </td>\\n         <td class=\"col-name\">\\n          <a aria-label=\"Rodrigo Hernández Cascante\" data-tip-pos=\"top\" href=\"/player/231866/rodrigo-hernandez-cascante/230011/\" role=\"tooltip\">\\n           <div class=\"ellipsis\">\\n            Rodri\\n           </div>\\n          </a>\\n          <img alt=\"\" class=\"flag\" data-src=\"https://cdn.sofifa.net/flags/es.png\" data-srcset=\"https://cdn.sofifa.net/flags/es@2x.png 2x, https://cdn.sofifa.net/flags/es@3x.png 3x\" height=\"16\" src=\"https://cdn.sofifa.net/pixel.gif\" title=\"Spain\" width=\"21\"/>\\n          <a href=\"/players?pn=10\" rel=\"nofollow\">\\n           <span class=\"pos pos10\">\\n            CDM\\n           </span>\\n          </a>\\n         </td>\\n         <td class=\"col col-ae\" data-col=\"ae\">\\n          26\\n         </td>\\n         <td class=\"col col-oa col-sort\" data-col=\"oa\">\\n          <span class=\"bp3-tag p p-87\">\\n           87\\n          </span>\\n         </td>\\n         <td class=\"col col-pt\" data-col=\"pt\">\\n          <span class=\"bp3-tag p p-89\">\\n           89\\n          </span>\\n         </td>\\n         <td class=\"col-name\">\\n          <div class=\"ellipsis\">\\n           <figure class=\"avatar avatar-sm transparent\">\\n            <img alt=\"\" class=\"team\" data-root=\"https://cdn.sofifa.net/teams/\" data-src=\"https://cdn.sofifa.net/teams/10/30.png\" data-srcset=\"https://cdn.sofifa.net/teams/10/60.png 2x, https://cdn.sofifa.net/teams/10/90.png 3x\" data-type=\"team\" src=\"https://cdn.sofifa.net/teams/notfound_30.png\"/>\\n           </figure>\\n           <a href=\"/team/10/manchester-city/\">\\n            Manchester City\\n           </a>\\n           <div class=\"sub\">\\n            2019 ~ 2027\\n           </div>\\n          </div>\\n         </td>\\n         <td class=\"col col-vl\" data-col=\"vl\">\\n          €88.5M\\n         </td>\\n         <td class=\"col col-wg\" data-col=\"wg\">\\n          €200K\\n         </td>\\n         <td class=\"col col-tt\" data-col=\"tt\">\\n          <span class=\"bp3-tag p\">\\n           2133\\n          </span>\\n         </td>\\n        </tr>\\n        <tr>\\n         <td class=\"col-avatar\">\\n          <figure class=\"avatar\">\\n           <img alt=\"\" class=\"player-check\" data-root=\"https://cdn.sofifa.net/players/\" data-src=\"https://cdn.sofifa.net/players/228/702/23_60.png\" data-srcset=\"https://cdn.sofifa.net/players/228/702/23_120.png 2x, https://cdn.sofifa.net/players/228/702/23_180.png 3x\" data-type=\"player\" id=\"228702\" src=\"https://cdn.sofifa.net/players/notfound_0_60.png\"/>\\n          </figure>\\n         </td>\\n         <td class=\"col-name\">\\n          <a aria-label=\"Frenkie de Jong\" data-tip-pos=\"top\" href=\"/player/228702/frenkie-de-jong/230011/\" role=\"tooltip\">\\n           <div class=\"ellipsis\">\\n            F. de Jong\\n           </div>\\n          </a>\\n          <img alt=\"\" class=\"flag\" data-src=\"https://cdn.sofifa.net/flags/nl.png\" data-srcset=\"https://cdn.sofifa.net/flags/nl@2x.png 2x, https://cdn.sofifa.net/flags/nl@3x.png 3x\" height=\"16\" src=\"https://cdn.sofifa.net/pixel.gif\" title=\"Netherlands\" width=\"21\"/>\\n          <a href=\"/players?pn=14\" rel=\"nofollow\">\\n           <span class=\"pos pos14\">\\n            CM\\n           </span>\\n          </a>\\n         </td>\\n         <td class=\"col col-ae\" data-col=\"ae\">\\n          25\\n         </td>\\n         <td class=\"col col-oa col-sort\" data-col=\"oa\">\\n          <span class=\"bp3-tag p p-87\">\\n           87\\n          </span>\\n         </td>\\n         <td class=\"col col-pt\" data-col=\"pt\">\\n          <span class=\"bp3-tag p p-92\">\\n           92\\n          </span>\\n         </td>\\n         <td class=\"col-name\">\\n          <div class=\"ellipsis\">\\n           <figure class=\"avatar avatar-sm transparent\">\\n            <img alt=\"\" class=\"team\" data-root=\"https://cdn.sofifa.net/teams/\" data-src=\"https://cdn.sofifa.net/teams/241/30.png\" data-srcset=\"https://cdn.sofifa.net/teams/241/60.png 2x, https://cdn.sofifa.net/teams/241/90.png 3x\" data-type=\"team\" src=\"https://cdn.sofifa.net/teams/notfound_30.png\"/>\\n           </figure>\\n           <a href=\"/team/241/fc-barcelona/\">\\n            FC Barcelona\\n           </a>\\n           <div class=\"sub\">\\n            2019 ~ 2026\\n           </div>\\n          </div>\\n         </td>\\n         <td class=\"col col-vl\" data-col=\"vl\">\\n          €116.5M\\n         </td>\\n         <td class=\"col col-wg\" data-col=\"wg\">\\n          €230K\\n         </td>\\n         <td class=\"col col-tt\" data-col=\"tt\">\\n          <span class=\"bp3-tag p\">\\n           2238\\n          </span>\\n         </td>\\n        </tr>\\n        <tr>\\n         <td class=\"col-avatar\">\\n          <figure class=\"avatar\">\\n           <img alt=\"\" class=\"player-check\" data-root=\"https://cdn.sofifa.net/players/\" data-src=\"https://cdn.sofifa.net/players/216/267/23_60.png\" data-srcset=\"https://cdn.sofifa.net/players/216/267/23_120.png 2x, https://cdn.sofifa.net/players/216/267/23_180.png 3x\" data-type=\"player\" id=\"216267\" src=\"https://cdn.sofifa.net/players/notfound_0_60.png\"/>\\n          </figure>\\n         </td>\\n         <td class=\"col-name\">\\n          <a aria-label=\"Andrew Robertson\" data-tip-pos=\"top\" href=\"/player/216267/andrew-robertson/230011/\" role=\"tooltip\">\\n           <div class=\"ellipsis\">\\n            A. Robertson\\n           </div>\\n          </a>\\n          <img alt=\"\" class=\"flag\" data-src=\"https://cdn.sofifa.net/flags/gb-sct.png\" data-srcset=\"https://cdn.sofifa.net/flags/gb-sct@2x.png 2x, https://cdn.sofifa.net/flags/gb-sct@3x.png 3x\" height=\"16\" src=\"https://cdn.sofifa.net/pixel.gif\" title=\"Scotland\" width=\"21\"/>\\n          <a href=\"/players?pn=7\" rel=\"nofollow\">\\n           <span class=\"pos pos7\">\\n            LB\\n           </span>\\n          </a>\\n         </td>\\n         <td class=\"col col-ae\" data-col=\"ae\">\\n          28\\n         </td>\\n         <td class=\"col col-oa col-sort\" data-col=\"oa\">\\n          <span class=\"bp3-tag p p-87\">\\n           87\\n          </span>\\n         </td>\\n         <td class=\"col col-pt\" data-col=\"pt\">\\n          <span class=\"bp3-tag p p-87\">\\n           87\\n          </span>\\n         </td>\\n         <td class=\"col-name\">\\n          <div class=\"ellipsis\">\\n           <figure class=\"avatar avatar-sm transparent\">\\n            <img alt=\"\" class=\"team\" data-root=\"https://cdn.sofifa.net/teams/\" data-src=\"https://cdn.sofifa.net/teams/9/30.png\" data-srcset=\"https://cdn.sofifa.net/teams/9/60.png 2x, https://cdn.sofifa.net/teams/9/90.png 3x\" data-type=\"team\" src=\"https://cdn.sofifa.net/teams/notfound_30.png\"/>\\n           </figure>\\n           <a href=\"/team/9/liverpool/\">\\n            Liverpool\\n           </a>\\n           <div class=\"sub\">\\n            2017 ~ 2026\\n           </div>\\n          </div>\\n         </td>\\n         <td class=\"col col-vl\" data-col=\"vl\">\\n          €72M\\n         </td>\\n         <td class=\"col col-wg\" data-col=\"wg\">\\n          €185K\\n         </td>\\n         <td class=\"col col-tt\" data-col=\"tt\">\\n          <span class=\"bp3-tag p\">\\n           2154\\n          </span>\\n         </td>\\n        </tr>\\n        <tr>\\n         <td class=\"col-avatar\">\\n          <figure class=\"avatar\">\\n           <img alt=\"\" class=\"player-check\" data-root=\"https://cdn.sofifa.net/players/\" data-src=\"https://cdn.sofifa.net/players/215/698/23_60.png\" data-srcset=\"https://cdn.sofifa.net/players/215/698/23_120.png 2x, https://cdn.sofifa.net/players/215/698/23_180.png 3x\" data-type=\"player\" id=\"215698\" src=\"https://cdn.sofifa.net/players/notfound_0_60.png\"/>\\n          </figure>\\n         </td>\\n         <td class=\"col-name\">\\n          <a aria-label=\"Mike Maignan\" data-tip-pos=\"top\" href=\"/player/215698/mike-maignan/230011/\" role=\"tooltip\">\\n           <div class=\"ellipsis\">\\n            M. Maignan\\n           </div>\\n          </a>\\n          <img alt=\"\" class=\"flag\" data-src=\"https://cdn.sofifa.net/flags/fr.png\" data-srcset=\"https://cdn.sofifa.net/flags/fr@2x.png 2x, https://cdn.sofifa.net/flags/fr@3x.png 3x\" height=\"16\" src=\"https://cdn.sofifa.net/pixel.gif\" title=\"France\" width=\"21\"/>\\n          <a href=\"/players?pn=0\" rel=\"nofollow\">\\n           <span class=\"pos pos0\">\\n            GK\\n           </span>\\n          </a>\\n         </td>\\n         <td class=\"col col-ae\" data-col=\"ae\">\\n          26\\n         </td>\\n         <td class=\"col col-oa col-sort\" data-col=\"oa\">\\n          <span class=\"bp3-tag p p-87\">\\n           87\\n          </span>\\n         </td>\\n         <td class=\"col col-pt\" data-col=\"pt\">\\n          <span class=\"bp3-tag p p-90\">\\n           90\\n          </span>\\n         </td>\\n         <td class=\"col-name\">\\n          <div class=\"ellipsis\">\\n           <figure class=\"avatar avatar-sm transparent\">\\n            <img alt=\"\" class=\"team\" data-root=\"https://cdn.sofifa.net/teams/\" data-src=\"https://cdn.sofifa.net/teams/47/30.png\" data-srcset=\"https://cdn.sofifa.net/teams/47/60.png 2x, https://cdn.sofifa.net/teams/47/90.png 3x\" data-type=\"team\" src=\"https://cdn.sofifa.net/teams/notfound_30.png\"/>\\n           </figure>\\n           <a href=\"/team/47/milan/\">\\n            Milan\\n           </a>\\n           <div class=\"sub\">\\n            2021 ~ 2026\\n           </div>\\n          </div>\\n         </td>\\n         <td class=\"col col-vl\" data-col=\"vl\">\\n          €80M\\n         </td>\\n         <td class=\"col col-wg\" data-col=\"wg\">\\n          €90K\\n         </td>\\n         <td class=\"col col-tt\" data-col=\"tt\">\\n          <span class=\"bp3-tag p\">\\n           1496\\n          </span>\\n         </td>\\n        </tr>\\n        <tr>\\n         <td class=\"col-avatar\">\\n          <figure class=\"avatar\">\\n           <img alt=\"\" class=\"player-check\" data-root=\"https://cdn.sofifa.net/players/\" data-src=\"https://cdn.sofifa.net/players/209/658/23_60.png\" data-srcset=\"https://cdn.sofifa.net/players/209/658/23_120.png 2x, https://cdn.sofifa.net/players/209/658/23_180.png 3x\" data-type=\"player\" id=\"209658\" src=\"https://cdn.sofifa.net/players/notfound_0_60.png\"/>\\n          </figure>\\n         </td>\\n         <td class=\"col-name\">\\n          <a aria-label=\"Leon Goretzka\" data-tip-pos=\"top\" href=\"/player/209658/leon-goretzka/230011/\" role=\"tooltip\">\\n           <div class=\"ellipsis\">\\n            L. Goretzka\\n           </div>\\n          </a>\\n          <img alt=\"\" class=\"flag\" data-src=\"https://cdn.sofifa.net/flags/de.png\" data-srcset=\"https://cdn.sofifa.net/flags/de@2x.png 2x, https://cdn.sofifa.net/flags/de@3x.png 3x\" height=\"16\" src=\"https://cdn.sofifa.net/pixel.gif\" title=\"Germany\" width=\"21\"/>\\n          <a href=\"/players?pn=14\" rel=\"nofollow\">\\n           <span class=\"pos pos14\">\\n            CM\\n           </span>\\n          </a>\\n          <a href=\"/players?pn=10\" rel=\"nofollow\">\\n           <span class=\"pos pos10\">\\n            CDM\\n           </span>\\n          </a>\\n         </td>\\n         <td class=\"col col-ae\" data-col=\"ae\">\\n          27\\n         </td>\\n         <td class=\"col col-oa col-sort\" data-col=\"oa\">\\n          <span class=\"bp3-tag p p-87\">\\n           87\\n          </span>\\n         </td>\\n         <td class=\"col col-pt\" data-col=\"pt\">\\n          <span class=\"bp3-tag p p-88\">\\n           88\\n          </span>\\n         </td>\\n         <td class=\"col-name\">\\n          <div class=\"ellipsis\">\\n           <figure class=\"avatar avatar-sm transparent\">\\n            <img alt=\"\" class=\"team\" data-root=\"https://cdn.sofifa.net/teams/\" data-src=\"https://cdn.sofifa.net/teams/21/30.png\" data-srcset=\"https://cdn.sofifa.net/teams/21/60.png 2x, https://cdn.sofifa.net/teams/21/90.png 3x\" data-type=\"team\" src=\"https://cdn.sofifa.net/teams/notfound_30.png\"/>\\n           </figure>\\n           <a href=\"/team/21/fc-bayern-munchen/\">\\n            FC Bayern München\\n           </a>\\n           <div class=\"sub\">\\n            2018 ~ 2026\\n           </div>\\n          </div>\\n         </td>\\n         <td class=\"col col-vl\" data-col=\"vl\">\\n          €91M\\n         </td>\\n         <td class=\"col col-wg\" data-col=\"wg\">\\n          €115K\\n         </td>\\n         <td class=\"col col-tt\" data-col=\"tt\">\\n          <span class=\"bp3-tag p\">\\n           2312\\n          </span>\\n         </td>\\n        </tr>\\n        <tr>\\n         <td class=\"col-avatar\">\\n          <figure class=\"avatar\">\\n           <img alt=\"\" class=\"player-check\" data-root=\"https://cdn.sofifa.net/players/\" data-src=\"https://cdn.sofifa.net/players/205/452/23_60.png\" data-srcset=\"https://cdn.sofifa.net/players/205/452/23_120.png 2x, https://cdn.sofifa.net/players/205/452/23_180.png 3x\" data-type=\"player\" id=\"205452\" src=\"https://cdn.sofifa.net/players/notfound_0_60.png\"/>\\n          </figure>\\n         </td>\\n         <td class=\"col-name\">\\n          <a aria-label=\"Antonio Rüdiger\" data-tip-pos=\"top\" href=\"/player/205452/antonio-rudiger/230011/\" role=\"tooltip\">\\n           <div class=\"ellipsis\">\\n            A. Rüdiger\\n           </div>\\n          </a>\\n          <img alt=\"\" class=\"flag\" data-src=\"https://cdn.sofifa.net/flags/de.png\" data-srcset=\"https://cdn.sofifa.net/flags/de@2x.png 2x, https://cdn.sofifa.net/flags/de@3x.png 3x\" height=\"16\" src=\"https://cdn.sofifa.net/pixel.gif\" title=\"Germany\" width=\"21\"/>\\n          <a href=\"/players?pn=5\" rel=\"nofollow\">\\n           <span class=\"pos pos5\">\\n            CB\\n           </span>\\n          </a>\\n         </td>\\n         <td class=\"col col-ae\" data-col=\"ae\">\\n          29\\n         </td>\\n         <td class=\"col col-oa col-sort\" data-col=\"oa\">\\n          <span class=\"bp3-tag p p-87\">\\n           87\\n          </span>\\n         </td>\\n         <td class=\"col col-pt\" data-col=\"pt\">\\n          <span class=\"bp3-tag p p-88\">\\n           88\\n          </span>\\n         </td>\\n         <td class=\"col-name\">\\n          <div class=\"ellipsis\">\\n           <figure class=\"avatar avatar-sm transparent\">\\n            <img alt=\"\" class=\"team\" data-root=\"https://cdn.sofifa.net/teams/\" data-src=\"https://cdn.sofifa.net/teams/243/30.png\" data-srcset=\"https://cdn.sofifa.net/teams/243/60.png 2x, https://cdn.sofifa.net/teams/243/90.png 3x\" data-type=\"team\" src=\"https://cdn.sofifa.net/teams/notfound_30.png\"/>\\n           </figure>\\n           <a href=\"/team/243/real-madrid/\">\\n            Real Madrid\\n           </a>\\n           <div class=\"sub\">\\n            2022 ~ 2026\\n           </div>\\n          </div>\\n         </td>\\n         <td class=\"col col-vl\" data-col=\"vl\">\\n          €73.5M\\n         </td>\\n         <td class=\"col col-wg\" data-col=\"wg\">\\n          €250K\\n         </td>\\n         <td class=\"col col-tt\" data-col=\"tt\">\\n          <span class=\"bp3-tag p\">\\n           2011\\n          </span>\\n         </td>\\n        </tr>\\n        <tr>\\n         <td class=\"col-avatar\">\\n          <figure class=\"avatar\">\\n           <img alt=\"\" class=\"player-check\" data-root=\"https://cdn.sofifa.net/players/\" data-src=\"https://cdn.sofifa.net/players/199/556/23_60.png\" data-srcset=\"https://cdn.sofifa.net/players/199/556/23_120.png 2x, https://cdn.sofifa.net/players/199/556/23_180.png 3x\" data-type=\"player\" id=\"199556\" src=\"https://cdn.sofifa.net/players/notfound_0_60.png\"/>\\n          </figure>\\n         </td>\\n         <td class=\"col-name\">\\n          <a aria-label=\"Marco Verratti\" data-tip-pos=\"top\" href=\"/player/199556/marco-verratti/230011/\" role=\"tooltip\">\\n           <div class=\"ellipsis\">\\n            M. Verratti\\n           </div>\\n          </a>\\n          <img alt=\"\" class=\"flag\" data-src=\"https://cdn.sofifa.net/flags/it.png\" data-srcset=\"https://cdn.sofifa.net/flags/it@2x.png 2x, https://cdn.sofifa.net/flags/it@3x.png 3x\" height=\"16\" src=\"https://cdn.sofifa.net/pixel.gif\" title=\"Italy\" width=\"21\"/>\\n          <a href=\"/players?pn=14\" rel=\"nofollow\">\\n           <span class=\"pos pos14\">\\n            CM\\n           </span>\\n          </a>\\n          <a href=\"/players?pn=18\" rel=\"nofollow\">\\n           <span class=\"pos pos18\">\\n            CAM\\n           </span>\\n          </a>\\n         </td>\\n         <td class=\"col col-ae\" data-col=\"ae\">\\n          29\\n         </td>\\n         <td class=\"col col-oa col-sort\" data-col=\"oa\">\\n          <span class=\"bp3-tag p p-87\">\\n           87\\n          </span>\\n         </td>\\n         <td class=\"col col-pt\" data-col=\"pt\">\\n          <span class=\"bp3-tag p p-87\">\\n           87\\n          </span>\\n         </td>\\n         <td class=\"col-name\">\\n          <div class=\"ellipsis\">\\n           <figure class=\"avatar avatar-sm transparent\">\\n            <img alt=\"\" class=\"team\" data-root=\"https://cdn.sofifa.net/teams/\" data-src=\"https://cdn.sofifa.net/teams/73/30.png\" data-srcset=\"https://cdn.sofifa.net/teams/73/60.png 2x, https://cdn.sofifa.net/teams/73/90.png 3x\" data-type=\"team\" src=\"https://cdn.sofifa.net/teams/notfound_30.png\"/>\\n           </figure>\\n           <a href=\"/team/73/paris-saint-germain/\">\\n            Paris Saint Germain\\n           </a>\\n           <div class=\"sub\">\\n            2012 ~ 2024\\n           </div>\\n          </div>\\n         </td>\\n         <td class=\"col col-vl\" data-col=\"vl\">\\n          €77.5M\\n         </td>\\n         <td class=\"col col-wg\" data-col=\"wg\">\\n          €155K\\n         </td>\\n         <td class=\"col col-tt\" data-col=\"tt\">\\n          <span class=\"bp3-tag p\">\\n           2190\\n          </span>\\n         </td>\\n        </tr>\\n        <tr>\\n         <td class=\"col-avatar\">\\n          <figure class=\"avatar\">\\n           <img alt=\"\" class=\"player-check\" data-root=\"https://cdn.sofifa.net/players/\" data-src=\"https://cdn.sofifa.net/players/193/080/23_60.png\" data-srcset=\"https://cdn.sofifa.net/players/193/080/23_120.png 2x, https://cdn.sofifa.net/players/193/080/23_180.png 3x\" data-type=\"player\" id=\"193080\" src=\"https://cdn.sofifa.net/players/notfound_0_60.png\"/>\\n          </figure>\\n         </td>\\n         <td class=\"col-name\">\\n          <a aria-label=\"David De Gea Quintana\" data-tip-pos=\"top\" href=\"/player/193080/david-de-gea-quintana/230011/\" role=\"tooltip\">\\n           <div class=\"ellipsis\">\\n            De Gea\\n           </div>\\n          </a>\\n          <img alt=\"\" class=\"flag\" data-src=\"https://cdn.sofifa.net/flags/es.png\" data-srcset=\"https://cdn.sofifa.net/flags/es@2x.png 2x, https://cdn.sofifa.net/flags/es@3x.png 3x\" height=\"16\" src=\"https://cdn.sofifa.net/pixel.gif\" title=\"Spain\" width=\"21\"/>\\n          <a href=\"/players?pn=0\" rel=\"nofollow\">\\n           <span class=\"pos pos0\">\\n            GK\\n           </span>\\n          </a>\\n         </td>\\n         <td class=\"col col-ae\" data-col=\"ae\">\\n          31\\n         </td>\\n         <td class=\"col col-oa col-sort\" data-col=\"oa\">\\n          <span class=\"bp3-tag p p-87\">\\n           87\\n          </span>\\n         </td>\\n         <td class=\"col col-pt\" data-col=\"pt\">\\n          <span class=\"bp3-tag p p-87\">\\n           87\\n          </span>\\n         </td>\\n         <td class=\"col-name\">\\n          <div class=\"ellipsis\">\\n           <figure class=\"avatar avatar-sm transparent\">\\n            <img alt=\"\" class=\"team\" data-root=\"https://cdn.sofifa.net/teams/\" data-src=\"https://cdn.sofifa.net/teams/11/30.png\" data-srcset=\"https://cdn.sofifa.net/teams/11/60.png 2x, https://cdn.sofifa.net/teams/11/90.png 3x\" data-type=\"team\" src=\"https://cdn.sofifa.net/teams/notfound_30.png\"/>\\n           </figure>\\n           <a href=\"/team/11/manchester-united/\">\\n            Manchester United\\n           </a>\\n           <div class=\"sub\">\\n            2011 ~ 2023\\n           </div>\\n          </div>\\n         </td>\\n         <td class=\"col col-vl\" data-col=\"vl\">\\n          €42M\\n         </td>\\n         <td class=\"col col-wg\" data-col=\"wg\">\\n          €150K\\n         </td>\\n         <td class=\"col col-tt\" data-col=\"tt\">\\n          <span class=\"bp3-tag p\">\\n           1414\\n          </span>\\n         </td>\\n        </tr>\\n        <tr>\\n         <td class=\"col-avatar\">\\n          <figure class=\"avatar updated \" data-tip-pos=\"right\" role=\"tooltip\">\\n           <img alt=\"\" class=\"player-check\" data-root=\"https://cdn.sofifa.net/players/\" data-src=\"https://cdn.sofifa.net/players/193/041/23_60.png\" data-srcset=\"https://cdn.sofifa.net/players/193/041/23_120.png 2x, https://cdn.sofifa.net/players/193/041/23_180.png 3x\" data-type=\"player\" id=\"193041\" src=\"https://cdn.sofifa.net/players/notfound_0_60.png\"/>\\n           <div class=\"tip\">\\n            <div class=\"block-quarter half-spacing pure-u-1-1\">\\n             FIFA 23 Jan 25, 2023\\n            </div>\\n            <div class=\"block-quarter pure-g\">\\n             <span class=\"pure-u-17-24\">\\n              <span class=\"bp3-tag p p-74\">\\n               74\\n              </span>\\n              <svg class=\"go-down\" height=\"18\" viewbox=\"0 0 24 24\" width=\"18\">\\n               <line x1=\"7\" x2=\"17\" y1=\"7\" y2=\"17\">\\n               </line>\\n               <polyline points=\"17 7 17 17 7 17\">\\n               </polyline>\\n              </svg>\\n              <span class=\"bp3-tag p p-70\">\\n               70\\n              </span>\\n             </span>\\n             <abbr class=\"pure-u-7-24\">\\n              Jumping\\n             </abbr>\\n            </div>\\n            <div class=\"block-quarter pure-g\">\\n             <span class=\"pure-u-17-24\">\\n              <span class=\"bp3-tag p p-68\">\\n               68\\n              </span>\\n              <svg class=\"go-down\" height=\"18\" viewbox=\"0 0 24 24\" width=\"18\">\\n               <line x1=\"7\" x2=\"17\" y1=\"7\" y2=\"17\">\\n               </line>\\n               <polyline points=\"17 7 17 17 7 17\">\\n               </polyline>\\n              </svg>\\n              <span class=\"bp3-tag p p-64\">\\n               64\\n              </span>\\n             </span>\\n             <abbr class=\"pure-u-7-24\">\\n              Vision\\n             </abbr>\\n            </div>\\n            <div class=\"block-quarter pure-g\">\\n             <span class=\"pure-u-17-24\">\\n              <span class=\"bp3-tag p p-89\">\\n               89\\n              </span>\\n              <svg class=\"go-down\" height=\"18\" viewbox=\"0 0 24 24\" width=\"18\">\\n               <line x1=\"7\" x2=\"17\" y1=\"7\" y2=\"17\">\\n               </line>\\n               <polyline points=\"17 7 17 17 7 17\">\\n               </polyline>\\n              </svg>\\n              <span class=\"bp3-tag p p-87\">\\n               87\\n              </span>\\n             </span>\\n             <abbr class=\"pure-u-7-24\">\\n              GK Diving\\n             </abbr>\\n            </div>\\n            <div class=\"block-quarter pure-g\">\\n             <span class=\"pure-u-17-24\">\\n              <span class=\"bp3-tag p p-89\">\\n               89\\n              </span>\\n              <svg class=\"go-down\" height=\"18\" viewbox=\"0 0 24 24\" width=\"18\">\\n               <line x1=\"7\" x2=\"17\" y1=\"7\" y2=\"17\">\\n               </line>\\n               <polyline points=\"17 7 17 17 7 17\">\\n               </polyline>\\n              </svg>\\n              <span class=\"bp3-tag p p-87\">\\n               87\\n              </span>\\n             </span>\\n             <abbr class=\"pure-u-7-24\">\\n              GK Reflexes\\n             </abbr>\\n            </div>\\n            <div class=\"block-quarter pure-g\">\\n             <span class=\"pure-u-17-24\">\\n              <span class=\"bp3-tag p p-67\">\\n               67\\n              </span>\\n              <svg class=\"go-down\" height=\"18\" viewbox=\"0 0 24 24\" width=\"18\">\\n               <line x1=\"7\" x2=\"17\" y1=\"7\" y2=\"17\">\\n               </line>\\n               <polyline points=\"17 7 17 17 7 17\">\\n               </polyline>\\n              </svg>\\n              <span class=\"bp3-tag p p-63\">\\n               63\\n              </span>\\n             </span>\\n             <abbr class=\"pure-u-7-24\">\\n              Composure\\n             </abbr>\\n            </div>\\n            <div class=\"block-quarter pure-g\">\\n             <span class=\"pure-u-17-24\">\\n              <span class=\"bp3-tag p p-88\">\\n               88\\n              </span>\\n              <svg class=\"go-down\" height=\"18\" viewbox=\"0 0 24 24\" width=\"18\">\\n               <line x1=\"7\" x2=\"17\" y1=\"7\" y2=\"17\">\\n               </line>\\n               <polyline points=\"17 7 17 17 7 17\">\\n               </polyline>\\n              </svg>\\n              <span class=\"bp3-tag p p-87\">\\n               87\\n              </span>\\n             </span>\\n             <abbr class=\"pure-u-7-24\">\\n              Overall Rating\\n             </abbr>\\n            </div>\\n            <div class=\"block-quarter pure-g\">\\n             <span class=\"pure-u-17-24\">\\n              <span class=\"bp3-tag p p-88\">\\n               88\\n              </span>\\n              <svg class=\"go-down\" height=\"18\" viewbox=\"0 0 24 24\" width=\"18\">\\n               <line x1=\"7\" x2=\"17\" y1=\"7\" y2=\"17\">\\n               </line>\\n               <polyline points=\"17 7 17 17 7 17\">\\n               </polyline>\\n              </svg>\\n              <span class=\"bp3-tag p p-87\">\\n               87\\n              </span>\\n             </span>\\n             <abbr class=\"pure-u-7-24\">\\n              Potential\\n             </abbr>\\n            </div>\\n           </div>\\n          </figure>\\n         </td>\\n         <td class=\"col-name\">\\n          <a aria-label=\"Keylor Navas\" data-tip-pos=\"top\" href=\"/player/193041/keylor-navas/230011/\" role=\"tooltip\">\\n           <div class=\"ellipsis\">\\n            K. Navas\\n           </div>\\n          </a>\\n          <img alt=\"\" class=\"flag\" data-src=\"https://cdn.sofifa.net/flags/cr.png\" data-srcset=\"https://cdn.sofifa.net/flags/cr@2x.png 2x, https://cdn.sofifa.net/flags/cr@3x.png 3x\" height=\"16\" src=\"https://cdn.sofifa.net/pixel.gif\" title=\"Costa Rica\" width=\"21\"/>\\n          <a href=\"/players?pn=0\" rel=\"nofollow\">\\n           <span class=\"pos pos0\">\\n            GK\\n           </span>\\n          </a>\\n         </td>\\n         <td class=\"col col-ae\" data-col=\"ae\">\\n          35\\n         </td>\\n         <td class=\"col col-oa col-sort\" data-col=\"oa\">\\n          <span class=\"bp3-tag p p-87\">\\n           87\\n          </span>\\n         </td>\\n         <td class=\"col col-pt\" data-col=\"pt\">\\n          <span class=\"bp3-tag p p-87\">\\n           87\\n          </span>\\n         </td>\\n         <td class=\"col-name\">\\n          <div class=\"ellipsis\">\\n           <figure class=\"avatar avatar-sm transparent\">\\n            <img alt=\"\" class=\"team\" data-root=\"https://cdn.sofifa.net/teams/\" data-src=\"https://cdn.sofifa.net/teams/73/30.png\" data-srcset=\"https://cdn.sofifa.net/teams/73/60.png 2x, https://cdn.sofifa.net/teams/73/90.png 3x\" data-type=\"team\" src=\"https://cdn.sofifa.net/teams/notfound_30.png\"/>\\n           </figure>\\n           <a href=\"/team/73/paris-saint-germain/\">\\n            Paris Saint Germain\\n           </a>\\n           <div class=\"sub\">\\n            2019 ~ 2024\\n           </div>\\n          </div>\\n         </td>\\n         <td class=\"col col-vl\" data-col=\"vl\">\\n          €9M\\n         </td>\\n         <td class=\"col col-wg\" data-col=\"wg\">\\n          €71K\\n         </td>\\n         <td class=\"col col-tt\" data-col=\"tt\">\\n          <span class=\"bp3-tag p\">\\n           1415\\n          </span>\\n         </td>\\n        </tr>\\n        <tr>\\n         <td class=\"col-avatar\">\\n          <figure class=\"avatar\">\\n           <img alt=\"\" class=\"player-check\" data-root=\"https://cdn.sofifa.net/players/\" data-src=\"https://cdn.sofifa.net/players/238/794/23_60.png\" data-srcset=\"https://cdn.sofifa.net/players/238/794/23_120.png 2x, https://cdn.sofifa.net/players/238/794/23_180.png 3x\" data-type=\"player\" id=\"238794\" src=\"https://cdn.sofifa.net/players/notfound_0_60.png\"/>\\n          </figure>\\n         </td>\\n         <td class=\"col-name\">\\n          <a aria-label=\"Vinícius José de Oliveira Júnior\" data-tip-pos=\"top\" href=\"/player/238794/vinicius-jose-de-oliveira-junior/230011/\" role=\"tooltip\">\\n           <div class=\"ellipsis\">\\n            Vinícius Jr.\\n           </div>\\n          </a>\\n          <img alt=\"\" class=\"flag\" data-src=\"https://cdn.sofifa.net/flags/br.png\" data-srcset=\"https://cdn.sofifa.net/flags/br@2x.png 2x, https://cdn.sofifa.net/flags/br@3x.png 3x\" height=\"16\" src=\"https://cdn.sofifa.net/pixel.gif\" title=\"Brazil\" width=\"21\"/>\\n          <a href=\"/players?pn=27\" rel=\"nofollow\">\\n           <span class=\"pos pos27\">\\n            LW\\n           </span>\\n          </a>\\n         </td>\\n         <td class=\"col col-ae\" data-col=\"ae\">\\n          21\\n         </td>\\n         <td class=\"col col-oa col-sort\" data-col=\"oa\">\\n          <span class=\"bp3-tag p p-86\">\\n           86\\n          </span>\\n         </td>\\n         <td class=\"col col-pt\" data-col=\"pt\">\\n          <span class=\"bp3-tag p p-92\">\\n           92\\n          </span>\\n         </td>\\n         <td class=\"col-name\">\\n          <div class=\"ellipsis\">\\n           <figure class=\"avatar avatar-sm transparent\">\\n            <img alt=\"\" class=\"team\" data-root=\"https://cdn.sofifa.net/teams/\" data-src=\"https://cdn.sofifa.net/teams/243/30.png\" data-srcset=\"https://cdn.sofifa.net/teams/243/60.png 2x, https://cdn.sofifa.net/teams/243/90.png 3x\" data-type=\"team\" src=\"https://cdn.sofifa.net/teams/notfound_30.png\"/>\\n           </figure>\\n           <a href=\"/team/243/real-madrid/\">\\n            Real Madrid\\n           </a>\\n           <div class=\"sub\">\\n            2018 ~ 2025\\n           </div>\\n          </div>\\n         </td>\\n         <td class=\"col col-vl\" data-col=\"vl\">\\n          €109M\\n         </td>\\n         <td class=\"col col-wg\" data-col=\"wg\">\\n          €200K\\n         </td>\\n         <td class=\"col col-tt\" data-col=\"tt\">\\n          <span class=\"bp3-tag p\">\\n           1985\\n          </span>\\n         </td>\\n        </tr>\\n        <tr>\\n         <td class=\"col-avatar\">\\n          <figure class=\"avatar\">\\n           <img alt=\"\" class=\"player-check\" data-root=\"https://cdn.sofifa.net/players/\" data-src=\"https://cdn.sofifa.net/players/234/642/23_60.png\" data-srcset=\"https://cdn.sofifa.net/players/234/642/23_120.png 2x, https://cdn.sofifa.net/players/234/642/23_180.png 3x\" data-type=\"player\" id=\"234642\" src=\"https://cdn.sofifa.net/players/notfound_0_60.png\"/>\\n          </figure>\\n         </td>\\n         <td class=\"col-name\">\\n          <a aria-label=\"Édouard Mendy\" data-tip-pos=\"top\" href=\"/player/234642/edouard-mendy/230011/\" role=\"tooltip\">\\n           <div class=\"ellipsis\">\\n            É. Mendy\\n           </div>\\n          </a>\\n          <img alt=\"\" class=\"flag\" data-src=\"https://cdn.sofifa.net/flags/sn.png\" data-srcset=\"https://cdn.sofifa.net/flags/sn@2x.png 2x, https://cdn.sofifa.net/flags/sn@3x.png 3x\" height=\"16\" src=\"https://cdn.sofifa.net/pixel.gif\" title=\"Senegal\" width=\"21\"/>\\n          <a href=\"/players?pn=0\" rel=\"nofollow\">\\n           <span class=\"pos pos0\">\\n            GK\\n           </span>\\n          </a>\\n         </td>\\n         <td class=\"col col-ae\" data-col=\"ae\">\\n          30\\n         </td>\\n         <td class=\"col col-oa col-sort\" data-col=\"oa\">\\n          <span class=\"bp3-tag p p-86\">\\n           86\\n          </span>\\n         </td>\\n         <td class=\"col col-pt\" data-col=\"pt\">\\n          <span class=\"bp3-tag p p-87\">\\n           87\\n          </span>\\n         </td>\\n         <td class=\"col-name\">\\n          <div class=\"ellipsis\">\\n           <figure class=\"avatar avatar-sm transparent\">\\n            <img alt=\"\" class=\"team\" data-root=\"https://cdn.sofifa.net/teams/\" data-src=\"https://cdn.sofifa.net/teams/5/30.png\" data-srcset=\"https://cdn.sofifa.net/teams/5/60.png 2x, https://cdn.sofifa.net/teams/5/90.png 3x\" data-type=\"team\" src=\"https://cdn.sofifa.net/teams/notfound_30.png\"/>\\n           </figure>\\n           <a href=\"/team/5/chelsea/\">\\n            Chelsea\\n           </a>\\n           <div class=\"sub\">\\n            2020 ~ 2025\\n           </div>\\n          </div>\\n         </td>\\n         <td class=\"col col-vl\" data-col=\"vl\">\\n          €51M\\n         </td>\\n         <td class=\"col col-wg\" data-col=\"wg\">\\n          €130K\\n         </td>\\n         <td class=\"col col-tt\" data-col=\"tt\">\\n          <span class=\"bp3-tag p\">\\n           1234\\n          </span>\\n         </td>\\n        </tr>\\n        <tr>\\n         <td class=\"col-avatar\">\\n          <figure class=\"avatar\">\\n           <img alt=\"\" class=\"player-check\" data-root=\"https://cdn.sofifa.net/players/\" data-src=\"https://cdn.sofifa.net/players/232/411/23_60.png\" data-srcset=\"https://cdn.sofifa.net/players/232/411/23_120.png 2x, https://cdn.sofifa.net/players/232/411/23_180.png 3x\" data-type=\"player\" id=\"232411\" src=\"https://cdn.sofifa.net/players/notfound_0_60.png\"/>\\n          </figure>\\n         </td>\\n         <td class=\"col-name\">\\n          <a aria-label=\"Christopher Nkunku\" data-tip-pos=\"top\" href=\"/player/232411/christopher-nkunku/230011/\" role=\"tooltip\">\\n           <div class=\"ellipsis\">\\n            C. Nkunku\\n           </div>\\n          </a>\\n          <img alt=\"\" class=\"flag\" data-src=\"https://cdn.sofifa.net/flags/fr.png\" data-srcset=\"https://cdn.sofifa.net/flags/fr@2x.png 2x, https://cdn.sofifa.net/flags/fr@3x.png 3x\" height=\"16\" src=\"https://cdn.sofifa.net/pixel.gif\" title=\"France\" width=\"21\"/>\\n          <a href=\"/players?pn=21\" rel=\"nofollow\">\\n           <span class=\"pos pos21\">\\n            CF\\n           </span>\\n          </a>\\n          <a href=\"/players?pn=18\" rel=\"nofollow\">\\n           <span class=\"pos pos18\">\\n            CAM\\n           </span>\\n          </a>\\n          <a href=\"/players?pn=25\" rel=\"nofollow\">\\n           <span class=\"pos pos25\">\\n            ST\\n           </span>\\n          </a>\\n         </td>\\n         <td class=\"col col-ae\" data-col=\"ae\">\\n          24\\n         </td>\\n         <td class=\"col col-oa col-sort\" data-col=\"oa\">\\n          <span class=\"bp3-tag p p-86\">\\n           86\\n          </span>\\n         </td>\\n         <td class=\"col col-pt\" data-col=\"pt\">\\n          <span class=\"bp3-tag p p-89\">\\n           89\\n          </span>\\n         </td>\\n         <td class=\"col-name\">\\n          <div class=\"ellipsis\">\\n           <figure class=\"avatar avatar-sm transparent\">\\n            <img alt=\"\" class=\"team\" data-root=\"https://cdn.sofifa.net/teams/\" data-src=\"https://cdn.sofifa.net/teams/112172/30.png\" data-srcset=\"https://cdn.sofifa.net/teams/112172/60.png 2x, https://cdn.sofifa.net/teams/112172/90.png 3x\" data-type=\"team\" src=\"https://cdn.sofifa.net/teams/notfound_30.png\"/>\\n           </figure>\\n           <a href=\"/team/112172/rb-leipzig/\">\\n            RB Leipzig\\n           </a>\\n           <div class=\"sub\">\\n            2019 ~ 2024\\n           </div>\\n          </div>\\n         </td>\\n         <td class=\"col col-vl\" data-col=\"vl\">\\n          €94M\\n         </td>\\n         <td class=\"col col-wg\" data-col=\"wg\">\\n          €90K\\n         </td>\\n         <td class=\"col col-tt\" data-col=\"tt\">\\n          <span class=\"bp3-tag p\">\\n           2182\\n          </span>\\n         </td>\\n        </tr>\\n        <tr>\\n         <td class=\"col-avatar\">\\n          <figure class=\"avatar\">\\n           <img alt=\"\" class=\"player-check\" data-root=\"https://cdn.sofifa.net/players/\" data-src=\"https://cdn.sofifa.net/players/232/363/23_60.png\" data-srcset=\"https://cdn.sofifa.net/players/232/363/23_120.png 2x, https://cdn.sofifa.net/players/232/363/23_180.png 3x\" data-type=\"player\" id=\"232363\" src=\"https://cdn.sofifa.net/players/notfound_0_60.png\"/>\\n          </figure>\\n         </td>\\n         <td class=\"col-name\">\\n          <a aria-label=\"Milan Škriniar\" data-tip-pos=\"top\" href=\"/player/232363/milan-skriniar/230011/\" role=\"tooltip\">\\n           <div class=\"ellipsis\">\\n            M. Škriniar\\n           </div>\\n          </a>\\n          <img alt=\"\" class=\"flag\" data-src=\"https://cdn.sofifa.net/flags/sk.png\" data-srcset=\"https://cdn.sofifa.net/flags/sk@2x.png 2x, https://cdn.sofifa.net/flags/sk@3x.png 3x\" height=\"16\" src=\"https://cdn.sofifa.net/pixel.gif\" title=\"Slovakia\" width=\"21\"/>\\n          <a href=\"/players?pn=5\" rel=\"nofollow\">\\n           <span class=\"pos pos5\">\\n            CB\\n           </span>\\n          </a>\\n         </td>\\n         <td class=\"col col-ae\" data-col=\"ae\">\\n          27\\n         </td>\\n         <td class=\"col col-oa col-sort\" data-col=\"oa\">\\n          <span class=\"bp3-tag p p-86\">\\n           86\\n          </span>\\n         </td>\\n         <td class=\"col col-pt\" data-col=\"pt\">\\n          <span class=\"bp3-tag p p-87\">\\n           87\\n          </span>\\n         </td>\\n         <td class=\"col-name\">\\n          <div class=\"ellipsis\">\\n           <figure class=\"avatar avatar-sm transparent\">\\n            <img alt=\"\" class=\"team\" data-root=\"https://cdn.sofifa.net/teams/\" data-src=\"https://cdn.sofifa.net/teams/44/30.png\" data-srcset=\"https://cdn.sofifa.net/teams/44/60.png 2x, https://cdn.sofifa.net/teams/44/90.png 3x\" data-type=\"team\" src=\"https://cdn.sofifa.net/teams/notfound_30.png\"/>\\n           </figure>\\n           <a href=\"/team/44/inter/\">\\n            Inter\\n           </a>\\n           <div class=\"sub\">\\n            2017 ~ 2023\\n           </div>\\n          </div>\\n         </td>\\n         <td class=\"col col-vl\" data-col=\"vl\">\\n          €68.5M\\n         </td>\\n         <td class=\"col col-wg\" data-col=\"wg\">\\n          €105K\\n         </td>\\n         <td class=\"col col-tt\" data-col=\"tt\">\\n          <span class=\"bp3-tag p\">\\n           1861\\n          </span>\\n         </td>\\n        </tr>\\n        <tr>\\n         <td class=\"col-avatar\">\\n          <figure class=\"avatar updated \" data-tip-pos=\"right\" role=\"tooltip\">\\n           <img alt=\"\" class=\"player-check\" data-root=\"https://cdn.sofifa.net/players/\" data-src=\"https://cdn.sofifa.net/players/231/478/23_60.png\" data-srcset=\"https://cdn.sofifa.net/players/231/478/23_120.png 2x, https://cdn.sofifa.net/players/231/478/23_180.png 3x\" data-type=\"player\" id=\"231478\" src=\"https://cdn.sofifa.net/players/notfound_0_60.png\"/>\\n           <div class=\"tip\">\\n            <div class=\"block-quarter half-spacing pure-u-1-1\">\\n             FIFA 23 Jan 25, 2023\\n            </div>\\n            <div class=\"block-quarter pure-g\">\\n             <span class=\"pure-u-17-24\">\\n              <span class=\"bp3-tag p p-86\">\\n               86\\n              </span>\\n              <svg class=\"go-up\" height=\"18\" viewbox=\"0 0 24 24\" width=\"18\">\\n               <line x1=\"7\" x2=\"17\" y1=\"17\" y2=\"7\">\\n               </line>\\n               <polyline points=\"7 7 17 7 17 17\">\\n               </polyline>\\n              </svg>\\n              <span class=\"bp3-tag p p-87\">\\n               87\\n              </span>\\n             </span>\\n             <abbr class=\"pure-u-7-24\">\\n              Positioning\\n             </abbr>\\n            </div>\\n           </div>\\n          </figure>\\n         </td>\\n         <td class=\"col-name\">\\n          <a aria-label=\"Lautaro Martínez\" data-tip-pos=\"top\" href=\"/player/231478/lautaro-martinez/230011/\" role=\"tooltip\">\\n           <div class=\"ellipsis\">\\n            L. Martínez\\n           </div>\\n          </a>\\n          <img alt=\"\" class=\"flag\" data-src=\"https://cdn.sofifa.net/flags/ar.png\" data-srcset=\"https://cdn.sofifa.net/flags/ar@2x.png 2x, https://cdn.sofifa.net/flags/ar@3x.png 3x\" height=\"16\" src=\"https://cdn.sofifa.net/pixel.gif\" title=\"Argentina\" width=\"21\"/>\\n          <a href=\"/players?pn=25\" rel=\"nofollow\">\\n           <span class=\"pos pos25\">\\n            ST\\n           </span>\\n          </a>\\n         </td>\\n         <td class=\"col col-ae\" data-col=\"ae\">\\n          24\\n         </td>\\n         <td class=\"col col-oa col-sort\" data-col=\"oa\">\\n          <span class=\"bp3-tag p p-86\">\\n           86\\n          </span>\\n         </td>\\n         <td class=\"col col-pt\" data-col=\"pt\">\\n          <span class=\"bp3-tag p p-90\">\\n           90\\n          </span>\\n         </td>\\n         <td class=\"col-name\">\\n          <div class=\"ellipsis\">\\n           <figure class=\"avatar avatar-sm transparent\">\\n            <img alt=\"\" class=\"team\" data-root=\"https://cdn.sofifa.net/teams/\" data-src=\"https://cdn.sofifa.net/teams/44/30.png\" data-srcset=\"https://cdn.sofifa.net/teams/44/60.png 2x, https://cdn.sofifa.net/teams/44/90.png 3x\" data-type=\"team\" src=\"https://cdn.sofifa.net/teams/notfound_30.png\"/>\\n           </figure>\\n           <a href=\"/team/44/inter/\">\\n            Inter\\n           </a>\\n           <div class=\"sub\">\\n            2018 ~ 2026\\n           </div>\\n          </div>\\n         </td>\\n         <td class=\"col col-vl\" data-col=\"vl\">\\n          €98.5M\\n         </td>\\n         <td class=\"col col-wg\" data-col=\"wg\">\\n          €110K\\n         </td>\\n         <td class=\"col col-tt\" data-col=\"tt\">\\n          <span class=\"bp3-tag p\">\\n           2164\\n          </span>\\n         </td>\\n        </tr>\\n        <tr>\\n         <td class=\"col-avatar\">\\n          <figure class=\"avatar\">\\n           <img alt=\"\" class=\"player-check\" data-root=\"https://cdn.sofifa.net/players/\" data-src=\"https://cdn.sofifa.net/players/231/281/23_60.png\" data-srcset=\"https://cdn.sofifa.net/players/231/281/23_120.png 2x, https://cdn.sofifa.net/players/231/281/23_180.png 3x\" data-type=\"player\" id=\"231281\" src=\"https://cdn.sofifa.net/players/notfound_0_60.png\"/>\\n          </figure>\\n         </td>\\n         <td class=\"col-name\">\\n          <a aria-label=\"Trent Alexander-Arnold\" data-tip-pos=\"top\" href=\"/player/231281/trent-alexander-arnold/230011/\" role=\"tooltip\">\\n           <div class=\"ellipsis\">\\n            T. Alexander-Arnold\\n           </div>\\n          </a>\\n          <img alt=\"\" class=\"flag\" data-src=\"https://cdn.sofifa.net/flags/gb-eng.png\" data-srcset=\"https://cdn.sofifa.net/flags/gb-eng@2x.png 2x, https://cdn.sofifa.net/flags/gb-eng@3x.png 3x\" height=\"16\" src=\"https://cdn.sofifa.net/pixel.gif\" title=\"England\" width=\"21\"/>\\n          <a href=\"/players?pn=3\" rel=\"nofollow\">\\n           <span class=\"pos pos3\">\\n            RB\\n           </span>\\n          </a>\\n         </td>\\n         <td class=\"col col-ae\" data-col=\"ae\">\\n          23\\n         </td>\\n         <td class=\"col col-oa col-sort\" data-col=\"oa\">\\n          <span class=\"bp3-tag p p-86\">\\n           86\\n          </span>\\n         </td>\\n         <td class=\"col col-pt\" data-col=\"pt\">\\n          <span class=\"bp3-tag p p-89\">\\n           89\\n          </span>\\n         </td>\\n         <td class=\"col-name\">\\n          <div class=\"ellipsis\">\\n           <figure class=\"avatar avatar-sm transparent\">\\n            <img alt=\"\" class=\"team\" data-root=\"https://cdn.sofifa.net/teams/\" data-src=\"https://cdn.sofifa.net/teams/9/30.png\" data-srcset=\"https://cdn.sofifa.net/teams/9/60.png 2x, https://cdn.sofifa.net/teams/9/90.png 3x\" data-type=\"team\" src=\"https://cdn.sofifa.net/teams/notfound_30.png\"/>\\n           </figure>\\n           <a href=\"/team/9/liverpool/\">\\n            Liverpool\\n           </a>\\n           <div class=\"sub\">\\n            2015 ~ 2025\\n           </div>\\n          </div>\\n         </td>\\n         <td class=\"col col-vl\" data-col=\"vl\">\\n          €86M\\n         </td>\\n         <td class=\"col col-wg\" data-col=\"wg\">\\n          €140K\\n         </td>\\n         <td class=\"col col-tt\" data-col=\"tt\">\\n          <span class=\"bp3-tag p\">\\n           2227\\n          </span>\\n         </td>\\n        </tr>\\n        <tr>\\n         <td class=\"col-avatar\">\\n          <figure class=\"avatar\">\\n           <img alt=\"\" class=\"player-check\" data-root=\"https://cdn.sofifa.net/players/\" data-src=\"https://cdn.sofifa.net/players/224/232/23_60.png\" data-srcset=\"https://cdn.sofifa.net/players/224/232/23_120.png 2x, https://cdn.sofifa.net/players/224/232/23_180.png 3x\" data-type=\"player\" id=\"224232\" src=\"https://cdn.sofifa.net/players/notfound_0_60.png\"/>\\n          </figure>\\n         </td>\\n         <td class=\"col-name\">\\n          <a aria-label=\"Nicolò Barella\" data-tip-pos=\"top\" href=\"/player/224232/nicolo-barella/230011/\" role=\"tooltip\">\\n           <div class=\"ellipsis\">\\n            N. Barella\\n           </div>\\n          </a>\\n          <img alt=\"\" class=\"flag\" data-src=\"https://cdn.sofifa.net/flags/it.png\" data-srcset=\"https://cdn.sofifa.net/flags/it@2x.png 2x, https://cdn.sofifa.net/flags/it@3x.png 3x\" height=\"16\" src=\"https://cdn.sofifa.net/pixel.gif\" title=\"Italy\" width=\"21\"/>\\n          <a href=\"/players?pn=14\" rel=\"nofollow\">\\n           <span class=\"pos pos14\">\\n            CM\\n           </span>\\n          </a>\\n         </td>\\n         <td class=\"col col-ae\" data-col=\"ae\">\\n          25\\n         </td>\\n         <td class=\"col col-oa col-sort\" data-col=\"oa\">\\n          <span class=\"bp3-tag p p-86\">\\n           86\\n          </span>\\n         </td>\\n         <td class=\"col col-pt\" data-col=\"pt\">\\n          <span class=\"bp3-tag p p-89\">\\n           89\\n          </span>\\n         </td>\\n         <td class=\"col-name\">\\n          <div class=\"ellipsis\">\\n           <figure class=\"avatar avatar-sm transparent\">\\n            <img alt=\"\" class=\"team\" data-root=\"https://cdn.sofifa.net/teams/\" data-src=\"https://cdn.sofifa.net/teams/44/30.png\" data-srcset=\"https://cdn.sofifa.net/teams/44/60.png 2x, https://cdn.sofifa.net/teams/44/90.png 3x\" data-type=\"team\" src=\"https://cdn.sofifa.net/teams/notfound_30.png\"/>\\n           </figure>\\n           <a href=\"/team/44/inter/\">\\n            Inter\\n           </a>\\n           <div class=\"sub\">\\n            2020 ~ 2026\\n           </div>\\n          </div>\\n         </td>\\n         <td class=\"col col-vl\" data-col=\"vl\">\\n          €89.5M\\n         </td>\\n         <td class=\"col col-wg\" data-col=\"wg\">\\n          €110K\\n         </td>\\n         <td class=\"col col-tt\" data-col=\"tt\">\\n          <span class=\"bp3-tag p\">\\n           2297\\n          </span>\\n         </td>\\n        </tr>\\n        <tr>\\n         <td class=\"col-avatar\">\\n          <figure class=\"avatar\">\\n           <img alt=\"\" class=\"player-check\" data-root=\"https://cdn.sofifa.net/players/\" data-src=\"https://cdn.sofifa.net/players/223/848/23_60.png\" data-srcset=\"https://cdn.sofifa.net/players/223/848/23_120.png 2x, https://cdn.sofifa.net/players/223/848/23_180.png 3x\" data-type=\"player\" id=\"223848\" src=\"https://cdn.sofifa.net/players/notfound_0_60.png\"/>\\n          </figure>\\n         </td>\\n         <td class=\"col-name\">\\n          <a aria-label=\"Sergej Milinković-Savić\" data-tip-pos=\"top\" href=\"/player/223848/sergej-milinkovic-savic/230011/\" role=\"tooltip\">\\n           <div class=\"ellipsis\">\\n            S. Milinković-Savić\\n           </div>\\n          </a>\\n          <img alt=\"\" class=\"flag\" data-src=\"https://cdn.sofifa.net/flags/rs.png\" data-srcset=\"https://cdn.sofifa.net/flags/rs@2x.png 2x, https://cdn.sofifa.net/flags/rs@3x.png 3x\" height=\"16\" src=\"https://cdn.sofifa.net/pixel.gif\" title=\"Serbia\" width=\"21\"/>\\n          <a href=\"/players?pn=14\" rel=\"nofollow\">\\n           <span class=\"pos pos14\">\\n            CM\\n           </span>\\n          </a>\\n         </td>\\n         <td class=\"col col-ae\" data-col=\"ae\">\\n          27\\n         </td>\\n         <td class=\"col col-oa col-sort\" data-col=\"oa\">\\n          <span class=\"bp3-tag p p-86\">\\n           86\\n          </span>\\n         </td>\\n         <td class=\"col col-pt\" data-col=\"pt\">\\n          <span class=\"bp3-tag p p-87\">\\n           87\\n          </span>\\n         </td>\\n         <td class=\"col-name\">\\n          <div class=\"ellipsis\">\\n           <figure class=\"avatar avatar-sm transparent\">\\n            <img alt=\"\" class=\"team\" data-root=\"https://cdn.sofifa.net/teams/\" data-src=\"https://cdn.sofifa.net/teams/46/30.png\" data-srcset=\"https://cdn.sofifa.net/teams/46/60.png 2x, https://cdn.sofifa.net/teams/46/90.png 3x\" data-type=\"team\" src=\"https://cdn.sofifa.net/teams/notfound_30.png\"/>\\n           </figure>\\n           <a href=\"/team/46/lazio/\">\\n            Lazio\\n           </a>\\n           <div class=\"sub\">\\n            2015 ~ 2024\\n           </div>\\n          </div>\\n         </td>\\n         <td class=\"col col-vl\" data-col=\"vl\">\\n          €77.5M\\n         </td>\\n         <td class=\"col col-wg\" data-col=\"wg\">\\n          €90K\\n         </td>\\n         <td class=\"col col-tt\" data-col=\"tt\">\\n          <span class=\"bp3-tag p\">\\n           2250\\n          </span>\\n         </td>\\n        </tr>\\n        <tr>\\n         <td class=\"col-avatar\">\\n          <figure class=\"avatar\">\\n           <img alt=\"\" class=\"player-check\" data-root=\"https://cdn.sofifa.net/players/\" data-src=\"https://cdn.sofifa.net/players/216/352/23_60.png\" data-srcset=\"https://cdn.sofifa.net/players/216/352/23_120.png 2x, https://cdn.sofifa.net/players/216/352/23_180.png 3x\" data-type=\"player\" id=\"216352\" src=\"https://cdn.sofifa.net/players/notfound_0_60.png\"/>\\n          </figure>\\n         </td>\\n         <td class=\"col-name\">\\n          <a aria-label=\"Marcelo Brozović\" data-tip-pos=\"top\" href=\"/player/216352/marcelo-brozovic/230011/\" role=\"tooltip\">\\n           <div class=\"ellipsis\">\\n            M. Brozović\\n           </div>\\n          </a>\\n          <img alt=\"\" class=\"flag\" data-src=\"https://cdn.sofifa.net/flags/hr.png\" data-srcset=\"https://cdn.sofifa.net/flags/hr@2x.png 2x, https://cdn.sofifa.net/flags/hr@3x.png 3x\" height=\"16\" src=\"https://cdn.sofifa.net/pixel.gif\" title=\"Croatia\" width=\"21\"/>\\n          <a href=\"/players?pn=10\" rel=\"nofollow\">\\n           <span class=\"pos pos10\">\\n            CDM\\n           </span>\\n          </a>\\n          <a href=\"/players?pn=14\" rel=\"nofollow\">\\n           <span class=\"pos pos14\">\\n            CM\\n           </span>\\n          </a>\\n         </td>\\n         <td class=\"col col-ae\" data-col=\"ae\">\\n          29\\n         </td>\\n         <td class=\"col col-oa col-sort\" data-col=\"oa\">\\n          <span class=\"bp3-tag p p-86\">\\n           86\\n          </span>\\n         </td>\\n         <td class=\"col col-pt\" data-col=\"pt\">\\n          <span class=\"bp3-tag p p-86\">\\n           86\\n          </span>\\n         </td>\\n         <td class=\"col-name\">\\n          <div class=\"ellipsis\">\\n           <figure class=\"avatar avatar-sm transparent\">\\n            <img alt=\"\" class=\"team\" data-root=\"https://cdn.sofifa.net/teams/\" data-src=\"https://cdn.sofifa.net/teams/44/30.png\" data-srcset=\"https://cdn.sofifa.net/teams/44/60.png 2x, https://cdn.sofifa.net/teams/44/90.png 3x\" data-type=\"team\" src=\"https://cdn.sofifa.net/teams/notfound_30.png\"/>\\n           </figure>\\n           <a href=\"/team/44/inter/\">\\n            Inter\\n           </a>\\n           <div class=\"sub\">\\n            2016 ~ 2026\\n           </div>\\n          </div>\\n         </td>\\n         <td class=\"col col-vl\" data-col=\"vl\">\\n          €58M\\n         </td>\\n         <td class=\"col col-wg\" data-col=\"wg\">\\n          €110K\\n         </td>\\n         <td class=\"col col-tt\" data-col=\"tt\">\\n          <span class=\"bp3-tag p\">\\n           2226\\n          </span>\\n         </td>\\n        </tr>\\n        <tr>\\n         <td class=\"col-avatar\">\\n          <figure class=\"avatar\">\\n           <img alt=\"\" class=\"player-check\" data-root=\"https://cdn.sofifa.net/players/\" data-src=\"https://cdn.sofifa.net/players/212/218/23_60.png\" data-srcset=\"https://cdn.sofifa.net/players/212/218/23_120.png 2x, https://cdn.sofifa.net/players/212/218/23_180.png 3x\" data-type=\"player\" id=\"212218\" src=\"https://cdn.sofifa.net/players/notfound_0_60.png\"/>\\n          </figure>\\n         </td>\\n         <td class=\"col-name\">\\n          <a aria-label=\"Aymeric Laporte\" data-tip-pos=\"top\" href=\"/player/212218/aymeric-laporte/230011/\" role=\"tooltip\">\\n           <div class=\"ellipsis\">\\n            A. Laporte\\n           </div>\\n          </a>\\n          <img alt=\"\" class=\"flag\" data-src=\"https://cdn.sofifa.net/flags/es.png\" data-srcset=\"https://cdn.sofifa.net/flags/es@2x.png 2x, https://cdn.sofifa.net/flags/es@3x.png 3x\" height=\"16\" src=\"https://cdn.sofifa.net/pixel.gif\" title=\"Spain\" width=\"21\"/>\\n          <a href=\"/players?pn=5\" rel=\"nofollow\">\\n           <span class=\"pos pos5\">\\n            CB\\n           </span>\\n          </a>\\n         </td>\\n         <td class=\"col col-ae\" data-col=\"ae\">\\n          28\\n         </td>\\n         <td class=\"col col-oa col-sort\" data-col=\"oa\">\\n          <span class=\"bp3-tag p p-86\">\\n           86\\n          </span>\\n         </td>\\n         <td class=\"col col-pt\" data-col=\"pt\">\\n          <span class=\"bp3-tag p p-87\">\\n           87\\n          </span>\\n         </td>\\n         <td class=\"col-name\">\\n          <div class=\"ellipsis\">\\n           <figure class=\"avatar avatar-sm transparent\">\\n            <img alt=\"\" class=\"team\" data-root=\"https://cdn.sofifa.net/teams/\" data-src=\"https://cdn.sofifa.net/teams/10/30.png\" data-srcset=\"https://cdn.sofifa.net/teams/10/60.png 2x, https://cdn.sofifa.net/teams/10/90.png 3x\" data-type=\"team\" src=\"https://cdn.sofifa.net/teams/notfound_30.png\"/>\\n           </figure>\\n           <a href=\"/team/10/manchester-city/\">\\n            Manchester City\\n           </a>\\n           <div class=\"sub\">\\n            2018 ~ 2025\\n           </div>\\n          </div>\\n         </td>\\n         <td class=\"col col-vl\" data-col=\"vl\">\\n          €64.5M\\n         </td>\\n         <td class=\"col col-wg\" data-col=\"wg\">\\n          €195K\\n         </td>\\n         <td class=\"col col-tt\" data-col=\"tt\">\\n          <span class=\"bp3-tag p\">\\n           1962\\n          </span>\\n         </td>\\n        </tr>\\n        <tr>\\n         <td class=\"col-avatar\">\\n          <figure class=\"avatar\">\\n           <img alt=\"\" class=\"player-check\" data-root=\"https://cdn.sofifa.net/players/\" data-src=\"https://cdn.sofifa.net/players/212/198/23_60.png\" data-srcset=\"https://cdn.sofifa.net/players/212/198/23_120.png 2x, https://cdn.sofifa.net/players/212/198/23_180.png 3x\" data-type=\"player\" id=\"212198\" src=\"https://cdn.sofifa.net/players/notfound_0_60.png\"/>\\n          </figure>\\n         </td>\\n         <td class=\"col-name\">\\n          <a aria-label=\"Bruno Miguel Borges Fernandes\" data-tip-pos=\"top\" href=\"/player/212198/bruno-miguel-borges-fernandes/230011/\" role=\"tooltip\">\\n           <div class=\"ellipsis\">\\n            Bruno Fernandes\\n           </div>\\n          </a>\\n          <img alt=\"\" class=\"flag\" data-src=\"https://cdn.sofifa.net/flags/pt.png\" data-srcset=\"https://cdn.sofifa.net/flags/pt@2x.png 2x, https://cdn.sofifa.net/flags/pt@3x.png 3x\" height=\"16\" src=\"https://cdn.sofifa.net/pixel.gif\" title=\"Portugal\" width=\"21\"/>\\n          <a href=\"/players?pn=18\" rel=\"nofollow\">\\n           <span class=\"pos pos18\">\\n            CAM\\n           </span>\\n          </a>\\n          <a href=\"/players?pn=14\" rel=\"nofollow\">\\n           <span class=\"pos pos14\">\\n            CM\\n           </span>\\n          </a>\\n         </td>\\n         <td class=\"col col-ae\" data-col=\"ae\">\\n          27\\n         </td>\\n         <td class=\"col col-oa col-sort\" data-col=\"oa\">\\n          <span class=\"bp3-tag p p-86\">\\n           86\\n          </span>\\n         </td>\\n         <td class=\"col col-pt\" data-col=\"pt\">\\n          <span class=\"bp3-tag p p-86\">\\n           86\\n          </span>\\n         </td>\\n         <td class=\"col-name\">\\n          <div class=\"ellipsis\">\\n           <figure class=\"avatar avatar-sm transparent\">\\n            <img alt=\"\" class=\"team\" data-root=\"https://cdn.sofifa.net/teams/\" data-src=\"https://cdn.sofifa.net/teams/11/30.png\" data-srcset=\"https://cdn.sofifa.net/teams/11/60.png 2x, https://cdn.sofifa.net/teams/11/90.png 3x\" data-type=\"team\" src=\"https://cdn.sofifa.net/teams/notfound_30.png\"/>\\n           </figure>\\n           <a href=\"/team/11/manchester-united/\">\\n            Manchester United\\n           </a>\\n           <div class=\"sub\">\\n            2020 ~ 2026\\n           </div>\\n          </div>\\n         </td>\\n         <td class=\"col col-vl\" data-col=\"vl\">\\n          €72.5M\\n         </td>\\n         <td class=\"col col-wg\" data-col=\"wg\">\\n          €190K\\n         </td>\\n         <td class=\"col col-tt\" data-col=\"tt\">\\n          <span class=\"bp3-tag p\">\\n           2305\\n          </span>\\n         </td>\\n        </tr>\\n        <tr>\\n         <td class=\"col-avatar\">\\n          <figure class=\"avatar updated \" data-tip-pos=\"right\" role=\"tooltip\">\\n           <img alt=\"\" class=\"player-check\" data-root=\"https://cdn.sofifa.net/players/\" data-src=\"https://cdn.sofifa.net/players/211/110/23_60.png\" data-srcset=\"https://cdn.sofifa.net/players/211/110/23_120.png 2x, https://cdn.sofifa.net/players/211/110/23_180.png 3x\" data-type=\"player\" id=\"211110\" src=\"https://cdn.sofifa.net/players/notfound_0_60.png\"/>\\n           <div class=\"tip\">\\n            <div class=\"block-quarter half-spacing pure-u-1-1\">\\n             FIFA 23 Jan 25, 2023\\n            </div>\\n            <div class=\"block-quarter pure-g\">\\n             <span class=\"pure-u-17-24\">\\n              <span class=\"bp3-tag p p-68\">\\n               68\\n              </span>\\n              <svg class=\"go-up\" height=\"18\" viewbox=\"0 0 24 24\" width=\"18\">\\n               <line x1=\"7\" x2=\"17\" y1=\"17\" y2=\"7\">\\n               </line>\\n               <polyline points=\"7 7 17 7 17 17\">\\n               </polyline>\\n              </svg>\\n              <span class=\"bp3-tag p p-73\">\\n               73\\n              </span>\\n             </span>\\n             <abbr class=\"pure-u-7-24\">\\n              Stamina\\n             </abbr>\\n            </div>\\n           </div>\\n          </figure>\\n         </td>\\n         <td class=\"col-name\">\\n          <a aria-label=\"Paulo Dybala\" data-tip-pos=\"top\" href=\"/player/211110/paulo-dybala/230011/\" role=\"tooltip\">\\n           <div class=\"ellipsis\">\\n            P. Dybala\\n           </div>\\n          </a>\\n          <img alt=\"\" class=\"flag\" data-src=\"https://cdn.sofifa.net/flags/ar.png\" data-srcset=\"https://cdn.sofifa.net/flags/ar@2x.png 2x, https://cdn.sofifa.net/flags/ar@3x.png 3x\" height=\"16\" src=\"https://cdn.sofifa.net/pixel.gif\" title=\"Argentina\" width=\"21\"/>\\n          <a href=\"/players?pn=21\" rel=\"nofollow\">\\n           <span class=\"pos pos21\">\\n            CF\\n           </span>\\n          </a>\\n          <a href=\"/players?pn=18\" rel=\"nofollow\">\\n           <span class=\"pos pos18\">\\n            CAM\\n           </span>\\n          </a>\\n         </td>\\n         <td class=\"col col-ae\" data-col=\"ae\">\\n          28\\n         </td>\\n         <td class=\"col col-oa col-sort\" data-col=\"oa\">\\n          <span class=\"bp3-tag p p-86\">\\n           86\\n          </span>\\n         </td>\\n         <td class=\"col col-pt\" data-col=\"pt\">\\n          <span class=\"bp3-tag p p-86\">\\n           86\\n          </span>\\n         </td>\\n         <td class=\"col-name\">\\n          <div class=\"ellipsis\">\\n           <figure class=\"avatar avatar-sm transparent\">\\n            <img alt=\"\" class=\"team\" data-root=\"https://cdn.sofifa.net/teams/\" data-src=\"https://cdn.sofifa.net/teams/52/30.png\" data-srcset=\"https://cdn.sofifa.net/teams/52/60.png 2x, https://cdn.sofifa.net/teams/52/90.png 3x\" data-type=\"team\" src=\"https://cdn.sofifa.net/teams/notfound_30.png\"/>\\n           </figure>\\n           <a href=\"/team/52/roma/\">\\n            Roma\\n           </a>\\n           <div class=\"sub\">\\n            2022 ~ 2025\\n           </div>\\n          </div>\\n         </td>\\n         <td class=\"col col-vl\" data-col=\"vl\">\\n          €69.5M\\n         </td>\\n         <td class=\"col col-wg\" data-col=\"wg\">\\n          €130K\\n         </td>\\n         <td class=\"col col-tt\" data-col=\"tt\">\\n          <span class=\"bp3-tag p\">\\n           2113\\n          </span>\\n         </td>\\n        </tr>\\n        <tr>\\n         <td class=\"col-avatar\">\\n          <figure class=\"avatar updated \" data-tip-pos=\"right\" role=\"tooltip\">\\n           <img alt=\"\" class=\"player-check\" data-root=\"https://cdn.sofifa.net/players/\" data-src=\"https://cdn.sofifa.net/players/209/499/23_60.png\" data-srcset=\"https://cdn.sofifa.net/players/209/499/23_120.png 2x, https://cdn.sofifa.net/players/209/499/23_180.png 3x\" data-type=\"player\" id=\"209499\" src=\"https://cdn.sofifa.net/players/notfound_0_60.png\"/>\\n           <div class=\"tip\">\\n            <div class=\"block-quarter half-spacing pure-u-1-1\">\\n             FIFA 23 Jan 25, 2023\\n            </div>\\n            <div class=\"block-quarter pure-g\">\\n             <span class=\"pure-u-17-24\">\\n              <span class=\"bp3-tag p p-62\">\\n               62\\n              </span>\\n              <svg class=\"go-down\" height=\"18\" viewbox=\"0 0 24 24\" width=\"18\">\\n               <line x1=\"7\" x2=\"17\" y1=\"7\" y2=\"17\">\\n               </line>\\n               <polyline points=\"17 7 17 17 7 17\">\\n               </polyline>\\n              </svg>\\n              <span class=\"bp3-tag p p-60\">\\n               60\\n              </span>\\n             </span>\\n             <abbr class=\"pure-u-7-24\">\\n              Acceleration\\n             </abbr>\\n            </div>\\n            <div class=\"block-quarter pure-g\">\\n             <span class=\"pure-u-17-24\">\\n              <span class=\"bp3-tag p p-66\">\\n               66\\n              </span>\\n              <svg class=\"go-down\" height=\"18\" viewbox=\"0 0 24 24\" width=\"18\">\\n               <line x1=\"7\" x2=\"17\" y1=\"7\" y2=\"17\">\\n               </line>\\n               <polyline points=\"17 7 17 17 7 17\">\\n               </polyline>\\n              </svg>\\n              <span class=\"bp3-tag p p-65\">\\n               65\\n              </span>\\n             </span>\\n             <abbr class=\"pure-u-7-24\">\\n              Sprint Speed\\n             </abbr>\\n            </div>\\n            <div class=\"block-quarter pure-g\">\\n             <span class=\"pure-u-17-24\">\\n              <span class=\"bp3-tag p p-63\">\\n               63\\n              </span>\\n              <svg class=\"go-down\" height=\"18\" viewbox=\"0 0 24 24\" width=\"18\">\\n               <line x1=\"7\" x2=\"17\" y1=\"7\" y2=\"17\">\\n               </line>\\n               <polyline points=\"17 7 17 17 7 17\">\\n               </polyline>\\n              </svg>\\n              <span class=\"bp3-tag p p-61\">\\n               61\\n              </span>\\n             </span>\\n             <abbr class=\"pure-u-7-24\">\\n              Agility\\n             </abbr>\\n            </div>\\n            <div class=\"block-quarter pure-g\">\\n             <span class=\"pure-u-17-24\">\\n              <span class=\"bp3-tag p p-86\">\\n               86\\n              </span>\\n              <svg class=\"go-down\" height=\"18\" viewbox=\"0 0 24 24\" width=\"18\">\\n               <line x1=\"7\" x2=\"17\" y1=\"7\" y2=\"17\">\\n               </line>\\n               <polyline points=\"17 7 17 17 7 17\">\\n               </polyline>\\n              </svg>\\n              <span class=\"bp3-tag p p-85\">\\n               85\\n              </span>\\n             </span>\\n             <abbr class=\"pure-u-7-24\">\\n              Reactions\\n             </abbr>\\n            </div>\\n            <div class=\"block-quarter pure-g\">\\n             <span class=\"pure-u-17-24\">\\n              <span class=\"bp3-tag p p-81\">\\n               81\\n              </span>\\n              <svg class=\"go-down\" height=\"18\" viewbox=\"0 0 24 24\" width=\"18\">\\n               <line x1=\"7\" x2=\"17\" y1=\"7\" y2=\"17\">\\n               </line>\\n               <polyline points=\"17 7 17 17 7 17\">\\n               </polyline>\\n              </svg>\\n              <span class=\"bp3-tag p p-80\">\\n               80\\n              </span>\\n             </span>\\n             <abbr class=\"pure-u-7-24\">\\n              Strength\\n             </abbr>\\n            </div>\\n            <div class=\"block-quarter pure-g\">\\n             <span class=\"pure-u-17-24\">\\n              <span class=\"bp3-tag p p-85\">\\n               85\\n              </span>\\n              <svg class=\"go-down\" height=\"18\" viewbox=\"0 0 24 24\" width=\"18\">\\n               <line x1=\"7\" x2=\"17\" y1=\"7\" y2=\"17\">\\n               </line>\\n               <polyline points=\"17 7 17 17 7 17\">\\n               </polyline>\\n              </svg>\\n              <span class=\"bp3-tag p p-84\">\\n               84\\n              </span>\\n             </span>\\n             <abbr class=\"pure-u-7-24\">\\n              Aggression\\n             </abbr>\\n            </div>\\n            <div class=\"block-quarter pure-g\">\\n             <span class=\"pure-u-17-24\">\\n              <span class=\"bp3-tag p p-86\">\\n               86\\n              </span>\\n              <svg class=\"go-down\" height=\"18\" viewbox=\"0 0 24 24\" width=\"18\">\\n               <line x1=\"7\" x2=\"17\" y1=\"7\" y2=\"17\">\\n               </line>\\n               <polyline points=\"17 7 17 17 7 17\">\\n               </polyline>\\n              </svg>\\n              <span class=\"bp3-tag p p-84\">\\n               84\\n              </span>\\n             </span>\\n             <abbr class=\"pure-u-7-24\">\\n              Marking\\n             </abbr>\\n            </div>\\n            <div class=\"block-quarter pure-g\">\\n             <span class=\"pure-u-17-24\">\\n              <span class=\"bp3-tag p p-87\">\\n               87\\n              </span>\\n              <svg class=\"go-down\" height=\"18\" viewbox=\"0 0 24 24\" width=\"18\">\\n               <line x1=\"7\" x2=\"17\" y1=\"7\" y2=\"17\">\\n               </line>\\n               <polyline points=\"17 7 17 17 7 17\">\\n               </polyline>\\n              </svg>\\n              <span class=\"bp3-tag p p-86\">\\n               86\\n              </span>\\n             </span>\\n             <abbr class=\"pure-u-7-24\">\\n              Standing Tackle\\n             </abbr>\\n            </div>\\n            <div class=\"block-quarter pure-g\">\\n             <span class=\"pure-u-17-24\">\\n              <span class=\"bp3-tag p p-85\">\\n               85\\n              </span>\\n              <svg class=\"go-down\" height=\"18\" viewbox=\"0 0 24 24\" width=\"18\">\\n               <line x1=\"7\" x2=\"17\" y1=\"7\" y2=\"17\">\\n               </line>\\n               <polyline points=\"17 7 17 17 7 17\">\\n               </polyline>\\n              </svg>\\n              <span class=\"bp3-tag p p-84\">\\n               84\\n              </span>\\n             </span>\\n             <abbr class=\"pure-u-7-24\">\\n              Sliding Tackle\\n             </abbr>\\n            </div>\\n            <div class=\"block-quarter pure-u-1-1\">\\n             <abbr>\\n              <del>\\n               Tackling\\n              </del>\\n             </abbr>\\n            </div>\\n           </div>\\n          </figure>\\n         </td>\\n         <td class=\"col-name\">\\n          <a aria-label=\"Fábio Henrique Tavares\" data-tip-pos=\"top\" href=\"/player/209499/fabio-henrique-tavares/230011/\" role=\"tooltip\">\\n           <div class=\"ellipsis\">\\n            Fabinho\\n           </div>\\n          </a>\\n          <img alt=\"\" class=\"flag\" data-src=\"https://cdn.sofifa.net/flags/br.png\" data-srcset=\"https://cdn.sofifa.net/flags/br@2x.png 2x, https://cdn.sofifa.net/flags/br@3x.png 3x\" height=\"16\" src=\"https://cdn.sofifa.net/pixel.gif\" title=\"Brazil\" width=\"21\"/>\\n          <a href=\"/players?pn=10\" rel=\"nofollow\">\\n           <span class=\"pos pos10\">\\n            CDM\\n           </span>\\n          </a>\\n         </td>\\n         <td class=\"col col-ae\" data-col=\"ae\">\\n          28\\n         </td>\\n         <td class=\"col col-oa col-sort\" data-col=\"oa\">\\n          <span class=\"bp3-tag p p-86\">\\n           86\\n          </span>\\n         </td>\\n         <td class=\"col col-pt\" data-col=\"pt\">\\n          <span class=\"bp3-tag p p-86\">\\n           86\\n          </span>\\n         </td>\\n         <td class=\"col-name\">\\n          <div class=\"ellipsis\">\\n           <figure class=\"avatar avatar-sm transparent\">\\n            <img alt=\"\" class=\"team\" data-root=\"https://cdn.sofifa.net/teams/\" data-src=\"https://cdn.sofifa.net/teams/9/30.png\" data-srcset=\"https://cdn.sofifa.net/teams/9/60.png 2x, https://cdn.sofifa.net/teams/9/90.png 3x\" data-type=\"team\" src=\"https://cdn.sofifa.net/teams/notfound_30.png\"/>\\n           </figure>\\n           <a href=\"/team/9/liverpool/\">\\n            Liverpool\\n           </a>\\n           <div class=\"sub\">\\n            2018 ~ 2026\\n           </div>\\n          </div>\\n         </td>\\n         <td class=\"col col-vl\" data-col=\"vl\">\\n          €59.5M\\n         </td>\\n         <td class=\"col col-wg\" data-col=\"wg\">\\n          €170K\\n         </td>\\n         <td class=\"col col-tt\" data-col=\"tt\">\\n          <span class=\"bp3-tag p\">\\n           2145\\n          </span>\\n         </td>\\n        </tr>\\n        <tr>\\n         <td class=\"col-avatar\">\\n          <figure class=\"avatar\">\\n           <img alt=\"\" class=\"player-check\" data-root=\"https://cdn.sofifa.net/players/\" data-src=\"https://cdn.sofifa.net/players/201/024/23_60.png\" data-srcset=\"https://cdn.sofifa.net/players/201/024/23_120.png 2x, https://cdn.sofifa.net/players/201/024/23_180.png 3x\" data-type=\"player\" id=\"201024\" src=\"https://cdn.sofifa.net/players/notfound_0_60.png\"/>\\n          </figure>\\n         </td>\\n         <td class=\"col-name\">\\n          <a aria-label=\"Kalidou Koulibaly\" data-tip-pos=\"top\" href=\"/player/201024/kalidou-koulibaly/230011/\" role=\"tooltip\">\\n           <div class=\"ellipsis\">\\n            K. Koulibaly\\n           </div>\\n          </a>\\n          <img alt=\"\" class=\"flag\" data-src=\"https://cdn.sofifa.net/flags/sn.png\" data-srcset=\"https://cdn.sofifa.net/flags/sn@2x.png 2x, https://cdn.sofifa.net/flags/sn@3x.png 3x\" height=\"16\" src=\"https://cdn.sofifa.net/pixel.gif\" title=\"Senegal\" width=\"21\"/>\\n          <a href=\"/players?pn=5\" rel=\"nofollow\">\\n           <span class=\"pos pos5\">\\n            CB\\n           </span>\\n          </a>\\n         </td>\\n         <td class=\"col col-ae\" data-col=\"ae\">\\n          31\\n         </td>\\n         <td class=\"col col-oa col-sort\" data-col=\"oa\">\\n          <span class=\"bp3-tag p p-86\">\\n           86\\n          </span>\\n         </td>\\n         <td class=\"col col-pt\" data-col=\"pt\">\\n          <span class=\"bp3-tag p p-86\">\\n           86\\n          </span>\\n         </td>\\n         <td class=\"col-name\">\\n          <div class=\"ellipsis\">\\n           <figure class=\"avatar avatar-sm transparent\">\\n            <img alt=\"\" class=\"team\" data-root=\"https://cdn.sofifa.net/teams/\" data-src=\"https://cdn.sofifa.net/teams/5/30.png\" data-srcset=\"https://cdn.sofifa.net/teams/5/60.png 2x, https://cdn.sofifa.net/teams/5/90.png 3x\" data-type=\"team\" src=\"https://cdn.sofifa.net/teams/notfound_30.png\"/>\\n           </figure>\\n           <a href=\"/team/5/chelsea/\">\\n            Chelsea\\n           </a>\\n           <div class=\"sub\">\\n            2022 ~ 2026\\n           </div>\\n          </div>\\n         </td>\\n         <td class=\"col col-vl\" data-col=\"vl\">\\n          €46.5M\\n         </td>\\n         <td class=\"col col-wg\" data-col=\"wg\">\\n          €165K\\n         </td>\\n         <td class=\"col col-tt\" data-col=\"tt\">\\n          <span class=\"bp3-tag p\">\\n           1908\\n          </span>\\n         </td>\\n        </tr>\\n        <tr>\\n         <td class=\"col-avatar\">\\n          <figure class=\"avatar\">\\n           <img alt=\"\" class=\"player-check\" data-root=\"https://cdn.sofifa.net/players/\" data-src=\"https://cdn.sofifa.net/players/197/445/23_60.png\" data-srcset=\"https://cdn.sofifa.net/players/197/445/23_120.png 2x, https://cdn.sofifa.net/players/197/445/23_180.png 3x\" data-type=\"player\" id=\"197445\" src=\"https://cdn.sofifa.net/players/notfound_0_60.png\"/>\\n          </figure>\\n         </td>\\n         <td class=\"col-name\">\\n          <a aria-label=\"David Alaba\" data-tip-pos=\"top\" href=\"/player/197445/david-alaba/230011/\" role=\"tooltip\">\\n           <div class=\"ellipsis\">\\n            D. Alaba\\n           </div>\\n          </a>\\n          <img alt=\"\" class=\"flag\" data-src=\"https://cdn.sofifa.net/flags/at.png\" data-srcset=\"https://cdn.sofifa.net/flags/at@2x.png 2x, https://cdn.sofifa.net/flags/at@3x.png 3x\" height=\"16\" src=\"https://cdn.sofifa.net/pixel.gif\" title=\"Austria\" width=\"21\"/>\\n          <a href=\"/players?pn=5\" rel=\"nofollow\">\\n           <span class=\"pos pos5\">\\n            CB\\n           </span>\\n          </a>\\n          <a href=\"/players?pn=7\" rel=\"nofollow\">\\n           <span class=\"pos pos7\">\\n            LB\\n           </span>\\n          </a>\\n         </td>\\n         <td class=\"col col-ae\" data-col=\"ae\">\\n          30\\n         </td>\\n         <td class=\"col col-oa col-sort\" data-col=\"oa\">\\n          <span class=\"bp3-tag p p-86\">\\n           86\\n          </span>\\n         </td>\\n         <td class=\"col col-pt\" data-col=\"pt\">\\n          <span class=\"bp3-tag p p-86\">\\n           86\\n          </span>\\n         </td>\\n         <td class=\"col-name\">\\n          <div class=\"ellipsis\">\\n           <figure class=\"avatar avatar-sm transparent\">\\n            <img alt=\"\" class=\"team\" data-root=\"https://cdn.sofifa.net/teams/\" data-src=\"https://cdn.sofifa.net/teams/243/30.png\" data-srcset=\"https://cdn.sofifa.net/teams/243/60.png 2x, https://cdn.sofifa.net/teams/243/90.png 3x\" data-type=\"team\" src=\"https://cdn.sofifa.net/teams/notfound_30.png\"/>\\n           </figure>\\n           <a href=\"/team/243/real-madrid/\">\\n            Real Madrid\\n           </a>\\n           <div class=\"sub\">\\n            2021 ~ 2026\\n           </div>\\n          </div>\\n         </td>\\n         <td class=\"col col-vl\" data-col=\"vl\">\\n          €55.5M\\n         </td>\\n         <td class=\"col col-wg\" data-col=\"wg\">\\n          €220K\\n         </td>\\n         <td class=\"col col-tt\" data-col=\"tt\">\\n          <span class=\"bp3-tag p\">\\n           2277\\n          </span>\\n         </td>\\n        </tr>\\n        <tr>\\n         <td class=\"col-avatar\">\\n          <figure class=\"avatar updated \" data-tip-pos=\"right\" role=\"tooltip\">\\n           <img alt=\"\" class=\"player-check\" data-root=\"https://cdn.sofifa.net/players/\" data-src=\"https://cdn.sofifa.net/players/192/387/23_60.png\" data-srcset=\"https://cdn.sofifa.net/players/192/387/23_120.png 2x, https://cdn.sofifa.net/players/192/387/23_180.png 3x\" data-type=\"player\" id=\"192387\" src=\"https://cdn.sofifa.net/players/notfound_0_60.png\"/>\\n           <div class=\"tip\">\\n            <div class=\"block-quarter half-spacing pure-u-1-1\">\\n             FIFA 23 Jan 25, 2023\\n            </div>\\n            <div class=\"block-quarter pure-g\">\\n             <span class=\"pure-u-17-24\">\\n              <span class=\"bp3-tag p p-78\">\\n               78\\n              </span>\\n              <svg class=\"go-down\" height=\"18\" viewbox=\"0 0 24 24\" width=\"18\">\\n               <line x1=\"7\" x2=\"17\" y1=\"7\" y2=\"17\">\\n               </line>\\n               <polyline points=\"17 7 17 17 7 17\">\\n               </polyline>\\n              </svg>\\n              <span class=\"bp3-tag p p-77\">\\n               77\\n              </span>\\n             </span>\\n             <abbr class=\"pure-u-7-24\">\\n              Stamina\\n             </abbr>\\n            </div>\\n            <div class=\"block-half pure-g\">\\n             <abbr class=\"pure-u-7-24\">\\n              Contract Valid Until\\n             </abbr>\\n             <span class=\"pure-u-17-24\">\\n              2025\\n              <svg class=\"go\" height=\"16\" viewbox=\"0 0 24 24\" width=\"16\">\\n               <line x1=\"5\" x2=\"19\" y1=\"12\" y2=\"12\">\\n               </line>\\n               <polyline points=\"12 5 19 12 12 19\">\\n               </polyline>\\n              </svg>\\n              2026\\n             </span>\\n            </div>\\n           </div>\\n          </figure>\\n         </td>\\n         <td class=\"col-name\">\\n          <a aria-label=\"Ciro Immobile\" data-tip-pos=\"top\" href=\"/player/192387/ciro-immobile/230011/\" role=\"tooltip\">\\n           <div class=\"ellipsis\">\\n            C. Immobile\\n           </div>\\n          </a>\\n          <img alt=\"\" class=\"flag\" data-src=\"https://cdn.sofifa.net/flags/it.png\" data-srcset=\"https://cdn.sofifa.net/flags/it@2x.png 2x, https://cdn.sofifa.net/flags/it@3x.png 3x\" height=\"16\" src=\"https://cdn.sofifa.net/pixel.gif\" title=\"Italy\" width=\"21\"/>\\n          <a href=\"/players?pn=25\" rel=\"nofollow\">\\n           <span class=\"pos pos25\">\\n            ST\\n           </span>\\n          </a>\\n         </td>\\n         <td class=\"col col-ae\" data-col=\"ae\">\\n          32\\n         </td>\\n         <td class=\"col col-oa col-sort\" data-col=\"oa\">\\n          <span class=\"bp3-tag p p-86\">\\n           86\\n          </span>\\n         </td>\\n         <td class=\"col col-pt\" data-col=\"pt\">\\n          <span class=\"bp3-tag p p-86\">\\n           86\\n          </span>\\n         </td>\\n         <td class=\"col-name\">\\n          <div class=\"ellipsis\">\\n           <figure class=\"avatar avatar-sm transparent\">\\n            <img alt=\"\" class=\"team\" data-root=\"https://cdn.sofifa.net/teams/\" data-src=\"https://cdn.sofifa.net/teams/46/30.png\" data-srcset=\"https://cdn.sofifa.net/teams/46/60.png 2x, https://cdn.sofifa.net/teams/46/90.png 3x\" data-type=\"team\" src=\"https://cdn.sofifa.net/teams/notfound_30.png\"/>\\n           </figure>\\n           <a href=\"/team/46/lazio/\">\\n            Lazio\\n           </a>\\n           <div class=\"sub\">\\n            2016 ~ 2026\\n           </div>\\n          </div>\\n         </td>\\n         <td class=\"col col-vl\" data-col=\"vl\">\\n          €55M\\n         </td>\\n         <td class=\"col col-wg\" data-col=\"wg\">\\n          €100K\\n         </td>\\n         <td class=\"col col-tt\" data-col=\"tt\">\\n          <span class=\"bp3-tag p\">\\n           2059\\n          </span>\\n         </td>\\n        </tr>\\n        <tr>\\n         <td class=\"col-avatar\">\\n          <figure class=\"avatar\">\\n           <img alt=\"\" class=\"player-check\" data-root=\"https://cdn.sofifa.net/players/\" data-src=\"https://cdn.sofifa.net/players/189/596/23_60.png\" data-srcset=\"https://cdn.sofifa.net/players/189/596/23_120.png 2x, https://cdn.sofifa.net/players/189/596/23_180.png 3x\" data-type=\"player\" id=\"189596\" src=\"https://cdn.sofifa.net/players/notfound_0_60.png\"/>\\n          </figure>\\n         </td>\\n         <td class=\"col-name\">\\n          <a aria-label=\"Thomas Müller\" data-tip-pos=\"top\" href=\"/player/189596/thomas-muller/230011/\" role=\"tooltip\">\\n           <div class=\"ellipsis\">\\n            T. Müller\\n           </div>\\n          </a>\\n          <img alt=\"\" class=\"flag\" data-src=\"https://cdn.sofifa.net/flags/de.png\" data-srcset=\"https://cdn.sofifa.net/flags/de@2x.png 2x, https://cdn.sofifa.net/flags/de@3x.png 3x\" height=\"16\" src=\"https://cdn.sofifa.net/pixel.gif\" title=\"Germany\" width=\"21\"/>\\n          <a href=\"/players?pn=18\" rel=\"nofollow\">\\n           <span class=\"pos pos18\">\\n            CAM\\n           </span>\\n          </a>\\n          <a href=\"/players?pn=21\" rel=\"nofollow\">\\n           <span class=\"pos pos21\">\\n            CF\\n           </span>\\n          </a>\\n         </td>\\n         <td class=\"col col-ae\" data-col=\"ae\">\\n          32\\n         </td>\\n         <td class=\"col col-oa col-sort\" data-col=\"oa\">\\n          <span class=\"bp3-tag p p-86\">\\n           86\\n          </span>\\n         </td>\\n         <td class=\"col col-pt\" data-col=\"pt\">\\n          <span class=\"bp3-tag p p-86\">\\n           86\\n          </span>\\n         </td>\\n         <td class=\"col-name\">\\n          <div class=\"ellipsis\">\\n           <figure class=\"avatar avatar-sm transparent\">\\n            <img alt=\"\" class=\"team\" data-root=\"https://cdn.sofifa.net/teams/\" data-src=\"https://cdn.sofifa.net/teams/21/30.png\" data-srcset=\"https://cdn.sofifa.net/teams/21/60.png 2x, https://cdn.sofifa.net/teams/21/90.png 3x\" data-type=\"team\" src=\"https://cdn.sofifa.net/teams/notfound_30.png\"/>\\n           </figure>\\n           <a href=\"/team/21/fc-bayern-munchen/\">\\n            FC Bayern München\\n           </a>\\n           <div class=\"sub\">\\n            2008 ~ 2024\\n           </div>\\n          </div>\\n         </td>\\n         <td class=\"col col-vl\" data-col=\"vl\">\\n          €54M\\n         </td>\\n         <td class=\"col col-wg\" data-col=\"wg\">\\n          €105K\\n         </td>\\n         <td class=\"col col-tt\" data-col=\"tt\">\\n          <span class=\"bp3-tag p\">\\n           2128\\n          </span>\\n         </td>\\n        </tr>\\n        <tr>\\n         <td class=\"col-avatar\">\\n          <figure class=\"avatar\">\\n           <img alt=\"\" class=\"player-check\" data-root=\"https://cdn.sofifa.net/players/\" data-src=\"https://cdn.sofifa.net/players/189/513/23_60.png\" data-srcset=\"https://cdn.sofifa.net/players/189/513/23_120.png 2x, https://cdn.sofifa.net/players/189/513/23_180.png 3x\" data-type=\"player\" id=\"189513\" src=\"https://cdn.sofifa.net/players/notfound_0_60.png\"/>\\n          </figure>\\n         </td>\\n         <td class=\"col-name\">\\n          <a aria-label=\"Daniel Parejo Muñoz\" data-tip-pos=\"top\" href=\"/player/189513/daniel-parejo-munoz/230011/\" role=\"tooltip\">\\n           <div class=\"ellipsis\">\\n            Parejo\\n           </div>\\n          </a>\\n          <img alt=\"\" class=\"flag\" data-src=\"https://cdn.sofifa.net/flags/es.png\" data-srcset=\"https://cdn.sofifa.net/flags/es@2x.png 2x, https://cdn.sofifa.net/flags/es@3x.png 3x\" height=\"16\" src=\"https://cdn.sofifa.net/pixel.gif\" title=\"Spain\" width=\"21\"/>\\n          <a href=\"/players?pn=14\" rel=\"nofollow\">\\n           <span class=\"pos pos14\">\\n            CM\\n           </span>\\n          </a>\\n          <a href=\"/players?pn=10\" rel=\"nofollow\">\\n           <span class=\"pos pos10\">\\n            CDM\\n           </span>\\n          </a>\\n         </td>\\n         <td class=\"col col-ae\" data-col=\"ae\">\\n          33\\n         </td>\\n         <td class=\"col col-oa col-sort\" data-col=\"oa\">\\n          <span class=\"bp3-tag p p-86\">\\n           86\\n          </span>\\n         </td>\\n         <td class=\"col col-pt\" data-col=\"pt\">\\n          <span class=\"bp3-tag p p-86\">\\n           86\\n          </span>\\n         </td>\\n         <td class=\"col-name\">\\n          <div class=\"ellipsis\">\\n           <figure class=\"avatar avatar-sm transparent\">\\n            <img alt=\"\" class=\"team\" data-root=\"https://cdn.sofifa.net/teams/\" data-src=\"https://cdn.sofifa.net/teams/483/30.png\" data-srcset=\"https://cdn.sofifa.net/teams/483/60.png 2x, https://cdn.sofifa.net/teams/483/90.png 3x\" data-type=\"team\" src=\"https://cdn.sofifa.net/teams/notfound_30.png\"/>\\n           </figure>\\n           <a href=\"/team/483/villarreal/\">\\n            Villarreal\\n           </a>\\n           <div class=\"sub\">\\n            2020 ~ 2024\\n           </div>\\n          </div>\\n         </td>\\n         <td class=\"col col-vl\" data-col=\"vl\">\\n          €42M\\n         </td>\\n         <td class=\"col col-wg\" data-col=\"wg\">\\n          €64K\\n         </td>\\n         <td class=\"col col-tt\" data-col=\"tt\">\\n          <span class=\"bp3-tag p\">\\n           2162\\n          </span>\\n         </td>\\n        </tr>\\n        <tr>\\n         <td class=\"col-avatar\">\\n          <figure class=\"avatar\">\\n           <img alt=\"\" class=\"player-check\" data-root=\"https://cdn.sofifa.net/players/\" data-src=\"https://cdn.sofifa.net/players/189/509/23_60.png\" data-srcset=\"https://cdn.sofifa.net/players/189/509/23_120.png 2x, https://cdn.sofifa.net/players/189/509/23_180.png 3x\" data-type=\"player\" id=\"189509\" src=\"https://cdn.sofifa.net/players/notfound_0_60.png\"/>\\n          </figure>\\n         </td>\\n         <td class=\"col-name\">\\n          <a aria-label=\"Thiago Alcântara\" data-tip-pos=\"top\" href=\"/player/189509/thiago-alcantara/230011/\" role=\"tooltip\">\\n           <div class=\"ellipsis\">\\n            Thiago\\n           </div>\\n          </a>\\n          <img alt=\"\" class=\"flag\" data-src=\"https://cdn.sofifa.net/flags/es.png\" data-srcset=\"https://cdn.sofifa.net/flags/es@2x.png 2x, https://cdn.sofifa.net/flags/es@3x.png 3x\" height=\"16\" src=\"https://cdn.sofifa.net/pixel.gif\" title=\"Spain\" width=\"21\"/>\\n          <a href=\"/players?pn=14\" rel=\"nofollow\">\\n           <span class=\"pos pos14\">\\n            CM\\n           </span>\\n          </a>\\n         </td>\\n         <td class=\"col col-ae\" data-col=\"ae\">\\n          31\\n         </td>\\n         <td class=\"col col-oa col-sort\" data-col=\"oa\">\\n          <span class=\"bp3-tag p p-86\">\\n           86\\n          </span>\\n         </td>\\n         <td class=\"col col-pt\" data-col=\"pt\">\\n          <span class=\"bp3-tag p p-86\">\\n           86\\n          </span>\\n         </td>\\n         <td class=\"col-name\">\\n          <div class=\"ellipsis\">\\n           <figure class=\"avatar avatar-sm transparent\">\\n            <img alt=\"\" class=\"team\" data-root=\"https://cdn.sofifa.net/teams/\" data-src=\"https://cdn.sofifa.net/teams/9/30.png\" data-srcset=\"https://cdn.sofifa.net/teams/9/60.png 2x, https://cdn.sofifa.net/teams/9/90.png 3x\" data-type=\"team\" src=\"https://cdn.sofifa.net/teams/notfound_30.png\"/>\\n           </figure>\\n           <a href=\"/team/9/liverpool/\">\\n            Liverpool\\n           </a>\\n           <div class=\"sub\">\\n            2020 ~ 2024\\n           </div>\\n          </div>\\n         </td>\\n         <td class=\"col col-vl\" data-col=\"vl\">\\n          €55.5M\\n         </td>\\n         <td class=\"col col-wg\" data-col=\"wg\">\\n          €180K\\n         </td>\\n         <td class=\"col col-tt\" data-col=\"tt\">\\n          <span class=\"bp3-tag p\">\\n           2227\\n          </span>\\n         </td>\\n        </tr>\\n        <tr>\\n         <td class=\"col-avatar\">\\n          <figure class=\"avatar\">\\n           <img alt=\"\" class=\"player-check\" data-root=\"https://cdn.sofifa.net/players/\" data-src=\"https://cdn.sofifa.net/players/188/943/23_60.png\" data-srcset=\"https://cdn.sofifa.net/players/188/943/23_120.png 2x, https://cdn.sofifa.net/players/188/943/23_180.png 3x\" data-type=\"player\" id=\"188943\" src=\"https://cdn.sofifa.net/players/notfound_0_60.png\"/>\\n          </figure>\\n         </td>\\n         <td class=\"col-name\">\\n          <a aria-label=\"Kevin Trapp\" data-tip-pos=\"top\" href=\"/player/188943/kevin-trapp/230011/\" role=\"tooltip\">\\n           <div class=\"ellipsis\">\\n            K. Trapp\\n           </div>\\n          </a>\\n          <img alt=\"\" class=\"flag\" data-src=\"https://cdn.sofifa.net/flags/de.png\" data-srcset=\"https://cdn.sofifa.net/flags/de@2x.png 2x, https://cdn.sofifa.net/flags/de@3x.png 3x\" height=\"16\" src=\"https://cdn.sofifa.net/pixel.gif\" title=\"Germany\" width=\"21\"/>\\n          <a href=\"/players?pn=0\" rel=\"nofollow\">\\n           <span class=\"pos pos0\">\\n            GK\\n           </span>\\n          </a>\\n         </td>\\n         <td class=\"col col-ae\" data-col=\"ae\">\\n          31\\n         </td>\\n         <td class=\"col col-oa col-sort\" data-col=\"oa\">\\n          <span class=\"bp3-tag p p-86\">\\n           86\\n          </span>\\n         </td>\\n         <td class=\"col col-pt\" data-col=\"pt\">\\n          <span class=\"bp3-tag p p-86\">\\n           86\\n          </span>\\n         </td>\\n         <td class=\"col-name\">\\n          <div class=\"ellipsis\">\\n           <figure class=\"avatar avatar-sm transparent\">\\n            <img alt=\"\" class=\"team\" data-root=\"https://cdn.sofifa.net/teams/\" data-src=\"https://cdn.sofifa.net/teams/1824/30.png\" data-srcset=\"https://cdn.sofifa.net/teams/1824/60.png 2x, https://cdn.sofifa.net/teams/1824/90.png 3x\" data-type=\"team\" src=\"https://cdn.sofifa.net/teams/notfound_30.png\"/>\\n           </figure>\\n           <a href=\"/team/1824/eintracht-frankfurt/\">\\n            Eintracht Frankfurt\\n           </a>\\n           <div class=\"sub\">\\n            2019 ~ 2024\\n           </div>\\n          </div>\\n         </td>\\n         <td class=\"col col-vl\" data-col=\"vl\">\\n          €36M\\n         </td>\\n         <td class=\"col col-wg\" data-col=\"wg\">\\n          €43K\\n         </td>\\n         <td class=\"col col-tt\" data-col=\"tt\">\\n          <span class=\"bp3-tag p\">\\n           1254\\n          </span>\\n         </td>\\n        </tr>\\n        <tr>\\n         <td class=\"col-avatar\">\\n          <figure class=\"avatar\">\\n           <img alt=\"\" class=\"player-check\" data-root=\"https://cdn.sofifa.net/players/\" data-src=\"https://cdn.sofifa.net/players/186/153/23_60.png\" data-srcset=\"https://cdn.sofifa.net/players/186/153/23_120.png 2x, https://cdn.sofifa.net/players/186/153/23_180.png 3x\" data-type=\"player\" id=\"186153\" src=\"https://cdn.sofifa.net/players/notfound_0_60.png\"/>\\n          </figure>\\n         </td>\\n         <td class=\"col-name\">\\n          <a aria-label=\"Wojciech Szczęsny\" data-tip-pos=\"top\" href=\"/player/186153/wojciech-szczesny/230011/\" role=\"tooltip\">\\n           <div class=\"ellipsis\">\\n            W. Szczęsny\\n           </div>\\n          </a>\\n          <img alt=\"\" class=\"flag\" data-src=\"https://cdn.sofifa.net/flags/pl.png\" data-srcset=\"https://cdn.sofifa.net/flags/pl@2x.png 2x, https://cdn.sofifa.net/flags/pl@3x.png 3x\" height=\"16\" src=\"https://cdn.sofifa.net/pixel.gif\" title=\"Poland\" width=\"21\"/>\\n          <a href=\"/players?pn=0\" rel=\"nofollow\">\\n           <span class=\"pos pos0\">\\n            GK\\n           </span>\\n          </a>\\n         </td>\\n         <td class=\"col col-ae\" data-col=\"ae\">\\n          32\\n         </td>\\n         <td class=\"col col-oa col-sort\" data-col=\"oa\">\\n          <span class=\"bp3-tag p p-86\">\\n           86\\n          </span>\\n         </td>\\n         <td class=\"col col-pt\" data-col=\"pt\">\\n          <span class=\"bp3-tag p p-86\">\\n           86\\n          </span>\\n         </td>\\n         <td class=\"col-name\">\\n          <div class=\"ellipsis\">\\n           <figure class=\"avatar avatar-sm transparent\">\\n            <img alt=\"\" class=\"team\" data-root=\"https://cdn.sofifa.net/teams/\" data-src=\"https://cdn.sofifa.net/teams/45/30.png\" data-srcset=\"https://cdn.sofifa.net/teams/45/60.png 2x, https://cdn.sofifa.net/teams/45/90.png 3x\" data-type=\"team\" src=\"https://cdn.sofifa.net/teams/notfound_30.png\"/>\\n           </figure>\\n           <a href=\"/team/45/juventus/\">\\n            Juventus\\n           </a>\\n           <div class=\"sub\">\\n            2017 ~ 2024\\n           </div>\\n          </div>\\n         </td>\\n         <td class=\"col col-vl\" data-col=\"vl\">\\n          €33.5M\\n         </td>\\n         <td class=\"col col-wg\" data-col=\"wg\">\\n          €125K\\n         </td>\\n         <td class=\"col col-tt\" data-col=\"tt\">\\n          <span class=\"bp3-tag p\">\\n           1316\\n          </span>\\n         </td>\\n        </tr>\\n        <tr>\\n         <td class=\"col-avatar\">\\n          <figure class=\"avatar\">\\n           <img alt=\"\" class=\"player-check\" data-root=\"https://cdn.sofifa.net/players/\" data-src=\"https://cdn.sofifa.net/players/177/683/23_60.png\" data-srcset=\"https://cdn.sofifa.net/players/177/683/23_120.png 2x, https://cdn.sofifa.net/players/177/683/23_180.png 3x\" data-type=\"player\" id=\"177683\" src=\"https://cdn.sofifa.net/players/notfound_0_60.png\"/>\\n          </figure>\\n         </td>\\n         <td class=\"col-name\">\\n          <a aria-label=\"Yann Sommer\" data-tip-pos=\"top\" href=\"/player/177683/yann-sommer/230011/\" role=\"tooltip\">\\n           <div class=\"ellipsis\">\\n            Y. Sommer\\n           </div>\\n          </a>\\n          <img alt=\"\" class=\"flag\" data-src=\"https://cdn.sofifa.net/flags/ch.png\" data-srcset=\"https://cdn.sofifa.net/flags/ch@2x.png 2x, https://cdn.sofifa.net/flags/ch@3x.png 3x\" height=\"16\" src=\"https://cdn.sofifa.net/pixel.gif\" title=\"Switzerland\" width=\"21\"/>\\n          <a href=\"/players?pn=0\" rel=\"nofollow\">\\n           <span class=\"pos pos0\">\\n            GK\\n           </span>\\n          </a>\\n         </td>\\n         <td class=\"col col-ae\" data-col=\"ae\">\\n          33\\n         </td>\\n         <td class=\"col col-oa col-sort\" data-col=\"oa\">\\n          <span class=\"bp3-tag p p-86\">\\n           86\\n          </span>\\n         </td>\\n         <td class=\"col col-pt\" data-col=\"pt\">\\n          <span class=\"bp3-tag p p-86\">\\n           86\\n          </span>\\n         </td>\\n         <td class=\"col-name\">\\n          <div class=\"ellipsis\">\\n           <figure class=\"avatar avatar-sm transparent\">\\n            <img alt=\"\" class=\"team\" data-root=\"https://cdn.sofifa.net/teams/\" data-src=\"https://cdn.sofifa.net/teams/23/30.png\" data-srcset=\"https://cdn.sofifa.net/teams/23/60.png 2x, https://cdn.sofifa.net/teams/23/90.png 3x\" data-type=\"team\" src=\"https://cdn.sofifa.net/teams/notfound_30.png\"/>\\n           </figure>\\n           <a href=\"/team/23/borussia-monchengladbach/\">\\n            Borussia Mönchengladbach\\n           </a>\\n           <div class=\"sub\">\\n            2014 ~ 2023\\n           </div>\\n          </div>\\n         </td>\\n         <td class=\"col col-vl\" data-col=\"vl\">\\n          €22M\\n         </td>\\n         <td class=\"col col-wg\" data-col=\"wg\">\\n          €43K\\n         </td>\\n         <td class=\"col col-tt\" data-col=\"tt\">\\n          <span class=\"bp3-tag p\">\\n           1358\\n          </span>\\n         </td>\\n        </tr>\\n       </tbody>\\n      </table>\\n      <div class=\"pagination\">\\n       <a class=\"bp3-button bp3-intent-primary pjax\" href=\"/players?r=230011&amp;set=true&amp;offset=60\">\\n        <span class=\"bp3-button-text\">\\n         Next\\n        </span>\\n        <span class=\"bp3-icon bp3-icon-chevron-right\">\\n         <svg height=\"16\" viewbox=\"0 0 24 24\" width=\"16\">\\n          <polyline points=\"9 18 15 12 9 6\">\\n          </polyline>\\n         </svg>\\n        </span>\\n       </a>\\n      </div>\\n     </div>\\n    </div>\\n   </div>\\n  </div>\\n  <footer>\\n   <div class=\"center\">\\n    <p class=\"copyright\">\\n     All product names, logos, and brands are the property of their respective owners.\\n     <br/>\\n     All company, product, and service names used in this website are for identification purposes only.\\n     <br/>\\n     <a href=\"/help/tos\">\\n      Terms\\n     </a>\\n     <a href=\"/help/privacy\">\\n      Privacy\\n     </a>\\n     <a href=\"/help/faq\">\\n      FAQ\\n     </a>\\n    </p>\\n   </div>\\n  </footer>\\n  <div class=\"hide\" id=\"sign-in-form\">\\n   <div class=\"bp3-dialog-header\">\\n    <h4 class=\"bp3-heading\">\\n     Sign in\\n    </h4>\\n    <button class=\"bp3-button bp3-minimal bp3-dialog-close-button btn-cancel\" type=\"button\">\\n     <span class=\"bp3-icon bp3-icon-small-cross\" icon=\"small-cross\">\\n      <svg height=\"20\" viewbox=\"0 0 24 24\" width=\"20\">\\n       <line x1=\"18\" x2=\"6\" y1=\"6\" y2=\"18\">\\n       </line>\\n       <line x1=\"6\" x2=\"18\" y1=\"6\" y2=\"18\">\\n       </line>\\n      </svg>\\n     </span>\\n    </button>\\n   </div>\\n   <div class=\"bp3-dialog-body\">\\n    <form action=\"/signIn\" class=\"ajax-form\" method=\"post\">\\n     <div class=\"bp3-form-group bp3-inline\">\\n      <input class=\"bp3-input bp3-fill\" name=\"email\" placeholder=\"Email\" type=\"text\"/>\\n     </div>\\n     <div class=\"bp3-form-group bp3-inline\">\\n      <input class=\"bp3-input bp3-fill\" name=\"password\" placeholder=\"Password\" type=\"password\"/>\\n     </div>\\n     <div class=\"bp3-form-group bp3-inline spacing\">\\n      <div class=\"bp3-full-width text-right\">\\n       <a class=\"bp3-button bp3-minimal sign-up\" href=\"/signUp\">\\n        Sign up\\n       </a>\\n       <a class=\"bp3-button bp3-minimal forgot\" href=\"/forgot\">\\n        Forgot password\\n       </a>\\n       <button class=\"bp3-button\" name=\"submit\" type=\"submit\">\\n        Sign in\\n       </button>\\n      </div>\\n     </div>\\n     <div class=\"bp3-divider spacing\">\\n     </div>\\n     <div class=\"bp3-form-group bp3-inline\">\\n      <a class=\"bp3-button google bp3-fill\" href=\"/authorize/google\" rel=\"nofollow\">\\n       <div>\\n        <svg class=\"icon\" fill=\"none\" height=\"16\" style=\"stroke:none\" viewbox=\"0 0 18 18\" width=\"16\" xmlns=\"https://www.w3.org/2000/svg\">\\n         <path clip-rule=\"evenodd\" d=\"M17.64 9.204c0-.638-.057-1.252-.164-1.84H9v3.48h4.844a4.14 4.14 0 0 1-1.796 2.717v2.258h2.908c1.702-1.567 2.684-3.874 2.684-6.615z\" fill=\"#4285F4\" fill-rule=\"evenodd\">\\n         </path>\\n         <path clip-rule=\"evenodd\" d=\"M9 18c2.43 0 4.467-.806 5.956-2.18l-2.909-2.259c-.805.54-1.836.86-3.047.86-2.344 0-4.328-1.584-5.036-3.711H.957v2.332A8.997 8.997 0 0 0 9 18z\" fill=\"#34A853\" fill-rule=\"evenodd\">\\n         </path>\\n         <path clip-rule=\"evenodd\" d=\"M3.964 10.71A5.41 5.41 0 0 1 3.682 9c0-.593.102-1.17.282-1.71V4.958H.957A8.996 8.996 0 0 0 0 9c0 1.452.348 2.827.957 4.042l3.007-2.332z\" fill=\"#FBBC05\" fill-rule=\"evenodd\">\\n         </path>\\n         <path clip-rule=\"evenodd\" d=\"M9 3.58c1.321 0 2.508.454 3.44 1.345l2.582-2.58C13.462.891 11.426 0 9 0A8.997 8.997 0 0 0 .957 4.958L3.964 7.29C4.672 5.163 6.656 3.58 9 3.58z\" fill=\"#EA4335\" fill-rule=\"evenodd\">\\n         </path>\\n        </svg>\\n       </div>\\n       Sign in with Google\\n      </a>\\n      <a aria-label=\"Sign in with Facebook\" class=\"bp3-button facebook compact\" data-tip-pos=\"top\" href=\"/authorize/facebook\" rel=\"nofollow\" role=\"tooltip\">\\n       <svg height=\"20\" viewbox=\"0 0 24 24\" width=\"20\" xmlns=\"https://www.w3.org/2000/svg\">\\n        <path d=\"M22.675 0H1.325C.593 0 0 .593 0 1.325v21.351C0 23.407.593 24 1.325 24H12.82v-9.294H9.692v-3.622h3.128V8.413c0-3.1 1.893-4.788 4.659-4.788 1.325 0 2.463.099 2.795.143v3.24l-1.918.001c-1.504 0-1.795.715-1.795 1.763v2.313h3.587l-.467 3.622h-3.12V24h6.116c.73 0 1.323-.593 1.323-1.325V1.325C24 .593 23.407 0 22.675 0z\" fill=\"#fff\">\\n        </path>\\n       </svg>\\n      </a>\\n      <a aria-label=\"Sign in with Twitter\" class=\"bp3-button twitter compact\" data-tip-pos=\"top\" href=\"/authorize/twitter\" rel=\"nofollow\" role=\"tooltip\">\\n       <svg height=\"20\" style=\"margin:-.15rem 0 0 -.15rem;stroke:none\" viewbox=\"0 0 512 512\" width=\"20\" xmlns=\"https://www.w3.org/2000/svg\">\\n        <path d=\"M512 97.248c-19.04 8.352-39.328 13.888-60.48 16.576 21.76-12.992 38.368-33.408 46.176-58.016-20.288 12.096-42.688 20.64-66.56 25.408C411.872 60.704 384.416 48 354.464 48c-58.112 0-104.896 47.168-104.896 104.992 0 8.32.704 16.32 2.432 23.936-87.264-4.256-164.48-46.08-216.352-109.792-9.056 15.712-14.368 33.696-14.368 53.056 0 36.352 18.72 68.576 46.624 87.232-16.864-.32-33.408-5.216-47.424-12.928v1.152c0 51.008 36.384 93.376 84.096 103.136-8.544 2.336-17.856 3.456-27.52 3.456-6.72 0-13.504-.384-19.872-1.792 13.6 41.568 52.192 72.128 98.08 73.12-35.712 27.936-81.056 44.768-130.144 44.768-8.608 0-16.864-.384-25.12-1.44C46.496 446.88 101.6 464 161.024 464c193.152 0 298.752-160 298.752-298.688 0-4.64-.16-9.12-.384-13.568 20.832-14.784 38.336-33.248 52.608-54.496z\" fill=\"#03a9f4\">\\n        </path>\\n       </svg>\\n      </a>\\n      <a aria-label=\"Sign in with Disqus\" class=\"bp3-button disqus compact\" data-tip-pos=\"top\" href=\"/authorize/disqus\" rel=\"nofollow\" role=\"tooltip\">\\n       <svg height=\"20\" viewbox=\"0 0 512 512\" width=\"20\" xmlns=\"https://www.w3.org/2000/svg\">\\n        <path d=\"M265.344 496c-60.832 0-116.512-21.44-159.488-56.928L0 452.928l40.832-97.408C26.496 325.184 18.656 291.488 18.656 256c0-132.576 110.496-240 246.656-240C401.664 16 512 123.424 512 256S401.664 496 265.344 496z\" fill=\"#2196f3\">\\n        </path>\\n        <path d=\"M266.912 128H176v256h89.632C350.432 384 400 329.12 400 255.296v-.672C400 180.832 351.072 128 266.912 128zm65.984 128.16c0 41.472-25.92 64.864-65.024 64.864h-26.56v-130.24h26.56c39.104 0 65.024 23.744 65.024 64.704v.672z\" fill=\"#fafafa\">\\n        </path>\\n       </svg>\\n      </a>\\n      <a aria-label=\"Sign in with Discord\" class=\"bp3-button discord compact\" data-tip-pos=\"top\" href=\"/authorize/discord\" rel=\"nofollow\" role=\"tooltip\">\\n       <svg height=\"20\" viewbox=\"77.836 30.904 171.8 172.032\" width=\"20\" xmlns=\"http://www.w3.org/2000/svg\">\\n        <path d=\"M78 116.8C78 69.4 116.4 31 163.8 31s85.8 38.4 85.8 85.8-38.4 85.8-85.8 85.8c-47.4-.1-85.8-38.5-85.8-85.8z\" fill=\"#5865f2\">\\n        </path>\\n        <path d=\"M202.4 81.9c-7.3-3.3-14.9-5.7-22.8-7-1 1.8-2.1 4.1-2.9 6-8.4-1.3-16.9-1.3-25.3 0-.9-2.1-1.9-4.1-3-6-7.9 1.3-15.6 3.7-22.8 7.1-14.4 21.5-18.3 42.4-16.4 63.1 8.5 6.3 17.9 11.1 28 14.1 2.3-3.1 4.3-6.3 6-9.7-3.3-1.2-6.4-2.7-9.4-4.5.8-.6 1.5-1.2 2.3-1.8 17.7 8.4 38.3 8.4 56 0 .8.6 1.5 1.2 2.3 1.8-3 1.8-6.2 3.3-9.5 4.5 1.7 3.4 3.7 6.6 6 9.7 10.1-3.1 19.6-7.8 28-14.1 2.2-24-4-44.8-16.5-63.2zm-56.8 50.4c-5.5 0-9.9-5-9.9-11.1s4.4-11.2 9.9-11.2c5.6 0 10 5 10 11.2-.1 6.1-4.4 11.1-10 11.1zm36.8 0c-5.5 0-9.9-5-9.9-11.1s4.4-11.2 9.9-11.2c5.6 0 10 5 9.9 11.2s-4.4 11.1-9.9 11.1z\" fill=\"#fff\">\\n        </path>\\n       </svg>\\n      </a>\\n     </div>\\n    </form>\\n   </div>\\n  </div>\\n  <div class=\"hide\" id=\"sign-up-form\">\\n   <div class=\"bp3-dialog-header\">\\n    <h4 class=\"bp3-heading\">\\n     Sign up\\n    </h4>\\n    <button class=\"bp3-button bp3-minimal bp3-dialog-close-button btn-cancel\" type=\"button\">\\n     <span class=\"bp3-icon bp3-icon-small-cross\" icon=\"small-cross\">\\n      <svg height=\"20\" viewbox=\"0 0 24 24\" width=\"20\">\\n       <line x1=\"18\" x2=\"6\" y1=\"6\" y2=\"18\">\\n       </line>\\n       <line x1=\"6\" x2=\"18\" y1=\"6\" y2=\"18\">\\n       </line>\\n      </svg>\\n     </span>\\n    </button>\\n   </div>\\n   <div class=\"bp3-dialog-body\">\\n    <form action=\"/signUp\" class=\"ajax-form\" data-next=\"/players\" method=\"post\">\\n     <div class=\"bp3-form-group bp3-inline\">\\n      <input class=\"bp3-input bp3-fill\" name=\"email\" placeholder=\"Email\" type=\"text\"/>\\n     </div>\\n     <div class=\"bp3-form-group bp3-inline\">\\n      <input class=\"bp3-input bp3-fill\" name=\"name\" placeholder=\"Name\" type=\"text\"/>\\n     </div>\\n     <div class=\"bp3-form-group bp3-inline\">\\n      <input class=\"bp3-input bp3-fill\" id=\"password\" name=\"password\" placeholder=\"Password\" type=\"password\"/>\\n     </div>\\n     <div class=\"bp3-form-group bp3-inline\">\\n      <input class=\"bp3-input bp3-fill\" name=\"confirmPassword\" placeholder=\"Confirm password\" type=\"password\"/>\\n     </div>\\n     <div class=\"bp3-form-group bp3-inline spacing\">\\n      <div class=\"bp3-full-width text-right\">\\n       <button class=\"bp3-button\" name=\"submit\" type=\"submit\">\\n        Submit\\n       </button>\\n      </div>\\n     </div>\\n    </form>\\n   </div>\\n  </div>\\n  <div class=\"hide\" id=\"forgot-form\">\\n   <div class=\"bp3-dialog-header\">\\n    <h4 class=\"bp3-heading\">\\n     Forgot password\\n    </h4>\\n    <button class=\"bp3-button bp3-minimal bp3-dialog-close-button btn-cancel\" type=\"button\">\\n     <span class=\"bp3-icon bp3-icon-small-cross\" icon=\"small-cross\">\\n      <svg height=\"20\" viewbox=\"0 0 24 24\" width=\"20\">\\n       <line x1=\"18\" x2=\"6\" y1=\"6\" y2=\"18\">\\n       </line>\\n       <line x1=\"6\" x2=\"18\" y1=\"6\" y2=\"18\">\\n       </line>\\n      </svg>\\n     </span>\\n    </button>\\n   </div>\\n   <div class=\"bp3-dialog-body\">\\n    <form action=\"/forgot\" class=\"ajax-form\" method=\"post\">\\n     <div class=\"bp3-form-group bp3-inline\">\\n      Please provide your email. We will send you an email containing further instructions.\\n     </div>\\n     <div class=\"bp3-form-group bp3-inline\">\\n      <input class=\"bp3-input bp3-fill\" name=\"email\" placeholder=\"Email\" type=\"text\"/>\\n     </div>\\n     <div class=\"bp3-form-group bp3-inline\">\\n      <div class=\"bp3-full-width text-right\">\\n       <button class=\"bp3-button\" name=\"submit\" type=\"submit\">\\n        Submit\\n       </button>\\n      </div>\\n     </div>\\n    </form>\\n   </div>\\n  </div>\\n  <script src=\"https://static.sofifa.net/js/desktop.min.js?2\">\\n  </script>\\n  <script defer=\"\" src=\"https://www.googletagmanager.com/gtag/js?id=G-PP9GQXYTK4\">\\n  </script>\\n  <script defer=\"\" src=\"https://cdn.intergient.com/1024268/72628/ramp_config.js\">\\n  </script>\\n  <script defer=\"\" src=\"https://static.sofifa.net/js/ramp.min.js?2\">\\n  </script>\\n  <script defer=\"\" src=\"https://cdn.intergient.com/ramp_core.js\">\\n  </script>\\n  <script async=\"\" src=\"https://www.googletagmanager.com/gtag/js?id=UA-27924384-1\">\\n  </script>\\n  <script>\\n   window.dataLayer = window.dataLayer || [];function gtag(){dataLayer.push(arguments);}gtag(\\'js\\', new Date());gtag(\\'config\\', \\'UA-27924384-1\\');\\n  </script>\\n </body>\\n</html>'"
            ],
            "application/vnd.google.colaboratory.intrinsic+json": {
              "type": "string"
            }
          },
          "metadata": {},
          "execution_count": 9
        }
      ],
      "source": [
        "soup.prettify()"
      ]
    },
    {
      "cell_type": "code",
      "execution_count": null,
      "metadata": {
        "id": "4duKEitjXgwF"
      },
      "outputs": [],
      "source": [
        "# creating an Empty List to store individual players data\n",
        "arr=[]"
      ]
    },
    {
      "cell_type": "code",
      "execution_count": null,
      "metadata": {
        "id": "5YBSiP7KW7V9"
      },
      "outputs": [],
      "source": [
        "# appending players data into the list \n",
        "\n",
        "arr = [i for i in soup.findAll('tr')]"
      ]
    },
    {
      "cell_type": "code",
      "execution_count": null,
      "metadata": {
        "id": "WDxgSI_olYax"
      },
      "outputs": [],
      "source": [
        "del arr[0]"
      ]
    },
    {
      "cell_type": "code",
      "execution_count": null,
      "metadata": {
        "colab": {
          "base_uri": "https://localhost:8080/"
        },
        "id": "HhErTbG3l0Xw",
        "outputId": "d2339232-6e76-454f-a4d0-4d7d4bfb106a"
      },
      "outputs": [
        {
          "output_type": "execute_result",
          "data": {
            "text/plain": [
              "<tr>\n",
              "<td class=\"col-avatar\"><figure class=\"avatar updated \" data-tip-pos=\"right\" role=\"tooltip\">\n",
              "<img alt=\"\" class=\"player-check\" data-root=\"https://cdn.sofifa.net/players/\" data-src=\"https://cdn.sofifa.net/players/209/331/23_60.png\" data-srcset=\"https://cdn.sofifa.net/players/209/331/23_120.png 2x, https://cdn.sofifa.net/players/209/331/23_180.png 3x\" data-type=\"player\" id=\"209331\" src=\"https://cdn.sofifa.net/players/notfound_0_60.png\"/>\n",
              "<div class=\"tip\"><div class=\"block-quarter half-spacing pure-u-1-1\">FIFA 23 Jan 25, 2023</div><div class=\"block-quarter pure-g\"><span class=\"pure-u-17-24\"><span class=\"bp3-tag p p-90\">90</span> <svg class=\"go-down\" height=\"18\" viewbox=\"0 0 24 24\" width=\"18\"><line x1=\"7\" x2=\"17\" y1=\"7\" y2=\"17\"></line><polyline points=\"17 7 17 17 7 17\"></polyline></svg> <span class=\"bp3-tag p p-89\">89</span></span> <abbr class=\"pure-u-7-24\">Dribbling</abbr></div><div class=\"block-half pure-g\"><abbr class=\"pure-u-7-24\">Contract Valid Until</abbr> <span class=\"pure-u-17-24\">2023 <svg class=\"go\" height=\"16\" viewbox=\"0 0 24 24\" width=\"16\"><line x1=\"5\" x2=\"19\" y1=\"12\" y2=\"12\"></line><polyline points=\"12 5 19 12 12 19\"></polyline></svg> 2025</span></div></div>\n",
              "</figure></td>\n",
              "<td class=\"col-name\">\n",
              "<a aria-label=\"Mohamed Salah\" data-tip-pos=\"top\" href=\"/player/209331/mohamed-salah/230011/\" role=\"tooltip\"><div class=\"ellipsis\">M. Salah</div></a><img alt=\"\" class=\"flag\" data-src=\"https://cdn.sofifa.net/flags/eg.png\" data-srcset=\"https://cdn.sofifa.net/flags/eg@2x.png 2x, https://cdn.sofifa.net/flags/eg@3x.png 3x\" height=\"16\" src=\"https://cdn.sofifa.net/pixel.gif\" title=\"Egypt\" width=\"21\"/> <a href=\"/players?pn=23\" rel=\"nofollow\"><span class=\"pos pos23\">RW</span></a></td><td class=\"col col-ae\" data-col=\"ae\">30</td><td class=\"col col-oa col-sort\" data-col=\"oa\"><span class=\"bp3-tag p p-90\">90</span></td><td class=\"col col-pt\" data-col=\"pt\"><span class=\"bp3-tag p p-90\">90</span></td><td class=\"col-name\">\n",
              "<div class=\"ellipsis\"><figure class=\"avatar avatar-sm transparent\">\n",
              "<img alt=\"\" class=\"team\" data-root=\"https://cdn.sofifa.net/teams/\" data-src=\"https://cdn.sofifa.net/teams/9/30.png\" data-srcset=\"https://cdn.sofifa.net/teams/9/60.png 2x, https://cdn.sofifa.net/teams/9/90.png 3x\" data-type=\"team\" src=\"https://cdn.sofifa.net/teams/notfound_30.png\"/>\n",
              "</figure>\n",
              "<a href=\"/team/9/liverpool/\">Liverpool</a><div class=\"sub\">\n",
              "2017 ~ 2025</div>\n",
              "</div>\n",
              "</td><td class=\"col col-vl\" data-col=\"vl\">€115.5M</td><td class=\"col col-wg\" data-col=\"wg\">€270K</td><td class=\"col col-tt\" data-col=\"tt\"><span class=\"bp3-tag p\">2224</span></td></tr>"
            ]
          },
          "metadata": {},
          "execution_count": 13
        }
      ],
      "source": [
        "arr[5]"
      ]
    },
    {
      "cell_type": "code",
      "execution_count": null,
      "metadata": {
        "colab": {
          "base_uri": "https://localhost:8080/"
        },
        "id": "a5ddam_0YBmy",
        "outputId": "d2c61555-a361-46af-dc5b-a6541b621fb9"
      },
      "outputs": [
        {
          "output_type": "execute_result",
          "data": {
            "text/plain": [
              "'https://cdn.sofifa.net/players/231/747/23_120.png'"
            ],
            "application/vnd.google.colaboratory.intrinsic+json": {
              "type": "string"
            }
          },
          "metadata": {},
          "execution_count": 14
        }
      ],
      "source": [
        "# using RE to get IMAGE LINK\n",
        "\n",
        "re.sub('^<img.*data-srcset=\"| .*/>', '' , str(arr[0].find('img',{\"class\": \"player-check\"})))"
      ]
    },
    {
      "cell_type": "code",
      "execution_count": null,
      "metadata": {
        "colab": {
          "base_uri": "https://localhost:8080/"
        },
        "id": "mlsxrAwblhmB",
        "outputId": "f3c45416-8b2d-4017-9089-ba8eff92e5b9"
      },
      "outputs": [
        {
          "output_type": "execute_result",
          "data": {
            "text/plain": [
              "'K. Mbappé'"
            ],
            "application/vnd.google.colaboratory.intrinsic+json": {
              "type": "string"
            }
          },
          "metadata": {},
          "execution_count": 15
        }
      ],
      "source": [
        "# using RE to get Players Name \n",
        "\n",
        "re.sub('^<a.*\">|<.*>','',str(arr[0].find('a',{'role':\"tooltip\"})))"
      ]
    },
    {
      "cell_type": "code",
      "execution_count": null,
      "metadata": {
        "colab": {
          "base_uri": "https://localhost:8080/"
        },
        "id": "PSCw09o-sBqT",
        "outputId": "1dc1378e-d3e0-457a-e119-827db6df482a"
      },
      "outputs": [
        {
          "output_type": "execute_result",
          "data": {
            "text/plain": [
              "'23'"
            ],
            "application/vnd.google.colaboratory.intrinsic+json": {
              "type": "string"
            }
          },
          "metadata": {},
          "execution_count": 16
        }
      ],
      "source": [
        "# using RE to get Players Age\n",
        "\n",
        "re.sub('^<t.*\">|<.*>','',str(arr[0].find('td',{'class': 'col col-ae'})))"
      ]
    },
    {
      "cell_type": "code",
      "execution_count": 145,
      "metadata": {
        "colab": {
          "base_uri": "https://localhost:8080/",
          "height": 35
        },
        "id": "4aVCitMatS0_",
        "outputId": "e6d0e22d-d962-4c60-93d7-c48ad3d745b2"
      },
      "outputs": [
        {
          "output_type": "execute_result",
          "data": {
            "text/plain": [
              "'90'"
            ],
            "application/vnd.google.colaboratory.intrinsic+json": {
              "type": "string"
            }
          },
          "metadata": {},
          "execution_count": 145
        }
      ],
      "source": [
        "# using RE to get Players OVA\n",
        "\n",
        "re.sub('^<.*\">|<.*>','',str(arr[5].find('td',{'class': 'col col-oa col-sort'})))"
      ]
    },
    {
      "cell_type": "code",
      "execution_count": null,
      "metadata": {
        "colab": {
          "base_uri": "https://localhost:8080/"
        },
        "id": "DmZffxImuFB-",
        "outputId": "2f58d3d4-8dbd-4b5a-ff53-2038b9014199"
      },
      "outputs": [
        {
          "output_type": "execute_result",
          "data": {
            "text/plain": [
              "'95'"
            ],
            "application/vnd.google.colaboratory.intrinsic+json": {
              "type": "string"
            }
          },
          "metadata": {},
          "execution_count": 18
        }
      ],
      "source": [
        "# using RE to get Players POT\n",
        "\n",
        "re.sub('^<.*\">|<.*>','',str(arr[0].find('td',{'class': 'col col-pt'})))"
      ]
    },
    {
      "cell_type": "code",
      "execution_count": null,
      "metadata": {
        "colab": {
          "base_uri": "https://localhost:8080/"
        },
        "id": "ns2Qwgpzu201",
        "outputId": "425fa9c5-6223-44dc-d085-bc15390a8fce"
      },
      "outputs": [
        {
          "output_type": "execute_result",
          "data": {
            "text/plain": [
              "'Paris Saint Germain'"
            ],
            "application/vnd.google.colaboratory.intrinsic+json": {
              "type": "string"
            }
          },
          "metadata": {},
          "execution_count": 19
        }
      ],
      "source": [
        "# using RE to get Players Team \n",
        "\n",
        "re.sub('^<.*\">|<.*>','',str(arr[0].findAll(\"a\")[-1]))"
      ]
    },
    {
      "cell_type": "code",
      "execution_count": null,
      "metadata": {
        "colab": {
          "base_uri": "https://localhost:8080/"
        },
        "id": "w10jmDDwxXQV",
        "outputId": "b6ba46fd-5793-44b1-d1bf-1536de7c4839"
      },
      "outputs": [
        {
          "output_type": "execute_result",
          "data": {
            "text/plain": [
              "'2018 ~ 2024'"
            ],
            "application/vnd.google.colaboratory.intrinsic+json": {
              "type": "string"
            }
          },
          "metadata": {},
          "execution_count": 20
        }
      ],
      "source": [
        "# using RE to get Players Contract(duration)\n",
        "\n",
        "re.sub('^<.*\\n|<.*>','',str(arr[0].find('div',{'class': 'sub'})))"
      ]
    },
    {
      "cell_type": "code",
      "execution_count": null,
      "metadata": {
        "colab": {
          "base_uri": "https://localhost:8080/"
        },
        "id": "cWZOOg9myiba",
        "outputId": "ac3eae1e-2b65-4e54-c50b-32613573a4fe"
      },
      "outputs": [
        {
          "output_type": "execute_result",
          "data": {
            "text/plain": [
              "'190.5M'"
            ],
            "application/vnd.google.colaboratory.intrinsic+json": {
              "type": "string"
            }
          },
          "metadata": {},
          "execution_count": 21
        }
      ],
      "source": [
        "# using RE to get Players Value\n",
        "\n",
        "re.sub('^<.*\">€|<.*>','',str(arr[0].find(\"td\",{'class':\"col col-vl\"})))"
      ]
    },
    {
      "cell_type": "code",
      "execution_count": null,
      "metadata": {
        "colab": {
          "base_uri": "https://localhost:8080/"
        },
        "id": "M25mAzlQzGZQ",
        "outputId": "5f041563-ce95-4d14-d199-3755f4bc51b3"
      },
      "outputs": [
        {
          "output_type": "execute_result",
          "data": {
            "text/plain": [
              "'230K'"
            ],
            "application/vnd.google.colaboratory.intrinsic+json": {
              "type": "string"
            }
          },
          "metadata": {},
          "execution_count": 22
        }
      ],
      "source": [
        "# using RE to get Players Wage\n",
        "\n",
        "re.sub('^<.*\">€|<.*>','',str(arr[0].find(\"td\",{'class':\"col col-wg\"})))"
      ]
    },
    {
      "cell_type": "code",
      "execution_count": null,
      "metadata": {
        "colab": {
          "base_uri": "https://localhost:8080/"
        },
        "id": "qABAFbyKzaMd",
        "outputId": "bb65f9e2-52d0-4715-9b71-b84bd6a17e79"
      },
      "outputs": [
        {
          "output_type": "execute_result",
          "data": {
            "text/plain": [
              "'2181'"
            ],
            "application/vnd.google.colaboratory.intrinsic+json": {
              "type": "string"
            }
          },
          "metadata": {},
          "execution_count": 23
        }
      ],
      "source": [
        "# using RE to get Players Total Rating\n",
        "\n",
        "re.sub('^<.*\">|<.*>','',str(arr[0].find('span',{'class': 'bp3-tag p'})))"
      ]
    },
    {
      "cell_type": "markdown",
      "metadata": {
        "id": "gnZvTgIUz8-9"
      },
      "source": [
        "# Creating Dataframe"
      ]
    },
    {
      "cell_type": "code",
      "execution_count": null,
      "metadata": {
        "id": "VmKbSKtE0Bnz"
      },
      "outputs": [],
      "source": [
        "# defining columns\n",
        "\n",
        "columns=['Image_link','Name','Age','OVA','POT','Team','Contract','Value','Wage','Total']"
      ]
    },
    {
      "cell_type": "code",
      "execution_count": 147,
      "metadata": {
        "id": "wyNZU8S40bML"
      },
      "outputs": [],
      "source": [
        "# creating dataframe named fifa_final\n",
        "\n",
        "fifa_final = pd.DataFrame()\n",
        "\n",
        "for i in range(0,541,60):\n",
        "  url = f'https://sofifa.com/players?r=230011&set=true&offset={i}'\n",
        "  req=requests.get(url,headers=headers)\n",
        "  if req.status_code == 200:\n",
        "    soup = BeautifulSoup(req.content)\n",
        "    lists=[[] for _ in range(10)]\n",
        "    # storing data \n",
        "\n",
        "    for i in soup.findAll('tr'):\n",
        "      Image_link = re.sub('^<img.*data-srcset=\"| .*/>', '' , str(i.find('img',{\"class\": \"player-check\"})))\n",
        "      Name = re.sub('^<a.*\">|<.*>','',str(i.find('a',{'role':\"tooltip\"})))\n",
        "      Age = re.sub('^<t.*\">|<.*>','',str(i.find('td',{'class': 'col col-ae'})))\n",
        "      OVA = re.sub('^<.*\">|<.*>','',str(i.find('td',{'class': 'col col-oa col-sort'})))\n",
        "      POT = re.sub('^<.*\">|<.*>','',str(i.find('td',{'class': 'col col-pt'})))\n",
        "      team = re.sub('^<.*\">|<.*>','',str(i.findAll(\"a\")[-1]))\n",
        "      duration = re.sub('^<.*\\n|<.*>','',str(i.find('div',{'class': 'sub'})))\n",
        "      value = re.sub('^<.*\">€|<.*>','',str(i.find(\"td\",{'class':\"col col-vl\"})))\n",
        "      wage = re.sub('^<.*\">€|<.*>','',str(i.find(\"td\",{'class':\"col col-wg\"})))\n",
        "      total = re.sub('^<.*\">|<.*>','',str(i.find('span',{'class': 'bp3-tag p'})))\n",
        "\n",
        "      # appending data into lists\n",
        "\n",
        "      lists[0].append(Image_link)\n",
        "      lists[1].append(Name)\n",
        "      lists[2].append(Age)\n",
        "      lists[3].append(OVA)\n",
        "      lists[4].append(POT)\n",
        "      lists[5].append(team)\n",
        "      lists[6].append(duration)\n",
        "      lists[7].append(value)\n",
        "      lists[8].append(wage)\n",
        "      lists[9].append(total)\n",
        "\n",
        "# updating DataFrame\n",
        "\n",
        "  fifa = pd.DataFrame({\"Image_link\":lists[0],\n",
        "                        \"Name\": lists[1],\n",
        "                        \"Age\": lists[2],\n",
        "                        \"OVA\": lists[3],\n",
        "                        \"POT\": lists[4],\n",
        "                        \"Team\": lists[5],\n",
        "                        \"Duration\": lists[6],\n",
        "                        \"Value\": lists[7],\n",
        "                        \"Wage\": lists[8],\n",
        "                        \"Total_stats\": lists[9]})\n",
        "\n",
        "\n",
        "  fifa.drop(0, inplace =True)\n",
        "\n",
        "  fifa['Age'] = pd.to_numeric(fifa['Age'])\n",
        "  fifa['OVA'] = pd.to_numeric(fifa['OVA'])\n",
        "  fifa['POT'] = pd.to_numeric(fifa['POT'])\n",
        "  fifa['Total_stats'] = pd.to_numeric(fifa['Total_stats'])\n",
        "\n",
        "# appending data into fifa_final DataFrame\n",
        "  fifa_final = fifa_final.append(fifa, ignore_index=True)\n",
        "\n"
      ]
    },
    {
      "cell_type": "code",
      "execution_count": null,
      "metadata": {
        "colab": {
          "base_uri": "https://localhost:8080/"
        },
        "id": "fqnz1gcB3DjX",
        "outputId": "8bbb354b-07a0-4a5c-8dd7-74b47f49ed7c"
      },
      "outputs": [
        {
          "output_type": "execute_result",
          "data": {
            "text/plain": [
              "(600, 10)"
            ]
          },
          "metadata": {},
          "execution_count": 26
        }
      ],
      "source": [
        "fifa_final.shape"
      ]
    },
    {
      "cell_type": "code",
      "execution_count": 184,
      "metadata": {
        "id": "43Amc1bQlk5G"
      },
      "outputs": [],
      "source": [
        "# Delete the  Image Link , Duration column\n",
        "# since we dont have any further use for the above columns\n",
        "\n",
        "fifa_final.drop(['Image_link','Duration'],axis=1, inplace= True)"
      ]
    },
    {
      "cell_type": "code",
      "execution_count": 196,
      "metadata": {
        "colab": {
          "base_uri": "https://localhost:8080/",
          "height": 206
        },
        "id": "w4FfCwxjgHNq",
        "outputId": "37ea62d7-13e8-4af5-9675-4b112fba2ba4"
      },
      "outputs": [
        {
          "output_type": "execute_result",
          "data": {
            "text/plain": [
              "             Name  Age  OVA  POT                 Team  Value(M)  Wage  \\\n",
              "0       K. Mbappé   23   91   95  Paris Saint Germain     190.5  230K   \n",
              "1    K. De Bruyne   31   91   91      Manchester City     107.5  350K   \n",
              "2  R. Lewandowski   33   91   91         FC Barcelona      84.0  420K   \n",
              "3      K. Benzema   34   91   91          Real Madrid      64.0  450K   \n",
              "4        L. Messi   35   91   91  Paris Saint Germain      54.0  195K   \n",
              "\n",
              "   Total_stats  \n",
              "0         2181  \n",
              "1         2298  \n",
              "2         2205  \n",
              "3         2147  \n",
              "4         2190  "
            ],
            "text/html": [
              "\n",
              "  <div id=\"df-29d6d264-bb65-41b4-aaa8-5766670902ea\">\n",
              "    <div class=\"colab-df-container\">\n",
              "      <div>\n",
              "<style scoped>\n",
              "    .dataframe tbody tr th:only-of-type {\n",
              "        vertical-align: middle;\n",
              "    }\n",
              "\n",
              "    .dataframe tbody tr th {\n",
              "        vertical-align: top;\n",
              "    }\n",
              "\n",
              "    .dataframe thead th {\n",
              "        text-align: right;\n",
              "    }\n",
              "</style>\n",
              "<table border=\"1\" class=\"dataframe\">\n",
              "  <thead>\n",
              "    <tr style=\"text-align: right;\">\n",
              "      <th></th>\n",
              "      <th>Name</th>\n",
              "      <th>Age</th>\n",
              "      <th>OVA</th>\n",
              "      <th>POT</th>\n",
              "      <th>Team</th>\n",
              "      <th>Value(M)</th>\n",
              "      <th>Wage</th>\n",
              "      <th>Total_stats</th>\n",
              "    </tr>\n",
              "  </thead>\n",
              "  <tbody>\n",
              "    <tr>\n",
              "      <th>0</th>\n",
              "      <td>K. Mbappé</td>\n",
              "      <td>23</td>\n",
              "      <td>91</td>\n",
              "      <td>95</td>\n",
              "      <td>Paris Saint Germain</td>\n",
              "      <td>190.5</td>\n",
              "      <td>230K</td>\n",
              "      <td>2181</td>\n",
              "    </tr>\n",
              "    <tr>\n",
              "      <th>1</th>\n",
              "      <td>K. De Bruyne</td>\n",
              "      <td>31</td>\n",
              "      <td>91</td>\n",
              "      <td>91</td>\n",
              "      <td>Manchester City</td>\n",
              "      <td>107.5</td>\n",
              "      <td>350K</td>\n",
              "      <td>2298</td>\n",
              "    </tr>\n",
              "    <tr>\n",
              "      <th>2</th>\n",
              "      <td>R. Lewandowski</td>\n",
              "      <td>33</td>\n",
              "      <td>91</td>\n",
              "      <td>91</td>\n",
              "      <td>FC Barcelona</td>\n",
              "      <td>84.0</td>\n",
              "      <td>420K</td>\n",
              "      <td>2205</td>\n",
              "    </tr>\n",
              "    <tr>\n",
              "      <th>3</th>\n",
              "      <td>K. Benzema</td>\n",
              "      <td>34</td>\n",
              "      <td>91</td>\n",
              "      <td>91</td>\n",
              "      <td>Real Madrid</td>\n",
              "      <td>64.0</td>\n",
              "      <td>450K</td>\n",
              "      <td>2147</td>\n",
              "    </tr>\n",
              "    <tr>\n",
              "      <th>4</th>\n",
              "      <td>L. Messi</td>\n",
              "      <td>35</td>\n",
              "      <td>91</td>\n",
              "      <td>91</td>\n",
              "      <td>Paris Saint Germain</td>\n",
              "      <td>54.0</td>\n",
              "      <td>195K</td>\n",
              "      <td>2190</td>\n",
              "    </tr>\n",
              "  </tbody>\n",
              "</table>\n",
              "</div>\n",
              "      <button class=\"colab-df-convert\" onclick=\"convertToInteractive('df-29d6d264-bb65-41b4-aaa8-5766670902ea')\"\n",
              "              title=\"Convert this dataframe to an interactive table.\"\n",
              "              style=\"display:none;\">\n",
              "        \n",
              "  <svg xmlns=\"http://www.w3.org/2000/svg\" height=\"24px\"viewBox=\"0 0 24 24\"\n",
              "       width=\"24px\">\n",
              "    <path d=\"M0 0h24v24H0V0z\" fill=\"none\"/>\n",
              "    <path d=\"M18.56 5.44l.94 2.06.94-2.06 2.06-.94-2.06-.94-.94-2.06-.94 2.06-2.06.94zm-11 1L8.5 8.5l.94-2.06 2.06-.94-2.06-.94L8.5 2.5l-.94 2.06-2.06.94zm10 10l.94 2.06.94-2.06 2.06-.94-2.06-.94-.94-2.06-.94 2.06-2.06.94z\"/><path d=\"M17.41 7.96l-1.37-1.37c-.4-.4-.92-.59-1.43-.59-.52 0-1.04.2-1.43.59L10.3 9.45l-7.72 7.72c-.78.78-.78 2.05 0 2.83L4 21.41c.39.39.9.59 1.41.59.51 0 1.02-.2 1.41-.59l7.78-7.78 2.81-2.81c.8-.78.8-2.07 0-2.86zM5.41 20L4 18.59l7.72-7.72 1.47 1.35L5.41 20z\"/>\n",
              "  </svg>\n",
              "      </button>\n",
              "      \n",
              "  <style>\n",
              "    .colab-df-container {\n",
              "      display:flex;\n",
              "      flex-wrap:wrap;\n",
              "      gap: 12px;\n",
              "    }\n",
              "\n",
              "    .colab-df-convert {\n",
              "      background-color: #E8F0FE;\n",
              "      border: none;\n",
              "      border-radius: 50%;\n",
              "      cursor: pointer;\n",
              "      display: none;\n",
              "      fill: #1967D2;\n",
              "      height: 32px;\n",
              "      padding: 0 0 0 0;\n",
              "      width: 32px;\n",
              "    }\n",
              "\n",
              "    .colab-df-convert:hover {\n",
              "      background-color: #E2EBFA;\n",
              "      box-shadow: 0px 1px 2px rgba(60, 64, 67, 0.3), 0px 1px 3px 1px rgba(60, 64, 67, 0.15);\n",
              "      fill: #174EA6;\n",
              "    }\n",
              "\n",
              "    [theme=dark] .colab-df-convert {\n",
              "      background-color: #3B4455;\n",
              "      fill: #D2E3FC;\n",
              "    }\n",
              "\n",
              "    [theme=dark] .colab-df-convert:hover {\n",
              "      background-color: #434B5C;\n",
              "      box-shadow: 0px 1px 3px 1px rgba(0, 0, 0, 0.15);\n",
              "      filter: drop-shadow(0px 1px 2px rgba(0, 0, 0, 0.3));\n",
              "      fill: #FFFFFF;\n",
              "    }\n",
              "  </style>\n",
              "\n",
              "      <script>\n",
              "        const buttonEl =\n",
              "          document.querySelector('#df-29d6d264-bb65-41b4-aaa8-5766670902ea button.colab-df-convert');\n",
              "        buttonEl.style.display =\n",
              "          google.colab.kernel.accessAllowed ? 'block' : 'none';\n",
              "\n",
              "        async function convertToInteractive(key) {\n",
              "          const element = document.querySelector('#df-29d6d264-bb65-41b4-aaa8-5766670902ea');\n",
              "          const dataTable =\n",
              "            await google.colab.kernel.invokeFunction('convertToInteractive',\n",
              "                                                     [key], {});\n",
              "          if (!dataTable) return;\n",
              "\n",
              "          const docLinkHtml = 'Like what you see? Visit the ' +\n",
              "            '<a target=\"_blank\" href=https://colab.research.google.com/notebooks/data_table.ipynb>data table notebook</a>'\n",
              "            + ' to learn more about interactive tables.';\n",
              "          element.innerHTML = '';\n",
              "          dataTable['output_type'] = 'display_data';\n",
              "          await google.colab.output.renderOutput(dataTable, element);\n",
              "          const docLink = document.createElement('div');\n",
              "          docLink.innerHTML = docLinkHtml;\n",
              "          element.appendChild(docLink);\n",
              "        }\n",
              "      </script>\n",
              "    </div>\n",
              "  </div>\n",
              "  "
            ]
          },
          "metadata": {},
          "execution_count": 196
        }
      ],
      "source": [
        "fifa_final.head()"
      ]
    },
    {
      "cell_type": "code",
      "execution_count": 195,
      "metadata": {
        "colab": {
          "base_uri": "https://localhost:8080/",
          "height": 206
        },
        "id": "a29bOpOMgHTz",
        "outputId": "7bf1e79e-ea1b-4daf-b2be-ecea00cea664"
      },
      "outputs": [
        {
          "output_type": "execute_result",
          "data": {
            "text/plain": [
              "                Name  Age  OVA  POT                 Team  Value(M) Wage  \\\n",
              "595        J. Correa   27   79   79                Inter      19.0  71K   \n",
              "596     L. Zelarayán   30   79   79        Columbus Crew      17.0  12K   \n",
              "597        F. Armani   35   79   79          River Plate       1.9  10K   \n",
              "598        S. Azmoun   27   79   79  Bayer 04 Leverkusen      19.0  60K   \n",
              "599  F. Bernardeschi   28   79   79              Toronto      17.5  12K   \n",
              "\n",
              "     Total_stats  \n",
              "595         1945  \n",
              "596         2032  \n",
              "597         1291  \n",
              "598         1973  \n",
              "599         2089  "
            ],
            "text/html": [
              "\n",
              "  <div id=\"df-75ff251a-348f-4aa9-b12f-c7c443f2b436\">\n",
              "    <div class=\"colab-df-container\">\n",
              "      <div>\n",
              "<style scoped>\n",
              "    .dataframe tbody tr th:only-of-type {\n",
              "        vertical-align: middle;\n",
              "    }\n",
              "\n",
              "    .dataframe tbody tr th {\n",
              "        vertical-align: top;\n",
              "    }\n",
              "\n",
              "    .dataframe thead th {\n",
              "        text-align: right;\n",
              "    }\n",
              "</style>\n",
              "<table border=\"1\" class=\"dataframe\">\n",
              "  <thead>\n",
              "    <tr style=\"text-align: right;\">\n",
              "      <th></th>\n",
              "      <th>Name</th>\n",
              "      <th>Age</th>\n",
              "      <th>OVA</th>\n",
              "      <th>POT</th>\n",
              "      <th>Team</th>\n",
              "      <th>Value(M)</th>\n",
              "      <th>Wage</th>\n",
              "      <th>Total_stats</th>\n",
              "    </tr>\n",
              "  </thead>\n",
              "  <tbody>\n",
              "    <tr>\n",
              "      <th>595</th>\n",
              "      <td>J. Correa</td>\n",
              "      <td>27</td>\n",
              "      <td>79</td>\n",
              "      <td>79</td>\n",
              "      <td>Inter</td>\n",
              "      <td>19.0</td>\n",
              "      <td>71K</td>\n",
              "      <td>1945</td>\n",
              "    </tr>\n",
              "    <tr>\n",
              "      <th>596</th>\n",
              "      <td>L. Zelarayán</td>\n",
              "      <td>30</td>\n",
              "      <td>79</td>\n",
              "      <td>79</td>\n",
              "      <td>Columbus Crew</td>\n",
              "      <td>17.0</td>\n",
              "      <td>12K</td>\n",
              "      <td>2032</td>\n",
              "    </tr>\n",
              "    <tr>\n",
              "      <th>597</th>\n",
              "      <td>F. Armani</td>\n",
              "      <td>35</td>\n",
              "      <td>79</td>\n",
              "      <td>79</td>\n",
              "      <td>River Plate</td>\n",
              "      <td>1.9</td>\n",
              "      <td>10K</td>\n",
              "      <td>1291</td>\n",
              "    </tr>\n",
              "    <tr>\n",
              "      <th>598</th>\n",
              "      <td>S. Azmoun</td>\n",
              "      <td>27</td>\n",
              "      <td>79</td>\n",
              "      <td>79</td>\n",
              "      <td>Bayer 04 Leverkusen</td>\n",
              "      <td>19.0</td>\n",
              "      <td>60K</td>\n",
              "      <td>1973</td>\n",
              "    </tr>\n",
              "    <tr>\n",
              "      <th>599</th>\n",
              "      <td>F. Bernardeschi</td>\n",
              "      <td>28</td>\n",
              "      <td>79</td>\n",
              "      <td>79</td>\n",
              "      <td>Toronto</td>\n",
              "      <td>17.5</td>\n",
              "      <td>12K</td>\n",
              "      <td>2089</td>\n",
              "    </tr>\n",
              "  </tbody>\n",
              "</table>\n",
              "</div>\n",
              "      <button class=\"colab-df-convert\" onclick=\"convertToInteractive('df-75ff251a-348f-4aa9-b12f-c7c443f2b436')\"\n",
              "              title=\"Convert this dataframe to an interactive table.\"\n",
              "              style=\"display:none;\">\n",
              "        \n",
              "  <svg xmlns=\"http://www.w3.org/2000/svg\" height=\"24px\"viewBox=\"0 0 24 24\"\n",
              "       width=\"24px\">\n",
              "    <path d=\"M0 0h24v24H0V0z\" fill=\"none\"/>\n",
              "    <path d=\"M18.56 5.44l.94 2.06.94-2.06 2.06-.94-2.06-.94-.94-2.06-.94 2.06-2.06.94zm-11 1L8.5 8.5l.94-2.06 2.06-.94-2.06-.94L8.5 2.5l-.94 2.06-2.06.94zm10 10l.94 2.06.94-2.06 2.06-.94-2.06-.94-.94-2.06-.94 2.06-2.06.94z\"/><path d=\"M17.41 7.96l-1.37-1.37c-.4-.4-.92-.59-1.43-.59-.52 0-1.04.2-1.43.59L10.3 9.45l-7.72 7.72c-.78.78-.78 2.05 0 2.83L4 21.41c.39.39.9.59 1.41.59.51 0 1.02-.2 1.41-.59l7.78-7.78 2.81-2.81c.8-.78.8-2.07 0-2.86zM5.41 20L4 18.59l7.72-7.72 1.47 1.35L5.41 20z\"/>\n",
              "  </svg>\n",
              "      </button>\n",
              "      \n",
              "  <style>\n",
              "    .colab-df-container {\n",
              "      display:flex;\n",
              "      flex-wrap:wrap;\n",
              "      gap: 12px;\n",
              "    }\n",
              "\n",
              "    .colab-df-convert {\n",
              "      background-color: #E8F0FE;\n",
              "      border: none;\n",
              "      border-radius: 50%;\n",
              "      cursor: pointer;\n",
              "      display: none;\n",
              "      fill: #1967D2;\n",
              "      height: 32px;\n",
              "      padding: 0 0 0 0;\n",
              "      width: 32px;\n",
              "    }\n",
              "\n",
              "    .colab-df-convert:hover {\n",
              "      background-color: #E2EBFA;\n",
              "      box-shadow: 0px 1px 2px rgba(60, 64, 67, 0.3), 0px 1px 3px 1px rgba(60, 64, 67, 0.15);\n",
              "      fill: #174EA6;\n",
              "    }\n",
              "\n",
              "    [theme=dark] .colab-df-convert {\n",
              "      background-color: #3B4455;\n",
              "      fill: #D2E3FC;\n",
              "    }\n",
              "\n",
              "    [theme=dark] .colab-df-convert:hover {\n",
              "      background-color: #434B5C;\n",
              "      box-shadow: 0px 1px 3px 1px rgba(0, 0, 0, 0.15);\n",
              "      filter: drop-shadow(0px 1px 2px rgba(0, 0, 0, 0.3));\n",
              "      fill: #FFFFFF;\n",
              "    }\n",
              "  </style>\n",
              "\n",
              "      <script>\n",
              "        const buttonEl =\n",
              "          document.querySelector('#df-75ff251a-348f-4aa9-b12f-c7c443f2b436 button.colab-df-convert');\n",
              "        buttonEl.style.display =\n",
              "          google.colab.kernel.accessAllowed ? 'block' : 'none';\n",
              "\n",
              "        async function convertToInteractive(key) {\n",
              "          const element = document.querySelector('#df-75ff251a-348f-4aa9-b12f-c7c443f2b436');\n",
              "          const dataTable =\n",
              "            await google.colab.kernel.invokeFunction('convertToInteractive',\n",
              "                                                     [key], {});\n",
              "          if (!dataTable) return;\n",
              "\n",
              "          const docLinkHtml = 'Like what you see? Visit the ' +\n",
              "            '<a target=\"_blank\" href=https://colab.research.google.com/notebooks/data_table.ipynb>data table notebook</a>'\n",
              "            + ' to learn more about interactive tables.';\n",
              "          element.innerHTML = '';\n",
              "          dataTable['output_type'] = 'display_data';\n",
              "          await google.colab.output.renderOutput(dataTable, element);\n",
              "          const docLink = document.createElement('div');\n",
              "          docLink.innerHTML = docLinkHtml;\n",
              "          element.appendChild(docLink);\n",
              "        }\n",
              "      </script>\n",
              "    </div>\n",
              "  </div>\n",
              "  "
            ]
          },
          "metadata": {},
          "execution_count": 195
        }
      ],
      "source": [
        "fifa_final.tail()"
      ]
    },
    {
      "cell_type": "code",
      "execution_count": null,
      "metadata": {
        "colab": {
          "base_uri": "https://localhost:8080/"
        },
        "id": "dakZ4DMwgLFB",
        "outputId": "29d1fef4-3242-4a81-8121-ac7a4a9e63b5"
      },
      "outputs": [
        {
          "output_type": "execute_result",
          "data": {
            "text/plain": [
              "Index(['Image_link', 'Name', 'Age', 'OVA', 'POT', 'Team', 'Duration', 'Value',\n",
              "       'Wage', 'Total_stats'],\n",
              "      dtype='object')"
            ]
          },
          "metadata": {},
          "execution_count": 29
        }
      ],
      "source": [
        "fifa_final.columns"
      ]
    },
    {
      "cell_type": "code",
      "execution_count": null,
      "metadata": {
        "colab": {
          "base_uri": "https://localhost:8080/"
        },
        "id": "tTIUCBXHgQWq",
        "outputId": "7bc0ef42-c841-4b15-c982-2e9e796f4048"
      },
      "outputs": [
        {
          "output_type": "stream",
          "name": "stdout",
          "text": [
            "<class 'pandas.core.frame.DataFrame'>\n",
            "RangeIndex: 600 entries, 0 to 599\n",
            "Data columns (total 10 columns):\n",
            " #   Column       Non-Null Count  Dtype \n",
            "---  ------       --------------  ----- \n",
            " 0   Image_link   600 non-null    object\n",
            " 1   Name         600 non-null    object\n",
            " 2   Age          600 non-null    int64 \n",
            " 3   OVA          600 non-null    int64 \n",
            " 4   POT          600 non-null    int64 \n",
            " 5   Team         600 non-null    object\n",
            " 6   Duration     600 non-null    object\n",
            " 7   Value        600 non-null    object\n",
            " 8   Wage         600 non-null    object\n",
            " 9   Total_stats  600 non-null    int64 \n",
            "dtypes: int64(4), object(6)\n",
            "memory usage: 47.0+ KB\n"
          ]
        }
      ],
      "source": [
        "# checking basic information of the dataset\n",
        "\n",
        "fifa_final.info()"
      ]
    },
    {
      "cell_type": "code",
      "execution_count": 194,
      "metadata": {
        "colab": {
          "base_uri": "https://localhost:8080/",
          "height": 300
        },
        "id": "uei9rU46gjVq",
        "outputId": "50c8d117-7185-40dc-b190-3d5f28e073ac"
      },
      "outputs": [
        {
          "output_type": "execute_result",
          "data": {
            "text/plain": [
              "              Age         OVA         POT    Value(M)  Total_stats\n",
              "count  600.000000  600.000000  600.000000  600.000000   600.000000\n",
              "mean    27.398333   81.915000   83.750000   34.275667  1953.541667\n",
              "std      3.961374    2.610709    3.230308   22.547575   265.848712\n",
              "min     17.000000   79.000000   79.000000    0.000000  1070.000000\n",
              "25%     24.750000   80.000000   81.000000   20.500000  1907.000000\n",
              "50%     27.000000   81.000000   83.000000   27.750000  2033.000000\n",
              "75%     30.000000   83.000000   86.000000   42.000000  2122.000000\n",
              "max     40.000000   91.000000   95.000000  190.500000  2312.000000"
            ],
            "text/html": [
              "\n",
              "  <div id=\"df-94d093f5-3190-4102-a600-569316a48357\">\n",
              "    <div class=\"colab-df-container\">\n",
              "      <div>\n",
              "<style scoped>\n",
              "    .dataframe tbody tr th:only-of-type {\n",
              "        vertical-align: middle;\n",
              "    }\n",
              "\n",
              "    .dataframe tbody tr th {\n",
              "        vertical-align: top;\n",
              "    }\n",
              "\n",
              "    .dataframe thead th {\n",
              "        text-align: right;\n",
              "    }\n",
              "</style>\n",
              "<table border=\"1\" class=\"dataframe\">\n",
              "  <thead>\n",
              "    <tr style=\"text-align: right;\">\n",
              "      <th></th>\n",
              "      <th>Age</th>\n",
              "      <th>OVA</th>\n",
              "      <th>POT</th>\n",
              "      <th>Value(M)</th>\n",
              "      <th>Total_stats</th>\n",
              "    </tr>\n",
              "  </thead>\n",
              "  <tbody>\n",
              "    <tr>\n",
              "      <th>count</th>\n",
              "      <td>600.000000</td>\n",
              "      <td>600.000000</td>\n",
              "      <td>600.000000</td>\n",
              "      <td>600.000000</td>\n",
              "      <td>600.000000</td>\n",
              "    </tr>\n",
              "    <tr>\n",
              "      <th>mean</th>\n",
              "      <td>27.398333</td>\n",
              "      <td>81.915000</td>\n",
              "      <td>83.750000</td>\n",
              "      <td>34.275667</td>\n",
              "      <td>1953.541667</td>\n",
              "    </tr>\n",
              "    <tr>\n",
              "      <th>std</th>\n",
              "      <td>3.961374</td>\n",
              "      <td>2.610709</td>\n",
              "      <td>3.230308</td>\n",
              "      <td>22.547575</td>\n",
              "      <td>265.848712</td>\n",
              "    </tr>\n",
              "    <tr>\n",
              "      <th>min</th>\n",
              "      <td>17.000000</td>\n",
              "      <td>79.000000</td>\n",
              "      <td>79.000000</td>\n",
              "      <td>0.000000</td>\n",
              "      <td>1070.000000</td>\n",
              "    </tr>\n",
              "    <tr>\n",
              "      <th>25%</th>\n",
              "      <td>24.750000</td>\n",
              "      <td>80.000000</td>\n",
              "      <td>81.000000</td>\n",
              "      <td>20.500000</td>\n",
              "      <td>1907.000000</td>\n",
              "    </tr>\n",
              "    <tr>\n",
              "      <th>50%</th>\n",
              "      <td>27.000000</td>\n",
              "      <td>81.000000</td>\n",
              "      <td>83.000000</td>\n",
              "      <td>27.750000</td>\n",
              "      <td>2033.000000</td>\n",
              "    </tr>\n",
              "    <tr>\n",
              "      <th>75%</th>\n",
              "      <td>30.000000</td>\n",
              "      <td>83.000000</td>\n",
              "      <td>86.000000</td>\n",
              "      <td>42.000000</td>\n",
              "      <td>2122.000000</td>\n",
              "    </tr>\n",
              "    <tr>\n",
              "      <th>max</th>\n",
              "      <td>40.000000</td>\n",
              "      <td>91.000000</td>\n",
              "      <td>95.000000</td>\n",
              "      <td>190.500000</td>\n",
              "      <td>2312.000000</td>\n",
              "    </tr>\n",
              "  </tbody>\n",
              "</table>\n",
              "</div>\n",
              "      <button class=\"colab-df-convert\" onclick=\"convertToInteractive('df-94d093f5-3190-4102-a600-569316a48357')\"\n",
              "              title=\"Convert this dataframe to an interactive table.\"\n",
              "              style=\"display:none;\">\n",
              "        \n",
              "  <svg xmlns=\"http://www.w3.org/2000/svg\" height=\"24px\"viewBox=\"0 0 24 24\"\n",
              "       width=\"24px\">\n",
              "    <path d=\"M0 0h24v24H0V0z\" fill=\"none\"/>\n",
              "    <path d=\"M18.56 5.44l.94 2.06.94-2.06 2.06-.94-2.06-.94-.94-2.06-.94 2.06-2.06.94zm-11 1L8.5 8.5l.94-2.06 2.06-.94-2.06-.94L8.5 2.5l-.94 2.06-2.06.94zm10 10l.94 2.06.94-2.06 2.06-.94-2.06-.94-.94-2.06-.94 2.06-2.06.94z\"/><path d=\"M17.41 7.96l-1.37-1.37c-.4-.4-.92-.59-1.43-.59-.52 0-1.04.2-1.43.59L10.3 9.45l-7.72 7.72c-.78.78-.78 2.05 0 2.83L4 21.41c.39.39.9.59 1.41.59.51 0 1.02-.2 1.41-.59l7.78-7.78 2.81-2.81c.8-.78.8-2.07 0-2.86zM5.41 20L4 18.59l7.72-7.72 1.47 1.35L5.41 20z\"/>\n",
              "  </svg>\n",
              "      </button>\n",
              "      \n",
              "  <style>\n",
              "    .colab-df-container {\n",
              "      display:flex;\n",
              "      flex-wrap:wrap;\n",
              "      gap: 12px;\n",
              "    }\n",
              "\n",
              "    .colab-df-convert {\n",
              "      background-color: #E8F0FE;\n",
              "      border: none;\n",
              "      border-radius: 50%;\n",
              "      cursor: pointer;\n",
              "      display: none;\n",
              "      fill: #1967D2;\n",
              "      height: 32px;\n",
              "      padding: 0 0 0 0;\n",
              "      width: 32px;\n",
              "    }\n",
              "\n",
              "    .colab-df-convert:hover {\n",
              "      background-color: #E2EBFA;\n",
              "      box-shadow: 0px 1px 2px rgba(60, 64, 67, 0.3), 0px 1px 3px 1px rgba(60, 64, 67, 0.15);\n",
              "      fill: #174EA6;\n",
              "    }\n",
              "\n",
              "    [theme=dark] .colab-df-convert {\n",
              "      background-color: #3B4455;\n",
              "      fill: #D2E3FC;\n",
              "    }\n",
              "\n",
              "    [theme=dark] .colab-df-convert:hover {\n",
              "      background-color: #434B5C;\n",
              "      box-shadow: 0px 1px 3px 1px rgba(0, 0, 0, 0.15);\n",
              "      filter: drop-shadow(0px 1px 2px rgba(0, 0, 0, 0.3));\n",
              "      fill: #FFFFFF;\n",
              "    }\n",
              "  </style>\n",
              "\n",
              "      <script>\n",
              "        const buttonEl =\n",
              "          document.querySelector('#df-94d093f5-3190-4102-a600-569316a48357 button.colab-df-convert');\n",
              "        buttonEl.style.display =\n",
              "          google.colab.kernel.accessAllowed ? 'block' : 'none';\n",
              "\n",
              "        async function convertToInteractive(key) {\n",
              "          const element = document.querySelector('#df-94d093f5-3190-4102-a600-569316a48357');\n",
              "          const dataTable =\n",
              "            await google.colab.kernel.invokeFunction('convertToInteractive',\n",
              "                                                     [key], {});\n",
              "          if (!dataTable) return;\n",
              "\n",
              "          const docLinkHtml = 'Like what you see? Visit the ' +\n",
              "            '<a target=\"_blank\" href=https://colab.research.google.com/notebooks/data_table.ipynb>data table notebook</a>'\n",
              "            + ' to learn more about interactive tables.';\n",
              "          element.innerHTML = '';\n",
              "          dataTable['output_type'] = 'display_data';\n",
              "          await google.colab.output.renderOutput(dataTable, element);\n",
              "          const docLink = document.createElement('div');\n",
              "          docLink.innerHTML = docLinkHtml;\n",
              "          element.appendChild(docLink);\n",
              "        }\n",
              "      </script>\n",
              "    </div>\n",
              "  </div>\n",
              "  "
            ]
          },
          "metadata": {},
          "execution_count": 194
        }
      ],
      "source": [
        "# checking statistical information of the dataset\n",
        "\n",
        "fifa_final.describe()"
      ]
    },
    {
      "cell_type": "markdown",
      "metadata": {
        "id": "4-C0qY_GhF5h"
      },
      "source": [
        "# EDA\n"
      ]
    },
    {
      "cell_type": "code",
      "execution_count": 143,
      "metadata": {
        "colab": {
          "base_uri": "https://localhost:8080/"
        },
        "id": "JIkfA-NVhIYA",
        "outputId": "0f38ffa2-50ac-433c-8a52-6fcc9958fb82"
      },
      "outputs": [
        {
          "output_type": "execute_result",
          "data": {
            "text/plain": [
              "Image_link     0\n",
              "Name           0\n",
              "Age            0\n",
              "OVA            0\n",
              "POT            0\n",
              "Team           0\n",
              "Duration       0\n",
              "Value          0\n",
              "Wage           0\n",
              "Total_stats    0\n",
              "dtype: int64"
            ]
          },
          "metadata": {},
          "execution_count": 143
        }
      ],
      "source": [
        "# How many null values are there in the column ?\n",
        "\n",
        "fifa_final.isna().sum()"
      ]
    },
    {
      "cell_type": "code",
      "execution_count": null,
      "metadata": {
        "colab": {
          "base_uri": "https://localhost:8080/"
        },
        "id": "XEpHInrvhbBp",
        "outputId": "40dc9ac5-10d7-4b75-840d-3e2b05b3e74d"
      },
      "outputs": [
        {
          "output_type": "execute_result",
          "data": {
            "text/plain": [
              "0"
            ]
          },
          "metadata": {},
          "execution_count": 33
        }
      ],
      "source": [
        "# how many null values are there in the dataset ?\n",
        "\n",
        "fifa_final.isna().sum().sum()"
      ]
    },
    {
      "cell_type": "code",
      "execution_count": null,
      "metadata": {
        "colab": {
          "base_uri": "https://localhost:8080/"
        },
        "id": "9Cas--yBiC5g",
        "outputId": "3b77201d-daba-4012-9ce5-bc8b1a7af733"
      },
      "outputs": [
        {
          "output_type": "execute_result",
          "data": {
            "text/plain": [
              "0"
            ]
          },
          "metadata": {},
          "execution_count": 34
        }
      ],
      "source": [
        "# check for duplicate values \n",
        "\n",
        "fifa_final.duplicated().sum()"
      ]
    },
    {
      "cell_type": "code",
      "execution_count": null,
      "metadata": {
        "colab": {
          "base_uri": "https://localhost:8080/"
        },
        "id": "Hh1IZSojkd5_",
        "outputId": "95613fa9-b50d-49ed-cf33-e00c6bdff92b"
      },
      "outputs": [
        {
          "output_type": "execute_result",
          "data": {
            "text/plain": [
              "(600, 10)"
            ]
          },
          "metadata": {},
          "execution_count": 35
        }
      ],
      "source": [
        "fifa_final.shape"
      ]
    },
    {
      "cell_type": "code",
      "execution_count": 186,
      "metadata": {
        "colab": {
          "base_uri": "https://localhost:8080/",
          "height": 424
        },
        "id": "9JFWg99FmnB2",
        "outputId": "a45a4dbc-83a9-4b45-ed50-be76c6a80dbd"
      },
      "outputs": [
        {
          "output_type": "execute_result",
          "data": {
            "text/plain": [
              "                Name  Age  OVA  POT                 Team   Value  Wage  \\\n",
              "0          K. Mbappé   23   91   95  Paris Saint Germain  190.5M  230K   \n",
              "1       K. De Bruyne   31   91   91      Manchester City  107.5M  350K   \n",
              "2     R. Lewandowski   33   91   91         FC Barcelona     84M  420K   \n",
              "3         K. Benzema   34   91   91          Real Madrid     64M  450K   \n",
              "4           L. Messi   35   91   91  Paris Saint Germain     54M  195K   \n",
              "..               ...  ...  ...  ...                  ...     ...   ...   \n",
              "595        J. Correa   27   79   79                Inter     19M   71K   \n",
              "596     L. Zelarayán   30   79   79        Columbus Crew     17M   12K   \n",
              "597        F. Armani   35   79   79          River Plate    1.9M   10K   \n",
              "598        S. Azmoun   27   79   79  Bayer 04 Leverkusen     19M   60K   \n",
              "599  F. Bernardeschi   28   79   79              Toronto   17.5M   12K   \n",
              "\n",
              "     Total_stats  \n",
              "0           2181  \n",
              "1           2298  \n",
              "2           2205  \n",
              "3           2147  \n",
              "4           2190  \n",
              "..           ...  \n",
              "595         1945  \n",
              "596         2032  \n",
              "597         1291  \n",
              "598         1973  \n",
              "599         2089  \n",
              "\n",
              "[600 rows x 8 columns]"
            ],
            "text/html": [
              "\n",
              "  <div id=\"df-ba003e6a-5dca-47d9-a12e-88d4c8c8d088\">\n",
              "    <div class=\"colab-df-container\">\n",
              "      <div>\n",
              "<style scoped>\n",
              "    .dataframe tbody tr th:only-of-type {\n",
              "        vertical-align: middle;\n",
              "    }\n",
              "\n",
              "    .dataframe tbody tr th {\n",
              "        vertical-align: top;\n",
              "    }\n",
              "\n",
              "    .dataframe thead th {\n",
              "        text-align: right;\n",
              "    }\n",
              "</style>\n",
              "<table border=\"1\" class=\"dataframe\">\n",
              "  <thead>\n",
              "    <tr style=\"text-align: right;\">\n",
              "      <th></th>\n",
              "      <th>Name</th>\n",
              "      <th>Age</th>\n",
              "      <th>OVA</th>\n",
              "      <th>POT</th>\n",
              "      <th>Team</th>\n",
              "      <th>Value</th>\n",
              "      <th>Wage</th>\n",
              "      <th>Total_stats</th>\n",
              "    </tr>\n",
              "  </thead>\n",
              "  <tbody>\n",
              "    <tr>\n",
              "      <th>0</th>\n",
              "      <td>K. Mbappé</td>\n",
              "      <td>23</td>\n",
              "      <td>91</td>\n",
              "      <td>95</td>\n",
              "      <td>Paris Saint Germain</td>\n",
              "      <td>190.5M</td>\n",
              "      <td>230K</td>\n",
              "      <td>2181</td>\n",
              "    </tr>\n",
              "    <tr>\n",
              "      <th>1</th>\n",
              "      <td>K. De Bruyne</td>\n",
              "      <td>31</td>\n",
              "      <td>91</td>\n",
              "      <td>91</td>\n",
              "      <td>Manchester City</td>\n",
              "      <td>107.5M</td>\n",
              "      <td>350K</td>\n",
              "      <td>2298</td>\n",
              "    </tr>\n",
              "    <tr>\n",
              "      <th>2</th>\n",
              "      <td>R. Lewandowski</td>\n",
              "      <td>33</td>\n",
              "      <td>91</td>\n",
              "      <td>91</td>\n",
              "      <td>FC Barcelona</td>\n",
              "      <td>84M</td>\n",
              "      <td>420K</td>\n",
              "      <td>2205</td>\n",
              "    </tr>\n",
              "    <tr>\n",
              "      <th>3</th>\n",
              "      <td>K. Benzema</td>\n",
              "      <td>34</td>\n",
              "      <td>91</td>\n",
              "      <td>91</td>\n",
              "      <td>Real Madrid</td>\n",
              "      <td>64M</td>\n",
              "      <td>450K</td>\n",
              "      <td>2147</td>\n",
              "    </tr>\n",
              "    <tr>\n",
              "      <th>4</th>\n",
              "      <td>L. Messi</td>\n",
              "      <td>35</td>\n",
              "      <td>91</td>\n",
              "      <td>91</td>\n",
              "      <td>Paris Saint Germain</td>\n",
              "      <td>54M</td>\n",
              "      <td>195K</td>\n",
              "      <td>2190</td>\n",
              "    </tr>\n",
              "    <tr>\n",
              "      <th>...</th>\n",
              "      <td>...</td>\n",
              "      <td>...</td>\n",
              "      <td>...</td>\n",
              "      <td>...</td>\n",
              "      <td>...</td>\n",
              "      <td>...</td>\n",
              "      <td>...</td>\n",
              "      <td>...</td>\n",
              "    </tr>\n",
              "    <tr>\n",
              "      <th>595</th>\n",
              "      <td>J. Correa</td>\n",
              "      <td>27</td>\n",
              "      <td>79</td>\n",
              "      <td>79</td>\n",
              "      <td>Inter</td>\n",
              "      <td>19M</td>\n",
              "      <td>71K</td>\n",
              "      <td>1945</td>\n",
              "    </tr>\n",
              "    <tr>\n",
              "      <th>596</th>\n",
              "      <td>L. Zelarayán</td>\n",
              "      <td>30</td>\n",
              "      <td>79</td>\n",
              "      <td>79</td>\n",
              "      <td>Columbus Crew</td>\n",
              "      <td>17M</td>\n",
              "      <td>12K</td>\n",
              "      <td>2032</td>\n",
              "    </tr>\n",
              "    <tr>\n",
              "      <th>597</th>\n",
              "      <td>F. Armani</td>\n",
              "      <td>35</td>\n",
              "      <td>79</td>\n",
              "      <td>79</td>\n",
              "      <td>River Plate</td>\n",
              "      <td>1.9M</td>\n",
              "      <td>10K</td>\n",
              "      <td>1291</td>\n",
              "    </tr>\n",
              "    <tr>\n",
              "      <th>598</th>\n",
              "      <td>S. Azmoun</td>\n",
              "      <td>27</td>\n",
              "      <td>79</td>\n",
              "      <td>79</td>\n",
              "      <td>Bayer 04 Leverkusen</td>\n",
              "      <td>19M</td>\n",
              "      <td>60K</td>\n",
              "      <td>1973</td>\n",
              "    </tr>\n",
              "    <tr>\n",
              "      <th>599</th>\n",
              "      <td>F. Bernardeschi</td>\n",
              "      <td>28</td>\n",
              "      <td>79</td>\n",
              "      <td>79</td>\n",
              "      <td>Toronto</td>\n",
              "      <td>17.5M</td>\n",
              "      <td>12K</td>\n",
              "      <td>2089</td>\n",
              "    </tr>\n",
              "  </tbody>\n",
              "</table>\n",
              "<p>600 rows × 8 columns</p>\n",
              "</div>\n",
              "      <button class=\"colab-df-convert\" onclick=\"convertToInteractive('df-ba003e6a-5dca-47d9-a12e-88d4c8c8d088')\"\n",
              "              title=\"Convert this dataframe to an interactive table.\"\n",
              "              style=\"display:none;\">\n",
              "        \n",
              "  <svg xmlns=\"http://www.w3.org/2000/svg\" height=\"24px\"viewBox=\"0 0 24 24\"\n",
              "       width=\"24px\">\n",
              "    <path d=\"M0 0h24v24H0V0z\" fill=\"none\"/>\n",
              "    <path d=\"M18.56 5.44l.94 2.06.94-2.06 2.06-.94-2.06-.94-.94-2.06-.94 2.06-2.06.94zm-11 1L8.5 8.5l.94-2.06 2.06-.94-2.06-.94L8.5 2.5l-.94 2.06-2.06.94zm10 10l.94 2.06.94-2.06 2.06-.94-2.06-.94-.94-2.06-.94 2.06-2.06.94z\"/><path d=\"M17.41 7.96l-1.37-1.37c-.4-.4-.92-.59-1.43-.59-.52 0-1.04.2-1.43.59L10.3 9.45l-7.72 7.72c-.78.78-.78 2.05 0 2.83L4 21.41c.39.39.9.59 1.41.59.51 0 1.02-.2 1.41-.59l7.78-7.78 2.81-2.81c.8-.78.8-2.07 0-2.86zM5.41 20L4 18.59l7.72-7.72 1.47 1.35L5.41 20z\"/>\n",
              "  </svg>\n",
              "      </button>\n",
              "      \n",
              "  <style>\n",
              "    .colab-df-container {\n",
              "      display:flex;\n",
              "      flex-wrap:wrap;\n",
              "      gap: 12px;\n",
              "    }\n",
              "\n",
              "    .colab-df-convert {\n",
              "      background-color: #E8F0FE;\n",
              "      border: none;\n",
              "      border-radius: 50%;\n",
              "      cursor: pointer;\n",
              "      display: none;\n",
              "      fill: #1967D2;\n",
              "      height: 32px;\n",
              "      padding: 0 0 0 0;\n",
              "      width: 32px;\n",
              "    }\n",
              "\n",
              "    .colab-df-convert:hover {\n",
              "      background-color: #E2EBFA;\n",
              "      box-shadow: 0px 1px 2px rgba(60, 64, 67, 0.3), 0px 1px 3px 1px rgba(60, 64, 67, 0.15);\n",
              "      fill: #174EA6;\n",
              "    }\n",
              "\n",
              "    [theme=dark] .colab-df-convert {\n",
              "      background-color: #3B4455;\n",
              "      fill: #D2E3FC;\n",
              "    }\n",
              "\n",
              "    [theme=dark] .colab-df-convert:hover {\n",
              "      background-color: #434B5C;\n",
              "      box-shadow: 0px 1px 3px 1px rgba(0, 0, 0, 0.15);\n",
              "      filter: drop-shadow(0px 1px 2px rgba(0, 0, 0, 0.3));\n",
              "      fill: #FFFFFF;\n",
              "    }\n",
              "  </style>\n",
              "\n",
              "      <script>\n",
              "        const buttonEl =\n",
              "          document.querySelector('#df-ba003e6a-5dca-47d9-a12e-88d4c8c8d088 button.colab-df-convert');\n",
              "        buttonEl.style.display =\n",
              "          google.colab.kernel.accessAllowed ? 'block' : 'none';\n",
              "\n",
              "        async function convertToInteractive(key) {\n",
              "          const element = document.querySelector('#df-ba003e6a-5dca-47d9-a12e-88d4c8c8d088');\n",
              "          const dataTable =\n",
              "            await google.colab.kernel.invokeFunction('convertToInteractive',\n",
              "                                                     [key], {});\n",
              "          if (!dataTable) return;\n",
              "\n",
              "          const docLinkHtml = 'Like what you see? Visit the ' +\n",
              "            '<a target=\"_blank\" href=https://colab.research.google.com/notebooks/data_table.ipynb>data table notebook</a>'\n",
              "            + ' to learn more about interactive tables.';\n",
              "          element.innerHTML = '';\n",
              "          dataTable['output_type'] = 'display_data';\n",
              "          await google.colab.output.renderOutput(dataTable, element);\n",
              "          const docLink = document.createElement('div');\n",
              "          docLink.innerHTML = docLinkHtml;\n",
              "          element.appendChild(docLink);\n",
              "        }\n",
              "      </script>\n",
              "    </div>\n",
              "  </div>\n",
              "  "
            ]
          },
          "metadata": {},
          "execution_count": 186
        }
      ],
      "source": [
        "fifa_final"
      ]
    },
    {
      "cell_type": "markdown",
      "metadata": {
        "id": "mxCIIWsutT9y"
      },
      "source": [
        "Q1. **Find the name of Player who is having the highest wage.**"
      ]
    },
    {
      "cell_type": "code",
      "execution_count": null,
      "metadata": {
        "id": "JZQFWbZAtaD8"
      },
      "outputs": [],
      "source": [
        "# to find a player having highest wage we first need to remove the 'k' symbol \n",
        "# from the column and then convert wage column into integer then multiply by 1000\n",
        "\n",
        "fifa_final['Wage']= fifa_final['Wage'].str.replace('K','')\n",
        "fifa_final['Wage']= fifa_final['Wage'].astype(int)\n",
        "fifa_final['Wage']=fifa_final['Wage']*1000\n",
        "\n"
      ]
    },
    {
      "cell_type": "code",
      "execution_count": null,
      "metadata": {
        "colab": {
          "base_uri": "https://localhost:8080/"
        },
        "id": "b8hVZZGE5xuj",
        "outputId": "4a956baf-ecdd-40c4-ba8d-92517a9ddedd"
      },
      "outputs": [
        {
          "output_type": "stream",
          "name": "stdout",
          "text": [
            "The player with maximun wage is : K. Benzema\n"
          ]
        }
      ],
      "source": [
        "# finding the player with maximun wage \n",
        "\n",
        "max_wage = fifa_final.Wage.max()\n",
        "max_wage_player = fifa_final.loc[fifa_final.Wage == max_wage ].iloc[0,0]\n",
        "print(f\"The player with maximun wage is : {max_wage_player}\")"
      ]
    },
    {
      "cell_type": "code",
      "execution_count": null,
      "metadata": {
        "id": "iubVs5GG5rjz"
      },
      "outputs": [],
      "source": [
        "fcopy= fifa_final.copy()"
      ]
    },
    {
      "cell_type": "markdown",
      "source": [
        "Q2. **List out the Top 10 Players according to their POT**"
      ],
      "metadata": {
        "id": "FEUHgMfp0kor"
      }
    },
    {
      "cell_type": "code",
      "source": [
        "fifa_final.sort_values(by = 'POT' , ascending = False ).iloc[0:10,[0,3]]"
      ],
      "metadata": {
        "colab": {
          "base_uri": "https://localhost:8080/",
          "height": 363
        },
        "id": "H3QXMK9a0gxC",
        "outputId": "d2bd871a-a4c3-4920-899e-a3981a1441bb"
      },
      "execution_count": null,
      "outputs": [
        {
          "output_type": "execute_result",
          "data": {
            "text/plain": [
              "              Name  POT\n",
              "0        K. Mbappé   95\n",
              "7       E. Haaland   94\n",
              "19   G. Donnarumma   92\n",
              "38    Vinícius Jr.   92\n",
              "63           Pedri   92\n",
              "147     J. Musiala   92\n",
              "65        P. Foden   92\n",
              "30      F. de Jong   92\n",
              "101     K. Havertz   91\n",
              "18      Rúben Dias   91"
            ],
            "text/html": [
              "\n",
              "  <div id=\"df-78c7c5d6-3a0c-47e0-b2c1-ce0fb7fe37f3\">\n",
              "    <div class=\"colab-df-container\">\n",
              "      <div>\n",
              "<style scoped>\n",
              "    .dataframe tbody tr th:only-of-type {\n",
              "        vertical-align: middle;\n",
              "    }\n",
              "\n",
              "    .dataframe tbody tr th {\n",
              "        vertical-align: top;\n",
              "    }\n",
              "\n",
              "    .dataframe thead th {\n",
              "        text-align: right;\n",
              "    }\n",
              "</style>\n",
              "<table border=\"1\" class=\"dataframe\">\n",
              "  <thead>\n",
              "    <tr style=\"text-align: right;\">\n",
              "      <th></th>\n",
              "      <th>Name</th>\n",
              "      <th>POT</th>\n",
              "    </tr>\n",
              "  </thead>\n",
              "  <tbody>\n",
              "    <tr>\n",
              "      <th>0</th>\n",
              "      <td>K. Mbappé</td>\n",
              "      <td>95</td>\n",
              "    </tr>\n",
              "    <tr>\n",
              "      <th>7</th>\n",
              "      <td>E. Haaland</td>\n",
              "      <td>94</td>\n",
              "    </tr>\n",
              "    <tr>\n",
              "      <th>19</th>\n",
              "      <td>G. Donnarumma</td>\n",
              "      <td>92</td>\n",
              "    </tr>\n",
              "    <tr>\n",
              "      <th>38</th>\n",
              "      <td>Vinícius Jr.</td>\n",
              "      <td>92</td>\n",
              "    </tr>\n",
              "    <tr>\n",
              "      <th>63</th>\n",
              "      <td>Pedri</td>\n",
              "      <td>92</td>\n",
              "    </tr>\n",
              "    <tr>\n",
              "      <th>147</th>\n",
              "      <td>J. Musiala</td>\n",
              "      <td>92</td>\n",
              "    </tr>\n",
              "    <tr>\n",
              "      <th>65</th>\n",
              "      <td>P. Foden</td>\n",
              "      <td>92</td>\n",
              "    </tr>\n",
              "    <tr>\n",
              "      <th>30</th>\n",
              "      <td>F. de Jong</td>\n",
              "      <td>92</td>\n",
              "    </tr>\n",
              "    <tr>\n",
              "      <th>101</th>\n",
              "      <td>K. Havertz</td>\n",
              "      <td>91</td>\n",
              "    </tr>\n",
              "    <tr>\n",
              "      <th>18</th>\n",
              "      <td>Rúben Dias</td>\n",
              "      <td>91</td>\n",
              "    </tr>\n",
              "  </tbody>\n",
              "</table>\n",
              "</div>\n",
              "      <button class=\"colab-df-convert\" onclick=\"convertToInteractive('df-78c7c5d6-3a0c-47e0-b2c1-ce0fb7fe37f3')\"\n",
              "              title=\"Convert this dataframe to an interactive table.\"\n",
              "              style=\"display:none;\">\n",
              "        \n",
              "  <svg xmlns=\"http://www.w3.org/2000/svg\" height=\"24px\"viewBox=\"0 0 24 24\"\n",
              "       width=\"24px\">\n",
              "    <path d=\"M0 0h24v24H0V0z\" fill=\"none\"/>\n",
              "    <path d=\"M18.56 5.44l.94 2.06.94-2.06 2.06-.94-2.06-.94-.94-2.06-.94 2.06-2.06.94zm-11 1L8.5 8.5l.94-2.06 2.06-.94-2.06-.94L8.5 2.5l-.94 2.06-2.06.94zm10 10l.94 2.06.94-2.06 2.06-.94-2.06-.94-.94-2.06-.94 2.06-2.06.94z\"/><path d=\"M17.41 7.96l-1.37-1.37c-.4-.4-.92-.59-1.43-.59-.52 0-1.04.2-1.43.59L10.3 9.45l-7.72 7.72c-.78.78-.78 2.05 0 2.83L4 21.41c.39.39.9.59 1.41.59.51 0 1.02-.2 1.41-.59l7.78-7.78 2.81-2.81c.8-.78.8-2.07 0-2.86zM5.41 20L4 18.59l7.72-7.72 1.47 1.35L5.41 20z\"/>\n",
              "  </svg>\n",
              "      </button>\n",
              "      \n",
              "  <style>\n",
              "    .colab-df-container {\n",
              "      display:flex;\n",
              "      flex-wrap:wrap;\n",
              "      gap: 12px;\n",
              "    }\n",
              "\n",
              "    .colab-df-convert {\n",
              "      background-color: #E8F0FE;\n",
              "      border: none;\n",
              "      border-radius: 50%;\n",
              "      cursor: pointer;\n",
              "      display: none;\n",
              "      fill: #1967D2;\n",
              "      height: 32px;\n",
              "      padding: 0 0 0 0;\n",
              "      width: 32px;\n",
              "    }\n",
              "\n",
              "    .colab-df-convert:hover {\n",
              "      background-color: #E2EBFA;\n",
              "      box-shadow: 0px 1px 2px rgba(60, 64, 67, 0.3), 0px 1px 3px 1px rgba(60, 64, 67, 0.15);\n",
              "      fill: #174EA6;\n",
              "    }\n",
              "\n",
              "    [theme=dark] .colab-df-convert {\n",
              "      background-color: #3B4455;\n",
              "      fill: #D2E3FC;\n",
              "    }\n",
              "\n",
              "    [theme=dark] .colab-df-convert:hover {\n",
              "      background-color: #434B5C;\n",
              "      box-shadow: 0px 1px 3px 1px rgba(0, 0, 0, 0.15);\n",
              "      filter: drop-shadow(0px 1px 2px rgba(0, 0, 0, 0.3));\n",
              "      fill: #FFFFFF;\n",
              "    }\n",
              "  </style>\n",
              "\n",
              "      <script>\n",
              "        const buttonEl =\n",
              "          document.querySelector('#df-78c7c5d6-3a0c-47e0-b2c1-ce0fb7fe37f3 button.colab-df-convert');\n",
              "        buttonEl.style.display =\n",
              "          google.colab.kernel.accessAllowed ? 'block' : 'none';\n",
              "\n",
              "        async function convertToInteractive(key) {\n",
              "          const element = document.querySelector('#df-78c7c5d6-3a0c-47e0-b2c1-ce0fb7fe37f3');\n",
              "          const dataTable =\n",
              "            await google.colab.kernel.invokeFunction('convertToInteractive',\n",
              "                                                     [key], {});\n",
              "          if (!dataTable) return;\n",
              "\n",
              "          const docLinkHtml = 'Like what you see? Visit the ' +\n",
              "            '<a target=\"_blank\" href=https://colab.research.google.com/notebooks/data_table.ipynb>data table notebook</a>'\n",
              "            + ' to learn more about interactive tables.';\n",
              "          element.innerHTML = '';\n",
              "          dataTable['output_type'] = 'display_data';\n",
              "          await google.colab.output.renderOutput(dataTable, element);\n",
              "          const docLink = document.createElement('div');\n",
              "          docLink.innerHTML = docLinkHtml;\n",
              "          element.appendChild(docLink);\n",
              "        }\n",
              "      </script>\n",
              "    </div>\n",
              "  </div>\n",
              "  "
            ]
          },
          "metadata": {},
          "execution_count": 93
        }
      ]
    },
    {
      "cell_type": "markdown",
      "source": [
        "Q3. **Find out the 10 Youngest Players**"
      ],
      "metadata": {
        "id": "jdsCWw7e116-"
      }
    },
    {
      "cell_type": "code",
      "source": [
        "fcopy.sort_values(by = 'Age').iloc[0:10,0:2]"
      ],
      "metadata": {
        "colab": {
          "base_uri": "https://localhost:8080/",
          "height": 363
        },
        "id": "DiCFExsJ0g3C",
        "outputId": "177459c1-ecd2-4b53-e882-c69dfcd26f9f"
      },
      "execution_count": null,
      "outputs": [
        {
          "output_type": "execute_result",
          "data": {
            "text/plain": [
              "              Name  Age\n",
              "373           Gavi   17\n",
              "510      Ansu Fati   19\n",
              "147     J. Musiala   19\n",
              "507    Yeremy Pino   19\n",
              "62   J. Bellingham   19\n",
              "513   E. Camavinga   19\n",
              "63           Pedri   19\n",
              "199       F. Wirtz   19\n",
              "274    Nuno Mendes   20\n",
              "202    J. Gvardiol   20"
            ],
            "text/html": [
              "\n",
              "  <div id=\"df-8587f0ea-0d74-4db6-aa17-6c48771aa44b\">\n",
              "    <div class=\"colab-df-container\">\n",
              "      <div>\n",
              "<style scoped>\n",
              "    .dataframe tbody tr th:only-of-type {\n",
              "        vertical-align: middle;\n",
              "    }\n",
              "\n",
              "    .dataframe tbody tr th {\n",
              "        vertical-align: top;\n",
              "    }\n",
              "\n",
              "    .dataframe thead th {\n",
              "        text-align: right;\n",
              "    }\n",
              "</style>\n",
              "<table border=\"1\" class=\"dataframe\">\n",
              "  <thead>\n",
              "    <tr style=\"text-align: right;\">\n",
              "      <th></th>\n",
              "      <th>Name</th>\n",
              "      <th>Age</th>\n",
              "    </tr>\n",
              "  </thead>\n",
              "  <tbody>\n",
              "    <tr>\n",
              "      <th>373</th>\n",
              "      <td>Gavi</td>\n",
              "      <td>17</td>\n",
              "    </tr>\n",
              "    <tr>\n",
              "      <th>510</th>\n",
              "      <td>Ansu Fati</td>\n",
              "      <td>19</td>\n",
              "    </tr>\n",
              "    <tr>\n",
              "      <th>147</th>\n",
              "      <td>J. Musiala</td>\n",
              "      <td>19</td>\n",
              "    </tr>\n",
              "    <tr>\n",
              "      <th>507</th>\n",
              "      <td>Yeremy Pino</td>\n",
              "      <td>19</td>\n",
              "    </tr>\n",
              "    <tr>\n",
              "      <th>62</th>\n",
              "      <td>J. Bellingham</td>\n",
              "      <td>19</td>\n",
              "    </tr>\n",
              "    <tr>\n",
              "      <th>513</th>\n",
              "      <td>E. Camavinga</td>\n",
              "      <td>19</td>\n",
              "    </tr>\n",
              "    <tr>\n",
              "      <th>63</th>\n",
              "      <td>Pedri</td>\n",
              "      <td>19</td>\n",
              "    </tr>\n",
              "    <tr>\n",
              "      <th>199</th>\n",
              "      <td>F. Wirtz</td>\n",
              "      <td>19</td>\n",
              "    </tr>\n",
              "    <tr>\n",
              "      <th>274</th>\n",
              "      <td>Nuno Mendes</td>\n",
              "      <td>20</td>\n",
              "    </tr>\n",
              "    <tr>\n",
              "      <th>202</th>\n",
              "      <td>J. Gvardiol</td>\n",
              "      <td>20</td>\n",
              "    </tr>\n",
              "  </tbody>\n",
              "</table>\n",
              "</div>\n",
              "      <button class=\"colab-df-convert\" onclick=\"convertToInteractive('df-8587f0ea-0d74-4db6-aa17-6c48771aa44b')\"\n",
              "              title=\"Convert this dataframe to an interactive table.\"\n",
              "              style=\"display:none;\">\n",
              "        \n",
              "  <svg xmlns=\"http://www.w3.org/2000/svg\" height=\"24px\"viewBox=\"0 0 24 24\"\n",
              "       width=\"24px\">\n",
              "    <path d=\"M0 0h24v24H0V0z\" fill=\"none\"/>\n",
              "    <path d=\"M18.56 5.44l.94 2.06.94-2.06 2.06-.94-2.06-.94-.94-2.06-.94 2.06-2.06.94zm-11 1L8.5 8.5l.94-2.06 2.06-.94-2.06-.94L8.5 2.5l-.94 2.06-2.06.94zm10 10l.94 2.06.94-2.06 2.06-.94-2.06-.94-.94-2.06-.94 2.06-2.06.94z\"/><path d=\"M17.41 7.96l-1.37-1.37c-.4-.4-.92-.59-1.43-.59-.52 0-1.04.2-1.43.59L10.3 9.45l-7.72 7.72c-.78.78-.78 2.05 0 2.83L4 21.41c.39.39.9.59 1.41.59.51 0 1.02-.2 1.41-.59l7.78-7.78 2.81-2.81c.8-.78.8-2.07 0-2.86zM5.41 20L4 18.59l7.72-7.72 1.47 1.35L5.41 20z\"/>\n",
              "  </svg>\n",
              "      </button>\n",
              "      \n",
              "  <style>\n",
              "    .colab-df-container {\n",
              "      display:flex;\n",
              "      flex-wrap:wrap;\n",
              "      gap: 12px;\n",
              "    }\n",
              "\n",
              "    .colab-df-convert {\n",
              "      background-color: #E8F0FE;\n",
              "      border: none;\n",
              "      border-radius: 50%;\n",
              "      cursor: pointer;\n",
              "      display: none;\n",
              "      fill: #1967D2;\n",
              "      height: 32px;\n",
              "      padding: 0 0 0 0;\n",
              "      width: 32px;\n",
              "    }\n",
              "\n",
              "    .colab-df-convert:hover {\n",
              "      background-color: #E2EBFA;\n",
              "      box-shadow: 0px 1px 2px rgba(60, 64, 67, 0.3), 0px 1px 3px 1px rgba(60, 64, 67, 0.15);\n",
              "      fill: #174EA6;\n",
              "    }\n",
              "\n",
              "    [theme=dark] .colab-df-convert {\n",
              "      background-color: #3B4455;\n",
              "      fill: #D2E3FC;\n",
              "    }\n",
              "\n",
              "    [theme=dark] .colab-df-convert:hover {\n",
              "      background-color: #434B5C;\n",
              "      box-shadow: 0px 1px 3px 1px rgba(0, 0, 0, 0.15);\n",
              "      filter: drop-shadow(0px 1px 2px rgba(0, 0, 0, 0.3));\n",
              "      fill: #FFFFFF;\n",
              "    }\n",
              "  </style>\n",
              "\n",
              "      <script>\n",
              "        const buttonEl =\n",
              "          document.querySelector('#df-8587f0ea-0d74-4db6-aa17-6c48771aa44b button.colab-df-convert');\n",
              "        buttonEl.style.display =\n",
              "          google.colab.kernel.accessAllowed ? 'block' : 'none';\n",
              "\n",
              "        async function convertToInteractive(key) {\n",
              "          const element = document.querySelector('#df-8587f0ea-0d74-4db6-aa17-6c48771aa44b');\n",
              "          const dataTable =\n",
              "            await google.colab.kernel.invokeFunction('convertToInteractive',\n",
              "                                                     [key], {});\n",
              "          if (!dataTable) return;\n",
              "\n",
              "          const docLinkHtml = 'Like what you see? Visit the ' +\n",
              "            '<a target=\"_blank\" href=https://colab.research.google.com/notebooks/data_table.ipynb>data table notebook</a>'\n",
              "            + ' to learn more about interactive tables.';\n",
              "          element.innerHTML = '';\n",
              "          dataTable['output_type'] = 'display_data';\n",
              "          await google.colab.output.renderOutput(dataTable, element);\n",
              "          const docLink = document.createElement('div');\n",
              "          docLink.innerHTML = docLinkHtml;\n",
              "          element.appendChild(docLink);\n",
              "        }\n",
              "      </script>\n",
              "    </div>\n",
              "  </div>\n",
              "  "
            ]
          },
          "metadata": {},
          "execution_count": 61
        }
      ]
    },
    {
      "cell_type": "markdown",
      "source": [
        "Q4. **Find out the 10 Oldest Players**"
      ],
      "metadata": {
        "id": "qByhRO7521AG"
      }
    },
    {
      "cell_type": "code",
      "source": [
        "fcopy.sort_values(by = 'Age' , ascending = False).iloc[0:10,0:2]"
      ],
      "metadata": {
        "colab": {
          "base_uri": "https://localhost:8080/",
          "height": 363
        },
        "id": "DimxMcR_0g__",
        "outputId": "32601029-72b9-475c-d58d-d3ebca9808ba"
      },
      "execution_count": null,
      "outputs": [
        {
          "output_type": "execute_result",
          "data": {
            "text/plain": [
              "                  Name  Age\n",
              "272     Z. Ibrahimović   40\n",
              "372               Pepe   39\n",
              "503         José Fonte   38\n",
              "371       Ł. Fabiański   37\n",
              "28   Cristiano Ronaldo   37\n",
              "61        Thiago Silva   37\n",
              "198      S. Handanovič   37\n",
              "146       G. Chiellini   37\n",
              "271        Jesús Navas   36\n",
              "27           L. Modrić   36"
            ],
            "text/html": [
              "\n",
              "  <div id=\"df-4a6189a8-af63-4c87-8a1f-e132e944ca8b\">\n",
              "    <div class=\"colab-df-container\">\n",
              "      <div>\n",
              "<style scoped>\n",
              "    .dataframe tbody tr th:only-of-type {\n",
              "        vertical-align: middle;\n",
              "    }\n",
              "\n",
              "    .dataframe tbody tr th {\n",
              "        vertical-align: top;\n",
              "    }\n",
              "\n",
              "    .dataframe thead th {\n",
              "        text-align: right;\n",
              "    }\n",
              "</style>\n",
              "<table border=\"1\" class=\"dataframe\">\n",
              "  <thead>\n",
              "    <tr style=\"text-align: right;\">\n",
              "      <th></th>\n",
              "      <th>Name</th>\n",
              "      <th>Age</th>\n",
              "    </tr>\n",
              "  </thead>\n",
              "  <tbody>\n",
              "    <tr>\n",
              "      <th>272</th>\n",
              "      <td>Z. Ibrahimović</td>\n",
              "      <td>40</td>\n",
              "    </tr>\n",
              "    <tr>\n",
              "      <th>372</th>\n",
              "      <td>Pepe</td>\n",
              "      <td>39</td>\n",
              "    </tr>\n",
              "    <tr>\n",
              "      <th>503</th>\n",
              "      <td>José Fonte</td>\n",
              "      <td>38</td>\n",
              "    </tr>\n",
              "    <tr>\n",
              "      <th>371</th>\n",
              "      <td>Ł. Fabiański</td>\n",
              "      <td>37</td>\n",
              "    </tr>\n",
              "    <tr>\n",
              "      <th>28</th>\n",
              "      <td>Cristiano Ronaldo</td>\n",
              "      <td>37</td>\n",
              "    </tr>\n",
              "    <tr>\n",
              "      <th>61</th>\n",
              "      <td>Thiago Silva</td>\n",
              "      <td>37</td>\n",
              "    </tr>\n",
              "    <tr>\n",
              "      <th>198</th>\n",
              "      <td>S. Handanovič</td>\n",
              "      <td>37</td>\n",
              "    </tr>\n",
              "    <tr>\n",
              "      <th>146</th>\n",
              "      <td>G. Chiellini</td>\n",
              "      <td>37</td>\n",
              "    </tr>\n",
              "    <tr>\n",
              "      <th>271</th>\n",
              "      <td>Jesús Navas</td>\n",
              "      <td>36</td>\n",
              "    </tr>\n",
              "    <tr>\n",
              "      <th>27</th>\n",
              "      <td>L. Modrić</td>\n",
              "      <td>36</td>\n",
              "    </tr>\n",
              "  </tbody>\n",
              "</table>\n",
              "</div>\n",
              "      <button class=\"colab-df-convert\" onclick=\"convertToInteractive('df-4a6189a8-af63-4c87-8a1f-e132e944ca8b')\"\n",
              "              title=\"Convert this dataframe to an interactive table.\"\n",
              "              style=\"display:none;\">\n",
              "        \n",
              "  <svg xmlns=\"http://www.w3.org/2000/svg\" height=\"24px\"viewBox=\"0 0 24 24\"\n",
              "       width=\"24px\">\n",
              "    <path d=\"M0 0h24v24H0V0z\" fill=\"none\"/>\n",
              "    <path d=\"M18.56 5.44l.94 2.06.94-2.06 2.06-.94-2.06-.94-.94-2.06-.94 2.06-2.06.94zm-11 1L8.5 8.5l.94-2.06 2.06-.94-2.06-.94L8.5 2.5l-.94 2.06-2.06.94zm10 10l.94 2.06.94-2.06 2.06-.94-2.06-.94-.94-2.06-.94 2.06-2.06.94z\"/><path d=\"M17.41 7.96l-1.37-1.37c-.4-.4-.92-.59-1.43-.59-.52 0-1.04.2-1.43.59L10.3 9.45l-7.72 7.72c-.78.78-.78 2.05 0 2.83L4 21.41c.39.39.9.59 1.41.59.51 0 1.02-.2 1.41-.59l7.78-7.78 2.81-2.81c.8-.78.8-2.07 0-2.86zM5.41 20L4 18.59l7.72-7.72 1.47 1.35L5.41 20z\"/>\n",
              "  </svg>\n",
              "      </button>\n",
              "      \n",
              "  <style>\n",
              "    .colab-df-container {\n",
              "      display:flex;\n",
              "      flex-wrap:wrap;\n",
              "      gap: 12px;\n",
              "    }\n",
              "\n",
              "    .colab-df-convert {\n",
              "      background-color: #E8F0FE;\n",
              "      border: none;\n",
              "      border-radius: 50%;\n",
              "      cursor: pointer;\n",
              "      display: none;\n",
              "      fill: #1967D2;\n",
              "      height: 32px;\n",
              "      padding: 0 0 0 0;\n",
              "      width: 32px;\n",
              "    }\n",
              "\n",
              "    .colab-df-convert:hover {\n",
              "      background-color: #E2EBFA;\n",
              "      box-shadow: 0px 1px 2px rgba(60, 64, 67, 0.3), 0px 1px 3px 1px rgba(60, 64, 67, 0.15);\n",
              "      fill: #174EA6;\n",
              "    }\n",
              "\n",
              "    [theme=dark] .colab-df-convert {\n",
              "      background-color: #3B4455;\n",
              "      fill: #D2E3FC;\n",
              "    }\n",
              "\n",
              "    [theme=dark] .colab-df-convert:hover {\n",
              "      background-color: #434B5C;\n",
              "      box-shadow: 0px 1px 3px 1px rgba(0, 0, 0, 0.15);\n",
              "      filter: drop-shadow(0px 1px 2px rgba(0, 0, 0, 0.3));\n",
              "      fill: #FFFFFF;\n",
              "    }\n",
              "  </style>\n",
              "\n",
              "      <script>\n",
              "        const buttonEl =\n",
              "          document.querySelector('#df-4a6189a8-af63-4c87-8a1f-e132e944ca8b button.colab-df-convert');\n",
              "        buttonEl.style.display =\n",
              "          google.colab.kernel.accessAllowed ? 'block' : 'none';\n",
              "\n",
              "        async function convertToInteractive(key) {\n",
              "          const element = document.querySelector('#df-4a6189a8-af63-4c87-8a1f-e132e944ca8b');\n",
              "          const dataTable =\n",
              "            await google.colab.kernel.invokeFunction('convertToInteractive',\n",
              "                                                     [key], {});\n",
              "          if (!dataTable) return;\n",
              "\n",
              "          const docLinkHtml = 'Like what you see? Visit the ' +\n",
              "            '<a target=\"_blank\" href=https://colab.research.google.com/notebooks/data_table.ipynb>data table notebook</a>'\n",
              "            + ' to learn more about interactive tables.';\n",
              "          element.innerHTML = '';\n",
              "          dataTable['output_type'] = 'display_data';\n",
              "          await google.colab.output.renderOutput(dataTable, element);\n",
              "          const docLink = document.createElement('div');\n",
              "          docLink.innerHTML = docLinkHtml;\n",
              "          element.appendChild(docLink);\n",
              "        }\n",
              "      </script>\n",
              "    </div>\n",
              "  </div>\n",
              "  "
            ]
          },
          "metadata": {},
          "execution_count": 62
        }
      ]
    },
    {
      "cell_type": "markdown",
      "source": [
        "Q5. **Plot a graph - First 10 player's Name Vs Player's POT**"
      ],
      "metadata": {
        "id": "iyTWC38l3YH6"
      }
    },
    {
      "cell_type": "code",
      "source": [
        "# plotting bar graph \n",
        "\n",
        "x = fifa_final.Name.iloc[0:10]\n",
        "y = fifa_final.POT.iloc[0:10]\n",
        "\n",
        "plt.figure(figsize=(15, 6))\n",
        "plt.bar(x,y)\n",
        "plt.xlabel('Name')\n",
        "plt.ylabel('POT')\n",
        "plt.title('Name vs POT')\n",
        "\n",
        "plt.show()"
      ],
      "metadata": {
        "colab": {
          "base_uri": "https://localhost:8080/",
          "height": 405
        },
        "id": "tfmFZVis0hCW",
        "outputId": "7d2a1538-42c5-4504-9903-d44104fa7f56"
      },
      "execution_count": null,
      "outputs": [
        {
          "output_type": "display_data",
          "data": {
            "text/plain": [
              "<Figure size 1080x432 with 1 Axes>"
            ],
            "image/png": "[encoded data removed]"
          },
          "metadata": {
            "needs_background": "light"
          }
        }
      ]
    },
    {
      "cell_type": "markdown",
      "source": [
        "Q6.**Plot a graph - First 10 player's Name Vs Player's Wage**"
      ],
      "metadata": {
        "id": "_o0Fo7ol6FNt"
      }
    },
    {
      "cell_type": "code",
      "source": [
        "# plotting bar grapgh\n",
        "x = fifa_final.Name.iloc[0:10]\n",
        "y = fifa_final.Wage.iloc[0:10]\n",
        "\n",
        "plt.figure(figsize=(15,6))\n",
        "plt.bar(x,y)\n",
        "plt.xlabel('Name')\n",
        "plt.ylabel('Wage')\n",
        "plt.title(\"Name vs Wage\")\n",
        "\n",
        "plt.show()"
      ],
      "metadata": {
        "colab": {
          "base_uri": "https://localhost:8080/",
          "height": 405
        },
        "id": "qNxQEqhc0hIB",
        "outputId": "68473c3d-43ef-4c84-8a09-82071dc902b1"
      },
      "execution_count": null,
      "outputs": [
        {
          "output_type": "display_data",
          "data": {
            "text/plain": [
              "<Figure size 1080x432 with 1 Axes>"
            ],
            "image/png": "[encoded data removed]"
          },
          "metadata": {
            "needs_background": "light"
          }
        }
      ]
    },
    {
      "cell_type": "markdown",
      "source": [
        "Q7. **Find the Player(s) whose potential is more than 90**"
      ],
      "metadata": {
        "id": "JmOwb7WD7Iwf"
      }
    },
    {
      "cell_type": "code",
      "source": [
        "fifa_final.loc[fifa_final.POT > 90 ].iloc[:,[0,3]]\n"
      ],
      "metadata": {
        "colab": {
          "base_uri": "https://localhost:8080/",
          "height": 645
        },
        "id": "FU50SL4w6-D_",
        "outputId": "67be8b37-fbd9-4253-800d-fdd0a60a57a8"
      },
      "execution_count": null,
      "outputs": [
        {
          "output_type": "execute_result",
          "data": {
            "text/plain": [
              "               Name  POT\n",
              "0         K. Mbappé   95\n",
              "1      K. De Bruyne   91\n",
              "2    R. Lewandowski   91\n",
              "3        K. Benzema   91\n",
              "4          L. Messi   91\n",
              "6       T. Courtois   91\n",
              "7        E. Haaland   94\n",
              "10          Ederson   91\n",
              "18       Rúben Dias   91\n",
              "19    G. Donnarumma   92\n",
              "30       F. de Jong   92\n",
              "38     Vinícius Jr.   92\n",
              "62    J. Bellingham   91\n",
              "63            Pedri   92\n",
              "65         P. Foden   92\n",
              "91      D. Vlahović   91\n",
              "101      K. Havertz   91\n",
              "147      J. Musiala   92\n",
              "199        F. Wirtz   91"
            ],
            "text/html": [
              "\n",
              "  <div id=\"df-8323e9b3-0b50-4dc5-86ed-019bcb1e8c14\">\n",
              "    <div class=\"colab-df-container\">\n",
              "      <div>\n",
              "<style scoped>\n",
              "    .dataframe tbody tr th:only-of-type {\n",
              "        vertical-align: middle;\n",
              "    }\n",
              "\n",
              "    .dataframe tbody tr th {\n",
              "        vertical-align: top;\n",
              "    }\n",
              "\n",
              "    .dataframe thead th {\n",
              "        text-align: right;\n",
              "    }\n",
              "</style>\n",
              "<table border=\"1\" class=\"dataframe\">\n",
              "  <thead>\n",
              "    <tr style=\"text-align: right;\">\n",
              "      <th></th>\n",
              "      <th>Name</th>\n",
              "      <th>POT</th>\n",
              "    </tr>\n",
              "  </thead>\n",
              "  <tbody>\n",
              "    <tr>\n",
              "      <th>0</th>\n",
              "      <td>K. Mbappé</td>\n",
              "      <td>95</td>\n",
              "    </tr>\n",
              "    <tr>\n",
              "      <th>1</th>\n",
              "      <td>K. De Bruyne</td>\n",
              "      <td>91</td>\n",
              "    </tr>\n",
              "    <tr>\n",
              "      <th>2</th>\n",
              "      <td>R. Lewandowski</td>\n",
              "      <td>91</td>\n",
              "    </tr>\n",
              "    <tr>\n",
              "      <th>3</th>\n",
              "      <td>K. Benzema</td>\n",
              "      <td>91</td>\n",
              "    </tr>\n",
              "    <tr>\n",
              "      <th>4</th>\n",
              "      <td>L. Messi</td>\n",
              "      <td>91</td>\n",
              "    </tr>\n",
              "    <tr>\n",
              "      <th>6</th>\n",
              "      <td>T. Courtois</td>\n",
              "      <td>91</td>\n",
              "    </tr>\n",
              "    <tr>\n",
              "      <th>7</th>\n",
              "      <td>E. Haaland</td>\n",
              "      <td>94</td>\n",
              "    </tr>\n",
              "    <tr>\n",
              "      <th>10</th>\n",
              "      <td>Ederson</td>\n",
              "      <td>91</td>\n",
              "    </tr>\n",
              "    <tr>\n",
              "      <th>18</th>\n",
              "      <td>Rúben Dias</td>\n",
              "      <td>91</td>\n",
              "    </tr>\n",
              "    <tr>\n",
              "      <th>19</th>\n",
              "      <td>G. Donnarumma</td>\n",
              "      <td>92</td>\n",
              "    </tr>\n",
              "    <tr>\n",
              "      <th>30</th>\n",
              "      <td>F. de Jong</td>\n",
              "      <td>92</td>\n",
              "    </tr>\n",
              "    <tr>\n",
              "      <th>38</th>\n",
              "      <td>Vinícius Jr.</td>\n",
              "      <td>92</td>\n",
              "    </tr>\n",
              "    <tr>\n",
              "      <th>62</th>\n",
              "      <td>J. Bellingham</td>\n",
              "      <td>91</td>\n",
              "    </tr>\n",
              "    <tr>\n",
              "      <th>63</th>\n",
              "      <td>Pedri</td>\n",
              "      <td>92</td>\n",
              "    </tr>\n",
              "    <tr>\n",
              "      <th>65</th>\n",
              "      <td>P. Foden</td>\n",
              "      <td>92</td>\n",
              "    </tr>\n",
              "    <tr>\n",
              "      <th>91</th>\n",
              "      <td>D. Vlahović</td>\n",
              "      <td>91</td>\n",
              "    </tr>\n",
              "    <tr>\n",
              "      <th>101</th>\n",
              "      <td>K. Havertz</td>\n",
              "      <td>91</td>\n",
              "    </tr>\n",
              "    <tr>\n",
              "      <th>147</th>\n",
              "      <td>J. Musiala</td>\n",
              "      <td>92</td>\n",
              "    </tr>\n",
              "    <tr>\n",
              "      <th>199</th>\n",
              "      <td>F. Wirtz</td>\n",
              "      <td>91</td>\n",
              "    </tr>\n",
              "  </tbody>\n",
              "</table>\n",
              "</div>\n",
              "      <button class=\"colab-df-convert\" onclick=\"convertToInteractive('df-8323e9b3-0b50-4dc5-86ed-019bcb1e8c14')\"\n",
              "              title=\"Convert this dataframe to an interactive table.\"\n",
              "              style=\"display:none;\">\n",
              "        \n",
              "  <svg xmlns=\"http://www.w3.org/2000/svg\" height=\"24px\"viewBox=\"0 0 24 24\"\n",
              "       width=\"24px\">\n",
              "    <path d=\"M0 0h24v24H0V0z\" fill=\"none\"/>\n",
              "    <path d=\"M18.56 5.44l.94 2.06.94-2.06 2.06-.94-2.06-.94-.94-2.06-.94 2.06-2.06.94zm-11 1L8.5 8.5l.94-2.06 2.06-.94-2.06-.94L8.5 2.5l-.94 2.06-2.06.94zm10 10l.94 2.06.94-2.06 2.06-.94-2.06-.94-.94-2.06-.94 2.06-2.06.94z\"/><path d=\"M17.41 7.96l-1.37-1.37c-.4-.4-.92-.59-1.43-.59-.52 0-1.04.2-1.43.59L10.3 9.45l-7.72 7.72c-.78.78-.78 2.05 0 2.83L4 21.41c.39.39.9.59 1.41.59.51 0 1.02-.2 1.41-.59l7.78-7.78 2.81-2.81c.8-.78.8-2.07 0-2.86zM5.41 20L4 18.59l7.72-7.72 1.47 1.35L5.41 20z\"/>\n",
              "  </svg>\n",
              "      </button>\n",
              "      \n",
              "  <style>\n",
              "    .colab-df-container {\n",
              "      display:flex;\n",
              "      flex-wrap:wrap;\n",
              "      gap: 12px;\n",
              "    }\n",
              "\n",
              "    .colab-df-convert {\n",
              "      background-color: #E8F0FE;\n",
              "      border: none;\n",
              "      border-radius: 50%;\n",
              "      cursor: pointer;\n",
              "      display: none;\n",
              "      fill: #1967D2;\n",
              "      height: 32px;\n",
              "      padding: 0 0 0 0;\n",
              "      width: 32px;\n",
              "    }\n",
              "\n",
              "    .colab-df-convert:hover {\n",
              "      background-color: #E2EBFA;\n",
              "      box-shadow: 0px 1px 2px rgba(60, 64, 67, 0.3), 0px 1px 3px 1px rgba(60, 64, 67, 0.15);\n",
              "      fill: #174EA6;\n",
              "    }\n",
              "\n",
              "    [theme=dark] .colab-df-convert {\n",
              "      background-color: #3B4455;\n",
              "      fill: #D2E3FC;\n",
              "    }\n",
              "\n",
              "    [theme=dark] .colab-df-convert:hover {\n",
              "      background-color: #434B5C;\n",
              "      box-shadow: 0px 1px 3px 1px rgba(0, 0, 0, 0.15);\n",
              "      filter: drop-shadow(0px 1px 2px rgba(0, 0, 0, 0.3));\n",
              "      fill: #FFFFFF;\n",
              "    }\n",
              "  </style>\n",
              "\n",
              "      <script>\n",
              "        const buttonEl =\n",
              "          document.querySelector('#df-8323e9b3-0b50-4dc5-86ed-019bcb1e8c14 button.colab-df-convert');\n",
              "        buttonEl.style.display =\n",
              "          google.colab.kernel.accessAllowed ? 'block' : 'none';\n",
              "\n",
              "        async function convertToInteractive(key) {\n",
              "          const element = document.querySelector('#df-8323e9b3-0b50-4dc5-86ed-019bcb1e8c14');\n",
              "          const dataTable =\n",
              "            await google.colab.kernel.invokeFunction('convertToInteractive',\n",
              "                                                     [key], {});\n",
              "          if (!dataTable) return;\n",
              "\n",
              "          const docLinkHtml = 'Like what you see? Visit the ' +\n",
              "            '<a target=\"_blank\" href=https://colab.research.google.com/notebooks/data_table.ipynb>data table notebook</a>'\n",
              "            + ' to learn more about interactive tables.';\n",
              "          element.innerHTML = '';\n",
              "          dataTable['output_type'] = 'display_data';\n",
              "          await google.colab.output.renderOutput(dataTable, element);\n",
              "          const docLink = document.createElement('div');\n",
              "          docLink.innerHTML = docLinkHtml;\n",
              "          element.appendChild(docLink);\n",
              "        }\n",
              "      </script>\n",
              "    </div>\n",
              "  </div>\n",
              "  "
            ]
          },
          "metadata": {},
          "execution_count": 92
        }
      ]
    },
    {
      "cell_type": "markdown",
      "source": [
        "Q8. **Find the Player(s) whose potential is more than 90 but the age < 20**"
      ],
      "metadata": {
        "id": "WaFqtxyk8sJG"
      }
    },
    {
      "cell_type": "code",
      "source": [
        "p = fifa_final.loc[fifa_final.POT > 90 ]\n",
        "q = p.loc[fifa_final.Age<20].iloc[:,[0,1,3]]\n",
        "q"
      ],
      "metadata": {
        "colab": {
          "base_uri": "https://localhost:8080/",
          "height": 175
        },
        "id": "jqo-Z1Tl7jl5",
        "outputId": "722155d8-2e6b-4d7a-9bab-daab903debd9"
      },
      "execution_count": null,
      "outputs": [
        {
          "output_type": "execute_result",
          "data": {
            "text/plain": [
              "              Name  Age  POT\n",
              "62   J. Bellingham   19   91\n",
              "63           Pedri   19   92\n",
              "147     J. Musiala   19   92\n",
              "199       F. Wirtz   19   91"
            ],
            "text/html": [
              "\n",
              "  <div id=\"df-f958d61a-9011-4767-9abe-44212d589951\">\n",
              "    <div class=\"colab-df-container\">\n",
              "      <div>\n",
              "<style scoped>\n",
              "    .dataframe tbody tr th:only-of-type {\n",
              "        vertical-align: middle;\n",
              "    }\n",
              "\n",
              "    .dataframe tbody tr th {\n",
              "        vertical-align: top;\n",
              "    }\n",
              "\n",
              "    .dataframe thead th {\n",
              "        text-align: right;\n",
              "    }\n",
              "</style>\n",
              "<table border=\"1\" class=\"dataframe\">\n",
              "  <thead>\n",
              "    <tr style=\"text-align: right;\">\n",
              "      <th></th>\n",
              "      <th>Name</th>\n",
              "      <th>Age</th>\n",
              "      <th>POT</th>\n",
              "    </tr>\n",
              "  </thead>\n",
              "  <tbody>\n",
              "    <tr>\n",
              "      <th>62</th>\n",
              "      <td>J. Bellingham</td>\n",
              "      <td>19</td>\n",
              "      <td>91</td>\n",
              "    </tr>\n",
              "    <tr>\n",
              "      <th>63</th>\n",
              "      <td>Pedri</td>\n",
              "      <td>19</td>\n",
              "      <td>92</td>\n",
              "    </tr>\n",
              "    <tr>\n",
              "      <th>147</th>\n",
              "      <td>J. Musiala</td>\n",
              "      <td>19</td>\n",
              "      <td>92</td>\n",
              "    </tr>\n",
              "    <tr>\n",
              "      <th>199</th>\n",
              "      <td>F. Wirtz</td>\n",
              "      <td>19</td>\n",
              "      <td>91</td>\n",
              "    </tr>\n",
              "  </tbody>\n",
              "</table>\n",
              "</div>\n",
              "      <button class=\"colab-df-convert\" onclick=\"convertToInteractive('df-f958d61a-9011-4767-9abe-44212d589951')\"\n",
              "              title=\"Convert this dataframe to an interactive table.\"\n",
              "              style=\"display:none;\">\n",
              "        \n",
              "  <svg xmlns=\"http://www.w3.org/2000/svg\" height=\"24px\"viewBox=\"0 0 24 24\"\n",
              "       width=\"24px\">\n",
              "    <path d=\"M0 0h24v24H0V0z\" fill=\"none\"/>\n",
              "    <path d=\"M18.56 5.44l.94 2.06.94-2.06 2.06-.94-2.06-.94-.94-2.06-.94 2.06-2.06.94zm-11 1L8.5 8.5l.94-2.06 2.06-.94-2.06-.94L8.5 2.5l-.94 2.06-2.06.94zm10 10l.94 2.06.94-2.06 2.06-.94-2.06-.94-.94-2.06-.94 2.06-2.06.94z\"/><path d=\"M17.41 7.96l-1.37-1.37c-.4-.4-.92-.59-1.43-.59-.52 0-1.04.2-1.43.59L10.3 9.45l-7.72 7.72c-.78.78-.78 2.05 0 2.83L4 21.41c.39.39.9.59 1.41.59.51 0 1.02-.2 1.41-.59l7.78-7.78 2.81-2.81c.8-.78.8-2.07 0-2.86zM5.41 20L4 18.59l7.72-7.72 1.47 1.35L5.41 20z\"/>\n",
              "  </svg>\n",
              "      </button>\n",
              "      \n",
              "  <style>\n",
              "    .colab-df-container {\n",
              "      display:flex;\n",
              "      flex-wrap:wrap;\n",
              "      gap: 12px;\n",
              "    }\n",
              "\n",
              "    .colab-df-convert {\n",
              "      background-color: #E8F0FE;\n",
              "      border: none;\n",
              "      border-radius: 50%;\n",
              "      cursor: pointer;\n",
              "      display: none;\n",
              "      fill: #1967D2;\n",
              "      height: 32px;\n",
              "      padding: 0 0 0 0;\n",
              "      width: 32px;\n",
              "    }\n",
              "\n",
              "    .colab-df-convert:hover {\n",
              "      background-color: #E2EBFA;\n",
              "      box-shadow: 0px 1px 2px rgba(60, 64, 67, 0.3), 0px 1px 3px 1px rgba(60, 64, 67, 0.15);\n",
              "      fill: #174EA6;\n",
              "    }\n",
              "\n",
              "    [theme=dark] .colab-df-convert {\n",
              "      background-color: #3B4455;\n",
              "      fill: #D2E3FC;\n",
              "    }\n",
              "\n",
              "    [theme=dark] .colab-df-convert:hover {\n",
              "      background-color: #434B5C;\n",
              "      box-shadow: 0px 1px 3px 1px rgba(0, 0, 0, 0.15);\n",
              "      filter: drop-shadow(0px 1px 2px rgba(0, 0, 0, 0.3));\n",
              "      fill: #FFFFFF;\n",
              "    }\n",
              "  </style>\n",
              "\n",
              "      <script>\n",
              "        const buttonEl =\n",
              "          document.querySelector('#df-f958d61a-9011-4767-9abe-44212d589951 button.colab-df-convert');\n",
              "        buttonEl.style.display =\n",
              "          google.colab.kernel.accessAllowed ? 'block' : 'none';\n",
              "\n",
              "        async function convertToInteractive(key) {\n",
              "          const element = document.querySelector('#df-f958d61a-9011-4767-9abe-44212d589951');\n",
              "          const dataTable =\n",
              "            await google.colab.kernel.invokeFunction('convertToInteractive',\n",
              "                                                     [key], {});\n",
              "          if (!dataTable) return;\n",
              "\n",
              "          const docLinkHtml = 'Like what you see? Visit the ' +\n",
              "            '<a target=\"_blank\" href=https://colab.research.google.com/notebooks/data_table.ipynb>data table notebook</a>'\n",
              "            + ' to learn more about interactive tables.';\n",
              "          element.innerHTML = '';\n",
              "          dataTable['output_type'] = 'display_data';\n",
              "          await google.colab.output.renderOutput(dataTable, element);\n",
              "          const docLink = document.createElement('div');\n",
              "          docLink.innerHTML = docLinkHtml;\n",
              "          element.appendChild(docLink);\n",
              "        }\n",
              "      </script>\n",
              "    </div>\n",
              "  </div>\n",
              "  "
            ]
          },
          "metadata": {},
          "execution_count": 100
        }
      ]
    },
    {
      "cell_type": "markdown",
      "source": [
        " Q.9 **Find out the most Valuable Player.**"
      ],
      "metadata": {
        "id": "m97qA83sBW9a"
      }
    },
    {
      "cell_type": "code",
      "source": [
        "# first need to convert value column into float and remove 'M' symbol \n",
        "\n",
        "fifa_final.Value = fifa_final.Value.str.replace(\"M\",\"\")\n",
        "fifa_final.Value = fifa_final.Value.astype(float)\n",
        "maxval = fifa_final.Value.max()\n",
        "fifa_final.loc[fifa_final.Value == maxval].iloc[:,[0,5]]\n",
        "\n",
        "#renaming column name to Value(millions)\n",
        "\n"
      ],
      "metadata": {
        "colab": {
          "base_uri": "https://localhost:8080/",
          "height": 81
        },
        "id": "-tVP047LA60v",
        "outputId": "07d001f2-91cc-4ef6-c535-64ee441b866e"
      },
      "execution_count": 187,
      "outputs": [
        {
          "output_type": "execute_result",
          "data": {
            "text/plain": [
              "        Name  Value\n",
              "0  K. Mbappé  190.5"
            ],
            "text/html": [
              "\n",
              "  <div id=\"df-e8065c02-5a46-4c92-a4ec-d68b1a009877\">\n",
              "    <div class=\"colab-df-container\">\n",
              "      <div>\n",
              "<style scoped>\n",
              "    .dataframe tbody tr th:only-of-type {\n",
              "        vertical-align: middle;\n",
              "    }\n",
              "\n",
              "    .dataframe tbody tr th {\n",
              "        vertical-align: top;\n",
              "    }\n",
              "\n",
              "    .dataframe thead th {\n",
              "        text-align: right;\n",
              "    }\n",
              "</style>\n",
              "<table border=\"1\" class=\"dataframe\">\n",
              "  <thead>\n",
              "    <tr style=\"text-align: right;\">\n",
              "      <th></th>\n",
              "      <th>Name</th>\n",
              "      <th>Value</th>\n",
              "    </tr>\n",
              "  </thead>\n",
              "  <tbody>\n",
              "    <tr>\n",
              "      <th>0</th>\n",
              "      <td>K. Mbappé</td>\n",
              "      <td>190.5</td>\n",
              "    </tr>\n",
              "  </tbody>\n",
              "</table>\n",
              "</div>\n",
              "      <button class=\"colab-df-convert\" onclick=\"convertToInteractive('df-e8065c02-5a46-4c92-a4ec-d68b1a009877')\"\n",
              "              title=\"Convert this dataframe to an interactive table.\"\n",
              "              style=\"display:none;\">\n",
              "        \n",
              "  <svg xmlns=\"http://www.w3.org/2000/svg\" height=\"24px\"viewBox=\"0 0 24 24\"\n",
              "       width=\"24px\">\n",
              "    <path d=\"M0 0h24v24H0V0z\" fill=\"none\"/>\n",
              "    <path d=\"M18.56 5.44l.94 2.06.94-2.06 2.06-.94-2.06-.94-.94-2.06-.94 2.06-2.06.94zm-11 1L8.5 8.5l.94-2.06 2.06-.94-2.06-.94L8.5 2.5l-.94 2.06-2.06.94zm10 10l.94 2.06.94-2.06 2.06-.94-2.06-.94-.94-2.06-.94 2.06-2.06.94z\"/><path d=\"M17.41 7.96l-1.37-1.37c-.4-.4-.92-.59-1.43-.59-.52 0-1.04.2-1.43.59L10.3 9.45l-7.72 7.72c-.78.78-.78 2.05 0 2.83L4 21.41c.39.39.9.59 1.41.59.51 0 1.02-.2 1.41-.59l7.78-7.78 2.81-2.81c.8-.78.8-2.07 0-2.86zM5.41 20L4 18.59l7.72-7.72 1.47 1.35L5.41 20z\"/>\n",
              "  </svg>\n",
              "      </button>\n",
              "      \n",
              "  <style>\n",
              "    .colab-df-container {\n",
              "      display:flex;\n",
              "      flex-wrap:wrap;\n",
              "      gap: 12px;\n",
              "    }\n",
              "\n",
              "    .colab-df-convert {\n",
              "      background-color: #E8F0FE;\n",
              "      border: none;\n",
              "      border-radius: 50%;\n",
              "      cursor: pointer;\n",
              "      display: none;\n",
              "      fill: #1967D2;\n",
              "      height: 32px;\n",
              "      padding: 0 0 0 0;\n",
              "      width: 32px;\n",
              "    }\n",
              "\n",
              "    .colab-df-convert:hover {\n",
              "      background-color: #E2EBFA;\n",
              "      box-shadow: 0px 1px 2px rgba(60, 64, 67, 0.3), 0px 1px 3px 1px rgba(60, 64, 67, 0.15);\n",
              "      fill: #174EA6;\n",
              "    }\n",
              "\n",
              "    [theme=dark] .colab-df-convert {\n",
              "      background-color: #3B4455;\n",
              "      fill: #D2E3FC;\n",
              "    }\n",
              "\n",
              "    [theme=dark] .colab-df-convert:hover {\n",
              "      background-color: #434B5C;\n",
              "      box-shadow: 0px 1px 3px 1px rgba(0, 0, 0, 0.15);\n",
              "      filter: drop-shadow(0px 1px 2px rgba(0, 0, 0, 0.3));\n",
              "      fill: #FFFFFF;\n",
              "    }\n",
              "  </style>\n",
              "\n",
              "      <script>\n",
              "        const buttonEl =\n",
              "          document.querySelector('#df-e8065c02-5a46-4c92-a4ec-d68b1a009877 button.colab-df-convert');\n",
              "        buttonEl.style.display =\n",
              "          google.colab.kernel.accessAllowed ? 'block' : 'none';\n",
              "\n",
              "        async function convertToInteractive(key) {\n",
              "          const element = document.querySelector('#df-e8065c02-5a46-4c92-a4ec-d68b1a009877');\n",
              "          const dataTable =\n",
              "            await google.colab.kernel.invokeFunction('convertToInteractive',\n",
              "                                                     [key], {});\n",
              "          if (!dataTable) return;\n",
              "\n",
              "          const docLinkHtml = 'Like what you see? Visit the ' +\n",
              "            '<a target=\"_blank\" href=https://colab.research.google.com/notebooks/data_table.ipynb>data table notebook</a>'\n",
              "            + ' to learn more about interactive tables.';\n",
              "          element.innerHTML = '';\n",
              "          dataTable['output_type'] = 'display_data';\n",
              "          await google.colab.output.renderOutput(dataTable, element);\n",
              "          const docLink = document.createElement('div');\n",
              "          docLink.innerHTML = docLinkHtml;\n",
              "          element.appendChild(docLink);\n",
              "        }\n",
              "      </script>\n",
              "    </div>\n",
              "  </div>\n",
              "  "
            ]
          },
          "metadata": {},
          "execution_count": 187
        }
      ]
    },
    {
      "cell_type": "code",
      "source": [
        " #renaming column name to Value(millions)\n",
        "\n",
        "fifa_final.rename(columns = {'Value': 'Value(M)'}, inplace =True)"
      ],
      "metadata": {
        "id": "misFDdNfELNL"
      },
      "execution_count": 188,
      "outputs": []
    },
    {
      "cell_type": "code",
      "source": [
        "fifa_final"
      ],
      "metadata": {
        "colab": {
          "base_uri": "https://localhost:8080/",
          "height": 424
        },
        "id": "7mdW04pOEWeE",
        "outputId": "74a3e4be-578a-40c7-f2bc-00968833dfaf"
      },
      "execution_count": 189,
      "outputs": [
        {
          "output_type": "execute_result",
          "data": {
            "text/plain": [
              "                Name  Age  OVA  POT                 Team  Value(M)  Wage  \\\n",
              "0          K. Mbappé   23   91   95  Paris Saint Germain     190.5  230K   \n",
              "1       K. De Bruyne   31   91   91      Manchester City     107.5  350K   \n",
              "2     R. Lewandowski   33   91   91         FC Barcelona      84.0  420K   \n",
              "3         K. Benzema   34   91   91          Real Madrid      64.0  450K   \n",
              "4           L. Messi   35   91   91  Paris Saint Germain      54.0  195K   \n",
              "..               ...  ...  ...  ...                  ...       ...   ...   \n",
              "595        J. Correa   27   79   79                Inter      19.0   71K   \n",
              "596     L. Zelarayán   30   79   79        Columbus Crew      17.0   12K   \n",
              "597        F. Armani   35   79   79          River Plate       1.9   10K   \n",
              "598        S. Azmoun   27   79   79  Bayer 04 Leverkusen      19.0   60K   \n",
              "599  F. Bernardeschi   28   79   79              Toronto      17.5   12K   \n",
              "\n",
              "     Total_stats  \n",
              "0           2181  \n",
              "1           2298  \n",
              "2           2205  \n",
              "3           2147  \n",
              "4           2190  \n",
              "..           ...  \n",
              "595         1945  \n",
              "596         2032  \n",
              "597         1291  \n",
              "598         1973  \n",
              "599         2089  \n",
              "\n",
              "[600 rows x 8 columns]"
            ],
            "text/html": [
              "\n",
              "  <div id=\"df-985b4739-939c-4c70-b438-beb271308d90\">\n",
              "    <div class=\"colab-df-container\">\n",
              "      <div>\n",
              "<style scoped>\n",
              "    .dataframe tbody tr th:only-of-type {\n",
              "        vertical-align: middle;\n",
              "    }\n",
              "\n",
              "    .dataframe tbody tr th {\n",
              "        vertical-align: top;\n",
              "    }\n",
              "\n",
              "    .dataframe thead th {\n",
              "        text-align: right;\n",
              "    }\n",
              "</style>\n",
              "<table border=\"1\" class=\"dataframe\">\n",
              "  <thead>\n",
              "    <tr style=\"text-align: right;\">\n",
              "      <th></th>\n",
              "      <th>Name</th>\n",
              "      <th>Age</th>\n",
              "      <th>OVA</th>\n",
              "      <th>POT</th>\n",
              "      <th>Team</th>\n",
              "      <th>Value(M)</th>\n",
              "      <th>Wage</th>\n",
              "      <th>Total_stats</th>\n",
              "    </tr>\n",
              "  </thead>\n",
              "  <tbody>\n",
              "    <tr>\n",
              "      <th>0</th>\n",
              "      <td>K. Mbappé</td>\n",
              "      <td>23</td>\n",
              "      <td>91</td>\n",
              "      <td>95</td>\n",
              "      <td>Paris Saint Germain</td>\n",
              "      <td>190.5</td>\n",
              "      <td>230K</td>\n",
              "      <td>2181</td>\n",
              "    </tr>\n",
              "    <tr>\n",
              "      <th>1</th>\n",
              "      <td>K. De Bruyne</td>\n",
              "      <td>31</td>\n",
              "      <td>91</td>\n",
              "      <td>91</td>\n",
              "      <td>Manchester City</td>\n",
              "      <td>107.5</td>\n",
              "      <td>350K</td>\n",
              "      <td>2298</td>\n",
              "    </tr>\n",
              "    <tr>\n",
              "      <th>2</th>\n",
              "      <td>R. Lewandowski</td>\n",
              "      <td>33</td>\n",
              "      <td>91</td>\n",
              "      <td>91</td>\n",
              "      <td>FC Barcelona</td>\n",
              "      <td>84.0</td>\n",
              "      <td>420K</td>\n",
              "      <td>2205</td>\n",
              "    </tr>\n",
              "    <tr>\n",
              "      <th>3</th>\n",
              "      <td>K. Benzema</td>\n",
              "      <td>34</td>\n",
              "      <td>91</td>\n",
              "      <td>91</td>\n",
              "      <td>Real Madrid</td>\n",
              "      <td>64.0</td>\n",
              "      <td>450K</td>\n",
              "      <td>2147</td>\n",
              "    </tr>\n",
              "    <tr>\n",
              "      <th>4</th>\n",
              "      <td>L. Messi</td>\n",
              "      <td>35</td>\n",
              "      <td>91</td>\n",
              "      <td>91</td>\n",
              "      <td>Paris Saint Germain</td>\n",
              "      <td>54.0</td>\n",
              "      <td>195K</td>\n",
              "      <td>2190</td>\n",
              "    </tr>\n",
              "    <tr>\n",
              "      <th>...</th>\n",
              "      <td>...</td>\n",
              "      <td>...</td>\n",
              "      <td>...</td>\n",
              "      <td>...</td>\n",
              "      <td>...</td>\n",
              "      <td>...</td>\n",
              "      <td>...</td>\n",
              "      <td>...</td>\n",
              "    </tr>\n",
              "    <tr>\n",
              "      <th>595</th>\n",
              "      <td>J. Correa</td>\n",
              "      <td>27</td>\n",
              "      <td>79</td>\n",
              "      <td>79</td>\n",
              "      <td>Inter</td>\n",
              "      <td>19.0</td>\n",
              "      <td>71K</td>\n",
              "      <td>1945</td>\n",
              "    </tr>\n",
              "    <tr>\n",
              "      <th>596</th>\n",
              "      <td>L. Zelarayán</td>\n",
              "      <td>30</td>\n",
              "      <td>79</td>\n",
              "      <td>79</td>\n",
              "      <td>Columbus Crew</td>\n",
              "      <td>17.0</td>\n",
              "      <td>12K</td>\n",
              "      <td>2032</td>\n",
              "    </tr>\n",
              "    <tr>\n",
              "      <th>597</th>\n",
              "      <td>F. Armani</td>\n",
              "      <td>35</td>\n",
              "      <td>79</td>\n",
              "      <td>79</td>\n",
              "      <td>River Plate</td>\n",
              "      <td>1.9</td>\n",
              "      <td>10K</td>\n",
              "      <td>1291</td>\n",
              "    </tr>\n",
              "    <tr>\n",
              "      <th>598</th>\n",
              "      <td>S. Azmoun</td>\n",
              "      <td>27</td>\n",
              "      <td>79</td>\n",
              "      <td>79</td>\n",
              "      <td>Bayer 04 Leverkusen</td>\n",
              "      <td>19.0</td>\n",
              "      <td>60K</td>\n",
              "      <td>1973</td>\n",
              "    </tr>\n",
              "    <tr>\n",
              "      <th>599</th>\n",
              "      <td>F. Bernardeschi</td>\n",
              "      <td>28</td>\n",
              "      <td>79</td>\n",
              "      <td>79</td>\n",
              "      <td>Toronto</td>\n",
              "      <td>17.5</td>\n",
              "      <td>12K</td>\n",
              "      <td>2089</td>\n",
              "    </tr>\n",
              "  </tbody>\n",
              "</table>\n",
              "<p>600 rows × 8 columns</p>\n",
              "</div>\n",
              "      <button class=\"colab-df-convert\" onclick=\"convertToInteractive('df-985b4739-939c-4c70-b438-beb271308d90')\"\n",
              "              title=\"Convert this dataframe to an interactive table.\"\n",
              "              style=\"display:none;\">\n",
              "        \n",
              "  <svg xmlns=\"http://www.w3.org/2000/svg\" height=\"24px\"viewBox=\"0 0 24 24\"\n",
              "       width=\"24px\">\n",
              "    <path d=\"M0 0h24v24H0V0z\" fill=\"none\"/>\n",
              "    <path d=\"M18.56 5.44l.94 2.06.94-2.06 2.06-.94-2.06-.94-.94-2.06-.94 2.06-2.06.94zm-11 1L8.5 8.5l.94-2.06 2.06-.94-2.06-.94L8.5 2.5l-.94 2.06-2.06.94zm10 10l.94 2.06.94-2.06 2.06-.94-2.06-.94-.94-2.06-.94 2.06-2.06.94z\"/><path d=\"M17.41 7.96l-1.37-1.37c-.4-.4-.92-.59-1.43-.59-.52 0-1.04.2-1.43.59L10.3 9.45l-7.72 7.72c-.78.78-.78 2.05 0 2.83L4 21.41c.39.39.9.59 1.41.59.51 0 1.02-.2 1.41-.59l7.78-7.78 2.81-2.81c.8-.78.8-2.07 0-2.86zM5.41 20L4 18.59l7.72-7.72 1.47 1.35L5.41 20z\"/>\n",
              "  </svg>\n",
              "      </button>\n",
              "      \n",
              "  <style>\n",
              "    .colab-df-container {\n",
              "      display:flex;\n",
              "      flex-wrap:wrap;\n",
              "      gap: 12px;\n",
              "    }\n",
              "\n",
              "    .colab-df-convert {\n",
              "      background-color: #E8F0FE;\n",
              "      border: none;\n",
              "      border-radius: 50%;\n",
              "      cursor: pointer;\n",
              "      display: none;\n",
              "      fill: #1967D2;\n",
              "      height: 32px;\n",
              "      padding: 0 0 0 0;\n",
              "      width: 32px;\n",
              "    }\n",
              "\n",
              "    .colab-df-convert:hover {\n",
              "      background-color: #E2EBFA;\n",
              "      box-shadow: 0px 1px 2px rgba(60, 64, 67, 0.3), 0px 1px 3px 1px rgba(60, 64, 67, 0.15);\n",
              "      fill: #174EA6;\n",
              "    }\n",
              "\n",
              "    [theme=dark] .colab-df-convert {\n",
              "      background-color: #3B4455;\n",
              "      fill: #D2E3FC;\n",
              "    }\n",
              "\n",
              "    [theme=dark] .colab-df-convert:hover {\n",
              "      background-color: #434B5C;\n",
              "      box-shadow: 0px 1px 3px 1px rgba(0, 0, 0, 0.15);\n",
              "      filter: drop-shadow(0px 1px 2px rgba(0, 0, 0, 0.3));\n",
              "      fill: #FFFFFF;\n",
              "    }\n",
              "  </style>\n",
              "\n",
              "      <script>\n",
              "        const buttonEl =\n",
              "          document.querySelector('#df-985b4739-939c-4c70-b438-beb271308d90 button.colab-df-convert');\n",
              "        buttonEl.style.display =\n",
              "          google.colab.kernel.accessAllowed ? 'block' : 'none';\n",
              "\n",
              "        async function convertToInteractive(key) {\n",
              "          const element = document.querySelector('#df-985b4739-939c-4c70-b438-beb271308d90');\n",
              "          const dataTable =\n",
              "            await google.colab.kernel.invokeFunction('convertToInteractive',\n",
              "                                                     [key], {});\n",
              "          if (!dataTable) return;\n",
              "\n",
              "          const docLinkHtml = 'Like what you see? Visit the ' +\n",
              "            '<a target=\"_blank\" href=https://colab.research.google.com/notebooks/data_table.ipynb>data table notebook</a>'\n",
              "            + ' to learn more about interactive tables.';\n",
              "          element.innerHTML = '';\n",
              "          dataTable['output_type'] = 'display_data';\n",
              "          await google.colab.output.renderOutput(dataTable, element);\n",
              "          const docLink = document.createElement('div');\n",
              "          docLink.innerHTML = docLinkHtml;\n",
              "          element.appendChild(docLink);\n",
              "        }\n",
              "      </script>\n",
              "    </div>\n",
              "  </div>\n",
              "  "
            ]
          },
          "metadata": {},
          "execution_count": 189
        }
      ]
    },
    {
      "cell_type": "markdown",
      "source": [
        "Q10. **List all the Paris Saint Germain players.**\n",
        "\n",
        "```\n",
        "fifa_final.loc[fifa_final.Team == 'Paris Saint Germain'\t, 'Name']\n",
        "```\n",
        "\n"
      ],
      "metadata": {
        "id": "V3TgJTBtE0Wg"
      }
    },
    {
      "cell_type": "code",
      "source": [
        "fifa_final.loc[fifa_final.Team == 'Paris Saint Germain'].iloc[:,0]"
      ],
      "metadata": {
        "colab": {
          "base_uri": "https://localhost:8080/"
        },
        "id": "oh-BagTBEkJt",
        "outputId": "59f9b793-4e0f-40d2-c320-4add5371808d"
      },
      "execution_count": 190,
      "outputs": [
        {
          "output_type": "execute_result",
          "data": {
            "text/plain": [
              "0           K. Mbappé\n",
              "4            L. Messi\n",
              "16          Neymar Jr\n",
              "19      G. Donnarumma\n",
              "23         Marquinhos\n",
              "35        M. Verratti\n",
              "37           K. Navas\n",
              "102         A. Hakimi\n",
              "144      Sergio Ramos\n",
              "156      Carlos Soler\n",
              "170       Fabián Ruiz\n",
              "171       P. Kimpembe\n",
              "274       Nuno Mendes\n",
              "374           Vitinha\n",
              "479    Danilo Pereira\n",
              "556    Renato Sanches\n",
              "574        N. Mukiele\n",
              "Name: Name, dtype: object"
            ]
          },
          "metadata": {},
          "execution_count": 190
        }
      ]
    },
    {
      "cell_type": "markdown",
      "source": [
        "Q11. **Name the player with Highest total rating.**"
      ],
      "metadata": {
        "id": "78Hr14ZPF2UL"
      }
    },
    {
      "cell_type": "code",
      "source": [
        "maxtot = fifa_final.Total_stats.max()\n",
        "fifa_final.loc[fifa_final.Total_stats == maxtot]"
      ],
      "metadata": {
        "colab": {
          "base_uri": "https://localhost:8080/",
          "height": 81
        },
        "id": "kJbu1BOMHW6y",
        "outputId": "ed7c0319-5080-49f3-8e6d-c07b3b06a011"
      },
      "execution_count": 185,
      "outputs": [
        {
          "output_type": "execute_result",
          "data": {
            "text/plain": [
              "           Name  Age  OVA  POT               Team Value  Wage  Total_stats\n",
              "33  L. Goretzka   27   87   88  FC Bayern München   91M  115K         2312"
            ],
            "text/html": [
              "\n",
              "  <div id=\"df-e6196886-9e3b-45ac-8a50-cab521ea06d5\">\n",
              "    <div class=\"colab-df-container\">\n",
              "      <div>\n",
              "<style scoped>\n",
              "    .dataframe tbody tr th:only-of-type {\n",
              "        vertical-align: middle;\n",
              "    }\n",
              "\n",
              "    .dataframe tbody tr th {\n",
              "        vertical-align: top;\n",
              "    }\n",
              "\n",
              "    .dataframe thead th {\n",
              "        text-align: right;\n",
              "    }\n",
              "</style>\n",
              "<table border=\"1\" class=\"dataframe\">\n",
              "  <thead>\n",
              "    <tr style=\"text-align: right;\">\n",
              "      <th></th>\n",
              "      <th>Name</th>\n",
              "      <th>Age</th>\n",
              "      <th>OVA</th>\n",
              "      <th>POT</th>\n",
              "      <th>Team</th>\n",
              "      <th>Value</th>\n",
              "      <th>Wage</th>\n",
              "      <th>Total_stats</th>\n",
              "    </tr>\n",
              "  </thead>\n",
              "  <tbody>\n",
              "    <tr>\n",
              "      <th>33</th>\n",
              "      <td>L. Goretzka</td>\n",
              "      <td>27</td>\n",
              "      <td>87</td>\n",
              "      <td>88</td>\n",
              "      <td>FC Bayern München</td>\n",
              "      <td>91M</td>\n",
              "      <td>115K</td>\n",
              "      <td>2312</td>\n",
              "    </tr>\n",
              "  </tbody>\n",
              "</table>\n",
              "</div>\n",
              "      <button class=\"colab-df-convert\" onclick=\"convertToInteractive('df-e6196886-9e3b-45ac-8a50-cab521ea06d5')\"\n",
              "              title=\"Convert this dataframe to an interactive table.\"\n",
              "              style=\"display:none;\">\n",
              "        \n",
              "  <svg xmlns=\"http://www.w3.org/2000/svg\" height=\"24px\"viewBox=\"0 0 24 24\"\n",
              "       width=\"24px\">\n",
              "    <path d=\"M0 0h24v24H0V0z\" fill=\"none\"/>\n",
              "    <path d=\"M18.56 5.44l.94 2.06.94-2.06 2.06-.94-2.06-.94-.94-2.06-.94 2.06-2.06.94zm-11 1L8.5 8.5l.94-2.06 2.06-.94-2.06-.94L8.5 2.5l-.94 2.06-2.06.94zm10 10l.94 2.06.94-2.06 2.06-.94-2.06-.94-.94-2.06-.94 2.06-2.06.94z\"/><path d=\"M17.41 7.96l-1.37-1.37c-.4-.4-.92-.59-1.43-.59-.52 0-1.04.2-1.43.59L10.3 9.45l-7.72 7.72c-.78.78-.78 2.05 0 2.83L4 21.41c.39.39.9.59 1.41.59.51 0 1.02-.2 1.41-.59l7.78-7.78 2.81-2.81c.8-.78.8-2.07 0-2.86zM5.41 20L4 18.59l7.72-7.72 1.47 1.35L5.41 20z\"/>\n",
              "  </svg>\n",
              "      </button>\n",
              "      \n",
              "  <style>\n",
              "    .colab-df-container {\n",
              "      display:flex;\n",
              "      flex-wrap:wrap;\n",
              "      gap: 12px;\n",
              "    }\n",
              "\n",
              "    .colab-df-convert {\n",
              "      background-color: #E8F0FE;\n",
              "      border: none;\n",
              "      border-radius: 50%;\n",
              "      cursor: pointer;\n",
              "      display: none;\n",
              "      fill: #1967D2;\n",
              "      height: 32px;\n",
              "      padding: 0 0 0 0;\n",
              "      width: 32px;\n",
              "    }\n",
              "\n",
              "    .colab-df-convert:hover {\n",
              "      background-color: #E2EBFA;\n",
              "      box-shadow: 0px 1px 2px rgba(60, 64, 67, 0.3), 0px 1px 3px 1px rgba(60, 64, 67, 0.15);\n",
              "      fill: #174EA6;\n",
              "    }\n",
              "\n",
              "    [theme=dark] .colab-df-convert {\n",
              "      background-color: #3B4455;\n",
              "      fill: #D2E3FC;\n",
              "    }\n",
              "\n",
              "    [theme=dark] .colab-df-convert:hover {\n",
              "      background-color: #434B5C;\n",
              "      box-shadow: 0px 1px 3px 1px rgba(0, 0, 0, 0.15);\n",
              "      filter: drop-shadow(0px 1px 2px rgba(0, 0, 0, 0.3));\n",
              "      fill: #FFFFFF;\n",
              "    }\n",
              "  </style>\n",
              "\n",
              "      <script>\n",
              "        const buttonEl =\n",
              "          document.querySelector('#df-e6196886-9e3b-45ac-8a50-cab521ea06d5 button.colab-df-convert');\n",
              "        buttonEl.style.display =\n",
              "          google.colab.kernel.accessAllowed ? 'block' : 'none';\n",
              "\n",
              "        async function convertToInteractive(key) {\n",
              "          const element = document.querySelector('#df-e6196886-9e3b-45ac-8a50-cab521ea06d5');\n",
              "          const dataTable =\n",
              "            await google.colab.kernel.invokeFunction('convertToInteractive',\n",
              "                                                     [key], {});\n",
              "          if (!dataTable) return;\n",
              "\n",
              "          const docLinkHtml = 'Like what you see? Visit the ' +\n",
              "            '<a target=\"_blank\" href=https://colab.research.google.com/notebooks/data_table.ipynb>data table notebook</a>'\n",
              "            + ' to learn more about interactive tables.';\n",
              "          element.innerHTML = '';\n",
              "          dataTable['output_type'] = 'display_data';\n",
              "          await google.colab.output.renderOutput(dataTable, element);\n",
              "          const docLink = document.createElement('div');\n",
              "          docLink.innerHTML = docLinkHtml;\n",
              "          element.appendChild(docLink);\n",
              "        }\n",
              "      </script>\n",
              "    </div>\n",
              "  </div>\n",
              "  "
            ]
          },
          "metadata": {},
          "execution_count": 185
        }
      ]
    },
    {
      "cell_type": "markdown",
      "source": [
        "Q12. **Who are the youngest and oldest players in the dataset?**"
      ],
      "metadata": {
        "id": "OT3B6BsUId3G"
      }
    },
    {
      "cell_type": "code",
      "source": [
        "young = fcopy.sort_values(by = 'Age').iloc[0,0]\n",
        "old = fcopy.sort_values(by = 'Age', ascending = False).iloc[0,0]\n",
        "\n",
        "print(f\"The youngest player is {young} and the oldest player is {old}\")"
      ],
      "metadata": {
        "colab": {
          "base_uri": "https://localhost:8080/"
        },
        "id": "AGcr-cavHs8N",
        "outputId": "f00501da-7176-420c-da31-db6519a9e0a2"
      },
      "execution_count": null,
      "outputs": [
        {
          "output_type": "stream",
          "name": "stdout",
          "text": [
            "The youngest player is Gavi and the oldest player is Z. Ibrahimović\n"
          ]
        }
      ]
    },
    {
      "cell_type": "markdown",
      "source": [
        "Q13. **What is the distribution of overall ratings in the dataset?**\n"
      ],
      "metadata": {
        "id": "mOhSZkonJaBw"
      }
    },
    {
      "cell_type": "code",
      "source": [
        "fifa_final.OVA.hist(bins=50)\n",
        "plt.xlabel('OVA')\n",
        "plt.ylabel('frequency')\n",
        "plt.title('OVA distribution')\n",
        "plt.show()"
      ],
      "metadata": {
        "colab": {
          "base_uri": "https://localhost:8080/",
          "height": 295
        },
        "id": "l91xTIxxKPfy",
        "outputId": "9bc8221c-ecc0-498e-d2bc-9b712a1a5fed"
      },
      "execution_count": 151,
      "outputs": [
        {
          "output_type": "display_data",
          "data": {
            "text/plain": [
              "<Figure size 432x288 with 1 Axes>"
            ],
            "image/png": "[encoded data removed]"
          },
          "metadata": {
            "needs_background": "light"
          }
        }
      ]
    },
    {
      "cell_type": "markdown",
      "source": [
        "Q14. **Find out the Team having max. players in the Dataset.**"
      ],
      "metadata": {
        "id": "6b5bHgnIP0wW"
      }
    },
    {
      "cell_type": "code",
      "source": [
        "m = fifa_final.Team.value_counts()\n",
        "print(f\"Team {m.index[0]} has the maximum i.e {m[0]} players in the Dataset.\")"
      ],
      "metadata": {
        "id": "ukIXsMu7KkUN",
        "colab": {
          "base_uri": "https://localhost:8080/"
        },
        "outputId": "31d7387c-615d-4bfb-e96e-fbca80deb715"
      },
      "execution_count": 182,
      "outputs": [
        {
          "output_type": "stream",
          "name": "stdout",
          "text": [
            "Team Chelsea has the maximum i.e 20 players in the Dataset.\n"
          ]
        }
      ]
    },
    {
      "cell_type": "markdown",
      "source": [
        "Q15. **How many teams are present in the Dataset?**"
      ],
      "metadata": {
        "id": "Pzf8KaB0SSDn"
      }
    },
    {
      "cell_type": "code",
      "source": [
        "n = fifa_final.Team.nunique()\n",
        "print(f\"There are {n} unique teams present in the dataset\")"
      ],
      "metadata": {
        "colab": {
          "base_uri": "https://localhost:8080/"
        },
        "id": "yzaiv9BrPld1",
        "outputId": "b179bedd-f767-40a1-d6e4-192c7d879706"
      },
      "execution_count": 174,
      "outputs": [
        {
          "output_type": "stream",
          "name": "stdout",
          "text": [
            "There are 108 unique teams present in the dataset\n"
          ]
        }
      ]
    },
    {
      "cell_type": "markdown",
      "source": [
        "**Find the correlation between the DataFrame.**"
      ],
      "metadata": {
        "id": "SVQpFsipUwxo"
      }
    },
    {
      "cell_type": "code",
      "source": [
        "fifa_final.corr()"
      ],
      "metadata": {
        "colab": {
          "base_uri": "https://localhost:8080/",
          "height": 206
        },
        "id": "_TJVvm8hU5US",
        "outputId": "5e319e14-9864-42ec-ed80-278ad337dde2"
      },
      "execution_count": 192,
      "outputs": [
        {
          "output_type": "execute_result",
          "data": {
            "text/plain": [
              "                  Age       OVA       POT  Value(M)  Total_stats\n",
              "Age          1.000000  0.206513 -0.414118 -0.390964    -0.162791\n",
              "OVA          0.206513  1.000000  0.683793  0.735686     0.126966\n",
              "POT         -0.414118  0.683793  1.000000  0.834957     0.115170\n",
              "Value(M)    -0.390964  0.735686  0.834957  1.000000     0.277979\n",
              "Total_stats -0.162791  0.126966  0.115170  0.277979     1.000000"
            ],
            "text/html": [
              "\n",
              "  <div id=\"df-9b352f07-c04f-4c64-9dcf-5d981941aea2\">\n",
              "    <div class=\"colab-df-container\">\n",
              "      <div>\n",
              "<style scoped>\n",
              "    .dataframe tbody tr th:only-of-type {\n",
              "        vertical-align: middle;\n",
              "    }\n",
              "\n",
              "    .dataframe tbody tr th {\n",
              "        vertical-align: top;\n",
              "    }\n",
              "\n",
              "    .dataframe thead th {\n",
              "        text-align: right;\n",
              "    }\n",
              "</style>\n",
              "<table border=\"1\" class=\"dataframe\">\n",
              "  <thead>\n",
              "    <tr style=\"text-align: right;\">\n",
              "      <th></th>\n",
              "      <th>Age</th>\n",
              "      <th>OVA</th>\n",
              "      <th>POT</th>\n",
              "      <th>Value(M)</th>\n",
              "      <th>Total_stats</th>\n",
              "    </tr>\n",
              "  </thead>\n",
              "  <tbody>\n",
              "    <tr>\n",
              "      <th>Age</th>\n",
              "      <td>1.000000</td>\n",
              "      <td>0.206513</td>\n",
              "      <td>-0.414118</td>\n",
              "      <td>-0.390964</td>\n",
              "      <td>-0.162791</td>\n",
              "    </tr>\n",
              "    <tr>\n",
              "      <th>OVA</th>\n",
              "      <td>0.206513</td>\n",
              "      <td>1.000000</td>\n",
              "      <td>0.683793</td>\n",
              "      <td>0.735686</td>\n",
              "      <td>0.126966</td>\n",
              "    </tr>\n",
              "    <tr>\n",
              "      <th>POT</th>\n",
              "      <td>-0.414118</td>\n",
              "      <td>0.683793</td>\n",
              "      <td>1.000000</td>\n",
              "      <td>0.834957</td>\n",
              "      <td>0.115170</td>\n",
              "    </tr>\n",
              "    <tr>\n",
              "      <th>Value(M)</th>\n",
              "      <td>-0.390964</td>\n",
              "      <td>0.735686</td>\n",
              "      <td>0.834957</td>\n",
              "      <td>1.000000</td>\n",
              "      <td>0.277979</td>\n",
              "    </tr>\n",
              "    <tr>\n",
              "      <th>Total_stats</th>\n",
              "      <td>-0.162791</td>\n",
              "      <td>0.126966</td>\n",
              "      <td>0.115170</td>\n",
              "      <td>0.277979</td>\n",
              "      <td>1.000000</td>\n",
              "    </tr>\n",
              "  </tbody>\n",
              "</table>\n",
              "</div>\n",
              "      <button class=\"colab-df-convert\" onclick=\"convertToInteractive('df-9b352f07-c04f-4c64-9dcf-5d981941aea2')\"\n",
              "              title=\"Convert this dataframe to an interactive table.\"\n",
              "              style=\"display:none;\">\n",
              "        \n",
              "  <svg xmlns=\"http://www.w3.org/2000/svg\" height=\"24px\"viewBox=\"0 0 24 24\"\n",
              "       width=\"24px\">\n",
              "    <path d=\"M0 0h24v24H0V0z\" fill=\"none\"/>\n",
              "    <path d=\"M18.56 5.44l.94 2.06.94-2.06 2.06-.94-2.06-.94-.94-2.06-.94 2.06-2.06.94zm-11 1L8.5 8.5l.94-2.06 2.06-.94-2.06-.94L8.5 2.5l-.94 2.06-2.06.94zm10 10l.94 2.06.94-2.06 2.06-.94-2.06-.94-.94-2.06-.94 2.06-2.06.94z\"/><path d=\"M17.41 7.96l-1.37-1.37c-.4-.4-.92-.59-1.43-.59-.52 0-1.04.2-1.43.59L10.3 9.45l-7.72 7.72c-.78.78-.78 2.05 0 2.83L4 21.41c.39.39.9.59 1.41.59.51 0 1.02-.2 1.41-.59l7.78-7.78 2.81-2.81c.8-.78.8-2.07 0-2.86zM5.41 20L4 18.59l7.72-7.72 1.47 1.35L5.41 20z\"/>\n",
              "  </svg>\n",
              "      </button>\n",
              "      \n",
              "  <style>\n",
              "    .colab-df-container {\n",
              "      display:flex;\n",
              "      flex-wrap:wrap;\n",
              "      gap: 12px;\n",
              "    }\n",
              "\n",
              "    .colab-df-convert {\n",
              "      background-color: #E8F0FE;\n",
              "      border: none;\n",
              "      border-radius: 50%;\n",
              "      cursor: pointer;\n",
              "      display: none;\n",
              "      fill: #1967D2;\n",
              "      height: 32px;\n",
              "      padding: 0 0 0 0;\n",
              "      width: 32px;\n",
              "    }\n",
              "\n",
              "    .colab-df-convert:hover {\n",
              "      background-color: #E2EBFA;\n",
              "      box-shadow: 0px 1px 2px rgba(60, 64, 67, 0.3), 0px 1px 3px 1px rgba(60, 64, 67, 0.15);\n",
              "      fill: #174EA6;\n",
              "    }\n",
              "\n",
              "    [theme=dark] .colab-df-convert {\n",
              "      background-color: #3B4455;\n",
              "      fill: #D2E3FC;\n",
              "    }\n",
              "\n",
              "    [theme=dark] .colab-df-convert:hover {\n",
              "      background-color: #434B5C;\n",
              "      box-shadow: 0px 1px 3px 1px rgba(0, 0, 0, 0.15);\n",
              "      filter: drop-shadow(0px 1px 2px rgba(0, 0, 0, 0.3));\n",
              "      fill: #FFFFFF;\n",
              "    }\n",
              "  </style>\n",
              "\n",
              "      <script>\n",
              "        const buttonEl =\n",
              "          document.querySelector('#df-9b352f07-c04f-4c64-9dcf-5d981941aea2 button.colab-df-convert');\n",
              "        buttonEl.style.display =\n",
              "          google.colab.kernel.accessAllowed ? 'block' : 'none';\n",
              "\n",
              "        async function convertToInteractive(key) {\n",
              "          const element = document.querySelector('#df-9b352f07-c04f-4c64-9dcf-5d981941aea2');\n",
              "          const dataTable =\n",
              "            await google.colab.kernel.invokeFunction('convertToInteractive',\n",
              "                                                     [key], {});\n",
              "          if (!dataTable) return;\n",
              "\n",
              "          const docLinkHtml = 'Like what you see? Visit the ' +\n",
              "            '<a target=\"_blank\" href=https://colab.research.google.com/notebooks/data_table.ipynb>data table notebook</a>'\n",
              "            + ' to learn more about interactive tables.';\n",
              "          element.innerHTML = '';\n",
              "          dataTable['output_type'] = 'display_data';\n",
              "          await google.colab.output.renderOutput(dataTable, element);\n",
              "          const docLink = document.createElement('div');\n",
              "          docLink.innerHTML = docLinkHtml;\n",
              "          element.appendChild(docLink);\n",
              "        }\n",
              "      </script>\n",
              "    </div>\n",
              "  </div>\n",
              "  "
            ]
          },
          "metadata": {},
          "execution_count": 192
        }
      ]
    },
    {
      "cell_type": "code",
      "source": [
        "#plotting correlation onto graph\n",
        "\n",
        "sns.heatmap(fifa_final.corr(), annot = True , cmap = 'Blues')"
      ],
      "metadata": {
        "colab": {
          "base_uri": "https://localhost:8080/",
          "height": 287
        },
        "id": "zh31edJAU9OQ",
        "outputId": "54b7b9b6-3f1f-4931-c7c9-2fee5ab3abdd"
      },
      "execution_count": 193,
      "outputs": [
        {
          "output_type": "execute_result",
          "data": {
            "text/plain": [
              "<matplotlib.axes._subplots.AxesSubplot at 0x7f4c1ae1a3a0>"
            ]
          },
          "metadata": {},
          "execution_count": 193
        },
        {
          "output_type": "display_data",
          "data": {
            "text/plain": [
              "<Figure size 432x288 with 2 Axes>"
            ],
            "image/png": "[encoded data removed]"
          },
          "metadata": {
            "needs_background": "light"
          }
        }
      ]
    },
    {
      "cell_type": "markdown",
      "source": [
        "likewise many questions can be answered using the above Dataset."
      ],
      "metadata": {
        "id": "8GgVDaI7Wccn"
      }
    },
    {
      "cell_type": "markdown",
      "source": [
        "# Conclusion\n",
        "***In conclusion, data analysis of the FIFA players dataset provides valuable insights into the players' attributes and team distributions. By exploring the distribution of overall ratings, potentials, teams, and other relevant features, we can gain a deeper understanding of the data and identify trends, patterns, and outliers. This information can be useful for making informed decisions in player selection, team strategy, and other related fields. Overall, data analysis is a crucial step in the process of gaining insights and knowledge from large datasets.***"
      ],
      "metadata": {
        "id": "CBJTCU5_VVMh"
      }
    }
  ],
  "metadata": {
    "colab": {
      "provenance": [],
      "authorship_tag": "ABX9TyPMs/vmRwSHEPcJfX95g702",
      "include_colab_link": true
    },
    "kernelspec": {
      "display_name": "Python 3",
      "name": "python3"
    },
    "language_info": {
      "name": "python"
    }
  },
  "nbformat": 4,
  "nbformat_minor": 0
}