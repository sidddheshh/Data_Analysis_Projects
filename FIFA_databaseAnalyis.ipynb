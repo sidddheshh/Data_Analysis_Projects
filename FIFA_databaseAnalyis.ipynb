{
  "cells": [
    {
      "cell_type": "markdown",
      "metadata": {
        "id": "view-in-github",
        "colab_type": "text"
      },
      "source": [
        "<a href=\"https://colab.research.google.com/github/sidddheshh/IMDB_datasetAnalysis/blob/main/FIFA_databaseAnalyis.ipynb\" target=\"_parent\"><img src=\"https://colab.research.google.com/assets/colab-badge.svg\" alt=\"Open In Colab\"/></a>"
      ]
    },
    {
      "cell_type": "markdown",
      "metadata": {
        "id": "__aTd7zaM2p6"
      },
      "source": [
        "# INTRODUCTION\n",
        "**Performing Data Analysis on FIFA Players Live Data.**\n",
        "\n",
        "Link: https://sofifa.com/players?r=230011&set=true&offset="
      ]
    },
    {
      "cell_type": "markdown",
      "metadata": {
        "id": "23bRVioPppqs"
      },
      "source": [
        "**FLOW**:\n",
        "1. Scrap the data.\n",
        "2. Data Cleaning.\n",
        "3. convert data into DataFrame\n",
        "4. perform the Data Analysis(EDA)-DC,DE,DM,DV\n"
      ]
    },
    {
      "cell_type": "code",
      "execution_count": null,
      "metadata": {
        "colab": {
          "base_uri": "https://localhost:8080/"
        },
        "id": "xDVo93hfppBB",
        "outputId": "7481d492-86c5-45ba-8e94-98b0a2c411ef"
      },
      "outputs": [
        {
          "output_type": "stream",
          "name": "stdout",
          "text": [
            "https://sofifa.com/players?offset=0\n",
            "https://sofifa.com/players?offset=60\n",
            "https://sofifa.com/players?offset=120\n",
            "https://sofifa.com/players?offset=180\n",
            "https://sofifa.com/players?offset=240\n",
            "https://sofifa.com/players?offset=300\n",
            "https://sofifa.com/players?offset=360\n",
            "https://sofifa.com/players?offset=420\n",
            "https://sofifa.com/players?offset=480\n",
            "https://sofifa.com/players?offset=540\n"
          ]
        }
      ],
      "source": [
        "# Q1. Give the logic to print the URL for all the 10 pages fo the given website\n",
        "for i in range(10):\n",
        "  print(f\"https://sofifa.com/players?offset={i*60}\")\n"
      ]
    },
    {
      "cell_type": "markdown",
      "metadata": {
        "id": "F3FpG7SlPRJJ"
      },
      "source": [
        "# Importing Libraries"
      ]
    },
    {
      "cell_type": "code",
      "execution_count": null,
      "metadata": {
        "id": "jHWdZjJ0sSZu"
      },
      "outputs": [],
      "source": [
        "import pandas as pd\n",
        "import numpy as np\n",
        "import seaborn as sns\n",
        "import re\n",
        "import matplotlib.pyplot as plt\n",
        "from bs4 import BeautifulSoup\n",
        "import requests"
      ]
    },
    {
      "cell_type": "markdown",
      "metadata": {
        "id": "OJri97eDVeRq"
      },
      "source": [
        "# Scraping Data from Website"
      ]
    },
    {
      "cell_type": "code",
      "execution_count": null,
      "metadata": {
        "id": "1Ju18NE3vKaT"
      },
      "outputs": [],
      "source": [
        "# defining URL variable and headers as user agent to gain access \n",
        "\n",
        "url='https://sofifa.com/players?r=230011&set=true&offset=' \n",
        "headers = {'User-Agent': 'Mozilla/5.0 (Windows NT 10.0; Win64; x64) AppleWebKit/537.36 (KHTML, like Gecko) Chrome/109.0.0.0 Safari/537.36'}"
      ]
    },
    {
      "cell_type": "code",
      "execution_count": null,
      "metadata": {
        "id": "o3qgHLOMvKcg"
      },
      "outputs": [],
      "source": [
        "# creating a request variable and extracting data using GET request \n",
        "\n",
        "req = requests.get(url, headers=headers)"
      ]
    },
    {
      "cell_type": "code",
      "execution_count": null,
      "metadata": {
        "colab": {
          "base_uri": "https://localhost:8080/"
        },
        "id": "9BJVVn7S1tTF",
        "outputId": "5e2756f3-5e1e-4e00-a4c8-09d08423412a"
      },
      "outputs": [
        {
          "output_type": "execute_result",
          "data": {
            "text/plain": [
              "200"
            ]
          },
          "metadata": {},
          "execution_count": 7
        }
      ],
      "source": [
        "# status = 200 means \"OK\"\n",
        "req.status_code"
      ]
    },
    {
      "cell_type": "code",
      "execution_count": null,
      "metadata": {
        "id": "23L5F-bEQZ_Y"
      },
      "outputs": [],
      "source": [
        "# scraping data\n",
        "\n",
        "soup=BeautifulSoup(req.content)"
      ]
    },
    {
      "cell_type": "code",
      "execution_count": null,
      "metadata": {
        "id": "iuBeTtRzVU9g"
      },
      "outputs": [],
      "source": [
        "soup.prettify()"
      ]
    },
    {
      "cell_type": "code",
      "execution_count": null,
      "metadata": {
        "id": "4duKEitjXgwF"
      },
      "outputs": [],
      "source": [
        "# creating an Empty List to store individual players data\n",
        "arr=[]"
      ]
    },
    {
      "cell_type": "code",
      "execution_count": null,
      "metadata": {
        "id": "5YBSiP7KW7V9"
      },
      "outputs": [],
      "source": [
        "# appending players data into the list \n",
        "\n",
        "arr = [i for i in soup.findAll('tr')]"
      ]
    },
    {
      "cell_type": "code",
      "execution_count": null,
      "metadata": {
        "id": "WDxgSI_olYax"
      },
      "outputs": [],
      "source": [
        "del arr[0]"
      ]
    },
    {
      "cell_type": "code",
      "execution_count": null,
      "metadata": {
        "colab": {
          "base_uri": "https://localhost:8080/"
        },
        "id": "HhErTbG3l0Xw",
        "outputId": "d2339232-6e76-454f-a4d0-4d7d4bfb106a"
      },
      "outputs": [
        {
          "output_type": "execute_result",
          "data": {
            "text/plain": [
              "<tr>\n",
              "<td class=\"col-avatar\"><figure class=\"avatar updated \" data-tip-pos=\"right\" role=\"tooltip\">\n",
              "<img alt=\"\" class=\"player-check\" data-root=\"https://cdn.sofifa.net/players/\" data-src=\"https://cdn.sofifa.net/players/209/331/23_60.png\" data-srcset=\"https://cdn.sofifa.net/players/209/331/23_120.png 2x, https://cdn.sofifa.net/players/209/331/23_180.png 3x\" data-type=\"player\" id=\"209331\" src=\"https://cdn.sofifa.net/players/notfound_0_60.png\"/>\n",
              "<div class=\"tip\"><div class=\"block-quarter half-spacing pure-u-1-1\">FIFA 23 Jan 25, 2023</div><div class=\"block-quarter pure-g\"><span class=\"pure-u-17-24\"><span class=\"bp3-tag p p-90\">90</span> <svg class=\"go-down\" height=\"18\" viewbox=\"0 0 24 24\" width=\"18\"><line x1=\"7\" x2=\"17\" y1=\"7\" y2=\"17\"></line><polyline points=\"17 7 17 17 7 17\"></polyline></svg> <span class=\"bp3-tag p p-89\">89</span></span> <abbr class=\"pure-u-7-24\">Dribbling</abbr></div><div class=\"block-half pure-g\"><abbr class=\"pure-u-7-24\">Contract Valid Until</abbr> <span class=\"pure-u-17-24\">2023 <svg class=\"go\" height=\"16\" viewbox=\"0 0 24 24\" width=\"16\"><line x1=\"5\" x2=\"19\" y1=\"12\" y2=\"12\"></line><polyline points=\"12 5 19 12 12 19\"></polyline></svg> 2025</span></div></div>\n",
              "</figure></td>\n",
              "<td class=\"col-name\">\n",
              "<a aria-label=\"Mohamed Salah\" data-tip-pos=\"top\" href=\"/player/209331/mohamed-salah/230011/\" role=\"tooltip\"><div class=\"ellipsis\">M. Salah</div></a><img alt=\"\" class=\"flag\" data-src=\"https://cdn.sofifa.net/flags/eg.png\" data-srcset=\"https://cdn.sofifa.net/flags/eg@2x.png 2x, https://cdn.sofifa.net/flags/eg@3x.png 3x\" height=\"16\" src=\"https://cdn.sofifa.net/pixel.gif\" title=\"Egypt\" width=\"21\"/> <a href=\"/players?pn=23\" rel=\"nofollow\"><span class=\"pos pos23\">RW</span></a></td><td class=\"col col-ae\" data-col=\"ae\">30</td><td class=\"col col-oa col-sort\" data-col=\"oa\"><span class=\"bp3-tag p p-90\">90</span></td><td class=\"col col-pt\" data-col=\"pt\"><span class=\"bp3-tag p p-90\">90</span></td><td class=\"col-name\">\n",
              "<div class=\"ellipsis\"><figure class=\"avatar avatar-sm transparent\">\n",
              "<img alt=\"\" class=\"team\" data-root=\"https://cdn.sofifa.net/teams/\" data-src=\"https://cdn.sofifa.net/teams/9/30.png\" data-srcset=\"https://cdn.sofifa.net/teams/9/60.png 2x, https://cdn.sofifa.net/teams/9/90.png 3x\" data-type=\"team\" src=\"https://cdn.sofifa.net/teams/notfound_30.png\"/>\n",
              "</figure>\n",
              "<a href=\"/team/9/liverpool/\">Liverpool</a><div class=\"sub\">\n",
              "2017 ~ 2025</div>\n",
              "</div>\n",
              "</td><td class=\"col col-vl\" data-col=\"vl\">€115.5M</td><td class=\"col col-wg\" data-col=\"wg\">€270K</td><td class=\"col col-tt\" data-col=\"tt\"><span class=\"bp3-tag p\">2224</span></td></tr>"
            ]
          },
          "metadata": {},
          "execution_count": 13
        }
      ],
      "source": [
        "arr[5]"
      ]
    },
    {
      "cell_type": "code",
      "execution_count": null,
      "metadata": {
        "colab": {
          "base_uri": "https://localhost:8080/"
        },
        "id": "a5ddam_0YBmy",
        "outputId": "d2c61555-a361-46af-dc5b-a6541b621fb9"
      },
      "outputs": [
        {
          "output_type": "execute_result",
          "data": {
            "text/plain": [
              "'https://cdn.sofifa.net/players/231/747/23_120.png'"
            ],
            "application/vnd.google.colaboratory.intrinsic+json": {
              "type": "string"
            }
          },
          "metadata": {},
          "execution_count": 14
        }
      ],
      "source": [
        "# using RE to get IMAGE LINK\n",
        "\n",
        "re.sub('^<img.*data-srcset=\"| .*/>', '' , str(arr[0].find('img',{\"class\": \"player-check\"})))"
      ]
    },
    {
      "cell_type": "code",
      "execution_count": null,
      "metadata": {
        "colab": {
          "base_uri": "https://localhost:8080/"
        },
        "id": "mlsxrAwblhmB",
        "outputId": "f3c45416-8b2d-4017-9089-ba8eff92e5b9"
      },
      "outputs": [
        {
          "output_type": "execute_result",
          "data": {
            "text/plain": [
              "'K. Mbappé'"
            ],
            "application/vnd.google.colaboratory.intrinsic+json": {
              "type": "string"
            }
          },
          "metadata": {},
          "execution_count": 15
        }
      ],
      "source": [
        "# using RE to get Players Name \n",
        "\n",
        "re.sub('^<a.*\">|<.*>','',str(arr[0].find('a',{'role':\"tooltip\"})))"
      ]
    },
    {
      "cell_type": "code",
      "execution_count": null,
      "metadata": {
        "colab": {
          "base_uri": "https://localhost:8080/"
        },
        "id": "PSCw09o-sBqT",
        "outputId": "1dc1378e-d3e0-457a-e119-827db6df482a"
      },
      "outputs": [
        {
          "output_type": "execute_result",
          "data": {
            "text/plain": [
              "'23'"
            ],
            "application/vnd.google.colaboratory.intrinsic+json": {
              "type": "string"
            }
          },
          "metadata": {},
          "execution_count": 16
        }
      ],
      "source": [
        "# using RE to get Players Age\n",
        "\n",
        "re.sub('^<t.*\">|<.*>','',str(arr[0].find('td',{'class': 'col col-ae'})))"
      ]
    },
    {
      "cell_type": "code",
      "execution_count": 145,
      "metadata": {
        "colab": {
          "base_uri": "https://localhost:8080/",
          "height": 35
        },
        "id": "4aVCitMatS0_",
        "outputId": "e6d0e22d-d962-4c60-93d7-c48ad3d745b2"
      },
      "outputs": [
        {
          "output_type": "execute_result",
          "data": {
            "text/plain": [
              "'90'"
            ],
            "application/vnd.google.colaboratory.intrinsic+json": {
              "type": "string"
            }
          },
          "metadata": {},
          "execution_count": 145
        }
      ],
      "source": [
        "# using RE to get Players OVA\n",
        "\n",
        "re.sub('^<.*\">|<.*>','',str(arr[5].find('td',{'class': 'col col-oa col-sort'})))"
      ]
    },
    {
      "cell_type": "code",
      "execution_count": null,
      "metadata": {
        "colab": {
          "base_uri": "https://localhost:8080/"
        },
        "id": "DmZffxImuFB-",
        "outputId": "2f58d3d4-8dbd-4b5a-ff53-2038b9014199"
      },
      "outputs": [
        {
          "output_type": "execute_result",
          "data": {
            "text/plain": [
              "'95'"
            ],
            "application/vnd.google.colaboratory.intrinsic+json": {
              "type": "string"
            }
          },
          "metadata": {},
          "execution_count": 18
        }
      ],
      "source": [
        "# using RE to get Players POT\n",
        "\n",
        "re.sub('^<.*\">|<.*>','',str(arr[0].find('td',{'class': 'col col-pt'})))"
      ]
    },
    {
      "cell_type": "code",
      "execution_count": null,
      "metadata": {
        "colab": {
          "base_uri": "https://localhost:8080/"
        },
        "id": "ns2Qwgpzu201",
        "outputId": "425fa9c5-6223-44dc-d085-bc15390a8fce"
      },
      "outputs": [
        {
          "output_type": "execute_result",
          "data": {
            "text/plain": [
              "'Paris Saint Germain'"
            ],
            "application/vnd.google.colaboratory.intrinsic+json": {
              "type": "string"
            }
          },
          "metadata": {},
          "execution_count": 19
        }
      ],
      "source": [
        "# using RE to get Players Team \n",
        "\n",
        "re.sub('^<.*\">|<.*>','',str(arr[0].findAll(\"a\")[-1]))"
      ]
    },
    {
      "cell_type": "code",
      "execution_count": null,
      "metadata": {
        "colab": {
          "base_uri": "https://localhost:8080/"
        },
        "id": "w10jmDDwxXQV",
        "outputId": "b6ba46fd-5793-44b1-d1bf-1536de7c4839"
      },
      "outputs": [
        {
          "output_type": "execute_result",
          "data": {
            "text/plain": [
              "'2018 ~ 2024'"
            ],
            "application/vnd.google.colaboratory.intrinsic+json": {
              "type": "string"
            }
          },
          "metadata": {},
          "execution_count": 20
        }
      ],
      "source": [
        "# using RE to get Players Contract(duration)\n",
        "\n",
        "re.sub('^<.*\\n|<.*>','',str(arr[0].find('div',{'class': 'sub'})))"
      ]
    },
    {
      "cell_type": "code",
      "execution_count": null,
      "metadata": {
        "colab": {
          "base_uri": "https://localhost:8080/"
        },
        "id": "cWZOOg9myiba",
        "outputId": "ac3eae1e-2b65-4e54-c50b-32613573a4fe"
      },
      "outputs": [
        {
          "output_type": "execute_result",
          "data": {
            "text/plain": [
              "'190.5M'"
            ],
            "application/vnd.google.colaboratory.intrinsic+json": {
              "type": "string"
            }
          },
          "metadata": {},
          "execution_count": 21
        }
      ],
      "source": [
        "# using RE to get Players Value\n",
        "\n",
        "re.sub('^<.*\">€|<.*>','',str(arr[0].find(\"td\",{'class':\"col col-vl\"})))"
      ]
    },
    {
      "cell_type": "code",
      "execution_count": null,
      "metadata": {
        "colab": {
          "base_uri": "https://localhost:8080/"
        },
        "id": "M25mAzlQzGZQ",
        "outputId": "5f041563-ce95-4d14-d199-3755f4bc51b3"
      },
      "outputs": [
        {
          "output_type": "execute_result",
          "data": {
            "text/plain": [
              "'230K'"
            ],
            "application/vnd.google.colaboratory.intrinsic+json": {
              "type": "string"
            }
          },
          "metadata": {},
          "execution_count": 22
        }
      ],
      "source": [
        "# using RE to get Players Wage\n",
        "\n",
        "re.sub('^<.*\">€|<.*>','',str(arr[0].find(\"td\",{'class':\"col col-wg\"})))"
      ]
    },
    {
      "cell_type": "code",
      "execution_count": null,
      "metadata": {
        "colab": {
          "base_uri": "https://localhost:8080/"
        },
        "id": "qABAFbyKzaMd",
        "outputId": "bb65f9e2-52d0-4715-9b71-b84bd6a17e79"
      },
      "outputs": [
        {
          "output_type": "execute_result",
          "data": {
            "text/plain": [
              "'2181'"
            ],
            "application/vnd.google.colaboratory.intrinsic+json": {
              "type": "string"
            }
          },
          "metadata": {},
          "execution_count": 23
        }
      ],
      "source": [
        "# using RE to get Players Total Rating\n",
        "\n",
        "re.sub('^<.*\">|<.*>','',str(arr[0].find('span',{'class': 'bp3-tag p'})))"
      ]
    },
    {
      "cell_type": "markdown",
      "metadata": {
        "id": "gnZvTgIUz8-9"
      },
      "source": [
        "# Creating Dataframe"
      ]
    },
    {
      "cell_type": "code",
      "execution_count": null,
      "metadata": {
        "id": "VmKbSKtE0Bnz"
      },
      "outputs": [],
      "source": [
        "# defining columns\n",
        "\n",
        "columns=['Image_link','Name','Age','OVA','POT','Team','Contract','Value','Wage','Total']"
      ]
    },
    {
      "cell_type": "code",
      "execution_count": 147,
      "metadata": {
        "id": "wyNZU8S40bML"
      },
      "outputs": [],
      "source": [
        "# creating dataframe named fifa_final\n",
        "\n",
        "fifa_final = pd.DataFrame()\n",
        "\n",
        "for i in range(0,541,60):\n",
        "  url = f'https://sofifa.com/players?r=230011&set=true&offset={i}'\n",
        "  req=requests.get(url,headers=headers)\n",
        "  if req.status_code == 200:\n",
        "    soup = BeautifulSoup(req.content)\n",
        "    lists=[[] for _ in range(10)]\n",
        "    # storing data \n",
        "\n",
        "    for i in soup.findAll('tr'):\n",
        "      Image_link = re.sub('^<img.*data-srcset=\"| .*/>', '' , str(i.find('img',{\"class\": \"player-check\"})))\n",
        "      Name = re.sub('^<a.*\">|<.*>','',str(i.find('a',{'role':\"tooltip\"})))\n",
        "      Age = re.sub('^<t.*\">|<.*>','',str(i.find('td',{'class': 'col col-ae'})))\n",
        "      OVA = re.sub('^<.*\">|<.*>','',str(i.find('td',{'class': 'col col-oa col-sort'})))\n",
        "      POT = re.sub('^<.*\">|<.*>','',str(i.find('td',{'class': 'col col-pt'})))\n",
        "      team = re.sub('^<.*\">|<.*>','',str(i.findAll(\"a\")[-1]))\n",
        "      duration = re.sub('^<.*\\n|<.*>','',str(i.find('div',{'class': 'sub'})))\n",
        "      value = re.sub('^<.*\">€|<.*>','',str(i.find(\"td\",{'class':\"col col-vl\"})))\n",
        "      wage = re.sub('^<.*\">€|<.*>','',str(i.find(\"td\",{'class':\"col col-wg\"})))\n",
        "      total = re.sub('^<.*\">|<.*>','',str(i.find('span',{'class': 'bp3-tag p'})))\n",
        "\n",
        "      # appending data into lists\n",
        "\n",
        "      lists[0].append(Image_link)\n",
        "      lists[1].append(Name)\n",
        "      lists[2].append(Age)\n",
        "      lists[3].append(OVA)\n",
        "      lists[4].append(POT)\n",
        "      lists[5].append(team)\n",
        "      lists[6].append(duration)\n",
        "      lists[7].append(value)\n",
        "      lists[8].append(wage)\n",
        "      lists[9].append(total)\n",
        "\n",
        "# updating DataFrame\n",
        "\n",
        "  fifa = pd.DataFrame({\"Image_link\":lists[0],\n",
        "                        \"Name\": lists[1],\n",
        "                        \"Age\": lists[2],\n",
        "                        \"OVA\": lists[3],\n",
        "                        \"POT\": lists[4],\n",
        "                        \"Team\": lists[5],\n",
        "                        \"Duration\": lists[6],\n",
        "                        \"Value\": lists[7],\n",
        "                        \"Wage\": lists[8],\n",
        "                        \"Total_stats\": lists[9]})\n",
        "\n",
        "\n",
        "  fifa.drop(0, inplace =True)\n",
        "\n",
        "  fifa['Age'] = pd.to_numeric(fifa['Age'])\n",
        "  fifa['OVA'] = pd.to_numeric(fifa['OVA'])\n",
        "  fifa['POT'] = pd.to_numeric(fifa['POT'])\n",
        "  fifa['Total_stats'] = pd.to_numeric(fifa['Total_stats'])\n",
        "\n",
        "# appending data into fifa_final DataFrame\n",
        "  fifa_final = fifa_final.append(fifa, ignore_index=True)\n",
        "\n"
      ]
    },
    {
      "cell_type": "code",
      "execution_count": null,
      "metadata": {
        "colab": {
          "base_uri": "https://localhost:8080/"
        },
        "id": "fqnz1gcB3DjX",
        "outputId": "8bbb354b-07a0-4a5c-8dd7-74b47f49ed7c"
      },
      "outputs": [
        {
          "output_type": "execute_result",
          "data": {
            "text/plain": [
              "(600, 10)"
            ]
          },
          "metadata": {},
          "execution_count": 26
        }
      ],
      "source": [
        "fifa_final.shape"
      ]
    },
    {
      "cell_type": "code",
      "execution_count": 184,
      "metadata": {
        "id": "43Amc1bQlk5G"
      },
      "outputs": [],
      "source": [
        "# Delete the  Image Link , Duration column\n",
        "# since we dont have any further use for the above columns\n",
        "\n",
        "fifa_final.drop(['Image_link','Duration'],axis=1, inplace= True)"
      ]
    },
    {
      "cell_type": "code",
      "execution_count": 196,
      "metadata": {
        "colab": {
          "base_uri": "https://localhost:8080/",
          "height": 206
        },
        "id": "w4FfCwxjgHNq",
        "outputId": "37ea62d7-13e8-4af5-9675-4b112fba2ba4"
      },
      "outputs": [
        {
          "output_type": "execute_result",
          "data": {
            "text/plain": [
              "             Name  Age  OVA  POT                 Team  Value(M)  Wage  \\\n",
              "0       K. Mbappé   23   91   95  Paris Saint Germain     190.5  230K   \n",
              "1    K. De Bruyne   31   91   91      Manchester City     107.5  350K   \n",
              "2  R. Lewandowski   33   91   91         FC Barcelona      84.0  420K   \n",
              "3      K. Benzema   34   91   91          Real Madrid      64.0  450K   \n",
              "4        L. Messi   35   91   91  Paris Saint Germain      54.0  195K   \n",
              "\n",
              "   Total_stats  \n",
              "0         2181  \n",
              "1         2298  \n",
              "2         2205  \n",
              "3         2147  \n",
              "4         2190  "
            ],
            "text/html": [
              "\n",
              "  <div id=\"df-29d6d264-bb65-41b4-aaa8-5766670902ea\">\n",
              "    <div class=\"colab-df-container\">\n",
              "      <div>\n",
              "<style scoped>\n",
              "    .dataframe tbody tr th:only-of-type {\n",
              "        vertical-align: middle;\n",
              "    }\n",
              "\n",
              "    .dataframe tbody tr th {\n",
              "        vertical-align: top;\n",
              "    }\n",
              "\n",
              "    .dataframe thead th {\n",
              "        text-align: right;\n",
              "    }\n",
              "</style>\n",
              "<table border=\"1\" class=\"dataframe\">\n",
              "  <thead>\n",
              "    <tr style=\"text-align: right;\">\n",
              "      <th></th>\n",
              "      <th>Name</th>\n",
              "      <th>Age</th>\n",
              "      <th>OVA</th>\n",
              "      <th>POT</th>\n",
              "      <th>Team</th>\n",
              "      <th>Value(M)</th>\n",
              "      <th>Wage</th>\n",
              "      <th>Total_stats</th>\n",
              "    </tr>\n",
              "  </thead>\n",
              "  <tbody>\n",
              "    <tr>\n",
              "      <th>0</th>\n",
              "      <td>K. Mbappé</td>\n",
              "      <td>23</td>\n",
              "      <td>91</td>\n",
              "      <td>95</td>\n",
              "      <td>Paris Saint Germain</td>\n",
              "      <td>190.5</td>\n",
              "      <td>230K</td>\n",
              "      <td>2181</td>\n",
              "    </tr>\n",
              "    <tr>\n",
              "      <th>1</th>\n",
              "      <td>K. De Bruyne</td>\n",
              "      <td>31</td>\n",
              "      <td>91</td>\n",
              "      <td>91</td>\n",
              "      <td>Manchester City</td>\n",
              "      <td>107.5</td>\n",
              "      <td>350K</td>\n",
              "      <td>2298</td>\n",
              "    </tr>\n",
              "    <tr>\n",
              "      <th>2</th>\n",
              "      <td>R. Lewandowski</td>\n",
              "      <td>33</td>\n",
              "      <td>91</td>\n",
              "      <td>91</td>\n",
              "      <td>FC Barcelona</td>\n",
              "      <td>84.0</td>\n",
              "      <td>420K</td>\n",
              "      <td>2205</td>\n",
              "    </tr>\n",
              "    <tr>\n",
              "      <th>3</th>\n",
              "      <td>K. Benzema</td>\n",
              "      <td>34</td>\n",
              "      <td>91</td>\n",
              "      <td>91</td>\n",
              "      <td>Real Madrid</td>\n",
              "      <td>64.0</td>\n",
              "      <td>450K</td>\n",
              "      <td>2147</td>\n",
              "    </tr>\n",
              "    <tr>\n",
              "      <th>4</th>\n",
              "      <td>L. Messi</td>\n",
              "      <td>35</td>\n",
              "      <td>91</td>\n",
              "      <td>91</td>\n",
              "      <td>Paris Saint Germain</td>\n",
              "      <td>54.0</td>\n",
              "      <td>195K</td>\n",
              "      <td>2190</td>\n",
              "    </tr>\n",
              "  </tbody>\n",
              "</table>\n",
              "</div>\n",
              "      <button class=\"colab-df-convert\" onclick=\"convertToInteractive('df-29d6d264-bb65-41b4-aaa8-5766670902ea')\"\n",
              "              title=\"Convert this dataframe to an interactive table.\"\n",
              "              style=\"display:none;\">\n",
              "        \n",
              "  <svg xmlns=\"http://www.w3.org/2000/svg\" height=\"24px\"viewBox=\"0 0 24 24\"\n",
              "       width=\"24px\">\n",
              "    <path d=\"M0 0h24v24H0V0z\" fill=\"none\"/>\n",
              "    <path d=\"M18.56 5.44l.94 2.06.94-2.06 2.06-.94-2.06-.94-.94-2.06-.94 2.06-2.06.94zm-11 1L8.5 8.5l.94-2.06 2.06-.94-2.06-.94L8.5 2.5l-.94 2.06-2.06.94zm10 10l.94 2.06.94-2.06 2.06-.94-2.06-.94-.94-2.06-.94 2.06-2.06.94z\"/><path d=\"M17.41 7.96l-1.37-1.37c-.4-.4-.92-.59-1.43-.59-.52 0-1.04.2-1.43.59L10.3 9.45l-7.72 7.72c-.78.78-.78 2.05 0 2.83L4 21.41c.39.39.9.59 1.41.59.51 0 1.02-.2 1.41-.59l7.78-7.78 2.81-2.81c.8-.78.8-2.07 0-2.86zM5.41 20L4 18.59l7.72-7.72 1.47 1.35L5.41 20z\"/>\n",
              "  </svg>\n",
              "      </button>\n",
              "      \n",
              "  <style>\n",
              "    .colab-df-container {\n",
              "      display:flex;\n",
              "      flex-wrap:wrap;\n",
              "      gap: 12px;\n",
              "    }\n",
              "\n",
              "    .colab-df-convert {\n",
              "      background-color: #E8F0FE;\n",
              "      border: none;\n",
              "      border-radius: 50%;\n",
              "      cursor: pointer;\n",
              "      display: none;\n",
              "      fill: #1967D2;\n",
              "      height: 32px;\n",
              "      padding: 0 0 0 0;\n",
              "      width: 32px;\n",
              "    }\n",
              "\n",
              "    .colab-df-convert:hover {\n",
              "      background-color: #E2EBFA;\n",
              "      box-shadow: 0px 1px 2px rgba(60, 64, 67, 0.3), 0px 1px 3px 1px rgba(60, 64, 67, 0.15);\n",
              "      fill: #174EA6;\n",
              "    }\n",
              "\n",
              "    [theme=dark] .colab-df-convert {\n",
              "      background-color: #3B4455;\n",
              "      fill: #D2E3FC;\n",
              "    }\n",
              "\n",
              "    [theme=dark] .colab-df-convert:hover {\n",
              "      background-color: #434B5C;\n",
              "      box-shadow: 0px 1px 3px 1px rgba(0, 0, 0, 0.15);\n",
              "      filter: drop-shadow(0px 1px 2px rgba(0, 0, 0, 0.3));\n",
              "      fill: #FFFFFF;\n",
              "    }\n",
              "  </style>\n",
              "\n",
              "      <script>\n",
              "        const buttonEl =\n",
              "          document.querySelector('#df-29d6d264-bb65-41b4-aaa8-5766670902ea button.colab-df-convert');\n",
              "        buttonEl.style.display =\n",
              "          google.colab.kernel.accessAllowed ? 'block' : 'none';\n",
              "\n",
              "        async function convertToInteractive(key) {\n",
              "          const element = document.querySelector('#df-29d6d264-bb65-41b4-aaa8-5766670902ea');\n",
              "          const dataTable =\n",
              "            await google.colab.kernel.invokeFunction('convertToInteractive',\n",
              "                                                     [key], {});\n",
              "          if (!dataTable) return;\n",
              "\n",
              "          const docLinkHtml = 'Like what you see? Visit the ' +\n",
              "            '<a target=\"_blank\" href=https://colab.research.google.com/notebooks/data_table.ipynb>data table notebook</a>'\n",
              "            + ' to learn more about interactive tables.';\n",
              "          element.innerHTML = '';\n",
              "          dataTable['output_type'] = 'display_data';\n",
              "          await google.colab.output.renderOutput(dataTable, element);\n",
              "          const docLink = document.createElement('div');\n",
              "          docLink.innerHTML = docLinkHtml;\n",
              "          element.appendChild(docLink);\n",
              "        }\n",
              "      </script>\n",
              "    </div>\n",
              "  </div>\n",
              "  "
            ]
          },
          "metadata": {},
          "execution_count": 196
        }
      ],
      "source": [
        "fifa_final.head()"
      ]
    },
    {
      "cell_type": "code",
      "execution_count": 195,
      "metadata": {
        "colab": {
          "base_uri": "https://localhost:8080/",
          "height": 206
        },
        "id": "a29bOpOMgHTz",
        "outputId": "7bf1e79e-ea1b-4daf-b2be-ecea00cea664"
      },
      "outputs": [
        {
          "output_type": "execute_result",
          "data": {
            "text/plain": [
              "                Name  Age  OVA  POT                 Team  Value(M) Wage  \\\n",
              "595        J. Correa   27   79   79                Inter      19.0  71K   \n",
              "596     L. Zelarayán   30   79   79        Columbus Crew      17.0  12K   \n",
              "597        F. Armani   35   79   79          River Plate       1.9  10K   \n",
              "598        S. Azmoun   27   79   79  Bayer 04 Leverkusen      19.0  60K   \n",
              "599  F. Bernardeschi   28   79   79              Toronto      17.5  12K   \n",
              "\n",
              "     Total_stats  \n",
              "595         1945  \n",
              "596         2032  \n",
              "597         1291  \n",
              "598         1973  \n",
              "599         2089  "
            ],
            "text/html": [
              "\n",
              "  <div id=\"df-75ff251a-348f-4aa9-b12f-c7c443f2b436\">\n",
              "    <div class=\"colab-df-container\">\n",
              "      <div>\n",
              "<style scoped>\n",
              "    .dataframe tbody tr th:only-of-type {\n",
              "        vertical-align: middle;\n",
              "    }\n",
              "\n",
              "    .dataframe tbody tr th {\n",
              "        vertical-align: top;\n",
              "    }\n",
              "\n",
              "    .dataframe thead th {\n",
              "        text-align: right;\n",
              "    }\n",
              "</style>\n",
              "<table border=\"1\" class=\"dataframe\">\n",
              "  <thead>\n",
              "    <tr style=\"text-align: right;\">\n",
              "      <th></th>\n",
              "      <th>Name</th>\n",
              "      <th>Age</th>\n",
              "      <th>OVA</th>\n",
              "      <th>POT</th>\n",
              "      <th>Team</th>\n",
              "      <th>Value(M)</th>\n",
              "      <th>Wage</th>\n",
              "      <th>Total_stats</th>\n",
              "    </tr>\n",
              "  </thead>\n",
              "  <tbody>\n",
              "    <tr>\n",
              "      <th>595</th>\n",
              "      <td>J. Correa</td>\n",
              "      <td>27</td>\n",
              "      <td>79</td>\n",
              "      <td>79</td>\n",
              "      <td>Inter</td>\n",
              "      <td>19.0</td>\n",
              "      <td>71K</td>\n",
              "      <td>1945</td>\n",
              "    </tr>\n",
              "    <tr>\n",
              "      <th>596</th>\n",
              "      <td>L. Zelarayán</td>\n",
              "      <td>30</td>\n",
              "      <td>79</td>\n",
              "      <td>79</td>\n",
              "      <td>Columbus Crew</td>\n",
              "      <td>17.0</td>\n",
              "      <td>12K</td>\n",
              "      <td>2032</td>\n",
              "    </tr>\n",
              "    <tr>\n",
              "      <th>597</th>\n",
              "      <td>F. Armani</td>\n",
              "      <td>35</td>\n",
              "      <td>79</td>\n",
              "      <td>79</td>\n",
              "      <td>River Plate</td>\n",
              "      <td>1.9</td>\n",
              "      <td>10K</td>\n",
              "      <td>1291</td>\n",
              "    </tr>\n",
              "    <tr>\n",
              "      <th>598</th>\n",
              "      <td>S. Azmoun</td>\n",
              "      <td>27</td>\n",
              "      <td>79</td>\n",
              "      <td>79</td>\n",
              "      <td>Bayer 04 Leverkusen</td>\n",
              "      <td>19.0</td>\n",
              "      <td>60K</td>\n",
              "      <td>1973</td>\n",
              "    </tr>\n",
              "    <tr>\n",
              "      <th>599</th>\n",
              "      <td>F. Bernardeschi</td>\n",
              "      <td>28</td>\n",
              "      <td>79</td>\n",
              "      <td>79</td>\n",
              "      <td>Toronto</td>\n",
              "      <td>17.5</td>\n",
              "      <td>12K</td>\n",
              "      <td>2089</td>\n",
              "    </tr>\n",
              "  </tbody>\n",
              "</table>\n",
              "</div>\n",
              "      <button class=\"colab-df-convert\" onclick=\"convertToInteractive('df-75ff251a-348f-4aa9-b12f-c7c443f2b436')\"\n",
              "              title=\"Convert this dataframe to an interactive table.\"\n",
              "              style=\"display:none;\">\n",
              "        \n",
              "  <svg xmlns=\"http://www.w3.org/2000/svg\" height=\"24px\"viewBox=\"0 0 24 24\"\n",
              "       width=\"24px\">\n",
              "    <path d=\"M0 0h24v24H0V0z\" fill=\"none\"/>\n",
              "    <path d=\"M18.56 5.44l.94 2.06.94-2.06 2.06-.94-2.06-.94-.94-2.06-.94 2.06-2.06.94zm-11 1L8.5 8.5l.94-2.06 2.06-.94-2.06-.94L8.5 2.5l-.94 2.06-2.06.94zm10 10l.94 2.06.94-2.06 2.06-.94-2.06-.94-.94-2.06-.94 2.06-2.06.94z\"/><path d=\"M17.41 7.96l-1.37-1.37c-.4-.4-.92-.59-1.43-.59-.52 0-1.04.2-1.43.59L10.3 9.45l-7.72 7.72c-.78.78-.78 2.05 0 2.83L4 21.41c.39.39.9.59 1.41.59.51 0 1.02-.2 1.41-.59l7.78-7.78 2.81-2.81c.8-.78.8-2.07 0-2.86zM5.41 20L4 18.59l7.72-7.72 1.47 1.35L5.41 20z\"/>\n",
              "  </svg>\n",
              "      </button>\n",
              "      \n",
              "  <style>\n",
              "    .colab-df-container {\n",
              "      display:flex;\n",
              "      flex-wrap:wrap;\n",
              "      gap: 12px;\n",
              "    }\n",
              "\n",
              "    .colab-df-convert {\n",
              "      background-color: #E8F0FE;\n",
              "      border: none;\n",
              "      border-radius: 50%;\n",
              "      cursor: pointer;\n",
              "      display: none;\n",
              "      fill: #1967D2;\n",
              "      height: 32px;\n",
              "      padding: 0 0 0 0;\n",
              "      width: 32px;\n",
              "    }\n",
              "\n",
              "    .colab-df-convert:hover {\n",
              "      background-color: #E2EBFA;\n",
              "      box-shadow: 0px 1px 2px rgba(60, 64, 67, 0.3), 0px 1px 3px 1px rgba(60, 64, 67, 0.15);\n",
              "      fill: #174EA6;\n",
              "    }\n",
              "\n",
              "    [theme=dark] .colab-df-convert {\n",
              "      background-color: #3B4455;\n",
              "      fill: #D2E3FC;\n",
              "    }\n",
              "\n",
              "    [theme=dark] .colab-df-convert:hover {\n",
              "      background-color: #434B5C;\n",
              "      box-shadow: 0px 1px 3px 1px rgba(0, 0, 0, 0.15);\n",
              "      filter: drop-shadow(0px 1px 2px rgba(0, 0, 0, 0.3));\n",
              "      fill: #FFFFFF;\n",
              "    }\n",
              "  </style>\n",
              "\n",
              "      <script>\n",
              "        const buttonEl =\n",
              "          document.querySelector('#df-75ff251a-348f-4aa9-b12f-c7c443f2b436 button.colab-df-convert');\n",
              "        buttonEl.style.display =\n",
              "          google.colab.kernel.accessAllowed ? 'block' : 'none';\n",
              "\n",
              "        async function convertToInteractive(key) {\n",
              "          const element = document.querySelector('#df-75ff251a-348f-4aa9-b12f-c7c443f2b436');\n",
              "          const dataTable =\n",
              "            await google.colab.kernel.invokeFunction('convertToInteractive',\n",
              "                                                     [key], {});\n",
              "          if (!dataTable) return;\n",
              "\n",
              "          const docLinkHtml = 'Like what you see? Visit the ' +\n",
              "            '<a target=\"_blank\" href=https://colab.research.google.com/notebooks/data_table.ipynb>data table notebook</a>'\n",
              "            + ' to learn more about interactive tables.';\n",
              "          element.innerHTML = '';\n",
              "          dataTable['output_type'] = 'display_data';\n",
              "          await google.colab.output.renderOutput(dataTable, element);\n",
              "          const docLink = document.createElement('div');\n",
              "          docLink.innerHTML = docLinkHtml;\n",
              "          element.appendChild(docLink);\n",
              "        }\n",
              "      </script>\n",
              "    </div>\n",
              "  </div>\n",
              "  "
            ]
          },
          "metadata": {},
          "execution_count": 195
        }
      ],
      "source": [
        "fifa_final.tail()"
      ]
    },
    {
      "cell_type": "code",
      "execution_count": null,
      "metadata": {
        "colab": {
          "base_uri": "https://localhost:8080/"
        },
        "id": "dakZ4DMwgLFB",
        "outputId": "29d1fef4-3242-4a81-8121-ac7a4a9e63b5"
      },
      "outputs": [
        {
          "output_type": "execute_result",
          "data": {
            "text/plain": [
              "Index(['Image_link', 'Name', 'Age', 'OVA', 'POT', 'Team', 'Duration', 'Value',\n",
              "       'Wage', 'Total_stats'],\n",
              "      dtype='object')"
            ]
          },
          "metadata": {},
          "execution_count": 29
        }
      ],
      "source": [
        "fifa_final.columns"
      ]
    },
    {
      "cell_type": "code",
      "execution_count": null,
      "metadata": {
        "colab": {
          "base_uri": "https://localhost:8080/"
        },
        "id": "tTIUCBXHgQWq",
        "outputId": "7bc0ef42-c841-4b15-c982-2e9e796f4048"
      },
      "outputs": [
        {
          "output_type": "stream",
          "name": "stdout",
          "text": [
            "<class 'pandas.core.frame.DataFrame'>\n",
            "RangeIndex: 600 entries, 0 to 599\n",
            "Data columns (total 10 columns):\n",
            " #   Column       Non-Null Count  Dtype \n",
            "---  ------       --------------  ----- \n",
            " 0   Image_link   600 non-null    object\n",
            " 1   Name         600 non-null    object\n",
            " 2   Age          600 non-null    int64 \n",
            " 3   OVA          600 non-null    int64 \n",
            " 4   POT          600 non-null    int64 \n",
            " 5   Team         600 non-null    object\n",
            " 6   Duration     600 non-null    object\n",
            " 7   Value        600 non-null    object\n",
            " 8   Wage         600 non-null    object\n",
            " 9   Total_stats  600 non-null    int64 \n",
            "dtypes: int64(4), object(6)\n",
            "memory usage: 47.0+ KB\n"
          ]
        }
      ],
      "source": [
        "# checking basic information of the dataset\n",
        "\n",
        "fifa_final.info()"
      ]
    },
    {
      "cell_type": "code",
      "execution_count": 194,
      "metadata": {
        "colab": {
          "base_uri": "https://localhost:8080/",
          "height": 300
        },
        "id": "uei9rU46gjVq",
        "outputId": "50c8d117-7185-40dc-b190-3d5f28e073ac"
      },
      "outputs": [
        {
          "output_type": "execute_result",
          "data": {
            "text/plain": [
              "              Age         OVA         POT    Value(M)  Total_stats\n",
              "count  600.000000  600.000000  600.000000  600.000000   600.000000\n",
              "mean    27.398333   81.915000   83.750000   34.275667  1953.541667\n",
              "std      3.961374    2.610709    3.230308   22.547575   265.848712\n",
              "min     17.000000   79.000000   79.000000    0.000000  1070.000000\n",
              "25%     24.750000   80.000000   81.000000   20.500000  1907.000000\n",
              "50%     27.000000   81.000000   83.000000   27.750000  2033.000000\n",
              "75%     30.000000   83.000000   86.000000   42.000000  2122.000000\n",
              "max     40.000000   91.000000   95.000000  190.500000  2312.000000"
            ],
            "text/html": [
              "\n",
              "  <div id=\"df-94d093f5-3190-4102-a600-569316a48357\">\n",
              "    <div class=\"colab-df-container\">\n",
              "      <div>\n",
              "<style scoped>\n",
              "    .dataframe tbody tr th:only-of-type {\n",
              "        vertical-align: middle;\n",
              "    }\n",
              "\n",
              "    .dataframe tbody tr th {\n",
              "        vertical-align: top;\n",
              "    }\n",
              "\n",
              "    .dataframe thead th {\n",
              "        text-align: right;\n",
              "    }\n",
              "</style>\n",
              "<table border=\"1\" class=\"dataframe\">\n",
              "  <thead>\n",
              "    <tr style=\"text-align: right;\">\n",
              "      <th></th>\n",
              "      <th>Age</th>\n",
              "      <th>OVA</th>\n",
              "      <th>POT</th>\n",
              "      <th>Value(M)</th>\n",
              "      <th>Total_stats</th>\n",
              "    </tr>\n",
              "  </thead>\n",
              "  <tbody>\n",
              "    <tr>\n",
              "      <th>count</th>\n",
              "      <td>600.000000</td>\n",
              "      <td>600.000000</td>\n",
              "      <td>600.000000</td>\n",
              "      <td>600.000000</td>\n",
              "      <td>600.000000</td>\n",
              "    </tr>\n",
              "    <tr>\n",
              "      <th>mean</th>\n",
              "      <td>27.398333</td>\n",
              "      <td>81.915000</td>\n",
              "      <td>83.750000</td>\n",
              "      <td>34.275667</td>\n",
              "      <td>1953.541667</td>\n",
              "    </tr>\n",
              "    <tr>\n",
              "      <th>std</th>\n",
              "      <td>3.961374</td>\n",
              "      <td>2.610709</td>\n",
              "      <td>3.230308</td>\n",
              "      <td>22.547575</td>\n",
              "      <td>265.848712</td>\n",
              "    </tr>\n",
              "    <tr>\n",
              "      <th>min</th>\n",
              "      <td>17.000000</td>\n",
              "      <td>79.000000</td>\n",
              "      <td>79.000000</td>\n",
              "      <td>0.000000</td>\n",
              "      <td>1070.000000</td>\n",
              "    </tr>\n",
              "    <tr>\n",
              "      <th>25%</th>\n",
              "      <td>24.750000</td>\n",
              "      <td>80.000000</td>\n",
              "      <td>81.000000</td>\n",
              "      <td>20.500000</td>\n",
              "      <td>1907.000000</td>\n",
              "    </tr>\n",
              "    <tr>\n",
              "      <th>50%</th>\n",
              "      <td>27.000000</td>\n",
              "      <td>81.000000</td>\n",
              "      <td>83.000000</td>\n",
              "      <td>27.750000</td>\n",
              "      <td>2033.000000</td>\n",
              "    </tr>\n",
              "    <tr>\n",
              "      <th>75%</th>\n",
              "      <td>30.000000</td>\n",
              "      <td>83.000000</td>\n",
              "      <td>86.000000</td>\n",
              "      <td>42.000000</td>\n",
              "      <td>2122.000000</td>\n",
              "    </tr>\n",
              "    <tr>\n",
              "      <th>max</th>\n",
              "      <td>40.000000</td>\n",
              "      <td>91.000000</td>\n",
              "      <td>95.000000</td>\n",
              "      <td>190.500000</td>\n",
              "      <td>2312.000000</td>\n",
              "    </tr>\n",
              "  </tbody>\n",
              "</table>\n",
              "</div>\n",
              "      <button class=\"colab-df-convert\" onclick=\"convertToInteractive('df-94d093f5-3190-4102-a600-569316a48357')\"\n",
              "              title=\"Convert this dataframe to an interactive table.\"\n",
              "              style=\"display:none;\">\n",
              "        \n",
              "  <svg xmlns=\"http://www.w3.org/2000/svg\" height=\"24px\"viewBox=\"0 0 24 24\"\n",
              "       width=\"24px\">\n",
              "    <path d=\"M0 0h24v24H0V0z\" fill=\"none\"/>\n",
              "    <path d=\"M18.56 5.44l.94 2.06.94-2.06 2.06-.94-2.06-.94-.94-2.06-.94 2.06-2.06.94zm-11 1L8.5 8.5l.94-2.06 2.06-.94-2.06-.94L8.5 2.5l-.94 2.06-2.06.94zm10 10l.94 2.06.94-2.06 2.06-.94-2.06-.94-.94-2.06-.94 2.06-2.06.94z\"/><path d=\"M17.41 7.96l-1.37-1.37c-.4-.4-.92-.59-1.43-.59-.52 0-1.04.2-1.43.59L10.3 9.45l-7.72 7.72c-.78.78-.78 2.05 0 2.83L4 21.41c.39.39.9.59 1.41.59.51 0 1.02-.2 1.41-.59l7.78-7.78 2.81-2.81c.8-.78.8-2.07 0-2.86zM5.41 20L4 18.59l7.72-7.72 1.47 1.35L5.41 20z\"/>\n",
              "  </svg>\n",
              "      </button>\n",
              "      \n",
              "  <style>\n",
              "    .colab-df-container {\n",
              "      display:flex;\n",
              "      flex-wrap:wrap;\n",
              "      gap: 12px;\n",
              "    }\n",
              "\n",
              "    .colab-df-convert {\n",
              "      background-color: #E8F0FE;\n",
              "      border: none;\n",
              "      border-radius: 50%;\n",
              "      cursor: pointer;\n",
              "      display: none;\n",
              "      fill: #1967D2;\n",
              "      height: 32px;\n",
              "      padding: 0 0 0 0;\n",
              "      width: 32px;\n",
              "    }\n",
              "\n",
              "    .colab-df-convert:hover {\n",
              "      background-color: #E2EBFA;\n",
              "      box-shadow: 0px 1px 2px rgba(60, 64, 67, 0.3), 0px 1px 3px 1px rgba(60, 64, 67, 0.15);\n",
              "      fill: #174EA6;\n",
              "    }\n",
              "\n",
              "    [theme=dark] .colab-df-convert {\n",
              "      background-color: #3B4455;\n",
              "      fill: #D2E3FC;\n",
              "    }\n",
              "\n",
              "    [theme=dark] .colab-df-convert:hover {\n",
              "      background-color: #434B5C;\n",
              "      box-shadow: 0px 1px 3px 1px rgba(0, 0, 0, 0.15);\n",
              "      filter: drop-shadow(0px 1px 2px rgba(0, 0, 0, 0.3));\n",
              "      fill: #FFFFFF;\n",
              "    }\n",
              "  </style>\n",
              "\n",
              "      <script>\n",
              "        const buttonEl =\n",
              "          document.querySelector('#df-94d093f5-3190-4102-a600-569316a48357 button.colab-df-convert');\n",
              "        buttonEl.style.display =\n",
              "          google.colab.kernel.accessAllowed ? 'block' : 'none';\n",
              "\n",
              "        async function convertToInteractive(key) {\n",
              "          const element = document.querySelector('#df-94d093f5-3190-4102-a600-569316a48357');\n",
              "          const dataTable =\n",
              "            await google.colab.kernel.invokeFunction('convertToInteractive',\n",
              "                                                     [key], {});\n",
              "          if (!dataTable) return;\n",
              "\n",
              "          const docLinkHtml = 'Like what you see? Visit the ' +\n",
              "            '<a target=\"_blank\" href=https://colab.research.google.com/notebooks/data_table.ipynb>data table notebook</a>'\n",
              "            + ' to learn more about interactive tables.';\n",
              "          element.innerHTML = '';\n",
              "          dataTable['output_type'] = 'display_data';\n",
              "          await google.colab.output.renderOutput(dataTable, element);\n",
              "          const docLink = document.createElement('div');\n",
              "          docLink.innerHTML = docLinkHtml;\n",
              "          element.appendChild(docLink);\n",
              "        }\n",
              "      </script>\n",
              "    </div>\n",
              "  </div>\n",
              "  "
            ]
          },
          "metadata": {},
          "execution_count": 194
        }
      ],
      "source": [
        "# checking statistical information of the dataset\n",
        "\n",
        "fifa_final.describe()"
      ]
    },
    {
      "cell_type": "markdown",
      "metadata": {
        "id": "4-C0qY_GhF5h"
      },
      "source": [
        "# EDA\n"
      ]
    },
    {
      "cell_type": "code",
      "execution_count": 143,
      "metadata": {
        "colab": {
          "base_uri": "https://localhost:8080/"
        },
        "id": "JIkfA-NVhIYA",
        "outputId": "0f38ffa2-50ac-433c-8a52-6fcc9958fb82"
      },
      "outputs": [
        {
          "output_type": "execute_result",
          "data": {
            "text/plain": [
              "Image_link     0\n",
              "Name           0\n",
              "Age            0\n",
              "OVA            0\n",
              "POT            0\n",
              "Team           0\n",
              "Duration       0\n",
              "Value          0\n",
              "Wage           0\n",
              "Total_stats    0\n",
              "dtype: int64"
            ]
          },
          "metadata": {},
          "execution_count": 143
        }
      ],
      "source": [
        "# How many null values are there in the column ?\n",
        "\n",
        "fifa_final.isna().sum()"
      ]
    },
    {
      "cell_type": "code",
      "execution_count": null,
      "metadata": {
        "colab": {
          "base_uri": "https://localhost:8080/"
        },
        "id": "XEpHInrvhbBp",
        "outputId": "40dc9ac5-10d7-4b75-840d-3e2b05b3e74d"
      },
      "outputs": [
        {
          "output_type": "execute_result",
          "data": {
            "text/plain": [
              "0"
            ]
          },
          "metadata": {},
          "execution_count": 33
        }
      ],
      "source": [
        "# how many null values are there in the dataset ?\n",
        "\n",
        "fifa_final.isna().sum().sum()"
      ]
    },
    {
      "cell_type": "code",
      "execution_count": null,
      "metadata": {
        "colab": {
          "base_uri": "https://localhost:8080/"
        },
        "id": "9Cas--yBiC5g",
        "outputId": "3b77201d-daba-4012-9ce5-bc8b1a7af733"
      },
      "outputs": [
        {
          "output_type": "execute_result",
          "data": {
            "text/plain": [
              "0"
            ]
          },
          "metadata": {},
          "execution_count": 34
        }
      ],
      "source": [
        "# check for duplicate values \n",
        "\n",
        "fifa_final.duplicated().sum()"
      ]
    },
    {
      "cell_type": "code",
      "execution_count": null,
      "metadata": {
        "colab": {
          "base_uri": "https://localhost:8080/"
        },
        "id": "Hh1IZSojkd5_",
        "outputId": "95613fa9-b50d-49ed-cf33-e00c6bdff92b"
      },
      "outputs": [
        {
          "output_type": "execute_result",
          "data": {
            "text/plain": [
              "(600, 10)"
            ]
          },
          "metadata": {},
          "execution_count": 35
        }
      ],
      "source": [
        "fifa_final.shape"
      ]
    },
    {
      "cell_type": "code",
      "execution_count": 186,
      "metadata": {
        "colab": {
          "base_uri": "https://localhost:8080/",
          "height": 424
        },
        "id": "9JFWg99FmnB2",
        "outputId": "a45a4dbc-83a9-4b45-ed50-be76c6a80dbd"
      },
      "outputs": [
        {
          "output_type": "execute_result",
          "data": {
            "text/plain": [
              "                Name  Age  OVA  POT                 Team   Value  Wage  \\\n",
              "0          K. Mbappé   23   91   95  Paris Saint Germain  190.5M  230K   \n",
              "1       K. De Bruyne   31   91   91      Manchester City  107.5M  350K   \n",
              "2     R. Lewandowski   33   91   91         FC Barcelona     84M  420K   \n",
              "3         K. Benzema   34   91   91          Real Madrid     64M  450K   \n",
              "4           L. Messi   35   91   91  Paris Saint Germain     54M  195K   \n",
              "..               ...  ...  ...  ...                  ...     ...   ...   \n",
              "595        J. Correa   27   79   79                Inter     19M   71K   \n",
              "596     L. Zelarayán   30   79   79        Columbus Crew     17M   12K   \n",
              "597        F. Armani   35   79   79          River Plate    1.9M   10K   \n",
              "598        S. Azmoun   27   79   79  Bayer 04 Leverkusen     19M   60K   \n",
              "599  F. Bernardeschi   28   79   79              Toronto   17.5M   12K   \n",
              "\n",
              "     Total_stats  \n",
              "0           2181  \n",
              "1           2298  \n",
              "2           2205  \n",
              "3           2147  \n",
              "4           2190  \n",
              "..           ...  \n",
              "595         1945  \n",
              "596         2032  \n",
              "597         1291  \n",
              "598         1973  \n",
              "599         2089  \n",
              "\n",
              "[600 rows x 8 columns]"
            ],
            "text/html": [
              "\n",
              "  <div id=\"df-ba003e6a-5dca-47d9-a12e-88d4c8c8d088\">\n",
              "    <div class=\"colab-df-container\">\n",
              "      <div>\n",
              "<style scoped>\n",
              "    .dataframe tbody tr th:only-of-type {\n",
              "        vertical-align: middle;\n",
              "    }\n",
              "\n",
              "    .dataframe tbody tr th {\n",
              "        vertical-align: top;\n",
              "    }\n",
              "\n",
              "    .dataframe thead th {\n",
              "        text-align: right;\n",
              "    }\n",
              "</style>\n",
              "<table border=\"1\" class=\"dataframe\">\n",
              "  <thead>\n",
              "    <tr style=\"text-align: right;\">\n",
              "      <th></th>\n",
              "      <th>Name</th>\n",
              "      <th>Age</th>\n",
              "      <th>OVA</th>\n",
              "      <th>POT</th>\n",
              "      <th>Team</th>\n",
              "      <th>Value</th>\n",
              "      <th>Wage</th>\n",
              "      <th>Total_stats</th>\n",
              "    </tr>\n",
              "  </thead>\n",
              "  <tbody>\n",
              "    <tr>\n",
              "      <th>0</th>\n",
              "      <td>K. Mbappé</td>\n",
              "      <td>23</td>\n",
              "      <td>91</td>\n",
              "      <td>95</td>\n",
              "      <td>Paris Saint Germain</td>\n",
              "      <td>190.5M</td>\n",
              "      <td>230K</td>\n",
              "      <td>2181</td>\n",
              "    </tr>\n",
              "    <tr>\n",
              "      <th>1</th>\n",
              "      <td>K. De Bruyne</td>\n",
              "      <td>31</td>\n",
              "      <td>91</td>\n",
              "      <td>91</td>\n",
              "      <td>Manchester City</td>\n",
              "      <td>107.5M</td>\n",
              "      <td>350K</td>\n",
              "      <td>2298</td>\n",
              "    </tr>\n",
              "    <tr>\n",
              "      <th>2</th>\n",
              "      <td>R. Lewandowski</td>\n",
              "      <td>33</td>\n",
              "      <td>91</td>\n",
              "      <td>91</td>\n",
              "      <td>FC Barcelona</td>\n",
              "      <td>84M</td>\n",
              "      <td>420K</td>\n",
              "      <td>2205</td>\n",
              "    </tr>\n",
              "    <tr>\n",
              "      <th>3</th>\n",
              "      <td>K. Benzema</td>\n",
              "      <td>34</td>\n",
              "      <td>91</td>\n",
              "      <td>91</td>\n",
              "      <td>Real Madrid</td>\n",
              "      <td>64M</td>\n",
              "      <td>450K</td>\n",
              "      <td>2147</td>\n",
              "    </tr>\n",
              "    <tr>\n",
              "      <th>4</th>\n",
              "      <td>L. Messi</td>\n",
              "      <td>35</td>\n",
              "      <td>91</td>\n",
              "      <td>91</td>\n",
              "      <td>Paris Saint Germain</td>\n",
              "      <td>54M</td>\n",
              "      <td>195K</td>\n",
              "      <td>2190</td>\n",
              "    </tr>\n",
              "    <tr>\n",
              "      <th>...</th>\n",
              "      <td>...</td>\n",
              "      <td>...</td>\n",
              "      <td>...</td>\n",
              "      <td>...</td>\n",
              "      <td>...</td>\n",
              "      <td>...</td>\n",
              "      <td>...</td>\n",
              "      <td>...</td>\n",
              "    </tr>\n",
              "    <tr>\n",
              "      <th>595</th>\n",
              "      <td>J. Correa</td>\n",
              "      <td>27</td>\n",
              "      <td>79</td>\n",
              "      <td>79</td>\n",
              "      <td>Inter</td>\n",
              "      <td>19M</td>\n",
              "      <td>71K</td>\n",
              "      <td>1945</td>\n",
              "    </tr>\n",
              "    <tr>\n",
              "      <th>596</th>\n",
              "      <td>L. Zelarayán</td>\n",
              "      <td>30</td>\n",
              "      <td>79</td>\n",
              "      <td>79</td>\n",
              "      <td>Columbus Crew</td>\n",
              "      <td>17M</td>\n",
              "      <td>12K</td>\n",
              "      <td>2032</td>\n",
              "    </tr>\n",
              "    <tr>\n",
              "      <th>597</th>\n",
              "      <td>F. Armani</td>\n",
              "      <td>35</td>\n",
              "      <td>79</td>\n",
              "      <td>79</td>\n",
              "      <td>River Plate</td>\n",
              "      <td>1.9M</td>\n",
              "      <td>10K</td>\n",
              "      <td>1291</td>\n",
              "    </tr>\n",
              "    <tr>\n",
              "      <th>598</th>\n",
              "      <td>S. Azmoun</td>\n",
              "      <td>27</td>\n",
              "      <td>79</td>\n",
              "      <td>79</td>\n",
              "      <td>Bayer 04 Leverkusen</td>\n",
              "      <td>19M</td>\n",
              "      <td>60K</td>\n",
              "      <td>1973</td>\n",
              "    </tr>\n",
              "    <tr>\n",
              "      <th>599</th>\n",
              "      <td>F. Bernardeschi</td>\n",
              "      <td>28</td>\n",
              "      <td>79</td>\n",
              "      <td>79</td>\n",
              "      <td>Toronto</td>\n",
              "      <td>17.5M</td>\n",
              "      <td>12K</td>\n",
              "      <td>2089</td>\n",
              "    </tr>\n",
              "  </tbody>\n",
              "</table>\n",
              "<p>600 rows × 8 columns</p>\n",
              "</div>\n",
              "      <button class=\"colab-df-convert\" onclick=\"convertToInteractive('df-ba003e6a-5dca-47d9-a12e-88d4c8c8d088')\"\n",
              "              title=\"Convert this dataframe to an interactive table.\"\n",
              "              style=\"display:none;\">\n",
              "        \n",
              "  <svg xmlns=\"http://www.w3.org/2000/svg\" height=\"24px\"viewBox=\"0 0 24 24\"\n",
              "       width=\"24px\">\n",
              "    <path d=\"M0 0h24v24H0V0z\" fill=\"none\"/>\n",
              "    <path d=\"M18.56 5.44l.94 2.06.94-2.06 2.06-.94-2.06-.94-.94-2.06-.94 2.06-2.06.94zm-11 1L8.5 8.5l.94-2.06 2.06-.94-2.06-.94L8.5 2.5l-.94 2.06-2.06.94zm10 10l.94 2.06.94-2.06 2.06-.94-2.06-.94-.94-2.06-.94 2.06-2.06.94z\"/><path d=\"M17.41 7.96l-1.37-1.37c-.4-.4-.92-.59-1.43-.59-.52 0-1.04.2-1.43.59L10.3 9.45l-7.72 7.72c-.78.78-.78 2.05 0 2.83L4 21.41c.39.39.9.59 1.41.59.51 0 1.02-.2 1.41-.59l7.78-7.78 2.81-2.81c.8-.78.8-2.07 0-2.86zM5.41 20L4 18.59l7.72-7.72 1.47 1.35L5.41 20z\"/>\n",
              "  </svg>\n",
              "      </button>\n",
              "      \n",
              "  <style>\n",
              "    .colab-df-container {\n",
              "      display:flex;\n",
              "      flex-wrap:wrap;\n",
              "      gap: 12px;\n",
              "    }\n",
              "\n",
              "    .colab-df-convert {\n",
              "      background-color: #E8F0FE;\n",
              "      border: none;\n",
              "      border-radius: 50%;\n",
              "      cursor: pointer;\n",
              "      display: none;\n",
              "      fill: #1967D2;\n",
              "      height: 32px;\n",
              "      padding: 0 0 0 0;\n",
              "      width: 32px;\n",
              "    }\n",
              "\n",
              "    .colab-df-convert:hover {\n",
              "      background-color: #E2EBFA;\n",
              "      box-shadow: 0px 1px 2px rgba(60, 64, 67, 0.3), 0px 1px 3px 1px rgba(60, 64, 67, 0.15);\n",
              "      fill: #174EA6;\n",
              "    }\n",
              "\n",
              "    [theme=dark] .colab-df-convert {\n",
              "      background-color: #3B4455;\n",
              "      fill: #D2E3FC;\n",
              "    }\n",
              "\n",
              "    [theme=dark] .colab-df-convert:hover {\n",
              "      background-color: #434B5C;\n",
              "      box-shadow: 0px 1px 3px 1px rgba(0, 0, 0, 0.15);\n",
              "      filter: drop-shadow(0px 1px 2px rgba(0, 0, 0, 0.3));\n",
              "      fill: #FFFFFF;\n",
              "    }\n",
              "  </style>\n",
              "\n",
              "      <script>\n",
              "        const buttonEl =\n",
              "          document.querySelector('#df-ba003e6a-5dca-47d9-a12e-88d4c8c8d088 button.colab-df-convert');\n",
              "        buttonEl.style.display =\n",
              "          google.colab.kernel.accessAllowed ? 'block' : 'none';\n",
              "\n",
              "        async function convertToInteractive(key) {\n",
              "          const element = document.querySelector('#df-ba003e6a-5dca-47d9-a12e-88d4c8c8d088');\n",
              "          const dataTable =\n",
              "            await google.colab.kernel.invokeFunction('convertToInteractive',\n",
              "                                                     [key], {});\n",
              "          if (!dataTable) return;\n",
              "\n",
              "          const docLinkHtml = 'Like what you see? Visit the ' +\n",
              "            '<a target=\"_blank\" href=https://colab.research.google.com/notebooks/data_table.ipynb>data table notebook</a>'\n",
              "            + ' to learn more about interactive tables.';\n",
              "          element.innerHTML = '';\n",
              "          dataTable['output_type'] = 'display_data';\n",
              "          await google.colab.output.renderOutput(dataTable, element);\n",
              "          const docLink = document.createElement('div');\n",
              "          docLink.innerHTML = docLinkHtml;\n",
              "          element.appendChild(docLink);\n",
              "        }\n",
              "      </script>\n",
              "    </div>\n",
              "  </div>\n",
              "  "
            ]
          },
          "metadata": {},
          "execution_count": 186
        }
      ],
      "source": [
        "fifa_final"
      ]
    },
    {
      "cell_type": "markdown",
      "metadata": {
        "id": "mxCIIWsutT9y"
      },
      "source": [
        "Q1. **Find the name of Player who is having the highest wage.**"
      ]
    },
    {
      "cell_type": "code",
      "execution_count": null,
      "metadata": {
        "id": "JZQFWbZAtaD8"
      },
      "outputs": [],
      "source": [
        "# to find a player having highest wage we first need to remove the 'k' symbol \n",
        "# from the column and then convert wage column into integer then multiply by 1000\n",
        "\n",
        "fifa_final['Wage']= fifa_final['Wage'].str.replace('K','')\n",
        "fifa_final['Wage']= fifa_final['Wage'].astype(int)\n",
        "fifa_final['Wage']=fifa_final['Wage']*1000\n",
        "\n"
      ]
    },
    {
      "cell_type": "code",
      "execution_count": null,
      "metadata": {
        "colab": {
          "base_uri": "https://localhost:8080/"
        },
        "id": "b8hVZZGE5xuj",
        "outputId": "4a956baf-ecdd-40c4-ba8d-92517a9ddedd"
      },
      "outputs": [
        {
          "output_type": "stream",
          "name": "stdout",
          "text": [
            "The player with maximun wage is : K. Benzema\n"
          ]
        }
      ],
      "source": [
        "# finding the player with maximun wage \n",
        "\n",
        "max_wage = fifa_final.Wage.max()\n",
        "max_wage_player = fifa_final.loc[fifa_final.Wage == max_wage ].iloc[0,0]\n",
        "print(f\"The player with maximun wage is : {max_wage_player}\")"
      ]
    },
    {
      "cell_type": "code",
      "execution_count": null,
      "metadata": {
        "id": "iubVs5GG5rjz"
      },
      "outputs": [],
      "source": [
        "fcopy= fifa_final.copy()"
      ]
    },
    {
      "cell_type": "markdown",
      "source": [
        "Q2. **List out the Top 10 Players according to their POT**"
      ],
      "metadata": {
        "id": "FEUHgMfp0kor"
      }
    },
    {
      "cell_type": "code",
      "source": [
        "fifa_final.sort_values(by = 'POT' , ascending = False ).iloc[0:10,[0,3]]"
      ],
      "metadata": {
        "colab": {
          "base_uri": "https://localhost:8080/",
          "height": 363
        },
        "id": "H3QXMK9a0gxC",
        "outputId": "d2bd871a-a4c3-4920-899e-a3981a1441bb"
      },
      "execution_count": null,
      "outputs": [
        {
          "output_type": "execute_result",
          "data": {
            "text/plain": [
              "              Name  POT\n",
              "0        K. Mbappé   95\n",
              "7       E. Haaland   94\n",
              "19   G. Donnarumma   92\n",
              "38    Vinícius Jr.   92\n",
              "63           Pedri   92\n",
              "147     J. Musiala   92\n",
              "65        P. Foden   92\n",
              "30      F. de Jong   92\n",
              "101     K. Havertz   91\n",
              "18      Rúben Dias   91"
            ],
            "text/html": [
              "\n",
              "  <div id=\"df-78c7c5d6-3a0c-47e0-b2c1-ce0fb7fe37f3\">\n",
              "    <div class=\"colab-df-container\">\n",
              "      <div>\n",
              "<style scoped>\n",
              "    .dataframe tbody tr th:only-of-type {\n",
              "        vertical-align: middle;\n",
              "    }\n",
              "\n",
              "    .dataframe tbody tr th {\n",
              "        vertical-align: top;\n",
              "    }\n",
              "\n",
              "    .dataframe thead th {\n",
              "        text-align: right;\n",
              "    }\n",
              "</style>\n",
              "<table border=\"1\" class=\"dataframe\">\n",
              "  <thead>\n",
              "    <tr style=\"text-align: right;\">\n",
              "      <th></th>\n",
              "      <th>Name</th>\n",
              "      <th>POT</th>\n",
              "    </tr>\n",
              "  </thead>\n",
              "  <tbody>\n",
              "    <tr>\n",
              "      <th>0</th>\n",
              "      <td>K. Mbappé</td>\n",
              "      <td>95</td>\n",
              "    </tr>\n",
              "    <tr>\n",
              "      <th>7</th>\n",
              "      <td>E. Haaland</td>\n",
              "      <td>94</td>\n",
              "    </tr>\n",
              "    <tr>\n",
              "      <th>19</th>\n",
              "      <td>G. Donnarumma</td>\n",
              "      <td>92</td>\n",
              "    </tr>\n",
              "    <tr>\n",
              "      <th>38</th>\n",
              "      <td>Vinícius Jr.</td>\n",
              "      <td>92</td>\n",
              "    </tr>\n",
              "    <tr>\n",
              "      <th>63</th>\n",
              "      <td>Pedri</td>\n",
              "      <td>92</td>\n",
              "    </tr>\n",
              "    <tr>\n",
              "      <th>147</th>\n",
              "      <td>J. Musiala</td>\n",
              "      <td>92</td>\n",
              "    </tr>\n",
              "    <tr>\n",
              "      <th>65</th>\n",
              "      <td>P. Foden</td>\n",
              "      <td>92</td>\n",
              "    </tr>\n",
              "    <tr>\n",
              "      <th>30</th>\n",
              "      <td>F. de Jong</td>\n",
              "      <td>92</td>\n",
              "    </tr>\n",
              "    <tr>\n",
              "      <th>101</th>\n",
              "      <td>K. Havertz</td>\n",
              "      <td>91</td>\n",
              "    </tr>\n",
              "    <tr>\n",
              "      <th>18</th>\n",
              "      <td>Rúben Dias</td>\n",
              "      <td>91</td>\n",
              "    </tr>\n",
              "  </tbody>\n",
              "</table>\n",
              "</div>\n",
              "      <button class=\"colab-df-convert\" onclick=\"convertToInteractive('df-78c7c5d6-3a0c-47e0-b2c1-ce0fb7fe37f3')\"\n",
              "              title=\"Convert this dataframe to an interactive table.\"\n",
              "              style=\"display:none;\">\n",
              "        \n",
              "  <svg xmlns=\"http://www.w3.org/2000/svg\" height=\"24px\"viewBox=\"0 0 24 24\"\n",
              "       width=\"24px\">\n",
              "    <path d=\"M0 0h24v24H0V0z\" fill=\"none\"/>\n",
              "    <path d=\"M18.56 5.44l.94 2.06.94-2.06 2.06-.94-2.06-.94-.94-2.06-.94 2.06-2.06.94zm-11 1L8.5 8.5l.94-2.06 2.06-.94-2.06-.94L8.5 2.5l-.94 2.06-2.06.94zm10 10l.94 2.06.94-2.06 2.06-.94-2.06-.94-.94-2.06-.94 2.06-2.06.94z\"/><path d=\"M17.41 7.96l-1.37-1.37c-.4-.4-.92-.59-1.43-.59-.52 0-1.04.2-1.43.59L10.3 9.45l-7.72 7.72c-.78.78-.78 2.05 0 2.83L4 21.41c.39.39.9.59 1.41.59.51 0 1.02-.2 1.41-.59l7.78-7.78 2.81-2.81c.8-.78.8-2.07 0-2.86zM5.41 20L4 18.59l7.72-7.72 1.47 1.35L5.41 20z\"/>\n",
              "  </svg>\n",
              "      </button>\n",
              "      \n",
              "  <style>\n",
              "    .colab-df-container {\n",
              "      display:flex;\n",
              "      flex-wrap:wrap;\n",
              "      gap: 12px;\n",
              "    }\n",
              "\n",
              "    .colab-df-convert {\n",
              "      background-color: #E8F0FE;\n",
              "      border: none;\n",
              "      border-radius: 50%;\n",
              "      cursor: pointer;\n",
              "      display: none;\n",
              "      fill: #1967D2;\n",
              "      height: 32px;\n",
              "      padding: 0 0 0 0;\n",
              "      width: 32px;\n",
              "    }\n",
              "\n",
              "    .colab-df-convert:hover {\n",
              "      background-color: #E2EBFA;\n",
              "      box-shadow: 0px 1px 2px rgba(60, 64, 67, 0.3), 0px 1px 3px 1px rgba(60, 64, 67, 0.15);\n",
              "      fill: #174EA6;\n",
              "    }\n",
              "\n",
              "    [theme=dark] .colab-df-convert {\n",
              "      background-color: #3B4455;\n",
              "      fill: #D2E3FC;\n",
              "    }\n",
              "\n",
              "    [theme=dark] .colab-df-convert:hover {\n",
              "      background-color: #434B5C;\n",
              "      box-shadow: 0px 1px 3px 1px rgba(0, 0, 0, 0.15);\n",
              "      filter: drop-shadow(0px 1px 2px rgba(0, 0, 0, 0.3));\n",
              "      fill: #FFFFFF;\n",
              "    }\n",
              "  </style>\n",
              "\n",
              "      <script>\n",
              "        const buttonEl =\n",
              "          document.querySelector('#df-78c7c5d6-3a0c-47e0-b2c1-ce0fb7fe37f3 button.colab-df-convert');\n",
              "        buttonEl.style.display =\n",
              "          google.colab.kernel.accessAllowed ? 'block' : 'none';\n",
              "\n",
              "        async function convertToInteractive(key) {\n",
              "          const element = document.querySelector('#df-78c7c5d6-3a0c-47e0-b2c1-ce0fb7fe37f3');\n",
              "          const dataTable =\n",
              "            await google.colab.kernel.invokeFunction('convertToInteractive',\n",
              "                                                     [key], {});\n",
              "          if (!dataTable) return;\n",
              "\n",
              "          const docLinkHtml = 'Like what you see? Visit the ' +\n",
              "            '<a target=\"_blank\" href=https://colab.research.google.com/notebooks/data_table.ipynb>data table notebook</a>'\n",
              "            + ' to learn more about interactive tables.';\n",
              "          element.innerHTML = '';\n",
              "          dataTable['output_type'] = 'display_data';\n",
              "          await google.colab.output.renderOutput(dataTable, element);\n",
              "          const docLink = document.createElement('div');\n",
              "          docLink.innerHTML = docLinkHtml;\n",
              "          element.appendChild(docLink);\n",
              "        }\n",
              "      </script>\n",
              "    </div>\n",
              "  </div>\n",
              "  "
            ]
          },
          "metadata": {},
          "execution_count": 93
        }
      ]
    },
    {
      "cell_type": "markdown",
      "source": [
        "Q3. **Find out the 10 Youngest Players**"
      ],
      "metadata": {
        "id": "jdsCWw7e116-"
      }
    },
    {
      "cell_type": "code",
      "source": [
        "fcopy.sort_values(by = 'Age').iloc[0:10,0:2]"
      ],
      "metadata": {
        "colab": {
          "base_uri": "https://localhost:8080/",
          "height": 363
        },
        "id": "DiCFExsJ0g3C",
        "outputId": "177459c1-ecd2-4b53-e882-c69dfcd26f9f"
      },
      "execution_count": null,
      "outputs": [
        {
          "output_type": "execute_result",
          "data": {
            "text/plain": [
              "              Name  Age\n",
              "373           Gavi   17\n",
              "510      Ansu Fati   19\n",
              "147     J. Musiala   19\n",
              "507    Yeremy Pino   19\n",
              "62   J. Bellingham   19\n",
              "513   E. Camavinga   19\n",
              "63           Pedri   19\n",
              "199       F. Wirtz   19\n",
              "274    Nuno Mendes   20\n",
              "202    J. Gvardiol   20"
            ],
            "text/html": [
              "\n",
              "  <div id=\"df-8587f0ea-0d74-4db6-aa17-6c48771aa44b\">\n",
              "    <div class=\"colab-df-container\">\n",
              "      <div>\n",
              "<style scoped>\n",
              "    .dataframe tbody tr th:only-of-type {\n",
              "        vertical-align: middle;\n",
              "    }\n",
              "\n",
              "    .dataframe tbody tr th {\n",
              "        vertical-align: top;\n",
              "    }\n",
              "\n",
              "    .dataframe thead th {\n",
              "        text-align: right;\n",
              "    }\n",
              "</style>\n",
              "<table border=\"1\" class=\"dataframe\">\n",
              "  <thead>\n",
              "    <tr style=\"text-align: right;\">\n",
              "      <th></th>\n",
              "      <th>Name</th>\n",
              "      <th>Age</th>\n",
              "    </tr>\n",
              "  </thead>\n",
              "  <tbody>\n",
              "    <tr>\n",
              "      <th>373</th>\n",
              "      <td>Gavi</td>\n",
              "      <td>17</td>\n",
              "    </tr>\n",
              "    <tr>\n",
              "      <th>510</th>\n",
              "      <td>Ansu Fati</td>\n",
              "      <td>19</td>\n",
              "    </tr>\n",
              "    <tr>\n",
              "      <th>147</th>\n",
              "      <td>J. Musiala</td>\n",
              "      <td>19</td>\n",
              "    </tr>\n",
              "    <tr>\n",
              "      <th>507</th>\n",
              "      <td>Yeremy Pino</td>\n",
              "      <td>19</td>\n",
              "    </tr>\n",
              "    <tr>\n",
              "      <th>62</th>\n",
              "      <td>J. Bellingham</td>\n",
              "      <td>19</td>\n",
              "    </tr>\n",
              "    <tr>\n",
              "      <th>513</th>\n",
              "      <td>E. Camavinga</td>\n",
              "      <td>19</td>\n",
              "    </tr>\n",
              "    <tr>\n",
              "      <th>63</th>\n",
              "      <td>Pedri</td>\n",
              "      <td>19</td>\n",
              "    </tr>\n",
              "    <tr>\n",
              "      <th>199</th>\n",
              "      <td>F. Wirtz</td>\n",
              "      <td>19</td>\n",
              "    </tr>\n",
              "    <tr>\n",
              "      <th>274</th>\n",
              "      <td>Nuno Mendes</td>\n",
              "      <td>20</td>\n",
              "    </tr>\n",
              "    <tr>\n",
              "      <th>202</th>\n",
              "      <td>J. Gvardiol</td>\n",
              "      <td>20</td>\n",
              "    </tr>\n",
              "  </tbody>\n",
              "</table>\n",
              "</div>\n",
              "      <button class=\"colab-df-convert\" onclick=\"convertToInteractive('df-8587f0ea-0d74-4db6-aa17-6c48771aa44b')\"\n",
              "              title=\"Convert this dataframe to an interactive table.\"\n",
              "              style=\"display:none;\">\n",
              "        \n",
              "  <svg xmlns=\"http://www.w3.org/2000/svg\" height=\"24px\"viewBox=\"0 0 24 24\"\n",
              "       width=\"24px\">\n",
              "    <path d=\"M0 0h24v24H0V0z\" fill=\"none\"/>\n",
              "    <path d=\"M18.56 5.44l.94 2.06.94-2.06 2.06-.94-2.06-.94-.94-2.06-.94 2.06-2.06.94zm-11 1L8.5 8.5l.94-2.06 2.06-.94-2.06-.94L8.5 2.5l-.94 2.06-2.06.94zm10 10l.94 2.06.94-2.06 2.06-.94-2.06-.94-.94-2.06-.94 2.06-2.06.94z\"/><path d=\"M17.41 7.96l-1.37-1.37c-.4-.4-.92-.59-1.43-.59-.52 0-1.04.2-1.43.59L10.3 9.45l-7.72 7.72c-.78.78-.78 2.05 0 2.83L4 21.41c.39.39.9.59 1.41.59.51 0 1.02-.2 1.41-.59l7.78-7.78 2.81-2.81c.8-.78.8-2.07 0-2.86zM5.41 20L4 18.59l7.72-7.72 1.47 1.35L5.41 20z\"/>\n",
              "  </svg>\n",
              "      </button>\n",
              "      \n",
              "  <style>\n",
              "    .colab-df-container {\n",
              "      display:flex;\n",
              "      flex-wrap:wrap;\n",
              "      gap: 12px;\n",
              "    }\n",
              "\n",
              "    .colab-df-convert {\n",
              "      background-color: #E8F0FE;\n",
              "      border: none;\n",
              "      border-radius: 50%;\n",
              "      cursor: pointer;\n",
              "      display: none;\n",
              "      fill: #1967D2;\n",
              "      height: 32px;\n",
              "      padding: 0 0 0 0;\n",
              "      width: 32px;\n",
              "    }\n",
              "\n",
              "    .colab-df-convert:hover {\n",
              "      background-color: #E2EBFA;\n",
              "      box-shadow: 0px 1px 2px rgba(60, 64, 67, 0.3), 0px 1px 3px 1px rgba(60, 64, 67, 0.15);\n",
              "      fill: #174EA6;\n",
              "    }\n",
              "\n",
              "    [theme=dark] .colab-df-convert {\n",
              "      background-color: #3B4455;\n",
              "      fill: #D2E3FC;\n",
              "    }\n",
              "\n",
              "    [theme=dark] .colab-df-convert:hover {\n",
              "      background-color: #434B5C;\n",
              "      box-shadow: 0px 1px 3px 1px rgba(0, 0, 0, 0.15);\n",
              "      filter: drop-shadow(0px 1px 2px rgba(0, 0, 0, 0.3));\n",
              "      fill: #FFFFFF;\n",
              "    }\n",
              "  </style>\n",
              "\n",
              "      <script>\n",
              "        const buttonEl =\n",
              "          document.querySelector('#df-8587f0ea-0d74-4db6-aa17-6c48771aa44b button.colab-df-convert');\n",
              "        buttonEl.style.display =\n",
              "          google.colab.kernel.accessAllowed ? 'block' : 'none';\n",
              "\n",
              "        async function convertToInteractive(key) {\n",
              "          const element = document.querySelector('#df-8587f0ea-0d74-4db6-aa17-6c48771aa44b');\n",
              "          const dataTable =\n",
              "            await google.colab.kernel.invokeFunction('convertToInteractive',\n",
              "                                                     [key], {});\n",
              "          if (!dataTable) return;\n",
              "\n",
              "          const docLinkHtml = 'Like what you see? Visit the ' +\n",
              "            '<a target=\"_blank\" href=https://colab.research.google.com/notebooks/data_table.ipynb>data table notebook</a>'\n",
              "            + ' to learn more about interactive tables.';\n",
              "          element.innerHTML = '';\n",
              "          dataTable['output_type'] = 'display_data';\n",
              "          await google.colab.output.renderOutput(dataTable, element);\n",
              "          const docLink = document.createElement('div');\n",
              "          docLink.innerHTML = docLinkHtml;\n",
              "          element.appendChild(docLink);\n",
              "        }\n",
              "      </script>\n",
              "    </div>\n",
              "  </div>\n",
              "  "
            ]
          },
          "metadata": {},
          "execution_count": 61
        }
      ]
    },
    {
      "cell_type": "markdown",
      "source": [
        "Q4. **Find out the 10 Oldest Players**"
      ],
      "metadata": {
        "id": "qByhRO7521AG"
      }
    },
    {
      "cell_type": "code",
      "source": [
        "fcopy.sort_values(by = 'Age' , ascending = False).iloc[0:10,0:2]"
      ],
      "metadata": {
        "colab": {
          "base_uri": "https://localhost:8080/",
          "height": 363
        },
        "id": "DimxMcR_0g__",
        "outputId": "32601029-72b9-475c-d58d-d3ebca9808ba"
      },
      "execution_count": null,
      "outputs": [
        {
          "output_type": "execute_result",
          "data": {
            "text/plain": [
              "                  Name  Age\n",
              "272     Z. Ibrahimović   40\n",
              "372               Pepe   39\n",
              "503         José Fonte   38\n",
              "371       Ł. Fabiański   37\n",
              "28   Cristiano Ronaldo   37\n",
              "61        Thiago Silva   37\n",
              "198      S. Handanovič   37\n",
              "146       G. Chiellini   37\n",
              "271        Jesús Navas   36\n",
              "27           L. Modrić   36"
            ],
            "text/html": [
              "\n",
              "  <div id=\"df-4a6189a8-af63-4c87-8a1f-e132e944ca8b\">\n",
              "    <div class=\"colab-df-container\">\n",
              "      <div>\n",
              "<style scoped>\n",
              "    .dataframe tbody tr th:only-of-type {\n",
              "        vertical-align: middle;\n",
              "    }\n",
              "\n",
              "    .dataframe tbody tr th {\n",
              "        vertical-align: top;\n",
              "    }\n",
              "\n",
              "    .dataframe thead th {\n",
              "        text-align: right;\n",
              "    }\n",
              "</style>\n",
              "<table border=\"1\" class=\"dataframe\">\n",
              "  <thead>\n",
              "    <tr style=\"text-align: right;\">\n",
              "      <th></th>\n",
              "      <th>Name</th>\n",
              "      <th>Age</th>\n",
              "    </tr>\n",
              "  </thead>\n",
              "  <tbody>\n",
              "    <tr>\n",
              "      <th>272</th>\n",
              "      <td>Z. Ibrahimović</td>\n",
              "      <td>40</td>\n",
              "    </tr>\n",
              "    <tr>\n",
              "      <th>372</th>\n",
              "      <td>Pepe</td>\n",
              "      <td>39</td>\n",
              "    </tr>\n",
              "    <tr>\n",
              "      <th>503</th>\n",
              "      <td>José Fonte</td>\n",
              "      <td>38</td>\n",
              "    </tr>\n",
              "    <tr>\n",
              "      <th>371</th>\n",
              "      <td>Ł. Fabiański</td>\n",
              "      <td>37</td>\n",
              "    </tr>\n",
              "    <tr>\n",
              "      <th>28</th>\n",
              "      <td>Cristiano Ronaldo</td>\n",
              "      <td>37</td>\n",
              "    </tr>\n",
              "    <tr>\n",
              "      <th>61</th>\n",
              "      <td>Thiago Silva</td>\n",
              "      <td>37</td>\n",
              "    </tr>\n",
              "    <tr>\n",
              "      <th>198</th>\n",
              "      <td>S. Handanovič</td>\n",
              "      <td>37</td>\n",
              "    </tr>\n",
              "    <tr>\n",
              "      <th>146</th>\n",
              "      <td>G. Chiellini</td>\n",
              "      <td>37</td>\n",
              "    </tr>\n",
              "    <tr>\n",
              "      <th>271</th>\n",
              "      <td>Jesús Navas</td>\n",
              "      <td>36</td>\n",
              "    </tr>\n",
              "    <tr>\n",
              "      <th>27</th>\n",
              "      <td>L. Modrić</td>\n",
              "      <td>36</td>\n",
              "    </tr>\n",
              "  </tbody>\n",
              "</table>\n",
              "</div>\n",
              "      <button class=\"colab-df-convert\" onclick=\"convertToInteractive('df-4a6189a8-af63-4c87-8a1f-e132e944ca8b')\"\n",
              "              title=\"Convert this dataframe to an interactive table.\"\n",
              "              style=\"display:none;\">\n",
              "        \n",
              "  <svg xmlns=\"http://www.w3.org/2000/svg\" height=\"24px\"viewBox=\"0 0 24 24\"\n",
              "       width=\"24px\">\n",
              "    <path d=\"M0 0h24v24H0V0z\" fill=\"none\"/>\n",
              "    <path d=\"M18.56 5.44l.94 2.06.94-2.06 2.06-.94-2.06-.94-.94-2.06-.94 2.06-2.06.94zm-11 1L8.5 8.5l.94-2.06 2.06-.94-2.06-.94L8.5 2.5l-.94 2.06-2.06.94zm10 10l.94 2.06.94-2.06 2.06-.94-2.06-.94-.94-2.06-.94 2.06-2.06.94z\"/><path d=\"M17.41 7.96l-1.37-1.37c-.4-.4-.92-.59-1.43-.59-.52 0-1.04.2-1.43.59L10.3 9.45l-7.72 7.72c-.78.78-.78 2.05 0 2.83L4 21.41c.39.39.9.59 1.41.59.51 0 1.02-.2 1.41-.59l7.78-7.78 2.81-2.81c.8-.78.8-2.07 0-2.86zM5.41 20L4 18.59l7.72-7.72 1.47 1.35L5.41 20z\"/>\n",
              "  </svg>\n",
              "      </button>\n",
              "      \n",
              "  <style>\n",
              "    .colab-df-container {\n",
              "      display:flex;\n",
              "      flex-wrap:wrap;\n",
              "      gap: 12px;\n",
              "    }\n",
              "\n",
              "    .colab-df-convert {\n",
              "      background-color: #E8F0FE;\n",
              "      border: none;\n",
              "      border-radius: 50%;\n",
              "      cursor: pointer;\n",
              "      display: none;\n",
              "      fill: #1967D2;\n",
              "      height: 32px;\n",
              "      padding: 0 0 0 0;\n",
              "      width: 32px;\n",
              "    }\n",
              "\n",
              "    .colab-df-convert:hover {\n",
              "      background-color: #E2EBFA;\n",
              "      box-shadow: 0px 1px 2px rgba(60, 64, 67, 0.3), 0px 1px 3px 1px rgba(60, 64, 67, 0.15);\n",
              "      fill: #174EA6;\n",
              "    }\n",
              "\n",
              "    [theme=dark] .colab-df-convert {\n",
              "      background-color: #3B4455;\n",
              "      fill: #D2E3FC;\n",
              "    }\n",
              "\n",
              "    [theme=dark] .colab-df-convert:hover {\n",
              "      background-color: #434B5C;\n",
              "      box-shadow: 0px 1px 3px 1px rgba(0, 0, 0, 0.15);\n",
              "      filter: drop-shadow(0px 1px 2px rgba(0, 0, 0, 0.3));\n",
              "      fill: #FFFFFF;\n",
              "    }\n",
              "  </style>\n",
              "\n",
              "      <script>\n",
              "        const buttonEl =\n",
              "          document.querySelector('#df-4a6189a8-af63-4c87-8a1f-e132e944ca8b button.colab-df-convert');\n",
              "        buttonEl.style.display =\n",
              "          google.colab.kernel.accessAllowed ? 'block' : 'none';\n",
              "\n",
              "        async function convertToInteractive(key) {\n",
              "          const element = document.querySelector('#df-4a6189a8-af63-4c87-8a1f-e132e944ca8b');\n",
              "          const dataTable =\n",
              "            await google.colab.kernel.invokeFunction('convertToInteractive',\n",
              "                                                     [key], {});\n",
              "          if (!dataTable) return;\n",
              "\n",
              "          const docLinkHtml = 'Like what you see? Visit the ' +\n",
              "            '<a target=\"_blank\" href=https://colab.research.google.com/notebooks/data_table.ipynb>data table notebook</a>'\n",
              "            + ' to learn more about interactive tables.';\n",
              "          element.innerHTML = '';\n",
              "          dataTable['output_type'] = 'display_data';\n",
              "          await google.colab.output.renderOutput(dataTable, element);\n",
              "          const docLink = document.createElement('div');\n",
              "          docLink.innerHTML = docLinkHtml;\n",
              "          element.appendChild(docLink);\n",
              "        }\n",
              "      </script>\n",
              "    </div>\n",
              "  </div>\n",
              "  "
            ]
          },
          "metadata": {},
          "execution_count": 62
        }
      ]
    },
    {
      "cell_type": "markdown",
      "source": [
        "Q5. **Plot a graph - First 10 player's Name Vs Player's POT**"
      ],
      "metadata": {
        "id": "iyTWC38l3YH6"
      }
    },
    {
      "cell_type": "code",
      "source": [
        "# plotting bar graph \n",
        "\n",
        "x = fifa_final.Name.iloc[0:10]\n",
        "y = fifa_final.POT.iloc[0:10]\n",
        "\n",
        "plt.figure(figsize=(15, 6))\n",
        "plt.bar(x,y)\n",
        "plt.xlabel('Name')\n",
        "plt.ylabel('POT')\n",
        "plt.title('Name vs POT')\n",
        "\n",
        "plt.show()"
      ],
      "metadata": {
        "colab": {
          "base_uri": "https://localhost:8080/",
          "height": 405
        },
        "id": "tfmFZVis0hCW",
        "outputId": "7d2a1538-42c5-4504-9903-d44104fa7f56"
      },
      "execution_count": null,
      "outputs": [
        {
          "output_type": "display_data",
          "data": {
            "text/plain": [
              "<Figure size 1080x432 with 1 Axes>"
            ],
            "image/png": "[encoded data removed]"
          },
          "metadata": {
            "needs_background": "light"
          }
        }
      ]
    },
    {
      "cell_type": "markdown",
      "source": [
        "Q6.**Plot a graph - First 10 player's Name Vs Player's Wage**"
      ],
      "metadata": {
        "id": "_o0Fo7ol6FNt"
      }
    },
    {
      "cell_type": "code",
      "source": [
        "# plotting bar grapgh\n",
        "x = fifa_final.Name.iloc[0:10]\n",
        "y = fifa_final.Wage.iloc[0:10]\n",
        "\n",
        "plt.figure(figsize=(15,6))\n",
        "plt.bar(x,y)\n",
        "plt.xlabel('Name')\n",
        "plt.ylabel('Wage')\n",
        "plt.title(\"Name vs Wage\")\n",
        "\n",
        "plt.show()"
      ],
      "metadata": {
        "colab": {
          "base_uri": "https://localhost:8080/",
          "height": 405
        },
        "id": "qNxQEqhc0hIB",
        "outputId": "68473c3d-43ef-4c84-8a09-82071dc902b1"
      },
      "execution_count": null,
      "outputs": [
        {
          "output_type": "display_data",
          "data": {
            "text/plain": [
              "<Figure size 1080x432 with 1 Axes>"
            ],
            "image/png": "[encoded data removed]"
          },
          "metadata": {
            "needs_background": "light"
          }
        }
      ]
    },
    {
      "cell_type": "markdown",
      "source": [
        "Q7. **Find the Player(s) whose potential is more than 90**"
      ],
      "metadata": {
        "id": "JmOwb7WD7Iwf"
      }
    },
    {
      "cell_type": "code",
      "source": [
        "fifa_final.loc[fifa_final.POT > 90 ].iloc[:,[0,3]]\n"
      ],
      "metadata": {
        "colab": {
          "base_uri": "https://localhost:8080/",
          "height": 645
        },
        "id": "FU50SL4w6-D_",
        "outputId": "67be8b37-fbd9-4253-800d-fdd0a60a57a8"
      },
      "execution_count": null,
      "outputs": [
        {
          "output_type": "execute_result",
          "data": {
            "text/plain": [
              "               Name  POT\n",
              "0         K. Mbappé   95\n",
              "1      K. De Bruyne   91\n",
              "2    R. Lewandowski   91\n",
              "3        K. Benzema   91\n",
              "4          L. Messi   91\n",
              "6       T. Courtois   91\n",
              "7        E. Haaland   94\n",
              "10          Ederson   91\n",
              "18       Rúben Dias   91\n",
              "19    G. Donnarumma   92\n",
              "30       F. de Jong   92\n",
              "38     Vinícius Jr.   92\n",
              "62    J. Bellingham   91\n",
              "63            Pedri   92\n",
              "65         P. Foden   92\n",
              "91      D. Vlahović   91\n",
              "101      K. Havertz   91\n",
              "147      J. Musiala   92\n",
              "199        F. Wirtz   91"
            ],
            "text/html": [
              "\n",
              "  <div id=\"df-8323e9b3-0b50-4dc5-86ed-019bcb1e8c14\">\n",
              "    <div class=\"colab-df-container\">\n",
              "      <div>\n",
              "<style scoped>\n",
              "    .dataframe tbody tr th:only-of-type {\n",
              "        vertical-align: middle;\n",
              "    }\n",
              "\n",
              "    .dataframe tbody tr th {\n",
              "        vertical-align: top;\n",
              "    }\n",
              "\n",
              "    .dataframe thead th {\n",
              "        text-align: right;\n",
              "    }\n",
              "</style>\n",
              "<table border=\"1\" class=\"dataframe\">\n",
              "  <thead>\n",
              "    <tr style=\"text-align: right;\">\n",
              "      <th></th>\n",
              "      <th>Name</th>\n",
              "      <th>POT</th>\n",
              "    </tr>\n",
              "  </thead>\n",
              "  <tbody>\n",
              "    <tr>\n",
              "      <th>0</th>\n",
              "      <td>K. Mbappé</td>\n",
              "      <td>95</td>\n",
              "    </tr>\n",
              "    <tr>\n",
              "      <th>1</th>\n",
              "      <td>K. De Bruyne</td>\n",
              "      <td>91</td>\n",
              "    </tr>\n",
              "    <tr>\n",
              "      <th>2</th>\n",
              "      <td>R. Lewandowski</td>\n",
              "      <td>91</td>\n",
              "    </tr>\n",
              "    <tr>\n",
              "      <th>3</th>\n",
              "      <td>K. Benzema</td>\n",
              "      <td>91</td>\n",
              "    </tr>\n",
              "    <tr>\n",
              "      <th>4</th>\n",
              "      <td>L. Messi</td>\n",
              "      <td>91</td>\n",
              "    </tr>\n",
              "    <tr>\n",
              "      <th>6</th>\n",
              "      <td>T. Courtois</td>\n",
              "      <td>91</td>\n",
              "    </tr>\n",
              "    <tr>\n",
              "      <th>7</th>\n",
              "      <td>E. Haaland</td>\n",
              "      <td>94</td>\n",
              "    </tr>\n",
              "    <tr>\n",
              "      <th>10</th>\n",
              "      <td>Ederson</td>\n",
              "      <td>91</td>\n",
              "    </tr>\n",
              "    <tr>\n",
              "      <th>18</th>\n",
              "      <td>Rúben Dias</td>\n",
              "      <td>91</td>\n",
              "    </tr>\n",
              "    <tr>\n",
              "      <th>19</th>\n",
              "      <td>G. Donnarumma</td>\n",
              "      <td>92</td>\n",
              "    </tr>\n",
              "    <tr>\n",
              "      <th>30</th>\n",
              "      <td>F. de Jong</td>\n",
              "      <td>92</td>\n",
              "    </tr>\n",
              "    <tr>\n",
              "      <th>38</th>\n",
              "      <td>Vinícius Jr.</td>\n",
              "      <td>92</td>\n",
              "    </tr>\n",
              "    <tr>\n",
              "      <th>62</th>\n",
              "      <td>J. Bellingham</td>\n",
              "      <td>91</td>\n",
              "    </tr>\n",
              "    <tr>\n",
              "      <th>63</th>\n",
              "      <td>Pedri</td>\n",
              "      <td>92</td>\n",
              "    </tr>\n",
              "    <tr>\n",
              "      <th>65</th>\n",
              "      <td>P. Foden</td>\n",
              "      <td>92</td>\n",
              "    </tr>\n",
              "    <tr>\n",
              "      <th>91</th>\n",
              "      <td>D. Vlahović</td>\n",
              "      <td>91</td>\n",
              "    </tr>\n",
              "    <tr>\n",
              "      <th>101</th>\n",
              "      <td>K. Havertz</td>\n",
              "      <td>91</td>\n",
              "    </tr>\n",
              "    <tr>\n",
              "      <th>147</th>\n",
              "      <td>J. Musiala</td>\n",
              "      <td>92</td>\n",
              "    </tr>\n",
              "    <tr>\n",
              "      <th>199</th>\n",
              "      <td>F. Wirtz</td>\n",
              "      <td>91</td>\n",
              "    </tr>\n",
              "  </tbody>\n",
              "</table>\n",
              "</div>\n",
              "      <button class=\"colab-df-convert\" onclick=\"convertToInteractive('df-8323e9b3-0b50-4dc5-86ed-019bcb1e8c14')\"\n",
              "              title=\"Convert this dataframe to an interactive table.\"\n",
              "              style=\"display:none;\">\n",
              "        \n",
              "  <svg xmlns=\"http://www.w3.org/2000/svg\" height=\"24px\"viewBox=\"0 0 24 24\"\n",
              "       width=\"24px\">\n",
              "    <path d=\"M0 0h24v24H0V0z\" fill=\"none\"/>\n",
              "    <path d=\"M18.56 5.44l.94 2.06.94-2.06 2.06-.94-2.06-.94-.94-2.06-.94 2.06-2.06.94zm-11 1L8.5 8.5l.94-2.06 2.06-.94-2.06-.94L8.5 2.5l-.94 2.06-2.06.94zm10 10l.94 2.06.94-2.06 2.06-.94-2.06-.94-.94-2.06-.94 2.06-2.06.94z\"/><path d=\"M17.41 7.96l-1.37-1.37c-.4-.4-.92-.59-1.43-.59-.52 0-1.04.2-1.43.59L10.3 9.45l-7.72 7.72c-.78.78-.78 2.05 0 2.83L4 21.41c.39.39.9.59 1.41.59.51 0 1.02-.2 1.41-.59l7.78-7.78 2.81-2.81c.8-.78.8-2.07 0-2.86zM5.41 20L4 18.59l7.72-7.72 1.47 1.35L5.41 20z\"/>\n",
              "  </svg>\n",
              "      </button>\n",
              "      \n",
              "  <style>\n",
              "    .colab-df-container {\n",
              "      display:flex;\n",
              "      flex-wrap:wrap;\n",
              "      gap: 12px;\n",
              "    }\n",
              "\n",
              "    .colab-df-convert {\n",
              "      background-color: #E8F0FE;\n",
              "      border: none;\n",
              "      border-radius: 50%;\n",
              "      cursor: pointer;\n",
              "      display: none;\n",
              "      fill: #1967D2;\n",
              "      height: 32px;\n",
              "      padding: 0 0 0 0;\n",
              "      width: 32px;\n",
              "    }\n",
              "\n",
              "    .colab-df-convert:hover {\n",
              "      background-color: #E2EBFA;\n",
              "      box-shadow: 0px 1px 2px rgba(60, 64, 67, 0.3), 0px 1px 3px 1px rgba(60, 64, 67, 0.15);\n",
              "      fill: #174EA6;\n",
              "    }\n",
              "\n",
              "    [theme=dark] .colab-df-convert {\n",
              "      background-color: #3B4455;\n",
              "      fill: #D2E3FC;\n",
              "    }\n",
              "\n",
              "    [theme=dark] .colab-df-convert:hover {\n",
              "      background-color: #434B5C;\n",
              "      box-shadow: 0px 1px 3px 1px rgba(0, 0, 0, 0.15);\n",
              "      filter: drop-shadow(0px 1px 2px rgba(0, 0, 0, 0.3));\n",
              "      fill: #FFFFFF;\n",
              "    }\n",
              "  </style>\n",
              "\n",
              "      <script>\n",
              "        const buttonEl =\n",
              "          document.querySelector('#df-8323e9b3-0b50-4dc5-86ed-019bcb1e8c14 button.colab-df-convert');\n",
              "        buttonEl.style.display =\n",
              "          google.colab.kernel.accessAllowed ? 'block' : 'none';\n",
              "\n",
              "        async function convertToInteractive(key) {\n",
              "          const element = document.querySelector('#df-8323e9b3-0b50-4dc5-86ed-019bcb1e8c14');\n",
              "          const dataTable =\n",
              "            await google.colab.kernel.invokeFunction('convertToInteractive',\n",
              "                                                     [key], {});\n",
              "          if (!dataTable) return;\n",
              "\n",
              "          const docLinkHtml = 'Like what you see? Visit the ' +\n",
              "            '<a target=\"_blank\" href=https://colab.research.google.com/notebooks/data_table.ipynb>data table notebook</a>'\n",
              "            + ' to learn more about interactive tables.';\n",
              "          element.innerHTML = '';\n",
              "          dataTable['output_type'] = 'display_data';\n",
              "          await google.colab.output.renderOutput(dataTable, element);\n",
              "          const docLink = document.createElement('div');\n",
              "          docLink.innerHTML = docLinkHtml;\n",
              "          element.appendChild(docLink);\n",
              "        }\n",
              "      </script>\n",
              "    </div>\n",
              "  </div>\n",
              "  "
            ]
          },
          "metadata": {},
          "execution_count": 92
        }
      ]
    },
    {
      "cell_type": "markdown",
      "source": [
        "Q8. **Find the Player(s) whose potential is more than 90 but the age < 20**"
      ],
      "metadata": {
        "id": "WaFqtxyk8sJG"
      }
    },
    {
      "cell_type": "code",
      "source": [
        "p = fifa_final.loc[fifa_final.POT > 90 ]\n",
        "q = p.loc[fifa_final.Age<20].iloc[:,[0,1,3]]\n",
        "q"
      ],
      "metadata": {
        "colab": {
          "base_uri": "https://localhost:8080/",
          "height": 175
        },
        "id": "jqo-Z1Tl7jl5",
        "outputId": "722155d8-2e6b-4d7a-9bab-daab903debd9"
      },
      "execution_count": null,
      "outputs": [
        {
          "output_type": "execute_result",
          "data": {
            "text/plain": [
              "              Name  Age  POT\n",
              "62   J. Bellingham   19   91\n",
              "63           Pedri   19   92\n",
              "147     J. Musiala   19   92\n",
              "199       F. Wirtz   19   91"
            ],
            "text/html": [
              "\n",
              "  <div id=\"df-f958d61a-9011-4767-9abe-44212d589951\">\n",
              "    <div class=\"colab-df-container\">\n",
              "      <div>\n",
              "<style scoped>\n",
              "    .dataframe tbody tr th:only-of-type {\n",
              "        vertical-align: middle;\n",
              "    }\n",
              "\n",
              "    .dataframe tbody tr th {\n",
              "        vertical-align: top;\n",
              "    }\n",
              "\n",
              "    .dataframe thead th {\n",
              "        text-align: right;\n",
              "    }\n",
              "</style>\n",
              "<table border=\"1\" class=\"dataframe\">\n",
              "  <thead>\n",
              "    <tr style=\"text-align: right;\">\n",
              "      <th></th>\n",
              "      <th>Name</th>\n",
              "      <th>Age</th>\n",
              "      <th>POT</th>\n",
              "    </tr>\n",
              "  </thead>\n",
              "  <tbody>\n",
              "    <tr>\n",
              "      <th>62</th>\n",
              "      <td>J. Bellingham</td>\n",
              "      <td>19</td>\n",
              "      <td>91</td>\n",
              "    </tr>\n",
              "    <tr>\n",
              "      <th>63</th>\n",
              "      <td>Pedri</td>\n",
              "      <td>19</td>\n",
              "      <td>92</td>\n",
              "    </tr>\n",
              "    <tr>\n",
              "      <th>147</th>\n",
              "      <td>J. Musiala</td>\n",
              "      <td>19</td>\n",
              "      <td>92</td>\n",
              "    </tr>\n",
              "    <tr>\n",
              "      <th>199</th>\n",
              "      <td>F. Wirtz</td>\n",
              "      <td>19</td>\n",
              "      <td>91</td>\n",
              "    </tr>\n",
              "  </tbody>\n",
              "</table>\n",
              "</div>\n",
              "      <button class=\"colab-df-convert\" onclick=\"convertToInteractive('df-f958d61a-9011-4767-9abe-44212d589951')\"\n",
              "              title=\"Convert this dataframe to an interactive table.\"\n",
              "              style=\"display:none;\">\n",
              "        \n",
              "  <svg xmlns=\"http://www.w3.org/2000/svg\" height=\"24px\"viewBox=\"0 0 24 24\"\n",
              "       width=\"24px\">\n",
              "    <path d=\"M0 0h24v24H0V0z\" fill=\"none\"/>\n",
              "    <path d=\"M18.56 5.44l.94 2.06.94-2.06 2.06-.94-2.06-.94-.94-2.06-.94 2.06-2.06.94zm-11 1L8.5 8.5l.94-2.06 2.06-.94-2.06-.94L8.5 2.5l-.94 2.06-2.06.94zm10 10l.94 2.06.94-2.06 2.06-.94-2.06-.94-.94-2.06-.94 2.06-2.06.94z\"/><path d=\"M17.41 7.96l-1.37-1.37c-.4-.4-.92-.59-1.43-.59-.52 0-1.04.2-1.43.59L10.3 9.45l-7.72 7.72c-.78.78-.78 2.05 0 2.83L4 21.41c.39.39.9.59 1.41.59.51 0 1.02-.2 1.41-.59l7.78-7.78 2.81-2.81c.8-.78.8-2.07 0-2.86zM5.41 20L4 18.59l7.72-7.72 1.47 1.35L5.41 20z\"/>\n",
              "  </svg>\n",
              "      </button>\n",
              "      \n",
              "  <style>\n",
              "    .colab-df-container {\n",
              "      display:flex;\n",
              "      flex-wrap:wrap;\n",
              "      gap: 12px;\n",
              "    }\n",
              "\n",
              "    .colab-df-convert {\n",
              "      background-color: #E8F0FE;\n",
              "      border: none;\n",
              "      border-radius: 50%;\n",
              "      cursor: pointer;\n",
              "      display: none;\n",
              "      fill: #1967D2;\n",
              "      height: 32px;\n",
              "      padding: 0 0 0 0;\n",
              "      width: 32px;\n",
              "    }\n",
              "\n",
              "    .colab-df-convert:hover {\n",
              "      background-color: #E2EBFA;\n",
              "      box-shadow: 0px 1px 2px rgba(60, 64, 67, 0.3), 0px 1px 3px 1px rgba(60, 64, 67, 0.15);\n",
              "      fill: #174EA6;\n",
              "    }\n",
              "\n",
              "    [theme=dark] .colab-df-convert {\n",
              "      background-color: #3B4455;\n",
              "      fill: #D2E3FC;\n",
              "    }\n",
              "\n",
              "    [theme=dark] .colab-df-convert:hover {\n",
              "      background-color: #434B5C;\n",
              "      box-shadow: 0px 1px 3px 1px rgba(0, 0, 0, 0.15);\n",
              "      filter: drop-shadow(0px 1px 2px rgba(0, 0, 0, 0.3));\n",
              "      fill: #FFFFFF;\n",
              "    }\n",
              "  </style>\n",
              "\n",
              "      <script>\n",
              "        const buttonEl =\n",
              "          document.querySelector('#df-f958d61a-9011-4767-9abe-44212d589951 button.colab-df-convert');\n",
              "        buttonEl.style.display =\n",
              "          google.colab.kernel.accessAllowed ? 'block' : 'none';\n",
              "\n",
              "        async function convertToInteractive(key) {\n",
              "          const element = document.querySelector('#df-f958d61a-9011-4767-9abe-44212d589951');\n",
              "          const dataTable =\n",
              "            await google.colab.kernel.invokeFunction('convertToInteractive',\n",
              "                                                     [key], {});\n",
              "          if (!dataTable) return;\n",
              "\n",
              "          const docLinkHtml = 'Like what you see? Visit the ' +\n",
              "            '<a target=\"_blank\" href=https://colab.research.google.com/notebooks/data_table.ipynb>data table notebook</a>'\n",
              "            + ' to learn more about interactive tables.';\n",
              "          element.innerHTML = '';\n",
              "          dataTable['output_type'] = 'display_data';\n",
              "          await google.colab.output.renderOutput(dataTable, element);\n",
              "          const docLink = document.createElement('div');\n",
              "          docLink.innerHTML = docLinkHtml;\n",
              "          element.appendChild(docLink);\n",
              "        }\n",
              "      </script>\n",
              "    </div>\n",
              "  </div>\n",
              "  "
            ]
          },
          "metadata": {},
          "execution_count": 100
        }
      ]
    },
    {
      "cell_type": "markdown",
      "source": [
        " Q.9 **Find out the most Valuable Player.**"
      ],
      "metadata": {
        "id": "m97qA83sBW9a"
      }
    },
    {
      "cell_type": "code",
      "source": [
        "# first need to convert value column into float and remove 'M' symbol \n",
        "\n",
        "fifa_final.Value = fifa_final.Value.str.replace(\"M\",\"\")\n",
        "fifa_final.Value = fifa_final.Value.astype(float)\n",
        "maxval = fifa_final.Value.max()\n",
        "fifa_final.loc[fifa_final.Value == maxval].iloc[:,[0,5]]\n",
        "\n",
        "#renaming column name to Value(millions)\n",
        "\n"
      ],
      "metadata": {
        "colab": {
          "base_uri": "https://localhost:8080/",
          "height": 81
        },
        "id": "-tVP047LA60v",
        "outputId": "07d001f2-91cc-4ef6-c535-64ee441b866e"
      },
      "execution_count": 187,
      "outputs": [
        {
          "output_type": "execute_result",
          "data": {
            "text/plain": [
              "        Name  Value\n",
              "0  K. Mbappé  190.5"
            ],
            "text/html": [
              "\n",
              "  <div id=\"df-e8065c02-5a46-4c92-a4ec-d68b1a009877\">\n",
              "    <div class=\"colab-df-container\">\n",
              "      <div>\n",
              "<style scoped>\n",
              "    .dataframe tbody tr th:only-of-type {\n",
              "        vertical-align: middle;\n",
              "    }\n",
              "\n",
              "    .dataframe tbody tr th {\n",
              "        vertical-align: top;\n",
              "    }\n",
              "\n",
              "    .dataframe thead th {\n",
              "        text-align: right;\n",
              "    }\n",
              "</style>\n",
              "<table border=\"1\" class=\"dataframe\">\n",
              "  <thead>\n",
              "    <tr style=\"text-align: right;\">\n",
              "      <th></th>\n",
              "      <th>Name</th>\n",
              "      <th>Value</th>\n",
              "    </tr>\n",
              "  </thead>\n",
              "  <tbody>\n",
              "    <tr>\n",
              "      <th>0</th>\n",
              "      <td>K. Mbappé</td>\n",
              "      <td>190.5</td>\n",
              "    </tr>\n",
              "  </tbody>\n",
              "</table>\n",
              "</div>\n",
              "      <button class=\"colab-df-convert\" onclick=\"convertToInteractive('df-e8065c02-5a46-4c92-a4ec-d68b1a009877')\"\n",
              "              title=\"Convert this dataframe to an interactive table.\"\n",
              "              style=\"display:none;\">\n",
              "        \n",
              "  <svg xmlns=\"http://www.w3.org/2000/svg\" height=\"24px\"viewBox=\"0 0 24 24\"\n",
              "       width=\"24px\">\n",
              "    <path d=\"M0 0h24v24H0V0z\" fill=\"none\"/>\n",
              "    <path d=\"M18.56 5.44l.94 2.06.94-2.06 2.06-.94-2.06-.94-.94-2.06-.94 2.06-2.06.94zm-11 1L8.5 8.5l.94-2.06 2.06-.94-2.06-.94L8.5 2.5l-.94 2.06-2.06.94zm10 10l.94 2.06.94-2.06 2.06-.94-2.06-.94-.94-2.06-.94 2.06-2.06.94z\"/><path d=\"M17.41 7.96l-1.37-1.37c-.4-.4-.92-.59-1.43-.59-.52 0-1.04.2-1.43.59L10.3 9.45l-7.72 7.72c-.78.78-.78 2.05 0 2.83L4 21.41c.39.39.9.59 1.41.59.51 0 1.02-.2 1.41-.59l7.78-7.78 2.81-2.81c.8-.78.8-2.07 0-2.86zM5.41 20L4 18.59l7.72-7.72 1.47 1.35L5.41 20z\"/>\n",
              "  </svg>\n",
              "      </button>\n",
              "      \n",
              "  <style>\n",
              "    .colab-df-container {\n",
              "      display:flex;\n",
              "      flex-wrap:wrap;\n",
              "      gap: 12px;\n",
              "    }\n",
              "\n",
              "    .colab-df-convert {\n",
              "      background-color: #E8F0FE;\n",
              "      border: none;\n",
              "      border-radius: 50%;\n",
              "      cursor: pointer;\n",
              "      display: none;\n",
              "      fill: #1967D2;\n",
              "      height: 32px;\n",
              "      padding: 0 0 0 0;\n",
              "      width: 32px;\n",
              "    }\n",
              "\n",
              "    .colab-df-convert:hover {\n",
              "      background-color: #E2EBFA;\n",
              "      box-shadow: 0px 1px 2px rgba(60, 64, 67, 0.3), 0px 1px 3px 1px rgba(60, 64, 67, 0.15);\n",
              "      fill: #174EA6;\n",
              "    }\n",
              "\n",
              "    [theme=dark] .colab-df-convert {\n",
              "      background-color: #3B4455;\n",
              "      fill: #D2E3FC;\n",
              "    }\n",
              "\n",
              "    [theme=dark] .colab-df-convert:hover {\n",
              "      background-color: #434B5C;\n",
              "      box-shadow: 0px 1px 3px 1px rgba(0, 0, 0, 0.15);\n",
              "      filter: drop-shadow(0px 1px 2px rgba(0, 0, 0, 0.3));\n",
              "      fill: #FFFFFF;\n",
              "    }\n",
              "  </style>\n",
              "\n",
              "      <script>\n",
              "        const buttonEl =\n",
              "          document.querySelector('#df-e8065c02-5a46-4c92-a4ec-d68b1a009877 button.colab-df-convert');\n",
              "        buttonEl.style.display =\n",
              "          google.colab.kernel.accessAllowed ? 'block' : 'none';\n",
              "\n",
              "        async function convertToInteractive(key) {\n",
              "          const element = document.querySelector('#df-e8065c02-5a46-4c92-a4ec-d68b1a009877');\n",
              "          const dataTable =\n",
              "            await google.colab.kernel.invokeFunction('convertToInteractive',\n",
              "                                                     [key], {});\n",
              "          if (!dataTable) return;\n",
              "\n",
              "          const docLinkHtml = 'Like what you see? Visit the ' +\n",
              "            '<a target=\"_blank\" href=https://colab.research.google.com/notebooks/data_table.ipynb>data table notebook</a>'\n",
              "            + ' to learn more about interactive tables.';\n",
              "          element.innerHTML = '';\n",
              "          dataTable['output_type'] = 'display_data';\n",
              "          await google.colab.output.renderOutput(dataTable, element);\n",
              "          const docLink = document.createElement('div');\n",
              "          docLink.innerHTML = docLinkHtml;\n",
              "          element.appendChild(docLink);\n",
              "        }\n",
              "      </script>\n",
              "    </div>\n",
              "  </div>\n",
              "  "
            ]
          },
          "metadata": {},
          "execution_count": 187
        }
      ]
    },
    {
      "cell_type": "code",
      "source": [
        " #renaming column name to Value(millions)\n",
        "\n",
        "fifa_final.rename(columns = {'Value': 'Value(M)'}, inplace =True)"
      ],
      "metadata": {
        "id": "misFDdNfELNL"
      },
      "execution_count": 188,
      "outputs": []
    },
    {
      "cell_type": "code",
      "source": [
        "fifa_final"
      ],
      "metadata": {
        "colab": {
          "base_uri": "https://localhost:8080/",
          "height": 424
        },
        "id": "7mdW04pOEWeE",
        "outputId": "74a3e4be-578a-40c7-f2bc-00968833dfaf"
      },
      "execution_count": 189,
      "outputs": [
        {
          "output_type": "execute_result",
          "data": {
            "text/plain": [
              "                Name  Age  OVA  POT                 Team  Value(M)  Wage  \\\n",
              "0          K. Mbappé   23   91   95  Paris Saint Germain     190.5  230K   \n",
              "1       K. De Bruyne   31   91   91      Manchester City     107.5  350K   \n",
              "2     R. Lewandowski   33   91   91         FC Barcelona      84.0  420K   \n",
              "3         K. Benzema   34   91   91          Real Madrid      64.0  450K   \n",
              "4           L. Messi   35   91   91  Paris Saint Germain      54.0  195K   \n",
              "..               ...  ...  ...  ...                  ...       ...   ...   \n",
              "595        J. Correa   27   79   79                Inter      19.0   71K   \n",
              "596     L. Zelarayán   30   79   79        Columbus Crew      17.0   12K   \n",
              "597        F. Armani   35   79   79          River Plate       1.9   10K   \n",
              "598        S. Azmoun   27   79   79  Bayer 04 Leverkusen      19.0   60K   \n",
              "599  F. Bernardeschi   28   79   79              Toronto      17.5   12K   \n",
              "\n",
              "     Total_stats  \n",
              "0           2181  \n",
              "1           2298  \n",
              "2           2205  \n",
              "3           2147  \n",
              "4           2190  \n",
              "..           ...  \n",
              "595         1945  \n",
              "596         2032  \n",
              "597         1291  \n",
              "598         1973  \n",
              "599         2089  \n",
              "\n",
              "[600 rows x 8 columns]"
            ],
            "text/html": [
              "\n",
              "  <div id=\"df-985b4739-939c-4c70-b438-beb271308d90\">\n",
              "    <div class=\"colab-df-container\">\n",
              "      <div>\n",
              "<style scoped>\n",
              "    .dataframe tbody tr th:only-of-type {\n",
              "        vertical-align: middle;\n",
              "    }\n",
              "\n",
              "    .dataframe tbody tr th {\n",
              "        vertical-align: top;\n",
              "    }\n",
              "\n",
              "    .dataframe thead th {\n",
              "        text-align: right;\n",
              "    }\n",
              "</style>\n",
              "<table border=\"1\" class=\"dataframe\">\n",
              "  <thead>\n",
              "    <tr style=\"text-align: right;\">\n",
              "      <th></th>\n",
              "      <th>Name</th>\n",
              "      <th>Age</th>\n",
              "      <th>OVA</th>\n",
              "      <th>POT</th>\n",
              "      <th>Team</th>\n",
              "      <th>Value(M)</th>\n",
              "      <th>Wage</th>\n",
              "      <th>Total_stats</th>\n",
              "    </tr>\n",
              "  </thead>\n",
              "  <tbody>\n",
              "    <tr>\n",
              "      <th>0</th>\n",
              "      <td>K. Mbappé</td>\n",
              "      <td>23</td>\n",
              "      <td>91</td>\n",
              "      <td>95</td>\n",
              "      <td>Paris Saint Germain</td>\n",
              "      <td>190.5</td>\n",
              "      <td>230K</td>\n",
              "      <td>2181</td>\n",
              "    </tr>\n",
              "    <tr>\n",
              "      <th>1</th>\n",
              "      <td>K. De Bruyne</td>\n",
              "      <td>31</td>\n",
              "      <td>91</td>\n",
              "      <td>91</td>\n",
              "      <td>Manchester City</td>\n",
              "      <td>107.5</td>\n",
              "      <td>350K</td>\n",
              "      <td>2298</td>\n",
              "    </tr>\n",
              "    <tr>\n",
              "      <th>2</th>\n",
              "      <td>R. Lewandowski</td>\n",
              "      <td>33</td>\n",
              "      <td>91</td>\n",
              "      <td>91</td>\n",
              "      <td>FC Barcelona</td>\n",
              "      <td>84.0</td>\n",
              "      <td>420K</td>\n",
              "      <td>2205</td>\n",
              "    </tr>\n",
              "    <tr>\n",
              "      <th>3</th>\n",
              "      <td>K. Benzema</td>\n",
              "      <td>34</td>\n",
              "      <td>91</td>\n",
              "      <td>91</td>\n",
              "      <td>Real Madrid</td>\n",
              "      <td>64.0</td>\n",
              "      <td>450K</td>\n",
              "      <td>2147</td>\n",
              "    </tr>\n",
              "    <tr>\n",
              "      <th>4</th>\n",
              "      <td>L. Messi</td>\n",
              "      <td>35</td>\n",
              "      <td>91</td>\n",
              "      <td>91</td>\n",
              "      <td>Paris Saint Germain</td>\n",
              "      <td>54.0</td>\n",
              "      <td>195K</td>\n",
              "      <td>2190</td>\n",
              "    </tr>\n",
              "    <tr>\n",
              "      <th>...</th>\n",
              "      <td>...</td>\n",
              "      <td>...</td>\n",
              "      <td>...</td>\n",
              "      <td>...</td>\n",
              "      <td>...</td>\n",
              "      <td>...</td>\n",
              "      <td>...</td>\n",
              "      <td>...</td>\n",
              "    </tr>\n",
              "    <tr>\n",
              "      <th>595</th>\n",
              "      <td>J. Correa</td>\n",
              "      <td>27</td>\n",
              "      <td>79</td>\n",
              "      <td>79</td>\n",
              "      <td>Inter</td>\n",
              "      <td>19.0</td>\n",
              "      <td>71K</td>\n",
              "      <td>1945</td>\n",
              "    </tr>\n",
              "    <tr>\n",
              "      <th>596</th>\n",
              "      <td>L. Zelarayán</td>\n",
              "      <td>30</td>\n",
              "      <td>79</td>\n",
              "      <td>79</td>\n",
              "      <td>Columbus Crew</td>\n",
              "      <td>17.0</td>\n",
              "      <td>12K</td>\n",
              "      <td>2032</td>\n",
              "    </tr>\n",
              "    <tr>\n",
              "      <th>597</th>\n",
              "      <td>F. Armani</td>\n",
              "      <td>35</td>\n",
              "      <td>79</td>\n",
              "      <td>79</td>\n",
              "      <td>River Plate</td>\n",
              "      <td>1.9</td>\n",
              "      <td>10K</td>\n",
              "      <td>1291</td>\n",
              "    </tr>\n",
              "    <tr>\n",
              "      <th>598</th>\n",
              "      <td>S. Azmoun</td>\n",
              "      <td>27</td>\n",
              "      <td>79</td>\n",
              "      <td>79</td>\n",
              "      <td>Bayer 04 Leverkusen</td>\n",
              "      <td>19.0</td>\n",
              "      <td>60K</td>\n",
              "      <td>1973</td>\n",
              "    </tr>\n",
              "    <tr>\n",
              "      <th>599</th>\n",
              "      <td>F. Bernardeschi</td>\n",
              "      <td>28</td>\n",
              "      <td>79</td>\n",
              "      <td>79</td>\n",
              "      <td>Toronto</td>\n",
              "      <td>17.5</td>\n",
              "      <td>12K</td>\n",
              "      <td>2089</td>\n",
              "    </tr>\n",
              "  </tbody>\n",
              "</table>\n",
              "<p>600 rows × 8 columns</p>\n",
              "</div>\n",
              "      <button class=\"colab-df-convert\" onclick=\"convertToInteractive('df-985b4739-939c-4c70-b438-beb271308d90')\"\n",
              "              title=\"Convert this dataframe to an interactive table.\"\n",
              "              style=\"display:none;\">\n",
              "        \n",
              "  <svg xmlns=\"http://www.w3.org/2000/svg\" height=\"24px\"viewBox=\"0 0 24 24\"\n",
              "       width=\"24px\">\n",
              "    <path d=\"M0 0h24v24H0V0z\" fill=\"none\"/>\n",
              "    <path d=\"M18.56 5.44l.94 2.06.94-2.06 2.06-.94-2.06-.94-.94-2.06-.94 2.06-2.06.94zm-11 1L8.5 8.5l.94-2.06 2.06-.94-2.06-.94L8.5 2.5l-.94 2.06-2.06.94zm10 10l.94 2.06.94-2.06 2.06-.94-2.06-.94-.94-2.06-.94 2.06-2.06.94z\"/><path d=\"M17.41 7.96l-1.37-1.37c-.4-.4-.92-.59-1.43-.59-.52 0-1.04.2-1.43.59L10.3 9.45l-7.72 7.72c-.78.78-.78 2.05 0 2.83L4 21.41c.39.39.9.59 1.41.59.51 0 1.02-.2 1.41-.59l7.78-7.78 2.81-2.81c.8-.78.8-2.07 0-2.86zM5.41 20L4 18.59l7.72-7.72 1.47 1.35L5.41 20z\"/>\n",
              "  </svg>\n",
              "      </button>\n",
              "      \n",
              "  <style>\n",
              "    .colab-df-container {\n",
              "      display:flex;\n",
              "      flex-wrap:wrap;\n",
              "      gap: 12px;\n",
              "    }\n",
              "\n",
              "    .colab-df-convert {\n",
              "      background-color: #E8F0FE;\n",
              "      border: none;\n",
              "      border-radius: 50%;\n",
              "      cursor: pointer;\n",
              "      display: none;\n",
              "      fill: #1967D2;\n",
              "      height: 32px;\n",
              "      padding: 0 0 0 0;\n",
              "      width: 32px;\n",
              "    }\n",
              "\n",
              "    .colab-df-convert:hover {\n",
              "      background-color: #E2EBFA;\n",
              "      box-shadow: 0px 1px 2px rgba(60, 64, 67, 0.3), 0px 1px 3px 1px rgba(60, 64, 67, 0.15);\n",
              "      fill: #174EA6;\n",
              "    }\n",
              "\n",
              "    [theme=dark] .colab-df-convert {\n",
              "      background-color: #3B4455;\n",
              "      fill: #D2E3FC;\n",
              "    }\n",
              "\n",
              "    [theme=dark] .colab-df-convert:hover {\n",
              "      background-color: #434B5C;\n",
              "      box-shadow: 0px 1px 3px 1px rgba(0, 0, 0, 0.15);\n",
              "      filter: drop-shadow(0px 1px 2px rgba(0, 0, 0, 0.3));\n",
              "      fill: #FFFFFF;\n",
              "    }\n",
              "  </style>\n",
              "\n",
              "      <script>\n",
              "        const buttonEl =\n",
              "          document.querySelector('#df-985b4739-939c-4c70-b438-beb271308d90 button.colab-df-convert');\n",
              "        buttonEl.style.display =\n",
              "          google.colab.kernel.accessAllowed ? 'block' : 'none';\n",
              "\n",
              "        async function convertToInteractive(key) {\n",
              "          const element = document.querySelector('#df-985b4739-939c-4c70-b438-beb271308d90');\n",
              "          const dataTable =\n",
              "            await google.colab.kernel.invokeFunction('convertToInteractive',\n",
              "                                                     [key], {});\n",
              "          if (!dataTable) return;\n",
              "\n",
              "          const docLinkHtml = 'Like what you see? Visit the ' +\n",
              "            '<a target=\"_blank\" href=https://colab.research.google.com/notebooks/data_table.ipynb>data table notebook</a>'\n",
              "            + ' to learn more about interactive tables.';\n",
              "          element.innerHTML = '';\n",
              "          dataTable['output_type'] = 'display_data';\n",
              "          await google.colab.output.renderOutput(dataTable, element);\n",
              "          const docLink = document.createElement('div');\n",
              "          docLink.innerHTML = docLinkHtml;\n",
              "          element.appendChild(docLink);\n",
              "        }\n",
              "      </script>\n",
              "    </div>\n",
              "  </div>\n",
              "  "
            ]
          },
          "metadata": {},
          "execution_count": 189
        }
      ]
    },
    {
      "cell_type": "markdown",
      "source": [
        "Q10. **List all the Paris Saint Germain players.**\n",
        "\n",
        "```\n",
        "fifa_final.loc[fifa_final.Team == 'Paris Saint Germain'\t, 'Name']\n",
        "```\n",
        "\n"
      ],
      "metadata": {
        "id": "V3TgJTBtE0Wg"
      }
    },
    {
      "cell_type": "code",
      "source": [
        "fifa_final.loc[fifa_final.Team == 'Paris Saint Germain'].iloc[:,0]"
      ],
      "metadata": {
        "colab": {
          "base_uri": "https://localhost:8080/"
        },
        "id": "oh-BagTBEkJt",
        "outputId": "59f9b793-4e0f-40d2-c320-4add5371808d"
      },
      "execution_count": 190,
      "outputs": [
        {
          "output_type": "execute_result",
          "data": {
            "text/plain": [
              "0           K. Mbappé\n",
              "4            L. Messi\n",
              "16          Neymar Jr\n",
              "19      G. Donnarumma\n",
              "23         Marquinhos\n",
              "35        M. Verratti\n",
              "37           K. Navas\n",
              "102         A. Hakimi\n",
              "144      Sergio Ramos\n",
              "156      Carlos Soler\n",
              "170       Fabián Ruiz\n",
              "171       P. Kimpembe\n",
              "274       Nuno Mendes\n",
              "374           Vitinha\n",
              "479    Danilo Pereira\n",
              "556    Renato Sanches\n",
              "574        N. Mukiele\n",
              "Name: Name, dtype: object"
            ]
          },
          "metadata": {},
          "execution_count": 190
        }
      ]
    },
    {
      "cell_type": "markdown",
      "source": [
        "Q11. **Name the player with Highest total rating.**"
      ],
      "metadata": {
        "id": "78Hr14ZPF2UL"
      }
    },
    {
      "cell_type": "code",
      "source": [
        "maxtot = fifa_final.Total_stats.max()\n",
        "fifa_final.loc[fifa_final.Total_stats == maxtot]"
      ],
      "metadata": {
        "colab": {
          "base_uri": "https://localhost:8080/",
          "height": 81
        },
        "id": "kJbu1BOMHW6y",
        "outputId": "ed7c0319-5080-49f3-8e6d-c07b3b06a011"
      },
      "execution_count": 185,
      "outputs": [
        {
          "output_type": "execute_result",
          "data": {
            "text/plain": [
              "           Name  Age  OVA  POT               Team Value  Wage  Total_stats\n",
              "33  L. Goretzka   27   87   88  FC Bayern München   91M  115K         2312"
            ],
            "text/html": [
              "\n",
              "  <div id=\"df-e6196886-9e3b-45ac-8a50-cab521ea06d5\">\n",
              "    <div class=\"colab-df-container\">\n",
              "      <div>\n",
              "<style scoped>\n",
              "    .dataframe tbody tr th:only-of-type {\n",
              "        vertical-align: middle;\n",
              "    }\n",
              "\n",
              "    .dataframe tbody tr th {\n",
              "        vertical-align: top;\n",
              "    }\n",
              "\n",
              "    .dataframe thead th {\n",
              "        text-align: right;\n",
              "    }\n",
              "</style>\n",
              "<table border=\"1\" class=\"dataframe\">\n",
              "  <thead>\n",
              "    <tr style=\"text-align: right;\">\n",
              "      <th></th>\n",
              "      <th>Name</th>\n",
              "      <th>Age</th>\n",
              "      <th>OVA</th>\n",
              "      <th>POT</th>\n",
              "      <th>Team</th>\n",
              "      <th>Value</th>\n",
              "      <th>Wage</th>\n",
              "      <th>Total_stats</th>\n",
              "    </tr>\n",
              "  </thead>\n",
              "  <tbody>\n",
              "    <tr>\n",
              "      <th>33</th>\n",
              "      <td>L. Goretzka</td>\n",
              "      <td>27</td>\n",
              "      <td>87</td>\n",
              "      <td>88</td>\n",
              "      <td>FC Bayern München</td>\n",
              "      <td>91M</td>\n",
              "      <td>115K</td>\n",
              "      <td>2312</td>\n",
              "    </tr>\n",
              "  </tbody>\n",
              "</table>\n",
              "</div>\n",
              "      <button class=\"colab-df-convert\" onclick=\"convertToInteractive('df-e6196886-9e3b-45ac-8a50-cab521ea06d5')\"\n",
              "              title=\"Convert this dataframe to an interactive table.\"\n",
              "              style=\"display:none;\">\n",
              "        \n",
              "  <svg xmlns=\"http://www.w3.org/2000/svg\" height=\"24px\"viewBox=\"0 0 24 24\"\n",
              "       width=\"24px\">\n",
              "    <path d=\"M0 0h24v24H0V0z\" fill=\"none\"/>\n",
              "    <path d=\"M18.56 5.44l.94 2.06.94-2.06 2.06-.94-2.06-.94-.94-2.06-.94 2.06-2.06.94zm-11 1L8.5 8.5l.94-2.06 2.06-.94-2.06-.94L8.5 2.5l-.94 2.06-2.06.94zm10 10l.94 2.06.94-2.06 2.06-.94-2.06-.94-.94-2.06-.94 2.06-2.06.94z\"/><path d=\"M17.41 7.96l-1.37-1.37c-.4-.4-.92-.59-1.43-.59-.52 0-1.04.2-1.43.59L10.3 9.45l-7.72 7.72c-.78.78-.78 2.05 0 2.83L4 21.41c.39.39.9.59 1.41.59.51 0 1.02-.2 1.41-.59l7.78-7.78 2.81-2.81c.8-.78.8-2.07 0-2.86zM5.41 20L4 18.59l7.72-7.72 1.47 1.35L5.41 20z\"/>\n",
              "  </svg>\n",
              "      </button>\n",
              "      \n",
              "  <style>\n",
              "    .colab-df-container {\n",
              "      display:flex;\n",
              "      flex-wrap:wrap;\n",
              "      gap: 12px;\n",
              "    }\n",
              "\n",
              "    .colab-df-convert {\n",
              "      background-color: #E8F0FE;\n",
              "      border: none;\n",
              "      border-radius: 50%;\n",
              "      cursor: pointer;\n",
              "      display: none;\n",
              "      fill: #1967D2;\n",
              "      height: 32px;\n",
              "      padding: 0 0 0 0;\n",
              "      width: 32px;\n",
              "    }\n",
              "\n",
              "    .colab-df-convert:hover {\n",
              "      background-color: #E2EBFA;\n",
              "      box-shadow: 0px 1px 2px rgba(60, 64, 67, 0.3), 0px 1px 3px 1px rgba(60, 64, 67, 0.15);\n",
              "      fill: #174EA6;\n",
              "    }\n",
              "\n",
              "    [theme=dark] .colab-df-convert {\n",
              "      background-color: #3B4455;\n",
              "      fill: #D2E3FC;\n",
              "    }\n",
              "\n",
              "    [theme=dark] .colab-df-convert:hover {\n",
              "      background-color: #434B5C;\n",
              "      box-shadow: 0px 1px 3px 1px rgba(0, 0, 0, 0.15);\n",
              "      filter: drop-shadow(0px 1px 2px rgba(0, 0, 0, 0.3));\n",
              "      fill: #FFFFFF;\n",
              "    }\n",
              "  </style>\n",
              "\n",
              "      <script>\n",
              "        const buttonEl =\n",
              "          document.querySelector('#df-e6196886-9e3b-45ac-8a50-cab521ea06d5 button.colab-df-convert');\n",
              "        buttonEl.style.display =\n",
              "          google.colab.kernel.accessAllowed ? 'block' : 'none';\n",
              "\n",
              "        async function convertToInteractive(key) {\n",
              "          const element = document.querySelector('#df-e6196886-9e3b-45ac-8a50-cab521ea06d5');\n",
              "          const dataTable =\n",
              "            await google.colab.kernel.invokeFunction('convertToInteractive',\n",
              "                                                     [key], {});\n",
              "          if (!dataTable) return;\n",
              "\n",
              "          const docLinkHtml = 'Like what you see? Visit the ' +\n",
              "            '<a target=\"_blank\" href=https://colab.research.google.com/notebooks/data_table.ipynb>data table notebook</a>'\n",
              "            + ' to learn more about interactive tables.';\n",
              "          element.innerHTML = '';\n",
              "          dataTable['output_type'] = 'display_data';\n",
              "          await google.colab.output.renderOutput(dataTable, element);\n",
              "          const docLink = document.createElement('div');\n",
              "          docLink.innerHTML = docLinkHtml;\n",
              "          element.appendChild(docLink);\n",
              "        }\n",
              "      </script>\n",
              "    </div>\n",
              "  </div>\n",
              "  "
            ]
          },
          "metadata": {},
          "execution_count": 185
        }
      ]
    },
    {
      "cell_type": "markdown",
      "source": [
        "Q12. **Who are the youngest and oldest players in the dataset?**"
      ],
      "metadata": {
        "id": "OT3B6BsUId3G"
      }
    },
    {
      "cell_type": "code",
      "source": [
        "young = fcopy.sort_values(by = 'Age').iloc[0,0]\n",
        "old = fcopy.sort_values(by = 'Age', ascending = False).iloc[0,0]\n",
        "\n",
        "print(f\"The youngest player is {young} and the oldest player is {old}\")"
      ],
      "metadata": {
        "colab": {
          "base_uri": "https://localhost:8080/"
        },
        "id": "AGcr-cavHs8N",
        "outputId": "f00501da-7176-420c-da31-db6519a9e0a2"
      },
      "execution_count": null,
      "outputs": [
        {
          "output_type": "stream",
          "name": "stdout",
          "text": [
            "The youngest player is Gavi and the oldest player is Z. Ibrahimović\n"
          ]
        }
      ]
    },
    {
      "cell_type": "markdown",
      "source": [
        "Q13. **What is the distribution of overall ratings in the dataset?**\n"
      ],
      "metadata": {
        "id": "mOhSZkonJaBw"
      }
    },
    {
      "cell_type": "code",
      "source": [
        "fifa_final.OVA.hist(bins=50)\n",
        "plt.xlabel('OVA')\n",
        "plt.ylabel('frequency')\n",
        "plt.title('OVA distribution')\n",
        "plt.show()"
      ],
      "metadata": {
        "colab": {
          "base_uri": "https://localhost:8080/",
          "height": 295
        },
        "id": "l91xTIxxKPfy",
        "outputId": "9bc8221c-ecc0-498e-d2bc-9b712a1a5fed"
      },
      "execution_count": 151,
      "outputs": [
        {
          "output_type": "display_data",
          "data": {
            "text/plain": [
              "<Figure size 432x288 with 1 Axes>"
            ],
            "image/png": "[encoded data removed]"
          },
          "metadata": {
            "needs_background": "light"
          }
        }
      ]
    },
    {
      "cell_type": "markdown",
      "source": [
        "Q14. **Find out the Team having max. players in the Dataset.**"
      ],
      "metadata": {
        "id": "6b5bHgnIP0wW"
      }
    },
    {
      "cell_type": "code",
      "source": [
        "m = fifa_final.Team.value_counts()\n",
        "print(f\"Team {m.index[0]} has the maximum i.e {m[0]} players in the Dataset.\")"
      ],
      "metadata": {
        "id": "ukIXsMu7KkUN",
        "colab": {
          "base_uri": "https://localhost:8080/"
        },
        "outputId": "31d7387c-615d-4bfb-e96e-fbca80deb715"
      },
      "execution_count": 182,
      "outputs": [
        {
          "output_type": "stream",
          "name": "stdout",
          "text": [
            "Team Chelsea has the maximum i.e 20 players in the Dataset.\n"
          ]
        }
      ]
    },
    {
      "cell_type": "markdown",
      "source": [
        "Q15. **How many teams are present in the Dataset?**"
      ],
      "metadata": {
        "id": "Pzf8KaB0SSDn"
      }
    },
    {
      "cell_type": "code",
      "source": [
        "n = fifa_final.Team.nunique()\n",
        "print(f\"There are {n} unique teams present in the dataset\")"
      ],
      "metadata": {
        "colab": {
          "base_uri": "https://localhost:8080/"
        },
        "id": "yzaiv9BrPld1",
        "outputId": "b179bedd-f767-40a1-d6e4-192c7d879706"
      },
      "execution_count": 174,
      "outputs": [
        {
          "output_type": "stream",
          "name": "stdout",
          "text": [
            "There are 108 unique teams present in the dataset\n"
          ]
        }
      ]
    },
    {
      "cell_type": "markdown",
      "source": [
        "**Find the correlation between the DataFrame.**"
      ],
      "metadata": {
        "id": "SVQpFsipUwxo"
      }
    },
    {
      "cell_type": "code",
      "source": [
        "fifa_final.corr()"
      ],
      "metadata": {
        "colab": {
          "base_uri": "https://localhost:8080/",
          "height": 206
        },
        "id": "_TJVvm8hU5US",
        "outputId": "5e319e14-9864-42ec-ed80-278ad337dde2"
      },
      "execution_count": 192,
      "outputs": [
        {
          "output_type": "execute_result",
          "data": {
            "text/plain": [
              "                  Age       OVA       POT  Value(M)  Total_stats\n",
              "Age          1.000000  0.206513 -0.414118 -0.390964    -0.162791\n",
              "OVA          0.206513  1.000000  0.683793  0.735686     0.126966\n",
              "POT         -0.414118  0.683793  1.000000  0.834957     0.115170\n",
              "Value(M)    -0.390964  0.735686  0.834957  1.000000     0.277979\n",
              "Total_stats -0.162791  0.126966  0.115170  0.277979     1.000000"
            ],
            "text/html": [
              "\n",
              "  <div id=\"df-9b352f07-c04f-4c64-9dcf-5d981941aea2\">\n",
              "    <div class=\"colab-df-container\">\n",
              "      <div>\n",
              "<style scoped>\n",
              "    .dataframe tbody tr th:only-of-type {\n",
              "        vertical-align: middle;\n",
              "    }\n",
              "\n",
              "    .dataframe tbody tr th {\n",
              "        vertical-align: top;\n",
              "    }\n",
              "\n",
              "    .dataframe thead th {\n",
              "        text-align: right;\n",
              "    }\n",
              "</style>\n",
              "<table border=\"1\" class=\"dataframe\">\n",
              "  <thead>\n",
              "    <tr style=\"text-align: right;\">\n",
              "      <th></th>\n",
              "      <th>Age</th>\n",
              "      <th>OVA</th>\n",
              "      <th>POT</th>\n",
              "      <th>Value(M)</th>\n",
              "      <th>Total_stats</th>\n",
              "    </tr>\n",
              "  </thead>\n",
              "  <tbody>\n",
              "    <tr>\n",
              "      <th>Age</th>\n",
              "      <td>1.000000</td>\n",
              "      <td>0.206513</td>\n",
              "      <td>-0.414118</td>\n",
              "      <td>-0.390964</td>\n",
              "      <td>-0.162791</td>\n",
              "    </tr>\n",
              "    <tr>\n",
              "      <th>OVA</th>\n",
              "      <td>0.206513</td>\n",
              "      <td>1.000000</td>\n",
              "      <td>0.683793</td>\n",
              "      <td>0.735686</td>\n",
              "      <td>0.126966</td>\n",
              "    </tr>\n",
              "    <tr>\n",
              "      <th>POT</th>\n",
              "      <td>-0.414118</td>\n",
              "      <td>0.683793</td>\n",
              "      <td>1.000000</td>\n",
              "      <td>0.834957</td>\n",
              "      <td>0.115170</td>\n",
              "    </tr>\n",
              "    <tr>\n",
              "      <th>Value(M)</th>\n",
              "      <td>-0.390964</td>\n",
              "      <td>0.735686</td>\n",
              "      <td>0.834957</td>\n",
              "      <td>1.000000</td>\n",
              "      <td>0.277979</td>\n",
              "    </tr>\n",
              "    <tr>\n",
              "      <th>Total_stats</th>\n",
              "      <td>-0.162791</td>\n",
              "      <td>0.126966</td>\n",
              "      <td>0.115170</td>\n",
              "      <td>0.277979</td>\n",
              "      <td>1.000000</td>\n",
              "    </tr>\n",
              "  </tbody>\n",
              "</table>\n",
              "</div>\n",
              "      <button class=\"colab-df-convert\" onclick=\"convertToInteractive('df-9b352f07-c04f-4c64-9dcf-5d981941aea2')\"\n",
              "              title=\"Convert this dataframe to an interactive table.\"\n",
              "              style=\"display:none;\">\n",
              "        \n",
              "  <svg xmlns=\"http://www.w3.org/2000/svg\" height=\"24px\"viewBox=\"0 0 24 24\"\n",
              "       width=\"24px\">\n",
              "    <path d=\"M0 0h24v24H0V0z\" fill=\"none\"/>\n",
              "    <path d=\"M18.56 5.44l.94 2.06.94-2.06 2.06-.94-2.06-.94-.94-2.06-.94 2.06-2.06.94zm-11 1L8.5 8.5l.94-2.06 2.06-.94-2.06-.94L8.5 2.5l-.94 2.06-2.06.94zm10 10l.94 2.06.94-2.06 2.06-.94-2.06-.94-.94-2.06-.94 2.06-2.06.94z\"/><path d=\"M17.41 7.96l-1.37-1.37c-.4-.4-.92-.59-1.43-.59-.52 0-1.04.2-1.43.59L10.3 9.45l-7.72 7.72c-.78.78-.78 2.05 0 2.83L4 21.41c.39.39.9.59 1.41.59.51 0 1.02-.2 1.41-.59l7.78-7.78 2.81-2.81c.8-.78.8-2.07 0-2.86zM5.41 20L4 18.59l7.72-7.72 1.47 1.35L5.41 20z\"/>\n",
              "  </svg>\n",
              "      </button>\n",
              "      \n",
              "  <style>\n",
              "    .colab-df-container {\n",
              "      display:flex;\n",
              "      flex-wrap:wrap;\n",
              "      gap: 12px;\n",
              "    }\n",
              "\n",
              "    .colab-df-convert {\n",
              "      background-color: #E8F0FE;\n",
              "      border: none;\n",
              "      border-radius: 50%;\n",
              "      cursor: pointer;\n",
              "      display: none;\n",
              "      fill: #1967D2;\n",
              "      height: 32px;\n",
              "      padding: 0 0 0 0;\n",
              "      width: 32px;\n",
              "    }\n",
              "\n",
              "    .colab-df-convert:hover {\n",
              "      background-color: #E2EBFA;\n",
              "      box-shadow: 0px 1px 2px rgba(60, 64, 67, 0.3), 0px 1px 3px 1px rgba(60, 64, 67, 0.15);\n",
              "      fill: #174EA6;\n",
              "    }\n",
              "\n",
              "    [theme=dark] .colab-df-convert {\n",
              "      background-color: #3B4455;\n",
              "      fill: #D2E3FC;\n",
              "    }\n",
              "\n",
              "    [theme=dark] .colab-df-convert:hover {\n",
              "      background-color: #434B5C;\n",
              "      box-shadow: 0px 1px 3px 1px rgba(0, 0, 0, 0.15);\n",
              "      filter: drop-shadow(0px 1px 2px rgba(0, 0, 0, 0.3));\n",
              "      fill: #FFFFFF;\n",
              "    }\n",
              "  </style>\n",
              "\n",
              "      <script>\n",
              "        const buttonEl =\n",
              "          document.querySelector('#df-9b352f07-c04f-4c64-9dcf-5d981941aea2 button.colab-df-convert');\n",
              "        buttonEl.style.display =\n",
              "          google.colab.kernel.accessAllowed ? 'block' : 'none';\n",
              "\n",
              "        async function convertToInteractive(key) {\n",
              "          const element = document.querySelector('#df-9b352f07-c04f-4c64-9dcf-5d981941aea2');\n",
              "          const dataTable =\n",
              "            await google.colab.kernel.invokeFunction('convertToInteractive',\n",
              "                                                     [key], {});\n",
              "          if (!dataTable) return;\n",
              "\n",
              "          const docLinkHtml = 'Like what you see? Visit the ' +\n",
              "            '<a target=\"_blank\" href=https://colab.research.google.com/notebooks/data_table.ipynb>data table notebook</a>'\n",
              "            + ' to learn more about interactive tables.';\n",
              "          element.innerHTML = '';\n",
              "          dataTable['output_type'] = 'display_data';\n",
              "          await google.colab.output.renderOutput(dataTable, element);\n",
              "          const docLink = document.createElement('div');\n",
              "          docLink.innerHTML = docLinkHtml;\n",
              "          element.appendChild(docLink);\n",
              "        }\n",
              "      </script>\n",
              "    </div>\n",
              "  </div>\n",
              "  "
            ]
          },
          "metadata": {},
          "execution_count": 192
        }
      ]
    },
    {
      "cell_type": "code",
      "source": [
        "#plotting correlation onto graph\n",
        "\n",
        "sns.heatmap(fifa_final.corr(), annot = True , cmap = 'Blues')"
      ],
      "metadata": {
        "colab": {
          "base_uri": "https://localhost:8080/",
          "height": 287
        },
        "id": "zh31edJAU9OQ",
        "outputId": "54b7b9b6-3f1f-4931-c7c9-2fee5ab3abdd"
      },
      "execution_count": 193,
      "outputs": [
        {
          "output_type": "execute_result",
          "data": {
            "text/plain": [
              "<matplotlib.axes._subplots.AxesSubplot at 0x7f4c1ae1a3a0>"
            ]
          },
          "metadata": {},
          "execution_count": 193
        },
        {
          "output_type": "display_data",
          "data": {
            "text/plain": [
              "<Figure size 432x288 with 2 Axes>"
            ],
            "image/png": "[encoded data removed]"
          },
          "metadata": {
            "needs_background": "light"
          }
        }
      ]
    },
    {
      "cell_type": "markdown",
      "source": [
        "likewise many questions can be answered using the above Dataset."
      ],
      "metadata": {
        "id": "8GgVDaI7Wccn"
      }
    },
    {
      "cell_type": "markdown",
      "source": [
        "# Conclusion\n",
        "***In conclusion, data analysis of the FIFA players dataset provides valuable insights into the players' attributes and team distributions. By exploring the distribution of overall ratings, potentials, teams, and other relevant features, we can gain a deeper understanding of the data and identify trends, patterns, and outliers. This information can be useful for making informed decisions in player selection, team strategy, and other related fields. Overall, data analysis is a crucial step in the process of gaining insights and knowledge from large datasets.***"
      ],
      "metadata": {
        "id": "CBJTCU5_VVMh"
      }
    }
  ],
  "metadata": {
    "colab": {
      "provenance": [],
      "authorship_tag": "ABX9TyPMs/vmRwSHEPcJfX95g702",
      "include_colab_link": true
    },
    "kernelspec": {
      "display_name": "Python 3",
      "name": "python3"
    },
    "language_info": {
      "name": "python"
    }
  },
  "nbformat": 4,
  "nbformat_minor": 0
}