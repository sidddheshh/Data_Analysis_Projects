{
  "nbformat": 4,
  "nbformat_minor": 0,
  "metadata": {
    "colab": {
      "provenance": [],
      "toc_visible": true,
      "mount_file_id": "1I6ggjHy4VZYptLtIIYIU-_wbWV8othO6",
      "authorship_tag": "ABX9TyMHgBiEhMATW3MruUysg2cs",
      "include_colab_link": true
    },
    "kernelspec": {
      "name": "python3",
      "display_name": "Python 3"
    },
    "language_info": {
      "name": "python"
    }
  },
  "cells": [
    {
      "cell_type": "markdown",
      "metadata": {
        "id": "view-in-github",
        "colab_type": "text"
      },
      "source": [
        "<a href=\"https://colab.research.google.com/github/sidddheshh/IMDB_datasetAnalysis/blob/main/IMDB_Dataset_Analysis.ipynb\" target=\"_parent\"><img src=\"https://colab.research.google.com/assets/colab-badge.svg\" alt=\"Open In Colab\"/></a>"
      ]
    },
    {
      "cell_type": "markdown",
      "source": [
        "# **Introduction**\n",
        "The IMDB dataset is a popular dataset for analyzing movie information such as movie titles, ratings, reviews, and other related data.\n",
        " To conduct this analysis, the project would likely involve loading and cleaning the IMDB data, performing exploratory data analysis (EDA) on it.\n",
        "\n",
        "\n",
        " Dataset: https://drive.google.com/file/d/1vlTeCUIfw_oxhpENKPJdcm1L34t6qdSg/view"
      ],
      "metadata": {
        "id": "h9ECHZQX-tOy"
      }
    },
    {
      "cell_type": "markdown",
      "source": [
        "# Importing the Libraries"
      ],
      "metadata": {
        "id": "Vn72L-mfBSr_"
      }
    },
    {
      "cell_type": "code",
      "source": [
        "# NumPy -> To perform the Mathematical Operations\n",
        "import numpy as np\n",
        "\n",
        "# Pandas -> Data Analysis Tool -> DE, DM, DC, DV\n",
        "import pandas as pd\n",
        "\n",
        "# Matplotlib - Data Visualisation Tool\n",
        "import matplotlib.pyplot as plt\n",
        "\n",
        "# Matplotlib - Data Visualisation Tool\n",
        "import seaborn as sns\n",
        "\n",
        "# ReGex -> Data Cleaning\n",
        "import re\n",
        "\n",
        "# SQLite -> Server-less Database\n",
        "import sqlite3\n"
      ],
      "metadata": {
        "id": "Vh1b1dovBEyv"
      },
      "execution_count": 10,
      "outputs": []
    },
    {
      "cell_type": "markdown",
      "source": [
        "# Approach\n",
        "\n"
      ],
      "metadata": {
        "id": "DR51K7bXDBNT"
      }
    },
    {
      "cell_type": "code",
      "source": [
        "#steps :\n",
        "# 1. We need to establish a connection to the SQLite Database by creating a connection object\n",
        "# 2. Then, We need to create a cursor object using the cursor() method\n",
        "# 3. Then, excute the query -> cursor_variable.execute('query')\n",
        "# 4. To fectch the data, then use fetchall() method of the cursor variable/object\n",
        "# 5. We will create a DataFrame w.r.t. the SQLite\n",
        "# 6. Then we will perform the EDA i.e Data Analysis - Data Manipulation, Data Exploration, Data Cleaning, Data Visualisation\n"
      ],
      "metadata": {
        "id": "F81I7mYuBE3g"
      },
      "execution_count": 11,
      "outputs": []
    },
    {
      "cell_type": "markdown",
      "source": [
        "# 1. Establishing Connection "
      ],
      "metadata": {
        "id": "RqwNs5SMFfbJ"
      }
    },
    {
      "cell_type": "code",
      "source": [
        "#storing the path of dataset into a variable \"db\"\n",
        "db=\"/content/drive/MyDrive/movies.sqlite\"\n",
        "\n",
        "#using conn variable connecting the dataset\n",
        "conn=sqlite3.connect(db)\n",
        "\n",
        "#creating cursor Object\n",
        "cur=conn.cursor()"
      ],
      "metadata": {
        "id": "KmgBEVDtDTpb"
      },
      "execution_count": 12,
      "outputs": []
    },
    {
      "cell_type": "code",
      "source": [
        "#fetching all the data of movies from the movies table in the dataset\n",
        "cur.execute('SELECT * FROM movies')\n",
        "\n",
        "#creating a cursor object \n",
        "movies=cur.fetchall()"
      ],
      "metadata": {
        "id": "RzpLqdpXGj1L"
      },
      "execution_count": 13,
      "outputs": []
    },
    {
      "cell_type": "code",
      "source": [
        "# Displaying all the data from the movies table\n",
        "movies"
      ],
      "metadata": {
        "id": "H-iYD1_3KVEf"
      },
      "execution_count": null,
      "outputs": []
    },
    {
      "cell_type": "markdown",
      "source": [
        "# Creating DataFrame"
      ],
      "metadata": {
        "id": "xxWTnxpwdBWP"
      }
    },
    {
      "cell_type": "code",
      "source": [
        "# Creating a DataFrame :\n",
        "columns = ['id','original_title', 'budget','popularity', 'release_date', 'revenue',\n",
        "           'title','vote_average','vote_count','overvview','tagline','uid','director_id']\n",
        "movies_df = pd.DataFrame(movies, columns=columns)\n"
      ],
      "metadata": {
        "id": "pzf-PpnUawXN"
      },
      "execution_count": 15,
      "outputs": []
    },
    {
      "cell_type": "code",
      "source": [
        "# Display the DataFrame\n",
        "movies_df"
      ],
      "metadata": {
        "colab": {
          "base_uri": "https://localhost:8080/",
          "height": 1000
        },
        "id": "SZGMCv28beof",
        "outputId": "12772226-de5d-4cd4-ac3e-d2ab2620af9a"
      },
      "execution_count": 81,
      "outputs": [
        {
          "output_type": "execute_result",
          "data": {
            "text/plain": [
              "         id                            original_title     budget  popularity  \\\n",
              "0     43597                                    Avatar  237000000         150   \n",
              "1     43598  Pirates of the Caribbean: At World's End  300000000         139   \n",
              "2     43599                                   Spectre  245000000         107   \n",
              "3     43600                     The Dark Knight Rises  250000000         112   \n",
              "4     43601                               John Carter  260000000          43   \n",
              "...     ...                                       ...        ...         ...   \n",
              "4768  48395                               El Mariachi     220000          14   \n",
              "4769  48396                                 Newlyweds       9000           0   \n",
              "4770  48397                 Signed, Sealed, Delivered          0           1   \n",
              "4771  48398                          Shanghai Calling          0           0   \n",
              "4772  48399                         My Date with Drew          0           1   \n",
              "\n",
              "     release_date     revenue                                     title  \\\n",
              "0      2009-12-10  2787965087                                    Avatar   \n",
              "1      2007-05-19   961000000  Pirates of the Caribbean: At World's End   \n",
              "2      2015-10-26   880674609                                   Spectre   \n",
              "3      2012-07-16  1084939099                     The Dark Knight Rises   \n",
              "4      2012-03-07   284139100                               John Carter   \n",
              "...           ...         ...                                       ...   \n",
              "4768   1992-09-04     2040920                               El Mariachi   \n",
              "4769   2011-12-26           0                                 Newlyweds   \n",
              "4770   2013-10-13           0                 Signed, Sealed, Delivered   \n",
              "4771   2012-05-03           0                          Shanghai Calling   \n",
              "4772   2005-08-05           0                         My Date with Drew   \n",
              "\n",
              "      vote_average  vote_count  \\\n",
              "0              7.2       11800   \n",
              "1              6.9        4500   \n",
              "2              6.3        4466   \n",
              "3              7.6        9106   \n",
              "4              6.1        2124   \n",
              "...            ...         ...   \n",
              "4768           6.6         238   \n",
              "4769           5.9           5   \n",
              "4770           7.0           6   \n",
              "4771           5.7           7   \n",
              "4772           6.3          16   \n",
              "\n",
              "                                              overvview  \\\n",
              "0     In the 22nd century, a paraplegic Marine is di...   \n",
              "1     Captain Barbossa, long believed to be dead, ha...   \n",
              "2     A cryptic message from Bond’s past sends him o...   \n",
              "3     Following the death of District Attorney Harve...   \n",
              "4     John Carter is a war-weary, former military ca...   \n",
              "...                                                 ...   \n",
              "4768  El Mariachi just wants to play his guitar and ...   \n",
              "4769  A newlywed couple's honeymoon is upended by th...   \n",
              "4770  \"Signed, Sealed, Delivered\" introduces a dedic...   \n",
              "4771  When ambitious New York attorney Sam is sent t...   \n",
              "4772  Ever since the second grade when he first saw ...   \n",
              "\n",
              "                                                tagline     uid  director_id  \n",
              "0                           Enter the World of Pandora.   19995         4762  \n",
              "1        At the end of the world, the adventure begins.     285         4763  \n",
              "2                                 A Plan No One Escapes  206647         4764  \n",
              "3                                       The Legend Ends   49026         4765  \n",
              "4                  Lost in our world, found in another.   49529         4766  \n",
              "...                                                 ...     ...          ...  \n",
              "4768  He didn't come looking for trouble, but troubl...    9367         5097  \n",
              "4769  A newlywed couple's honeymoon is upended by th...   72766         6485  \n",
              "4770                                               None  231617         7108  \n",
              "4771                           A New Yorker in Shanghai  126186         7109  \n",
              "4772                                               None   25975         7110  \n",
              "\n",
              "[4773 rows x 13 columns]"
            ],
            "text/html": [
              "\n",
              "  <div id=\"df-e165abca-614d-4676-a0ea-13dbb8622bae\">\n",
              "    <div class=\"colab-df-container\">\n",
              "      <div>\n",
              "<style scoped>\n",
              "    .dataframe tbody tr th:only-of-type {\n",
              "        vertical-align: middle;\n",
              "    }\n",
              "\n",
              "    .dataframe tbody tr th {\n",
              "        vertical-align: top;\n",
              "    }\n",
              "\n",
              "    .dataframe thead th {\n",
              "        text-align: right;\n",
              "    }\n",
              "</style>\n",
              "<table border=\"1\" class=\"dataframe\">\n",
              "  <thead>\n",
              "    <tr style=\"text-align: right;\">\n",
              "      <th></th>\n",
              "      <th>id</th>\n",
              "      <th>original_title</th>\n",
              "      <th>budget</th>\n",
              "      <th>popularity</th>\n",
              "      <th>release_date</th>\n",
              "      <th>revenue</th>\n",
              "      <th>title</th>\n",
              "      <th>vote_average</th>\n",
              "      <th>vote_count</th>\n",
              "      <th>overvview</th>\n",
              "      <th>tagline</th>\n",
              "      <th>uid</th>\n",
              "      <th>director_id</th>\n",
              "    </tr>\n",
              "  </thead>\n",
              "  <tbody>\n",
              "    <tr>\n",
              "      <th>0</th>\n",
              "      <td>43597</td>\n",
              "      <td>Avatar</td>\n",
              "      <td>237000000</td>\n",
              "      <td>150</td>\n",
              "      <td>2009-12-10</td>\n",
              "      <td>2787965087</td>\n",
              "      <td>Avatar</td>\n",
              "      <td>7.2</td>\n",
              "      <td>11800</td>\n",
              "      <td>In the 22nd century, a paraplegic Marine is di...</td>\n",
              "      <td>Enter the World of Pandora.</td>\n",
              "      <td>19995</td>\n",
              "      <td>4762</td>\n",
              "    </tr>\n",
              "    <tr>\n",
              "      <th>1</th>\n",
              "      <td>43598</td>\n",
              "      <td>Pirates of the Caribbean: At World's End</td>\n",
              "      <td>300000000</td>\n",
              "      <td>139</td>\n",
              "      <td>2007-05-19</td>\n",
              "      <td>961000000</td>\n",
              "      <td>Pirates of the Caribbean: At World's End</td>\n",
              "      <td>6.9</td>\n",
              "      <td>4500</td>\n",
              "      <td>Captain Barbossa, long believed to be dead, ha...</td>\n",
              "      <td>At the end of the world, the adventure begins.</td>\n",
              "      <td>285</td>\n",
              "      <td>4763</td>\n",
              "    </tr>\n",
              "    <tr>\n",
              "      <th>2</th>\n",
              "      <td>43599</td>\n",
              "      <td>Spectre</td>\n",
              "      <td>245000000</td>\n",
              "      <td>107</td>\n",
              "      <td>2015-10-26</td>\n",
              "      <td>880674609</td>\n",
              "      <td>Spectre</td>\n",
              "      <td>6.3</td>\n",
              "      <td>4466</td>\n",
              "      <td>A cryptic message from Bond’s past sends him o...</td>\n",
              "      <td>A Plan No One Escapes</td>\n",
              "      <td>206647</td>\n",
              "      <td>4764</td>\n",
              "    </tr>\n",
              "    <tr>\n",
              "      <th>3</th>\n",
              "      <td>43600</td>\n",
              "      <td>The Dark Knight Rises</td>\n",
              "      <td>250000000</td>\n",
              "      <td>112</td>\n",
              "      <td>2012-07-16</td>\n",
              "      <td>1084939099</td>\n",
              "      <td>The Dark Knight Rises</td>\n",
              "      <td>7.6</td>\n",
              "      <td>9106</td>\n",
              "      <td>Following the death of District Attorney Harve...</td>\n",
              "      <td>The Legend Ends</td>\n",
              "      <td>49026</td>\n",
              "      <td>4765</td>\n",
              "    </tr>\n",
              "    <tr>\n",
              "      <th>4</th>\n",
              "      <td>43601</td>\n",
              "      <td>John Carter</td>\n",
              "      <td>260000000</td>\n",
              "      <td>43</td>\n",
              "      <td>2012-03-07</td>\n",
              "      <td>284139100</td>\n",
              "      <td>John Carter</td>\n",
              "      <td>6.1</td>\n",
              "      <td>2124</td>\n",
              "      <td>John Carter is a war-weary, former military ca...</td>\n",
              "      <td>Lost in our world, found in another.</td>\n",
              "      <td>49529</td>\n",
              "      <td>4766</td>\n",
              "    </tr>\n",
              "    <tr>\n",
              "      <th>...</th>\n",
              "      <td>...</td>\n",
              "      <td>...</td>\n",
              "      <td>...</td>\n",
              "      <td>...</td>\n",
              "      <td>...</td>\n",
              "      <td>...</td>\n",
              "      <td>...</td>\n",
              "      <td>...</td>\n",
              "      <td>...</td>\n",
              "      <td>...</td>\n",
              "      <td>...</td>\n",
              "      <td>...</td>\n",
              "      <td>...</td>\n",
              "    </tr>\n",
              "    <tr>\n",
              "      <th>4768</th>\n",
              "      <td>48395</td>\n",
              "      <td>El Mariachi</td>\n",
              "      <td>220000</td>\n",
              "      <td>14</td>\n",
              "      <td>1992-09-04</td>\n",
              "      <td>2040920</td>\n",
              "      <td>El Mariachi</td>\n",
              "      <td>6.6</td>\n",
              "      <td>238</td>\n",
              "      <td>El Mariachi just wants to play his guitar and ...</td>\n",
              "      <td>He didn't come looking for trouble, but troubl...</td>\n",
              "      <td>9367</td>\n",
              "      <td>5097</td>\n",
              "    </tr>\n",
              "    <tr>\n",
              "      <th>4769</th>\n",
              "      <td>48396</td>\n",
              "      <td>Newlyweds</td>\n",
              "      <td>9000</td>\n",
              "      <td>0</td>\n",
              "      <td>2011-12-26</td>\n",
              "      <td>0</td>\n",
              "      <td>Newlyweds</td>\n",
              "      <td>5.9</td>\n",
              "      <td>5</td>\n",
              "      <td>A newlywed couple's honeymoon is upended by th...</td>\n",
              "      <td>A newlywed couple's honeymoon is upended by th...</td>\n",
              "      <td>72766</td>\n",
              "      <td>6485</td>\n",
              "    </tr>\n",
              "    <tr>\n",
              "      <th>4770</th>\n",
              "      <td>48397</td>\n",
              "      <td>Signed, Sealed, Delivered</td>\n",
              "      <td>0</td>\n",
              "      <td>1</td>\n",
              "      <td>2013-10-13</td>\n",
              "      <td>0</td>\n",
              "      <td>Signed, Sealed, Delivered</td>\n",
              "      <td>7.0</td>\n",
              "      <td>6</td>\n",
              "      <td>\"Signed, Sealed, Delivered\" introduces a dedic...</td>\n",
              "      <td>None</td>\n",
              "      <td>231617</td>\n",
              "      <td>7108</td>\n",
              "    </tr>\n",
              "    <tr>\n",
              "      <th>4771</th>\n",
              "      <td>48398</td>\n",
              "      <td>Shanghai Calling</td>\n",
              "      <td>0</td>\n",
              "      <td>0</td>\n",
              "      <td>2012-05-03</td>\n",
              "      <td>0</td>\n",
              "      <td>Shanghai Calling</td>\n",
              "      <td>5.7</td>\n",
              "      <td>7</td>\n",
              "      <td>When ambitious New York attorney Sam is sent t...</td>\n",
              "      <td>A New Yorker in Shanghai</td>\n",
              "      <td>126186</td>\n",
              "      <td>7109</td>\n",
              "    </tr>\n",
              "    <tr>\n",
              "      <th>4772</th>\n",
              "      <td>48399</td>\n",
              "      <td>My Date with Drew</td>\n",
              "      <td>0</td>\n",
              "      <td>1</td>\n",
              "      <td>2005-08-05</td>\n",
              "      <td>0</td>\n",
              "      <td>My Date with Drew</td>\n",
              "      <td>6.3</td>\n",
              "      <td>16</td>\n",
              "      <td>Ever since the second grade when he first saw ...</td>\n",
              "      <td>None</td>\n",
              "      <td>25975</td>\n",
              "      <td>7110</td>\n",
              "    </tr>\n",
              "  </tbody>\n",
              "</table>\n",
              "<p>4773 rows × 13 columns</p>\n",
              "</div>\n",
              "      <button class=\"colab-df-convert\" onclick=\"convertToInteractive('df-e165abca-614d-4676-a0ea-13dbb8622bae')\"\n",
              "              title=\"Convert this dataframe to an interactive table.\"\n",
              "              style=\"display:none;\">\n",
              "        \n",
              "  <svg xmlns=\"http://www.w3.org/2000/svg\" height=\"24px\"viewBox=\"0 0 24 24\"\n",
              "       width=\"24px\">\n",
              "    <path d=\"M0 0h24v24H0V0z\" fill=\"none\"/>\n",
              "    <path d=\"M18.56 5.44l.94 2.06.94-2.06 2.06-.94-2.06-.94-.94-2.06-.94 2.06-2.06.94zm-11 1L8.5 8.5l.94-2.06 2.06-.94-2.06-.94L8.5 2.5l-.94 2.06-2.06.94zm10 10l.94 2.06.94-2.06 2.06-.94-2.06-.94-.94-2.06-.94 2.06-2.06.94z\"/><path d=\"M17.41 7.96l-1.37-1.37c-.4-.4-.92-.59-1.43-.59-.52 0-1.04.2-1.43.59L10.3 9.45l-7.72 7.72c-.78.78-.78 2.05 0 2.83L4 21.41c.39.39.9.59 1.41.59.51 0 1.02-.2 1.41-.59l7.78-7.78 2.81-2.81c.8-.78.8-2.07 0-2.86zM5.41 20L4 18.59l7.72-7.72 1.47 1.35L5.41 20z\"/>\n",
              "  </svg>\n",
              "      </button>\n",
              "      \n",
              "  <style>\n",
              "    .colab-df-container {\n",
              "      display:flex;\n",
              "      flex-wrap:wrap;\n",
              "      gap: 12px;\n",
              "    }\n",
              "\n",
              "    .colab-df-convert {\n",
              "      background-color: #E8F0FE;\n",
              "      border: none;\n",
              "      border-radius: 50%;\n",
              "      cursor: pointer;\n",
              "      display: none;\n",
              "      fill: #1967D2;\n",
              "      height: 32px;\n",
              "      padding: 0 0 0 0;\n",
              "      width: 32px;\n",
              "    }\n",
              "\n",
              "    .colab-df-convert:hover {\n",
              "      background-color: #E2EBFA;\n",
              "      box-shadow: 0px 1px 2px rgba(60, 64, 67, 0.3), 0px 1px 3px 1px rgba(60, 64, 67, 0.15);\n",
              "      fill: #174EA6;\n",
              "    }\n",
              "\n",
              "    [theme=dark] .colab-df-convert {\n",
              "      background-color: #3B4455;\n",
              "      fill: #D2E3FC;\n",
              "    }\n",
              "\n",
              "    [theme=dark] .colab-df-convert:hover {\n",
              "      background-color: #434B5C;\n",
              "      box-shadow: 0px 1px 3px 1px rgba(0, 0, 0, 0.15);\n",
              "      filter: drop-shadow(0px 1px 2px rgba(0, 0, 0, 0.3));\n",
              "      fill: #FFFFFF;\n",
              "    }\n",
              "  </style>\n",
              "\n",
              "      <script>\n",
              "        const buttonEl =\n",
              "          document.querySelector('#df-e165abca-614d-4676-a0ea-13dbb8622bae button.colab-df-convert');\n",
              "        buttonEl.style.display =\n",
              "          google.colab.kernel.accessAllowed ? 'block' : 'none';\n",
              "\n",
              "        async function convertToInteractive(key) {\n",
              "          const element = document.querySelector('#df-e165abca-614d-4676-a0ea-13dbb8622bae');\n",
              "          const dataTable =\n",
              "            await google.colab.kernel.invokeFunction('convertToInteractive',\n",
              "                                                     [key], {});\n",
              "          if (!dataTable) return;\n",
              "\n",
              "          const docLinkHtml = 'Like what you see? Visit the ' +\n",
              "            '<a target=\"_blank\" href=https://colab.research.google.com/notebooks/data_table.ipynb>data table notebook</a>'\n",
              "            + ' to learn more about interactive tables.';\n",
              "          element.innerHTML = '';\n",
              "          dataTable['output_type'] = 'display_data';\n",
              "          await google.colab.output.renderOutput(dataTable, element);\n",
              "          const docLink = document.createElement('div');\n",
              "          docLink.innerHTML = docLinkHtml;\n",
              "          element.appendChild(docLink);\n",
              "        }\n",
              "      </script>\n",
              "    </div>\n",
              "  </div>\n",
              "  "
            ]
          },
          "metadata": {},
          "execution_count": 81
        }
      ]
    },
    {
      "cell_type": "code",
      "source": [
        "movies_df.info()"
      ],
      "metadata": {
        "id": "6ZvjB0jWczsG"
      },
      "execution_count": null,
      "outputs": []
    },
    {
      "cell_type": "code",
      "source": [
        "# As we can see that we have column name as 'director_id', Which means that \n",
        "# that its a Foreign Key and we have another table in the Dataset.\n",
        "# lets connect that table "
      ],
      "metadata": {
        "id": "VgxQ2CbMdQqG"
      },
      "execution_count": 18,
      "outputs": []
    },
    {
      "cell_type": "code",
      "source": [
        "#Fetching all the data from directors table.\n",
        "cur.execute('SELECT * FROM directors')\n",
        "\n",
        "#creating another cursor object \n",
        "directors = cur.fetchall()"
      ],
      "metadata": {
        "id": "9-j_CofBecSB"
      },
      "execution_count": 19,
      "outputs": []
    },
    {
      "cell_type": "code",
      "source": [
        "# Displaying data from directors table\n",
        "directors"
      ],
      "metadata": {
        "id": "3UzzGHvde83y"
      },
      "execution_count": null,
      "outputs": []
    },
    {
      "cell_type": "code",
      "source": [
        "# creating a DataFrame for the directors table\n",
        "\n",
        "columns=['name','director_id','gender','uid','department']\n",
        "directors_df = pd.DataFrame(directors , columns=columns)\n"
      ],
      "metadata": {
        "id": "PHflqtanfCYv"
      },
      "execution_count": 21,
      "outputs": []
    },
    {
      "cell_type": "code",
      "source": [
        "# Displaying the data from directors DataFrame\n",
        "\n",
        "directors_df"
      ],
      "metadata": {
        "id": "Rt-nn83ZfVMw"
      },
      "execution_count": null,
      "outputs": []
    },
    {
      "cell_type": "code",
      "source": [
        "directors_df.info()"
      ],
      "metadata": {
        "id": "eNdq8a79gfiL"
      },
      "execution_count": null,
      "outputs": []
    },
    {
      "cell_type": "code",
      "source": [
        "movies_df.shape"
      ],
      "metadata": {
        "colab": {
          "base_uri": "https://localhost:8080/"
        },
        "id": "N4WsU3Zdf-uZ",
        "outputId": "79239280-b113-4b78-ba0f-0fc03093a299"
      },
      "execution_count": 24,
      "outputs": [
        {
          "output_type": "execute_result",
          "data": {
            "text/plain": [
              "(4773, 13)"
            ]
          },
          "metadata": {},
          "execution_count": 24
        }
      ]
    },
    {
      "cell_type": "code",
      "source": [
        "directors_df.shape"
      ],
      "metadata": {
        "colab": {
          "base_uri": "https://localhost:8080/"
        },
        "id": "8kB6z0nCgJGA",
        "outputId": "194d7700-3428-45b1-bfc7-d6e1d7a68872"
      },
      "execution_count": 25,
      "outputs": [
        {
          "output_type": "execute_result",
          "data": {
            "text/plain": [
              "(2349, 5)"
            ]
          },
          "metadata": {},
          "execution_count": 25
        }
      ]
    },
    {
      "cell_type": "code",
      "source": [
        "movies_df.describe()"
      ],
      "metadata": {
        "id": "5IsIbhgpgNPh"
      },
      "execution_count": null,
      "outputs": []
    },
    {
      "cell_type": "code",
      "source": [
        "movies_df.columns"
      ],
      "metadata": {
        "colab": {
          "base_uri": "https://localhost:8080/"
        },
        "id": "zyiXaWqTgNXI",
        "outputId": "8d10e61d-e25d-428f-c1df-457cb2375ca6"
      },
      "execution_count": 27,
      "outputs": [
        {
          "output_type": "execute_result",
          "data": {
            "text/plain": [
              "Index(['id', 'original_title', 'budget', 'popularity', 'release_date',\n",
              "       'revenue', 'title', 'vote_average', 'vote_count', 'overvview',\n",
              "       'tagline', 'uid', 'director_id'],\n",
              "      dtype='object')"
            ]
          },
          "metadata": {},
          "execution_count": 27
        }
      ]
    },
    {
      "cell_type": "code",
      "source": [
        "directors_df.columns"
      ],
      "metadata": {
        "colab": {
          "base_uri": "https://localhost:8080/"
        },
        "id": "WexC23yHm0ui",
        "outputId": "95c3b9b4-724f-426d-d3cb-2cdff8ca82b9"
      },
      "execution_count": 28,
      "outputs": [
        {
          "output_type": "execute_result",
          "data": {
            "text/plain": [
              "Index(['name', 'director_id', 'gender', 'uid', 'department'], dtype='object')"
            ]
          },
          "metadata": {},
          "execution_count": 28
        }
      ]
    },
    {
      "cell_type": "markdown",
      "source": [
        "# EDA"
      ],
      "metadata": {
        "id": "2F4c9T8_g43E"
      }
    },
    {
      "cell_type": "markdown",
      "source": [
        "Q1. How many movies are present in the movies table?"
      ],
      "metadata": {
        "id": "H6Es6OX-hJJa"
      }
    },
    {
      "cell_type": "code",
      "source": [
        "cur.execute('SELECT  COUNT(original_title) FROM movies')\n",
        "count=cur.fetchall()\n",
        "print(f'The number of movies present in the movies table is {count[0][0]}')"
      ],
      "metadata": {
        "colab": {
          "base_uri": "https://localhost:8080/"
        },
        "id": "wS_Haj36gNZx",
        "outputId": "d01c4a76-cdfc-4ae6-aff5-03a2b4ab38f5"
      },
      "execution_count": 29,
      "outputs": [
        {
          "output_type": "stream",
          "name": "stdout",
          "text": [
            "The number of movies present in the movies table is 4773\n"
          ]
        }
      ]
    },
    {
      "cell_type": "markdown",
      "source": [
        "Q2. Find these 3 directors : James Cameron, Luc Besson, John Woo"
      ],
      "metadata": {
        "id": "3A_gtphji9F9"
      }
    },
    {
      "cell_type": "code",
      "source": [
        "cur.execute(\"SELECT * FROM directors WHERE name in ('James Cameron' , 'Luc Besson' , 'Jhon Woo') \")\n",
        "three_dir=cur.fetchall()\n",
        "print(f\"Here is the information for the asked directors : {three_dir}\")"
      ],
      "metadata": {
        "colab": {
          "base_uri": "https://localhost:8080/"
        },
        "id": "oTRBlmNwgNeM",
        "outputId": "8c263742-efaf-4d49-c590-29145eb41143"
      },
      "execution_count": 30,
      "outputs": [
        {
          "output_type": "stream",
          "name": "stdout",
          "text": [
            "Here is the information for the asked directors : [('James Cameron', 4762, 2, 2710, 'Directing'), ('Luc Besson', 4949, 2, 59, 'Directing')]\n"
          ]
        }
      ]
    },
    {
      "cell_type": "markdown",
      "source": [
        "Q3. Find all the directors with the name starting with 'Steven'"
      ],
      "metadata": {
        "id": "NERNHp0rlUH9"
      }
    },
    {
      "cell_type": "code",
      "source": [
        "cur.execute(\"SELECT name FROM directors WHERE name LIKE 'Steven%' \")\n",
        "steven=cur.fetchall()\n",
        "print(f\"Directors with first name 'Steven' are : {steven}\")"
      ],
      "metadata": {
        "colab": {
          "base_uri": "https://localhost:8080/"
        },
        "id": "TETU1HunlVnh",
        "outputId": "b969fffe-bedf-4897-8fbc-8578ada3bed4"
      },
      "execution_count": 31,
      "outputs": [
        {
          "output_type": "stream",
          "name": "stdout",
          "text": [
            "Directors with first name 'Steven' are : [('Steven Spielberg',), ('Steven Soderbergh',), ('Steven Brill',), ('Steven Zaillian',), ('Steven Quale',), ('Steven Seagal',), ('Steven E. de Souza',), ('Steven Shainberg',), ('Steven R. Monroe',)]\n"
          ]
        }
      ]
    },
    {
      "cell_type": "markdown",
      "source": [
        "Q4. How many Female directors are there in the Dataset?"
      ],
      "metadata": {
        "id": "f3geTwvRmBEK"
      }
    },
    {
      "cell_type": "code",
      "source": [
        "cur.execute(\"SELECT COUNT(name) FROM directors WHERE gender='1'\")\n",
        "female=cur.fetchall()\n",
        "print(f\"The number of female directors are : {female[0][0]}\")"
      ],
      "metadata": {
        "colab": {
          "base_uri": "https://localhost:8080/"
        },
        "id": "265qW97ymhnW",
        "outputId": "926d3c79-365d-40aa-f25e-0206f92248f9"
      },
      "execution_count": 32,
      "outputs": [
        {
          "output_type": "stream",
          "name": "stdout",
          "text": [
            "The number of female directors are : 150\n"
          ]
        }
      ]
    },
    {
      "cell_type": "markdown",
      "source": [
        "Q5. Find the name of the 10th First female director"
      ],
      "metadata": {
        "id": "0Y17fvsPoXQy"
      }
    },
    {
      "cell_type": "code",
      "source": [
        "cur.execute(\"SELECT name FROM directors WHERE gender=1 LIMIT 10\")\n",
        "femaledir=cur.fetchall()\n",
        "print(f\"The 10th Female director is : {femaledir[9][0]}\")"
      ],
      "metadata": {
        "colab": {
          "base_uri": "https://localhost:8080/"
        },
        "id": "cfuhHyLuoYdD",
        "outputId": "86603543-bdb0-4ac0-9fbb-29f64149f98e"
      },
      "execution_count": 33,
      "outputs": [
        {
          "output_type": "stream",
          "name": "stdout",
          "text": [
            "The 10th Female director is : Angelina Jolie\n"
          ]
        }
      ]
    },
    {
      "cell_type": "markdown",
      "source": [
        "Q6. Find the Top 3 most popular movies"
      ],
      "metadata": {
        "id": "4sjpt0goqEf0"
      }
    },
    {
      "cell_type": "code",
      "source": [
        "cur.execute(\"SELECT original_title FROM movies ORDER BY  popularity DESC LIMIT 3\")\n",
        "top=cur.fetchall()\n",
        "print(f\"The Top 3 popular movies are : {top}\")"
      ],
      "metadata": {
        "colab": {
          "base_uri": "https://localhost:8080/"
        },
        "id": "79iiVSPzqFRy",
        "outputId": "0b0380c1-a4de-461e-915e-116e433f448d"
      },
      "execution_count": 34,
      "outputs": [
        {
          "output_type": "stream",
          "name": "stdout",
          "text": [
            "The Top 3 popular movies are : [('Minions',), ('Interstellar',), ('Deadpool',)]\n"
          ]
        }
      ]
    },
    {
      "cell_type": "markdown",
      "source": [
        "Q7. Find the Top 3 most bankable (having huge budget) movie"
      ],
      "metadata": {
        "id": "Zaf7b7HMHY0l"
      }
    },
    {
      "cell_type": "code",
      "source": [
        "cur.execute(\"SELECT original_title FROM movies ORDER BY budget DESC LIMIT 3\")\n",
        "bud=cur.fetchall()\n",
        "print(f\"The Top 3 most bankable(budget) movies are :{bud}\")"
      ],
      "metadata": {
        "colab": {
          "base_uri": "https://localhost:8080/"
        },
        "id": "LChVIs3eHcPn",
        "outputId": "b8a90918-6653-44ff-c272-77559e75f3d9"
      },
      "execution_count": 37,
      "outputs": [
        {
          "output_type": "stream",
          "name": "stdout",
          "text": [
            "The Top 3 most bankable(budget) movies are :[('Pirates of the Caribbean: On Stranger Tides',), (\"Pirates of the Caribbean: At World's End\",), ('Avengers: Age of Ultron',)]\n"
          ]
        }
      ]
    },
    {
      "cell_type": "markdown",
      "source": [
        "Q8. Find out the most awarded average rated movie since Jan 1st, 2000"
      ],
      "metadata": {
        "id": "jRk041OTIOvw"
      }
    },
    {
      "cell_type": "code",
      "source": [
        "cur.execute(\"SELECT original_title FROM movies WHERE release_date > '2000-01-01' ORDER BY vote_average DESC LIMIT 1 \")\n",
        "bud=cur.fetchall()\n",
        "print(f\"The Top 3 most bankable(budget) movies are :{bud}\")"
      ],
      "metadata": {
        "colab": {
          "base_uri": "https://localhost:8080/"
        },
        "id": "qjf7AxkBIR6r",
        "outputId": "a7acc520-576d-4bd1-e69a-606bce084dfb"
      },
      "execution_count": 45,
      "outputs": [
        {
          "output_type": "stream",
          "name": "stdout",
          "text": [
            "The Top 3 most bankable(budget) movies are :[('Sardaarji',)]\n"
          ]
        }
      ]
    },
    {
      "cell_type": "markdown",
      "source": [
        "\n",
        "\n",
        "*   Q9. Find all the movie(s) that has been directed by Brenda Chapman\n",
        "\n"
      ],
      "metadata": {
        "id": "GlKlQWVPKaVk"
      }
    },
    {
      "cell_type": "code",
      "source": [
        "cur.execute(\"SELECT original_title FROM movies , directors  WHERE directors.id = movies.director_id AND directors.name = 'Brenda Chapman' \")\n",
        "dir=cur.fetchall()\n",
        "print(f\"The Top 3 most bankable(budget) movies is/are :{dir[0][0]}\")"
      ],
      "metadata": {
        "colab": {
          "base_uri": "https://localhost:8080/"
        },
        "id": "xDbvrpvLKeSw",
        "outputId": "e13de2fa-547d-4b3c-f8ff-31ea5b6eec9e"
      },
      "execution_count": 52,
      "outputs": [
        {
          "output_type": "stream",
          "name": "stdout",
          "text": [
            "The Top 3 most bankable(budget) movies is/are :Brave\n"
          ]
        }
      ]
    },
    {
      "cell_type": "markdown",
      "source": [
        "Q10. Find out the director who has made the most movies."
      ],
      "metadata": {
        "id": "eT79Uve7MgXm"
      }
    },
    {
      "cell_type": "code",
      "source": [
        "cur.execute(\"\"\" SELECT name \n",
        "FROM directors JOIN movies ON directors.id = movies.director_id\n",
        "GROUP BY director_id\n",
        "ORDER BY  COUNT(name) DESC LIMIT 1 \"\"\")\n",
        "ct=cur.fetchall()\n",
        "print(f\"The director who has made the most movies : {ct[0][0]}\")"
      ],
      "metadata": {
        "colab": {
          "base_uri": "https://localhost:8080/"
        },
        "id": "FZaKGiqTMhGn",
        "outputId": "9fc771ca-45aa-4481-b8f7-c8a4292de788"
      },
      "execution_count": 57,
      "outputs": [
        {
          "output_type": "stream",
          "name": "stdout",
          "text": [
            "The director who has made the most movies : Steven Spielberg\n"
          ]
        }
      ]
    },
    {
      "cell_type": "markdown",
      "source": [
        "Q11. Find out the director who is most bankable"
      ],
      "metadata": {
        "id": "1lotKRq5PrqO"
      }
    },
    {
      "cell_type": "code",
      "source": [
        "cur.execute(\"\"\"SELECT name \n",
        "FROM directors JOIN movies ON directors.id = movies.director_id\n",
        "GROUP BY director_id\n",
        "ORDER BY SUM(budget) DESC  LIMIT 1\n",
        "\"\"\")\n",
        "dir2=cur.fetchall()\n",
        "print(f\"The most bankable director is {dir2[0][0]}\")"
      ],
      "metadata": {
        "colab": {
          "base_uri": "https://localhost:8080/"
        },
        "id": "r8-XYXgDPs0P",
        "outputId": "503ee6c5-c7dc-4bab-b7a6-a80fb33b4aed"
      },
      "execution_count": 61,
      "outputs": [
        {
          "output_type": "stream",
          "name": "stdout",
          "text": [
            "The most bankable director is Steven Spielberg\n"
          ]
        }
      ]
    },
    {
      "cell_type": "markdown",
      "source": [
        "Q12. Find out the Top 10 highest budget making movies"
      ],
      "metadata": {
        "id": "R5HmhezBQ-qV"
      }
    },
    {
      "cell_type": "code",
      "source": [
        "cur.execute(\"\"\" SELECT original_title\n",
        "FROM movies \n",
        "ORDER BY budget DESC LIMIT 10 \"\"\")\n",
        "bud3=cur.fetchall()\n",
        "print(f\"The Top 10 highest budget making movies are :{bud3}\")"
      ],
      "metadata": {
        "colab": {
          "base_uri": "https://localhost:8080/"
        },
        "id": "HKodL53yQ_R0",
        "outputId": "17f0b0d4-3437-4e19-f048-89010d6dbd85"
      },
      "execution_count": 62,
      "outputs": [
        {
          "output_type": "stream",
          "name": "stdout",
          "text": [
            "The Top 10 highest budget making movies are :[('Pirates of the Caribbean: On Stranger Tides',), (\"Pirates of the Caribbean: At World's End\",), ('Avengers: Age of Ultron',), ('Superman Returns',), ('John Carter',), ('Tangled',), ('Spider-Man 3',), ('The Lone Ranger',), ('The Dark Knight Rises',), ('Harry Potter and the Half-Blood Prince',)]\n"
          ]
        }
      ]
    },
    {
      "cell_type": "markdown",
      "source": [
        "Q13. Find the Top 10 revenue making movies"
      ],
      "metadata": {
        "id": "BUWIHMueU53v"
      }
    },
    {
      "cell_type": "code",
      "source": [
        "cur.execute(\"\"\" SELECT original_title\n",
        "FROM movies \n",
        "ORDER BY revenue DESC LIMIT 10 \"\"\")\n",
        "rev=cur.fetchall()\n",
        "print(f\"The Top 10 highest revenue making movies are :{rev}\")"
      ],
      "metadata": {
        "colab": {
          "base_uri": "https://localhost:8080/"
        },
        "id": "KhyzKDHCU6NR",
        "outputId": "494492c5-e5d3-444d-8f08-8b8c521ebf92"
      },
      "execution_count": 64,
      "outputs": [
        {
          "output_type": "stream",
          "name": "stdout",
          "text": [
            "The Top 10 highest revenue making movies are :[('Avatar',), ('Titanic',), ('The Avengers',), ('Jurassic World',), ('Furious 7',), ('Avengers: Age of Ultron',), ('Frozen',), ('Iron Man 3',), ('Minions',), ('Captain America: Civil War',)]\n"
          ]
        }
      ]
    },
    {
      "cell_type": "markdown",
      "source": [
        "Q14. Find out the Top 10 most popular movies with the highest rating (vote_average)"
      ],
      "metadata": {
        "id": "lCRWOAMDVOJb"
      }
    },
    {
      "cell_type": "code",
      "source": [
        "cur.execute(\"\"\" SELECT original_title\n",
        "FROM movies \n",
        "ORDER BY popularity, vote_average DESC LIMIT 10 \"\"\")\n",
        "pop=cur.fetchall()\n",
        "print(f\"The Top 10 most popular movies with the highest rating :{pop}\")"
      ],
      "metadata": {
        "colab": {
          "base_uri": "https://localhost:8080/"
        },
        "id": "kHDHg792VORR",
        "outputId": "3c96cbb9-f5e1-448e-bc5b-3e889cbb2299"
      },
      "execution_count": 68,
      "outputs": [
        {
          "output_type": "stream",
          "name": "stdout",
          "text": [
            "The Top 10 most popular movies with the highest rating :[('Stiff Upper Lips',), ('Dancer, Texas Pop. 81',), ('Sardaarji',), (\"One Man's Hero\",), ('There Goes My Baby',), ('Counting',), ('Déjà Vu',), ('Dolphins and Whales: Tribes of the Ocean',), ('Lake of Fire',), ('Dreaming of Joseph Lees',)]\n"
          ]
        }
      ]
    },
    {
      "cell_type": "markdown",
      "source": [
        "Q15. Find out the Top 10 directors with the number of movies and revenue where Revenue should be taken into account for doing the new analysis."
      ],
      "metadata": {
        "id": "ln_wg80UVm1n"
      }
    },
    {
      "cell_type": "code",
      "source": [
        "cur.execute(\"\"\" SELECT name\n",
        "FROM movies JOIN directors on movies.director_id = directors.id \n",
        "GROUP BY director_id\n",
        "ORDER BY  SUM(revenue) DESC ,COUNT(name) DESC LIMIT 10 \"\"\")\n",
        "po15=cur.fetchall()\n",
        "print(f\"The Top 10 directors with the number of movies and revenue  :{po15}\")"
      ],
      "metadata": {
        "colab": {
          "base_uri": "https://localhost:8080/"
        },
        "id": "A-V00gO8Vm66",
        "outputId": "6827ec7a-70e9-4b27-d978-2940675f0f73"
      },
      "execution_count": 77,
      "outputs": [
        {
          "output_type": "stream",
          "name": "stdout",
          "text": [
            "The Top 10 directors with the number of movies and revenue  :[('Steven Spielberg',), ('Peter Jackson',), ('James Cameron',), ('Michael Bay',), ('Christopher Nolan',), ('Chris Columbus',), ('Robert Zemeckis',), ('George Lucas',), ('Tim Burton',), ('Ridley Scott',)]\n"
          ]
        }
      ]
    },
    {
      "cell_type": "markdown",
      "source": [
        "Q16. Give the title, release date, budget, revenue, popularity and vote average of those movies made by Steven Spielberg"
      ],
      "metadata": {
        "id": "1hJfrZyNW8LQ"
      }
    },
    {
      "cell_type": "code",
      "source": [
        "cur.execute(\"\"\" SELECT  original_title, release_date, budget, revenue, popularity, vote_average\n",
        "FROM movies , directors\n",
        "WHERE directors.id = movies.director_id AND name = 'Steven Spielberg'  \n",
        " \"\"\")\n",
        "stv=cur.fetchall()\n",
        "print(f\"The title, release date, budget, revenue, popularity and vote average of  movies made by Steven Spielberg :{stv}\")"
      ],
      "metadata": {
        "colab": {
          "base_uri": "https://localhost:8080/"
        },
        "id": "3DDzU-RGW9Qm",
        "outputId": "c3297a3e-bd5d-41b1-b550-5c07edc958ef"
      },
      "execution_count": 70,
      "outputs": [
        {
          "output_type": "stream",
          "name": "stdout",
          "text": [
            "The title, release date, budget, revenue, popularity and vote average of  movies made by Steven Spielberg :[('Indiana Jones and the Kingdom of the Crystal Skull', '2008-05-21', 185000000, 786636033, 75, 5.7), ('The BFG', '2016-06-01', 140000000, 183345589, 44, 6.0), ('War of the Worlds', '2005-06-28', 132000000, 591739379, 48, 6.2), ('The Adventures of Tintin', '2011-10-25', 130000000, 371940071, 89, 6.7), ('Minority Report', '2002-06-20', 102000000, 358372926, 65, 7.1), ('A.I. Artificial Intelligence', '2001-06-29', 100000000, 235926552, 34, 6.8), ('The Lost World: Jurassic Park', '1997-05-23', 73000000, 229074524, 2, 6.2), ('The Terminal', '2004-06-17', 60000000, 219417255, 57, 7.0), ('Munich', '2005-12-22', 70000000, 130358911, 29, 6.9), ('Hook', '1991-12-11', 70000000, 300854823, 33, 6.6), ('War Horse', '2011-12-25', 66000000, 177584879, 29, 7.0), ('Saving Private Ryan', '1998-07-24', 70000000, 481840909, 76, 7.9), ('Lincoln', '2012-11-09', 65000000, 275293450, 36, 6.7), ('Jurassic Park', '1993-06-11', 63000000, 920100000, 40, 7.6), ('Catch Me If You Can', '2002-12-25', 52000000, 352114312, 73, 7.7), ('Indiana Jones and the Last Crusade', '1989-05-24', 48000000, 474171806, 80, 7.6), ('Bridge of Spies', '2015-10-15', 40000000, 165478348, 48, 7.2), ('Amistad', '1997-12-03', 36000000, 74000000, 3, 6.8), ('1941', '1979-12-13', 35000000, 31755742, 10, 5.6), ('Indiana Jones and the Temple of Doom', '1984-05-23', 28000000, 333000000, 66, 7.1), (\"Schindler's List\", '1993-11-29', 22000000, 321365567, 104, 8.3), ('Raiders of the Lost Ark', '1981-06-12', 18000000, 389925971, 68, 7.7), ('Close Encounters of the Third Kind', '1977-11-16', 20000000, 303788635, 52, 7.2), ('The Color Purple', '1985-12-18', 15000000, 146292009, 17, 7.7), ('Jaws', '1975-06-18', 7000000, 470654000, 50, 7.5), ('E.T. the Extra-Terrestrial', '1982-04-03', 10500000, 792910554, 56, 7.3), ('Twilight Zone: The Movie', '1983-06-24', 10000000, 29450919, 12, 6.2)]\n"
          ]
        }
      ]
    },
    {
      "cell_type": "markdown",
      "source": [
        "Q17. Find out the Top 10 directors with the number of movies and revenue where Movies should be taken into account for doing the new analysis.\n",
        "Output: The directors who has got the highest number of movies should comes at the Top and so on and so forth."
      ],
      "metadata": {
        "id": "uXfZL1rgb88B"
      }
    },
    {
      "cell_type": "code",
      "source": [
        "cur.execute(\"\"\" SELECT name\n",
        "FROM movies JOIN directors on movies.director_id = directors.id \n",
        "GROUP BY director_id\n",
        "ORDER BY  COUNT(name) DESC, SUM(revenue) DESC LIMIT 10 \"\"\")\n",
        "po15=cur.fetchall()\n",
        "print(f\"The Top 10 directors with highest number of movies and revenue  :{po15}\")"
      ],
      "metadata": {
        "colab": {
          "base_uri": "https://localhost:8080/"
        },
        "id": "i8anUtJnb926",
        "outputId": "8e5b3db6-edfa-4f12-8fb5-3a70dde3aa0b"
      },
      "execution_count": 78,
      "outputs": [
        {
          "output_type": "stream",
          "name": "stdout",
          "text": [
            "The Top 10 directors with highest number of movies and revenue  :[('Steven Spielberg',), ('Woody Allen',), ('Clint Eastwood',), ('Martin Scorsese',), ('Ridley Scott',), ('Robert Rodriguez',), ('Spike Lee',), ('Steven Soderbergh',), ('Renny Harlin',), ('Tim Burton',)]\n"
          ]
        }
      ]
    },
    {
      "cell_type": "markdown",
      "source": [
        "Q18. Which are the 3 least popular movies of all time. "
      ],
      "metadata": {
        "id": "3HYUNbsIcTFo"
      }
    },
    {
      "cell_type": "code",
      "source": [
        "cur.execute(\"SELECT original_title FROM movies ORDER BY  popularity  LIMIT 3\")\n",
        "least=cur.fetchall()\n",
        "print(f\"The Top 3 popular movies are : {least}\")"
      ],
      "metadata": {
        "colab": {
          "base_uri": "https://localhost:8080/"
        },
        "id": "UmMYW1-tcTMw",
        "outputId": "48647d7f-84e5-4f4c-8e40-e8e666950595"
      },
      "execution_count": 79,
      "outputs": [
        {
          "output_type": "stream",
          "name": "stdout",
          "text": [
            "The Top 3 popular movies are : [('Déjà Vu',), ('Don Gato: El inicio de la pandilla',), ('The Tooth Fairy',)]\n"
          ]
        }
      ]
    },
    {
      "cell_type": "markdown",
      "source": [
        "Q19. Find the number of movies having 'the' in their titles."
      ],
      "metadata": {
        "id": "sSf2xqPKdgo-"
      }
    },
    {
      "cell_type": "code",
      "source": [
        "cur.execute(\"SELECT COUNT(original_title) FROM movies WHERE original_title LIKE '%the%' \")\n",
        "the=cur.fetchall()\n",
        "print(f\"movies having 'the' in their titles are : {the[0][0]}\")"
      ],
      "metadata": {
        "colab": {
          "base_uri": "https://localhost:8080/"
        },
        "id": "UDbIDaifdgwA",
        "outputId": "ad1cc00e-ef38-4728-805a-67e8ed28e167"
      },
      "execution_count": 86,
      "outputs": [
        {
          "output_type": "stream",
          "name": "stdout",
          "text": [
            "movies having 'the' in their titles are : 1349\n"
          ]
        }
      ]
    },
    {
      "cell_type": "markdown",
      "source": [],
      "metadata": {
        "id": "TXbdePFAdg9a"
      }
    },
    {
      "cell_type": "markdown",
      "source": [
        "# Conclusion"
      ],
      "metadata": {
        "id": "MkiTp1BPfezg"
      }
    },
    {
      "cell_type": "code",
      "source": [
        "# RECAP OF SOME QUESTIONS :\n",
        "\n",
        "# 1. How many movies are present in the movies table?\n",
        "# ANS: The number of movies present in the movies table is 4773\n",
        "\n",
        "# 2. How many Female directors are there in the Dataset?\n",
        "# ANS: The number of female directors are : 150\n",
        "\n",
        "# 3. Find the Top 3 most popular movies\n",
        "# ANS: The Top 3 popular movies are : [('Minions',), ('Interstellar',), ('Deadpool',)]\n",
        "\n",
        "# 4. Find the Top 10 revenue making movies\n",
        "# ANS: The Top 10 highest revenue making movies are :[('Avatar',), ('Titanic',), ('The Avengers',), ('Jurassic World',), ('Furious 7',), ('Avengers: Age of Ultron',), ('Frozen',), ('Iron Man 3',), ('Minions',), ('Captain America: Civil War',)]\n",
        "\n",
        "# 5.  Find out the director who is most bankable\n",
        "# ANS: The most bankable director is Steven Spielberg\n",
        "\n",
        "# Like wise various questions can be answered using the Dataset\n"
      ],
      "metadata": {
        "id": "IBICCoxRdhCu"
      },
      "execution_count": 87,
      "outputs": []
    },
    {
      "cell_type": "code",
      "source": [
        "# This Analysis does not incorporate any Machine Learning Concept, Its just simple\n",
        "# EDA done on SQL dataset for learning Purpose"
      ],
      "metadata": {
        "id": "KN4GobdUf1eZ"
      },
      "execution_count": null,
      "outputs": []
    }
  ]
}