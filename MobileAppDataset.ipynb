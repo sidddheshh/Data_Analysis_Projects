{
  "nbformat": 4,
  "nbformat_minor": 0,
  "metadata": {
    "colab": {
      "provenance": [],
      "mount_file_id": "1tyUulhljNxfaC4CUrNsspaDbanhYczj8",
      "authorship_tag": "ABX9TyPURv+5VSoz0RzrbXswMbcg",
      "include_colab_link": true
    },
    "kernelspec": {
      "name": "python3",
      "display_name": "Python 3"
    },
    "language_info": {
      "name": "python"
    }
  },
  "cells": [
    {
      "cell_type": "markdown",
      "metadata": {
        "id": "view-in-github",
        "colab_type": "text"
      },
      "source": [
        "<a href=\"https://colab.research.google.com/github/sidddheshh/Data_Analysis_Projects/blob/main/MobileAppDataset.ipynb\" target=\"_parent\"><img src=\"https://colab.research.google.com/assets/colab-badge.svg\" alt=\"Open In Colab\"/></a>"
      ]
    },
    {
      "cell_type": "markdown",
      "source": [
        "# **Introduction**"
      ],
      "metadata": {
        "id": "46-OuXQOHDof"
      }
    },
    {
      "cell_type": "markdown",
      "source": [
        "# Importing Libraries"
      ],
      "metadata": {
        "id": "4IP_hPEZZ1gU"
      }
    },
    {
      "cell_type": "code",
      "source": [
        "import pandas as pd\n",
        "import matplotlib.pyplot as plt\n",
        "import seaborn as sns\n",
        "import numpy as np\n",
        "import re"
      ],
      "metadata": {
        "id": "ieBX4tv4ZzhT"
      },
      "execution_count": 91,
      "outputs": []
    },
    {
      "cell_type": "markdown",
      "source": [
        "# Creating Database"
      ],
      "metadata": {
        "id": "Q-96RHpFHK95"
      }
    },
    {
      "cell_type": "code",
      "source": [
        "mobile=pd.read_csv(\"/content/drive/MyDrive/Mobile_Applications.csv\")"
      ],
      "metadata": {
        "id": "zhTn-7d9Zzo8"
      },
      "execution_count": 92,
      "outputs": []
    },
    {
      "cell_type": "code",
      "source": [
        "mobile.head()"
      ],
      "metadata": {
        "colab": {
          "base_uri": "https://localhost:8080/",
          "height": 617
        },
        "id": "R_DisyYrZzsD",
        "outputId": "1fb929c8-42df-497c-8ebb-dd151d90f66b"
      },
      "execution_count": 93,
      "outputs": [
        {
          "output_type": "execute_result",
          "data": {
            "text/plain": [
              "                                                 App        Category  Rating  \\\n",
              "0     Photo Editor & Candy Camera & Grid & ScrapBook  ART_AND_DESIGN     4.1   \n",
              "1                                Coloring book moana  ART_AND_DESIGN     3.9   \n",
              "2  U Launcher Lite – FREE Live Cool Themes, Hide ...  ART_AND_DESIGN     4.7   \n",
              "3                              Sketch - Draw & Paint  ART_AND_DESIGN     4.5   \n",
              "4              Pixel Draw - Number Art Coloring Book  ART_AND_DESIGN     4.3   \n",
              "\n",
              "  Reviews  Size     Installs  Type Price Content Rating  \\\n",
              "0     159   19M      10,000+  Free     0       Everyone   \n",
              "1     967   14M     500,000+  Free     0       Everyone   \n",
              "2   87510  8.7M   5,000,000+  Free     0       Everyone   \n",
              "3  215644   25M  50,000,000+  Free     0           Teen   \n",
              "4     967  2.8M     100,000+  Free     0       Everyone   \n",
              "\n",
              "                      Genres      Last Updated         Current Ver  \\\n",
              "0               Art & Design   January 7, 2018               1.0.0   \n",
              "1  Art & Design;Pretend Play  January 15, 2018               2.0.0   \n",
              "2               Art & Design    August 1, 2018               1.2.4   \n",
              "3               Art & Design      June 8, 2018  Varies with device   \n",
              "4    Art & Design;Creativity     June 20, 2018                 1.1   \n",
              "\n",
              "    Android Ver  \n",
              "0  4.0.3 and up  \n",
              "1  4.0.3 and up  \n",
              "2  4.0.3 and up  \n",
              "3    4.2 and up  \n",
              "4    4.4 and up  "
            ],
            "text/html": [
              "\n",
              "  <div id=\"df-c48b5e1f-d009-4bb2-9ad7-0ad543e35256\">\n",
              "    <div class=\"colab-df-container\">\n",
              "      <div>\n",
              "<style scoped>\n",
              "    .dataframe tbody tr th:only-of-type {\n",
              "        vertical-align: middle;\n",
              "    }\n",
              "\n",
              "    .dataframe tbody tr th {\n",
              "        vertical-align: top;\n",
              "    }\n",
              "\n",
              "    .dataframe thead th {\n",
              "        text-align: right;\n",
              "    }\n",
              "</style>\n",
              "<table border=\"1\" class=\"dataframe\">\n",
              "  <thead>\n",
              "    <tr style=\"text-align: right;\">\n",
              "      <th></th>\n",
              "      <th>App</th>\n",
              "      <th>Category</th>\n",
              "      <th>Rating</th>\n",
              "      <th>Reviews</th>\n",
              "      <th>Size</th>\n",
              "      <th>Installs</th>\n",
              "      <th>Type</th>\n",
              "      <th>Price</th>\n",
              "      <th>Content Rating</th>\n",
              "      <th>Genres</th>\n",
              "      <th>Last Updated</th>\n",
              "      <th>Current Ver</th>\n",
              "      <th>Android Ver</th>\n",
              "    </tr>\n",
              "  </thead>\n",
              "  <tbody>\n",
              "    <tr>\n",
              "      <th>0</th>\n",
              "      <td>Photo Editor &amp; Candy Camera &amp; Grid &amp; ScrapBook</td>\n",
              "      <td>ART_AND_DESIGN</td>\n",
              "      <td>4.1</td>\n",
              "      <td>159</td>\n",
              "      <td>19M</td>\n",
              "      <td>10,000+</td>\n",
              "      <td>Free</td>\n",
              "      <td>0</td>\n",
              "      <td>Everyone</td>\n",
              "      <td>Art &amp; Design</td>\n",
              "      <td>January 7, 2018</td>\n",
              "      <td>1.0.0</td>\n",
              "      <td>4.0.3 and up</td>\n",
              "    </tr>\n",
              "    <tr>\n",
              "      <th>1</th>\n",
              "      <td>Coloring book moana</td>\n",
              "      <td>ART_AND_DESIGN</td>\n",
              "      <td>3.9</td>\n",
              "      <td>967</td>\n",
              "      <td>14M</td>\n",
              "      <td>500,000+</td>\n",
              "      <td>Free</td>\n",
              "      <td>0</td>\n",
              "      <td>Everyone</td>\n",
              "      <td>Art &amp; Design;Pretend Play</td>\n",
              "      <td>January 15, 2018</td>\n",
              "      <td>2.0.0</td>\n",
              "      <td>4.0.3 and up</td>\n",
              "    </tr>\n",
              "    <tr>\n",
              "      <th>2</th>\n",
              "      <td>U Launcher Lite – FREE Live Cool Themes, Hide ...</td>\n",
              "      <td>ART_AND_DESIGN</td>\n",
              "      <td>4.7</td>\n",
              "      <td>87510</td>\n",
              "      <td>8.7M</td>\n",
              "      <td>5,000,000+</td>\n",
              "      <td>Free</td>\n",
              "      <td>0</td>\n",
              "      <td>Everyone</td>\n",
              "      <td>Art &amp; Design</td>\n",
              "      <td>August 1, 2018</td>\n",
              "      <td>1.2.4</td>\n",
              "      <td>4.0.3 and up</td>\n",
              "    </tr>\n",
              "    <tr>\n",
              "      <th>3</th>\n",
              "      <td>Sketch - Draw &amp; Paint</td>\n",
              "      <td>ART_AND_DESIGN</td>\n",
              "      <td>4.5</td>\n",
              "      <td>215644</td>\n",
              "      <td>25M</td>\n",
              "      <td>50,000,000+</td>\n",
              "      <td>Free</td>\n",
              "      <td>0</td>\n",
              "      <td>Teen</td>\n",
              "      <td>Art &amp; Design</td>\n",
              "      <td>June 8, 2018</td>\n",
              "      <td>Varies with device</td>\n",
              "      <td>4.2 and up</td>\n",
              "    </tr>\n",
              "    <tr>\n",
              "      <th>4</th>\n",
              "      <td>Pixel Draw - Number Art Coloring Book</td>\n",
              "      <td>ART_AND_DESIGN</td>\n",
              "      <td>4.3</td>\n",
              "      <td>967</td>\n",
              "      <td>2.8M</td>\n",
              "      <td>100,000+</td>\n",
              "      <td>Free</td>\n",
              "      <td>0</td>\n",
              "      <td>Everyone</td>\n",
              "      <td>Art &amp; Design;Creativity</td>\n",
              "      <td>June 20, 2018</td>\n",
              "      <td>1.1</td>\n",
              "      <td>4.4 and up</td>\n",
              "    </tr>\n",
              "  </tbody>\n",
              "</table>\n",
              "</div>\n",
              "      <button class=\"colab-df-convert\" onclick=\"convertToInteractive('df-c48b5e1f-d009-4bb2-9ad7-0ad543e35256')\"\n",
              "              title=\"Convert this dataframe to an interactive table.\"\n",
              "              style=\"display:none;\">\n",
              "        \n",
              "  <svg xmlns=\"http://www.w3.org/2000/svg\" height=\"24px\"viewBox=\"0 0 24 24\"\n",
              "       width=\"24px\">\n",
              "    <path d=\"M0 0h24v24H0V0z\" fill=\"none\"/>\n",
              "    <path d=\"M18.56 5.44l.94 2.06.94-2.06 2.06-.94-2.06-.94-.94-2.06-.94 2.06-2.06.94zm-11 1L8.5 8.5l.94-2.06 2.06-.94-2.06-.94L8.5 2.5l-.94 2.06-2.06.94zm10 10l.94 2.06.94-2.06 2.06-.94-2.06-.94-.94-2.06-.94 2.06-2.06.94z\"/><path d=\"M17.41 7.96l-1.37-1.37c-.4-.4-.92-.59-1.43-.59-.52 0-1.04.2-1.43.59L10.3 9.45l-7.72 7.72c-.78.78-.78 2.05 0 2.83L4 21.41c.39.39.9.59 1.41.59.51 0 1.02-.2 1.41-.59l7.78-7.78 2.81-2.81c.8-.78.8-2.07 0-2.86zM5.41 20L4 18.59l7.72-7.72 1.47 1.35L5.41 20z\"/>\n",
              "  </svg>\n",
              "      </button>\n",
              "      \n",
              "  <style>\n",
              "    .colab-df-container {\n",
              "      display:flex;\n",
              "      flex-wrap:wrap;\n",
              "      gap: 12px;\n",
              "    }\n",
              "\n",
              "    .colab-df-convert {\n",
              "      background-color: #E8F0FE;\n",
              "      border: none;\n",
              "      border-radius: 50%;\n",
              "      cursor: pointer;\n",
              "      display: none;\n",
              "      fill: #1967D2;\n",
              "      height: 32px;\n",
              "      padding: 0 0 0 0;\n",
              "      width: 32px;\n",
              "    }\n",
              "\n",
              "    .colab-df-convert:hover {\n",
              "      background-color: #E2EBFA;\n",
              "      box-shadow: 0px 1px 2px rgba(60, 64, 67, 0.3), 0px 1px 3px 1px rgba(60, 64, 67, 0.15);\n",
              "      fill: #174EA6;\n",
              "    }\n",
              "\n",
              "    [theme=dark] .colab-df-convert {\n",
              "      background-color: #3B4455;\n",
              "      fill: #D2E3FC;\n",
              "    }\n",
              "\n",
              "    [theme=dark] .colab-df-convert:hover {\n",
              "      background-color: #434B5C;\n",
              "      box-shadow: 0px 1px 3px 1px rgba(0, 0, 0, 0.15);\n",
              "      filter: drop-shadow(0px 1px 2px rgba(0, 0, 0, 0.3));\n",
              "      fill: #FFFFFF;\n",
              "    }\n",
              "  </style>\n",
              "\n",
              "      <script>\n",
              "        const buttonEl =\n",
              "          document.querySelector('#df-c48b5e1f-d009-4bb2-9ad7-0ad543e35256 button.colab-df-convert');\n",
              "        buttonEl.style.display =\n",
              "          google.colab.kernel.accessAllowed ? 'block' : 'none';\n",
              "\n",
              "        async function convertToInteractive(key) {\n",
              "          const element = document.querySelector('#df-c48b5e1f-d009-4bb2-9ad7-0ad543e35256');\n",
              "          const dataTable =\n",
              "            await google.colab.kernel.invokeFunction('convertToInteractive',\n",
              "                                                     [key], {});\n",
              "          if (!dataTable) return;\n",
              "\n",
              "          const docLinkHtml = 'Like what you see? Visit the ' +\n",
              "            '<a target=\"_blank\" href=https://colab.research.google.com/notebooks/data_table.ipynb>data table notebook</a>'\n",
              "            + ' to learn more about interactive tables.';\n",
              "          element.innerHTML = '';\n",
              "          dataTable['output_type'] = 'display_data';\n",
              "          await google.colab.output.renderOutput(dataTable, element);\n",
              "          const docLink = document.createElement('div');\n",
              "          docLink.innerHTML = docLinkHtml;\n",
              "          element.appendChild(docLink);\n",
              "        }\n",
              "      </script>\n",
              "    </div>\n",
              "  </div>\n",
              "  "
            ]
          },
          "metadata": {},
          "execution_count": 93
        }
      ]
    },
    {
      "cell_type": "code",
      "source": [
        "mob=mobile.copy()"
      ],
      "metadata": {
        "id": "Uite5jWQcdsi"
      },
      "execution_count": 94,
      "outputs": []
    },
    {
      "cell_type": "code",
      "source": [
        "mob.shape"
      ],
      "metadata": {
        "colab": {
          "base_uri": "https://localhost:8080/"
        },
        "id": "1IG4nTQmcioz",
        "outputId": "de39df83-32ec-40fa-b18f-428f37399baa"
      },
      "execution_count": 95,
      "outputs": [
        {
          "output_type": "execute_result",
          "data": {
            "text/plain": [
              "(10841, 13)"
            ]
          },
          "metadata": {},
          "execution_count": 95
        }
      ]
    },
    {
      "cell_type": "code",
      "source": [
        "mob.info()"
      ],
      "metadata": {
        "colab": {
          "base_uri": "https://localhost:8080/"
        },
        "id": "pbNu3jH-clPb",
        "outputId": "3565ab91-689b-48aa-8a4d-c697e60dae82"
      },
      "execution_count": 96,
      "outputs": [
        {
          "output_type": "stream",
          "name": "stdout",
          "text": [
            "<class 'pandas.core.frame.DataFrame'>\n",
            "RangeIndex: 10841 entries, 0 to 10840\n",
            "Data columns (total 13 columns):\n",
            " #   Column          Non-Null Count  Dtype  \n",
            "---  ------          --------------  -----  \n",
            " 0   App             10841 non-null  object \n",
            " 1   Category        10841 non-null  object \n",
            " 2   Rating          9367 non-null   float64\n",
            " 3   Reviews         10841 non-null  object \n",
            " 4   Size            10841 non-null  object \n",
            " 5   Installs        10841 non-null  object \n",
            " 6   Type            10840 non-null  object \n",
            " 7   Price           10841 non-null  object \n",
            " 8   Content Rating  10840 non-null  object \n",
            " 9   Genres          10841 non-null  object \n",
            " 10  Last Updated    10841 non-null  object \n",
            " 11  Current Ver     10833 non-null  object \n",
            " 12  Android Ver     10838 non-null  object \n",
            "dtypes: float64(1), object(12)\n",
            "memory usage: 1.1+ MB\n"
          ]
        }
      ]
    },
    {
      "cell_type": "code",
      "source": [
        "mob.describe()"
      ],
      "metadata": {
        "colab": {
          "base_uri": "https://localhost:8080/",
          "height": 300
        },
        "id": "ztnCTHa8cq90",
        "outputId": "ed99f689-83a3-499c-af5b-50d47fc8fbbf"
      },
      "execution_count": 97,
      "outputs": [
        {
          "output_type": "execute_result",
          "data": {
            "text/plain": [
              "            Rating\n",
              "count  9367.000000\n",
              "mean      4.193338\n",
              "std       0.537431\n",
              "min       1.000000\n",
              "25%       4.000000\n",
              "50%       4.300000\n",
              "75%       4.500000\n",
              "max      19.000000"
            ],
            "text/html": [
              "\n",
              "  <div id=\"df-febcedfa-e487-4095-a8e9-0c13d20fb016\">\n",
              "    <div class=\"colab-df-container\">\n",
              "      <div>\n",
              "<style scoped>\n",
              "    .dataframe tbody tr th:only-of-type {\n",
              "        vertical-align: middle;\n",
              "    }\n",
              "\n",
              "    .dataframe tbody tr th {\n",
              "        vertical-align: top;\n",
              "    }\n",
              "\n",
              "    .dataframe thead th {\n",
              "        text-align: right;\n",
              "    }\n",
              "</style>\n",
              "<table border=\"1\" class=\"dataframe\">\n",
              "  <thead>\n",
              "    <tr style=\"text-align: right;\">\n",
              "      <th></th>\n",
              "      <th>Rating</th>\n",
              "    </tr>\n",
              "  </thead>\n",
              "  <tbody>\n",
              "    <tr>\n",
              "      <th>count</th>\n",
              "      <td>9367.000000</td>\n",
              "    </tr>\n",
              "    <tr>\n",
              "      <th>mean</th>\n",
              "      <td>4.193338</td>\n",
              "    </tr>\n",
              "    <tr>\n",
              "      <th>std</th>\n",
              "      <td>0.537431</td>\n",
              "    </tr>\n",
              "    <tr>\n",
              "      <th>min</th>\n",
              "      <td>1.000000</td>\n",
              "    </tr>\n",
              "    <tr>\n",
              "      <th>25%</th>\n",
              "      <td>4.000000</td>\n",
              "    </tr>\n",
              "    <tr>\n",
              "      <th>50%</th>\n",
              "      <td>4.300000</td>\n",
              "    </tr>\n",
              "    <tr>\n",
              "      <th>75%</th>\n",
              "      <td>4.500000</td>\n",
              "    </tr>\n",
              "    <tr>\n",
              "      <th>max</th>\n",
              "      <td>19.000000</td>\n",
              "    </tr>\n",
              "  </tbody>\n",
              "</table>\n",
              "</div>\n",
              "      <button class=\"colab-df-convert\" onclick=\"convertToInteractive('df-febcedfa-e487-4095-a8e9-0c13d20fb016')\"\n",
              "              title=\"Convert this dataframe to an interactive table.\"\n",
              "              style=\"display:none;\">\n",
              "        \n",
              "  <svg xmlns=\"http://www.w3.org/2000/svg\" height=\"24px\"viewBox=\"0 0 24 24\"\n",
              "       width=\"24px\">\n",
              "    <path d=\"M0 0h24v24H0V0z\" fill=\"none\"/>\n",
              "    <path d=\"M18.56 5.44l.94 2.06.94-2.06 2.06-.94-2.06-.94-.94-2.06-.94 2.06-2.06.94zm-11 1L8.5 8.5l.94-2.06 2.06-.94-2.06-.94L8.5 2.5l-.94 2.06-2.06.94zm10 10l.94 2.06.94-2.06 2.06-.94-2.06-.94-.94-2.06-.94 2.06-2.06.94z\"/><path d=\"M17.41 7.96l-1.37-1.37c-.4-.4-.92-.59-1.43-.59-.52 0-1.04.2-1.43.59L10.3 9.45l-7.72 7.72c-.78.78-.78 2.05 0 2.83L4 21.41c.39.39.9.59 1.41.59.51 0 1.02-.2 1.41-.59l7.78-7.78 2.81-2.81c.8-.78.8-2.07 0-2.86zM5.41 20L4 18.59l7.72-7.72 1.47 1.35L5.41 20z\"/>\n",
              "  </svg>\n",
              "      </button>\n",
              "      \n",
              "  <style>\n",
              "    .colab-df-container {\n",
              "      display:flex;\n",
              "      flex-wrap:wrap;\n",
              "      gap: 12px;\n",
              "    }\n",
              "\n",
              "    .colab-df-convert {\n",
              "      background-color: #E8F0FE;\n",
              "      border: none;\n",
              "      border-radius: 50%;\n",
              "      cursor: pointer;\n",
              "      display: none;\n",
              "      fill: #1967D2;\n",
              "      height: 32px;\n",
              "      padding: 0 0 0 0;\n",
              "      width: 32px;\n",
              "    }\n",
              "\n",
              "    .colab-df-convert:hover {\n",
              "      background-color: #E2EBFA;\n",
              "      box-shadow: 0px 1px 2px rgba(60, 64, 67, 0.3), 0px 1px 3px 1px rgba(60, 64, 67, 0.15);\n",
              "      fill: #174EA6;\n",
              "    }\n",
              "\n",
              "    [theme=dark] .colab-df-convert {\n",
              "      background-color: #3B4455;\n",
              "      fill: #D2E3FC;\n",
              "    }\n",
              "\n",
              "    [theme=dark] .colab-df-convert:hover {\n",
              "      background-color: #434B5C;\n",
              "      box-shadow: 0px 1px 3px 1px rgba(0, 0, 0, 0.15);\n",
              "      filter: drop-shadow(0px 1px 2px rgba(0, 0, 0, 0.3));\n",
              "      fill: #FFFFFF;\n",
              "    }\n",
              "  </style>\n",
              "\n",
              "      <script>\n",
              "        const buttonEl =\n",
              "          document.querySelector('#df-febcedfa-e487-4095-a8e9-0c13d20fb016 button.colab-df-convert');\n",
              "        buttonEl.style.display =\n",
              "          google.colab.kernel.accessAllowed ? 'block' : 'none';\n",
              "\n",
              "        async function convertToInteractive(key) {\n",
              "          const element = document.querySelector('#df-febcedfa-e487-4095-a8e9-0c13d20fb016');\n",
              "          const dataTable =\n",
              "            await google.colab.kernel.invokeFunction('convertToInteractive',\n",
              "                                                     [key], {});\n",
              "          if (!dataTable) return;\n",
              "\n",
              "          const docLinkHtml = 'Like what you see? Visit the ' +\n",
              "            '<a target=\"_blank\" href=https://colab.research.google.com/notebooks/data_table.ipynb>data table notebook</a>'\n",
              "            + ' to learn more about interactive tables.';\n",
              "          element.innerHTML = '';\n",
              "          dataTable['output_type'] = 'display_data';\n",
              "          await google.colab.output.renderOutput(dataTable, element);\n",
              "          const docLink = document.createElement('div');\n",
              "          docLink.innerHTML = docLinkHtml;\n",
              "          element.appendChild(docLink);\n",
              "        }\n",
              "      </script>\n",
              "    </div>\n",
              "  </div>\n",
              "  "
            ]
          },
          "metadata": {},
          "execution_count": 97
        }
      ]
    },
    {
      "cell_type": "code",
      "source": [
        "mob.isnull().sum()"
      ],
      "metadata": {
        "colab": {
          "base_uri": "https://localhost:8080/"
        },
        "id": "t2Xd3goqcrAV",
        "outputId": "a9e1909a-9d51-4f76-9fcc-23fc4f8af3ed"
      },
      "execution_count": 98,
      "outputs": [
        {
          "output_type": "execute_result",
          "data": {
            "text/plain": [
              "App                  0\n",
              "Category             0\n",
              "Rating            1474\n",
              "Reviews              0\n",
              "Size                 0\n",
              "Installs             0\n",
              "Type                 1\n",
              "Price                0\n",
              "Content Rating       1\n",
              "Genres               0\n",
              "Last Updated         0\n",
              "Current Ver          8\n",
              "Android Ver          3\n",
              "dtype: int64"
            ]
          },
          "metadata": {},
          "execution_count": 98
        }
      ]
    },
    {
      "cell_type": "markdown",
      "source": [
        "# Data Cleaning"
      ],
      "metadata": {
        "id": "G9m8Wz2nHW3v"
      }
    },
    {
      "cell_type": "markdown",
      "source": [
        "Fixing Null value in type column"
      ],
      "metadata": {
        "id": "pav6c4JgK_cr"
      }
    },
    {
      "cell_type": "code",
      "source": [
        "mob[mob.Type.isnull()]"
      ],
      "metadata": {
        "colab": {
          "base_uri": "https://localhost:8080/",
          "height": 214
        },
        "id": "uV0YhHCmdAzT",
        "outputId": "a0254195-a75a-41f1-c7ad-8fea937f9ac8"
      },
      "execution_count": 99,
      "outputs": [
        {
          "output_type": "execute_result",
          "data": {
            "text/plain": [
              "                            App Category  Rating Reviews                Size  \\\n",
              "9148  Command & Conquer: Rivals   FAMILY     NaN       0  Varies with device   \n",
              "\n",
              "     Installs Type Price Content Rating    Genres   Last Updated  \\\n",
              "9148        0  NaN     0   Everyone 10+  Strategy  June 28, 2018   \n",
              "\n",
              "             Current Ver         Android Ver  \n",
              "9148  Varies with device  Varies with device  "
            ],
            "text/html": [
              "\n",
              "  <div id=\"df-abf37da7-0cac-440c-8786-ff875a267a9a\">\n",
              "    <div class=\"colab-df-container\">\n",
              "      <div>\n",
              "<style scoped>\n",
              "    .dataframe tbody tr th:only-of-type {\n",
              "        vertical-align: middle;\n",
              "    }\n",
              "\n",
              "    .dataframe tbody tr th {\n",
              "        vertical-align: top;\n",
              "    }\n",
              "\n",
              "    .dataframe thead th {\n",
              "        text-align: right;\n",
              "    }\n",
              "</style>\n",
              "<table border=\"1\" class=\"dataframe\">\n",
              "  <thead>\n",
              "    <tr style=\"text-align: right;\">\n",
              "      <th></th>\n",
              "      <th>App</th>\n",
              "      <th>Category</th>\n",
              "      <th>Rating</th>\n",
              "      <th>Reviews</th>\n",
              "      <th>Size</th>\n",
              "      <th>Installs</th>\n",
              "      <th>Type</th>\n",
              "      <th>Price</th>\n",
              "      <th>Content Rating</th>\n",
              "      <th>Genres</th>\n",
              "      <th>Last Updated</th>\n",
              "      <th>Current Ver</th>\n",
              "      <th>Android Ver</th>\n",
              "    </tr>\n",
              "  </thead>\n",
              "  <tbody>\n",
              "    <tr>\n",
              "      <th>9148</th>\n",
              "      <td>Command &amp; Conquer: Rivals</td>\n",
              "      <td>FAMILY</td>\n",
              "      <td>NaN</td>\n",
              "      <td>0</td>\n",
              "      <td>Varies with device</td>\n",
              "      <td>0</td>\n",
              "      <td>NaN</td>\n",
              "      <td>0</td>\n",
              "      <td>Everyone 10+</td>\n",
              "      <td>Strategy</td>\n",
              "      <td>June 28, 2018</td>\n",
              "      <td>Varies with device</td>\n",
              "      <td>Varies with device</td>\n",
              "    </tr>\n",
              "  </tbody>\n",
              "</table>\n",
              "</div>\n",
              "      <button class=\"colab-df-convert\" onclick=\"convertToInteractive('df-abf37da7-0cac-440c-8786-ff875a267a9a')\"\n",
              "              title=\"Convert this dataframe to an interactive table.\"\n",
              "              style=\"display:none;\">\n",
              "        \n",
              "  <svg xmlns=\"http://www.w3.org/2000/svg\" height=\"24px\"viewBox=\"0 0 24 24\"\n",
              "       width=\"24px\">\n",
              "    <path d=\"M0 0h24v24H0V0z\" fill=\"none\"/>\n",
              "    <path d=\"M18.56 5.44l.94 2.06.94-2.06 2.06-.94-2.06-.94-.94-2.06-.94 2.06-2.06.94zm-11 1L8.5 8.5l.94-2.06 2.06-.94-2.06-.94L8.5 2.5l-.94 2.06-2.06.94zm10 10l.94 2.06.94-2.06 2.06-.94-2.06-.94-.94-2.06-.94 2.06-2.06.94z\"/><path d=\"M17.41 7.96l-1.37-1.37c-.4-.4-.92-.59-1.43-.59-.52 0-1.04.2-1.43.59L10.3 9.45l-7.72 7.72c-.78.78-.78 2.05 0 2.83L4 21.41c.39.39.9.59 1.41.59.51 0 1.02-.2 1.41-.59l7.78-7.78 2.81-2.81c.8-.78.8-2.07 0-2.86zM5.41 20L4 18.59l7.72-7.72 1.47 1.35L5.41 20z\"/>\n",
              "  </svg>\n",
              "      </button>\n",
              "      \n",
              "  <style>\n",
              "    .colab-df-container {\n",
              "      display:flex;\n",
              "      flex-wrap:wrap;\n",
              "      gap: 12px;\n",
              "    }\n",
              "\n",
              "    .colab-df-convert {\n",
              "      background-color: #E8F0FE;\n",
              "      border: none;\n",
              "      border-radius: 50%;\n",
              "      cursor: pointer;\n",
              "      display: none;\n",
              "      fill: #1967D2;\n",
              "      height: 32px;\n",
              "      padding: 0 0 0 0;\n",
              "      width: 32px;\n",
              "    }\n",
              "\n",
              "    .colab-df-convert:hover {\n",
              "      background-color: #E2EBFA;\n",
              "      box-shadow: 0px 1px 2px rgba(60, 64, 67, 0.3), 0px 1px 3px 1px rgba(60, 64, 67, 0.15);\n",
              "      fill: #174EA6;\n",
              "    }\n",
              "\n",
              "    [theme=dark] .colab-df-convert {\n",
              "      background-color: #3B4455;\n",
              "      fill: #D2E3FC;\n",
              "    }\n",
              "\n",
              "    [theme=dark] .colab-df-convert:hover {\n",
              "      background-color: #434B5C;\n",
              "      box-shadow: 0px 1px 3px 1px rgba(0, 0, 0, 0.15);\n",
              "      filter: drop-shadow(0px 1px 2px rgba(0, 0, 0, 0.3));\n",
              "      fill: #FFFFFF;\n",
              "    }\n",
              "  </style>\n",
              "\n",
              "      <script>\n",
              "        const buttonEl =\n",
              "          document.querySelector('#df-abf37da7-0cac-440c-8786-ff875a267a9a button.colab-df-convert');\n",
              "        buttonEl.style.display =\n",
              "          google.colab.kernel.accessAllowed ? 'block' : 'none';\n",
              "\n",
              "        async function convertToInteractive(key) {\n",
              "          const element = document.querySelector('#df-abf37da7-0cac-440c-8786-ff875a267a9a');\n",
              "          const dataTable =\n",
              "            await google.colab.kernel.invokeFunction('convertToInteractive',\n",
              "                                                     [key], {});\n",
              "          if (!dataTable) return;\n",
              "\n",
              "          const docLinkHtml = 'Like what you see? Visit the ' +\n",
              "            '<a target=\"_blank\" href=https://colab.research.google.com/notebooks/data_table.ipynb>data table notebook</a>'\n",
              "            + ' to learn more about interactive tables.';\n",
              "          element.innerHTML = '';\n",
              "          dataTable['output_type'] = 'display_data';\n",
              "          await google.colab.output.renderOutput(dataTable, element);\n",
              "          const docLink = document.createElement('div');\n",
              "          docLink.innerHTML = docLinkHtml;\n",
              "          element.appendChild(docLink);\n",
              "        }\n",
              "      </script>\n",
              "    </div>\n",
              "  </div>\n",
              "  "
            ]
          },
          "metadata": {},
          "execution_count": 99
        }
      ]
    },
    {
      "cell_type": "code",
      "source": [
        "# since we can observe that the price of the datapoint where type null is 0, therefore we can guess the value in type column as \"Free\"\n",
        "# changing the value from null to free\n",
        "\n",
        "mob.Type.fillna('Free', inplace = True)"
      ],
      "metadata": {
        "id": "NngxAUqxLF_r"
      },
      "execution_count": 100,
      "outputs": []
    },
    {
      "cell_type": "code",
      "source": [
        "mob.info()"
      ],
      "metadata": {
        "colab": {
          "base_uri": "https://localhost:8080/"
        },
        "id": "nErNBUqVLu-m",
        "outputId": "64ac9d56-c005-404b-8615-a483f2e5c49f"
      },
      "execution_count": 101,
      "outputs": [
        {
          "output_type": "stream",
          "name": "stdout",
          "text": [
            "<class 'pandas.core.frame.DataFrame'>\n",
            "RangeIndex: 10841 entries, 0 to 10840\n",
            "Data columns (total 13 columns):\n",
            " #   Column          Non-Null Count  Dtype  \n",
            "---  ------          --------------  -----  \n",
            " 0   App             10841 non-null  object \n",
            " 1   Category        10841 non-null  object \n",
            " 2   Rating          9367 non-null   float64\n",
            " 3   Reviews         10841 non-null  object \n",
            " 4   Size            10841 non-null  object \n",
            " 5   Installs        10841 non-null  object \n",
            " 6   Type            10841 non-null  object \n",
            " 7   Price           10841 non-null  object \n",
            " 8   Content Rating  10840 non-null  object \n",
            " 9   Genres          10841 non-null  object \n",
            " 10  Last Updated    10841 non-null  object \n",
            " 11  Current Ver     10833 non-null  object \n",
            " 12  Android Ver     10838 non-null  object \n",
            "dtypes: float64(1), object(12)\n",
            "memory usage: 1.1+ MB\n"
          ]
        }
      ]
    },
    {
      "cell_type": "code",
      "source": [
        "# change the name of the column app to \"App_Name\""
      ],
      "metadata": {
        "id": "YNyvy9lMdOn7"
      },
      "execution_count": 102,
      "outputs": []
    },
    {
      "cell_type": "code",
      "source": [
        "mob.rename(columns={'App': 'App_Name'}, inplace=True)"
      ],
      "metadata": {
        "id": "Davrtc4bc5nn"
      },
      "execution_count": 103,
      "outputs": []
    },
    {
      "cell_type": "code",
      "source": [
        "mob.columns"
      ],
      "metadata": {
        "colab": {
          "base_uri": "https://localhost:8080/"
        },
        "id": "y6BDN6vUc5pw",
        "outputId": "bcc68866-4d1c-4b5d-a46f-e8a60f23dba7"
      },
      "execution_count": 104,
      "outputs": [
        {
          "output_type": "execute_result",
          "data": {
            "text/plain": [
              "Index(['App_Name', 'Category', 'Rating', 'Reviews', 'Size', 'Installs', 'Type',\n",
              "       'Price', 'Content Rating', 'Genres', 'Last Updated', 'Current Ver',\n",
              "       'Android Ver'],\n",
              "      dtype='object')"
            ]
          },
          "metadata": {},
          "execution_count": 104
        }
      ]
    },
    {
      "cell_type": "code",
      "source": [
        "#how many diff values are there in the 'category' column\n",
        "mob.Category.unique()"
      ],
      "metadata": {
        "id": "vFA6XAefgL-c",
        "colab": {
          "base_uri": "https://localhost:8080/"
        },
        "outputId": "9ba25f46-ba7d-4900-e8b3-f8be8e696cf9"
      },
      "execution_count": 105,
      "outputs": [
        {
          "output_type": "execute_result",
          "data": {
            "text/plain": [
              "array(['ART_AND_DESIGN', 'AUTO_AND_VEHICLES', 'BEAUTY',\n",
              "       'BOOKS_AND_REFERENCE', 'BUSINESS', 'COMICS', 'COMMUNICATION',\n",
              "       'DATING', 'EDUCATION', 'ENTERTAINMENT', 'EVENTS', 'FINANCE',\n",
              "       'FOOD_AND_DRINK', 'HEALTH_AND_FITNESS', 'HOUSE_AND_HOME',\n",
              "       'LIBRARIES_AND_DEMO', 'LIFESTYLE', 'GAME', 'FAMILY', 'MEDICAL',\n",
              "       'SOCIAL', 'SHOPPING', 'PHOTOGRAPHY', 'SPORTS', 'TRAVEL_AND_LOCAL',\n",
              "       'TOOLS', 'PERSONALIZATION', 'PRODUCTIVITY', 'PARENTING', 'WEATHER',\n",
              "       'VIDEO_PLAYERS', 'NEWS_AND_MAGAZINES', 'MAPS_AND_NAVIGATION',\n",
              "       '1.9'], dtype=object)"
            ]
          },
          "metadata": {},
          "execution_count": 105
        }
      ]
    },
    {
      "cell_type": "code",
      "source": [
        "mob.Category.nunique()"
      ],
      "metadata": {
        "colab": {
          "base_uri": "https://localhost:8080/"
        },
        "id": "Al0H93Wpfiie",
        "outputId": "1037af7d-10f5-40eb-97e4-c226aaf6e0d4"
      },
      "execution_count": 106,
      "outputs": [
        {
          "output_type": "execute_result",
          "data": {
            "text/plain": [
              "34"
            ]
          },
          "metadata": {},
          "execution_count": 106
        }
      ]
    },
    {
      "cell_type": "markdown",
      "source": [
        "fixing Rating column"
      ],
      "metadata": {
        "id": "wVwlIbtAM1pL"
      }
    },
    {
      "cell_type": "code",
      "source": [
        "# finding the maximum and minimum rating\n",
        "mob.Rating.max()"
      ],
      "metadata": {
        "colab": {
          "base_uri": "https://localhost:8080/"
        },
        "id": "GcW4jruWMgym",
        "outputId": "7eea85fb-e331-4ee4-8082-0827255be03f"
      },
      "execution_count": 107,
      "outputs": [
        {
          "output_type": "execute_result",
          "data": {
            "text/plain": [
              "19.0"
            ]
          },
          "metadata": {},
          "execution_count": 107
        }
      ]
    },
    {
      "cell_type": "code",
      "source": [
        "mob.Rating.min()"
      ],
      "metadata": {
        "colab": {
          "base_uri": "https://localhost:8080/"
        },
        "id": "xRlcShA8MsV2",
        "outputId": "94cc9ca7-bfca-4450-fc2f-beb65baabcc9"
      },
      "execution_count": 108,
      "outputs": [
        {
          "output_type": "execute_result",
          "data": {
            "text/plain": [
              "1.0"
            ]
          },
          "metadata": {},
          "execution_count": 108
        }
      ]
    },
    {
      "cell_type": "code",
      "source": [
        "#show all apps where rating is 19.0 (only Display the app name)\n",
        "\n",
        "mob[[\"App_Name\"]][mob.Rating==19.0]"
      ],
      "metadata": {
        "id": "6epdiScthS71",
        "colab": {
          "base_uri": "https://localhost:8080/",
          "height": 81
        },
        "outputId": "c326d8e0-7595-40c8-b58d-45d43a6dfcb6"
      },
      "execution_count": 109,
      "outputs": [
        {
          "output_type": "execute_result",
          "data": {
            "text/plain": [
              "                                      App_Name\n",
              "10472  Life Made WI-Fi Touchscreen Photo Frame"
            ],
            "text/html": [
              "\n",
              "  <div id=\"df-0db8d6cc-aca9-45a9-8735-565744e45ee9\">\n",
              "    <div class=\"colab-df-container\">\n",
              "      <div>\n",
              "<style scoped>\n",
              "    .dataframe tbody tr th:only-of-type {\n",
              "        vertical-align: middle;\n",
              "    }\n",
              "\n",
              "    .dataframe tbody tr th {\n",
              "        vertical-align: top;\n",
              "    }\n",
              "\n",
              "    .dataframe thead th {\n",
              "        text-align: right;\n",
              "    }\n",
              "</style>\n",
              "<table border=\"1\" class=\"dataframe\">\n",
              "  <thead>\n",
              "    <tr style=\"text-align: right;\">\n",
              "      <th></th>\n",
              "      <th>App_Name</th>\n",
              "    </tr>\n",
              "  </thead>\n",
              "  <tbody>\n",
              "    <tr>\n",
              "      <th>10472</th>\n",
              "      <td>Life Made WI-Fi Touchscreen Photo Frame</td>\n",
              "    </tr>\n",
              "  </tbody>\n",
              "</table>\n",
              "</div>\n",
              "      <button class=\"colab-df-convert\" onclick=\"convertToInteractive('df-0db8d6cc-aca9-45a9-8735-565744e45ee9')\"\n",
              "              title=\"Convert this dataframe to an interactive table.\"\n",
              "              style=\"display:none;\">\n",
              "        \n",
              "  <svg xmlns=\"http://www.w3.org/2000/svg\" height=\"24px\"viewBox=\"0 0 24 24\"\n",
              "       width=\"24px\">\n",
              "    <path d=\"M0 0h24v24H0V0z\" fill=\"none\"/>\n",
              "    <path d=\"M18.56 5.44l.94 2.06.94-2.06 2.06-.94-2.06-.94-.94-2.06-.94 2.06-2.06.94zm-11 1L8.5 8.5l.94-2.06 2.06-.94-2.06-.94L8.5 2.5l-.94 2.06-2.06.94zm10 10l.94 2.06.94-2.06 2.06-.94-2.06-.94-.94-2.06-.94 2.06-2.06.94z\"/><path d=\"M17.41 7.96l-1.37-1.37c-.4-.4-.92-.59-1.43-.59-.52 0-1.04.2-1.43.59L10.3 9.45l-7.72 7.72c-.78.78-.78 2.05 0 2.83L4 21.41c.39.39.9.59 1.41.59.51 0 1.02-.2 1.41-.59l7.78-7.78 2.81-2.81c.8-.78.8-2.07 0-2.86zM5.41 20L4 18.59l7.72-7.72 1.47 1.35L5.41 20z\"/>\n",
              "  </svg>\n",
              "      </button>\n",
              "      \n",
              "  <style>\n",
              "    .colab-df-container {\n",
              "      display:flex;\n",
              "      flex-wrap:wrap;\n",
              "      gap: 12px;\n",
              "    }\n",
              "\n",
              "    .colab-df-convert {\n",
              "      background-color: #E8F0FE;\n",
              "      border: none;\n",
              "      border-radius: 50%;\n",
              "      cursor: pointer;\n",
              "      display: none;\n",
              "      fill: #1967D2;\n",
              "      height: 32px;\n",
              "      padding: 0 0 0 0;\n",
              "      width: 32px;\n",
              "    }\n",
              "\n",
              "    .colab-df-convert:hover {\n",
              "      background-color: #E2EBFA;\n",
              "      box-shadow: 0px 1px 2px rgba(60, 64, 67, 0.3), 0px 1px 3px 1px rgba(60, 64, 67, 0.15);\n",
              "      fill: #174EA6;\n",
              "    }\n",
              "\n",
              "    [theme=dark] .colab-df-convert {\n",
              "      background-color: #3B4455;\n",
              "      fill: #D2E3FC;\n",
              "    }\n",
              "\n",
              "    [theme=dark] .colab-df-convert:hover {\n",
              "      background-color: #434B5C;\n",
              "      box-shadow: 0px 1px 3px 1px rgba(0, 0, 0, 0.15);\n",
              "      filter: drop-shadow(0px 1px 2px rgba(0, 0, 0, 0.3));\n",
              "      fill: #FFFFFF;\n",
              "    }\n",
              "  </style>\n",
              "\n",
              "      <script>\n",
              "        const buttonEl =\n",
              "          document.querySelector('#df-0db8d6cc-aca9-45a9-8735-565744e45ee9 button.colab-df-convert');\n",
              "        buttonEl.style.display =\n",
              "          google.colab.kernel.accessAllowed ? 'block' : 'none';\n",
              "\n",
              "        async function convertToInteractive(key) {\n",
              "          const element = document.querySelector('#df-0db8d6cc-aca9-45a9-8735-565744e45ee9');\n",
              "          const dataTable =\n",
              "            await google.colab.kernel.invokeFunction('convertToInteractive',\n",
              "                                                     [key], {});\n",
              "          if (!dataTable) return;\n",
              "\n",
              "          const docLinkHtml = 'Like what you see? Visit the ' +\n",
              "            '<a target=\"_blank\" href=https://colab.research.google.com/notebooks/data_table.ipynb>data table notebook</a>'\n",
              "            + ' to learn more about interactive tables.';\n",
              "          element.innerHTML = '';\n",
              "          dataTable['output_type'] = 'display_data';\n",
              "          await google.colab.output.renderOutput(dataTable, element);\n",
              "          const docLink = document.createElement('div');\n",
              "          docLink.innerHTML = docLinkHtml;\n",
              "          element.appendChild(docLink);\n",
              "        }\n",
              "      </script>\n",
              "    </div>\n",
              "  </div>\n",
              "  "
            ]
          },
          "metadata": {},
          "execution_count": 109
        }
      ]
    },
    {
      "cell_type": "code",
      "source": [
        "mob.iloc[10472]"
      ],
      "metadata": {
        "colab": {
          "base_uri": "https://localhost:8080/"
        },
        "id": "5DFoqtyHgEiM",
        "outputId": "419f0df8-9ecd-4455-ba2b-c10600d50618"
      },
      "execution_count": 110,
      "outputs": [
        {
          "output_type": "execute_result",
          "data": {
            "text/plain": [
              "App_Name          Life Made WI-Fi Touchscreen Photo Frame\n",
              "Category                                              1.9\n",
              "Rating                                               19.0\n",
              "Reviews                                              3.0M\n",
              "Size                                               1,000+\n",
              "Installs                                             Free\n",
              "Type                                                    0\n",
              "Price                                            Everyone\n",
              "Content Rating                                        NaN\n",
              "Genres                                  February 11, 2018\n",
              "Last Updated                                       1.0.19\n",
              "Current Ver                                    4.0 and up\n",
              "Android Ver                                           NaN\n",
              "Name: 10472, dtype: object"
            ]
          },
          "metadata": {},
          "execution_count": 110
        }
      ]
    },
    {
      "cell_type": "code",
      "source": [
        "# in the above datapoint the values are shifted one step top."
      ],
      "metadata": {
        "id": "4qBAezYbhbrW"
      },
      "execution_count": 111,
      "outputs": []
    },
    {
      "cell_type": "code",
      "source": [
        "#show the applications wrt their rating in desc order\n",
        "mob.sort_values('Rating',ascending=False)"
      ],
      "metadata": {
        "id": "-jowE0Sthbtx",
        "colab": {
          "base_uri": "https://localhost:8080/",
          "height": 696
        },
        "outputId": "dd45ee72-a970-450f-ed16-8865a055a4a4"
      },
      "execution_count": 112,
      "outputs": [
        {
          "output_type": "execute_result",
          "data": {
            "text/plain": [
              "                                      App_Name             Category  Rating  \\\n",
              "10472  Life Made WI-Fi Touchscreen Photo Frame                  1.9    19.0   \n",
              "9511                  Ek Bander Ne Kholi Dukan               FAMILY     5.0   \n",
              "10166                     FA Player Essentials               SPORTS     5.0   \n",
              "7895                Dine In CT - Food Delivery             SHOPPING     5.0   \n",
              "5118                          Eternal Light AG               SOCIAL     5.0   \n",
              "...                                        ...                  ...     ...   \n",
              "10824                                Cardio-FR              MEDICAL     NaN   \n",
              "10825                       Naruto & Boruto FR               SOCIAL     NaN   \n",
              "10831                 payermonstationnement.fr  MAPS_AND_NAVIGATION     NaN   \n",
              "10835                                 FR Forms             BUSINESS     NaN   \n",
              "10838                   Parkinson Exercices FR              MEDICAL     NaN   \n",
              "\n",
              "      Reviews    Size Installs  Type     Price Content Rating  \\\n",
              "10472    3.0M  1,000+     Free     0  Everyone            NaN   \n",
              "9511       10    3.0M  10,000+  Free         0       Everyone   \n",
              "10166       7     68M     100+  Free         0       Everyone   \n",
              "7895        4    1.6M   1,000+  Free         0       Everyone   \n",
              "5118       30     13M     100+  Free         0           Teen   \n",
              "...       ...     ...      ...   ...       ...            ...   \n",
              "10824      67     82M  10,000+  Free         0       Everyone   \n",
              "10825       7    7.7M     100+  Free         0           Teen   \n",
              "10831      38    9.8M   5,000+  Free         0       Everyone   \n",
              "10835       0    9.6M      10+  Free         0       Everyone   \n",
              "10838       3    9.5M   1,000+  Free         0       Everyone   \n",
              "\n",
              "                  Genres        Last Updated Current Ver   Android Ver  \n",
              "10472  February 11, 2018              1.0.19  4.0 and up           NaN  \n",
              "9511       Entertainment       June 26, 2017       1.0.9    4.0 and up  \n",
              "10166             Sports       July 23, 2018       1.6.0  4.0.3 and up  \n",
              "7895            Shopping        May 16, 2016         1.3    4.0 and up  \n",
              "5118              Social        May 19, 2018        1.04  4.0.3 and up  \n",
              "...                  ...                 ...         ...           ...  \n",
              "10824            Medical       July 31, 2018       2.2.2    4.4 and up  \n",
              "10825             Social    February 2, 2018         1.0    4.0 and up  \n",
              "10831  Maps & Navigation       June 13, 2018   2.0.148.0    4.0 and up  \n",
              "10835           Business  September 29, 2016       1.1.5    4.0 and up  \n",
              "10838            Medical    January 20, 2017         1.0    2.2 and up  \n",
              "\n",
              "[10841 rows x 13 columns]"
            ],
            "text/html": [
              "\n",
              "  <div id=\"df-d9e9dbcb-6790-4ed7-a000-21095e503de6\">\n",
              "    <div class=\"colab-df-container\">\n",
              "      <div>\n",
              "<style scoped>\n",
              "    .dataframe tbody tr th:only-of-type {\n",
              "        vertical-align: middle;\n",
              "    }\n",
              "\n",
              "    .dataframe tbody tr th {\n",
              "        vertical-align: top;\n",
              "    }\n",
              "\n",
              "    .dataframe thead th {\n",
              "        text-align: right;\n",
              "    }\n",
              "</style>\n",
              "<table border=\"1\" class=\"dataframe\">\n",
              "  <thead>\n",
              "    <tr style=\"text-align: right;\">\n",
              "      <th></th>\n",
              "      <th>App_Name</th>\n",
              "      <th>Category</th>\n",
              "      <th>Rating</th>\n",
              "      <th>Reviews</th>\n",
              "      <th>Size</th>\n",
              "      <th>Installs</th>\n",
              "      <th>Type</th>\n",
              "      <th>Price</th>\n",
              "      <th>Content Rating</th>\n",
              "      <th>Genres</th>\n",
              "      <th>Last Updated</th>\n",
              "      <th>Current Ver</th>\n",
              "      <th>Android Ver</th>\n",
              "    </tr>\n",
              "  </thead>\n",
              "  <tbody>\n",
              "    <tr>\n",
              "      <th>10472</th>\n",
              "      <td>Life Made WI-Fi Touchscreen Photo Frame</td>\n",
              "      <td>1.9</td>\n",
              "      <td>19.0</td>\n",
              "      <td>3.0M</td>\n",
              "      <td>1,000+</td>\n",
              "      <td>Free</td>\n",
              "      <td>0</td>\n",
              "      <td>Everyone</td>\n",
              "      <td>NaN</td>\n",
              "      <td>February 11, 2018</td>\n",
              "      <td>1.0.19</td>\n",
              "      <td>4.0 and up</td>\n",
              "      <td>NaN</td>\n",
              "    </tr>\n",
              "    <tr>\n",
              "      <th>9511</th>\n",
              "      <td>Ek Bander Ne Kholi Dukan</td>\n",
              "      <td>FAMILY</td>\n",
              "      <td>5.0</td>\n",
              "      <td>10</td>\n",
              "      <td>3.0M</td>\n",
              "      <td>10,000+</td>\n",
              "      <td>Free</td>\n",
              "      <td>0</td>\n",
              "      <td>Everyone</td>\n",
              "      <td>Entertainment</td>\n",
              "      <td>June 26, 2017</td>\n",
              "      <td>1.0.9</td>\n",
              "      <td>4.0 and up</td>\n",
              "    </tr>\n",
              "    <tr>\n",
              "      <th>10166</th>\n",
              "      <td>FA Player Essentials</td>\n",
              "      <td>SPORTS</td>\n",
              "      <td>5.0</td>\n",
              "      <td>7</td>\n",
              "      <td>68M</td>\n",
              "      <td>100+</td>\n",
              "      <td>Free</td>\n",
              "      <td>0</td>\n",
              "      <td>Everyone</td>\n",
              "      <td>Sports</td>\n",
              "      <td>July 23, 2018</td>\n",
              "      <td>1.6.0</td>\n",
              "      <td>4.0.3 and up</td>\n",
              "    </tr>\n",
              "    <tr>\n",
              "      <th>7895</th>\n",
              "      <td>Dine In CT - Food Delivery</td>\n",
              "      <td>SHOPPING</td>\n",
              "      <td>5.0</td>\n",
              "      <td>4</td>\n",
              "      <td>1.6M</td>\n",
              "      <td>1,000+</td>\n",
              "      <td>Free</td>\n",
              "      <td>0</td>\n",
              "      <td>Everyone</td>\n",
              "      <td>Shopping</td>\n",
              "      <td>May 16, 2016</td>\n",
              "      <td>1.3</td>\n",
              "      <td>4.0 and up</td>\n",
              "    </tr>\n",
              "    <tr>\n",
              "      <th>5118</th>\n",
              "      <td>Eternal Light AG</td>\n",
              "      <td>SOCIAL</td>\n",
              "      <td>5.0</td>\n",
              "      <td>30</td>\n",
              "      <td>13M</td>\n",
              "      <td>100+</td>\n",
              "      <td>Free</td>\n",
              "      <td>0</td>\n",
              "      <td>Teen</td>\n",
              "      <td>Social</td>\n",
              "      <td>May 19, 2018</td>\n",
              "      <td>1.04</td>\n",
              "      <td>4.0.3 and up</td>\n",
              "    </tr>\n",
              "    <tr>\n",
              "      <th>...</th>\n",
              "      <td>...</td>\n",
              "      <td>...</td>\n",
              "      <td>...</td>\n",
              "      <td>...</td>\n",
              "      <td>...</td>\n",
              "      <td>...</td>\n",
              "      <td>...</td>\n",
              "      <td>...</td>\n",
              "      <td>...</td>\n",
              "      <td>...</td>\n",
              "      <td>...</td>\n",
              "      <td>...</td>\n",
              "      <td>...</td>\n",
              "    </tr>\n",
              "    <tr>\n",
              "      <th>10824</th>\n",
              "      <td>Cardio-FR</td>\n",
              "      <td>MEDICAL</td>\n",
              "      <td>NaN</td>\n",
              "      <td>67</td>\n",
              "      <td>82M</td>\n",
              "      <td>10,000+</td>\n",
              "      <td>Free</td>\n",
              "      <td>0</td>\n",
              "      <td>Everyone</td>\n",
              "      <td>Medical</td>\n",
              "      <td>July 31, 2018</td>\n",
              "      <td>2.2.2</td>\n",
              "      <td>4.4 and up</td>\n",
              "    </tr>\n",
              "    <tr>\n",
              "      <th>10825</th>\n",
              "      <td>Naruto &amp; Boruto FR</td>\n",
              "      <td>SOCIAL</td>\n",
              "      <td>NaN</td>\n",
              "      <td>7</td>\n",
              "      <td>7.7M</td>\n",
              "      <td>100+</td>\n",
              "      <td>Free</td>\n",
              "      <td>0</td>\n",
              "      <td>Teen</td>\n",
              "      <td>Social</td>\n",
              "      <td>February 2, 2018</td>\n",
              "      <td>1.0</td>\n",
              "      <td>4.0 and up</td>\n",
              "    </tr>\n",
              "    <tr>\n",
              "      <th>10831</th>\n",
              "      <td>payermonstationnement.fr</td>\n",
              "      <td>MAPS_AND_NAVIGATION</td>\n",
              "      <td>NaN</td>\n",
              "      <td>38</td>\n",
              "      <td>9.8M</td>\n",
              "      <td>5,000+</td>\n",
              "      <td>Free</td>\n",
              "      <td>0</td>\n",
              "      <td>Everyone</td>\n",
              "      <td>Maps &amp; Navigation</td>\n",
              "      <td>June 13, 2018</td>\n",
              "      <td>2.0.148.0</td>\n",
              "      <td>4.0 and up</td>\n",
              "    </tr>\n",
              "    <tr>\n",
              "      <th>10835</th>\n",
              "      <td>FR Forms</td>\n",
              "      <td>BUSINESS</td>\n",
              "      <td>NaN</td>\n",
              "      <td>0</td>\n",
              "      <td>9.6M</td>\n",
              "      <td>10+</td>\n",
              "      <td>Free</td>\n",
              "      <td>0</td>\n",
              "      <td>Everyone</td>\n",
              "      <td>Business</td>\n",
              "      <td>September 29, 2016</td>\n",
              "      <td>1.1.5</td>\n",
              "      <td>4.0 and up</td>\n",
              "    </tr>\n",
              "    <tr>\n",
              "      <th>10838</th>\n",
              "      <td>Parkinson Exercices FR</td>\n",
              "      <td>MEDICAL</td>\n",
              "      <td>NaN</td>\n",
              "      <td>3</td>\n",
              "      <td>9.5M</td>\n",
              "      <td>1,000+</td>\n",
              "      <td>Free</td>\n",
              "      <td>0</td>\n",
              "      <td>Everyone</td>\n",
              "      <td>Medical</td>\n",
              "      <td>January 20, 2017</td>\n",
              "      <td>1.0</td>\n",
              "      <td>2.2 and up</td>\n",
              "    </tr>\n",
              "  </tbody>\n",
              "</table>\n",
              "<p>10841 rows × 13 columns</p>\n",
              "</div>\n",
              "      <button class=\"colab-df-convert\" onclick=\"convertToInteractive('df-d9e9dbcb-6790-4ed7-a000-21095e503de6')\"\n",
              "              title=\"Convert this dataframe to an interactive table.\"\n",
              "              style=\"display:none;\">\n",
              "        \n",
              "  <svg xmlns=\"http://www.w3.org/2000/svg\" height=\"24px\"viewBox=\"0 0 24 24\"\n",
              "       width=\"24px\">\n",
              "    <path d=\"M0 0h24v24H0V0z\" fill=\"none\"/>\n",
              "    <path d=\"M18.56 5.44l.94 2.06.94-2.06 2.06-.94-2.06-.94-.94-2.06-.94 2.06-2.06.94zm-11 1L8.5 8.5l.94-2.06 2.06-.94-2.06-.94L8.5 2.5l-.94 2.06-2.06.94zm10 10l.94 2.06.94-2.06 2.06-.94-2.06-.94-.94-2.06-.94 2.06-2.06.94z\"/><path d=\"M17.41 7.96l-1.37-1.37c-.4-.4-.92-.59-1.43-.59-.52 0-1.04.2-1.43.59L10.3 9.45l-7.72 7.72c-.78.78-.78 2.05 0 2.83L4 21.41c.39.39.9.59 1.41.59.51 0 1.02-.2 1.41-.59l7.78-7.78 2.81-2.81c.8-.78.8-2.07 0-2.86zM5.41 20L4 18.59l7.72-7.72 1.47 1.35L5.41 20z\"/>\n",
              "  </svg>\n",
              "      </button>\n",
              "      \n",
              "  <style>\n",
              "    .colab-df-container {\n",
              "      display:flex;\n",
              "      flex-wrap:wrap;\n",
              "      gap: 12px;\n",
              "    }\n",
              "\n",
              "    .colab-df-convert {\n",
              "      background-color: #E8F0FE;\n",
              "      border: none;\n",
              "      border-radius: 50%;\n",
              "      cursor: pointer;\n",
              "      display: none;\n",
              "      fill: #1967D2;\n",
              "      height: 32px;\n",
              "      padding: 0 0 0 0;\n",
              "      width: 32px;\n",
              "    }\n",
              "\n",
              "    .colab-df-convert:hover {\n",
              "      background-color: #E2EBFA;\n",
              "      box-shadow: 0px 1px 2px rgba(60, 64, 67, 0.3), 0px 1px 3px 1px rgba(60, 64, 67, 0.15);\n",
              "      fill: #174EA6;\n",
              "    }\n",
              "\n",
              "    [theme=dark] .colab-df-convert {\n",
              "      background-color: #3B4455;\n",
              "      fill: #D2E3FC;\n",
              "    }\n",
              "\n",
              "    [theme=dark] .colab-df-convert:hover {\n",
              "      background-color: #434B5C;\n",
              "      box-shadow: 0px 1px 3px 1px rgba(0, 0, 0, 0.15);\n",
              "      filter: drop-shadow(0px 1px 2px rgba(0, 0, 0, 0.3));\n",
              "      fill: #FFFFFF;\n",
              "    }\n",
              "  </style>\n",
              "\n",
              "      <script>\n",
              "        const buttonEl =\n",
              "          document.querySelector('#df-d9e9dbcb-6790-4ed7-a000-21095e503de6 button.colab-df-convert');\n",
              "        buttonEl.style.display =\n",
              "          google.colab.kernel.accessAllowed ? 'block' : 'none';\n",
              "\n",
              "        async function convertToInteractive(key) {\n",
              "          const element = document.querySelector('#df-d9e9dbcb-6790-4ed7-a000-21095e503de6');\n",
              "          const dataTable =\n",
              "            await google.colab.kernel.invokeFunction('convertToInteractive',\n",
              "                                                     [key], {});\n",
              "          if (!dataTable) return;\n",
              "\n",
              "          const docLinkHtml = 'Like what you see? Visit the ' +\n",
              "            '<a target=\"_blank\" href=https://colab.research.google.com/notebooks/data_table.ipynb>data table notebook</a>'\n",
              "            + ' to learn more about interactive tables.';\n",
              "          element.innerHTML = '';\n",
              "          dataTable['output_type'] = 'display_data';\n",
              "          await google.colab.output.renderOutput(dataTable, element);\n",
              "          const docLink = document.createElement('div');\n",
              "          docLink.innerHTML = docLinkHtml;\n",
              "          element.appendChild(docLink);\n",
              "        }\n",
              "      </script>\n",
              "    </div>\n",
              "  </div>\n",
              "  "
            ]
          },
          "metadata": {},
          "execution_count": 112
        }
      ]
    },
    {
      "cell_type": "code",
      "source": [
        "# we will shift the values now , creating a copy for safety reasons\n",
        "mob2= mob.copy()"
      ],
      "metadata": {
        "id": "2dBariKohbya"
      },
      "execution_count": 113,
      "outputs": []
    },
    {
      "cell_type": "code",
      "source": [
        "mob2.iloc[10472]"
      ],
      "metadata": {
        "colab": {
          "base_uri": "https://localhost:8080/"
        },
        "id": "149dUlHBhb3v",
        "outputId": "7725f80a-259d-4c5b-f7f2-765e0c9e5c67"
      },
      "execution_count": 114,
      "outputs": [
        {
          "output_type": "execute_result",
          "data": {
            "text/plain": [
              "App_Name          Life Made WI-Fi Touchscreen Photo Frame\n",
              "Category                                              1.9\n",
              "Rating                                               19.0\n",
              "Reviews                                              3.0M\n",
              "Size                                               1,000+\n",
              "Installs                                             Free\n",
              "Type                                                    0\n",
              "Price                                            Everyone\n",
              "Content Rating                                        NaN\n",
              "Genres                                  February 11, 2018\n",
              "Last Updated                                       1.0.19\n",
              "Current Ver                                    4.0 and up\n",
              "Android Ver                                           NaN\n",
              "Name: 10472, dtype: object"
            ]
          },
          "metadata": {},
          "execution_count": 114
        }
      ]
    },
    {
      "cell_type": "code",
      "source": [
        "# shifting values one step down\n",
        "mob2.iloc[10472,1:]=mob2.iloc[10472,1:].shift()"
      ],
      "metadata": {
        "id": "4DA3V_8vhb1z"
      },
      "execution_count": 115,
      "outputs": []
    },
    {
      "cell_type": "code",
      "source": [
        "mob2.iloc[10472]"
      ],
      "metadata": {
        "colab": {
          "base_uri": "https://localhost:8080/"
        },
        "id": "VUHODSVEQR6b",
        "outputId": "73578695-9ea6-44f0-e5d2-e540a28eb549"
      },
      "execution_count": 116,
      "outputs": [
        {
          "output_type": "execute_result",
          "data": {
            "text/plain": [
              "App_Name          Life Made WI-Fi Touchscreen Photo Frame\n",
              "Category                                              NaN\n",
              "Rating                                                1.9\n",
              "Reviews                                              19.0\n",
              "Size                                                 3.0M\n",
              "Installs                                           1,000+\n",
              "Type                                                 Free\n",
              "Price                                                   0\n",
              "Content Rating                                   Everyone\n",
              "Genres                                                NaN\n",
              "Last Updated                            February 11, 2018\n",
              "Current Ver                                        1.0.19\n",
              "Android Ver                                    4.0 and up\n",
              "Name: 10472, dtype: object"
            ]
          },
          "metadata": {},
          "execution_count": 116
        }
      ]
    },
    {
      "cell_type": "code",
      "source": [
        "#done safely now recrete it in the original copy\n",
        "\n",
        "mob.iloc[10472,1:]=mob.iloc[10472,1:].shift()"
      ],
      "metadata": {
        "id": "zvC8Nl6Qhb5w"
      },
      "execution_count": 117,
      "outputs": []
    },
    {
      "cell_type": "code",
      "source": [
        "# data point fixed\n",
        "mob.iloc[10472]"
      ],
      "metadata": {
        "id": "80UK8dQqkvKn",
        "colab": {
          "base_uri": "https://localhost:8080/"
        },
        "outputId": "0e89862c-4948-4f15-bcb8-27bf48d870af"
      },
      "execution_count": 118,
      "outputs": [
        {
          "output_type": "execute_result",
          "data": {
            "text/plain": [
              "App_Name          Life Made WI-Fi Touchscreen Photo Frame\n",
              "Category                                              NaN\n",
              "Rating                                                1.9\n",
              "Reviews                                              19.0\n",
              "Size                                                 3.0M\n",
              "Installs                                           1,000+\n",
              "Type                                                 Free\n",
              "Price                                                   0\n",
              "Content Rating                                   Everyone\n",
              "Genres                                                NaN\n",
              "Last Updated                            February 11, 2018\n",
              "Current Ver                                        1.0.19\n",
              "Android Ver                                    4.0 and up\n",
              "Name: 10472, dtype: object"
            ]
          },
          "metadata": {},
          "execution_count": 118
        }
      ]
    },
    {
      "cell_type": "code",
      "source": [
        "#convert rating into float datatype\n",
        "\n",
        "mob.Rating=mob.Rating.astype(\"float\")"
      ],
      "metadata": {
        "id": "ameJblbCkvM4"
      },
      "execution_count": 119,
      "outputs": []
    },
    {
      "cell_type": "code",
      "source": [
        "#find app name where category is NaN\n",
        "\n",
        "mob.App_Name[mob.Category.isna()]"
      ],
      "metadata": {
        "id": "R6H3yDY4fVtD",
        "colab": {
          "base_uri": "https://localhost:8080/"
        },
        "outputId": "60feb9d4-d13d-400a-fbff-187f8d8ee300"
      },
      "execution_count": 120,
      "outputs": [
        {
          "output_type": "execute_result",
          "data": {
            "text/plain": [
              "10472    Life Made WI-Fi Touchscreen Photo Frame\n",
              "Name: App_Name, dtype: object"
            ]
          },
          "metadata": {},
          "execution_count": 120
        }
      ]
    },
    {
      "cell_type": "markdown",
      "source": [
        "**How can we find out the suitable category for above app ?**\n",
        "\n",
        "We did a series of process to findout the category of the datapoint."
      ],
      "metadata": {
        "id": "UzGTU6smR2HC"
      }
    },
    {
      "cell_type": "code",
      "source": [
        "mob.iloc[10472]"
      ],
      "metadata": {
        "colab": {
          "base_uri": "https://localhost:8080/"
        },
        "id": "RgPaaDIbRno6",
        "outputId": "0c1fb2df-6db5-41b1-8991-bebfe61a6433"
      },
      "execution_count": 121,
      "outputs": [
        {
          "output_type": "execute_result",
          "data": {
            "text/plain": [
              "App_Name          Life Made WI-Fi Touchscreen Photo Frame\n",
              "Category                                              NaN\n",
              "Rating                                                1.9\n",
              "Reviews                                              19.0\n",
              "Size                                                 3.0M\n",
              "Installs                                           1,000+\n",
              "Type                                                 Free\n",
              "Price                                                   0\n",
              "Content Rating                                   Everyone\n",
              "Genres                                                NaN\n",
              "Last Updated                            February 11, 2018\n",
              "Current Ver                                        1.0.19\n",
              "Android Ver                                    4.0 and up\n",
              "Name: 10472, dtype: object"
            ]
          },
          "metadata": {},
          "execution_count": 121
        }
      ]
    },
    {
      "cell_type": "code",
      "source": [
        "mob.Category.unique()"
      ],
      "metadata": {
        "colab": {
          "base_uri": "https://localhost:8080/"
        },
        "id": "7mruPKMfRnj8",
        "outputId": "69439fc4-e31a-48d4-c2dc-bbd162a78d59"
      },
      "execution_count": 122,
      "outputs": [
        {
          "output_type": "execute_result",
          "data": {
            "text/plain": [
              "array(['ART_AND_DESIGN', 'AUTO_AND_VEHICLES', 'BEAUTY',\n",
              "       'BOOKS_AND_REFERENCE', 'BUSINESS', 'COMICS', 'COMMUNICATION',\n",
              "       'DATING', 'EDUCATION', 'ENTERTAINMENT', 'EVENTS', 'FINANCE',\n",
              "       'FOOD_AND_DRINK', 'HEALTH_AND_FITNESS', 'HOUSE_AND_HOME',\n",
              "       'LIBRARIES_AND_DEMO', 'LIFESTYLE', 'GAME', 'FAMILY', 'MEDICAL',\n",
              "       'SOCIAL', 'SHOPPING', 'PHOTOGRAPHY', 'SPORTS', 'TRAVEL_AND_LOCAL',\n",
              "       'TOOLS', 'PERSONALIZATION', 'PRODUCTIVITY', 'PARENTING', 'WEATHER',\n",
              "       'VIDEO_PLAYERS', 'NEWS_AND_MAGAZINES', 'MAPS_AND_NAVIGATION', nan],\n",
              "      dtype=object)"
            ]
          },
          "metadata": {},
          "execution_count": 122
        }
      ]
    },
    {
      "cell_type": "code",
      "source": [
        "var = mob.iloc[10472][0].upper()"
      ],
      "metadata": {
        "id": "EUgXl7QzTFhy"
      },
      "execution_count": 123,
      "outputs": []
    },
    {
      "cell_type": "code",
      "source": [
        "var = var.split()"
      ],
      "metadata": {
        "id": "bTAXzfjfl8Bw"
      },
      "execution_count": 124,
      "outputs": []
    },
    {
      "cell_type": "code",
      "source": [
        "var"
      ],
      "metadata": {
        "id": "yjagt6_Fl8D_",
        "colab": {
          "base_uri": "https://localhost:8080/"
        },
        "outputId": "38297807-3737-46a2-cba8-a56da395d407"
      },
      "execution_count": 125,
      "outputs": [
        {
          "output_type": "execute_result",
          "data": {
            "text/plain": [
              "['LIFE', 'MADE', 'WI-FI', 'TOUCHSCREEN', 'PHOTO', 'FRAME']"
            ]
          },
          "metadata": {},
          "execution_count": 125
        }
      ]
    },
    {
      "cell_type": "code",
      "source": [
        "cat =[]"
      ],
      "metadata": {
        "id": "g0LSebguTYtu"
      },
      "execution_count": 126,
      "outputs": []
    },
    {
      "cell_type": "code",
      "source": [
        "for i in var:\n",
        "  for j,k in zip(mob.App_Name, mob.Category):\n",
        "    if i in j.upper():\n",
        "      print(f'app : {j}, cat : {k}')\n",
        "      cat.append(str(k))"
      ],
      "metadata": {
        "colab": {
          "base_uri": "https://localhost:8080/"
        },
        "id": "lL80GsfHTYr4",
        "outputId": "afc13ad3-abec-4d7e-a416-9072c2a3355a"
      },
      "execution_count": 127,
      "outputs": [
        {
          "output_type": "stream",
          "name": "stdout",
          "text": [
            "app : Hojiboy Tojiboyev Life Hacks, cat : COMICS\n",
            "app : Cougar Dating Life : Date Older Women Sugar Mummy, cat : DATING\n",
            "app : Cougar Dating Life : Date Older Women Sugar Mummy, cat : DATING\n",
            "app : Udacity - Lifelong Learning, cat : EDUCATION\n",
            "app : Udacity - Lifelong Learning, cat : EDUCATION\n",
            "app : My Study Life - School Planner, cat : EDUCATION\n",
            "app : Toca Life: City, cat : EDUCATION\n",
            "app : Toca Life: Hospital, cat : EDUCATION\n",
            "app : Lifetime - Watch Full Episodes & Original Movies, cat : ENTERTAINMENT\n",
            "app : Lifetime - Watch Full Episodes & Original Movies, cat : ENTERTAINMENT\n",
            "app : Lifetime - Watch Full Episodes & Original Movies, cat : ENTERTAINMENT\n",
            "app : MeAuDote - An act of love that saves a life, cat : EVENTS\n",
            "app : Endurance Lifestyle, cat : EVENTS\n",
            "app : Eternal life, cat : LIBRARIES_AND_DEMO\n",
            "app : The Game of Life, cat : GAME\n",
            "app : Moana Island Life, cat : FAMILY\n",
            "app : Toca Life: City, cat : FAMILY\n",
            "app : Barbie Life™, cat : FAMILY\n",
            "app : BioLife Plasma Services, cat : MEDICAL\n",
            "app : HealtheLife, cat : MEDICAL\n",
            "app : Life market, cat : SHOPPING\n",
            "app : lifebox, cat : PRODUCTIVITY\n",
            "app : The first year of a baby's life, cat : PARENTING\n",
            "app : What was I in my Past Life, cat : FAMILY\n",
            "app : AT&T Digital Life, cat : LIFESTYLE\n",
            "app : Jurassic Life: T Rex Simulator, cat : FAMILY\n",
            "app : The Aether: Life as a God, cat : FAMILY\n",
            "app : Avakin Life - 3D virtual world, cat : FAMILY\n",
            "app : Brilliant Quotes: Life, Love, Family & Motivation, cat : BOOKS_AND_REFERENCE\n",
            "app : BW SmartLife, cat : TOOLS\n",
            "app : CB SMART LIFE, cat : TOOLS\n",
            "app : CF Life, cat : FAMILY\n",
            "app : CK Life, cat : HEALTH_AND_FITNESS\n",
            "app : FML F*ck my life + widget, cat : FAMILY\n",
            "app : Battery Doctor-Battery Life Saver & Battery Cooler, cat : TOOLS\n",
            "app : StudentLife.com.cy, cat : NEWS_AND_MAGAZINES\n",
            "app : Thuglife Video Maker, cat : FAMILY\n",
            "app : DG Smart life, cat : TOOLS\n",
            "app : MyLifeOrganized: To-Do List, cat : PRODUCTIVITY\n",
            "app : DP Display Pictures Life Quotes Motivational GM, cat : SOCIAL\n",
            "app : DU Battery Saver - Battery Charger & Battery Life, cat : TOOLS\n",
            "app : MelifeCam-M, cat : VIDEO_PLAYERS\n",
            "app : EG Way Life, cat : SOCIAL\n",
            "app : The Game of Life, cat : GAME\n",
            "app : Lifeguard Beach Rescue ER Emergency Hospital Games, cat : FAMILY\n",
            "app : EU Life Explorer, cat : NEWS_AND_MAGAZINES\n",
            "app : S.O.L : Stone of Life EX, cat : FAMILY\n",
            "app : studentsLife by FH Kärnten, cat : FAMILY\n",
            "app : Life Made WI-Fi Touchscreen Photo Frame, cat : nan\n",
            "app : LifePoint Church - FL, cat : LIFESTYLE\n",
            "app : Current debit card and app made for teens, cat : FINANCE\n",
            "app : Recipes Pastries and homemade pies More than 500 recipes for pastries, cat : FOOD_AND_DRINK\n",
            "app : mySugr: the blood sugar tracker made just for you, cat : MEDICAL\n",
            "app : mySugr: the blood sugar tracker made just for you, cat : MEDICAL\n",
            "app : Wish - Shopping Made Fun, cat : SHOPPING\n",
            "app : Wish - Shopping Made Fun, cat : SHOPPING\n",
            "app : Wish - Shopping Made Fun, cat : SHOPPING\n",
            "app : Zappos – Shoe shopping made simple, cat : SHOPPING\n",
            "app : Etsy: Handmade & Vintage Goods, cat : SHOPPING\n",
            "app : Zappos – Shoe shopping made simple, cat : SHOPPING\n",
            "app : Etsy: Handmade & Vintage Goods, cat : SHOPPING\n",
            "app : Wish - Shopping Made Fun, cat : SHOPPING\n",
            "app : Baby Food - Homemade Recipes, cat : PARENTING\n",
            "app : Wish - Shopping Made Fun, cat : SHOPPING\n",
            "app : V Made, cat : BOOKS_AND_REFERENCE\n",
            "app : mySugr: the blood sugar tracker made just for you, cat : MEDICAL\n",
            "app : Amadeus GR & CY, cat : COMMUNICATION\n",
            "app : DQSalmaan - A fan made App, cat : FAMILY\n",
            "app : Life Made WI-Fi Touchscreen Photo Frame, cat : nan\n",
            "app : AT&T Smart Wi-Fi, cat : TOOLS\n",
            "app : Hotspot Shield Free VPN Proxy & Wi-Fi Security, cat : TOOLS\n",
            "app : osmino Wi-Fi: free WiFi, cat : TOOLS\n",
            "app : Portable Wi-Fi hotspot, cat : COMMUNICATION\n",
            "app : USB BT Wi-Fi Color Terminal Modem, cat : TOOLS\n",
            "app : Wi-Fi Auto-connect, cat : COMMUNICATION\n",
            "app : Smart Wi-Fi Hotspot PRO, cat : COMMUNICATION\n",
            "app : Talkie - Wi-Fi Calling, Chats, File Sharing, cat : COMMUNICATION\n",
            "app : Portable Wi-Fi hotspot Premium, cat : COMMUNICATION\n",
            "app : Avast Wi-Fi Finder, cat : PRODUCTIVITY\n",
            "app : WeFi - Free Fast WiFi Connect & Find Wi-Fi Map, cat : COMMUNICATION\n",
            "app : Talkie Pro - Wi-Fi Calling, Chats, File Sharing, cat : COMMUNICATION\n",
            "app : Safe Wi-Fi, cat : PRODUCTIVITY\n",
            "app : WiFi Monitor Pro - analyzer of Wi-Fi networks, cat : TOOLS\n",
            "app : Wi-Fi Rabbit Unlock Key, cat : TOOLS\n",
            "app : Wi-Fi settings shortcut, cat : TOOLS\n",
            "app : Wi-Fi Master, cat : TOOLS\n",
            "app : Portable Wi-Fi hotspot Free, cat : COMMUNICATION\n",
            "app : Wi-Fi Networks, cat : PRODUCTIVITY\n",
            "app : TownWiFi | Wi-Fi Everywhere, cat : COMMUNICATION\n",
            "app : Jazz Wi-Fi, cat : COMMUNICATION\n",
            "app : Xposed Wi-Fi-Pwd, cat : PERSONALIZATION\n",
            "app : Life Made WI-Fi Touchscreen Photo Frame, cat : nan\n",
            "app : osmino Wi-Fi: free WiFi, cat : TOOLS\n",
            "app : Wi-Fi Visualizer, cat : TOOLS\n",
            "app : Lennox iComfort Wi-Fi, cat : LIFESTYLE\n",
            "app : Free Wi-fi HotspoT, cat : COMMUNICATION\n",
            "app : Life Made WI-Fi Touchscreen Photo Frame, cat : nan\n",
            "app : Photo Editor & Candy Camera & Grid & ScrapBook, cat : ART_AND_DESIGN\n",
            "app : Smoke Effect Photo Maker - Smoke Editor, cat : ART_AND_DESIGN\n",
            "app : Text on Photo - Fonteee, cat : ART_AND_DESIGN\n",
            "app : Name Art Photo Editor - Focus n Filters, cat : ART_AND_DESIGN\n",
            "app : Tattoo Name On My Photo Editor, cat : ART_AND_DESIGN\n",
            "app : Photo Designer - Write your name with shapes, cat : ART_AND_DESIGN\n",
            "app : Boys Photo Editor - Six Pack & Men's Suit, cat : ART_AND_DESIGN\n",
            "app : Animated Photo Editor, cat : ART_AND_DESIGN\n",
            "app : Sad Poetry Photo Frames 2018, cat : ART_AND_DESIGN\n",
            "app : Textgram - write on photos, cat : ART_AND_DESIGN\n",
            "app : BestCam Selfie-selfie, beauty camera, photo editor, cat : BEAUTY\n",
            "app : Selfie Camera Photo Editor & Filter & Sticker, cat : BEAUTY\n",
            "app : Photo Editor 2018, cat : BEAUTY\n",
            "app : Funny Jokes Photos, cat : COMICS\n",
            "app : i miss you quotes and photos, cat : DATING\n",
            "app : PTI Flex Maker, Photo Frame Editor & Songs 2018, cat : EVENTS\n",
            "app : Picktrainer: India's largest photo contest app, cat : EVENTS\n",
            "app : MealLogger-Photo Food Journal, cat : HEALTH_AND_FITNESS\n",
            "app : MealLogger-Photo Food Journal, cat : HEALTH_AND_FITNESS\n",
            "app : Viva Decora - Decoration, Photos, Architecture, House, cat : HOUSE_AND_HOME\n",
            "app : Hide Something - Photo, Video, cat : SOCIAL\n",
            "app : Frontback - Social Photos, cat : SOCIAL\n",
            "app : uCiC- Videos and Photos on demand, cat : SOCIAL\n",
            "app : Shutterfly: Free Prints, Photo Books, Cards, Gifts, cat : PHOTOGRAPHY\n",
            "app : FreePrints – Free Photos Delivered, cat : PHOTOGRAPHY\n",
            "app : Groovebook Photo Books & Gifts, cat : PHOTOGRAPHY\n",
            "app : Moony Lab - Print Photos, Books & Magnets ™, cat : PHOTOGRAPHY\n",
            "app : LALALAB prints your photos, photobooks and magnets, cat : PHOTOGRAPHY\n",
            "app : Google Photos, cat : PHOTOGRAPHY\n",
            "app : LightX Photo Editor & Photo Effects, cat : PHOTOGRAPHY\n",
            "app : Sweet Snap - live filter, Selfie photo edit, cat : PHOTOGRAPHY\n",
            "app : Adobe Photoshop Express:Photo Editor Collage Maker, cat : PHOTOGRAPHY\n",
            "app : HD Camera - Quick Snap Photo & Video, cat : PHOTOGRAPHY\n",
            "app : Waterfall Photo Frames, cat : PHOTOGRAPHY\n",
            "app : Photo frame, cat : PHOTOGRAPHY\n",
            "app : Unicorn Photo, cat : PHOTOGRAPHY\n",
            "app : Makeup Editor -Beauty Photo Editor & Selfie Camera, cat : PHOTOGRAPHY\n",
            "app : Makeup Photo Editor: Makeup Camera & Makeup Editor, cat : PHOTOGRAPHY\n",
            "app : Moto Photo Editor, cat : PHOTOGRAPHY\n",
            "app : Garden Photo Frames - Garden Photo Editor, cat : PHOTOGRAPHY\n",
            "app : Photo Frame, cat : PHOTOGRAPHY\n",
            "app : Selfie Camera - Photo Editor & Filter & Sticker, cat : PHOTOGRAPHY\n",
            "app : Sweet Snap Lite - live filter, Selfie photo editor, cat : PHOTOGRAPHY\n",
            "app : Selfie Camera: Beauty Camera, Photo Editor,Collage, cat : PHOTOGRAPHY\n",
            "app : Night Photo Frame, cat : PHOTOGRAPHY\n",
            "app : Selfie Photo Editor, cat : PHOTOGRAPHY\n",
            "app : BeautyPlus - Easy Photo Editor & Selfie Camera, cat : PHOTOGRAPHY\n",
            "app : My Photo Keyboard, cat : PHOTOGRAPHY\n",
            "app : Kids Photo Frames, cat : PHOTOGRAPHY\n",
            "app : Pencil Photo Sketch-Sketching Drawing Photo Editor, cat : PHOTOGRAPHY\n",
            "app : Pretty Makeup, Beauty Photo Editor & Snappy Camera, cat : PHOTOGRAPHY\n",
            "app : Photo Collage - Layout Editor, cat : PHOTOGRAPHY\n",
            "app : Photo Frames, cat : PHOTOGRAPHY\n",
            "app : Sweet Selfie - selfie camera, beauty cam, photo edit, cat : PHOTOGRAPHY\n",
            "app : Candy selfie - photo editor, live filter camera, cat : PHOTOGRAPHY\n",
            "app : YouCam Perfect - Selfie Photo Editor, cat : PHOTOGRAPHY\n",
            "app : Beauty Makeup – Photo Makeover, cat : PHOTOGRAPHY\n",
            "app : Blur Image Background Editor (Blur Photo Editor), cat : PHOTOGRAPHY\n",
            "app : Google Photos, cat : PHOTOGRAPHY\n",
            "app : Muzy - Share photos & collages, cat : PHOTOGRAPHY\n",
            "app : QuickPic - Photo Gallery with Google Drive Support, cat : PHOTOGRAPHY\n",
            "app : Shutterfly: Free Prints, Photo Books, Cards, Gifts, cat : PHOTOGRAPHY\n",
            "app : Photo Editor Selfie Camera Filter & Mirror Image, cat : PHOTOGRAPHY\n",
            "app : BeautyPlus - Easy Photo Editor & Selfie Camera, cat : PHOTOGRAPHY\n",
            "app : Photo Mixer, cat : PHOTOGRAPHY\n",
            "app : Photo Editor-, cat : PHOTOGRAPHY\n",
            "app : Cymera Camera- Photo Editor, Filter,Collage,Layout, cat : PHOTOGRAPHY\n",
            "app : YouCam Perfect - Selfie Photo Editor, cat : PHOTOGRAPHY\n",
            "app : LINE Camera - Photo editor, cat : PHOTOGRAPHY\n",
            "app : InstaSize Photo Filters & Collage Editor, cat : PHOTOGRAPHY\n",
            "app : KVAD Camera +: Selfie, Photo Filter, Grids, cat : PHOTOGRAPHY\n",
            "app : Candy Camera - selfie, beauty camera, photo editor, cat : PHOTOGRAPHY\n",
            "app : Photo Editor, cat : PHOTOGRAPHY\n",
            "app : Camera360: Selfie Photo Editor with Funny Sticker, cat : PHOTOGRAPHY\n",
            "app : Mega Photo, cat : PHOTOGRAPHY\n",
            "app : Google Photos, cat : PHOTOGRAPHY\n",
            "app : Muzy - Share photos & collages, cat : PHOTOGRAPHY\n",
            "app : QuickPic - Photo Gallery with Google Drive Support, cat : PHOTOGRAPHY\n",
            "app : Shutterfly: Free Prints, Photo Books, Cards, Gifts, cat : PHOTOGRAPHY\n",
            "app : SuperPhoto - Effects & Filters, cat : PHOTOGRAPHY\n",
            "app : Photo Editor Pro, cat : PHOTOGRAPHY\n",
            "app : Beauty Makeup Snappy Collage Photo Editor - Lidow, cat : PHOTOGRAPHY\n",
            "app : Square InPic - Photo Editor & Collage Maker, cat : PHOTOGRAPHY\n",
            "app : Cymera Camera- Photo Editor, Filter,Collage,Layout, cat : PHOTOGRAPHY\n",
            "app : Camera MX - Free Photo & Video Camera, cat : PHOTOGRAPHY\n",
            "app : EyeEm - Camera & Photo Filter, cat : PHOTOGRAPHY\n",
            "app : Candy Camera - selfie, beauty camera, photo editor, cat : PHOTOGRAPHY\n",
            "app : Camera360: Selfie Photo Editor with Funny Sticker, cat : PHOTOGRAPHY\n",
            "app : PhotoWonder: Pro Beauty Photo Editor Collage Maker, cat : PHOTOGRAPHY\n",
            "app : Photo Effects Pro, cat : PHOTOGRAPHY\n",
            "app : Photo Editor Selfie Camera Filter & Mirror Image, cat : PHOTOGRAPHY\n",
            "app : Photo Studio, cat : PHOTOGRAPHY\n",
            "app : Photo Editor Pro, cat : PHOTOGRAPHY\n",
            "app : FilterGrid - Cam&Photo Editor, cat : PHOTOGRAPHY\n",
            "app : Photo Editor-, cat : PHOTOGRAPHY\n",
            "app : Mirror Photo:Editor Collage (HD), cat : PHOTOGRAPHY\n",
            "app : PhotoDirector Photo Editor App, cat : PHOTOGRAPHY\n",
            "app : Pic Collage - Photo Editor, cat : PHOTOGRAPHY\n",
            "app : Photo Editor by Aviary, cat : PHOTOGRAPHY\n",
            "app : Pixlr – Free Photo Editor, cat : PHOTOGRAPHY\n",
            "app : Photo Editor, cat : PHOTOGRAPHY\n",
            "app : Photo Collage Maker, cat : PHOTOGRAPHY\n",
            "app : Cymera Camera- Photo Editor, Filter,Collage,Layout, cat : PHOTOGRAPHY\n",
            "app : Adobe Photoshop Express:Photo Editor Collage Maker, cat : PHOTOGRAPHY\n",
            "app : BeautyPlus - Easy Photo Editor & Selfie Camera, cat : PHOTOGRAPHY\n",
            "app : PicsArt Photo Studio: Collage Maker & Pic Editor, cat : PHOTOGRAPHY\n",
            "app : Photo Collage Editor, cat : PHOTOGRAPHY\n",
            "app : InstaSize Photo Filters & Collage Editor, cat : PHOTOGRAPHY\n",
            "app : Z Camera - Photo Editor, Beauty Selfie, Collage, cat : PHOTOGRAPHY\n",
            "app : PhotoGrid: Video & Pic Collage Maker, Photo Editor, cat : PHOTOGRAPHY\n",
            "app : Candy Camera - selfie, beauty camera, photo editor, cat : PHOTOGRAPHY\n",
            "app : YouCam Perfect - Selfie Photo Editor, cat : PHOTOGRAPHY\n",
            "app : Pixgram- video photo slideshow, cat : PHOTOGRAPHY\n",
            "app : Fotor Photo Editor - Photo Collage & Photo Effects, cat : PHOTOGRAPHY\n",
            "app : Camera360: Selfie Photo Editor with Funny Sticker, cat : PHOTOGRAPHY\n",
            "app : Font Studio- Photo Texts Image, cat : PHOTOGRAPHY\n",
            "app : Add Text To Photo, cat : PHOTOGRAPHY\n",
            "app : Phonto - Text on Photos, cat : PHOTOGRAPHY\n",
            "app : Shutterfly: Free Prints, Photo Books, Cards, Gifts, cat : PHOTOGRAPHY\n",
            "app : Photo Collage - InstaMag, cat : PHOTOGRAPHY\n",
            "app : BeautyPlus - Easy Photo Editor & Selfie Camera, cat : PHOTOGRAPHY\n",
            "app : Meitu – Beauty Cam, Easy Photo Editor, cat : PHOTOGRAPHY\n",
            "app : photo keypad lockscreen, cat : TOOLS\n",
            "app : Keyboard - wallpapers , photos, cat : PERSONALIZATION\n",
            "app : Photo Lock App - Hide Pictures & Videos, cat : PERSONALIZATION\n",
            "app : Romantic Love Photo Frames, cat : PERSONALIZATION\n",
            "app : Family Album Mitene: Private Photo & Video Sharing, cat : PARENTING\n",
            "app : Photo Warp, cat : FAMILY\n",
            "app : Arto: f.infrared photo, cat : PHOTOGRAPHY\n",
            "app : Textgram - write on photos, cat : ART_AND_DESIGN\n",
            "app : Keepsafe Photo Vault: Hide Private Photos & Videos, cat : PHOTOGRAPHY\n",
            "app : PicsArt Photo Studio: Collage Maker & Pic Editor, cat : PHOTOGRAPHY\n",
            "app : S Photo Editor - Collage Maker , Photo Collage, cat : PHOTOGRAPHY\n",
            "app : VivaVideo - Video Editor & Photo Movie, cat : VIDEO_PLAYERS\n",
            "app : B & W Filter for Photo Editor Pro, cat : PERSONALIZATION\n",
            "app : Z Camera - Photo Editor, Beauty Selfie, Collage, cat : PHOTOGRAPHY\n",
            "app : Six Pack Abs Photo Editor, cat : PHOTOGRAPHY\n",
            "app : Photo Compress 2.0 - Ad Free, cat : TOOLS\n",
            "app : Auto Dslr Photo Effect : Auto Focus Effect, cat : PHOTOGRAPHY\n",
            "app : PhotoScan by Google Photos, cat : PHOTOGRAPHY\n",
            "app : Blurfoto : Auto blur photo background & DSLR focus, cat : PHOTOGRAPHY\n",
            "app : Google Photos, cat : PHOTOGRAPHY\n",
            "app : iMediaShare – Photos & Music, cat : VIDEO_PLAYERS\n",
            "app : Photo Editor by BeFunky, cat : PHOTOGRAPHY\n",
            "app : BeautyPlus - Easy Photo Editor & Selfie Camera, cat : PHOTOGRAPHY\n",
            "app : Be Fabulous PHOTO BOOTH, cat : PHOTOGRAPHY\n",
            "app : Adobe Photoshop Fix, cat : PHOTOGRAPHY\n",
            "app : BeFunky Photo Editor Pro, cat : PHOTOGRAPHY\n",
            "app : Photo BG Changer, cat : PHOTOGRAPHY\n",
            "app : PhotoLayers〜Superimpose,Eraser, cat : PHOTOGRAPHY\n",
            "app : Blender BG - Photo Blend With Background, cat : PHOTOGRAPHY\n",
            "app : Simple Photo BG Changer, cat : TOOLS\n",
            "app : Change photo background, cat : PHOTOGRAPHY\n",
            "app : Photo Background Changer 2018 - Blur Background, cat : LIFESTYLE\n",
            "app : B&H Photo Video Pro Audio, cat : SHOPPING\n",
            "app : DSLR Photography Training apps, cat : PHOTOGRAPHY\n",
            "app : Photo Editor - BPhoto, cat : PHOTOGRAPHY\n",
            "app : BK Photography, cat : PHOTOGRAPHY\n",
            "app : Camera MX - Free Photo & Video Camera, cat : PHOTOGRAPHY\n",
            "app : B&W Photo Filter Editor, cat : PHOTOGRAPHY\n",
            "app : Photo Editor by Aviary, cat : PHOTOGRAPHY\n",
            "app : Best CG Photography, cat : FAMILY\n",
            "app : Gold Teeth Photo Editor, cat : PHOTOGRAPHY\n",
            "app : QuickPic - Photo Gallery with Google Drive Support, cat : PHOTOGRAPHY\n",
            "app : CV Maker for Job Applications:Photo Resume Builder, cat : TOOLS\n",
            "app : Cymera Camera- Photo Editor, Filter,Collage,Layout, cat : PHOTOGRAPHY\n",
            "app : LOCX Applock Lock Apps & Photo, cat : PRODUCTIVITY\n",
            "app : Love Collage - Photo Editor, cat : PHOTOGRAPHY\n",
            "app : LINE Camera - Photo editor, cat : PHOTOGRAPHY\n",
            "app : DiskDigger photo recovery, cat : TOOLS\n",
            "app : My Photo Keyboard, cat : PHOTOGRAPHY\n",
            "app : Quik – Free Video Editor for photos, clips, music, cat : VIDEO_PLAYERS\n",
            "app : Inst Download - Video & Photo, cat : VIDEO_PLAYERS\n",
            "app : Best DP and Status (Daily Updates Photos), cat : FAMILY\n",
            "app : DP Photo Editor, cat : PHOTOGRAPHY\n",
            "app : Fifa World Cup 2018: Photo Frame Editor & DP Maker, cat : PHOTOGRAPHY\n",
            "app : DS photo, cat : VIDEO_PLAYERS\n",
            "app : PhotoFrame for Synology DS, cat : PHOTOGRAPHY\n",
            "app : DU Collage Maker - Photo Collage & Grid & Layout, cat : PHOTOGRAPHY\n",
            "app : DV 2019 - EDV Photo & Form, cat : BOOKS_AND_REFERENCE\n",
            "app : DV Lottery Photo, cat : VIDEO_PLAYERS\n",
            "app : DV Lottery Photo Tool, cat : PHOTOGRAPHY\n",
            "app : DV-2019 PHOTO TOOL, cat : FAMILY\n",
            "app : Video Maker with Photo and Music, cat : PHOTOGRAPHY\n",
            "app : Photo Lab Picture Editor: face effects, art frames, cat : PHOTOGRAPHY\n",
            "app : A+ Gallery - Photos & Videos, cat : PHOTOGRAPHY\n",
            "app : Beard Live Camera Photo Editor, cat : BEAUTY\n",
            "app : FilterGrid - Cam&Photo Editor, cat : PHOTOGRAPHY\n",
            "app : FB Photographie, cat : PHOTOGRAPHY\n",
            "app : Download Facebook Photo Albums, cat : TOOLS\n",
            "app : FD VR - Virtual Photo Gallery, cat : FAMILY\n",
            "app : FG Autumn Photo Puzzle, cat : FAMILY\n",
            "app : Ghost In Photo, cat : PHOTOGRAPHY\n",
            "app : Life Made WI-Fi Touchscreen Photo Frame, cat : nan\n",
            "app : PIP Selfie Camera Photo Editor, cat : PHOTOGRAPHY\n",
            "app : PIP-Camera FN Photo Effect, cat : PHOTOGRAPHY\n",
            "app : Photo Editor Collage Maker Pro, cat : PHOTOGRAPHY\n",
            "app : PhotoFunia, cat : PHOTOGRAPHY\n",
            "app : Sad Poetry Photo Frames 2018, cat : ART_AND_DESIGN\n",
            "app : PTI Flex Maker, Photo Frame Editor & Songs 2018, cat : EVENTS\n",
            "app : Waterfall Photo Frames, cat : PHOTOGRAPHY\n",
            "app : Photo frame, cat : PHOTOGRAPHY\n",
            "app : Garden Photo Frames - Garden Photo Editor, cat : PHOTOGRAPHY\n",
            "app : Photo Frame, cat : PHOTOGRAPHY\n",
            "app : Night Photo Frame, cat : PHOTOGRAPHY\n",
            "app : Kids Photo Frames, cat : PHOTOGRAPHY\n",
            "app : Photo Frames, cat : PHOTOGRAPHY\n",
            "app : Romantic Love Photo Frames, cat : PERSONALIZATION\n",
            "app : Fifa World Cup 2018: Photo Frame Editor & DP Maker, cat : PHOTOGRAPHY\n",
            "app : PhotoFrame for Synology DS, cat : PHOTOGRAPHY\n",
            "app : Photo Lab Picture Editor: face effects, art frames, cat : PHOTOGRAPHY\n",
            "app : Life Made WI-Fi Touchscreen Photo Frame, cat : nan\n"
          ]
        }
      ]
    },
    {
      "cell_type": "code",
      "source": [
        "cat"
      ],
      "metadata": {
        "colab": {
          "base_uri": "https://localhost:8080/"
        },
        "id": "eOrfDtxgWLqJ",
        "outputId": "e0899cc0-c8ee-423d-e6ea-ceb2cdddfe28"
      },
      "execution_count": 128,
      "outputs": [
        {
          "output_type": "execute_result",
          "data": {
            "text/plain": [
              "['COMICS',\n",
              " 'DATING',\n",
              " 'DATING',\n",
              " 'EDUCATION',\n",
              " 'EDUCATION',\n",
              " 'EDUCATION',\n",
              " 'EDUCATION',\n",
              " 'EDUCATION',\n",
              " 'ENTERTAINMENT',\n",
              " 'ENTERTAINMENT',\n",
              " 'ENTERTAINMENT',\n",
              " 'EVENTS',\n",
              " 'EVENTS',\n",
              " 'LIBRARIES_AND_DEMO',\n",
              " 'GAME',\n",
              " 'FAMILY',\n",
              " 'FAMILY',\n",
              " 'FAMILY',\n",
              " 'MEDICAL',\n",
              " 'MEDICAL',\n",
              " 'SHOPPING',\n",
              " 'PRODUCTIVITY',\n",
              " 'PARENTING',\n",
              " 'FAMILY',\n",
              " 'LIFESTYLE',\n",
              " 'FAMILY',\n",
              " 'FAMILY',\n",
              " 'FAMILY',\n",
              " 'BOOKS_AND_REFERENCE',\n",
              " 'TOOLS',\n",
              " 'TOOLS',\n",
              " 'FAMILY',\n",
              " 'HEALTH_AND_FITNESS',\n",
              " 'FAMILY',\n",
              " 'TOOLS',\n",
              " 'NEWS_AND_MAGAZINES',\n",
              " 'FAMILY',\n",
              " 'TOOLS',\n",
              " 'PRODUCTIVITY',\n",
              " 'SOCIAL',\n",
              " 'TOOLS',\n",
              " 'VIDEO_PLAYERS',\n",
              " 'SOCIAL',\n",
              " 'GAME',\n",
              " 'FAMILY',\n",
              " 'NEWS_AND_MAGAZINES',\n",
              " 'FAMILY',\n",
              " 'FAMILY',\n",
              " 'nan',\n",
              " 'LIFESTYLE',\n",
              " 'FINANCE',\n",
              " 'FOOD_AND_DRINK',\n",
              " 'MEDICAL',\n",
              " 'MEDICAL',\n",
              " 'SHOPPING',\n",
              " 'SHOPPING',\n",
              " 'SHOPPING',\n",
              " 'SHOPPING',\n",
              " 'SHOPPING',\n",
              " 'SHOPPING',\n",
              " 'SHOPPING',\n",
              " 'SHOPPING',\n",
              " 'PARENTING',\n",
              " 'SHOPPING',\n",
              " 'BOOKS_AND_REFERENCE',\n",
              " 'MEDICAL',\n",
              " 'COMMUNICATION',\n",
              " 'FAMILY',\n",
              " 'nan',\n",
              " 'TOOLS',\n",
              " 'TOOLS',\n",
              " 'TOOLS',\n",
              " 'COMMUNICATION',\n",
              " 'TOOLS',\n",
              " 'COMMUNICATION',\n",
              " 'COMMUNICATION',\n",
              " 'COMMUNICATION',\n",
              " 'COMMUNICATION',\n",
              " 'PRODUCTIVITY',\n",
              " 'COMMUNICATION',\n",
              " 'COMMUNICATION',\n",
              " 'PRODUCTIVITY',\n",
              " 'TOOLS',\n",
              " 'TOOLS',\n",
              " 'TOOLS',\n",
              " 'TOOLS',\n",
              " 'COMMUNICATION',\n",
              " 'PRODUCTIVITY',\n",
              " 'COMMUNICATION',\n",
              " 'COMMUNICATION',\n",
              " 'PERSONALIZATION',\n",
              " 'nan',\n",
              " 'TOOLS',\n",
              " 'TOOLS',\n",
              " 'LIFESTYLE',\n",
              " 'COMMUNICATION',\n",
              " 'nan',\n",
              " 'ART_AND_DESIGN',\n",
              " 'ART_AND_DESIGN',\n",
              " 'ART_AND_DESIGN',\n",
              " 'ART_AND_DESIGN',\n",
              " 'ART_AND_DESIGN',\n",
              " 'ART_AND_DESIGN',\n",
              " 'ART_AND_DESIGN',\n",
              " 'ART_AND_DESIGN',\n",
              " 'ART_AND_DESIGN',\n",
              " 'ART_AND_DESIGN',\n",
              " 'BEAUTY',\n",
              " 'BEAUTY',\n",
              " 'BEAUTY',\n",
              " 'COMICS',\n",
              " 'DATING',\n",
              " 'EVENTS',\n",
              " 'EVENTS',\n",
              " 'HEALTH_AND_FITNESS',\n",
              " 'HEALTH_AND_FITNESS',\n",
              " 'HOUSE_AND_HOME',\n",
              " 'SOCIAL',\n",
              " 'SOCIAL',\n",
              " 'SOCIAL',\n",
              " 'PHOTOGRAPHY',\n",
              " 'PHOTOGRAPHY',\n",
              " 'PHOTOGRAPHY',\n",
              " 'PHOTOGRAPHY',\n",
              " 'PHOTOGRAPHY',\n",
              " 'PHOTOGRAPHY',\n",
              " 'PHOTOGRAPHY',\n",
              " 'PHOTOGRAPHY',\n",
              " 'PHOTOGRAPHY',\n",
              " 'PHOTOGRAPHY',\n",
              " 'PHOTOGRAPHY',\n",
              " 'PHOTOGRAPHY',\n",
              " 'PHOTOGRAPHY',\n",
              " 'PHOTOGRAPHY',\n",
              " 'PHOTOGRAPHY',\n",
              " 'PHOTOGRAPHY',\n",
              " 'PHOTOGRAPHY',\n",
              " 'PHOTOGRAPHY',\n",
              " 'PHOTOGRAPHY',\n",
              " 'PHOTOGRAPHY',\n",
              " 'PHOTOGRAPHY',\n",
              " 'PHOTOGRAPHY',\n",
              " 'PHOTOGRAPHY',\n",
              " 'PHOTOGRAPHY',\n",
              " 'PHOTOGRAPHY',\n",
              " 'PHOTOGRAPHY',\n",
              " 'PHOTOGRAPHY',\n",
              " 'PHOTOGRAPHY',\n",
              " 'PHOTOGRAPHY',\n",
              " 'PHOTOGRAPHY',\n",
              " 'PHOTOGRAPHY',\n",
              " 'PHOTOGRAPHY',\n",
              " 'PHOTOGRAPHY',\n",
              " 'PHOTOGRAPHY',\n",
              " 'PHOTOGRAPHY',\n",
              " 'PHOTOGRAPHY',\n",
              " 'PHOTOGRAPHY',\n",
              " 'PHOTOGRAPHY',\n",
              " 'PHOTOGRAPHY',\n",
              " 'PHOTOGRAPHY',\n",
              " 'PHOTOGRAPHY',\n",
              " 'PHOTOGRAPHY',\n",
              " 'PHOTOGRAPHY',\n",
              " 'PHOTOGRAPHY',\n",
              " 'PHOTOGRAPHY',\n",
              " 'PHOTOGRAPHY',\n",
              " 'PHOTOGRAPHY',\n",
              " 'PHOTOGRAPHY',\n",
              " 'PHOTOGRAPHY',\n",
              " 'PHOTOGRAPHY',\n",
              " 'PHOTOGRAPHY',\n",
              " 'PHOTOGRAPHY',\n",
              " 'PHOTOGRAPHY',\n",
              " 'PHOTOGRAPHY',\n",
              " 'PHOTOGRAPHY',\n",
              " 'PHOTOGRAPHY',\n",
              " 'PHOTOGRAPHY',\n",
              " 'PHOTOGRAPHY',\n",
              " 'PHOTOGRAPHY',\n",
              " 'PHOTOGRAPHY',\n",
              " 'PHOTOGRAPHY',\n",
              " 'PHOTOGRAPHY',\n",
              " 'PHOTOGRAPHY',\n",
              " 'PHOTOGRAPHY',\n",
              " 'PHOTOGRAPHY',\n",
              " 'PHOTOGRAPHY',\n",
              " 'PHOTOGRAPHY',\n",
              " 'PHOTOGRAPHY',\n",
              " 'PHOTOGRAPHY',\n",
              " 'PHOTOGRAPHY',\n",
              " 'PHOTOGRAPHY',\n",
              " 'PHOTOGRAPHY',\n",
              " 'PHOTOGRAPHY',\n",
              " 'PHOTOGRAPHY',\n",
              " 'PHOTOGRAPHY',\n",
              " 'PHOTOGRAPHY',\n",
              " 'PHOTOGRAPHY',\n",
              " 'PHOTOGRAPHY',\n",
              " 'PHOTOGRAPHY',\n",
              " 'PHOTOGRAPHY',\n",
              " 'PHOTOGRAPHY',\n",
              " 'PHOTOGRAPHY',\n",
              " 'PHOTOGRAPHY',\n",
              " 'PHOTOGRAPHY',\n",
              " 'PHOTOGRAPHY',\n",
              " 'PHOTOGRAPHY',\n",
              " 'PHOTOGRAPHY',\n",
              " 'PHOTOGRAPHY',\n",
              " 'PHOTOGRAPHY',\n",
              " 'PHOTOGRAPHY',\n",
              " 'PHOTOGRAPHY',\n",
              " 'PHOTOGRAPHY',\n",
              " 'PHOTOGRAPHY',\n",
              " 'PHOTOGRAPHY',\n",
              " 'PHOTOGRAPHY',\n",
              " 'PHOTOGRAPHY',\n",
              " 'PHOTOGRAPHY',\n",
              " 'PHOTOGRAPHY',\n",
              " 'PHOTOGRAPHY',\n",
              " 'TOOLS',\n",
              " 'PERSONALIZATION',\n",
              " 'PERSONALIZATION',\n",
              " 'PERSONALIZATION',\n",
              " 'PARENTING',\n",
              " 'FAMILY',\n",
              " 'PHOTOGRAPHY',\n",
              " 'ART_AND_DESIGN',\n",
              " 'PHOTOGRAPHY',\n",
              " 'PHOTOGRAPHY',\n",
              " 'PHOTOGRAPHY',\n",
              " 'VIDEO_PLAYERS',\n",
              " 'PERSONALIZATION',\n",
              " 'PHOTOGRAPHY',\n",
              " 'PHOTOGRAPHY',\n",
              " 'TOOLS',\n",
              " 'PHOTOGRAPHY',\n",
              " 'PHOTOGRAPHY',\n",
              " 'PHOTOGRAPHY',\n",
              " 'PHOTOGRAPHY',\n",
              " 'VIDEO_PLAYERS',\n",
              " 'PHOTOGRAPHY',\n",
              " 'PHOTOGRAPHY',\n",
              " 'PHOTOGRAPHY',\n",
              " 'PHOTOGRAPHY',\n",
              " 'PHOTOGRAPHY',\n",
              " 'PHOTOGRAPHY',\n",
              " 'PHOTOGRAPHY',\n",
              " 'PHOTOGRAPHY',\n",
              " 'TOOLS',\n",
              " 'PHOTOGRAPHY',\n",
              " 'LIFESTYLE',\n",
              " 'SHOPPING',\n",
              " 'PHOTOGRAPHY',\n",
              " 'PHOTOGRAPHY',\n",
              " 'PHOTOGRAPHY',\n",
              " 'PHOTOGRAPHY',\n",
              " 'PHOTOGRAPHY',\n",
              " 'PHOTOGRAPHY',\n",
              " 'FAMILY',\n",
              " 'PHOTOGRAPHY',\n",
              " 'PHOTOGRAPHY',\n",
              " 'TOOLS',\n",
              " 'PHOTOGRAPHY',\n",
              " 'PRODUCTIVITY',\n",
              " 'PHOTOGRAPHY',\n",
              " 'PHOTOGRAPHY',\n",
              " 'TOOLS',\n",
              " 'PHOTOGRAPHY',\n",
              " 'VIDEO_PLAYERS',\n",
              " 'VIDEO_PLAYERS',\n",
              " 'FAMILY',\n",
              " 'PHOTOGRAPHY',\n",
              " 'PHOTOGRAPHY',\n",
              " 'VIDEO_PLAYERS',\n",
              " 'PHOTOGRAPHY',\n",
              " 'PHOTOGRAPHY',\n",
              " 'BOOKS_AND_REFERENCE',\n",
              " 'VIDEO_PLAYERS',\n",
              " 'PHOTOGRAPHY',\n",
              " 'FAMILY',\n",
              " 'PHOTOGRAPHY',\n",
              " 'PHOTOGRAPHY',\n",
              " 'PHOTOGRAPHY',\n",
              " 'BEAUTY',\n",
              " 'PHOTOGRAPHY',\n",
              " 'PHOTOGRAPHY',\n",
              " 'TOOLS',\n",
              " 'FAMILY',\n",
              " 'FAMILY',\n",
              " 'PHOTOGRAPHY',\n",
              " 'nan',\n",
              " 'PHOTOGRAPHY',\n",
              " 'PHOTOGRAPHY',\n",
              " 'PHOTOGRAPHY',\n",
              " 'PHOTOGRAPHY',\n",
              " 'ART_AND_DESIGN',\n",
              " 'EVENTS',\n",
              " 'PHOTOGRAPHY',\n",
              " 'PHOTOGRAPHY',\n",
              " 'PHOTOGRAPHY',\n",
              " 'PHOTOGRAPHY',\n",
              " 'PHOTOGRAPHY',\n",
              " 'PHOTOGRAPHY',\n",
              " 'PHOTOGRAPHY',\n",
              " 'PERSONALIZATION',\n",
              " 'PHOTOGRAPHY',\n",
              " 'PHOTOGRAPHY',\n",
              " 'PHOTOGRAPHY',\n",
              " 'nan']"
            ]
          },
          "metadata": {},
          "execution_count": 128
        }
      ]
    },
    {
      "cell_type": "code",
      "source": [
        "test = pd.DataFrame(cat, columns = ['Category'])"
      ],
      "metadata": {
        "id": "rXSBF2V3TYpI"
      },
      "execution_count": 129,
      "outputs": []
    },
    {
      "cell_type": "code",
      "source": [
        "test"
      ],
      "metadata": {
        "colab": {
          "base_uri": "https://localhost:8080/",
          "height": 424
        },
        "id": "51dV691xTYls",
        "outputId": "18923455-c80f-4106-e070-60254ca5fa68"
      },
      "execution_count": 130,
      "outputs": [
        {
          "output_type": "execute_result",
          "data": {
            "text/plain": [
              "            Category\n",
              "0             COMICS\n",
              "1             DATING\n",
              "2             DATING\n",
              "3          EDUCATION\n",
              "4          EDUCATION\n",
              "..               ...\n",
              "304  PERSONALIZATION\n",
              "305      PHOTOGRAPHY\n",
              "306      PHOTOGRAPHY\n",
              "307      PHOTOGRAPHY\n",
              "308              nan\n",
              "\n",
              "[309 rows x 1 columns]"
            ],
            "text/html": [
              "\n",
              "  <div id=\"df-8b2847a2-5a3b-4389-99ad-b9a4ba0f5f30\">\n",
              "    <div class=\"colab-df-container\">\n",
              "      <div>\n",
              "<style scoped>\n",
              "    .dataframe tbody tr th:only-of-type {\n",
              "        vertical-align: middle;\n",
              "    }\n",
              "\n",
              "    .dataframe tbody tr th {\n",
              "        vertical-align: top;\n",
              "    }\n",
              "\n",
              "    .dataframe thead th {\n",
              "        text-align: right;\n",
              "    }\n",
              "</style>\n",
              "<table border=\"1\" class=\"dataframe\">\n",
              "  <thead>\n",
              "    <tr style=\"text-align: right;\">\n",
              "      <th></th>\n",
              "      <th>Category</th>\n",
              "    </tr>\n",
              "  </thead>\n",
              "  <tbody>\n",
              "    <tr>\n",
              "      <th>0</th>\n",
              "      <td>COMICS</td>\n",
              "    </tr>\n",
              "    <tr>\n",
              "      <th>1</th>\n",
              "      <td>DATING</td>\n",
              "    </tr>\n",
              "    <tr>\n",
              "      <th>2</th>\n",
              "      <td>DATING</td>\n",
              "    </tr>\n",
              "    <tr>\n",
              "      <th>3</th>\n",
              "      <td>EDUCATION</td>\n",
              "    </tr>\n",
              "    <tr>\n",
              "      <th>4</th>\n",
              "      <td>EDUCATION</td>\n",
              "    </tr>\n",
              "    <tr>\n",
              "      <th>...</th>\n",
              "      <td>...</td>\n",
              "    </tr>\n",
              "    <tr>\n",
              "      <th>304</th>\n",
              "      <td>PERSONALIZATION</td>\n",
              "    </tr>\n",
              "    <tr>\n",
              "      <th>305</th>\n",
              "      <td>PHOTOGRAPHY</td>\n",
              "    </tr>\n",
              "    <tr>\n",
              "      <th>306</th>\n",
              "      <td>PHOTOGRAPHY</td>\n",
              "    </tr>\n",
              "    <tr>\n",
              "      <th>307</th>\n",
              "      <td>PHOTOGRAPHY</td>\n",
              "    </tr>\n",
              "    <tr>\n",
              "      <th>308</th>\n",
              "      <td>nan</td>\n",
              "    </tr>\n",
              "  </tbody>\n",
              "</table>\n",
              "<p>309 rows × 1 columns</p>\n",
              "</div>\n",
              "      <button class=\"colab-df-convert\" onclick=\"convertToInteractive('df-8b2847a2-5a3b-4389-99ad-b9a4ba0f5f30')\"\n",
              "              title=\"Convert this dataframe to an interactive table.\"\n",
              "              style=\"display:none;\">\n",
              "        \n",
              "  <svg xmlns=\"http://www.w3.org/2000/svg\" height=\"24px\"viewBox=\"0 0 24 24\"\n",
              "       width=\"24px\">\n",
              "    <path d=\"M0 0h24v24H0V0z\" fill=\"none\"/>\n",
              "    <path d=\"M18.56 5.44l.94 2.06.94-2.06 2.06-.94-2.06-.94-.94-2.06-.94 2.06-2.06.94zm-11 1L8.5 8.5l.94-2.06 2.06-.94-2.06-.94L8.5 2.5l-.94 2.06-2.06.94zm10 10l.94 2.06.94-2.06 2.06-.94-2.06-.94-.94-2.06-.94 2.06-2.06.94z\"/><path d=\"M17.41 7.96l-1.37-1.37c-.4-.4-.92-.59-1.43-.59-.52 0-1.04.2-1.43.59L10.3 9.45l-7.72 7.72c-.78.78-.78 2.05 0 2.83L4 21.41c.39.39.9.59 1.41.59.51 0 1.02-.2 1.41-.59l7.78-7.78 2.81-2.81c.8-.78.8-2.07 0-2.86zM5.41 20L4 18.59l7.72-7.72 1.47 1.35L5.41 20z\"/>\n",
              "  </svg>\n",
              "      </button>\n",
              "      \n",
              "  <style>\n",
              "    .colab-df-container {\n",
              "      display:flex;\n",
              "      flex-wrap:wrap;\n",
              "      gap: 12px;\n",
              "    }\n",
              "\n",
              "    .colab-df-convert {\n",
              "      background-color: #E8F0FE;\n",
              "      border: none;\n",
              "      border-radius: 50%;\n",
              "      cursor: pointer;\n",
              "      display: none;\n",
              "      fill: #1967D2;\n",
              "      height: 32px;\n",
              "      padding: 0 0 0 0;\n",
              "      width: 32px;\n",
              "    }\n",
              "\n",
              "    .colab-df-convert:hover {\n",
              "      background-color: #E2EBFA;\n",
              "      box-shadow: 0px 1px 2px rgba(60, 64, 67, 0.3), 0px 1px 3px 1px rgba(60, 64, 67, 0.15);\n",
              "      fill: #174EA6;\n",
              "    }\n",
              "\n",
              "    [theme=dark] .colab-df-convert {\n",
              "      background-color: #3B4455;\n",
              "      fill: #D2E3FC;\n",
              "    }\n",
              "\n",
              "    [theme=dark] .colab-df-convert:hover {\n",
              "      background-color: #434B5C;\n",
              "      box-shadow: 0px 1px 3px 1px rgba(0, 0, 0, 0.15);\n",
              "      filter: drop-shadow(0px 1px 2px rgba(0, 0, 0, 0.3));\n",
              "      fill: #FFFFFF;\n",
              "    }\n",
              "  </style>\n",
              "\n",
              "      <script>\n",
              "        const buttonEl =\n",
              "          document.querySelector('#df-8b2847a2-5a3b-4389-99ad-b9a4ba0f5f30 button.colab-df-convert');\n",
              "        buttonEl.style.display =\n",
              "          google.colab.kernel.accessAllowed ? 'block' : 'none';\n",
              "\n",
              "        async function convertToInteractive(key) {\n",
              "          const element = document.querySelector('#df-8b2847a2-5a3b-4389-99ad-b9a4ba0f5f30');\n",
              "          const dataTable =\n",
              "            await google.colab.kernel.invokeFunction('convertToInteractive',\n",
              "                                                     [key], {});\n",
              "          if (!dataTable) return;\n",
              "\n",
              "          const docLinkHtml = 'Like what you see? Visit the ' +\n",
              "            '<a target=\"_blank\" href=https://colab.research.google.com/notebooks/data_table.ipynb>data table notebook</a>'\n",
              "            + ' to learn more about interactive tables.';\n",
              "          element.innerHTML = '';\n",
              "          dataTable['output_type'] = 'display_data';\n",
              "          await google.colab.output.renderOutput(dataTable, element);\n",
              "          const docLink = document.createElement('div');\n",
              "          docLink.innerHTML = docLinkHtml;\n",
              "          element.appendChild(docLink);\n",
              "        }\n",
              "      </script>\n",
              "    </div>\n",
              "  </div>\n",
              "  "
            ]
          },
          "metadata": {},
          "execution_count": 130
        }
      ]
    },
    {
      "cell_type": "code",
      "source": [
        "test.Category.unique()"
      ],
      "metadata": {
        "colab": {
          "base_uri": "https://localhost:8080/"
        },
        "id": "Q407yigtTYj1",
        "outputId": "aff6a10b-5df3-4d50-fd5d-1f83e0dee6ae"
      },
      "execution_count": 131,
      "outputs": [
        {
          "output_type": "execute_result",
          "data": {
            "text/plain": [
              "array(['COMICS', 'DATING', 'EDUCATION', 'ENTERTAINMENT', 'EVENTS',\n",
              "       'LIBRARIES_AND_DEMO', 'GAME', 'FAMILY', 'MEDICAL', 'SHOPPING',\n",
              "       'PRODUCTIVITY', 'PARENTING', 'LIFESTYLE', 'BOOKS_AND_REFERENCE',\n",
              "       'TOOLS', 'HEALTH_AND_FITNESS', 'NEWS_AND_MAGAZINES', 'SOCIAL',\n",
              "       'VIDEO_PLAYERS', 'nan', 'FINANCE', 'FOOD_AND_DRINK',\n",
              "       'COMMUNICATION', 'PERSONALIZATION', 'ART_AND_DESIGN', 'BEAUTY',\n",
              "       'HOUSE_AND_HOME', 'PHOTOGRAPHY'], dtype=object)"
            ]
          },
          "metadata": {},
          "execution_count": 131
        }
      ]
    },
    {
      "cell_type": "code",
      "source": [
        "test.Category.value_counts()"
      ],
      "metadata": {
        "colab": {
          "base_uri": "https://localhost:8080/"
        },
        "id": "U_wSG7gYUr3-",
        "outputId": "a313f8b6-7ca6-46cc-c383-a8d819a04635"
      },
      "execution_count": 132,
      "outputs": [
        {
          "output_type": "execute_result",
          "data": {
            "text/plain": [
              "PHOTOGRAPHY            155\n",
              "TOOLS                   21\n",
              "FAMILY                  20\n",
              "ART_AND_DESIGN          12\n",
              "COMMUNICATION           12\n",
              "SHOPPING                11\n",
              "VIDEO_PLAYERS            7\n",
              "PRODUCTIVITY             6\n",
              "PERSONALIZATION          6\n",
              "nan                      6\n",
              "EDUCATION                5\n",
              "SOCIAL                   5\n",
              "EVENTS                   5\n",
              "MEDICAL                  5\n",
              "BEAUTY                   4\n",
              "LIFESTYLE                4\n",
              "HEALTH_AND_FITNESS       3\n",
              "ENTERTAINMENT            3\n",
              "DATING                   3\n",
              "BOOKS_AND_REFERENCE      3\n",
              "PARENTING                3\n",
              "NEWS_AND_MAGAZINES       2\n",
              "GAME                     2\n",
              "COMICS                   2\n",
              "FINANCE                  1\n",
              "FOOD_AND_DRINK           1\n",
              "LIBRARIES_AND_DEMO       1\n",
              "HOUSE_AND_HOME           1\n",
              "Name: Category, dtype: int64"
            ]
          },
          "metadata": {},
          "execution_count": 132
        }
      ]
    },
    {
      "cell_type": "markdown",
      "source": [
        "Since we can observe that the most occurence of the app name above is listed in photography category. therefore we can replace the above null with 'photography'"
      ],
      "metadata": {
        "id": "KheXbqO4XFuv"
      }
    },
    {
      "cell_type": "code",
      "source": [
        "# changing the category to 'photography'\n",
        "mob.iloc[10472,1:2] = 'PHOTOGRAPHY'"
      ],
      "metadata": {
        "id": "4olhPTspUr1r"
      },
      "execution_count": 133,
      "outputs": []
    },
    {
      "cell_type": "code",
      "source": [
        "mob.info()"
      ],
      "metadata": {
        "colab": {
          "base_uri": "https://localhost:8080/"
        },
        "id": "gUK6d4YaUrzq",
        "outputId": "0757804d-6e4a-4aca-faba-8412a0433cc6"
      },
      "execution_count": 134,
      "outputs": [
        {
          "output_type": "stream",
          "name": "stdout",
          "text": [
            "<class 'pandas.core.frame.DataFrame'>\n",
            "RangeIndex: 10841 entries, 0 to 10840\n",
            "Data columns (total 13 columns):\n",
            " #   Column          Non-Null Count  Dtype  \n",
            "---  ------          --------------  -----  \n",
            " 0   App_Name        10841 non-null  object \n",
            " 1   Category        10841 non-null  object \n",
            " 2   Rating          9367 non-null   float64\n",
            " 3   Reviews         10841 non-null  object \n",
            " 4   Size            10841 non-null  object \n",
            " 5   Installs        10841 non-null  object \n",
            " 6   Type            10841 non-null  object \n",
            " 7   Price           10841 non-null  object \n",
            " 8   Content Rating  10841 non-null  object \n",
            " 9   Genres          10840 non-null  object \n",
            " 10  Last Updated    10841 non-null  object \n",
            " 11  Current Ver     10833 non-null  object \n",
            " 12  Android Ver     10839 non-null  object \n",
            "dtypes: float64(1), object(12)\n",
            "memory usage: 1.1+ MB\n"
          ]
        }
      ]
    },
    {
      "cell_type": "code",
      "source": [
        "#filling null values rating coloumn\n",
        "\n",
        "mob.Rating.fillna(mob.Rating.mean(), inplace = True)"
      ],
      "metadata": {
        "id": "3f7Xih89l8Gy"
      },
      "execution_count": 135,
      "outputs": []
    },
    {
      "cell_type": "code",
      "source": [
        "mob.info()"
      ],
      "metadata": {
        "colab": {
          "base_uri": "https://localhost:8080/"
        },
        "id": "QVYyTdInl8If",
        "outputId": "811a3e72-b309-4741-97f3-0add57f26b00"
      },
      "execution_count": 136,
      "outputs": [
        {
          "output_type": "stream",
          "name": "stdout",
          "text": [
            "<class 'pandas.core.frame.DataFrame'>\n",
            "RangeIndex: 10841 entries, 0 to 10840\n",
            "Data columns (total 13 columns):\n",
            " #   Column          Non-Null Count  Dtype  \n",
            "---  ------          --------------  -----  \n",
            " 0   App_Name        10841 non-null  object \n",
            " 1   Category        10841 non-null  object \n",
            " 2   Rating          10841 non-null  float64\n",
            " 3   Reviews         10841 non-null  object \n",
            " 4   Size            10841 non-null  object \n",
            " 5   Installs        10841 non-null  object \n",
            " 6   Type            10841 non-null  object \n",
            " 7   Price           10841 non-null  object \n",
            " 8   Content Rating  10841 non-null  object \n",
            " 9   Genres          10840 non-null  object \n",
            " 10  Last Updated    10841 non-null  object \n",
            " 11  Current Ver     10833 non-null  object \n",
            " 12  Android Ver     10839 non-null  object \n",
            "dtypes: float64(1), object(12)\n",
            "memory usage: 1.1+ MB\n"
          ]
        }
      ]
    },
    {
      "cell_type": "code",
      "source": [
        "# converting revies column into integer\n",
        "\n",
        "mob.Reviews = mob.Reviews.astype(int)"
      ],
      "metadata": {
        "id": "s0Li4CrupX6C"
      },
      "execution_count": 137,
      "outputs": []
    },
    {
      "cell_type": "code",
      "source": [
        "# fixing Installs column\n",
        "mob.Installs"
      ],
      "metadata": {
        "colab": {
          "base_uri": "https://localhost:8080/"
        },
        "id": "uZEjAwvdNyZt",
        "outputId": "fd101a81-6700-433b-bcb7-a7cc66a2696b"
      },
      "execution_count": 138,
      "outputs": [
        {
          "output_type": "execute_result",
          "data": {
            "text/plain": [
              "0            10,000+\n",
              "1           500,000+\n",
              "2         5,000,000+\n",
              "3        50,000,000+\n",
              "4           100,000+\n",
              "            ...     \n",
              "10836         5,000+\n",
              "10837           100+\n",
              "10838         1,000+\n",
              "10839         1,000+\n",
              "10840    10,000,000+\n",
              "Name: Installs, Length: 10841, dtype: object"
            ]
          },
          "metadata": {},
          "execution_count": 138
        }
      ]
    },
    {
      "cell_type": "code",
      "source": [
        "#removing these plus sign and commas\n",
        "\n",
        "for i in range(len(mob.Installs)):\n",
        "  if '+' in mob.Installs[i]:\n",
        "    mob.Installs[i] = re.sub(',|.$', '', mob.Installs[i])"
      ],
      "metadata": {
        "colab": {
          "base_uri": "https://localhost:8080/"
        },
        "id": "W_RTolSJpX8_",
        "outputId": "49edaad1-4153-4a3a-c5fd-f13eb565187c"
      },
      "execution_count": 139,
      "outputs": [
        {
          "output_type": "stream",
          "name": "stderr",
          "text": [
            "<ipython-input-139-951bcad7046d>:5: SettingWithCopyWarning: \n",
            "A value is trying to be set on a copy of a slice from a DataFrame\n",
            "\n",
            "See the caveats in the documentation: https://pandas.pydata.org/pandas-docs/stable/user_guide/indexing.html#returning-a-view-versus-a-copy\n",
            "  mob.Installs[i] = re.sub(',|.$', '', mob.Installs[i])\n"
          ]
        }
      ]
    },
    {
      "cell_type": "code",
      "source": [
        "mob.Installs"
      ],
      "metadata": {
        "colab": {
          "base_uri": "https://localhost:8080/"
        },
        "id": "frXP-NqBNyXV",
        "outputId": "7b3c55ee-a29d-4575-b748-f32d34c7bd5c"
      },
      "execution_count": 140,
      "outputs": [
        {
          "output_type": "execute_result",
          "data": {
            "text/plain": [
              "0           10000\n",
              "1          500000\n",
              "2         5000000\n",
              "3        50000000\n",
              "4          100000\n",
              "           ...   \n",
              "10836        5000\n",
              "10837         100\n",
              "10838        1000\n",
              "10839        1000\n",
              "10840    10000000\n",
              "Name: Installs, Length: 10841, dtype: object"
            ]
          },
          "metadata": {},
          "execution_count": 140
        }
      ]
    },
    {
      "cell_type": "code",
      "source": [
        "mob.Installs = mob.Installs.astype(int)"
      ],
      "metadata": {
        "id": "6sl46dCgNyUs"
      },
      "execution_count": 141,
      "outputs": []
    },
    {
      "cell_type": "code",
      "source": [
        "mob.info()"
      ],
      "metadata": {
        "colab": {
          "base_uri": "https://localhost:8080/"
        },
        "id": "KUCj_-1TNySd",
        "outputId": "908830a8-3027-4961-da4c-4ef0804a9a7f"
      },
      "execution_count": 142,
      "outputs": [
        {
          "output_type": "stream",
          "name": "stdout",
          "text": [
            "<class 'pandas.core.frame.DataFrame'>\n",
            "RangeIndex: 10841 entries, 0 to 10840\n",
            "Data columns (total 13 columns):\n",
            " #   Column          Non-Null Count  Dtype  \n",
            "---  ------          --------------  -----  \n",
            " 0   App_Name        10841 non-null  object \n",
            " 1   Category        10841 non-null  object \n",
            " 2   Rating          10841 non-null  float64\n",
            " 3   Reviews         10841 non-null  int64  \n",
            " 4   Size            10841 non-null  object \n",
            " 5   Installs        10841 non-null  int64  \n",
            " 6   Type            10841 non-null  object \n",
            " 7   Price           10841 non-null  object \n",
            " 8   Content Rating  10841 non-null  object \n",
            " 9   Genres          10840 non-null  object \n",
            " 10  Last Updated    10841 non-null  object \n",
            " 11  Current Ver     10833 non-null  object \n",
            " 12  Android Ver     10839 non-null  object \n",
            "dtypes: float64(1), int64(2), object(10)\n",
            "memory usage: 1.1+ MB\n"
          ]
        }
      ]
    },
    {
      "cell_type": "code",
      "source": [
        "#remove dollar signs from price and convert the column into float"
      ],
      "metadata": {
        "id": "SWIebOqJrdCd"
      },
      "execution_count": 143,
      "outputs": []
    },
    {
      "cell_type": "code",
      "source": [
        "mob.Price.unique()"
      ],
      "metadata": {
        "colab": {
          "base_uri": "https://localhost:8080/"
        },
        "id": "BqVTXqB8Q6d2",
        "outputId": "ef825303-b025-4154-a02d-6854a43b84f7"
      },
      "execution_count": 144,
      "outputs": [
        {
          "output_type": "execute_result",
          "data": {
            "text/plain": [
              "array(['0', '$4.99', '$3.99', '$6.99', '$1.49', '$2.99', '$7.99', '$5.99',\n",
              "       '$3.49', '$1.99', '$9.99', '$7.49', '$0.99', '$9.00', '$5.49',\n",
              "       '$10.00', '$24.99', '$11.99', '$79.99', '$16.99', '$14.99',\n",
              "       '$1.00', '$29.99', '$12.99', '$2.49', '$10.99', '$1.50', '$19.99',\n",
              "       '$15.99', '$33.99', '$74.99', '$39.99', '$3.95', '$4.49', '$1.70',\n",
              "       '$8.99', '$2.00', '$3.88', '$25.99', '$399.99', '$17.99',\n",
              "       '$400.00', '$3.02', '$1.76', '$4.84', '$4.77', '$1.61', '$2.50',\n",
              "       '$1.59', '$6.49', '$1.29', '$5.00', '$13.99', '$299.99', '$379.99',\n",
              "       '$37.99', '$18.99', '$389.99', '$19.90', '$8.49', '$1.75',\n",
              "       '$14.00', '$4.85', '$46.99', '$109.99', '$154.99', '$3.08',\n",
              "       '$2.59', '$4.80', '$1.96', '$19.40', '$3.90', '$4.59', '$15.46',\n",
              "       '$3.04', '$4.29', '$2.60', '$3.28', '$4.60', '$28.99', '$2.95',\n",
              "       '$2.90', '$1.97', '$200.00', '$89.99', '$2.56', '$30.99', '$3.61',\n",
              "       '$394.99', '$1.26', '$1.20', '$1.04'], dtype=object)"
            ]
          },
          "metadata": {},
          "execution_count": 144
        }
      ]
    },
    {
      "cell_type": "code",
      "source": [
        "# removing $ sign from it.\n",
        "for i in range(len(mob.Price)):\n",
        "  if '$' in mob.Price[i]:\n",
        "    mob.Price[i] = re.sub('^.','',mob.Price[i])\n"
      ],
      "metadata": {
        "id": "zoak3BmMrdF1",
        "colab": {
          "base_uri": "https://localhost:8080/"
        },
        "outputId": "28bdde30-e6f3-4ff4-acd0-1fdfe01a06e2"
      },
      "execution_count": 145,
      "outputs": [
        {
          "output_type": "stream",
          "name": "stderr",
          "text": [
            "<ipython-input-145-36ca579dbcc5>:4: SettingWithCopyWarning: \n",
            "A value is trying to be set on a copy of a slice from a DataFrame\n",
            "\n",
            "See the caveats in the documentation: https://pandas.pydata.org/pandas-docs/stable/user_guide/indexing.html#returning-a-view-versus-a-copy\n",
            "  mob.Price[i] = re.sub('^.','',mob.Price[i])\n"
          ]
        }
      ]
    },
    {
      "cell_type": "code",
      "source": [
        "# converting Price into Float \n",
        "mob.Price = mob.Price.astype(float)"
      ],
      "metadata": {
        "id": "ZPAyYrxpSyi_"
      },
      "execution_count": 157,
      "outputs": []
    },
    {
      "cell_type": "code",
      "source": [
        "mob.info()"
      ],
      "metadata": {
        "colab": {
          "base_uri": "https://localhost:8080/"
        },
        "id": "OXU4q8zLR7lY",
        "outputId": "9f5c0c67-d6d0-46d1-bb7c-9ccca0e22588"
      },
      "execution_count": 158,
      "outputs": [
        {
          "output_type": "stream",
          "name": "stdout",
          "text": [
            "<class 'pandas.core.frame.DataFrame'>\n",
            "RangeIndex: 10841 entries, 0 to 10840\n",
            "Data columns (total 13 columns):\n",
            " #   Column          Non-Null Count  Dtype  \n",
            "---  ------          --------------  -----  \n",
            " 0   App_Name        10841 non-null  object \n",
            " 1   Category        10841 non-null  object \n",
            " 2   Rating          10841 non-null  float64\n",
            " 3   Reviews         10841 non-null  int64  \n",
            " 4   Size            10841 non-null  object \n",
            " 5   Installs        10841 non-null  int64  \n",
            " 6   Type            10841 non-null  int64  \n",
            " 7   Price           10841 non-null  float64\n",
            " 8   Content Rating  10841 non-null  object \n",
            " 9   Genres          10840 non-null  object \n",
            " 10  Last Updated    10841 non-null  object \n",
            " 11  Current Ver     10833 non-null  object \n",
            " 12  Android Ver     10839 non-null  object \n",
            "dtypes: float64(2), int64(3), object(8)\n",
            "memory usage: 1.1+ MB\n"
          ]
        }
      ]
    },
    {
      "cell_type": "code",
      "source": [
        "mob['Content Rating'].unique()"
      ],
      "metadata": {
        "colab": {
          "base_uri": "https://localhost:8080/"
        },
        "id": "zBsn750VR7i2",
        "outputId": "5c4be81b-ea6e-4983-af36-4a4aba960baa"
      },
      "execution_count": 160,
      "outputs": [
        {
          "output_type": "execute_result",
          "data": {
            "text/plain": [
              "array(['Everyone', 'Teen', 'Everyone 10+', 'Mature 17+',\n",
              "       'Adults only 18+', 'Unrated'], dtype=object)"
            ]
          },
          "metadata": {},
          "execution_count": 160
        }
      ]
    },
    {
      "cell_type": "code",
      "source": [
        "mob['Content Rating'].value_counts()"
      ],
      "metadata": {
        "colab": {
          "base_uri": "https://localhost:8080/"
        },
        "id": "JED8wAVdTCUs",
        "outputId": "e6ecb016-3f78-47be-bd19-c2de5b96ada3"
      },
      "execution_count": 161,
      "outputs": [
        {
          "output_type": "execute_result",
          "data": {
            "text/plain": [
              "Everyone           8715\n",
              "Teen               1208\n",
              "Mature 17+          499\n",
              "Everyone 10+        414\n",
              "Adults only 18+       3\n",
              "Unrated               2\n",
              "Name: Content Rating, dtype: int64"
            ]
          },
          "metadata": {},
          "execution_count": 161
        }
      ]
    },
    {
      "cell_type": "markdown",
      "source": [
        "Everyone    ->       0\n",
        "Teen               1\n",
        "Mature 17+ ->        2\n",
        "Everyone 10+ ->      3\n",
        "Adults only 18+ ->    4\n",
        "Unrated           -> 5"
      ],
      "metadata": {
        "id": "7293tkvUTw01"
      }
    },
    {
      "cell_type": "code",
      "source": [
        "mob['Content Rating'] = mob['Content Rating'].replace(['Everyone', 'Teen', 'Mature 17+', 'Everyone 10+', 'Adults only 18+', 'Unrated'],\n",
        "                                                      [0,1,2,3,4,5])"
      ],
      "metadata": {
        "id": "TUO06Qy6TCSn"
      },
      "execution_count": 162,
      "outputs": []
    },
    {
      "cell_type": "code",
      "source": [
        "mob.info()"
      ],
      "metadata": {
        "colab": {
          "base_uri": "https://localhost:8080/"
        },
        "id": "0Fp5QdpnTCQk",
        "outputId": "5951a757-f328-4735-e48e-05e217e5392a"
      },
      "execution_count": 163,
      "outputs": [
        {
          "output_type": "stream",
          "name": "stdout",
          "text": [
            "<class 'pandas.core.frame.DataFrame'>\n",
            "RangeIndex: 10841 entries, 0 to 10840\n",
            "Data columns (total 13 columns):\n",
            " #   Column          Non-Null Count  Dtype  \n",
            "---  ------          --------------  -----  \n",
            " 0   App_Name        10841 non-null  object \n",
            " 1   Category        10841 non-null  object \n",
            " 2   Rating          10841 non-null  float64\n",
            " 3   Reviews         10841 non-null  int64  \n",
            " 4   Size            10841 non-null  object \n",
            " 5   Installs        10841 non-null  int64  \n",
            " 6   Type            10841 non-null  int64  \n",
            " 7   Price           10841 non-null  float64\n",
            " 8   Content Rating  10841 non-null  int64  \n",
            " 9   Genres          10840 non-null  object \n",
            " 10  Last Updated    10841 non-null  object \n",
            " 11  Current Ver     10833 non-null  object \n",
            " 12  Android Ver     10839 non-null  object \n",
            "dtypes: float64(2), int64(4), object(7)\n",
            "memory usage: 1.1+ MB\n"
          ]
        }
      ]
    },
    {
      "cell_type": "code",
      "source": [
        "mob.Genres.fillna('Photography', inplace = True)"
      ],
      "metadata": {
        "id": "Dq-_tS9wa6yz"
      },
      "execution_count": 166,
      "outputs": []
    },
    {
      "cell_type": "code",
      "source": [
        "mob.info()"
      ],
      "metadata": {
        "colab": {
          "base_uri": "https://localhost:8080/"
        },
        "id": "rsmntN8lUn3k",
        "outputId": "52ae88aa-4631-4800-ced9-12f4df5c4cc3"
      },
      "execution_count": 167,
      "outputs": [
        {
          "output_type": "stream",
          "name": "stdout",
          "text": [
            "<class 'pandas.core.frame.DataFrame'>\n",
            "RangeIndex: 10841 entries, 0 to 10840\n",
            "Data columns (total 13 columns):\n",
            " #   Column          Non-Null Count  Dtype  \n",
            "---  ------          --------------  -----  \n",
            " 0   App_Name        10841 non-null  object \n",
            " 1   Category        10841 non-null  object \n",
            " 2   Rating          10841 non-null  float64\n",
            " 3   Reviews         10841 non-null  int64  \n",
            " 4   Size            10841 non-null  object \n",
            " 5   Installs        10841 non-null  int64  \n",
            " 6   Type            10841 non-null  int64  \n",
            " 7   Price           10841 non-null  float64\n",
            " 8   Content Rating  10841 non-null  int64  \n",
            " 9   Genres          10841 non-null  object \n",
            " 10  Last Updated    10841 non-null  object \n",
            " 11  Current Ver     10833 non-null  object \n",
            " 12  Android Ver     10839 non-null  object \n",
            "dtypes: float64(2), int64(4), object(7)\n",
            "memory usage: 1.1+ MB\n"
          ]
        }
      ]
    },
    {
      "cell_type": "code",
      "source": [
        "# converting free to 0\n",
        "# and paid to 1.\n",
        "mob.Type.replace(['Free','Paid'],[0,1], inplace = True)"
      ],
      "metadata": {
        "id": "wAPSEOdurdJ8"
      },
      "execution_count": 149,
      "outputs": []
    },
    {
      "cell_type": "code",
      "source": [
        "mob['Current Ver']"
      ],
      "metadata": {
        "colab": {
          "base_uri": "https://localhost:8080/"
        },
        "id": "3DqPHhqHMPO_",
        "outputId": "a8adf678-a335-4bf7-ab64-ee593be21d2c"
      },
      "execution_count": 169,
      "outputs": [
        {
          "output_type": "execute_result",
          "data": {
            "text/plain": [
              "0                     1.0.0\n",
              "1                     2.0.0\n",
              "2                     1.2.4\n",
              "3        Varies with device\n",
              "4                       1.1\n",
              "                ...        \n",
              "10836                  1.48\n",
              "10837                   1.0\n",
              "10838                   1.0\n",
              "10839    Varies with device\n",
              "10840    Varies with device\n",
              "Name: Current Ver, Length: 10841, dtype: object"
            ]
          },
          "metadata": {},
          "execution_count": 169
        }
      ]
    },
    {
      "cell_type": "code",
      "source": [
        "mob['Android Ver']"
      ],
      "metadata": {
        "colab": {
          "base_uri": "https://localhost:8080/"
        },
        "id": "IHtxqyozV01x",
        "outputId": "fefb9031-6dd3-44bd-a369-37663a0dd1ce"
      },
      "execution_count": 170,
      "outputs": [
        {
          "output_type": "execute_result",
          "data": {
            "text/plain": [
              "0              4.0.3 and up\n",
              "1              4.0.3 and up\n",
              "2              4.0.3 and up\n",
              "3                4.2 and up\n",
              "4                4.4 and up\n",
              "                ...        \n",
              "10836            4.1 and up\n",
              "10837            4.1 and up\n",
              "10838            2.2 and up\n",
              "10839    Varies with device\n",
              "10840    Varies with device\n",
              "Name: Android Ver, Length: 10841, dtype: object"
            ]
          },
          "metadata": {},
          "execution_count": 170
        }
      ]
    },
    {
      "cell_type": "code",
      "source": [],
      "metadata": {
        "id": "MZ88MRRvV0zM"
      },
      "execution_count": null,
      "outputs": []
    },
    {
      "cell_type": "code",
      "source": [
        "#changing the M K G in the size column to MB, GB, KB\n",
        "'''for i in mob2.Size:\n",
        "  if 'M' in str(i):\n",
        "    mob2.Size[i].replace('M','MB')\n",
        "  elif 'G' in str(i):\n",
        "    mob2.Size[i].replace('G','GB')\n",
        "  elif 'K' in str(i):\n",
        "    mob2.Size[i].replace('K','KB')\n",
        "    \n",
        "   ''' "
      ],
      "metadata": {
        "id": "dcW7XVMLqECM",
        "colab": {
          "base_uri": "https://localhost:8080/",
          "height": 70
        },
        "outputId": "38cc86ba-9bd0-4136-92d0-c35756731531"
      },
      "execution_count": 148,
      "outputs": [
        {
          "output_type": "execute_result",
          "data": {
            "text/plain": [
              "\"for i in mob2.Size:\\n  if 'M' in str(i):\\n    mob2.Size[i].replace('M','MB')\\n  elif 'G' in str(i):\\n    mob2.Size[i].replace('G','GB')\\n  elif 'K' in str(i):\\n    mob2.Size[i].replace('K','KB')\\n    \\n   \""
            ],
            "application/vnd.google.colaboratory.intrinsic+json": {
              "type": "string"
            }
          },
          "metadata": {},
          "execution_count": 148
        }
      ]
    },
    {
      "cell_type": "markdown",
      "source": [
        "# Conclusion"
      ],
      "metadata": {
        "id": "fF9iMe6SWQKN"
      }
    },
    {
      "cell_type": "markdown",
      "source": [
        "Project is not yet complete."
      ],
      "metadata": {
        "id": "rxS_dK6rWXWF"
      }
    }
  ]
}